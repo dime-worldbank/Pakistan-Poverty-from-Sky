{
 "cells": [
  {
   "cell_type": "markdown",
   "id": "ea2270b7",
   "metadata": {},
   "source": [
    "## Examine CNN Results\n",
    "\n",
    "Examine CNN Results. __This code uses R__"
   ]
  },
  {
   "cell_type": "code",
   "execution_count": 1,
   "id": "2f124749",
   "metadata": {},
   "outputs": [
    {
     "name": "stderr",
     "output_type": "stream",
     "text": [
      "Updating HTML index of packages in '.Library'\n",
      "\n",
      "Making 'packages.html' ...\n",
      " done\n",
      "\n"
     ]
    }
   ],
   "source": [
    "install.packages(\"mltest\")"
   ]
  },
  {
   "cell_type": "code",
   "execution_count": 2,
   "id": "9a475ede",
   "metadata": {},
   "outputs": [
    {
     "name": "stderr",
     "output_type": "stream",
     "text": [
      "Warning message:\n",
      "“Your system is mis-configured: ‘/etc/localtime’ is not a symlink”\n",
      "Warning message:\n",
      "“It is strongly recommended to set envionment variable TZ to ‘Etc/UCT’ (or equivalent)”\n",
      "── \u001b[1mAttaching packages\u001b[22m ─────────────────────────────────────── tidyverse 1.3.1 ──\n",
      "\n",
      "\u001b[32m✔\u001b[39m \u001b[34mggplot2\u001b[39m 3.3.3     \u001b[32m✔\u001b[39m \u001b[34mpurrr  \u001b[39m 0.3.4\n",
      "\u001b[32m✔\u001b[39m \u001b[34mtibble \u001b[39m 3.1.1     \u001b[32m✔\u001b[39m \u001b[34mdplyr  \u001b[39m 1.0.5\n",
      "\u001b[32m✔\u001b[39m \u001b[34mtidyr  \u001b[39m 1.1.3     \u001b[32m✔\u001b[39m \u001b[34mstringr\u001b[39m 1.4.0\n",
      "\u001b[32m✔\u001b[39m \u001b[34mreadr  \u001b[39m 1.4.0     \u001b[32m✔\u001b[39m \u001b[34mforcats\u001b[39m 0.5.1\n",
      "\n",
      "── \u001b[1mConflicts\u001b[22m ────────────────────────────────────────── tidyverse_conflicts() ──\n",
      "\u001b[31m✖\u001b[39m \u001b[34mdplyr\u001b[39m::\u001b[32mfilter()\u001b[39m masks \u001b[34mstats\u001b[39m::filter()\n",
      "\u001b[31m✖\u001b[39m \u001b[34mdplyr\u001b[39m::\u001b[32mlag()\u001b[39m    masks \u001b[34mstats\u001b[39m::lag()\n",
      "\n"
     ]
    }
   ],
   "source": [
    "library(tidyverse)\n",
    "library(mltest)\n",
    "\n",
    "# Set up sagemaker\n",
    "library(reticulate)\n",
    "sagemaker <- import('sagemaker')\n",
    "session <- sagemaker$Session()\n",
    "\n",
    "# s3 bucket name\n",
    "s3_bucket = \"worldbank-pakistan-data\""
   ]
  },
  {
   "cell_type": "code",
   "execution_count": 3,
   "id": "e94d0d38",
   "metadata": {},
   "outputs": [],
   "source": [
    "## Load Data\n",
    "param_name = 'Nbands3_nNtlBins3_minNTLbinCount100'\n",
    "year = 2014\n",
    "\n",
    "results_df <- read_csv(session$read_s3_file(s3_bucket, file.path('CNN', param_name,  paste0('cnn_predictions_truth_values_',year,'.csv'))))"
   ]
  },
  {
   "cell_type": "code",
   "execution_count": 4,
   "id": "c1c912bc",
   "metadata": {},
   "outputs": [
    {
     "data": {
      "text/html": [
       "<style>\n",
       ".dl-inline {width: auto; margin:0; padding: 0}\n",
       ".dl-inline>dt, .dl-inline>dd {float: none; width: auto; display: inline-block}\n",
       ".dl-inline>dt::after {content: \":\\0020\"; padding-right: .5ex}\n",
       ".dl-inline>dt:not(:first-of-type) {padding-left: .5ex}\n",
       "</style><dl class=dl-inline><dt>0</dt><dd>0.636363636363636</dd><dt>1</dt><dd>0.5625</dd><dt>2</dt><dd>0.681818181818182</dd></dl>\n"
      ],
      "text/latex": [
       "\\begin{description*}\n",
       "\\item[0] 0.636363636363636\n",
       "\\item[1] 0.5625\n",
       "\\item[2] 0.681818181818182\n",
       "\\end{description*}\n"
      ],
      "text/markdown": [
       "0\n",
       ":   0.6363636363636361\n",
       ":   0.56252\n",
       ":   0.681818181818182\n",
       "\n"
      ],
      "text/plain": [
       "        0         1         2 \n",
       "0.6363636 0.5625000 0.6818182 "
      ]
     },
     "metadata": {},
     "output_type": "display_data"
    },
    {
     "data": {
      "text/html": [
       "<style>\n",
       ".dl-inline {width: auto; margin:0; padding: 0}\n",
       ".dl-inline>dt, .dl-inline>dd {float: none; width: auto; display: inline-block}\n",
       ".dl-inline>dt::after {content: \":\\0020\"; padding-right: .5ex}\n",
       ".dl-inline>dt:not(:first-of-type) {padding-left: .5ex}\n",
       "</style><dl class=dl-inline><dt>0</dt><dd>0.636363636363636</dd><dt>1</dt><dd>0.5625</dd><dt>2</dt><dd>0.681818181818182</dd></dl>\n"
      ],
      "text/latex": [
       "\\begin{description*}\n",
       "\\item[0] 0.636363636363636\n",
       "\\item[1] 0.5625\n",
       "\\item[2] 0.681818181818182\n",
       "\\end{description*}\n"
      ],
      "text/markdown": [
       "0\n",
       ":   0.6363636363636361\n",
       ":   0.56252\n",
       ":   0.681818181818182\n",
       "\n"
      ],
      "text/plain": [
       "        0         1         2 \n",
       "0.6363636 0.5625000 0.6818182 "
      ]
     },
     "metadata": {},
     "output_type": "display_data"
    },
    {
     "data": {
      "text/html": [
       "0.633333333333333"
      ],
      "text/latex": [
       "0.633333333333333"
      ],
      "text/markdown": [
       "0.633333333333333"
      ],
      "text/plain": [
       "[1] 0.6333333"
      ]
     },
     "metadata": {},
     "output_type": "display_data"
    }
   ],
   "source": [
    "## Prep Data\n",
    "r <- ml_test(results_df$predY,\n",
    "             results_df$testY)\n",
    "r$precision\n",
    "r$recall\n",
    "r$accuracy\n",
    "\n",
    "## Figure\n",
    "#results_df %>%\n",
    "#  ggplot() +\n",
    "#  geom_point(aes(x = testY, y = predY),\n",
    "#             size = 1, \n",
    "#             alpha = 1) +\n",
    "#  labs(x = \"Nighttime lights radiance\",\n",
    "#       y = \"Predicted\\nnighttime\\nlights\\nradiance\",\n",
    "#       caption = \"Nighttime lights values are logged\") +\n",
    "#  #theme_ipsum() +\n",
    "#  theme(axis.title.y = element_text(angle = 0, vjust = 0.5),\n",
    "#        plot.caption = element_text(size = 6)) "
   ]
  },
  {
   "cell_type": "code",
   "execution_count": null,
   "id": "06f2ab71",
   "metadata": {},
   "outputs": [],
   "source": []
  },
  {
   "cell_type": "code",
   "execution_count": 6,
   "id": "16e090d1",
   "metadata": {},
   "outputs": [],
   "source": []
  },
  {
   "cell_type": "code",
   "execution_count": null,
   "id": "a9900703",
   "metadata": {},
   "outputs": [],
   "source": []
  },
  {
   "cell_type": "code",
   "execution_count": null,
   "id": "096202b6",
   "metadata": {},
   "outputs": [],
   "source": []
  }
 ],
 "metadata": {
  "kernelspec": {
   "display_name": "R",
   "language": "R",
   "name": "ir"
  },
  "language_info": {
   "codemirror_mode": "r",
   "file_extension": ".r",
   "mimetype": "text/x-r-source",
   "name": "R",
   "pygments_lexer": "r",
   "version": "4.0.3"
  }
 },
 "nbformat": 4,
 "nbformat_minor": 5
}
