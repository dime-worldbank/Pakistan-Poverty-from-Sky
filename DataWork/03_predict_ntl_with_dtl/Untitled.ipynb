{
 "cells": [
  {
   "cell_type": "markdown",
   "metadata": {},
   "source": [
    "## Setup"
   ]
  },
  {
   "cell_type": "code",
   "execution_count": 2,
   "metadata": {},
   "outputs": [
    {
     "data": {
      "text/html": [
       "<p>To authorize access needed by Earth Engine, open the following\n",
       "        URL in a web browser and follow the instructions:</p>\n",
       "        <p><a href=https://accounts.google.com/o/oauth2/auth?client_id=517222506229-vsmmajv00ul0bs7p89v5m89qs8eb9359.apps.googleusercontent.com&scope=https%3A%2F%2Fwww.googleapis.com%2Fauth%2Fearthengine+https%3A%2F%2Fwww.googleapis.com%2Fauth%2Fdevstorage.full_control&redirect_uri=urn%3Aietf%3Awg%3Aoauth%3A2.0%3Aoob&response_type=code&code_challenge=5WpCB0YBoQCY_acZGbGdCMCROx1dUKPycn4_AamNkDQ&code_challenge_method=S256>https://accounts.google.com/o/oauth2/auth?client_id=517222506229-vsmmajv00ul0bs7p89v5m89qs8eb9359.apps.googleusercontent.com&scope=https%3A%2F%2Fwww.googleapis.com%2Fauth%2Fearthengine+https%3A%2F%2Fwww.googleapis.com%2Fauth%2Fdevstorage.full_control&redirect_uri=urn%3Aietf%3Awg%3Aoauth%3A2.0%3Aoob&response_type=code&code_challenge=5WpCB0YBoQCY_acZGbGdCMCROx1dUKPycn4_AamNkDQ&code_challenge_method=S256</a></p>\n",
       "        <p>The authorization workflow will generate a code, which you\n",
       "        should paste in the box below</p>\n",
       "        "
      ],
      "text/plain": [
       "<IPython.core.display.HTML object>"
      ]
     },
     "metadata": {},
     "output_type": "display_data"
    },
    {
     "name": "stdin",
     "output_type": "stream",
     "text": [
      "Enter verification code:  4/1AY0e-g7HRHqJqUlfOFyk9JzzX7qI8pQe3a_DrEl9cOUsulrhBP_G_mBaU-8\n"
     ]
    },
    {
     "name": "stdout",
     "output_type": "stream",
     "text": [
      "\n",
      "Successfully saved authorization token.\n"
     ]
    }
   ],
   "source": [
    "import ee\n",
    "ee.Authenticate()\n",
    "ee.Initialize()"
   ]
  },
  {
   "cell_type": "code",
   "execution_count": 5,
   "metadata": {},
   "outputs": [
    {
     "name": "stderr",
     "output_type": "stream",
     "text": [
      "/Users/robmarty/anaconda3/lib/python3.7/site-packages/xarray/core/merge.py:17: FutureWarning: The Panel class is removed from pandas. Accessing it from the top-level namespace will also be removed in the next version\n",
      "  PANDAS_TYPES = (pd.Series, pd.DataFrame, pd.Panel)\n"
     ]
    }
   ],
   "source": [
    "import numpy as np\n",
    "import geetools\n",
    "from geetools import ui, cloud_mask\n",
    "import os, datetime\n",
    "import config as cf\n",
    "import pandas as pd\n",
    "\n",
    "mask_l8SR_all = cloud_mask.landsatSR()"
   ]
  },
  {
   "cell_type": "code",
   "execution_count": 6,
   "metadata": {},
   "outputs": [],
   "source": [
    "KERNEL_SIZE = 224"
   ]
  },
  {
   "cell_type": "markdown",
   "metadata": {},
   "source": [
    "## Functions"
   ]
  },
  {
   "cell_type": "code",
   "execution_count": 41,
   "metadata": {},
   "outputs": [],
   "source": [
    "def survey_to_fc(survey_df):\n",
    "    '''\n",
    "    Convert pandas dataframe of survey locations to a feature collection. \n",
    "    \n",
    "    Inputs:\n",
    "        survey_df: pandas dataframe of survey locations. Function assumes \n",
    "                   the dataframe contains (1) latitude, (2) longitude and\n",
    "                   (3) uid variables. Assumes coordinates in WGS84.\n",
    "    Returns:\n",
    "        (feature collection)\n",
    "    '''\n",
    "    \n",
    "    survey_fc_list = []\n",
    "    \n",
    "    n_rows = survey_df.shape[0]\n",
    "    for i in range(0, n_rows):\n",
    "        survey_df_i = survey_df.iloc[[i]]\n",
    "\n",
    "        f_i = ee.Feature(ee.Geometry.Point([survey_df_i['longitude'].iloc[0], \n",
    "                                            survey_df_i['latitude'].iloc[0]]), \n",
    "                         {'uid': survey_df_i['uid'].iloc[0]})\n",
    "\n",
    "        survey_fc_list.append(f_i)\n",
    "        \n",
    "    survey_fc = ee.FeatureCollection(survey_fc_list)\n",
    "    \n",
    "    return survey_fc\n",
    "\n",
    "def normalized_diff(values1, values2):\n",
    "    '''\n",
    "    Normalized Difference Value\n",
    "\n",
    "    Input:  values1, values2 (must be same dimensions)\n",
    "\n",
    "    Output: np array\n",
    "    '''\n",
    "\n",
    "    return (values2 - values1)/(values2 + values1)\n",
    "\n",
    "def ee_to_np_l8(f, n_rows):\n",
    "    '''\n",
    "    Transforms feature collection from neighborhood array to np array for landsat 8\n",
    "\n",
    "    Input:  \n",
    "      f (features)\n",
    "      n_rows (number of features)\n",
    "\n",
    "    Output: np array\n",
    "    '''\n",
    "\n",
    "    brgb_all = []\n",
    "    b1_all = []\n",
    "    b5_all = []\n",
    "    b6_all = []\n",
    "    b7_all = []\n",
    "    b10_all = []\n",
    "    b11_all = []\n",
    "    bndvi_all = []\n",
    "    \n",
    "    for i in range(0, n_rows):\n",
    "      f_i = f[i]['properties']\n",
    "\n",
    "      brgb_l = [np.array(f_i['B2']), np.array(f_i['B3']), np.array(f_i['B4'])]\n",
    "      brgb_np = np.stack(brgb_l, axis=-1)\n",
    "      brgb_all.append(brgb_np)\n",
    "\n",
    "      b1_l = np.array(f_i['B1'])\n",
    "      b1_l = np.expand_dims(b1_l, axis=2)\n",
    "      b1_all.append(b1_l)\n",
    "\n",
    "      b5_l = np.array(f_i['B5'])\n",
    "      b5_l = np.expand_dims(b5_l, axis=2)\n",
    "      b5_all.append(b5_l)\n",
    "\n",
    "      b6_l = np.array(f_i['B6'])\n",
    "      b6_l = np.expand_dims(b6_l, axis=2)\n",
    "      b6_all.append(b6_l)\n",
    "\n",
    "      b7_l = np.array(f_i['B7'])\n",
    "      b7_l = np.expand_dims(b7_l, axis=2)\n",
    "      b7_all.append(b7_l)\n",
    "\n",
    "      b10_l = np.array(f_i['B10'])\n",
    "      b10_l = np.expand_dims(b10_l, axis=2)\n",
    "      b10_all.append(b10_l)\n",
    "\n",
    "      b11_l = np.array(f_i['B11'])\n",
    "      b11_l = np.expand_dims(b11_l, axis=2)\n",
    "      b11_all.append(b11_l)\n",
    "\n",
    "      bndvi_l = normalized_diff(np.array(f_i['B5']), np.array(f_i['B4']))\n",
    "      bndvi_l = np.expand_dims(bndvi_l, axis=2)\n",
    "      bndvi_all.append(bndvi_l)\n",
    "        \n",
    "    brgb_all_s = np.stack(brgb_all)\n",
    "    b1_all_s = np.stack(b1_all)\n",
    "    b5_all_s = np.stack(b5_all)\n",
    "    b6_all_s = np.stack(b6_all)\n",
    "    b7_all_s = np.stack(b7_all)\n",
    "    b10_all_s = np.stack(b10_all)\n",
    "    b11_all_s = np.stack(b11_all)\n",
    "    bndvi_all_s = np.stack(bndvi_all)\n",
    "\n",
    "    return brgb_all_s, b1_all_s, b5_all_s, b6_all_s, b7_all_s, b10_all_s, b11_all_s, bndvi_all_s\n",
    "\n",
    "def prep_cnn_np(survey_df,\n",
    "                satellite,\n",
    "                begin_date,\n",
    "                end_date,\n",
    "                kernel_size):\n",
    "    '''\n",
    "    Creates numpy arrays for CNN\n",
    "\n",
    "    Input:  df - pandas dataframe\n",
    "            lat_name - name of latitude variable in df\n",
    "            lon_name - name of longitude variable in df\n",
    "    Output: geopandas dataframe\n",
    "    '''\n",
    "\n",
    "    survey_fc = survey_to_fc(survey_df)\n",
    "    \n",
    "    # Grab satellite and reduce it\n",
    "    if satellite == \"l8\":\n",
    "        BANDS = ['B1', 'B2', 'B3', 'B4', 'B5', 'B6', 'B7', 'B10', 'B11']\n",
    "        SCALE = 30\n",
    "        \n",
    "        image = ee.ImageCollection('LANDSAT/LC08/C01/T1_SR')\\\n",
    "          .filterDate('2017-01-01', '2020-12-31')\\\n",
    "          .map(mask_l8SR_all)\\\n",
    "          .median()\\\n",
    "          .multiply(0.0001)\n",
    "        \n",
    "        image = image.select(BANDS)\n",
    "        \n",
    "    # Image to neighborhood array\n",
    "    list = ee.List.repeat(1, KERNEL_SIZE)\n",
    "    lists = ee.List.repeat(list, KERNEL_SIZE)\n",
    "    kernel = ee.Kernel.fixed(KERNEL_SIZE, KERNEL_SIZE, lists)\n",
    "\n",
    "    arrays = image.neighborhoodToArray(kernel)\n",
    "    \n",
    "    # Extract values from GEE    \n",
    "    values_ee = arrays.sample(\n",
    "      region = survey_fc, \n",
    "      scale = SCALE,\n",
    "      tileScale = 8\n",
    "    )\n",
    "    \n",
    "    dict_ee = values_ee.getInfo()\n",
    "    \n",
    "    # Convert values to numpy array\n",
    "    n_rows = survey_df.shape[0]\n",
    "    f = dict_ee['features']\n",
    "\n",
    "    if satellite == \"l8\":\n",
    "      out = ee_to_np_l8(f, n_rows)\n",
    "\n",
    "    return out\n",
    "\n",
    "def chunk_ids(total_length, chunk_size):\n",
    "\n",
    "  n_numbers = np.ceil(total_length / chunk_size)\n",
    "  n_numbers = int(n_numbers)\n",
    "\n",
    "  chunk_ids = list(range(0,n_numbers)) * chunk_size\n",
    "  chunk_ids.sort()\n",
    "  chunk_ids = chunk_ids[:total_length]\n",
    "\n",
    "  return chunk_ids"
   ]
  },
  {
   "cell_type": "code",
   "execution_count": 42,
   "metadata": {},
   "outputs": [],
   "source": [
    "## Implement"
   ]
  },
  {
   "cell_type": "code",
   "execution_count": 53,
   "metadata": {},
   "outputs": [],
   "source": [
    "survey_df = pd.read_csv(os.path.join(cf.SECURE_DATA_DIRECTORY, 'Data', 'DHS', 'FinalData - PII', 'GPS_uid_crosswalk.csv'))\n",
    "survey_df = survey_df[survey_df.most_recent_survey == True]\n",
    "#survey_df = survey_df.head(50)\n",
    "CHUNK_SIZE = 10"
   ]
  },
  {
   "cell_type": "code",
   "execution_count": 54,
   "metadata": {},
   "outputs": [],
   "source": [
    "survey_df['chunk_id'] = chunk_ids(survey_df.shape[0], CHUNK_SIZE)"
   ]
  },
  {
   "cell_type": "code",
   "execution_count": 48,
   "metadata": {},
   "outputs": [
    {
     "name": "stdout",
     "output_type": "stream",
     "text": [
      "0\n",
      "1\n",
      "2\n",
      "3\n",
      "4\n"
     ]
    }
   ],
   "source": [
    "brgb_all = []\n",
    "b1_all = []\n",
    "b5_all = []\n",
    "b6_all = []\n",
    "b7_all = []\n",
    "b10_all = []\n",
    "b11_all = []\n",
    "bndvi_all = []\n",
    "survey_all = []\n",
    "\n",
    "for chunk_i in list(np.unique(survey_df.chunk_id)):\n",
    "  print(chunk_i)\n",
    "\n",
    "  survey_df_i = survey_df[survey_df['chunk_id'] == chunk_i]\n",
    "\n",
    "  l8_result_i = prep_cnn_np(survey_df_i,\n",
    "                  satellite = 'l8',\n",
    "                  begin_date = '2017-01-01',\n",
    "                  end_date = '2020-01-01',\n",
    "                  kernel_size = KERNEL_SIZE)\n",
    "\n",
    "  brgb, b1, b5, b6, b7, b10, b11, bndvi = l8_result_i\n",
    "\n",
    "  brgb_all.append(brgb.copy())\n",
    "  b1_all.append(b1.copy())"
   ]
  },
  {
   "cell_type": "code",
   "execution_count": 49,
   "metadata": {},
   "outputs": [],
   "source": [
    "brgb_np = np.concatenate(brgb_all)\n",
    "b1_np = np.concatenate(b1_all)"
   ]
  },
  {
   "cell_type": "code",
   "execution_count": 50,
   "metadata": {},
   "outputs": [],
   "source": [
    "np.save('/Users/robmarty/Desktop/test1234_50.npy', brgb_np)"
   ]
  },
  {
   "cell_type": "code",
   "execution_count": 57,
   "metadata": {},
   "outputs": [
    {
     "data": {
      "text/plain": [
       "3472"
      ]
     },
     "execution_count": 57,
     "metadata": {},
     "output_type": "execute_result"
    }
   ],
   "source": [
    "max(survey_df.chunk_id)"
   ]
  },
  {
   "cell_type": "code",
   "execution_count": 38,
   "metadata": {},
   "outputs": [
    {
     "data": {
      "text/plain": [
       "(34729, 6)"
      ]
     },
     "execution_count": 38,
     "metadata": {},
     "output_type": "execute_result"
    }
   ],
   "source": [
    "survey_df.shape"
   ]
  },
  {
   "cell_type": "code",
   "execution_count": 39,
   "metadata": {},
   "outputs": [
    {
     "data": {
      "text/plain": [
       "347.29"
      ]
     },
     "execution_count": 39,
     "metadata": {},
     "output_type": "execute_result"
    }
   ],
   "source": [
    "34729/100"
   ]
  },
  {
   "cell_type": "code",
   "execution_count": 40,
   "metadata": {},
   "outputs": [
    {
     "data": {
      "text/plain": [
       "41813.71600000001"
      ]
     },
     "execution_count": 40,
     "metadata": {},
     "output_type": "execute_result"
    }
   ],
   "source": [
    "347.29*120.4"
   ]
  },
  {
   "cell_type": "code",
   "execution_count": null,
   "metadata": {},
   "outputs": [],
   "source": []
  },
  {
   "cell_type": "code",
   "execution_count": null,
   "metadata": {},
   "outputs": [],
   "source": []
  },
  {
   "cell_type": "code",
   "execution_count": null,
   "metadata": {},
   "outputs": [],
   "source": []
  },
  {
   "cell_type": "code",
   "execution_count": null,
   "metadata": {},
   "outputs": [],
   "source": []
  },
  {
   "cell_type": "code",
   "execution_count": null,
   "metadata": {},
   "outputs": [],
   "source": []
  },
  {
   "cell_type": "code",
   "execution_count": null,
   "metadata": {},
   "outputs": [],
   "source": []
  }
 ],
 "metadata": {
  "kernelspec": {
   "display_name": "Python 3",
   "language": "python",
   "name": "python3"
  },
  "language_info": {
   "codemirror_mode": {
    "name": "ipython",
    "version": 3
   },
   "file_extension": ".py",
   "mimetype": "text/x-python",
   "name": "python",
   "nbconvert_exporter": "python",
   "pygments_lexer": "ipython3",
   "version": "3.7.2"
  }
 },
 "nbformat": 4,
 "nbformat_minor": 2
}
