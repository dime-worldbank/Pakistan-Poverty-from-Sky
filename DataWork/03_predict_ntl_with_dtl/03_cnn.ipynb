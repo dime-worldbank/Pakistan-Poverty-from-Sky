{
 "cells": [
  {
   "cell_type": "markdown",
   "metadata": {
    "id": "z34KtcX5Pp7o"
   },
   "source": [
    "# __Predicting NTL using DTL__\n",
    "\n",
    "CNN Model for predicting nighttime lights using daytime images."
   ]
  },
  {
   "cell_type": "markdown",
   "metadata": {
    "id": "ybUBTyiNDore"
   },
   "source": [
    "## Parameters"
   ]
  },
  {
   "cell_type": "code",
   "execution_count": 61,
   "metadata": {
    "id": "UOdgNXFG8EmH"
   },
   "outputs": [],
   "source": [
    "PARAM_NAME_RGB = \"Nbands3_nNtlBins3_minNTLbinCount100\"\n",
    "#PARAM_NAME = \"Nbands3_nNtlBins3_minNTLbinCount100\"\n",
    "YEAR = 2014\n",
    "PARAM_NAME_1 = \"Band1_nNtlBins3_minNTLbinCount1861\"\n",
    "PARAM_NAME_5 = \"Band5_nNtlBins3_minNTLbinCount1861\"\n",
    "PARAM_NAME_6 = \"Band6_nNtlBins3_minNTLbinCount1861\"\n",
    "PARAM_NAME_7 = \"Band7_nNtlBins3_minNTLbinCount1861\""
   ]
  },
  {
   "cell_type": "code",
   "execution_count": 62,
   "metadata": {},
   "outputs": [
    {
     "name": "stdout",
     "output_type": "stream",
     "text": [
      "Requirement already satisfied: efficientnet in /home/ec2-user/anaconda3/envs/amazonei_tensorflow2_p36/lib/python3.6/site-packages (1.1.1)\n",
      "Requirement already satisfied: scikit-image in /home/ec2-user/anaconda3/envs/amazonei_tensorflow2_p36/lib/python3.6/site-packages (from efficientnet) (0.16.2)\n",
      "Requirement already satisfied: keras-applications<=1.0.8,>=1.0.7 in /home/ec2-user/anaconda3/envs/amazonei_tensorflow2_p36/lib/python3.6/site-packages (from efficientnet) (1.0.8)\n",
      "Requirement already satisfied: numpy>=1.9.1 in /home/ec2-user/anaconda3/envs/amazonei_tensorflow2_p36/lib/python3.6/site-packages (from keras-applications<=1.0.8,>=1.0.7->efficientnet) (1.18.5)\n",
      "Requirement already satisfied: h5py in /home/ec2-user/anaconda3/envs/amazonei_tensorflow2_p36/lib/python3.6/site-packages (from keras-applications<=1.0.8,>=1.0.7->efficientnet) (2.10.0)\n",
      "Requirement already satisfied: six in /home/ec2-user/anaconda3/envs/amazonei_tensorflow2_p36/lib/python3.6/site-packages (from h5py->keras-applications<=1.0.8,>=1.0.7->efficientnet) (1.15.0)\n",
      "Requirement already satisfied: scipy>=0.19.0 in /home/ec2-user/anaconda3/envs/amazonei_tensorflow2_p36/lib/python3.6/site-packages (from scikit-image->efficientnet) (1.5.3)\n",
      "Requirement already satisfied: matplotlib!=3.0.0,>=2.0.0 in /home/ec2-user/anaconda3/envs/amazonei_tensorflow2_p36/lib/python3.6/site-packages (from scikit-image->efficientnet) (3.3.4)\n",
      "Requirement already satisfied: networkx>=2.0 in /home/ec2-user/anaconda3/envs/amazonei_tensorflow2_p36/lib/python3.6/site-packages (from scikit-image->efficientnet) (2.5)\n",
      "Requirement already satisfied: pillow>=4.3.0 in /home/ec2-user/anaconda3/envs/amazonei_tensorflow2_p36/lib/python3.6/site-packages (from scikit-image->efficientnet) (8.1.0)\n",
      "Requirement already satisfied: imageio>=2.3.0 in /home/ec2-user/anaconda3/envs/amazonei_tensorflow2_p36/lib/python3.6/site-packages (from scikit-image->efficientnet) (2.9.0)\n",
      "Requirement already satisfied: PyWavelets>=0.4.0 in /home/ec2-user/anaconda3/envs/amazonei_tensorflow2_p36/lib/python3.6/site-packages (from scikit-image->efficientnet) (1.1.1)\n",
      "Requirement already satisfied: python-dateutil>=2.1 in /home/ec2-user/anaconda3/envs/amazonei_tensorflow2_p36/lib/python3.6/site-packages (from matplotlib!=3.0.0,>=2.0.0->scikit-image->efficientnet) (2.8.1)\n",
      "Requirement already satisfied: pyparsing!=2.0.4,!=2.1.2,!=2.1.6,>=2.0.3 in /home/ec2-user/anaconda3/envs/amazonei_tensorflow2_p36/lib/python3.6/site-packages (from matplotlib!=3.0.0,>=2.0.0->scikit-image->efficientnet) (2.4.7)\n",
      "Requirement already satisfied: kiwisolver>=1.0.1 in /home/ec2-user/anaconda3/envs/amazonei_tensorflow2_p36/lib/python3.6/site-packages (from matplotlib!=3.0.0,>=2.0.0->scikit-image->efficientnet) (1.3.1)\n",
      "Requirement already satisfied: cycler>=0.10 in /home/ec2-user/anaconda3/envs/amazonei_tensorflow2_p36/lib/python3.6/site-packages (from matplotlib!=3.0.0,>=2.0.0->scikit-image->efficientnet) (0.10.0)\n",
      "Requirement already satisfied: decorator>=4.3.0 in /home/ec2-user/anaconda3/envs/amazonei_tensorflow2_p36/lib/python3.6/site-packages (from networkx>=2.0->scikit-image->efficientnet) (4.4.2)\n",
      "Requirement already satisfied: pydot in /home/ec2-user/anaconda3/envs/amazonei_tensorflow2_p36/lib/python3.6/site-packages (1.4.2)\n",
      "Requirement already satisfied: pyparsing>=2.1.4 in /home/ec2-user/anaconda3/envs/amazonei_tensorflow2_p36/lib/python3.6/site-packages (from pydot) (2.4.7)\n",
      "Requirement already satisfied: graphviz in /home/ec2-user/anaconda3/envs/amazonei_tensorflow2_p36/lib/python3.6/site-packages (0.16)\n",
      "Requirement already satisfied: pydotplus in /home/ec2-user/anaconda3/envs/amazonei_tensorflow2_p36/lib/python3.6/site-packages (2.0.2)\n",
      "Requirement already satisfied: pyparsing>=2.0.1 in /home/ec2-user/anaconda3/envs/amazonei_tensorflow2_p36/lib/python3.6/site-packages (from pydotplus) (2.4.7)\n",
      "Requirement already satisfied: pydot_ng in /home/ec2-user/anaconda3/envs/amazonei_tensorflow2_p36/lib/python3.6/site-packages (2.0.0)\n",
      "Requirement already satisfied: pyparsing>=2.0.1 in /home/ec2-user/anaconda3/envs/amazonei_tensorflow2_p36/lib/python3.6/site-packages (from pydot_ng) (2.4.7)\n"
     ]
    }
   ],
   "source": [
    "!pip install -U efficientnet\n",
    "!pip install pydot\n",
    "!pip install graphviz\n",
    "!pip install pydotplus\n",
    "!pip install pydot_ng"
   ]
  },
  {
   "cell_type": "markdown",
   "metadata": {
    "id": "Vds1yHMwLJp2"
   },
   "source": [
    "## Setup"
   ]
  },
  {
   "cell_type": "code",
   "execution_count": 63,
   "metadata": {},
   "outputs": [],
   "source": [
    "from numpy.random import seed\n",
    "\n",
    "import os, datetime\n",
    "import numpy as np\n",
    "import pandas as pd\n",
    "import json\n",
    "\n",
    "from sklearn.preprocessing import KBinsDiscretizer\n",
    "from sklearn.model_selection import train_test_split, KFold\n",
    "from sklearn.metrics import classification_report, confusion_matrix\n",
    "\n",
    "from keras.utils import to_categorical\n",
    "from keras.models import Sequential, Model\n",
    "from keras import models\n",
    "from keras.layers import Conv2D, MaxPooling2D, Flatten, Dense, GlobalAveragePooling2D, Dropout, BatchNormalization\n",
    "from keras.callbacks import EarlyStopping, ModelCheckpoint\n",
    "from keras.models import load_model, Model\n",
    "from keras.applications.vgg16 import VGG16\n",
    "from keras.applications.vgg19 import VGG19\n",
    "from keras.applications.inception_v3 import preprocess_input\n",
    "\n",
    "from tensorflow.keras.utils import plot_model\n",
    "import tensorflow.keras as K\n",
    "from tensorflow.keras.applications.inception_v3 import InceptionV3\n",
    "\n",
    "import efficientnet.keras as efn\n",
    "\n",
    "import logging, os \n",
    "import random\n",
    "import tensorflow as tf\n",
    "import matplotlib.pyplot as plt\n",
    "\n",
    "import boto3\n",
    "from sagemaker import get_execution_role\n",
    "from s3fs.core import S3FileSystem \n",
    "s3 = S3FileSystem()\n",
    "role = get_execution_role()\n",
    "\n",
    "# Set seeds. Note that using a GPU can still introduce randomness.\n",
    "# (also not taking into account tensorflow randomness)\n",
    "seed(42)"
   ]
  },
  {
   "cell_type": "markdown",
   "metadata": {
    "id": "I5k-bEJvLVvj"
   },
   "source": [
    "## Functions"
   ]
  },
  {
   "cell_type": "code",
   "execution_count": 100,
   "metadata": {
    "id": "fkAYWJCg0gut"
   },
   "outputs": [],
   "source": [
    "def create_file_pathway(PARAM_NAME):\n",
    "    \n",
    "    #### FILES ALREADY CREATED\n",
    "    \n",
    "    #### CNN directry in s3 bucket with data\n",
    "    CNN_DIR = os.path.join('CNN', PARAM_NAME)\n",
    "    \n",
    "    # JSON file with parameters for CNN\n",
    "    CNN_PARAMS_FILENAME = os.path.join(CNN_DIR, 'CNN_parameters.json')\n",
    "    \n",
    "    # Nighttime lights and daytime imagery path (numpy files prepped for CNN)\n",
    "    NTL_FILENAME = os.path.join(CNN_DIR, f'ntl_{str(YEAR)}.npy')\n",
    "    DTL_FILENAME = os.path.join(CNN_DIR, f'dtl_{str(YEAR)}.npy')\n",
    "    \n",
    "    #### FILES TO CREATE\n",
    "    \n",
    "    # s3 path, where to upload back to s3 bucket\n",
    "    CNN_MODEL_S3_PATH = os.path.join(CNN_DIR, CNN_MODEL_NAME)\n",
    "    return(CNN_DIR, CNN_PARAMS_FILENAME, NTL_FILENAME, DTL_FILENAME, CNN_MODEL_S3_PATH)\n",
    "\n",
    "\n",
    "def normalize(X):\n",
    "    '''\n",
    "    Normalizes features.\n",
    "    '''\n",
    "    return X.astype('float32') / 255.0\n",
    "\n",
    "def define_model_imagenet(height, width, channels, num_classes):\n",
    "    '''\n",
    "    Defines and compiles CNN model.\n",
    "    \n",
    "    Inputs:\n",
    "        height, width, channels, num_classes (int)\n",
    "    Returns:\n",
    "        model (keras.Model object)\n",
    "    '''\n",
    "\n",
    "    # https://medium.com/abraia/first-steps-with-transfer-learning-for-custom-image-classification-with-keras-b941601fcad5\n",
    "    # https://towardsdatascience.com/cnn-transfer-learning-fine-tuning-9f3e7c5806b2\n",
    "\n",
    "    #### Base model\n",
    "    input_shape = (height, width, channels)\n",
    "    base_model = VGG16(weights='imagenet', include_top=False, input_shape=input_shape, pooling = \"max\")\n",
    "\n",
    "    for layer in base_model.layers:\n",
    "        layer.trainable = False\n",
    "\n",
    "    #### Model Customization\n",
    "    # We take the last layer of our the model and add it to our classifier\n",
    "    last = base_model.layers[-1].output\n",
    "    x = Flatten()(last)\n",
    "    x = Dense(100, activation='relu', name='fc1')(x)\n",
    "    x = Dropout(0.5)(x)\n",
    "    x = Dense(50, activation='relu', name='fc2')(x)\n",
    "    x = Dropout(0.2)(x)\n",
    "    x = Dense(10, activation='relu', name='fc3')(x)\n",
    "    x = Dense(num_classes, activation='softmax', name='predictions')(x)\n",
    "    model = Model(base_model.input, x)\n",
    "    # We compile the model\n",
    "    model.compile(optimizer='rmsprop',\n",
    "              loss='categorical_crossentropy',\n",
    "              metrics=['accuracy'])\n",
    "\n",
    "    return model\n",
    "\n",
    "def define_model_singlechannel(height, width, channels, num_classes):\n",
    "    '''\n",
    "    Defines and compiles CNN model for single channels.\n",
    "    \n",
    "    Inputs:\n",
    "        height, width, channels, num_classes (int)\n",
    "    Returns:\n",
    "        model (keras.Model object)\n",
    "    '''\n",
    "    input_shape = (height, width, channels)\n",
    "    \n",
    "    #create model\n",
    "    model = Sequential()\n",
    "\n",
    "    #add model layers\n",
    "    model.add(Conv2D(64, kernel_size=3, activation= 'relu', input_shape=input_shape))\n",
    "    model.add(Conv2D(32, kernel_size=3, activation= 'relu'))\n",
    "    model.add(Flatten())\n",
    "    model.add(Dense(num_classes, activation='softmax', name='predictions'))\n",
    "    model.compile(optimizer='adam',\n",
    "                  loss='categorical_crossentropy',\n",
    "                  metrics=['accuracy'])  \n",
    "    return model\n",
    "\n",
    "def evaluate_model(model, trainX, trainY, testX, testY, CNN_MODEL_CHECKPOINT):\n",
    "    '''\n",
    "    Fits model, evaluates model, saves best model over epochs and cross-validations.\n",
    "    \n",
    "    Inputs:\n",
    "        model (CNN model) keras.Model object\n",
    "        trainX, trainY (numpy.ndarray) 4D array of DTL features and 2D array of targets for training\n",
    "        testX, testY (numpy.ndarray) 4D array of DTL features and 2D array of targets for testing\n",
    "        current_kfold (int) iteration in kfold cross-val, default=None for no cross-val\n",
    "        display_metrics (bool) Default=False\n",
    "    Returns:\n",
    "        None\n",
    "    # https://towardsdatascience.com/step-by-step-guide-to-using-pretrained-models-in-keras-c9097b647b29\n",
    "    '''\n",
    "\n",
    "    # Use early stopping to help with overfitting\n",
    "    es = EarlyStopping(monitor='val_loss', mode='min', patience=3, verbose=False)\n",
    "\n",
    "    # Save best model based on accuracy\n",
    "    mc = ModelCheckpoint(CNN_MODEL_CHECKPOINT, monitor='val_loss', mode='min', \n",
    "                         verbose=True, save_best_only=True)\n",
    "\n",
    "    # Fit model\n",
    "    history = model.fit(trainX, trainY, \n",
    "            epochs=50, \n",
    "            batch_size=64, \n",
    "            validation_data=(testX, testY), \n",
    "            callbacks=[es, mc], \n",
    "            verbose=False)\n",
    "\n",
    "    # Show accuracy\n",
    "    loss, accuracy = model.evaluate(testX, testY, verbose=False)\n",
    "    print(f'                              Accuracy: {accuracy}')\n",
    "\n",
    "    return history\n",
    "        \n",
    "def evaluate_with_crossval(model, dataX, dataY, k=2):\n",
    "    '''\n",
    "    Performs evaulation with K-fold cross validation.\n",
    "    \n",
    "    Inputs:\n",
    "        model (keras.Model object)\n",
    "        dataX, dataY (numpy.ndarray) 4D array of DTL features and 2D array of targets \n",
    "                                     for training\n",
    "        k (int)\n",
    "    Returns:\n",
    "        None\n",
    "    '''\n",
    "    # Define k-fold cross-val\n",
    "    kfold = KFold(k, shuffle=True, random_state=1)\n",
    "    # Loop through folds\n",
    "    count = 1\n",
    "    for train_idx, test_idx in kfold.split(dataX):\n",
    "        print(f'{datetime.datetime.now()}    --- Current K-fold: {count} ---')\n",
    "        # Select subsets for training and testing\n",
    "        trainX, trainY, testX, testY = dataX[train_idx], dataY[train_idx], \\\n",
    "                                       dataX[test_idx], dataY[test_idx]\n",
    "        # Pass to evaluate_model function\n",
    "        evaluate_model(model, trainX, trainY, testX, testY)\n",
    "        count += 1\n",
    "\n",
    "def display_eval_metrics(model, testX, testY, n_ntl_bins):\n",
    "    '''\n",
    "    Displays evaluation metrics for a given trained model.\n",
    "    '''\n",
    "    # Get predictions\n",
    "    predY = model.predict(testX)\n",
    "    predY = np.argmax(predY, axis = 1)\n",
    "    testY_bins = np.argmax(testY, axis = 1)\n",
    "    # Generate classification report\n",
    "    classes = ['Radiance Level %01d' %i for i in range(1,n_ntl_bins+1)]\n",
    "    print(classification_report(testY_bins, predY, target_names=classes))\n",
    "    \n",
    "def plot_model_accuracy_loss(model_fit):\n",
    "\n",
    "    fig, (ax1, ax2) = plt.subplots(figsize=(15, 5), ncols=2, sharey = False)\n",
    "    ax1.plot(model_fit.history['accuracy'])\n",
    "    ax1.plot(model_fit.history['val_accuracy'])\n",
    "    ax1.set_title(\"model accuracy\")\n",
    "    ax1.set_xlabel(\"epoch\")\n",
    "    ax1.set_ylabel(\"accuracy\")\n",
    "    ax1.legend(['train', 'val'], loc='upper left')\n",
    "\n",
    "    ax2.plot(model_fit.history['loss'])\n",
    "    ax2.plot(model_fit.history['val_loss'])\n",
    "    ax2.set_title(\"model loss\")\n",
    "    ax2.set_xlabel(\"epoch\")\n",
    "    ax2.set_ylabel(\"loss\")\n",
    "    ax2.legend(['train', 'val'], loc='upper left')\n",
    "    plt.show()\n",
    "    \n",
    "def plot_model_architecture(model_object, landscape = \"Vertical\"):\n",
    "    os.environ[\"PATH\"] += os.pathsep + 'C:/Program Files/Graphviz/bin/'\n",
    "    \n",
    "    if landscape == \"Vertical\":\n",
    "        plot = plot_model(model_object, show_shapes=True, show_layer_names=True)\n",
    "    else:\n",
    "        plot = plot_model(model_object, show_shapes=True, show_layer_names=True, rankdir='LR')\n",
    "    return plot\n",
    "    \n",
    "def split_train_test(DTL, NTL):\n",
    "    # SPLIT DATA INTO TRAINING AND TESTING\n",
    "    trainX, testX, raw_trainY, raw_testY = train_test_split(DTL, NTL, test_size=0.2)\n",
    "    \n",
    "    # PREP TRAINING AND TESTING DATA\n",
    "    trainY = to_categorical(raw_trainY)\n",
    "    testY = to_categorical(raw_testY)\n",
    "    \n",
    "    # PREP PIXELS IN FEATURES\n",
    "    trainX, testX = normalize(trainX), normalize(testX)\n",
    "    return (trainX, testX, trainY, testY)"
   ]
  },
  {
   "cell_type": "code",
   "execution_count": 79,
   "metadata": {},
   "outputs": [],
   "source": [
    "bucket = 'worldbank-pakistan-data'\n",
    "LOCAL_DIR = '/home/ec2-user/SageMaker/'\n",
    "\n",
    "# CNN model (h5 file) \n",
    "CNN_MODEL_NAME = f'script_CNN_{str(YEAR)}.h5'\n",
    "\n",
    "# -- 2. Checkpoint (where to store model locally; cnn model saves best model durig training)\n",
    "CNN_MODEL_CHECKPOINT = os.path.join(LOCAL_DIR, CNN_MODEL_NAME)\n",
    "\n",
    "# CSV file with predicted NTL values from CNN (upload to s3)\n",
    "PREDICTION_FILENAME = f'cnn_predictions_truth_values_{str(YEAR)}.csv'\n",
    "#PREDICTION_FILENAME = os.path.join(CNN_DIR, f'cnn_predictions_truth_values_{str(YEAR)}.csv')"
   ]
  },
  {
   "cell_type": "markdown",
   "metadata": {
    "id": "C4lWj5moLdQW"
   },
   "source": [
    "## Load Parameters"
   ]
  },
  {
   "cell_type": "code",
   "execution_count": 108,
   "metadata": {
    "id": "S7mQb5uJ6BEq"
   },
   "outputs": [],
   "source": [
    "CNN_DIR, CNN_PARAMS_FILENAME, NTL_FILENAME, DTL_FILENAME, CNN_MODEL_S3_PATH = create_file_pathway(PARAM_NAME_1)\n",
    "\n",
    "# load json from s3\n",
    "#s3 = boto3.resource('s3')\n",
    "content_object = boto3.resource('s3').Object(bucket, CNN_PARAMS_FILENAME)\n",
    "file_content = content_object.get()['Body'].read().decode('utf-8')\n",
    "cnn_param_dict = json.loads(file_content)\n",
    "#cnn_param_dict"
   ]
  },
  {
   "cell_type": "code",
   "execution_count": 81,
   "metadata": {},
   "outputs": [],
   "source": [
    "# grab parameters\n",
    "N_bands = cnn_param_dict['N_bands']\n",
    "n_ntl_bins = cnn_param_dict['n_ntl_bins']\n",
    "image_height = cnn_param_dict['image_height']\n",
    "image_width = cnn_param_dict['image_width']\n",
    "bands = cnn_param_dict['bands']\n",
    "min_ntl_bin_count = cnn_param_dict['bands']"
   ]
  },
  {
   "cell_type": "markdown",
   "metadata": {
    "id": "LZ0rFqCiLhM0"
   },
   "source": [
    "## Load and Prep Data"
   ]
  },
  {
   "cell_type": "code",
   "execution_count": 82,
   "metadata": {
    "id": "vuCKwuARKt_E"
   },
   "outputs": [],
   "source": [
    "# Load Data\n",
    "NTL = np.load(s3.open('{}/{}'.format(bucket, NTL_FILENAME)))\n",
    "DTL = np.load(s3.open('{}/{}'.format(bucket, DTL_FILENAME)))"
   ]
  },
  {
   "cell_type": "code",
   "execution_count": 83,
   "metadata": {},
   "outputs": [],
   "source": [
    "trainX, testX, trainY, testY = split_train_test(DTL, NTL)"
   ]
  },
  {
   "cell_type": "code",
   "execution_count": 84,
   "metadata": {},
   "outputs": [
    {
     "name": "stdout",
     "output_type": "stream",
     "text": [
      "(4466, 48, 48, 1)\n",
      "(1117, 48, 48, 1)\n"
     ]
    }
   ],
   "source": [
    "print(trainX.shape)\n",
    "print(testX.shape)"
   ]
  },
  {
   "cell_type": "code",
   "execution_count": 85,
   "metadata": {},
   "outputs": [
    {
     "data": {
      "text/plain": [
       "(48, 48, 1)"
      ]
     },
     "execution_count": 85,
     "metadata": {},
     "output_type": "execute_result"
    }
   ],
   "source": [
    "input_shape = (image_height, image_width, N_bands)\n",
    "num_classes = n_ntl_bins\n",
    "input_shape"
   ]
  },
  {
   "cell_type": "code",
   "execution_count": 73,
   "metadata": {},
   "outputs": [],
   "source": [
    "#input_t = K.Input(shape=(71,71))\n",
    "#input_t = (75,75,3)\n",
    "#base_model = VGG16(weights='imagenet', include_top=False, pooling = \"avg\", input_shape=input_shape)\n",
    "#base_model = InceptionV3(input_shape=input_t, include_top = False, weights = 'imagenet')\n",
    "#base_model = K.applications.ResNet50(include_top=False,weights=\"imagenet\",input_tensor=input_t,pooling = \"max\")\n",
    "#base_model = efn.EfficientNetB0(input_shape=input_shape, include_top = False, weights = 'imagenet')\n",
    "#base_model = tf.keras.applications.xception.Xception(weights='imagenet', include_top=False, pooling = \"max\", \n",
    "                                                     #input_shape=input_t)\n",
    "#print(base_model.summary())\n",
    "\n",
    "#for layer in base_model.layers:\n",
    "       # layer.trainable = False\n",
    "    \n",
    "#for i, layer in enumerate(base_model.layers):\n",
    "    #print(i, layer.name, layer.trainable)\n",
    "#to_res = (48, 48)\n",
    "#my_model = K.models.Sequential()\n",
    "#my_model.add(K.layers.Lambda(lambda image: tf.image.resize(image, to_res)))\n",
    "#my_model.add(res_model)\n",
    "#my_model.add(K.layers.Flatten())\n",
    "#my_model.add(K.layers.BatchNormalization())\n",
    "#my_model.add(K.layers.Dense(100, activation='relu'))\n",
    "#my_model.add(K.layers.Dropout(0.3))\n",
    "#my_model.add(K.layers.BatchNormalization())\n",
    "#my_model.add(K.layers.Dense(128, activation='relu'))\n",
    "#my_model.add(K.layers.Dropout(0.5))\n",
    "#my_model.add(K.layers.BatchNormalization())\n",
    "#my_model.add(K.layers.Dense(64, activation='relu'))\n",
    "#my_model.add(K.layers.Dropout(0.5))\n",
    "#my_model.add(K.layers.BatchNormalization())\n",
    "#my_model.add(K.layers.Dense(num_classes, activation='softmax'))\n",
    "#### Model Customization\n",
    "# We take the last layer of our the model and add it to our classifier\n",
    "#last = base_model.layers[-1].output\n",
    "#print(last.shape)\n",
    "#layer_name = 'block4_pool'\n",
    "#pre_trained = Model(inputs = base_model.input, outputs = base_model.get_layer(layer_name).output)\n",
    "\n",
    "#my_model = models.Sequential()\n",
    "#my_model.add(pre_trained)\n",
    "#my_model.add(Conv2D(128, (3,3), activation = \"relu\", padding = \"same\"))\n",
    "#my_model.add(MaxPooling2D((2,2), padding = \"same\"))\n",
    "#my_model.add(GlobalAveragePooling2D())\n",
    "#my_model.add(BatchNormalization())\n",
    "#my_model.add(Dense(1000, activation='relu'))\n",
    "#my_model.add(Dropout(0.3))\n",
    "#my_model.add(Dense(num_classes, activation='softmax', name='predictions'))\n",
    "#my_model.layers[0].trainable = False\n",
    "\n",
    "#last = base_model.layers[-1].output\n",
    "#x = Flatten()(last)\n",
    "#x = Dense(100, activation='relu', name='fc1')(x)\n",
    "#x = Dense(512, activation='relu', name='fc1')(x)\n",
    "#x = BatchNormalization()(x)\n",
    "#x = Dropout(0.3)(x)\n",
    "#x = Dense(216, activation='relu', name='fc2')(x)\n",
    "#x = BatchNormalization()(x)\n",
    "#x = Dropout(0.3)(x)\n",
    "#x = Dense(64, activation='relu', name='fc3')(x)\n",
    "#x = Dropout(0.3)(x)\n",
    "#x = BatchNormalization()(x)\n",
    "#x = Dropout(0.3)(x)\n",
    "#x = Dense(num_classes, activation='softmax', name='predictions')(x)\n",
    "#my_model = Model(base_model.input, x)\n",
    "#my_model.compile(optimizer='adam',\n",
    "              #loss='categorical_crossentropy',\n",
    "              #metrics=['accuracy'])"
   ]
  },
  {
   "cell_type": "code",
   "execution_count": 107,
   "metadata": {},
   "outputs": [
    {
     "data": {
      "image/png": "[encoded data removed]",
      "text/plain": [
       "<IPython.core.display.Image object>"
      ]
     },
     "execution_count": 107,
     "metadata": {},
     "output_type": "execute_result"
    }
   ],
   "source": [
    "mod = define_model_singlechannel(image_height, image_width, N_bands, n_ntl_bins)\n",
    "plot_model_architecture(mod, landscape=\"Horz\")"
   ]
  },
  {
   "cell_type": "code",
   "execution_count": 104,
   "metadata": {},
   "outputs": [
    {
     "name": "stdout",
     "output_type": "stream",
     "text": [
      "\n",
      "Epoch 00001: val_loss improved from inf to 1.09665, saving model to /home/ec2-user/SageMaker/script_CNN_2014.h5\n",
      "\n",
      "Epoch 00002: val_loss improved from 1.09665 to 1.09523, saving model to /home/ec2-user/SageMaker/script_CNN_2014.h5\n",
      "\n",
      "Epoch 00003: val_loss improved from 1.09523 to 1.02926, saving model to /home/ec2-user/SageMaker/script_CNN_2014.h5\n",
      "\n",
      "Epoch 00004: val_loss improved from 1.02926 to 1.01905, saving model to /home/ec2-user/SageMaker/script_CNN_2014.h5\n",
      "\n",
      "Epoch 00005: val_loss improved from 1.01905 to 0.99525, saving model to /home/ec2-user/SageMaker/script_CNN_2014.h5\n",
      "\n",
      "Epoch 00006: val_loss improved from 0.99525 to 0.97716, saving model to /home/ec2-user/SageMaker/script_CNN_2014.h5\n",
      "\n",
      "Epoch 00007: val_loss did not improve from 0.97716\n",
      "\n",
      "Epoch 00008: val_loss improved from 0.97716 to 0.97040, saving model to /home/ec2-user/SageMaker/script_CNN_2014.h5\n",
      "\n",
      "Epoch 00009: val_loss improved from 0.97040 to 0.97036, saving model to /home/ec2-user/SageMaker/script_CNN_2014.h5\n",
      "\n",
      "Epoch 00010: val_loss improved from 0.97036 to 0.96329, saving model to /home/ec2-user/SageMaker/script_CNN_2014.h5\n",
      "\n",
      "Epoch 00011: val_loss did not improve from 0.96329\n",
      "\n",
      "Epoch 00012: val_loss did not improve from 0.96329\n",
      "\n",
      "Epoch 00013: val_loss did not improve from 0.96329\n",
      "                              Accuracy: 0.5496866703033447\n"
     ]
    }
   ],
   "source": [
    "history = evaluate_model(mod, trainX, trainY, testX, testY, CNN_MODEL_CHECKPOINT)"
   ]
  },
  {
   "cell_type": "code",
   "execution_count": 105,
   "metadata": {},
   "outputs": [
    {
     "data": {
      "image/png": "[encoded data removed]",
      "text/plain": [
       "<Figure size 1080x360 with 2 Axes>"
      ]
     },
     "metadata": {
      "needs_background": "light"
     },
     "output_type": "display_data"
    }
   ],
   "source": [
    "plot_model_accuracy_loss(history)"
   ]
  },
  {
   "cell_type": "code",
   "execution_count": 106,
   "metadata": {},
   "outputs": [
    {
     "name": "stdout",
     "output_type": "stream",
     "text": [
      "                  precision    recall  f1-score   support\n",
      "\n",
      "Radiance Level 1       0.58      0.68      0.63       381\n",
      "Radiance Level 2       0.56      0.64      0.60       384\n",
      "Radiance Level 3       0.47      0.31      0.38       352\n",
      "\n",
      "        accuracy                           0.55      1117\n",
      "       macro avg       0.54      0.54      0.53      1117\n",
      "    weighted avg       0.54      0.55      0.54      1117\n",
      "\n"
     ]
    }
   ],
   "source": [
    "display_eval_metrics(mod, testX, testY, n_ntl_bins)"
   ]
  },
  {
   "cell_type": "markdown",
   "metadata": {
    "id": "bKlWDX3gLkde"
   },
   "source": [
    "## Run Model"
   ]
  },
  {
   "cell_type": "code",
   "execution_count": 78,
   "metadata": {
    "id": "icaSC1870guy"
   },
   "outputs": [],
   "source": [
    "model = define_model_imagenet(image_height, image_width, N_bands, n_ntl_bins)"
   ]
  },
  {
   "cell_type": "code",
   "execution_count": 79,
   "metadata": {
    "colab": {
     "base_uri": "https://localhost:8080/"
    },
    "id": "DTt_30BEMrss",
    "outputId": "71355b8c-4ec6-43c9-9850-d5b01086ddbe"
   },
   "outputs": [
    {
     "name": "stdout",
     "output_type": "stream",
     "text": [
      "\n",
      "Epoch 00001: val_loss improved from inf to 0.78763, saving model to /home/ec2-user/SageMaker/script_CNN_2014.h5\n",
      "\n",
      "Epoch 00002: val_loss improved from 0.78763 to 0.77376, saving model to /home/ec2-user/SageMaker/script_CNN_2014.h5\n",
      "\n",
      "Epoch 00003: val_loss did not improve from 0.77376\n",
      "\n",
      "Epoch 00004: val_loss improved from 0.77376 to 0.76575, saving model to /home/ec2-user/SageMaker/script_CNN_2014.h5\n",
      "\n",
      "Epoch 00005: val_loss improved from 0.76575 to 0.75735, saving model to /home/ec2-user/SageMaker/script_CNN_2014.h5\n",
      "\n",
      "Epoch 00006: val_loss did not improve from 0.75735\n",
      "\n",
      "Epoch 00007: val_loss did not improve from 0.75735\n",
      "\n",
      "Epoch 00008: val_loss improved from 0.75735 to 0.75700, saving model to /home/ec2-user/SageMaker/script_CNN_2014.h5\n",
      "\n",
      "Epoch 00009: val_loss improved from 0.75700 to 0.75496, saving model to /home/ec2-user/SageMaker/script_CNN_2014.h5\n",
      "\n",
      "Epoch 00010: val_loss did not improve from 0.75496\n",
      "\n",
      "Epoch 00011: val_loss improved from 0.75496 to 0.75454, saving model to /home/ec2-user/SageMaker/script_CNN_2014.h5\n",
      "\n",
      "Epoch 00012: val_loss did not improve from 0.75454\n",
      "\n",
      "Epoch 00013: val_loss did not improve from 0.75454\n",
      "\n",
      "Epoch 00014: val_loss improved from 0.75454 to 0.75295, saving model to /home/ec2-user/SageMaker/script_CNN_2014.h5\n",
      "\n",
      "Epoch 00015: val_loss improved from 0.75295 to 0.75225, saving model to /home/ec2-user/SageMaker/script_CNN_2014.h5\n",
      "\n",
      "Epoch 00016: val_loss did not improve from 0.75225\n",
      "\n",
      "Epoch 00017: val_loss did not improve from 0.75225\n",
      "\n",
      "Epoch 00018: val_loss did not improve from 0.75225\n",
      "                              Accuracy: 0.6849856972694397\n"
     ]
    }
   ],
   "source": [
    "evaluate_model(model, trainX, trainY, testX, testY, CNN_MODEL_CHECKPOINT)"
   ]
  },
  {
   "cell_type": "code",
   "execution_count": 80,
   "metadata": {
    "colab": {
     "base_uri": "https://localhost:8080/"
    },
    "id": "0akMTs7NK4iJ",
    "outputId": "d5c373b4-e22c-4191-c7c1-e1ec29593311"
   },
   "outputs": [
    {
     "name": "stdout",
     "output_type": "stream",
     "text": [
      "                  precision    recall  f1-score   support\n",
      "\n",
      "Radiance Level 1       0.80      0.72      0.76      3420\n",
      "Radiance Level 2       0.63      0.70      0.66      3429\n",
      "Radiance Level 3       0.65      0.63      0.64      3268\n",
      "\n",
      "        accuracy                           0.68     10117\n",
      "       macro avg       0.69      0.68      0.69     10117\n",
      "    weighted avg       0.69      0.68      0.69     10117\n",
      "\n"
     ]
    }
   ],
   "source": [
    "# DISPLAY IN-DEPTH EVALUTAION METRICS\n",
    "best_model = load_model(CNN_MODEL_CHECKPOINT)\n",
    "display_eval_metrics(model, testX, testY, n_ntl_bins)"
   ]
  },
  {
   "cell_type": "markdown",
   "metadata": {
    "id": "_smbAxFWvWrP"
   },
   "source": [
    "## Save Best Model and Predicted Values to s3"
   ]
  },
  {
   "cell_type": "code",
   "execution_count": 81,
   "metadata": {
    "id": "7VYvJlW58z-M"
   },
   "outputs": [],
   "source": [
    "## Save predicted values to s3\n",
    "# TODO: I save file locally then send to s3; might be a way to send df directly to s3\n",
    "\n",
    "# Predict Values\n",
    "predY = best_model.predict(testX) # model.predict(testX)\n",
    "predY = np.argmax(predY, axis = 1)\n",
    "testY_bins = np.argmax(testY, axis = 1)\n",
    "\n",
    "# Make Dataframe\n",
    "results_df = pd.DataFrame({'predY': predY, 'testY': testY_bins})\n",
    "\n",
    "# Save locally\n",
    "results_df.to_csv(os.path.join(LOCAL_DIR, PREDICTION_FILENAME), index=False) \n",
    "\n",
    "# Send to s3\n",
    "boto3.Session().resource('s3').Bucket(bucket).Object(os.path.join(CNN_DIR, PREDICTION_FILENAME)).upload_file(os.path.join(LOCAL_DIR, PREDICTION_FILENAME))"
   ]
  },
  {
   "cell_type": "code",
   "execution_count": 82,
   "metadata": {
    "id": "YUJ79Dvkvb-3"
   },
   "outputs": [],
   "source": [
    "## Save best model to s3\n",
    "boto3.Session().resource('s3').Bucket(bucket).Object(CNN_MODEL_S3_PATH).upload_file(CNN_MODEL_CHECKPOINT)"
   ]
  },
  {
   "cell_type": "code",
   "execution_count": null,
   "metadata": {},
   "outputs": [],
   "source": []
  }
 ],
 "metadata": {
  "accelerator": "GPU",
  "colab": {
   "include_colab_link": true,
   "name": "01_cnn.ipynb",
   "provenance": []
  },
  "kernelspec": {
   "display_name": "conda_amazonei_tensorflow2_p36",
   "language": "python",
   "name": "conda_amazonei_tensorflow2_p36"
  },
  "language_info": {
   "codemirror_mode": {
    "name": "ipython",
    "version": 3
   },
   "file_extension": ".py",
   "mimetype": "text/x-python",
   "name": "python",
   "nbconvert_exporter": "python",
   "pygments_lexer": "ipython3",
   "version": "3.6.13"
  }
 },
 "nbformat": 4,
 "nbformat_minor": 4
}
