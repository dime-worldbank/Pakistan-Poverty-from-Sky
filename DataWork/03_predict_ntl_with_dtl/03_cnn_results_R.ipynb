{
 "cells": [
  {
   "cell_type": "markdown",
   "id": "norwegian-twenty",
   "metadata": {},
   "source": [
    "## Examine CNN Results\n",
    "\n",
    "Examine CNN Results. __This code uses R__"
   ]
  },
  {
   "cell_type": "code",
   "execution_count": 10,
   "id": "marked-pricing",
   "metadata": {},
   "outputs": [
    {
     "name": "stderr",
     "output_type": "stream",
     "text": [
      "Updating HTML index of packages in '.Library'\n",
      "\n",
      "Making 'packages.html' ...\n",
      " done\n",
      "\n"
     ]
    }
   ],
   "source": [
    "install.packages(\"mltest\")"
   ]
  },
  {
   "cell_type": "code",
   "execution_count": 11,
   "id": "diagnostic-point",
   "metadata": {},
   "outputs": [],
   "source": [
    "library(tidyverse)\n",
    "library(mltest)\n",
    "\n",
    "# Set up sagemaker\n",
    "library(reticulate)\n",
    "sagemaker <- import('sagemaker')\n",
    "session <- sagemaker$Session()\n",
    "\n",
    "# s3 bucket name\n",
    "s3_bucket = \"worldbank-pakistan-data\""
   ]
  },
  {
   "cell_type": "code",
   "execution_count": 12,
   "id": "union-symposium",
   "metadata": {},
   "outputs": [],
   "source": [
    "## Load Data\n",
    "param_name = 'Nbands3_nNtlBins3_minNTLbinCount100'\n",
    "year = 2014\n",
    "\n",
    "results_df <- read_csv(session$read_s3_file(s3_bucket, file.path('CNN', param_name,  paste0('cnn_predictions_truth_values_',year,'.csv'))))"
   ]
  },
  {
   "cell_type": "code",
   "execution_count": 17,
   "id": "light-louisville",
   "metadata": {},
   "outputs": [
    {
     "data": {
      "text/html": [
       "<style>\n",
       ".dl-inline {width: auto; margin:0; padding: 0}\n",
       ".dl-inline>dt, .dl-inline>dd {float: none; width: auto; display: inline-block}\n",
       ".dl-inline>dt::after {content: \":\\0020\"; padding-right: .5ex}\n",
       ".dl-inline>dt:not(:first-of-type) {padding-left: .5ex}\n",
       "</style><dl class=dl-inline><dt>0</dt><dd>0.6875</dd><dt>1</dt><dd>0.631578947368421</dd><dt>2</dt><dd>0.72</dd></dl>\n"
      ],
      "text/latex": [
       "\\begin{description*}\n",
       "\\item[0] 0.6875\n",
       "\\item[1] 0.631578947368421\n",
       "\\item[2] 0.72\n",
       "\\end{description*}\n"
      ],
      "text/markdown": [
       "0\n",
       ":   0.68751\n",
       ":   0.6315789473684212\n",
       ":   0.72\n",
       "\n"
      ],
      "text/plain": [
       "        0         1         2 \n",
       "0.6875000 0.6315789 0.7200000 "
      ]
     },
     "metadata": {},
     "output_type": "display_data"
    },
    {
     "data": {
      "text/html": [
       "<style>\n",
       ".dl-inline {width: auto; margin:0; padding: 0}\n",
       ".dl-inline>dt, .dl-inline>dd {float: none; width: auto; display: inline-block}\n",
       ".dl-inline>dt::after {content: \":\\0020\"; padding-right: .5ex}\n",
       ".dl-inline>dt:not(:first-of-type) {padding-left: .5ex}\n",
       "</style><dl class=dl-inline><dt>0</dt><dd>0.647058823529412</dd><dt>1</dt><dd>0.666666666666667</dd><dt>2</dt><dd>0.72</dd></dl>\n"
      ],
      "text/latex": [
       "\\begin{description*}\n",
       "\\item[0] 0.647058823529412\n",
       "\\item[1] 0.666666666666667\n",
       "\\item[2] 0.72\n",
       "\\end{description*}\n"
      ],
      "text/markdown": [
       "0\n",
       ":   0.6470588235294121\n",
       ":   0.6666666666666672\n",
       ":   0.72\n",
       "\n"
      ],
      "text/plain": [
       "        0         1         2 \n",
       "0.6470588 0.6666667 0.7200000 "
      ]
     },
     "metadata": {},
     "output_type": "display_data"
    },
    {
     "data": {
      "text/html": [
       "0.683333333333333"
      ],
      "text/latex": [
       "0.683333333333333"
      ],
      "text/markdown": [
       "0.683333333333333"
      ],
      "text/plain": [
       "[1] 0.6833333"
      ]
     },
     "metadata": {},
     "output_type": "display_data"
    }
   ],
   "source": [
    "## Prep Data\n",
    "r <- ml_test(results_df$predY,\n",
    "             results_df$testY)\n",
    "r$precision\n",
    "r$recall\n",
    "r$accuracy\n",
    "\n",
    "## Figure\n",
    "#results_df %>%\n",
    "#  ggplot() +\n",
    "#  geom_point(aes(x = testY, y = predY),\n",
    "#             size = 1, \n",
    "#             alpha = 1) +\n",
    "#  labs(x = \"Nighttime lights radiance\",\n",
    "#       y = \"Predicted\\nnighttime\\nlights\\nradiance\",\n",
    "#       caption = \"Nighttime lights values are logged\") +\n",
    "#  #theme_ipsum() +\n",
    "#  theme(axis.title.y = element_text(angle = 0, vjust = 0.5),\n",
    "#        plot.caption = element_text(size = 6)) "
   ]
  },
  {
   "cell_type": "code",
   "execution_count": null,
   "id": "concrete-scheme",
   "metadata": {},
   "outputs": [],
   "source": []
  },
  {
   "cell_type": "code",
   "execution_count": 6,
   "id": "surprised-brisbane",
   "metadata": {},
   "outputs": [],
   "source": []
  },
  {
   "cell_type": "code",
   "execution_count": null,
   "id": "seventh-insulation",
   "metadata": {},
   "outputs": [],
   "source": []
  },
  {
   "cell_type": "code",
   "execution_count": null,
   "id": "bigger-wesley",
   "metadata": {},
   "outputs": [],
   "source": []
  }
 ],
 "metadata": {
  "kernelspec": {
   "display_name": "R",
   "language": "R",
   "name": "ir"
  },
  "language_info": {
   "codemirror_mode": "r",
   "file_extension": ".r",
   "mimetype": "text/x-r-source",
   "name": "R",
   "pygments_lexer": "r",
   "version": "4.0.3"
  }
 },
 "nbformat": 4,
 "nbformat_minor": 5
}
