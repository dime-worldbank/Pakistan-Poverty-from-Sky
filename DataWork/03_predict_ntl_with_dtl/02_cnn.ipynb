{
  "nbformat": 4,
  "nbformat_minor": 0,
  "metadata": {
    "kernelspec": {
      "display_name": "Python 3",
      "language": "python",
      "name": "python3"
    },
    "language_info": {
      "codemirror_mode": {
        "name": "ipython",
        "version": 3
      },
      "file_extension": ".py",
      "mimetype": "text/x-python",
      "name": "python",
      "nbconvert_exporter": "python",
      "pygments_lexer": "ipython3",
      "version": "3.7.2"
    },
    "colab": {
      "name": "01_cnn.ipynb",
      "provenance": [],
      "include_colab_link": true
    },
    "accelerator": "GPU"
  },
  "cells": [
    {
      "cell_type": "markdown",
      "metadata": {
        "id": "view-in-github",
        "colab_type": "text"
      },
      "source": [
        "<a href=\"https://colab.research.google.com/github/worldbank/Pakistan-Poverty-from-Sky/blob/master/DataWork/03_predict_ntl_with_dtl/02_cnn.ipynb\" target=\"_parent\"><img src=\"https://colab.research.google.com/assets/colab-badge.svg\" alt=\"Open In Colab\"/></a>"
      ]
    },
    {
      "cell_type": "markdown",
      "metadata": {
        "id": "z34KtcX5Pp7o",
        "colab_type": "text"
      },
      "source": [
        "# __Predicting NTL using DTL__\n",
        "\n",
        "__Code in Github:__ _/DataWork/03_predict_ntl_with_dtl/02_cnn.ipynb"
      ]
    },
    {
      "cell_type": "markdown",
      "metadata": {
        "id": "Vds1yHMwLJp2",
        "colab_type": "text"
      },
      "source": [
        "## **Filepaths and Libraries**"
      ]
    },
    {
      "cell_type": "code",
      "metadata": {
        "id": "UOdgNXFG8EmH",
        "colab_type": "code",
        "colab": {}
      },
      "source": [
        "# Path in github\n",
        "# DataWork/03_analysis/poverty_estimation/01_cnn.ipynb"
      ],
      "execution_count": 4,
      "outputs": []
    },
    {
      "cell_type": "code",
      "metadata": {
        "id": "206o8Vv6OjtI",
        "colab_type": "code",
        "colab": {}
      },
      "source": [
        "# Set seeds. Note that using a GPU can still introduce randomness.\n",
        "# (also not taking into account tensorflow randomness)\n",
        "from numpy.random import seed\n",
        "seed(42)"
      ],
      "execution_count": 5,
      "outputs": []
    },
    {
      "cell_type": "code",
      "metadata": {
        "id": "urMUqpA_1_fM",
        "colab_type": "code",
        "colab": {
          "base_uri": "https://localhost:8080/",
          "height": 34
        },
        "outputId": "5e30a425-ac50-4395-aa7f-e39e801b3d52"
      },
      "source": [
        "# Mount Drive\n",
        "from google.colab import drive\n",
        "drive.mount('/content/drive')"
      ],
      "execution_count": 7,
      "outputs": [
        {
          "output_type": "stream",
          "text": [
            "Drive already mounted at /content/drive; to attempt to forcibly remount, call drive.mount(\"/content/drive\", force_remount=True).\n"
          ],
          "name": "stdout"
        }
      ]
    },
    {
      "cell_type": "code",
      "metadata": {
        "id": "KjmhWLqU95-J",
        "colab_type": "code",
        "colab": {}
      },
      "source": [
        "#drive.flush_and_unmount()"
      ],
      "execution_count": 8,
      "outputs": []
    },
    {
      "cell_type": "code",
      "metadata": {
        "id": "hbrNDZWq2UdD",
        "colab_type": "code",
        "colab": {}
      },
      "source": [
        "# Filepaths\n",
        "import os, datetime\n",
        "\n",
        "PROJECT_DIRECTORY = os.path.join('/content/drive', 'My Drive', 'World Bank', 'Pakistan Poverty Estimation')\n",
        "\n",
        "CNN_FILENAME = os.path.join(PROJECT_DIRECTORY, 'Models', 'CNN', 'script_CNN.h5')\n",
        "CNN_PARAMS_FILENAME = os.path.join(PROJECT_DIRECTORY, 'Models', 'CNN', 'CNN_parameters.json')\n",
        "NTL_FILENAME = os.path.join(PROJECT_DIRECTORY, 'Data', 'CNN - Processed Inputs', 'ntl.npy')\n",
        "DTL_FILENAME = os.path.join(PROJECT_DIRECTORY, 'Data', 'CNN - Processed Inputs', 'dtl.npy')"
      ],
      "execution_count": 9,
      "outputs": []
    },
    {
      "cell_type": "code",
      "metadata": {
        "id": "tWeveSe00gul",
        "colab_type": "code",
        "colab": {}
      },
      "source": [
        "import os, datetime\n",
        "import numpy as np\n",
        "import pandas as pd\n",
        "import json\n",
        "\n",
        "from sklearn.preprocessing import KBinsDiscretizer\n",
        "from sklearn.model_selection import train_test_split, KFold\n",
        "from sklearn.metrics import classification_report, confusion_matrix\n",
        "\n",
        "from keras.utils import to_categorical\n",
        "from keras.models import Sequential, Model\n",
        "from keras.layers import Conv2D, MaxPooling2D, Flatten, Dense, GlobalAveragePooling2D, Dropout\n",
        "from keras.callbacks import EarlyStopping, ModelCheckpoint\n",
        "from keras.models import load_model\n",
        "from keras.applications.vgg16 import VGG16\n",
        "from keras.applications.inception_v3 import preprocess_input\n",
        "\n",
        "import logging, os \n",
        "import random\n",
        "import tensorflow as tf"
      ],
      "execution_count": 10,
      "outputs": []
    },
    {
      "cell_type": "markdown",
      "metadata": {
        "id": "I5k-bEJvLVvj",
        "colab_type": "text"
      },
      "source": [
        "## **Functions**"
      ]
    },
    {
      "cell_type": "code",
      "metadata": {
        "id": "fkAYWJCg0gut",
        "colab_type": "code",
        "colab": {}
      },
      "source": [
        "def transform_target(gdf, orig_target_name, n_bins):\n",
        "    '''\n",
        "    Creates log NTL variable and bins into 5 classes using k-means clutering.\n",
        "    '''\n",
        "    # Perform log(x+1) for defined domain\n",
        "    transformed_target_name = f'log_{orig_target_name}'\n",
        "    gdf[transformed_target_name] = np.log(gdf[orig_target_name] + 1)\n",
        "    # Bin target\n",
        "    target = gdf[transformed_target_name].to_numpy().reshape(-1,1)\n",
        "    discretizer = KBinsDiscretizer(n_bins=n_bins, encode='ordinal', strategy='kmeans')\n",
        "    gdf[FINAL_TARGET_NAME] = discretizer.fit_transform(target)\n",
        "\n",
        "def normalize(X):\n",
        "    '''\n",
        "    Normalizes features.\n",
        "    '''\n",
        "    return X.astype('float32') / 255.0\n",
        "\n",
        "def define_model_imagenet(height, width, channels, num_classes):\n",
        "    '''\n",
        "    Defines and compiles CNN model.\n",
        "    \n",
        "    Inputs:\n",
        "        height, width, channels, num_classes (int)\n",
        "    Returns:\n",
        "        model (keras.Model object)\n",
        "    '''\n",
        "\n",
        "    # https://medium.com/abraia/first-steps-with-transfer-learning-for-custom-image-classification-with-keras-b941601fcad5\n",
        "    # https://towardsdatascience.com/cnn-transfer-learning-fine-tuning-9f3e7c5806b2\n",
        "\n",
        "    #### Base model\n",
        "    input_shape = (height, width, channels)\n",
        "    base_model = VGG16(weights='imagenet', include_top=False, input_shape=input_shape)\n",
        "\n",
        "    for layer in base_model.layers:\n",
        "        layer.trainable = False\n",
        "\n",
        "    #### Model Customization\n",
        "    # We take the last layer of our the model and add it to our classifier\n",
        "    last = base_model.layers[-1].output\n",
        "    x = Flatten()(last)\n",
        "    x = Dense(1000, activation='relu', name='fc1')(x)\n",
        "    x = Dropout(0.3)(x)\n",
        "    x = Dense(1000, activation='relu', name='fc2')(x)\n",
        "    x = Dropout(0.3)(x)\n",
        "    x = Dense(100, activation='relu', name='fc3')(x)\n",
        "    x = Dropout(0.3)(x)\n",
        "    x = Dense(num_classes, activation='softmax', name='predictions')(x)\n",
        "    model = Model(base_model.input, x)\n",
        "    # We compile the model\n",
        "    model.compile(optimizer='rmsprop',\n",
        "              loss='categorical_crossentropy',\n",
        "              metrics=['accuracy'])\n",
        "\n",
        "    #model.compile(optimizer=Adam(lr=0.001), loss='categorical_crossentropy', metrics=['accuracy'])\n",
        "\n",
        "    #x = base_model.output\n",
        "    #x = GlobalAveragePooling2D(name='avg_pool')(x)\n",
        "    #x = Dropout(0.4)(x)\n",
        "    #x = Dense(100, activation='relu', name='dense1')(x)\n",
        "    #predictions = Dense(num_classes, activation='softmax')(x)\n",
        "    #model = Model(inputs=base_model.input, outputs=predictions)\n",
        "\n",
        "    #model.compile(optimizer='rmsprop',\n",
        "    #          loss='categorical_crossentropy',\n",
        "    #          metrics=['accuracy'])\n",
        "\n",
        "    return model\n",
        "\n",
        "\n",
        "def evaluate_model(model, trainX, trainY, testX, testY):\n",
        "    '''\n",
        "    Fits model, evaluates model, saves best model over epochs and cross-validations.\n",
        "    \n",
        "    Inputs:\n",
        "        model (CNN model) keras.Model object\n",
        "        trainX, trainY (numpy.ndarray) 4D array of DTL features and 2D array of targets for training\n",
        "        testX, testY (numpy.ndarray) 4D array of DTL features and 2D array of targets for testing\n",
        "        current_kfold (int) iteration in kfold cross-val, default=None for no cross-val\n",
        "        display_metrics (bool) Default=False\n",
        "    Returns:\n",
        "        None\n",
        "    # https://towardsdatascience.com/step-by-step-guide-to-using-pretrained-models-in-keras-c9097b647b29\n",
        "    '''\n",
        "\n",
        "    # Use early stopping to help with overfitting\n",
        "    es = EarlyStopping(monitor='val_loss', mode='min', patience=10, verbose=False)\n",
        "\n",
        "    # Save best model based on accuracy\n",
        "    mc = ModelCheckpoint(CNN_FILENAME, monitor='val_loss', mode='min', \n",
        "                         verbose=True, save_best_only=True)\n",
        "\n",
        "    # Fit model\n",
        "    model.fit(trainX, trainY, \n",
        "            epochs=100, \n",
        "            batch_size=500, \n",
        "            validation_data=(testX, testY), \n",
        "            callbacks=[es, mc], \n",
        "            verbose=False)\n",
        "\n",
        "    # Show accuracy\n",
        "    loss, accuracy = model.evaluate(testX, testY, verbose=False)\n",
        "    print(f'                              Accuracy: {accuracy}')\n",
        "\n",
        "    #return model\n",
        "        \n",
        "\n",
        "def evaluate_with_crossval(model, dataX, dataY, k=2):\n",
        "    '''\n",
        "    Performs evaulation with K-fold cross validation.\n",
        "    \n",
        "    Inputs:\n",
        "        model (keras.Model object)\n",
        "        dataX, dataY (numpy.ndarray) 4D array of DTL features and 2D array of targets \n",
        "                                     for training\n",
        "        k (int)\n",
        "    Returns:\n",
        "        None\n",
        "    '''\n",
        "    # Define k-fold cross-val\n",
        "    kfold = KFold(k, shuffle=True, random_state=1)\n",
        "    # Loop through folds\n",
        "    count = 1\n",
        "    for train_idx, test_idx in kfold.split(dataX):\n",
        "        print(f'{datetime.datetime.now()}    --- Current K-fold: {count} ---')\n",
        "        # Select subsets for training and testing\n",
        "        trainX, trainY, testX, testY = dataX[train_idx], dataY[train_idx], \\\n",
        "                                       dataX[test_idx], dataY[test_idx]\n",
        "        # Pass to evaluate_model function\n",
        "        evaluate_model(model, trainX, trainY, testX, testY)\n",
        "        count += 1\n",
        "\n",
        "def display_eval_metrics(model, testX, testY, n_ntl_bins):\n",
        "    '''\n",
        "    Displays evaluation metrics for a given trained model.\n",
        "    '''\n",
        "    # Get predictions\n",
        "    predY = model.predict(testX)\n",
        "    predY = np.argmax(predY, axis = 1)\n",
        "    testY_bins = np.argmax(testY, axis = 1)\n",
        "    # Generate classification report\n",
        "    classes = ['Radiance Level %01d' %i for i in range(1,n_ntl_bins+1)]\n",
        "    print(classification_report(testY_bins, predY, target_names=classes))"
      ],
      "execution_count": 17,
      "outputs": []
    },
    {
      "cell_type": "markdown",
      "metadata": {
        "id": "C4lWj5moLdQW",
        "colab_type": "text"
      },
      "source": [
        "## **Load Parameters**"
      ]
    },
    {
      "cell_type": "code",
      "metadata": {
        "id": "S7mQb5uJ6BEq",
        "colab_type": "code",
        "colab": {}
      },
      "source": [
        "with open(CNN_PARAMS_FILENAME, 'r') as fp:\n",
        "    cnn_param_dict = json.load(fp)\n",
        "\n",
        "N_bands = cnn_param_dict['N_bands']\n",
        "n_ntl_bins = cnn_param_dict['n_ntl_bins']\n",
        "image_height = cnn_param_dict['image_height']\n",
        "image_width = cnn_param_dict['image_width']\n",
        "bands = cnn_param_dict['bands']\n",
        "min_ntl_bin_count = cnn_param_dict['bands']"
      ],
      "execution_count": 18,
      "outputs": []
    },
    {
      "cell_type": "markdown",
      "metadata": {
        "id": "LZ0rFqCiLhM0",
        "colab_type": "text"
      },
      "source": [
        "## **Load and Prep Data**"
      ]
    },
    {
      "cell_type": "code",
      "metadata": {
        "id": "vuCKwuARKt_E",
        "colab_type": "code",
        "colab": {
          "base_uri": "https://localhost:8080/",
          "height": 102
        },
        "outputId": "99e46408-a914-4fb4-ae58-cda6cf08f0f9"
      },
      "source": [
        "# Load Data\n",
        "NTL = np.load(NTL_FILENAME)\n",
        "DTL = np.load(DTL_FILENAME)\n",
        "\n",
        "# SPLIT DATA INTO TRAINING AND TESTING\n",
        "trainX, testX, raw_trainY, raw_testY = train_test_split(DTL, NTL, \n",
        "                                                        test_size=0.2)\n",
        "\n",
        "\n",
        "# PREP TRAINING AND TESTING DATA\n",
        "trainY = to_categorical(raw_trainY)\n",
        "testY = to_categorical(raw_testY)\n",
        "\n",
        "\n",
        "print(np.unique(NTL, return_counts=True))\n",
        "\n",
        "print(np.unique(raw_trainY, return_counts=True))\n",
        "print(np.unique(raw_testY, return_counts=True))\n",
        "\n",
        "print(np.unique(trainY, return_counts=True))\n",
        "print(np.unique(testY, return_counts=True))\n",
        "\n",
        "# PREP PIXELS IN FEATURES\n",
        "trainX, testX = normalize(trainX), normalize(testX)"
      ],
      "execution_count": 19,
      "outputs": [
        {
          "output_type": "stream",
          "text": [
            "(array([0., 1., 2., 3., 4.]), array([6600, 6600, 6600, 6600, 6600]))\n",
            "(array([0., 1., 2., 3., 4.]), array([5288, 5257, 5263, 5280, 5312]))\n",
            "(array([0., 1., 2., 3., 4.]), array([1312, 1343, 1337, 1320, 1288]))\n",
            "(array([0., 1.], dtype=float32), array([105600,  26400]))\n",
            "(array([0., 1.], dtype=float32), array([26400,  6600]))\n"
          ],
          "name": "stdout"
        }
      ]
    },
    {
      "cell_type": "markdown",
      "metadata": {
        "id": "bKlWDX3gLkde",
        "colab_type": "text"
      },
      "source": [
        "## **Run Model**"
      ]
    },
    {
      "cell_type": "code",
      "metadata": {
        "id": "icaSC1870guy",
        "colab_type": "code",
        "colab": {}
      },
      "source": [
        "model = define_model_imagenet(image_height, image_width, N_bands, n_ntl_bins)"
      ],
      "execution_count": 20,
      "outputs": []
    },
    {
      "cell_type": "code",
      "metadata": {
        "id": "DTt_30BEMrss",
        "colab_type": "code",
        "colab": {
          "base_uri": "https://localhost:8080/",
          "height": 734
        },
        "outputId": "e18a2459-0fda-4ca1-90b0-b56cb4639441"
      },
      "source": [
        "evaluate_model(model, trainX, trainY, testX, testY)"
      ],
      "execution_count": 21,
      "outputs": [
        {
          "output_type": "stream",
          "text": [
            "\n",
            "Epoch 00001: val_loss improved from inf to 1.30450, saving model to /content/drive/My Drive/World Bank/Pakistan Poverty Estimation/Models/CNN/script_CNN.h5\n",
            "\n",
            "Epoch 00002: val_loss improved from 1.30450 to 1.27288, saving model to /content/drive/My Drive/World Bank/Pakistan Poverty Estimation/Models/CNN/script_CNN.h5\n",
            "\n",
            "Epoch 00003: val_loss improved from 1.27288 to 1.25393, saving model to /content/drive/My Drive/World Bank/Pakistan Poverty Estimation/Models/CNN/script_CNN.h5\n",
            "\n",
            "Epoch 00004: val_loss improved from 1.25393 to 1.24652, saving model to /content/drive/My Drive/World Bank/Pakistan Poverty Estimation/Models/CNN/script_CNN.h5\n",
            "\n",
            "Epoch 00005: val_loss improved from 1.24652 to 1.24270, saving model to /content/drive/My Drive/World Bank/Pakistan Poverty Estimation/Models/CNN/script_CNN.h5\n",
            "\n",
            "Epoch 00006: val_loss did not improve from 1.24270\n",
            "\n",
            "Epoch 00007: val_loss did not improve from 1.24270\n",
            "\n",
            "Epoch 00008: val_loss improved from 1.24270 to 1.23497, saving model to /content/drive/My Drive/World Bank/Pakistan Poverty Estimation/Models/CNN/script_CNN.h5\n",
            "\n",
            "Epoch 00009: val_loss improved from 1.23497 to 1.22999, saving model to /content/drive/My Drive/World Bank/Pakistan Poverty Estimation/Models/CNN/script_CNN.h5\n",
            "\n",
            "Epoch 00010: val_loss improved from 1.22999 to 1.22685, saving model to /content/drive/My Drive/World Bank/Pakistan Poverty Estimation/Models/CNN/script_CNN.h5\n",
            "\n",
            "Epoch 00011: val_loss did not improve from 1.22685\n",
            "\n",
            "Epoch 00012: val_loss did not improve from 1.22685\n",
            "\n",
            "Epoch 00013: val_loss did not improve from 1.22685\n",
            "\n",
            "Epoch 00014: val_loss did not improve from 1.22685\n",
            "\n",
            "Epoch 00015: val_loss did not improve from 1.22685\n",
            "\n",
            "Epoch 00016: val_loss did not improve from 1.22685\n",
            "\n",
            "Epoch 00017: val_loss did not improve from 1.22685\n",
            "\n",
            "Epoch 00018: val_loss did not improve from 1.22685\n",
            "\n",
            "Epoch 00019: val_loss did not improve from 1.22685\n",
            "\n",
            "Epoch 00020: val_loss did not improve from 1.22685\n",
            "                              Accuracy: 0.47515150904655457\n"
          ],
          "name": "stdout"
        }
      ]
    },
    {
      "cell_type": "code",
      "metadata": {
        "id": "0akMTs7NK4iJ",
        "colab_type": "code",
        "colab": {
          "base_uri": "https://localhost:8080/",
          "height": 221
        },
        "outputId": "0033c213-2a22-481d-d9e7-853e3c9fb6dc"
      },
      "source": [
        "# DISPLAY IN-DEPTH EVALUTAION METRICS\n",
        "best_model = load_model(CNN_FILENAME)\n",
        "display_eval_metrics(model, testX, testY, n_ntl_bins)"
      ],
      "execution_count": 22,
      "outputs": [
        {
          "output_type": "stream",
          "text": [
            "                  precision    recall  f1-score   support\n",
            "\n",
            "Radiance Level 1       0.63      0.79      0.70      1312\n",
            "Radiance Level 2       0.43      0.34      0.38      1343\n",
            "Radiance Level 3       0.38      0.41      0.39      1337\n",
            "Radiance Level 4       0.33      0.27      0.30      1320\n",
            "Radiance Level 5       0.55      0.56      0.56      1288\n",
            "\n",
            "        accuracy                           0.48      6600\n",
            "       macro avg       0.46      0.48      0.47      6600\n",
            "    weighted avg       0.46      0.48      0.47      6600\n",
            "\n"
          ],
          "name": "stdout"
        }
      ]
    },
    {
      "cell_type": "code",
      "metadata": {
        "id": "7VYvJlW58z-M",
        "colab_type": "code",
        "colab": {}
      },
      "source": [
        ""
      ],
      "execution_count": null,
      "outputs": []
    }
  ]
}