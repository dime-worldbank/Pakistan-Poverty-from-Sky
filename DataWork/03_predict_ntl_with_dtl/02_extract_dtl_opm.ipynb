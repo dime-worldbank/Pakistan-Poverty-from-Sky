{
 "cells": [
  {
   "cell_type": "markdown",
   "id": "sustained-oliver",
   "metadata": {},
   "source": [
    "# Extract DTL Data to OPM\n",
    "\n",
    "Extracts numpy array of DTL around BISP coordinates and saves a pandas dataframe (pickled) of the UIDs corresponding to each numpy array. Processes data so that features can be extracted from the numpy array using the trained CNN model.\n",
    "\n",
    "TODO: Still need to get working with sagemaker -- (1) load raster tiles and (2) resolve issues installing geopandas and rasterio\n",
    "\n",
    "__Use the conda_python3 kernel; works better for install geopandas and rasterio__"
   ]
  },
  {
   "cell_type": "markdown",
   "id": "annual-camping",
   "metadata": {},
   "source": [
    "## Setup"
   ]
  },
  {
   "cell_type": "code",
   "execution_count": null,
   "id": "unknown-massage",
   "metadata": {},
   "outputs": [],
   "source": [
    "# This takes a while\n",
    "#%conda install geopandas\n",
    "#%conda install rasterio"
   ]
  },
  {
   "cell_type": "code",
   "execution_count": null,
   "id": "continuing-travel",
   "metadata": {},
   "outputs": [],
   "source": [
    "import os, math, pickle, datetime, json\n",
    "import numpy as np\n",
    "import pandas as pd\n",
    "import geopandas as gpd\n",
    "import json\n",
    "import rasterio\n",
    "from rasterio.plot import show\n",
    "\n",
    "from geopandas import GeoDataFrame\n",
    "from shapely.geometry import Point\n",
    "\n",
    "from sklearn.decomposition import PCA\n",
    "from sklearn.model_selection import train_test_split\n",
    "from sklearn.preprocessing import StandardScaler\n",
    "from sklearn.svm import LinearSVC\n",
    "from sklearn.tree import DecisionTreeClassifier\n",
    "from sklearn.ensemble import (BaggingClassifier, AdaBoostClassifier, \n",
    "                              GradientBoostingClassifier, RandomForestClassifier)\n",
    "from sklearn.neighbors import KNeighborsClassifier\n",
    "from sklearn.naive_bayes import GaussianNB\n",
    "from sklearn.metrics import (accuracy_score, precision_score, \n",
    "                             recall_score, classification_report)\n",
    "#from keras.models import load_model\n",
    "\n",
    "import warnings\n",
    "import random\n",
    "#import tensorflow as tf\n",
    "warnings.filterwarnings('ignore')\n",
    "\n",
    "import boto3\n",
    "from sagemaker import get_execution_role\n",
    "from s3fs.core import S3FileSystem \n",
    "s3 = S3FileSystem()\n",
    "role = get_execution_role()\n",
    "\n",
    "## User Defined\n",
    "import config as cf\n",
    "import feature_extraction as fe\n",
    "\n",
    "bucket = 'worldbank-pakistan-data'\n",
    "LOCAL_DIR = '/home/ec2-user/SageMaker/'\n",
    "  "
   ]
  },
  {
   "cell_type": "markdown",
   "id": "demanding-basis",
   "metadata": {},
   "source": [
    "## Functions"
   ]
  },
  {
   "cell_type": "code",
   "execution_count": null,
   "id": "manual-meditation",
   "metadata": {},
   "outputs": [],
   "source": [
    "def pd_to_gdp(df, lat_name = 'latitude', lon_name = 'longitude'):\n",
    "    '''\n",
    "    Converts a pandas dataframe with lat and long variables into\n",
    "    geopandas point data\n",
    "\n",
    "    Input:  df - pandas dataframe\n",
    "            lat_name - name of latitude variable in df\n",
    "            lon_name - name of longitude variable in df\n",
    "    Output: geopandas dataframe\n",
    "    '''\n",
    "\n",
    "    geometry = [Point(xy) for xy in zip(df[lon_name], df[lat_name])]\n",
    "    df = df.drop([lon_name, lat_name], axis=1)\n",
    "    gdf = GeoDataFrame(df, crs=\"EPSG:4326\", geometry=geometry)\n",
    "\n",
    "    return gdf\n",
    "\n",
    "def extract_dtl_opm(bands_type, year):\n",
    "\n",
    "    # 0. Load Bands\n",
    "    if bands_type == \"RGB\":\n",
    "        bands = ['4', '3', '2']\n",
    "\n",
    "    # 1. Load Grid for DTL Tiles\n",
    "    dtl_tiles = gpd.read_file(s3.open('{}/{}'.format(bucket, os.path.join('Country Grid', 'FinalData', 'pak_grid_200km.geojson'))))\n",
    "    #dtl_tiles = gpd.read_file(os.path.join(cf.DROPBOX_DIRECTORY, 'Data', 'Country Grid', 'FinalData', 'pak_grid_200km.geojson'))\n",
    "    dtl_tiles.rename(columns = {'id': 'tile_id'}, inplace=True)\n",
    "\n",
    "    # 2. Prep BISP data\n",
    "    # Load, convert to geopandas, extract dtl tile\n",
    "    bisp_df = pd.read_csv(s3.open('{}/{}'.format(bucket, os.path.join('OPM', 'FinalData - PII', 'GPS_uid_crosswalk.csv'))), engine = 'python')\n",
    "    #bisp_df = pd.read_csv(os.path.join(cf.SECURE_DATA_DIRECTORY, 'Data', 'BISP', 'FinalData - PII', 'GPS_uid_crosswalk.csv'), engine = 'python')\n",
    "    bisp_gdf = pd_to_gdp(bisp_df)\n",
    "    bisp_gdf = gpd.sjoin(bisp_gdf, dtl_tiles, how=\"inner\", op='intersects').reset_index(drop=True)\n",
    "    bisp_gdf['geometry'] = bisp_gdf.buffer(distance = 0.75/111.12).envelope\n",
    "    \n",
    "    # 3. Extract DTL to BISP Coordinates\n",
    "\n",
    "    # Load CNN parameters \n",
    "    # Use this for paramers; just effects img_height and img_weidth\n",
    "    param_name = \"Nbands3_nNtlBins3_minNTLbinCount16861\"\n",
    "    PARAM_PATH_JSON = os.path.join('CNN', param_name, 'CNN_parameters.json')\n",
    "\n",
    "    content_object = boto3.resource('s3').Object(bucket, PARAM_PATH_JSON)\n",
    "    file_content = content_object.get()['Body'].read().decode('utf-8')\n",
    "    cnn_param_dict = json.loads(file_content)\n",
    "    \n",
    "    #with open(PARAM_PATH_JSON, 'r') as fp:\n",
    "    #    cnn_param_dict = json.load(fp)\n",
    "\n",
    "    # Extract\n",
    "    DTL, bisp_gdf_processed = fe.map_DTL_NTL(input_gdf = bisp_gdf, \n",
    "                                        directory = os.path.join('Landsat', 'l8', str(year)), \n",
    "                                        bands = bands, \n",
    "                                        img_height = cnn_param_dict['image_height'], \n",
    "                                        img_width = cnn_param_dict['image_width'],\n",
    "                                        year = year)\n",
    "\n",
    "    bisp_gdf_processed = bisp_gdf_processed[['uid']]\n",
    "\n",
    "    # 4. Export\n",
    "    np.save(os.path.join(LOCAL_DIR, 'bisp_dtl_bands' + bands_type + \"_\" + str(year) + '.npy'), DTL)\n",
    "    bisp_gdf_processed.to_pickle(os.path.join(LOCAL_DIR, 'bisp_dtl_uids_bands' + bands_type + \"_\" + str(year) + '.pkl'))\n",
    "\n",
    "    boto3.Session().resource('s3').Bucket(bucket).Object(os.path.join('OPM', 'FinalData', 'Individual Datasets', 'bisp_dtl_bands' + bands_type + \"_\" + str(year) + '.npy')).upload_file(os.path.join(LOCAL_DIR, 'bisp_dtl_bands' + bands_type + \"_\" + str(year) + '.npy'))\n",
    "    boto3.Session().resource('s3').Bucket(bucket).Object(os.path.join('OPM', 'FinalData', 'Individual Datasets', 'bisp_dtl_uids_bands' + bands_type + \"_\" + str(year) + '.pkl')).upload_file(os.path.join(LOCAL_DIR, 'bisp_dtl_uids_bands' + bands_type + \"_\" + str(year) + '.pkl'))\n",
    "\n",
    "    #np.save(os.path.join(        cf.DROPBOX_DIRECTORY, 'Data', 'BISP' , 'FinalData', 'Individual Datasets', 'bisp_dtl_bands' + bands_type + \"_\" + str(year) + '.npy'), DTL)\n",
    "    #bisp_gdf_processed.to_pickle(os.path.join(cf.DROPBOX_DIRECTORY, 'Data', 'BISP' , 'FinalData', 'Individual Datasets', 'bisp_dtl_uids_bands' + bands_type + \"_\" + str(year) + '.pkl'))"
   ]
  },
  {
   "cell_type": "markdown",
   "id": "periodic-newton",
   "metadata": {},
   "source": [
    "## Extract Daytime Imagery to OPM"
   ]
  },
  {
   "cell_type": "code",
   "execution_count": null,
   "id": "active-genre",
   "metadata": {},
   "outputs": [],
   "source": [
    "extract_dtl_opm(\"RGB\", 2014)"
   ]
  },
  {
   "cell_type": "code",
   "execution_count": 16,
   "id": "forbidden-genealogy",
   "metadata": {},
   "outputs": [],
   "source": [
    "#bucket = 'worldbank-pakistan-data'"
   ]
  },
  {
   "cell_type": "code",
   "execution_count": 9,
   "id": "arranged-senior",
   "metadata": {},
   "outputs": [],
   "source": [
    "r_data = rasterio.open(s3.open('{}/{}'.format(bucket, os.path.join('Landsat', 'l8', '2014', 'l8_2014_tile1_b1.tif'))))"
   ]
  },
  {
   "cell_type": "code",
   "execution_count": 10,
   "id": "chemical-planning",
   "metadata": {},
   "outputs": [],
   "source": [
    "dtl_tiles = gpd.read_file(s3.open('{}/{}'.format(bucket, os.path.join('Country Grid', 'FinalData', 'pak_grid_200km.geojson'))))\n",
    "shapes = getFeatures(dtl_tiles) "
   ]
  },
  {
   "cell_type": "code",
   "execution_count": 11,
   "id": "generous-chocolate",
   "metadata": {},
   "outputs": [],
   "source": [
    "def getFeatures(gdf):\n",
    "    \"\"\"Function to parse features from GeoDataFrame in such a manner that rasterio wants them\"\"\"\n",
    "    import json\n",
    "    return [json.loads(gdf.to_json())['features'][0]['geometry']]\n"
   ]
  },
  {
   "cell_type": "code",
   "execution_count": 12,
   "id": "previous-belgium",
   "metadata": {},
   "outputs": [
    {
     "ename": "AttributeError",
     "evalue": "'_GeneratorContextManager' object has no attribute 'nodata'",
     "output_type": "error",
     "traceback": [
      "\u001b[0;31m---------------------------------------------------------------------------\u001b[0m",
      "\u001b[0;31mAttributeError\u001b[0m                            Traceback (most recent call last)",
      "\u001b[0;32m<ipython-input-12-2fe601e02737>\u001b[0m in \u001b[0;36m<module>\u001b[0;34m\u001b[0m\n\u001b[1;32m      1\u001b[0m \u001b[0;32mfrom\u001b[0m \u001b[0mrasterio\u001b[0m\u001b[0;34m.\u001b[0m\u001b[0mmask\u001b[0m \u001b[0;32mimport\u001b[0m \u001b[0mmask\u001b[0m\u001b[0;34m\u001b[0m\u001b[0;34m\u001b[0m\u001b[0m\n\u001b[0;32m----> 2\u001b[0;31m \u001b[0mout_img\u001b[0m\u001b[0;34m,\u001b[0m \u001b[0mout_transform\u001b[0m \u001b[0;34m=\u001b[0m \u001b[0mmask\u001b[0m\u001b[0;34m(\u001b[0m\u001b[0mr_data\u001b[0m\u001b[0;34m,\u001b[0m \u001b[0mshapes\u001b[0m\u001b[0;34m=\u001b[0m\u001b[0mshapes\u001b[0m\u001b[0;34m,\u001b[0m \u001b[0mcrop\u001b[0m\u001b[0;34m=\u001b[0m\u001b[0;32mTrue\u001b[0m\u001b[0;34m)\u001b[0m\u001b[0;34m\u001b[0m\u001b[0;34m\u001b[0m\u001b[0m\n\u001b[0m\u001b[1;32m      3\u001b[0m \u001b[0;34m\u001b[0m\u001b[0m\n",
      "\u001b[0;32m~/anaconda3/envs/python3/lib/python3.6/site-packages/rasterio/mask.py\u001b[0m in \u001b[0;36mmask\u001b[0;34m(dataset, shapes, all_touched, invert, nodata, filled, crop, pad, pad_width, indexes)\u001b[0m\n\u001b[1;32m    171\u001b[0m \u001b[0;34m\u001b[0m\u001b[0m\n\u001b[1;32m    172\u001b[0m     \u001b[0;32mif\u001b[0m \u001b[0mnodata\u001b[0m \u001b[0;32mis\u001b[0m \u001b[0;32mNone\u001b[0m\u001b[0;34m:\u001b[0m\u001b[0;34m\u001b[0m\u001b[0;34m\u001b[0m\u001b[0m\n\u001b[0;32m--> 173\u001b[0;31m         \u001b[0;32mif\u001b[0m \u001b[0mdataset\u001b[0m\u001b[0;34m.\u001b[0m\u001b[0mnodata\u001b[0m \u001b[0;32mis\u001b[0m \u001b[0;32mnot\u001b[0m \u001b[0;32mNone\u001b[0m\u001b[0;34m:\u001b[0m\u001b[0;34m\u001b[0m\u001b[0;34m\u001b[0m\u001b[0m\n\u001b[0m\u001b[1;32m    174\u001b[0m             \u001b[0mnodata\u001b[0m \u001b[0;34m=\u001b[0m \u001b[0mdataset\u001b[0m\u001b[0;34m.\u001b[0m\u001b[0mnodata\u001b[0m\u001b[0;34m\u001b[0m\u001b[0;34m\u001b[0m\u001b[0m\n\u001b[1;32m    175\u001b[0m         \u001b[0;32melse\u001b[0m\u001b[0;34m:\u001b[0m\u001b[0;34m\u001b[0m\u001b[0;34m\u001b[0m\u001b[0m\n",
      "\u001b[0;31mAttributeError\u001b[0m: '_GeneratorContextManager' object has no attribute 'nodata'"
     ]
    }
   ],
   "source": [
    "from rasterio.mask import mask\n",
    "out_img, out_transform = mask(r_data, shapes=shapes, crop=True)"
   ]
  },
  {
   "cell_type": "code",
   "execution_count": 13,
   "id": "meaning-majority",
   "metadata": {},
   "outputs": [
    {
     "data": {
      "text/plain": [
       "<contextlib._GeneratorContextManager at 0x7f2e02610ba8>"
      ]
     },
     "execution_count": 13,
     "metadata": {},
     "output_type": "execute_result"
    }
   ],
   "source": [
    "r_data"
   ]
  },
  {
   "cell_type": "code",
   "execution_count": 17,
   "id": "interesting-fantasy",
   "metadata": {},
   "outputs": [],
   "source": [
    "r_data = rasterio.open('s3://worldbank-pakistan-data/Landsat/l8/2014/l8_2014_tile1_b1.tif') "
   ]
  },
  {
   "cell_type": "code",
   "execution_count": 19,
   "id": "continuous-morocco",
   "metadata": {},
   "outputs": [],
   "source": [
    "from rasterio.mask import mask\n",
    "out_img, out_transform = mask(r_data, shapes=shapes, crop=True)\n",
    "    "
   ]
  },
  {
   "cell_type": "code",
   "execution_count": null,
   "id": "steady-thousand",
   "metadata": {},
   "outputs": [],
   "source": []
  }
 ],
 "metadata": {
  "kernelspec": {
   "display_name": "conda_python3",
   "language": "python",
   "name": "conda_python3"
  },
  "language_info": {
   "codemirror_mode": {
    "name": "ipython",
    "version": 3
   },
   "file_extension": ".py",
   "mimetype": "text/x-python",
   "name": "python",
   "nbconvert_exporter": "python",
   "pygments_lexer": "ipython3",
   "version": "3.6.13"
  }
 },
 "nbformat": 4,
 "nbformat_minor": 5
}
