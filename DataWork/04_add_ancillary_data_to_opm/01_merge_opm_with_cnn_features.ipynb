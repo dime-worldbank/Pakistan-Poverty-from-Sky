{
 "cells": [
  {
   "cell_type": "markdown",
   "id": "449f5832",
   "metadata": {},
   "source": [
    "# Merge OPM Survey Data with CNN Features"
   ]
  },
  {
   "cell_type": "markdown",
   "id": "249dc3cd",
   "metadata": {},
   "source": [
    "## Setup"
   ]
  },
  {
   "cell_type": "code",
   "execution_count": 112,
   "id": "a00cddd6",
   "metadata": {},
   "outputs": [],
   "source": [
    "# Load packages\n",
    "library(tidyverse)\n",
    "\n",
    "# Set up sagemaker\n",
    "library(reticulate)\n",
    "sagemaker <- import('sagemaker')\n",
    "session <- sagemaker$Session()\n",
    "\n",
    "# s3 bucket name\n",
    "bucket = \"worldbank-pakistan-data\"\n",
    "local_dir = '/home/ec2-user/SageMaker/'"
   ]
  },
  {
   "cell_type": "markdown",
   "id": "eb556e97",
   "metadata": {},
   "source": [
    "## Load Data"
   ]
  },
  {
   "cell_type": "code",
   "execution_count": 113,
   "id": "1c4011ab",
   "metadata": {},
   "outputs": [],
   "source": [
    "session$download_data(path = local_dir,\n",
    "              bucket = bucket,\n",
    "              key_prefix = 'OPM/FinalData/Individual Datasets/bisp_socioeconomic.Rds')"
   ]
  },
  {
   "cell_type": "code",
   "execution_count": 114,
   "id": "446903e9",
   "metadata": {},
   "outputs": [],
   "source": [
    "opm_df <- readRDS(file.path(local_dir, 'bisp_socioeconomic.Rds'))"
   ]
  },
  {
   "cell_type": "code",
   "execution_count": 115,
   "id": "3a861ebf",
   "metadata": {},
   "outputs": [],
   "source": [
    "param_names = c(\"Nbands3_nNtlBins3_minNTLbinCount16861\",\"Band1_nNtlBins3_minNTLbinCount16814\",\n",
    "               \"Band5_nNtlBins3_minNTLbinCount1861\",\"Band6_nNtlBins3_minNTLbinCount1861\",\n",
    "               \"Band7_nNtlBins3_minNTLbinCount1861\")\n",
    "\n",
    "cnn_df = list()\n",
    "for (i in 1:length(param_names))\n",
    "{\n",
    "    cnn_df[[i]] <- suppressWarnings(read_csv(session$read_s3_file(bucket,\n",
    "                     file.path('OPM','FinalData','Individual Datasets',\n",
    "                               paste0('bisp_cnn_features_all_',param_names[i],'_2014.csv')))))\n",
    "}"
   ]
  },
  {
   "cell_type": "code",
   "execution_count": 116,
   "id": "1938cada",
   "metadata": {},
   "outputs": [],
   "source": [
    "df_RGB = cnn_df[[1]] %>% select(-X1)\n",
    "df_Band1 = cnn_df[[2]] %>% select(-X1)\n",
    "df_Band5 = cnn_df[[3]] %>% select(-X1)\n",
    "df_Band6 = cnn_df[[4]] %>% select(-X1)\n",
    "df_Band7 = cnn_df[[5]] %>% select(-X1)"
   ]
  },
  {
   "cell_type": "code",
   "execution_count": 117,
   "id": "d0fcda8f",
   "metadata": {},
   "outputs": [],
   "source": [
    "suffix = c(\"_Nbands3\",\"_Band1\",\"_Band5\",\"_Band6\",\"_Band7\")\n",
    "\n",
    "cnn_df <- df_RGB %>% \n",
    "merge(df_Band1, by = \"uid\", suffix = suffix[1:2]) %>% \n",
    "merge(df_Band5, by = \"uid\") %>% \n",
    "merge(df_Band6, by = \"uid\", suffix = suffix[3:4]) %>%\n",
    "merge(df_Band7, by = \"uid\")\n",
    "colnames(cnn_df)[402:501] <- paste0(colnames(cnn_df)[402:501], suffix[5])"
   ]
  },
  {
   "cell_type": "markdown",
   "id": "f0c9da09",
   "metadata": {},
   "source": [
    "## Merge"
   ]
  },
  {
   "cell_type": "code",
   "execution_count": 118,
   "id": "b50c6fa0",
   "metadata": {},
   "outputs": [],
   "source": [
    "opm_df$uid <- opm_df$uid %>% as.numeric()\n",
    "cnn_df$uid <- cnn_df$uid %>% as.numeric()\n",
    "\n",
    "opm_df <- merge(opm_df, cnn_df, by = c(\"uid\"), all.x=T, all.y=F)\n",
    "\n",
    "opm_df <- opm_df %>% filter(!is.na(cnn_feat_1_Nbands3), year %in% 2014)"
   ]
  },
  {
   "cell_type": "markdown",
   "id": "0292e251",
   "metadata": {},
   "source": [
    "## Export"
   ]
  },
  {
   "cell_type": "code",
   "execution_count": 119,
   "id": "87eb5e02",
   "metadata": {},
   "outputs": [
    {
     "data": {
      "text/html": [
       "'s3://worldbank-pakistan-data/OPM/FinalData/Merged Datasets/cnn_merge.csv'"
      ],
      "text/latex": [
       "'s3://worldbank-pakistan-data/OPM/FinalData/Merged Datasets/cnn\\_merge.csv'"
      ],
      "text/markdown": [
       "'s3://worldbank-pakistan-data/OPM/FinalData/Merged Datasets/cnn_merge.csv'"
      ],
      "text/plain": [
       "[1] \"s3://worldbank-pakistan-data/OPM/FinalData/Merged Datasets/cnn_merge.csv\""
      ]
     },
     "metadata": {},
     "output_type": "display_data"
    }
   ],
   "source": [
    "write.csv(opm_df, file.path(local_dir, \"cnn_merge.csv\"), row.names = F)\n",
    "\n",
    "session$upload_data(path       = file.path(local_dir, \"cnn_merge.csv\"), \n",
    "                    bucket     = bucket, \n",
    "                    key_prefix = file.path(\"OPM\", \"FinalData\", \"Merged Datasets\"))"
   ]
  }
 ],
 "metadata": {
  "kernelspec": {
   "display_name": "R",
   "language": "R",
   "name": "ir"
  },
  "language_info": {
   "codemirror_mode": "r",
   "file_extension": ".r",
   "mimetype": "text/x-r-source",
   "name": "R",
   "pygments_lexer": "r",
   "version": "4.0.5"
  }
 },
 "nbformat": 4,
 "nbformat_minor": 5
}
