{
 "cells": [
  {
   "cell_type": "markdown",
   "id": "chemical-renaissance",
   "metadata": {},
   "source": [
    "# Merge OPM Survey Data with CNN Features"
   ]
  },
  {
   "cell_type": "markdown",
   "id": "announced-venice",
   "metadata": {},
   "source": [
    "## Setup"
   ]
  },
  {
   "cell_type": "code",
   "execution_count": 97,
   "id": "vocal-czech",
   "metadata": {},
   "outputs": [],
   "source": [
    "# Load packages\n",
    "library(tidyverse)\n",
    "\n",
    "# Set up sagemaker\n",
    "library(reticulate)\n",
    "sagemaker <- import('sagemaker')\n",
    "session <- sagemaker$Session()\n",
    "\n",
    "# s3 bucket name\n",
    "bucket = \"worldbank-pakistan-data\"\n",
    "local_dir = '/home/ec2-user/SageMaker/'"
   ]
  },
  {
   "cell_type": "markdown",
   "id": "female-wellington",
   "metadata": {},
   "source": [
    "## Load Data"
   ]
  },
  {
   "cell_type": "code",
   "execution_count": 98,
   "id": "greenhouse-width",
   "metadata": {},
   "outputs": [],
   "source": [
    "session$download_data(path = local_dir,\n",
    "              bucket = bucket,\n",
    "              key_prefix = 'OPM/FinalData/Individual Datasets/bisp_socioeconomic.Rds')"
   ]
  },
  {
   "cell_type": "code",
   "execution_count": 99,
   "id": "institutional-hughes",
   "metadata": {},
   "outputs": [],
   "source": [
    "opm_df <- readRDS(file.path(local_dir, 'bisp_socioeconomic.Rds'))"
   ]
  },
  {
   "cell_type": "code",
   "execution_count": 100,
   "id": "thrown-beverage",
   "metadata": {},
   "outputs": [
    {
     "name": "stderr",
     "output_type": "stream",
     "text": [
      "Warning message:\n",
      "“Missing column names filled in: 'X1' [1]”\n"
     ]
    }
   ],
   "source": [
    "cnn_df <- read_csv(session$read_s3_file(bucket,\n",
    "                     file.path('OPM', 'FinalData', 'Individual Datasets', \n",
    "                               'bisp_cnn_features_all_Nbands3_nNtlBins3_minNTLbinCount16861.csv')))"
   ]
  },
  {
   "cell_type": "code",
   "execution_count": null,
   "id": "changed-chicago",
   "metadata": {},
   "outputs": [],
   "source": []
  },
  {
   "cell_type": "markdown",
   "id": "average-labor",
   "metadata": {},
   "source": [
    "## Merge"
   ]
  },
  {
   "cell_type": "code",
   "execution_count": 101,
   "id": "distributed-emphasis",
   "metadata": {},
   "outputs": [],
   "source": [
    "cnn_df <- cnn_df %>%\n",
    "  dplyr::select(-X1)\n",
    "\n",
    "opm_df$uid <- opm_df$uid %>% as.numeric()\n",
    "cnn_df$uid <- cnn_df$uid %>% as.numeric()\n",
    "\n",
    "opm_df <- merge(opm_df, cnn_df, by = c(\"uid\"), all.x=T, all.y=F)\n",
    "\n",
    "opm_df <- opm_df %>%\n",
    "    filter(!is.na(cnn_feat_1),\n",
    "          year %in% 2014) "
   ]
  },
  {
   "cell_type": "markdown",
   "id": "variable-seafood",
   "metadata": {},
   "source": [
    "## Export"
   ]
  },
  {
   "cell_type": "code",
   "execution_count": 102,
   "id": "pleasant-hobby",
   "metadata": {},
   "outputs": [
    {
     "data": {
      "text/html": [
       "'s3://worldbank-pakistan-data/OPM/FinalData/Merged Datasets/cnn_merge.csv'"
      ],
      "text/latex": [
       "'s3://worldbank-pakistan-data/OPM/FinalData/Merged Datasets/cnn\\_merge.csv'"
      ],
      "text/markdown": [
       "'s3://worldbank-pakistan-data/OPM/FinalData/Merged Datasets/cnn_merge.csv'"
      ],
      "text/plain": [
       "[1] \"s3://worldbank-pakistan-data/OPM/FinalData/Merged Datasets/cnn_merge.csv\""
      ]
     },
     "metadata": {},
     "output_type": "display_data"
    }
   ],
   "source": [
    "write.csv(opm_df, file.path(local_dir, \"cnn_merge.csv\"), row.names = F)\n",
    "\n",
    "session$upload_data(path       = file.path(local_dir, \"cnn_merge.csv\"), \n",
    "                    bucket     = bucket, \n",
    "                    key_prefix = file.path(\"OPM\", \"FinalData\", \"Merged Datasets\"))\n"
   ]
  },
  {
   "cell_type": "code",
   "execution_count": null,
   "id": "sorted-magnitude",
   "metadata": {},
   "outputs": [],
   "source": []
  },
  {
   "cell_type": "code",
   "execution_count": null,
   "id": "suburban-harvard",
   "metadata": {},
   "outputs": [],
   "source": []
  },
  {
   "cell_type": "code",
   "execution_count": null,
   "id": "mexican-france",
   "metadata": {},
   "outputs": [],
   "source": []
  },
  {
   "cell_type": "code",
   "execution_count": null,
   "id": "swedish-concrete",
   "metadata": {},
   "outputs": [],
   "source": []
  }
 ],
 "metadata": {
  "kernelspec": {
   "display_name": "R",
   "language": "R",
   "name": "ir"
  },
  "language_info": {
   "codemirror_mode": "r",
   "file_extension": ".r",
   "mimetype": "text/x-r-source",
   "name": "R",
   "pygments_lexer": "r",
   "version": "4.0.3"
  }
 },
 "nbformat": 4,
 "nbformat_minor": 5
}
