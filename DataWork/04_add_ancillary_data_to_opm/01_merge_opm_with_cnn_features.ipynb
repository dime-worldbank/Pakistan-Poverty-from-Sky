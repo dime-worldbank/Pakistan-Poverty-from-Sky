{
 "cells": [
  {
   "cell_type": "markdown",
   "id": "toxic-forum",
   "metadata": {},
   "source": [
    "# Merge OPM Survey Data with CNN Features"
   ]
  },
  {
   "cell_type": "markdown",
   "id": "circular-casino",
   "metadata": {},
   "source": [
    "## Setup"
   ]
  },
  {
   "cell_type": "code",
   "execution_count": null,
   "id": "aware-given",
   "metadata": {},
   "outputs": [],
   "source": [
    "# Load packages\n",
    "library(tidyverse)\n",
    "\n",
    "# Set up sagemaker\n",
    "library(reticulate)\n",
    "sagemaker <- import('sagemaker')\n",
    "session <- sagemaker$Session()\n",
    "\n",
    "# s3 bucket name\n",
    "bucket = \"worldbank-pakistan-data\"\n",
    "local_dir = '/home/ec2-user/SageMaker/'"
   ]
  },
  {
   "cell_type": "markdown",
   "id": "particular-nowhere",
   "metadata": {},
   "source": [
    "## Load Data"
   ]
  },
  {
   "cell_type": "code",
   "execution_count": null,
   "id": "arctic-baking",
   "metadata": {},
   "outputs": [],
   "source": [
    "session$download_data(path = local_dir,\n",
    "              bucket = bucket,\n",
    "              key_prefix = 'OPM/FinalData/Individual Datasets/bisp_socioeconomic.Rds')\n"
   ]
  },
  {
   "cell_type": "code",
   "execution_count": null,
   "id": "alert-links",
   "metadata": {},
   "outputs": [],
   "source": [
    "opm_df <- readRDS(file.path(local_dir, 'bisp_socioeconomic.Rds'))\n",
    "\n",
    "cnn_df <- session$read_s3_file(bucket,\n",
    "                     'OPM/FinalData/Individual Datasets/bisp_cnn_features_all_Nbands3_nNtlBins3_minNTLbinCount16861.csv')"
   ]
  },
  {
   "cell_type": "markdown",
   "id": "skilled-details",
   "metadata": {},
   "source": [
    "## Merge"
   ]
  },
  {
   "cell_type": "code",
   "execution_count": null,
   "id": "closed-mayor",
   "metadata": {},
   "outputs": [],
   "source": [
    "cnn_df <- cnn_df %>%\n",
    "  dplyr::select(-X)\n",
    "\n",
    "opm_df <- merge(opm_df, cnn_df, by = c(\"uid\"), all.x=T, all.y=F)"
   ]
  },
  {
   "cell_type": "markdown",
   "id": "related-shelter",
   "metadata": {},
   "source": [
    "## Export"
   ]
  },
  {
   "cell_type": "code",
   "execution_count": null,
   "id": "hazardous-press",
   "metadata": {},
   "outputs": [],
   "source": [
    "write.csv(opm_df, file.path(local_dir, \"cnn_merge.csv\"), row.names = F)\n",
    "\n",
    "session$upload_data(path       = file.path(local_dir, \"cnn_merge.csv\"), \n",
    "                    bucket     = bucket, \n",
    "                    key_prefix = file.path(\"OPM\", \"FinalData\", \"Merged Datasets\"))\n"
   ]
  }
 ],
 "metadata": {
  "kernelspec": {
   "display_name": "R",
   "language": "R",
   "name": "ir"
  },
  "language_info": {
   "codemirror_mode": "r",
   "file_extension": ".r",
   "mimetype": "text/x-r-source",
   "name": "R",
   "pygments_lexer": "r",
   "version": "4.0.3"
  }
 },
 "nbformat": 4,
 "nbformat_minor": 5
}
