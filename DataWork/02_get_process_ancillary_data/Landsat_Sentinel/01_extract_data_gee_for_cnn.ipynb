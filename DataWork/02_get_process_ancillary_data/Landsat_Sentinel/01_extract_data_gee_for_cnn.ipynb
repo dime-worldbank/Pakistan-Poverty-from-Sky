{
 "cells": [
  {
   "cell_type": "markdown",
   "metadata": {
    "id": "X0MV-G1dXVY2"
   },
   "source": [
    "# Prepare CNN Data"
   ]
  },
  {
   "cell_type": "markdown",
   "metadata": {
    "id": "iuOZpPbiXVY5"
   },
   "source": [
    "## Setup"
   ]
  },
  {
   "cell_type": "code",
   "execution_count": 1,
   "metadata": {},
   "outputs": [
    {
     "data": {
      "text/html": [
       "<p>To authorize access needed by Earth Engine, open the following\n",
       "        URL in a web browser and follow the instructions:</p>\n",
       "        <p><a href=https://accounts.google.com/o/oauth2/auth?client_id=517222506229-vsmmajv00ul0bs7p89v5m89qs8eb9359.apps.googleusercontent.com&scope=https%3A%2F%2Fwww.googleapis.com%2Fauth%2Fearthengine+https%3A%2F%2Fwww.googleapis.com%2Fauth%2Fdevstorage.full_control&redirect_uri=urn%3Aietf%3Awg%3Aoauth%3A2.0%3Aoob&response_type=code&code_challenge=Q96XaFC_wstCFxjOdm21AVhvEEfJZmrv9ePy3PgnApw&code_challenge_method=S256>https://accounts.google.com/o/oauth2/auth?client_id=517222506229-vsmmajv00ul0bs7p89v5m89qs8eb9359.apps.googleusercontent.com&scope=https%3A%2F%2Fwww.googleapis.com%2Fauth%2Fearthengine+https%3A%2F%2Fwww.googleapis.com%2Fauth%2Fdevstorage.full_control&redirect_uri=urn%3Aietf%3Awg%3Aoauth%3A2.0%3Aoob&response_type=code&code_challenge=Q96XaFC_wstCFxjOdm21AVhvEEfJZmrv9ePy3PgnApw&code_challenge_method=S256</a></p>\n",
       "        <p>The authorization workflow will generate a code, which you\n",
       "        should paste in the box below</p>\n",
       "        "
      ],
      "text/plain": [
       "<IPython.core.display.HTML object>"
      ]
     },
     "metadata": {},
     "output_type": "display_data"
    },
    {
     "name": "stdin",
     "output_type": "stream",
     "text": [
      "Enter verification code:  4/1AX4XfWiklQyHFnYZILj0DDqebsJG86MrlEFcWXUdQjgIbfC7JNSZxHC8mBA\n"
     ]
    },
    {
     "name": "stdout",
     "output_type": "stream",
     "text": [
      "\n",
      "Successfully saved authorization token.\n"
     ]
    }
   ],
   "source": [
    "import ee\n",
    "ee.Authenticate()\n",
    "ee.Initialize()"
   ]
  },
  {
   "cell_type": "code",
   "execution_count": 2,
   "metadata": {},
   "outputs": [
    {
     "name": "stderr",
     "output_type": "stream",
     "text": [
      "/Users/robmarty/anaconda3/lib/python3.7/site-packages/dask/config.py:168: YAMLLoadWarning: calling yaml.load() without Loader=... is deprecated, as the default Loader is unsafe. Please read https://msg.pyyaml.org/load for full details.\n",
      "  data = yaml.load(f.read()) or {}\n",
      "/Users/robmarty/anaconda3/lib/python3.7/site-packages/xarray/core/merge.py:17: FutureWarning: The Panel class is removed from pandas. Accessing it from the top-level namespace will also be removed in the next version\n",
      "  PANDAS_TYPES = (pd.Series, pd.DataFrame, pd.Panel)\n",
      "/Users/robmarty/anaconda3/lib/python3.7/site-packages/distributed/config.py:20: YAMLLoadWarning: calling yaml.load() without Loader=... is deprecated, as the default Loader is unsafe. Please read https://msg.pyyaml.org/load for full details.\n",
      "  defaults = yaml.load(f)\n"
     ]
    }
   ],
   "source": [
    "import numpy as np\n",
    "#import geetools\n",
    "#from geetools import ui, cloud_mask\n",
    "import os, datetime\n",
    "import pandas as pd\n",
    "import itertools\n",
    "import tensorflow as tf\n",
    "import config as cf\n",
    "import ee_utils as utils\n",
    "\n",
    "#cloud_mask_landsatSR = cloud_mask.landsatSR()\n",
    "#cloud_mask_sentinel2 = cloud_mask.sentinel2()"
   ]
  },
  {
   "cell_type": "markdown",
   "metadata": {},
   "source": [
    "## Parameters"
   ]
  },
  {
   "cell_type": "code",
   "execution_count": 3,
   "metadata": {
    "id": "TqWX3QM4mVPW"
   },
   "outputs": [],
   "source": [
    "KERNEL_SIZE = 224\n",
    "SURVEY_NAME = 'DHS'\n",
    "SATELLITE = 's2'\n",
    "SKIP_IF_SCRAPED = True\n",
    "CHUNK_SIZE = 10 # Number of observtaions to scrape in GEE at any given time\n",
    "PROJECT_DIR = cf.GOOGLEDRIVE_DIRECTORY"
   ]
  },
  {
   "cell_type": "code",
   "execution_count": 4,
   "metadata": {
    "colab": {
     "base_uri": "https://localhost:8080/"
    },
    "id": "MwPA7XTCYmjh",
    "outputId": "74e611ba-5c81-44ca-e2ce-c595399753a0"
   },
   "outputs": [],
   "source": [
    "# Directory to store tfrecords\n",
    "out_path = os.path.join(PROJECT_DIR, \n",
    "            'Data', \n",
    "            SURVEY_NAME, \n",
    "            'FinalData',\n",
    "            'Individual Datasets',\n",
    "            'cnn_' + SATELLITE,\n",
    "            'tfrecords')"
   ]
  },
  {
   "cell_type": "markdown",
   "metadata": {
    "colab": {
     "base_uri": "https://localhost:8080/"
    },
    "id": "phzXq49zXVY5",
    "outputId": "0b60e419-0e3f-44e2-e927-0895afb316cc"
   },
   "source": [
    "## Implement"
   ]
  },
  {
   "cell_type": "code",
   "execution_count": 5,
   "metadata": {
    "colab": {
     "base_uri": "https://localhost:8080/"
    },
    "id": "hpXnbunXYZdP",
    "outputId": "9cf085c9-5a7c-4298-9600-36158f5d7f7c"
   },
   "outputs": [
    {
     "name": "stderr",
     "output_type": "stream",
     "text": [
      "/Users/robmarty/anaconda3/lib/python3.7/site-packages/IPython/core/interactiveshell.py:3044: DtypeWarning: Columns (27,31,35) have mixed types.Specify dtype option on import or set low_memory=False.\n",
      "  interactivity=interactivity, compiler=compiler, result=result)\n"
     ]
    }
   ],
   "source": [
    "## Load Survey\n",
    "survey_df = pd.read_csv(os.path.join(PROJECT_DIR, 'Data', SURVEY_NAME, 'FinalData', 'Individual Datasets', 'survey_socioeconomic.csv'))\n",
    "#survey_df = survey_df[survey_df.country_code == 'PK']\n",
    "tf_record_list = list(np.unique(survey_df.tfrecord_name))"
   ]
  },
  {
   "cell_type": "code",
   "execution_count": null,
   "metadata": {},
   "outputs": [],
   "source": []
  },
  {
   "cell_type": "code",
   "execution_count": 16,
   "metadata": {},
   "outputs": [],
   "source": [
    "# Remove if issues extracting\n",
    "survey_df = survey_df[survey_df['uid'] != \"IA201400180079\"]\n",
    "survey_df = survey_df[survey_df['uid'] != \"IA201400180052\"]\n",
    "survey_df = survey_df[survey_df['uid'] != \"IA201400180112\"]\n",
    "survey_df = survey_df[survey_df['uid'] != \"IA201400180081\"]\n",
    "survey_df = survey_df[survey_df['uid'] != \"IA201400180011\"]\n",
    "survey_df = survey_df[survey_df['uid'] != \"IA201400180048\"]\n",
    "survey_df = survey_df[survey_df['uid'] != \"IA201400180058\"]\n",
    "survey_df = survey_df[survey_df['uid'] != \"IA201400180028\"]\n",
    "survey_df = survey_df[survey_df['uid'] != \"IA201400180072\"]\n",
    "survey_df = survey_df[survey_df['uid'] != \"IA201400180047\"]\n",
    "survey_df = survey_df[survey_df['uid'] != \"IA201400180012\"]\n",
    "survey_df = survey_df[survey_df['uid'] != \"IA201400180040\"]"
   ]
  },
  {
   "cell_type": "code",
   "execution_count": 17,
   "metadata": {
    "id": "PTEEJI89XVY6"
   },
   "outputs": [],
   "source": [
    "# If skip already scraped, remove existing tfrecords from tf_record_list\n",
    "if SKIP_IF_SCRAPED:\n",
    "    tf_records_exist = os.listdir(out_path)\n",
    "    tf_record_list = [x for x in tf_record_list if x not in tf_records_exist]\n",
    "    \n"
   ]
  },
  {
   "cell_type": "code",
   "execution_count": null,
   "metadata": {
    "id": "c89pBOUXZT_V"
   },
   "outputs": [
    {
     "name": "stderr",
     "output_type": "stream",
     "text": [
      "/Users/robmarty/anaconda3/lib/python3.7/site-packages/ipykernel_launcher.py:8: SettingWithCopyWarning: \n",
      "A value is trying to be set on a copy of a slice from a DataFrame.\n",
      "Try using .loc[row_indexer,col_indexer] = value instead\n",
      "\n",
      "See the caveats in the documentation: https://pandas.pydata.org/pandas-docs/stable/user_guide/indexing.html#returning-a-view-versus-a-copy\n",
      "  \n"
     ]
    },
    {
     "name": "stdout",
     "output_type": "stream",
     "text": [
      "Putting 198 observations into IA_2_19.tfrecord\n",
      "Observation: 0/198\n",
      "Observation: 10/198\n",
      "Observation: 20/198\n",
      "Observation: 30/198\n",
      "Observation: 40/198\n",
      "Observation: 50/198\n",
      "Observation: 60/198\n",
      "Observation: 70/198\n",
      "Observation: 80/198\n",
      "Observation: 90/198\n",
      "Observation: 100/198\n",
      "Observation: 110/198\n",
      "Observation: 120/198\n",
      "Observation: 130/198\n",
      "Observation: 140/198\n",
      "Observation: 150/198\n",
      "Observation: 160/198\n",
      "Observation: 170/198\n",
      "Observation: 180/198\n",
      "Observation: 190/198\n",
      "/Users/robmarty/Google Drive/World Bank/IEs/Pakistan Poverty Estimation/Data/DHS/FinalData/Individual Datasets/cnn_s2/tfrecords/IA_2_19.tfrecord\n",
      "Putting 200 observations into IA_2_2.tfrecord\n",
      "Observation: 0/200\n",
      "Observation: 10/200\n",
      "Observation: 20/200\n",
      "Observation: 30/200\n",
      "Observation: 40/200\n",
      "Observation: 50/200\n",
      "Observation: 60/200\n",
      "Observation: 70/200\n",
      "Observation: 80/200\n",
      "Observation: 90/200\n",
      "Observation: 100/200\n",
      "Observation: 110/200\n",
      "Observation: 120/200\n",
      "Observation: 130/200\n",
      "Observation: 140/200\n",
      "Observation: 150/200\n",
      "Observation: 160/200\n",
      "Observation: 170/200\n",
      "Observation: 180/200\n",
      "Observation: 190/200\n",
      "/Users/robmarty/Google Drive/World Bank/IEs/Pakistan Poverty Estimation/Data/DHS/FinalData/Individual Datasets/cnn_s2/tfrecords/IA_2_2.tfrecord\n",
      "Putting 200 observations into IA_2_20.tfrecord\n",
      "Observation: 0/200\n",
      "Observation: 10/200\n",
      "Observation: 20/200\n",
      "Observation: 30/200\n",
      "Observation: 40/200\n",
      "Observation: 50/200\n",
      "Observation: 60/200\n",
      "Observation: 70/200\n",
      "Observation: 80/200\n",
      "Observation: 90/200\n",
      "Observation: 100/200\n",
      "Observation: 110/200\n",
      "Observation: 120/200\n",
      "Observation: 130/200\n",
      "Observation: 140/200\n"
     ]
    }
   ],
   "source": [
    "### Loop through all tfrecords\n",
    "for tfr_i in tf_record_list:\n",
    "    \n",
    "    survey_df_yeari = survey_df[survey_df['tfrecord_name'] == tfr_i]\n",
    "    year_i = survey_df_yeari['year'].iloc[0]\n",
    "\n",
    "    ### Loop through chunks within tfrecord (can only pull so much data from GEE at a time)\n",
    "    survey_df_yeari['chunk_id'] = utils.chunk_ids(survey_df_yeari.shape[0], CHUNK_SIZE)\n",
    "\n",
    "    print(\"Putting \" + str(survey_df_yeari.shape[0]) + \" observations into \" + tfr_i)\n",
    "    \n",
    "    proto_examples_all = []\n",
    "    for chunk_i in list(np.unique(survey_df_yeari.chunk_id)):\n",
    "        \n",
    "        print(\"Observation: \" + str(len(proto_examples_all)) + \"/\" + str(survey_df_yeari.shape[0]))\n",
    "        \n",
    "        survey_df_yeari_chunki = survey_df_yeari[survey_df_yeari['chunk_id'] == chunk_i]\n",
    "      \n",
    "        proto_examples_i = utils.prep_cnn_np(survey_df_yeari_chunki, SATELLITE, KERNEL_SIZE, year_i)\n",
    "        proto_examples_all.extend(proto_examples_i)\n",
    "\n",
    "    ### Save data as tf record\n",
    "    out_path_i = os.path.join(out_path, tfr_i)\n",
    "    print(out_path_i)\n",
    "    with tf.io.TFRecordWriter(out_path_i) as writer:\n",
    "        for tf_example in proto_examples_all:\n",
    "            writer.write(tf_example.SerializeToString())"
   ]
  },
  {
   "cell_type": "code",
   "execution_count": null,
   "metadata": {
    "colab": {
     "base_uri": "https://localhost:8080/"
    },
    "id": "gfMKJ0ILXVZC",
    "outputId": "4c960a89-0028-4fdd-be62-5e7d0e073240"
   },
   "outputs": [],
   "source": []
  },
  {
   "cell_type": "code",
   "execution_count": null,
   "metadata": {
    "colab": {
     "base_uri": "https://localhost:8080/",
     "height": 224
    },
    "id": "I6NhXtwo73AK",
    "outputId": "988398b3-4e62-4be2-8817-532af8d6f58e"
   },
   "outputs": [],
   "source": [
    "for row_i in range(0,10):\n",
    "    print(row_i)\n",
    "    proto_examples_i = utils.prep_cnn_np(survey_df_yeari_chunki.iloc[[row_i]], SATELLITE, KERNEL_SIZE, year_i)"
   ]
  },
  {
   "cell_type": "code",
   "execution_count": 15,
   "metadata": {
    "id": "3l_U7gwb_vDC"
   },
   "outputs": [
    {
     "data": {
      "text/html": [
       "<div>\n",
       "<style scoped>\n",
       "    .dataframe tbody tr th:only-of-type {\n",
       "        vertical-align: middle;\n",
       "    }\n",
       "\n",
       "    .dataframe tbody tr th {\n",
       "        vertical-align: top;\n",
       "    }\n",
       "\n",
       "    .dataframe thead th {\n",
       "        text-align: right;\n",
       "    }\n",
       "</style>\n",
       "<table border=\"1\" class=\"dataframe\">\n",
       "  <thead>\n",
       "    <tr style=\"text-align: right;\">\n",
       "      <th></th>\n",
       "      <th>gadm_uid</th>\n",
       "      <th>uid</th>\n",
       "      <th>country_code</th>\n",
       "      <th>country_year</th>\n",
       "      <th>urban_rural</th>\n",
       "      <th>year</th>\n",
       "      <th>most_recent_survey</th>\n",
       "      <th>latitude</th>\n",
       "      <th>longitude</th>\n",
       "      <th>cluster_id</th>\n",
       "      <th>...</th>\n",
       "      <th>NAME_2</th>\n",
       "      <th>VARNAME_2</th>\n",
       "      <th>NL_NAME_2</th>\n",
       "      <th>TYPE_2</th>\n",
       "      <th>ENGTYPE_2</th>\n",
       "      <th>CC_2</th>\n",
       "      <th>HASC_2</th>\n",
       "      <th>within_country_fold</th>\n",
       "      <th>tfrecord_name</th>\n",
       "      <th>chunk_id</th>\n",
       "    </tr>\n",
       "  </thead>\n",
       "  <tbody>\n",
       "    <tr>\n",
       "      <th>11998</th>\n",
       "      <td>289</td>\n",
       "      <td>IA201400180040</td>\n",
       "      <td>IA</td>\n",
       "      <td>IA_2015_16</td>\n",
       "      <td>U</td>\n",
       "      <td>2015</td>\n",
       "      <td>True</td>\n",
       "      <td>10.562917</td>\n",
       "      <td>72.617523</td>\n",
       "      <td>180040</td>\n",
       "      <td>...</td>\n",
       "      <td>Lakshadweep</td>\n",
       "      <td>NaN</td>\n",
       "      <td>NaN</td>\n",
       "      <td>District</td>\n",
       "      <td>District</td>\n",
       "      <td>NaN</td>\n",
       "      <td>IN.LD.LD</td>\n",
       "      <td>IA_2</td>\n",
       "      <td>IA_2_19.tfrecord</td>\n",
       "      <td>9</td>\n",
       "    </tr>\n",
       "  </tbody>\n",
       "</table>\n",
       "<p>1 rows × 39 columns</p>\n",
       "</div>"
      ],
      "text/plain": [
       "       gadm_uid             uid country_code country_year urban_rural  year  \\\n",
       "11998       289  IA201400180040           IA   IA_2015_16           U  2015   \n",
       "\n",
       "       most_recent_survey   latitude  longitude  cluster_id  ...       NAME_2  \\\n",
       "11998                True  10.562917  72.617523      180040  ...  Lakshadweep   \n",
       "\n",
       "       VARNAME_2  NL_NAME_2    TYPE_2  ENGTYPE_2  CC_2    HASC_2  \\\n",
       "11998        NaN        NaN  District   District   NaN  IN.LD.LD   \n",
       "\n",
       "       within_country_fold     tfrecord_name  chunk_id  \n",
       "11998                 IA_2  IA_2_19.tfrecord         9  \n",
       "\n",
       "[1 rows x 39 columns]"
      ]
     },
     "execution_count": 15,
     "metadata": {},
     "output_type": "execute_result"
    }
   ],
   "source": [
    "survey_df_yeari_chunki.iloc[[7]]"
   ]
  },
  {
   "cell_type": "code",
   "execution_count": null,
   "metadata": {
    "colab": {
     "base_uri": "https://localhost:8080/",
     "height": 224
    },
    "id": "YuhpLiDq_zLm",
    "outputId": "f5dc6270-4493-4cbf-b2b0-18ec047077fa"
   },
   "outputs": [],
   "source": []
  },
  {
   "cell_type": "code",
   "execution_count": null,
   "metadata": {
    "colab": {
     "base_uri": "https://localhost:8080/"
    },
    "id": "zU05sc-s29jA",
    "outputId": "f9f946fc-d6a6-44e8-c2c2-539ec29937b9"
   },
   "outputs": [],
   "source": []
  },
  {
   "cell_type": "code",
   "execution_count": 71,
   "metadata": {
    "id": "fVeX2_WIkGiV"
   },
   "outputs": [],
   "source": []
  },
  {
   "cell_type": "code",
   "execution_count": 72,
   "metadata": {
    "id": "4RhcmrWylK6k"
   },
   "outputs": [],
   "source": []
  },
  {
   "cell_type": "code",
   "execution_count": null,
   "metadata": {
    "colab": {
     "base_uri": "https://localhost:8080/",
     "height": 80
    },
    "id": "pFHX00Y4ld81",
    "outputId": "4c9c913a-dce5-47b7-e28e-b9c6f14b7fed"
   },
   "outputs": [],
   "source": []
  },
  {
   "cell_type": "code",
   "execution_count": null,
   "metadata": {
    "colab": {
     "base_uri": "https://localhost:8080/"
    },
    "id": "9tk6RNyHXVZC",
    "outputId": "8806e5aa-370a-4a24-c6ba-062cf52f5ffb"
   },
   "outputs": [],
   "source": []
  },
  {
   "cell_type": "code",
   "execution_count": null,
   "metadata": {
    "id": "WAVqwXz7_lDL"
   },
   "outputs": [],
   "source": []
  },
  {
   "cell_type": "code",
   "execution_count": null,
   "metadata": {
    "colab": {
     "base_uri": "https://localhost:8080/"
    },
    "id": "I9atvzCW65oh",
    "outputId": "515a1320-e759-4e12-a053-362d7562c52f"
   },
   "outputs": [],
   "source": []
  },
  {
   "cell_type": "code",
   "execution_count": null,
   "metadata": {
    "colab": {
     "base_uri": "https://localhost:8080/"
    },
    "id": "5UrbRLqLKAtA",
    "outputId": "936ca132-44fc-45cb-d754-ad9dcfb8901e"
   },
   "outputs": [],
   "source": []
  },
  {
   "cell_type": "code",
   "execution_count": null,
   "metadata": {
    "id": "gaBcOr2w77ZL"
   },
   "outputs": [],
   "source": []
  },
  {
   "cell_type": "code",
   "execution_count": null,
   "metadata": {
    "colab": {
     "base_uri": "https://localhost:8080/"
    },
    "id": "l69Wpxz5XVZC",
    "outputId": "5d4d531b-61ef-45c7-b5b5-f25cb875c6b6"
   },
   "outputs": [],
   "source": []
  },
  {
   "cell_type": "code",
   "execution_count": null,
   "metadata": {
    "colab": {
     "base_uri": "https://localhost:8080/"
    },
    "id": "Q9MXwUdTXVZD",
    "outputId": "0bc2748f-ebe3-466d-a859-924eaa1b9081"
   },
   "outputs": [],
   "source": []
  },
  {
   "cell_type": "code",
   "execution_count": null,
   "metadata": {
    "colab": {
     "base_uri": "https://localhost:8080/",
     "height": 181
    },
    "id": "iLbrGQTRojcS",
    "outputId": "43aabd48-e175-4d1c-f5f1-48be198520b0"
   },
   "outputs": [],
   "source": []
  },
  {
   "cell_type": "code",
   "execution_count": null,
   "metadata": {
    "colab": {
     "base_uri": "https://localhost:8080/",
     "height": 198
    },
    "id": "VHZAJ22anj6b",
    "outputId": "bebf3669-139a-423a-a967-78109a8c80a2"
   },
   "outputs": [],
   "source": []
  },
  {
   "cell_type": "code",
   "execution_count": null,
   "metadata": {
    "id": "y1MXAhkbpRkI"
   },
   "outputs": [],
   "source": []
  },
  {
   "cell_type": "code",
   "execution_count": null,
   "metadata": {
    "colab": {
     "base_uri": "https://localhost:8080/",
     "height": 198
    },
    "id": "93PWEi6jm-3K",
    "outputId": "67dcc0a7-1516-4ee8-bfd9-694fd0f347de"
   },
   "outputs": [],
   "source": []
  },
  {
   "cell_type": "code",
   "execution_count": null,
   "metadata": {
    "id": "5Rm6K6D-XVZD"
   },
   "outputs": [],
   "source": []
  },
  {
   "cell_type": "code",
   "execution_count": null,
   "metadata": {
    "colab": {
     "base_uri": "https://localhost:8080/"
    },
    "id": "fod-VYxLXVZE",
    "outputId": "3dd1f56a-476b-4aad-8279-86840b0bc026"
   },
   "outputs": [],
   "source": []
  },
  {
   "cell_type": "code",
   "execution_count": null,
   "metadata": {
    "colab": {
     "base_uri": "https://localhost:8080/"
    },
    "id": "t0iUwZmAXVZE",
    "outputId": "a33e2442-ae0c-4f62-ce6b-eddb002c165d"
   },
   "outputs": [],
   "source": []
  },
  {
   "cell_type": "code",
   "execution_count": null,
   "metadata": {
    "colab": {
     "base_uri": "https://localhost:8080/"
    },
    "id": "62ReOurYXVZE",
    "outputId": "92795c41-e2b9-4971-f512-9d56b18cf5d8"
   },
   "outputs": [],
   "source": []
  },
  {
   "cell_type": "code",
   "execution_count": null,
   "metadata": {
    "id": "-SajCSlNXVZE"
   },
   "outputs": [],
   "source": []
  },
  {
   "cell_type": "code",
   "execution_count": null,
   "metadata": {
    "id": "LJAM4iswXVZE"
   },
   "outputs": [],
   "source": []
  },
  {
   "cell_type": "code",
   "execution_count": null,
   "metadata": {
    "id": "9wYDJxfpXVZF"
   },
   "outputs": [],
   "source": []
  },
  {
   "cell_type": "code",
   "execution_count": null,
   "metadata": {
    "id": "Zb0U780PXVZF"
   },
   "outputs": [],
   "source": []
  },
  {
   "cell_type": "code",
   "execution_count": null,
   "metadata": {
    "id": "pBuKts4wXVZF"
   },
   "outputs": [],
   "source": []
  },
  {
   "cell_type": "code",
   "execution_count": null,
   "metadata": {
    "id": "IS7Bb2f0XVZF"
   },
   "outputs": [],
   "source": []
  },
  {
   "cell_type": "code",
   "execution_count": null,
   "metadata": {
    "id": "ju-_zuLnXVZF"
   },
   "outputs": [],
   "source": []
  },
  {
   "cell_type": "code",
   "execution_count": null,
   "metadata": {
    "id": "fD0SacCEXVZF"
   },
   "outputs": [],
   "source": []
  },
  {
   "cell_type": "code",
   "execution_count": null,
   "metadata": {
    "id": "0xqAkzCqXVZG"
   },
   "outputs": [],
   "source": []
  },
  {
   "cell_type": "code",
   "execution_count": null,
   "metadata": {
    "id": "JDskpn-iXVZG"
   },
   "outputs": [],
   "source": []
  },
  {
   "cell_type": "code",
   "execution_count": null,
   "metadata": {
    "id": "0Iep8MNNXVZG"
   },
   "outputs": [],
   "source": []
  },
  {
   "cell_type": "code",
   "execution_count": null,
   "metadata": {
    "id": "TNjhMUDHXVZH"
   },
   "outputs": [],
   "source": []
  },
  {
   "cell_type": "code",
   "execution_count": null,
   "metadata": {
    "id": "mPzEHDBcXVZH"
   },
   "outputs": [],
   "source": []
  },
  {
   "cell_type": "code",
   "execution_count": null,
   "metadata": {
    "id": "jVI8BPYMXVZH"
   },
   "outputs": [],
   "source": []
  },
  {
   "cell_type": "code",
   "execution_count": null,
   "metadata": {
    "id": "eQR8aHw2XVZH"
   },
   "outputs": [],
   "source": []
  },
  {
   "cell_type": "code",
   "execution_count": null,
   "metadata": {
    "id": "H5pJ0FIOXVZI"
   },
   "outputs": [],
   "source": []
  },
  {
   "cell_type": "code",
   "execution_count": null,
   "metadata": {
    "id": "H9GuSI50opSX"
   },
   "outputs": [],
   "source": []
  }
 ],
 "metadata": {
  "colab": {
   "collapsed_sections": [],
   "name": "01_extract_data_gee_for_cnn.ipynb",
   "provenance": []
  },
  "kernelspec": {
   "display_name": "Python 3",
   "language": "python",
   "name": "python3"
  },
  "language_info": {
   "codemirror_mode": {
    "name": "ipython",
    "version": 3
   },
   "file_extension": ".py",
   "mimetype": "text/x-python",
   "name": "python",
   "nbconvert_exporter": "python",
   "pygments_lexer": "ipython3",
   "version": "3.7.2"
  }
 },
 "nbformat": 4,
 "nbformat_minor": 2
}
