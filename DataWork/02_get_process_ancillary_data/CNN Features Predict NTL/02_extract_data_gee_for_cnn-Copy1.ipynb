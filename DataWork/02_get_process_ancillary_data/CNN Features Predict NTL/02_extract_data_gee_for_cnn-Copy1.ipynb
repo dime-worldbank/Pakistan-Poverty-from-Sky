{
 "cells": [
  {
   "cell_type": "markdown",
   "metadata": {
    "id": "X0MV-G1dXVY2"
   },
   "source": [
    "# Prepare CNN Data"
   ]
  },
  {
   "cell_type": "markdown",
   "metadata": {
    "id": "iuOZpPbiXVY5"
   },
   "source": [
    "## Setup"
   ]
  },
  {
   "cell_type": "code",
   "execution_count": 1,
   "metadata": {},
   "outputs": [
    {
     "data": {
      "text/html": [
       "<p>To authorize access needed by Earth Engine, open the following\n",
       "        URL in a web browser and follow the instructions:</p>\n",
       "        <p><a href=https://code.earthengine.google.com/client-auth?scopes=https%3A//www.googleapis.com/auth/earthengine%20https%3A//www.googleapis.com/auth/devstorage.full_control&request_id=t3pgg6vN1dukYINImZqItUnxNRDp4Fsejdyn_TDO1eY&tc=OU3j17LxJOEEzaxBeeJCQrAkHMW-kKMTKiqfj9ycytA&cc=7c0RyjAc8CnHyV35__AgNY7k0DEafDbdfiKoBgcYFiM>https://code.earthengine.google.com/client-auth?scopes=https%3A//www.googleapis.com/auth/earthengine%20https%3A//www.googleapis.com/auth/devstorage.full_control&request_id=t3pgg6vN1dukYINImZqItUnxNRDp4Fsejdyn_TDO1eY&tc=OU3j17LxJOEEzaxBeeJCQrAkHMW-kKMTKiqfj9ycytA&cc=7c0RyjAc8CnHyV35__AgNY7k0DEafDbdfiKoBgcYFiM</a></p>\n",
       "        <p>The authorization workflow will generate a code, which you\n",
       "        should paste in the box below</p>\n",
       "        "
      ],
      "text/plain": [
       "<IPython.core.display.HTML object>"
      ]
     },
     "metadata": {},
     "output_type": "display_data"
    },
    {
     "name": "stdin",
     "output_type": "stream",
     "text": [
      "Enter verification code:  4/1AX4XfWh0aj-8dtPh21GrosiuMfy4HcWNutN5VIUXmfoWE67FPpWJsQPV-nc\n"
     ]
    },
    {
     "name": "stdout",
     "output_type": "stream",
     "text": [
      "\n",
      "Successfully saved authorization token.\n"
     ]
    }
   ],
   "source": [
    "# USE ACCOUNT: robmarty3@gmail.com\n",
    "import ee\n",
    "ee.Authenticate()\n",
    "ee.Initialize()"
   ]
  },
  {
   "cell_type": "code",
   "execution_count": 2,
   "metadata": {},
   "outputs": [],
   "source": [
    "import numpy as np\n",
    "import os, datetime\n",
    "import pandas as pd\n",
    "import itertools\n",
    "import tensorflow as tf\n",
    "import config as cf\n",
    "import ee_utils as utils\n",
    "import eeconvert\n",
    "import time\n",
    "from datetime import datetime\n",
    "\n",
    "#import geetools\n",
    "#from geetools import ui, cloud_mask\n",
    "#cloud_mask_landsatSR = cloud_mask.landsatSR()\n",
    "#cloud_mask_sentinel2 = cloud_mask.sentinel2()"
   ]
  },
  {
   "cell_type": "markdown",
   "metadata": {},
   "source": [
    "## Parameters"
   ]
  },
  {
   "cell_type": "code",
   "execution_count": 3,
   "metadata": {
    "id": "TqWX3QM4mVPW"
   },
   "outputs": [
    {
     "name": "stdout",
     "output_type": "stream",
     "text": [
      "224\n"
     ]
    }
   ],
   "source": [
    "OUTCOME_VAR = \"viirs\" # \"ntlharmon\" OR \"viirs\"\n",
    "UNDERSAMPLE_INDIA = True\n",
    "SATELLITE = 'landsat' # 's2'; 'landsat'\n",
    "\n",
    "SURVEY_NAME = 'DHS'\n",
    "\n",
    "SKIP_IF_SCRAPED = True\n",
    "CHUNK_SIZE = 1 # Number of observtaions to scrape in GEE at any given time\n",
    "DROPBOX_DIR = cf.DROPBOX_DIRECTORY\n",
    "GOOGLEDRIVE_DIR = cf.GOOGLEDRIVE_DIRECTORY\n",
    "\n",
    "if SATELLITE == 's2':\n",
    "    KERNEL_SIZE = 224\n",
    "elif SATELLITE == 'landsat':\n",
    "    KERNEL_SIZE = 224 #167\n",
    "elif SATELLITE == 'landsat_7':\n",
    "    KERNEL_SIZE = 224 #167\n",
    "\n",
    "print(KERNEL_SIZE)"
   ]
  },
  {
   "cell_type": "code",
   "execution_count": 4,
   "metadata": {
    "colab": {
     "base_uri": "https://localhost:8080/"
    },
    "id": "MwPA7XTCYmjh",
    "outputId": "74e611ba-5c81-44ca-e2ce-c595399753a0"
   },
   "outputs": [],
   "source": [
    "# Directory to store tfrecords\n",
    "out_path = os.path.join(GOOGLEDRIVE_DIR, \n",
    "            'Data', \n",
    "            SURVEY_NAME, \n",
    "            'FinalData',\n",
    "            'Individual Datasets',\n",
    "            'cnn_' + SATELLITE + '_' + OUTCOME_VAR + '_underia' + str(UNDERSAMPLE_INDIA),\n",
    "            'tfrecords')\n",
    "\n",
    "out_path_errors = os.path.join(GOOGLEDRIVE_DIR, \n",
    "            'Data', \n",
    "            SURVEY_NAME, \n",
    "            'FinalData',\n",
    "            'Individual Datasets',\n",
    "            'cnn_' + SATELLITE + '_' + OUTCOME_VAR + '_underia' + str(UNDERSAMPLE_INDIA))"
   ]
  },
  {
   "cell_type": "markdown",
   "metadata": {
    "colab": {
     "base_uri": "https://localhost:8080/"
    },
    "id": "phzXq49zXVY5",
    "outputId": "0b60e419-0e3f-44e2-e927-0895afb316cc"
   },
   "source": [
    "## Load Data"
   ]
  },
  {
   "cell_type": "code",
   "execution_count": 5,
   "metadata": {},
   "outputs": [
    {
     "name": "stdout",
     "output_type": "stream",
     "text": [
      "(82424, 9)\n",
      "1    27366\n",
      "2    16543\n",
      "3    15925\n",
      "0    13627\n",
      "4     8963\n",
      "Name: ntl_group, dtype: int64\n"
     ]
    }
   ],
   "source": [
    "### Load data\n",
    "if UNDERSAMPLE_INDIA == True:\n",
    "    UNDERSAMPLE_INDIA_str = \"TRUE\"\n",
    "else:\n",
    "    UNDERSAMPLE_INDIA_str = \"FALSE\"\n",
    "    \n",
    "survey_df = pd.read_csv(os.path.join(DROPBOX_DIR, 'Data', SURVEY_NAME, 'FinalData', 'Individual Datasets', \n",
    "                                     'data_for_cnn_' + OUTCOME_VAR + '_iaunder' + UNDERSAMPLE_INDIA_str + '_' + SATELLITE + '.csv'))\n",
    "\n",
    "### If sentinel, only use most recent\n",
    "if SATELLITE == 's2':\n",
    "    survey_df = survey_df[survey_df.most_recent_survey == True]\n",
    "        \n",
    "### N Observations      \n",
    "print(survey_df.shape)\n",
    "print(survey_df.ntl_group.value_counts())"
   ]
  },
  {
   "cell_type": "code",
   "execution_count": 6,
   "metadata": {
    "colab": {
     "base_uri": "https://localhost:8080/"
    },
    "id": "hpXnbunXYZdP",
    "outputId": "9cf085c9-5a7c-4298-9600-36158f5d7f7c"
   },
   "outputs": [],
   "source": [
    "# Remove observations that had issues\n",
    "if SATELLITE == 'landsat_7':\n",
    "    survey_df = survey_df[survey_df['uid'] != 'BO200800002050']\n",
    "    survey_df = survey_df[survey_df['uid'] != 'CO201000000592']\n",
    "\n",
    "if SATELLITE == 's2':\n",
    "    #survey_df = survey_df[survey_df['GID_2'] != \"IND.18.1_1\"]\n",
    "    survey_df = survey_df[survey_df['uid'] != 'CO201000003682']\n",
    "    survey_df = survey_df[survey_df['uid'] != 'CO201000003683']\n",
    "    survey_df = survey_df[survey_df['uid'] != 'CO201000004885']\n",
    "    survey_df = survey_df[survey_df['uid'] != 'IA201400180058']\n",
    "    survey_df = survey_df[survey_df['uid'] != 'IA201400180040']\n",
    "    survey_df = survey_df[survey_df['uid'] != 'IA201400300032']\n",
    "    survey_df = survey_df[survey_df['uid'] != 'IA201400010147']\n",
    "    survey_df = survey_df[survey_df['uid'] != 'NM201300000001']\n",
    "    survey_df = survey_df[survey_df['uid'] != 'CO201000002924']\n",
    "    survey_df = survey_df[survey_df['uid'] != 'CO201000002524']\n",
    "    survey_df = survey_df[survey_df['uid'] != 'CO201000001170']\n",
    "    survey_df = survey_df[survey_df['uid'] != 'CO201000003554']\n",
    "    survey_df = survey_df[survey_df['uid'] != 'GA201200000310']\n",
    "    survey_df = survey_df[survey_df['uid'] != 'IA201400180104'] \n",
    "    survey_df = survey_df[survey_df['uid'] != 'IA201400180012']\n",
    "    survey_df = survey_df[survey_df['uid'] != 'IA201400180011']\n",
    "    survey_df = survey_df[survey_df['uid'] != 'IA201400180048']\n",
    "    survey_df = survey_df[survey_df['uid'] != 'IA201400300002']\n",
    "    survey_df = survey_df[survey_df['uid'] != 'IA201400130192']\n",
    "    survey_df = survey_df[survey_df['uid'] != 'IA201400140845']\n",
    "    survey_df = survey_df[survey_df['uid'] != 'IA201400010076']\n",
    "    survey_df = survey_df[survey_df['uid'] != 'IA201400180133']\n",
    "    survey_df = survey_df[survey_df['uid'] != 'IA201400180123']\n",
    "    survey_df = survey_df[survey_df['uid'] != 'IA201400180047']\n",
    "    survey_df = survey_df[survey_df['uid'] != 'IA201400180138']\n",
    "    survey_df = survey_df[survey_df['uid'] != 'IA201400180052']\n",
    "    survey_df = survey_df[survey_df['uid'] != 'IA201400180055']\n",
    "    survey_df = survey_df[survey_df['uid'] != 'IA201400180116']\n",
    "    survey_df = survey_df[survey_df['uid'] != 'IA201400180030']\n",
    "    survey_df = survey_df[survey_df['uid'] != 'IA201400180086']\n",
    "    survey_df = survey_df[survey_df['uid'] != 'IA201400180050']\n",
    "    survey_df = survey_df[survey_df['uid'] != 'IA201400180027']\n",
    "    survey_df = survey_df[survey_df['uid'] != 'IA201400180072']\n",
    "    survey_df = survey_df[survey_df['uid'] != 'IA201400180080']\n",
    "    survey_df = survey_df[survey_df['uid'] != 'IA201400180079']\n",
    "    survey_df = survey_df[survey_df['uid'] != 'IA201400180064']\n",
    "    survey_df = survey_df[survey_df['uid'] != 'IA201400180081']\n",
    "    survey_df = survey_df[survey_df['uid'] != 'IA201400180062']\n",
    "    survey_df = survey_df[survey_df['uid'] != 'UG201800000335']\n",
    "    survey_df = survey_df[survey_df['uid'] != 'UG201800000330']\n",
    "    survey_df = survey_df[survey_df['uid'] != 'UG201800000322']\n",
    "    survey_df = survey_df[survey_df['uid'] != 'IA201400180062']\n",
    "    survey_df = survey_df[survey_df['uid'] != 'IA201400180140']\n",
    "    survey_df = survey_df[survey_df['uid'] != 'IA201400180100']\n",
    "    survey_df = survey_df[survey_df['uid'] != 'UG201800000342']\n",
    "    survey_df = survey_df[survey_df['uid'] != 'IA201400180081']\n",
    "    survey_df = survey_df[survey_df['uid'] != 'IA201400180028']\n",
    "    survey_df = survey_df[survey_df['uid'] != 'UG201800000340']\n",
    "    survey_df = survey_df[survey_df['uid'] != 'IA201400180091']\n",
    "    survey_df = survey_df[survey_df['uid'] != 'IA201400180112']\n",
    "    survey_df = survey_df[survey_df['uid'] != 'UG201800000331']\n",
    "    survey_df = survey_df[survey_df['uid'] != 'UG201800000336']\n",
    "    survey_df = survey_df[survey_df['uid'] != 'UG201800000334']\n",
    "    survey_df = survey_df[survey_df['uid'] != 'IA201400180083']\n",
    "    survey_df = survey_df[survey_df['uid'] != 'GY200900000293']\n",
    "    survey_df = survey_df[survey_df['uid'] != 'UG201800000328']\n",
    "    survey_df = survey_df[survey_df['uid'] != 'UG201800000327']\n",
    "    survey_df = survey_df[survey_df['uid'] != 'UG201800000333']\n",
    "    survey_df = survey_df[survey_df['uid'] != 'UG201800000332']\n",
    "    survey_df = survey_df[survey_df['uid'] != 'UG201800000329']\n",
    "    survey_df = survey_df[survey_df['uid'] != 'UG201800000339']\n",
    "    survey_df = survey_df[survey_df['uid'] != 'UG201800000326']\n",
    "    survey_df = survey_df[survey_df['uid'] != 'UG201800000323']\n",
    "    survey_df = survey_df[survey_df['uid'] != 'UG201800000321']\n",
    "    survey_df = survey_df[survey_df['uid'] != 'UG201800000338']\n",
    "    survey_df = survey_df[survey_df['uid'] != 'UG201800000324']\n",
    "    survey_df = survey_df[survey_df['uid'] != 'UG201800000325']\n",
    "    survey_df = survey_df[survey_df['uid'] != 'UG201800000337']\n",
    "    survey_df = survey_df[survey_df['uid'] != 'UG201800000341']"
   ]
  },
  {
   "cell_type": "code",
   "execution_count": 7,
   "metadata": {},
   "outputs": [
    {
     "data": {
      "text/plain": [
       "928"
      ]
     },
     "execution_count": 7,
     "metadata": {},
     "output_type": "execute_result"
    }
   ],
   "source": [
    "# List of TF Records\n",
    "tf_record_list = list(np.unique(survey_df.tfrecord_name))\n",
    "\n",
    "len(tf_record_list)"
   ]
  },
  {
   "cell_type": "code",
   "execution_count": 8,
   "metadata": {
    "id": "PTEEJI89XVY6"
   },
   "outputs": [
    {
     "name": "stdout",
     "output_type": "stream",
     "text": [
      "171\n"
     ]
    }
   ],
   "source": [
    "# If skip already scraped, remove existing tfrecords from tf_record_list\n",
    "if SKIP_IF_SCRAPED:\n",
    "    tf_records_exist = os.listdir(out_path)\n",
    "    tf_record_list = [x for x in tf_record_list if x not in tf_records_exist]\n",
    "    \n",
    "print(len(tf_record_list))"
   ]
  },
  {
   "cell_type": "code",
   "execution_count": 9,
   "metadata": {},
   "outputs": [
    {
     "data": {
      "text/plain": [
       "['nocnn_CD_4_1_all.tfrecord',\n",
       " 'nocnn_CD_5_1_all.tfrecord',\n",
       " 'nocnn_CI_1_1_all.tfrecord',\n",
       " 'nocnn_CI_2_1_all.tfrecord',\n",
       " 'nocnn_CI_3_1_all.tfrecord']"
      ]
     },
     "execution_count": 9,
     "metadata": {},
     "output_type": "execute_result"
    }
   ],
   "source": [
    "tf_record_list[0:5]"
   ]
  },
  {
   "cell_type": "code",
   "execution_count": 10,
   "metadata": {},
   "outputs": [],
   "source": [
    "#tf_record_list.reverse()"
   ]
  },
  {
   "cell_type": "code",
   "execution_count": 11,
   "metadata": {},
   "outputs": [
    {
     "data": {
      "text/plain": [
       "['nocnn_CD_4_1_all.tfrecord',\n",
       " 'nocnn_CD_5_1_all.tfrecord',\n",
       " 'nocnn_CI_1_1_all.tfrecord',\n",
       " 'nocnn_CI_2_1_all.tfrecord',\n",
       " 'nocnn_CI_3_1_all.tfrecord']"
      ]
     },
     "execution_count": 11,
     "metadata": {},
     "output_type": "execute_result"
    }
   ],
   "source": [
    "tf_record_list[0:5]"
   ]
  },
  {
   "cell_type": "code",
   "execution_count": null,
   "metadata": {},
   "outputs": [
    {
     "name": "stderr",
     "output_type": "stream",
     "text": [
      "/var/folders/m1/8h14xfm56hd6qfgz6btm1rd80000gn/T/ipykernel_4019/3978684452.py:20: SettingWithCopyWarning: \n",
      "A value is trying to be set on a copy of a slice from a DataFrame.\n",
      "Try using .loc[row_indexer,col_indexer] = value instead\n",
      "\n",
      "See the caveats in the documentation: https://pandas.pydata.org/pandas-docs/stable/user_guide/indexing.html#returning-a-view-versus-a-copy\n",
      "  survey_df_yeari['chunk_id'] = utils.chunk_ids(survey_df_yeari.shape[0], CHUNK_SIZE)\n"
     ]
    },
    {
     "name": "stdout",
     "output_type": "stream",
     "text": [
      "Putting 76 observations into nocnn_CD_4_1_all.tfrecord\n",
      "Observation: 0/76\n"
     ]
    },
    {
     "name": "stderr",
     "output_type": "stream",
     "text": [
      "2022-07-01 08:15:31.667948: I tensorflow/core/platform/cpu_feature_guard.cc:142] This TensorFlow binary is optimized with oneAPI Deep Neural Network Library (oneDNN) to use the following CPU instructions in performance-critical operations:  SSE4.1 SSE4.2\n",
      "To enable them in other operations, rebuild TensorFlow with the appropriate compiler flags.\n"
     ]
    },
    {
     "name": "stdout",
     "output_type": "stream",
     "text": [
      "Observation: 1/76\n",
      "Observation: 2/76\n",
      "Observation: 3/76\n",
      "Observation: 4/76\n",
      "Observation: 5/76\n",
      "Observation: 6/76\n",
      "Observation: 7/76\n",
      "Observation: 8/76\n",
      "Observation: 9/76\n",
      "Observation: 10/76\n",
      "Observation: 11/76\n",
      "Observation: 12/76\n",
      "Observation: 13/76\n",
      "Observation: 14/76\n",
      "Observation: 15/76\n",
      "Observation: 16/76\n",
      "Observation: 17/76\n",
      "Observation: 18/76\n",
      "Observation: 19/76\n",
      "Observation: 20/76\n",
      "Observation: 21/76\n",
      "Observation: 22/76\n",
      "Observation: 23/76\n",
      "Observation: 24/76\n",
      "Observation: 25/76\n",
      "Observation: 26/76\n",
      "Observation: 27/76\n",
      "Observation: 28/76\n",
      "Observation: 29/76\n",
      "Observation: 30/76\n",
      "Observation: 31/76\n",
      "Observation: 32/76\n",
      "Observation: 33/76\n",
      "Observation: 34/76\n",
      "Observation: 35/76\n",
      "Observation: 36/76\n",
      "Observation: 37/76\n",
      "Observation: 38/76\n",
      "Observation: 39/76\n",
      "Observation: 40/76\n",
      "Observation: 41/76\n",
      "Observation: 42/76\n",
      "Observation: 43/76\n",
      "Observation: 44/76\n",
      "Observation: 45/76\n",
      "Observation: 46/76\n",
      "Observation: 47/76\n",
      "Observation: 48/76\n",
      "Observation: 49/76\n",
      "Observation: 50/76\n",
      "Observation: 51/76\n",
      "Observation: 52/76\n",
      "Observation: 53/76\n",
      "Observation: 54/76\n",
      "Observation: 55/76\n",
      "Observation: 56/76\n",
      "Observation: 57/76\n",
      "Observation: 58/76\n",
      "Observation: 59/76\n",
      "Observation: 60/76\n",
      "Observation: 61/76\n",
      "Observation: 62/76\n",
      "Observation: 63/76\n",
      "Observation: 64/76\n",
      "Observation: 65/76\n",
      "Observation: 66/76\n",
      "Observation: 67/76\n",
      "Observation: 68/76\n",
      "Observation: 69/76\n",
      "Observation: 70/76\n",
      "Observation: 71/76\n",
      "Observation: 72/76\n",
      "Observation: 73/76\n",
      "Observation: 74/76\n",
      "Observation: 75/76\n",
      "/Users/robmarty/Google Drive/World Bank/IEs/Pakistan Poverty Estimation/Data/DHS/FinalData/Individual Datasets/cnn_landsat_viirs_underiaTrue/tfrecords/nocnn_CD_4_1_all.tfrecord\n",
      "Success \\o/\n",
      "Putting 99 observations into nocnn_CD_5_1_all.tfrecord\n"
     ]
    },
    {
     "name": "stderr",
     "output_type": "stream",
     "text": [
      "/var/folders/m1/8h14xfm56hd6qfgz6btm1rd80000gn/T/ipykernel_4019/3978684452.py:20: SettingWithCopyWarning: \n",
      "A value is trying to be set on a copy of a slice from a DataFrame.\n",
      "Try using .loc[row_indexer,col_indexer] = value instead\n",
      "\n",
      "See the caveats in the documentation: https://pandas.pydata.org/pandas-docs/stable/user_guide/indexing.html#returning-a-view-versus-a-copy\n",
      "  survey_df_yeari['chunk_id'] = utils.chunk_ids(survey_df_yeari.shape[0], CHUNK_SIZE)\n"
     ]
    },
    {
     "name": "stdout",
     "output_type": "stream",
     "text": [
      "Observation: 0/99\n",
      "Observation: 1/99\n",
      "Observation: 2/99\n",
      "Observation: 3/99\n",
      "Observation: 4/99\n",
      "Observation: 5/99\n",
      "Observation: 6/99\n",
      "Observation: 7/99\n",
      "Observation: 8/99\n",
      "Observation: 9/99\n",
      "Observation: 10/99\n",
      "Observation: 11/99\n",
      "Observation: 12/99\n",
      "Observation: 13/99\n",
      "Observation: 14/99\n",
      "Observation: 15/99\n",
      "Observation: 16/99\n",
      "Observation: 17/99\n",
      "Observation: 18/99\n",
      "Observation: 19/99\n",
      "Observation: 20/99\n",
      "Observation: 21/99\n",
      "Observation: 22/99\n",
      "Observation: 23/99\n",
      "Observation: 24/99\n",
      "Observation: 25/99\n",
      "Observation: 26/99\n",
      "Observation: 27/99\n",
      "Observation: 28/99\n",
      "Observation: 29/99\n",
      "Observation: 30/99\n",
      "Observation: 31/99\n",
      "Observation: 32/99\n",
      "Observation: 33/99\n",
      "Observation: 34/99\n",
      "Observation: 35/99\n",
      "Observation: 36/99\n",
      "Observation: 37/99\n",
      "Observation: 38/99\n",
      "Observation: 39/99\n",
      "Observation: 40/99\n",
      "Observation: 41/99\n",
      "Observation: 42/99\n",
      "Observation: 43/99\n",
      "Observation: 44/99\n",
      "Observation: 45/99\n",
      "Observation: 46/99\n",
      "Observation: 47/99\n",
      "Observation: 48/99\n",
      "Observation: 49/99\n",
      "Observation: 50/99\n",
      "Observation: 51/99\n",
      "Observation: 52/99\n",
      "Observation: 53/99\n",
      "Observation: 54/99\n",
      "Observation: 55/99\n",
      "Observation: 56/99\n",
      "Observation: 57/99\n",
      "Observation: 58/99\n",
      "Observation: 59/99\n",
      "Observation: 60/99\n",
      "Observation: 61/99\n",
      "Observation: 62/99\n",
      "Observation: 63/99\n",
      "Observation: 64/99\n",
      "Observation: 65/99\n",
      "Observation: 66/99\n",
      "Observation: 67/99\n",
      "Observation: 68/99\n",
      "Observation: 69/99\n",
      "Observation: 70/99\n",
      "Observation: 71/99\n",
      "Observation: 72/99\n",
      "Observation: 73/99\n",
      "Observation: 74/99\n",
      "Observation: 75/99\n",
      "Observation: 76/99\n",
      "Observation: 77/99\n",
      "Observation: 78/99\n",
      "Observation: 79/99\n",
      "Observation: 80/99\n",
      "Observation: 81/99\n",
      "Observation: 82/99\n",
      "Observation: 83/99\n",
      "Observation: 84/99\n",
      "Observation: 85/99\n",
      "Observation: 86/99\n",
      "Observation: 87/99\n",
      "Observation: 88/99\n",
      "Observation: 89/99\n",
      "Observation: 90/99\n",
      "Observation: 91/99\n",
      "Observation: 92/99\n",
      "Observation: 93/99\n",
      "Observation: 94/99\n",
      "Observation: 95/99\n",
      "Observation: 96/99\n",
      "Observation: 97/99\n",
      "Observation: 98/99\n",
      "/Users/robmarty/Google Drive/World Bank/IEs/Pakistan Poverty Estimation/Data/DHS/FinalData/Individual Datasets/cnn_landsat_viirs_underiaTrue/tfrecords/nocnn_CD_5_1_all.tfrecord\n",
      "Success \\o/\n"
     ]
    },
    {
     "name": "stderr",
     "output_type": "stream",
     "text": [
      "/var/folders/m1/8h14xfm56hd6qfgz6btm1rd80000gn/T/ipykernel_4019/3978684452.py:20: SettingWithCopyWarning: \n",
      "A value is trying to be set on a copy of a slice from a DataFrame.\n",
      "Try using .loc[row_indexer,col_indexer] = value instead\n",
      "\n",
      "See the caveats in the documentation: https://pandas.pydata.org/pandas-docs/stable/user_guide/indexing.html#returning-a-view-versus-a-copy\n",
      "  survey_df_yeari['chunk_id'] = utils.chunk_ids(survey_df_yeari.shape[0], CHUNK_SIZE)\n"
     ]
    },
    {
     "name": "stdout",
     "output_type": "stream",
     "text": [
      "Putting 76 observations into nocnn_CI_1_1_all.tfrecord\n",
      "Observation: 0/76\n",
      "Observation: 1/76\n",
      "Observation: 2/76\n",
      "Observation: 3/76\n",
      "Observation: 4/76\n",
      "Observation: 5/76\n",
      "Observation: 6/76\n",
      "Observation: 7/76\n",
      "Observation: 8/76\n",
      "Observation: 9/76\n",
      "Observation: 10/76\n",
      "Observation: 11/76\n",
      "Observation: 12/76\n",
      "Observation: 13/76\n",
      "Observation: 14/76\n",
      "Observation: 15/76\n",
      "Observation: 16/76\n",
      "Observation: 17/76\n",
      "Observation: 18/76\n",
      "Observation: 19/76\n",
      "Observation: 20/76\n",
      "Observation: 21/76\n",
      "Observation: 22/76\n",
      "Observation: 23/76\n",
      "Observation: 24/76\n",
      "Observation: 25/76\n",
      "Observation: 26/76\n",
      "Observation: 27/76\n",
      "Observation: 28/76\n",
      "Observation: 29/76\n",
      "Observation: 30/76\n",
      "Observation: 31/76\n",
      "Observation: 32/76\n",
      "Observation: 33/76\n",
      "Observation: 34/76\n",
      "Observation: 35/76\n",
      "Observation: 36/76\n",
      "Observation: 37/76\n",
      "Observation: 38/76\n",
      "Observation: 39/76\n",
      "Observation: 40/76\n",
      "Observation: 41/76\n",
      "Observation: 42/76\n",
      "Observation: 43/76\n",
      "Observation: 44/76\n",
      "Observation: 45/76\n",
      "Observation: 46/76\n",
      "Observation: 47/76\n",
      "Observation: 48/76\n",
      "Observation: 49/76\n",
      "Observation: 50/76\n",
      "Observation: 51/76\n",
      "Observation: 52/76\n",
      "Observation: 53/76\n",
      "Observation: 54/76\n",
      "Observation: 55/76\n",
      "Observation: 56/76\n",
      "Observation: 57/76\n",
      "Observation: 58/76\n",
      "Observation: 59/76\n",
      "Observation: 60/76\n",
      "Observation: 61/76\n",
      "Observation: 62/76\n",
      "Observation: 63/76\n",
      "Observation: 64/76\n",
      "Observation: 65/76\n",
      "Observation: 66/76\n",
      "Observation: 67/76\n",
      "Observation: 68/76\n",
      "Observation: 69/76\n",
      "Observation: 70/76\n",
      "Observation: 71/76\n",
      "Observation: 72/76\n",
      "Observation: 73/76\n",
      "Observation: 74/76\n",
      "Observation: 75/76\n",
      "/Users/robmarty/Google Drive/World Bank/IEs/Pakistan Poverty Estimation/Data/DHS/FinalData/Individual Datasets/cnn_landsat_viirs_underiaTrue/tfrecords/nocnn_CI_1_1_all.tfrecord\n",
      "Success \\o/\n",
      "Putting 49 observations into nocnn_CI_2_1_all.tfrecord\n"
     ]
    },
    {
     "name": "stderr",
     "output_type": "stream",
     "text": [
      "/var/folders/m1/8h14xfm56hd6qfgz6btm1rd80000gn/T/ipykernel_4019/3978684452.py:20: SettingWithCopyWarning: \n",
      "A value is trying to be set on a copy of a slice from a DataFrame.\n",
      "Try using .loc[row_indexer,col_indexer] = value instead\n",
      "\n",
      "See the caveats in the documentation: https://pandas.pydata.org/pandas-docs/stable/user_guide/indexing.html#returning-a-view-versus-a-copy\n",
      "  survey_df_yeari['chunk_id'] = utils.chunk_ids(survey_df_yeari.shape[0], CHUNK_SIZE)\n"
     ]
    },
    {
     "name": "stdout",
     "output_type": "stream",
     "text": [
      "Observation: 0/49\n",
      "Observation: 1/49\n",
      "Observation: 2/49\n",
      "Observation: 3/49\n",
      "Observation: 4/49\n",
      "Observation: 5/49\n",
      "Observation: 6/49\n",
      "Observation: 7/49\n",
      "Observation: 8/49\n",
      "Observation: 9/49\n",
      "Observation: 10/49\n",
      "Observation: 11/49\n",
      "Observation: 12/49\n",
      "Observation: 13/49\n",
      "Observation: 14/49\n",
      "Observation: 15/49\n",
      "Observation: 16/49\n",
      "Observation: 17/49\n",
      "Observation: 18/49\n",
      "Observation: 19/49\n",
      "Observation: 20/49\n",
      "Observation: 21/49\n",
      "Observation: 22/49\n",
      "Observation: 23/49\n",
      "Observation: 24/49\n",
      "Observation: 25/49\n",
      "Observation: 26/49\n",
      "Observation: 27/49\n",
      "Observation: 28/49\n",
      "Observation: 29/49\n",
      "Observation: 30/49\n",
      "Observation: 31/49\n",
      "Observation: 32/49\n",
      "Observation: 33/49\n",
      "Observation: 34/49\n",
      "Observation: 35/49\n",
      "Observation: 36/49\n",
      "Observation: 37/49\n",
      "Observation: 38/49\n",
      "Observation: 39/49\n",
      "Observation: 40/49\n",
      "Observation: 41/49\n",
      "Observation: 42/49\n",
      "Observation: 43/49\n",
      "Observation: 44/49\n",
      "Observation: 45/49\n",
      "Observation: 46/49\n",
      "Observation: 47/49\n",
      "Observation: 48/49\n",
      "/Users/robmarty/Google Drive/World Bank/IEs/Pakistan Poverty Estimation/Data/DHS/FinalData/Individual Datasets/cnn_landsat_viirs_underiaTrue/tfrecords/nocnn_CI_2_1_all.tfrecord\n",
      "Success \\o/\n",
      "Putting 96 observations into nocnn_CI_3_1_all.tfrecord\n"
     ]
    },
    {
     "name": "stderr",
     "output_type": "stream",
     "text": [
      "/var/folders/m1/8h14xfm56hd6qfgz6btm1rd80000gn/T/ipykernel_4019/3978684452.py:20: SettingWithCopyWarning: \n",
      "A value is trying to be set on a copy of a slice from a DataFrame.\n",
      "Try using .loc[row_indexer,col_indexer] = value instead\n",
      "\n",
      "See the caveats in the documentation: https://pandas.pydata.org/pandas-docs/stable/user_guide/indexing.html#returning-a-view-versus-a-copy\n",
      "  survey_df_yeari['chunk_id'] = utils.chunk_ids(survey_df_yeari.shape[0], CHUNK_SIZE)\n"
     ]
    },
    {
     "name": "stdout",
     "output_type": "stream",
     "text": [
      "Observation: 0/96\n",
      "Observation: 1/96\n",
      "Observation: 2/96\n",
      "Observation: 3/96\n",
      "Observation: 4/96\n",
      "Observation: 5/96\n",
      "Observation: 6/96\n",
      "Observation: 7/96\n",
      "Observation: 8/96\n",
      "Observation: 9/96\n",
      "Observation: 10/96\n",
      "Observation: 11/96\n",
      "Observation: 12/96\n",
      "Observation: 13/96\n",
      "Observation: 14/96\n",
      "Observation: 15/96\n",
      "Observation: 16/96\n",
      "Observation: 17/96\n",
      "Observation: 18/96\n",
      "Observation: 19/96\n",
      "Observation: 20/96\n",
      "Observation: 21/96\n",
      "Observation: 22/96\n",
      "Observation: 23/96\n",
      "Observation: 24/96\n",
      "Observation: 25/96\n",
      "Observation: 26/96\n",
      "Observation: 27/96\n",
      "Observation: 28/96\n",
      "Observation: 29/96\n",
      "Observation: 30/96\n",
      "Observation: 31/96\n",
      "Observation: 32/96\n",
      "Observation: 33/96\n",
      "Observation: 34/96\n",
      "Observation: 35/96\n",
      "Observation: 36/96\n",
      "Observation: 37/96\n",
      "Observation: 38/96\n",
      "Observation: 39/96\n",
      "Observation: 40/96\n",
      "Observation: 41/96\n",
      "Observation: 42/96\n",
      "Observation: 43/96\n",
      "Observation: 44/96\n",
      "Observation: 45/96\n",
      "Observation: 46/96\n",
      "Observation: 47/96\n",
      "Observation: 48/96\n",
      "Observation: 49/96\n",
      "Observation: 50/96\n",
      "Observation: 51/96\n",
      "Observation: 52/96\n",
      "Observation: 53/96\n",
      "Observation: 54/96\n",
      "Observation: 55/96\n",
      "Observation: 56/96\n",
      "Observation: 57/96\n",
      "Observation: 58/96\n",
      "Observation: 59/96\n",
      "Observation: 60/96\n",
      "Observation: 61/96\n",
      "Observation: 62/96\n",
      "Observation: 63/96\n",
      "Observation: 64/96\n",
      "Observation: 65/96\n",
      "Observation: 66/96\n",
      "Observation: 67/96\n",
      "Observation: 68/96\n",
      "Observation: 69/96\n",
      "Observation: 70/96\n",
      "Observation: 71/96\n",
      "Observation: 72/96\n",
      "Observation: 73/96\n",
      "Observation: 74/96\n",
      "Observation: 75/96\n",
      "Observation: 76/96\n",
      "Observation: 77/96\n",
      "Observation: 78/96\n",
      "Observation: 79/96\n",
      "Observation: 80/96\n",
      "Observation: 81/96\n",
      "Observation: 82/96\n",
      "Observation: 83/96\n",
      "Observation: 84/96\n",
      "Observation: 85/96\n",
      "Observation: 86/96\n",
      "Observation: 87/96\n",
      "Observation: 88/96\n",
      "Observation: 89/96\n",
      "Observation: 90/96\n",
      "Observation: 91/96\n",
      "Observation: 92/96\n",
      "Observation: 93/96\n",
      "Observation: 94/96\n",
      "Observation: 95/96\n",
      "/Users/robmarty/Google Drive/World Bank/IEs/Pakistan Poverty Estimation/Data/DHS/FinalData/Individual Datasets/cnn_landsat_viirs_underiaTrue/tfrecords/nocnn_CI_3_1_all.tfrecord\n",
      "Success \\o/\n",
      "Putting 82 observations into nocnn_CI_4_1_all.tfrecord\n"
     ]
    },
    {
     "name": "stderr",
     "output_type": "stream",
     "text": [
      "/var/folders/m1/8h14xfm56hd6qfgz6btm1rd80000gn/T/ipykernel_4019/3978684452.py:20: SettingWithCopyWarning: \n",
      "A value is trying to be set on a copy of a slice from a DataFrame.\n",
      "Try using .loc[row_indexer,col_indexer] = value instead\n",
      "\n",
      "See the caveats in the documentation: https://pandas.pydata.org/pandas-docs/stable/user_guide/indexing.html#returning-a-view-versus-a-copy\n",
      "  survey_df_yeari['chunk_id'] = utils.chunk_ids(survey_df_yeari.shape[0], CHUNK_SIZE)\n"
     ]
    },
    {
     "name": "stdout",
     "output_type": "stream",
     "text": [
      "Observation: 0/82\n",
      "Observation: 1/82\n",
      "Observation: 2/82\n",
      "Observation: 3/82\n",
      "Observation: 4/82\n",
      "Observation: 5/82\n",
      "Observation: 6/82\n",
      "Observation: 7/82\n",
      "Observation: 8/82\n",
      "Observation: 9/82\n",
      "Observation: 10/82\n",
      "Observation: 11/82\n",
      "Observation: 12/82\n",
      "Observation: 13/82\n",
      "Observation: 14/82\n",
      "Observation: 15/82\n",
      "Observation: 16/82\n",
      "Observation: 17/82\n",
      "Observation: 18/82\n",
      "Observation: 19/82\n",
      "Observation: 20/82\n",
      "Observation: 21/82\n",
      "Observation: 22/82\n",
      "Observation: 23/82\n",
      "Observation: 24/82\n",
      "Observation: 25/82\n",
      "Observation: 26/82\n",
      "Observation: 27/82\n",
      "Observation: 28/82\n",
      "Observation: 29/82\n",
      "Observation: 30/82\n",
      "Observation: 31/82\n",
      "Observation: 32/82\n",
      "Observation: 33/82\n",
      "Observation: 34/82\n",
      "Observation: 35/82\n",
      "Observation: 36/82\n",
      "Observation: 37/82\n",
      "Observation: 38/82\n",
      "Observation: 39/82\n",
      "Observation: 40/82\n",
      "Observation: 41/82\n",
      "Observation: 42/82\n",
      "Observation: 43/82\n",
      "Observation: 44/82\n",
      "Observation: 45/82\n",
      "Observation: 46/82\n",
      "Observation: 47/82\n",
      "Observation: 48/82\n",
      "Observation: 49/82\n",
      "Observation: 50/82\n",
      "Observation: 51/82\n",
      "Observation: 52/82\n",
      "Observation: 53/82\n",
      "Observation: 54/82\n",
      "Observation: 55/82\n",
      "Observation: 56/82\n",
      "Observation: 57/82\n",
      "Observation: 58/82\n",
      "Observation: 59/82\n",
      "Observation: 60/82\n",
      "Observation: 61/82\n",
      "Observation: 62/82\n",
      "Observation: 63/82\n",
      "Observation: 64/82\n",
      "Observation: 65/82\n",
      "Observation: 66/82\n",
      "Observation: 67/82\n",
      "Observation: 68/82\n",
      "Observation: 69/82\n",
      "Observation: 70/82\n",
      "Observation: 71/82\n",
      "Observation: 72/82\n",
      "Observation: 73/82\n",
      "Observation: 74/82\n",
      "Observation: 75/82\n",
      "Observation: 76/82\n",
      "Observation: 77/82\n",
      "Observation: 78/82\n",
      "Observation: 79/82\n",
      "Observation: 80/82\n",
      "Observation: 81/82\n",
      "/Users/robmarty/Google Drive/World Bank/IEs/Pakistan Poverty Estimation/Data/DHS/FinalData/Individual Datasets/cnn_landsat_viirs_underiaTrue/tfrecords/nocnn_CI_4_1_all.tfrecord\n",
      "Success \\o/\n",
      "Putting 38 observations into nocnn_CI_5_1_all.tfrecord\n"
     ]
    },
    {
     "name": "stderr",
     "output_type": "stream",
     "text": [
      "/var/folders/m1/8h14xfm56hd6qfgz6btm1rd80000gn/T/ipykernel_4019/3978684452.py:20: SettingWithCopyWarning: \n",
      "A value is trying to be set on a copy of a slice from a DataFrame.\n",
      "Try using .loc[row_indexer,col_indexer] = value instead\n",
      "\n",
      "See the caveats in the documentation: https://pandas.pydata.org/pandas-docs/stable/user_guide/indexing.html#returning-a-view-versus-a-copy\n",
      "  survey_df_yeari['chunk_id'] = utils.chunk_ids(survey_df_yeari.shape[0], CHUNK_SIZE)\n"
     ]
    },
    {
     "name": "stdout",
     "output_type": "stream",
     "text": [
      "Observation: 0/38\n",
      "Observation: 1/38\n",
      "Observation: 2/38\n",
      "Observation: 3/38\n",
      "Observation: 4/38\n",
      "Observation: 5/38\n",
      "Observation: 6/38\n",
      "Observation: 7/38\n",
      "Observation: 8/38\n",
      "Observation: 9/38\n",
      "Observation: 10/38\n",
      "Observation: 11/38\n",
      "Observation: 12/38\n",
      "Observation: 13/38\n",
      "Observation: 14/38\n",
      "Observation: 15/38\n",
      "Observation: 16/38\n",
      "Observation: 17/38\n",
      "Observation: 18/38\n",
      "Observation: 19/38\n",
      "Observation: 20/38\n",
      "Observation: 21/38\n",
      "Observation: 22/38\n",
      "Observation: 23/38\n",
      "Observation: 24/38\n",
      "Observation: 25/38\n",
      "Observation: 26/38\n",
      "Observation: 27/38\n",
      "Observation: 28/38\n",
      "Observation: 29/38\n",
      "Observation: 30/38\n",
      "Observation: 31/38\n",
      "Observation: 32/38\n",
      "Observation: 33/38\n",
      "Observation: 34/38\n",
      "Observation: 35/38\n",
      "Observation: 36/38\n",
      "Observation: 37/38\n",
      "/Users/robmarty/Google Drive/World Bank/IEs/Pakistan Poverty Estimation/Data/DHS/FinalData/Individual Datasets/cnn_landsat_viirs_underiaTrue/tfrecords/nocnn_CI_5_1_all.tfrecord\n",
      "Success \\o/\n",
      "Putting 132 observations into nocnn_CM_1_1_all.tfrecord\n"
     ]
    },
    {
     "name": "stderr",
     "output_type": "stream",
     "text": [
      "/var/folders/m1/8h14xfm56hd6qfgz6btm1rd80000gn/T/ipykernel_4019/3978684452.py:20: SettingWithCopyWarning: \n",
      "A value is trying to be set on a copy of a slice from a DataFrame.\n",
      "Try using .loc[row_indexer,col_indexer] = value instead\n",
      "\n",
      "See the caveats in the documentation: https://pandas.pydata.org/pandas-docs/stable/user_guide/indexing.html#returning-a-view-versus-a-copy\n",
      "  survey_df_yeari['chunk_id'] = utils.chunk_ids(survey_df_yeari.shape[0], CHUNK_SIZE)\n"
     ]
    },
    {
     "name": "stdout",
     "output_type": "stream",
     "text": [
      "Observation: 0/132\n",
      "Observation: 1/132\n",
      "Observation: 2/132\n",
      "Observation: 3/132\n",
      "Observation: 4/132\n",
      "Observation: 5/132\n",
      "Observation: 6/132\n",
      "Observation: 7/132\n",
      "Observation: 8/132\n",
      "Observation: 9/132\n",
      "Observation: 10/132\n",
      "Observation: 11/132\n",
      "Observation: 12/132\n",
      "Observation: 13/132\n",
      "Observation: 14/132\n",
      "Observation: 15/132\n",
      "Observation: 16/132\n",
      "Observation: 17/132\n",
      "Observation: 18/132\n",
      "Observation: 19/132\n",
      "Observation: 20/132\n",
      "Observation: 21/132\n",
      "Observation: 22/132\n",
      "Observation: 23/132\n",
      "Observation: 24/132\n",
      "Observation: 25/132\n",
      "Observation: 26/132\n",
      "Observation: 27/132\n",
      "Observation: 28/132\n",
      "Observation: 29/132\n",
      "Observation: 30/132\n",
      "Observation: 31/132\n",
      "Observation: 32/132\n",
      "Observation: 33/132\n",
      "Observation: 34/132\n",
      "Observation: 35/132\n",
      "Observation: 36/132\n",
      "Observation: 37/132\n",
      "Observation: 38/132\n",
      "Observation: 39/132\n",
      "Observation: 40/132\n",
      "Observation: 41/132\n",
      "Observation: 42/132\n",
      "Observation: 43/132\n",
      "Observation: 44/132\n",
      "Observation: 45/132\n",
      "Observation: 46/132\n",
      "Observation: 47/132\n",
      "Observation: 48/132\n",
      "Observation: 49/132\n",
      "Observation: 50/132\n",
      "Observation: 51/132\n",
      "Observation: 52/132\n",
      "Observation: 53/132\n",
      "Observation: 54/132\n",
      "Observation: 55/132\n",
      "Observation: 56/132\n",
      "Observation: 57/132\n",
      "Observation: 58/132\n",
      "Observation: 59/132\n",
      "Observation: 60/132\n",
      "Observation: 61/132\n",
      "Observation: 62/132\n",
      "Observation: 63/132\n",
      "Observation: 64/132\n",
      "Observation: 65/132\n",
      "Observation: 66/132\n",
      "Observation: 67/132\n",
      "Observation: 68/132\n",
      "Observation: 69/132\n",
      "Observation: 70/132\n",
      "Observation: 71/132\n",
      "Observation: 72/132\n",
      "Observation: 73/132\n",
      "Observation: 74/132\n",
      "Observation: 75/132\n",
      "Observation: 76/132\n",
      "Observation: 77/132\n",
      "Observation: 78/132\n",
      "Observation: 79/132\n",
      "Observation: 80/132\n",
      "Observation: 81/132\n",
      "Observation: 82/132\n",
      "Observation: 83/132\n",
      "Observation: 84/132\n",
      "Observation: 85/132\n",
      "Observation: 86/132\n",
      "Observation: 87/132\n",
      "Observation: 88/132\n",
      "Observation: 89/132\n",
      "Observation: 90/132\n",
      "Observation: 91/132\n",
      "Observation: 92/132\n",
      "Observation: 93/132\n",
      "Observation: 94/132\n",
      "Observation: 95/132\n",
      "Observation: 96/132\n",
      "Observation: 97/132\n",
      "Observation: 98/132\n",
      "Observation: 99/132\n",
      "Observation: 100/132\n",
      "Observation: 101/132\n",
      "Observation: 102/132\n",
      "Observation: 103/132\n",
      "Observation: 104/132\n",
      "Observation: 105/132\n",
      "Observation: 106/132\n",
      "Observation: 107/132\n",
      "Observation: 108/132\n",
      "Observation: 109/132\n",
      "Observation: 110/132\n",
      "Observation: 111/132\n",
      "Observation: 112/132\n",
      "Observation: 113/132\n",
      "Observation: 114/132\n",
      "Observation: 115/132\n",
      "Observation: 116/132\n",
      "Observation: 117/132\n",
      "Observation: 118/132\n",
      "Observation: 119/132\n",
      "Observation: 120/132\n",
      "Observation: 121/132\n",
      "Observation: 122/132\n",
      "Observation: 123/132\n",
      "Observation: 124/132\n",
      "Observation: 125/132\n",
      "Observation: 126/132\n",
      "Observation: 127/132\n",
      "Observation: 128/132\n",
      "Observation: 129/132\n",
      "Observation: 130/132\n",
      "Observation: 131/132\n",
      "/Users/robmarty/Google Drive/World Bank/IEs/Pakistan Poverty Estimation/Data/DHS/FinalData/Individual Datasets/cnn_landsat_viirs_underiaTrue/tfrecords/nocnn_CM_1_1_all.tfrecord\n",
      "Success \\o/\n",
      "Putting 141 observations into nocnn_CM_2_1_all.tfrecord\n"
     ]
    },
    {
     "name": "stderr",
     "output_type": "stream",
     "text": [
      "/var/folders/m1/8h14xfm56hd6qfgz6btm1rd80000gn/T/ipykernel_4019/3978684452.py:20: SettingWithCopyWarning: \n",
      "A value is trying to be set on a copy of a slice from a DataFrame.\n",
      "Try using .loc[row_indexer,col_indexer] = value instead\n",
      "\n",
      "See the caveats in the documentation: https://pandas.pydata.org/pandas-docs/stable/user_guide/indexing.html#returning-a-view-versus-a-copy\n",
      "  survey_df_yeari['chunk_id'] = utils.chunk_ids(survey_df_yeari.shape[0], CHUNK_SIZE)\n"
     ]
    },
    {
     "name": "stdout",
     "output_type": "stream",
     "text": [
      "Observation: 0/141\n",
      "Observation: 1/141\n",
      "Observation: 2/141\n",
      "Observation: 3/141\n",
      "Observation: 4/141\n",
      "Observation: 5/141\n",
      "Observation: 6/141\n",
      "Observation: 7/141\n",
      "Observation: 8/141\n",
      "Observation: 9/141\n",
      "Observation: 10/141\n",
      "Observation: 11/141\n",
      "Observation: 12/141\n",
      "Observation: 13/141\n",
      "Observation: 14/141\n",
      "Observation: 15/141\n",
      "Observation: 16/141\n",
      "Observation: 17/141\n",
      "Observation: 18/141\n",
      "Observation: 19/141\n",
      "Observation: 20/141\n",
      "Observation: 21/141\n",
      "Observation: 22/141\n",
      "Observation: 23/141\n",
      "Observation: 24/141\n",
      "Observation: 25/141\n",
      "Observation: 26/141\n",
      "Observation: 27/141\n",
      "Observation: 28/141\n",
      "Observation: 29/141\n",
      "Observation: 30/141\n",
      "Observation: 31/141\n",
      "Observation: 32/141\n",
      "Observation: 33/141\n",
      "Observation: 34/141\n",
      "Observation: 35/141\n",
      "Observation: 36/141\n",
      "Observation: 37/141\n",
      "Observation: 38/141\n",
      "Observation: 39/141\n",
      "Observation: 40/141\n",
      "Observation: 41/141\n",
      "Observation: 42/141\n",
      "Observation: 43/141\n",
      "Observation: 44/141\n",
      "Observation: 45/141\n",
      "Observation: 46/141\n",
      "Observation: 47/141\n",
      "Observation: 48/141\n",
      "Observation: 49/141\n",
      "Observation: 50/141\n",
      "Observation: 51/141\n",
      "Observation: 52/141\n",
      "Observation: 53/141\n",
      "Observation: 54/141\n",
      "Observation: 55/141\n",
      "Observation: 56/141\n",
      "Observation: 57/141\n",
      "Observation: 58/141\n",
      "Observation: 59/141\n",
      "Observation: 60/141\n",
      "Observation: 61/141\n",
      "Observation: 62/141\n",
      "Observation: 63/141\n",
      "Observation: 64/141\n",
      "Observation: 65/141\n",
      "Observation: 66/141\n",
      "Observation: 67/141\n",
      "Observation: 68/141\n",
      "Observation: 69/141\n",
      "Observation: 70/141\n",
      "Observation: 71/141\n",
      "Observation: 72/141\n",
      "Observation: 73/141\n",
      "Observation: 74/141\n",
      "Observation: 75/141\n",
      "Observation: 76/141\n",
      "Observation: 77/141\n",
      "Observation: 78/141\n",
      "Observation: 79/141\n",
      "Observation: 80/141\n",
      "Observation: 81/141\n",
      "Observation: 82/141\n",
      "Observation: 83/141\n",
      "Observation: 84/141\n",
      "Observation: 85/141\n",
      "Observation: 86/141\n",
      "Observation: 87/141\n",
      "Observation: 88/141\n",
      "Observation: 89/141\n",
      "Observation: 90/141\n",
      "Observation: 91/141\n",
      "Observation: 92/141\n",
      "Observation: 93/141\n",
      "Observation: 94/141\n",
      "Observation: 95/141\n",
      "Observation: 96/141\n",
      "Observation: 97/141\n",
      "Observation: 98/141\n",
      "Observation: 99/141\n",
      "Observation: 100/141\n",
      "Observation: 101/141\n",
      "Observation: 102/141\n",
      "Observation: 103/141\n",
      "Observation: 104/141\n",
      "Observation: 105/141\n",
      "Observation: 106/141\n",
      "Observation: 107/141\n",
      "Observation: 108/141\n",
      "Observation: 109/141\n",
      "Observation: 110/141\n",
      "Observation: 111/141\n",
      "Observation: 112/141\n",
      "Observation: 113/141\n",
      "Observation: 114/141\n",
      "Observation: 115/141\n",
      "Observation: 116/141\n",
      "Observation: 117/141\n",
      "Observation: 118/141\n",
      "Observation: 119/141\n",
      "Observation: 120/141\n",
      "Observation: 121/141\n",
      "Observation: 122/141\n",
      "Observation: 123/141\n",
      "Observation: 124/141\n",
      "Observation: 125/141\n",
      "Observation: 126/141\n",
      "Observation: 127/141\n",
      "Observation: 128/141\n",
      "Observation: 129/141\n",
      "Observation: 130/141\n",
      "Observation: 131/141\n",
      "Observation: 132/141\n",
      "Observation: 133/141\n",
      "Observation: 134/141\n",
      "Observation: 135/141\n",
      "Observation: 136/141\n",
      "Observation: 137/141\n",
      "Observation: 138/141\n",
      "Observation: 139/141\n",
      "Observation: 140/141\n",
      "/Users/robmarty/Google Drive/World Bank/IEs/Pakistan Poverty Estimation/Data/DHS/FinalData/Individual Datasets/cnn_landsat_viirs_underiaTrue/tfrecords/nocnn_CM_2_1_all.tfrecord\n",
      "Success \\o/\n",
      "Putting 154 observations into nocnn_CM_3_1_all.tfrecord\n"
     ]
    },
    {
     "name": "stderr",
     "output_type": "stream",
     "text": [
      "/var/folders/m1/8h14xfm56hd6qfgz6btm1rd80000gn/T/ipykernel_4019/3978684452.py:20: SettingWithCopyWarning: \n",
      "A value is trying to be set on a copy of a slice from a DataFrame.\n",
      "Try using .loc[row_indexer,col_indexer] = value instead\n",
      "\n",
      "See the caveats in the documentation: https://pandas.pydata.org/pandas-docs/stable/user_guide/indexing.html#returning-a-view-versus-a-copy\n",
      "  survey_df_yeari['chunk_id'] = utils.chunk_ids(survey_df_yeari.shape[0], CHUNK_SIZE)\n"
     ]
    },
    {
     "name": "stdout",
     "output_type": "stream",
     "text": [
      "Observation: 0/154\n",
      "Observation: 1/154\n",
      "Observation: 2/154\n",
      "Observation: 3/154\n",
      "Observation: 4/154\n",
      "Observation: 5/154\n",
      "Observation: 6/154\n",
      "Observation: 7/154\n",
      "Observation: 8/154\n",
      "Observation: 9/154\n",
      "Observation: 10/154\n",
      "Observation: 11/154\n",
      "Observation: 12/154\n",
      "Observation: 13/154\n",
      "Observation: 14/154\n",
      "Observation: 15/154\n",
      "Observation: 16/154\n",
      "Observation: 17/154\n",
      "Observation: 18/154\n",
      "Observation: 19/154\n",
      "Observation: 20/154\n",
      "Observation: 21/154\n",
      "Observation: 22/154\n",
      "Observation: 23/154\n",
      "Observation: 24/154\n",
      "Observation: 25/154\n",
      "Observation: 26/154\n",
      "Observation: 27/154\n",
      "Observation: 28/154\n",
      "Observation: 29/154\n",
      "Observation: 30/154\n",
      "Observation: 31/154\n",
      "Observation: 32/154\n",
      "Observation: 33/154\n",
      "Observation: 34/154\n",
      "Observation: 35/154\n",
      "Observation: 36/154\n",
      "Observation: 37/154\n",
      "Observation: 38/154\n",
      "Observation: 39/154\n",
      "Observation: 40/154\n",
      "Observation: 41/154\n",
      "Observation: 42/154\n",
      "Observation: 43/154\n",
      "Observation: 44/154\n",
      "Observation: 45/154\n",
      "Observation: 46/154\n",
      "Observation: 47/154\n",
      "Observation: 48/154\n",
      "Observation: 49/154\n",
      "Observation: 50/154\n",
      "Observation: 51/154\n",
      "Observation: 52/154\n",
      "Observation: 53/154\n",
      "Observation: 54/154\n",
      "Observation: 55/154\n",
      "Observation: 56/154\n",
      "Observation: 57/154\n",
      "Observation: 58/154\n",
      "Observation: 59/154\n",
      "Observation: 60/154\n",
      "Observation: 61/154\n",
      "Observation: 62/154\n",
      "Observation: 63/154\n",
      "Observation: 64/154\n",
      "Observation: 65/154\n",
      "Observation: 66/154\n",
      "Observation: 67/154\n",
      "Observation: 68/154\n",
      "Observation: 69/154\n",
      "Observation: 70/154\n",
      "Observation: 71/154\n",
      "Observation: 72/154\n",
      "Observation: 73/154\n",
      "Observation: 74/154\n",
      "Observation: 75/154\n",
      "Observation: 76/154\n",
      "Observation: 77/154\n",
      "Observation: 78/154\n",
      "Observation: 79/154\n",
      "Observation: 80/154\n",
      "Observation: 81/154\n",
      "Observation: 82/154\n",
      "Observation: 83/154\n",
      "Observation: 84/154\n",
      "Observation: 85/154\n",
      "Observation: 86/154\n",
      "Observation: 87/154\n",
      "Observation: 88/154\n",
      "Observation: 89/154\n",
      "Observation: 90/154\n",
      "Observation: 91/154\n",
      "Observation: 92/154\n",
      "Observation: 93/154\n",
      "Observation: 94/154\n",
      "Observation: 95/154\n",
      "Observation: 96/154\n",
      "Observation: 97/154\n",
      "Observation: 98/154\n",
      "Observation: 99/154\n",
      "Observation: 100/154\n",
      "Observation: 101/154\n",
      "Observation: 102/154\n",
      "Observation: 103/154\n",
      "Observation: 104/154\n",
      "Observation: 105/154\n",
      "Observation: 106/154\n",
      "Observation: 107/154\n",
      "Observation: 108/154\n",
      "Observation: 109/154\n",
      "Observation: 110/154\n",
      "Observation: 111/154\n",
      "Observation: 112/154\n",
      "Observation: 113/154\n",
      "Observation: 114/154\n",
      "Observation: 115/154\n",
      "Observation: 116/154\n",
      "Observation: 117/154\n",
      "Observation: 118/154\n",
      "Observation: 119/154\n",
      "Observation: 120/154\n",
      "Observation: 121/154\n",
      "Observation: 122/154\n",
      "Observation: 123/154\n",
      "Observation: 124/154\n",
      "Observation: 125/154\n",
      "Observation: 126/154\n",
      "Observation: 127/154\n",
      "Observation: 128/154\n",
      "Observation: 129/154\n",
      "Observation: 130/154\n",
      "Observation: 131/154\n",
      "Observation: 132/154\n",
      "Observation: 133/154\n",
      "Observation: 134/154\n",
      "Observation: 135/154\n",
      "Observation: 136/154\n",
      "Observation: 137/154\n",
      "Observation: 138/154\n",
      "Observation: 139/154\n",
      "Observation: 140/154\n",
      "Observation: 141/154\n",
      "Observation: 142/154\n",
      "Observation: 143/154\n",
      "Observation: 144/154\n",
      "Observation: 145/154\n",
      "Observation: 146/154\n",
      "Observation: 147/154\n",
      "Observation: 148/154\n",
      "Observation: 149/154\n",
      "Observation: 150/154\n",
      "Observation: 151/154\n",
      "Observation: 152/154\n",
      "Observation: 153/154\n",
      "/Users/robmarty/Google Drive/World Bank/IEs/Pakistan Poverty Estimation/Data/DHS/FinalData/Individual Datasets/cnn_landsat_viirs_underiaTrue/tfrecords/nocnn_CM_3_1_all.tfrecord\n",
      "Success \\o/\n",
      "Putting 104 observations into nocnn_CM_4_1_all.tfrecord\n"
     ]
    },
    {
     "name": "stderr",
     "output_type": "stream",
     "text": [
      "/var/folders/m1/8h14xfm56hd6qfgz6btm1rd80000gn/T/ipykernel_4019/3978684452.py:20: SettingWithCopyWarning: \n",
      "A value is trying to be set on a copy of a slice from a DataFrame.\n",
      "Try using .loc[row_indexer,col_indexer] = value instead\n",
      "\n",
      "See the caveats in the documentation: https://pandas.pydata.org/pandas-docs/stable/user_guide/indexing.html#returning-a-view-versus-a-copy\n",
      "  survey_df_yeari['chunk_id'] = utils.chunk_ids(survey_df_yeari.shape[0], CHUNK_SIZE)\n"
     ]
    },
    {
     "name": "stdout",
     "output_type": "stream",
     "text": [
      "Observation: 0/104\n",
      "Observation: 1/104\n",
      "Observation: 2/104\n",
      "Observation: 3/104\n",
      "Observation: 4/104\n",
      "Observation: 5/104\n",
      "Observation: 6/104\n",
      "Observation: 7/104\n",
      "Observation: 8/104\n",
      "Observation: 9/104\n",
      "Observation: 10/104\n",
      "Observation: 11/104\n",
      "Observation: 12/104\n",
      "Observation: 13/104\n",
      "Observation: 14/104\n",
      "Observation: 15/104\n",
      "Observation: 16/104\n",
      "Observation: 17/104\n",
      "Observation: 18/104\n",
      "Observation: 19/104\n",
      "Observation: 20/104\n",
      "Observation: 21/104\n",
      "Observation: 22/104\n",
      "Observation: 23/104\n",
      "Observation: 24/104\n",
      "Observation: 25/104\n",
      "Observation: 26/104\n",
      "Observation: 27/104\n",
      "Observation: 28/104\n",
      "Observation: 29/104\n",
      "Observation: 30/104\n",
      "Observation: 31/104\n",
      "Observation: 32/104\n",
      "Observation: 33/104\n",
      "Observation: 34/104\n",
      "Observation: 35/104\n",
      "Observation: 36/104\n",
      "Observation: 37/104\n",
      "Observation: 38/104\n",
      "Observation: 39/104\n",
      "Observation: 40/104\n",
      "Observation: 41/104\n",
      "Observation: 42/104\n",
      "Observation: 43/104\n",
      "Observation: 44/104\n",
      "Observation: 45/104\n",
      "Observation: 46/104\n",
      "Observation: 47/104\n",
      "Observation: 48/104\n",
      "Observation: 49/104\n",
      "Observation: 50/104\n",
      "Observation: 51/104\n",
      "Observation: 52/104\n",
      "Observation: 53/104\n",
      "Observation: 54/104\n",
      "Observation: 55/104\n",
      "Observation: 56/104\n",
      "Observation: 57/104\n",
      "Observation: 58/104\n",
      "Observation: 59/104\n",
      "Observation: 60/104\n",
      "Observation: 61/104\n",
      "Observation: 62/104\n",
      "Observation: 63/104\n",
      "Observation: 64/104\n",
      "Observation: 65/104\n",
      "Observation: 66/104\n",
      "Observation: 67/104\n",
      "Observation: 68/104\n",
      "Observation: 69/104\n",
      "Observation: 70/104\n",
      "Observation: 71/104\n",
      "Observation: 72/104\n",
      "Observation: 73/104\n",
      "Observation: 74/104\n",
      "Observation: 75/104\n",
      "Observation: 76/104\n",
      "Observation: 77/104\n",
      "Observation: 78/104\n",
      "Observation: 79/104\n",
      "Observation: 80/104\n",
      "Observation: 81/104\n",
      "Observation: 82/104\n",
      "Observation: 83/104\n",
      "Observation: 84/104\n",
      "Observation: 85/104\n",
      "Observation: 86/104\n",
      "Observation: 87/104\n",
      "Observation: 88/104\n",
      "Observation: 89/104\n",
      "Observation: 90/104\n",
      "Observation: 91/104\n",
      "Observation: 92/104\n",
      "Observation: 93/104\n",
      "Observation: 94/104\n",
      "Observation: 95/104\n",
      "Observation: 96/104\n",
      "Observation: 97/104\n",
      "Observation: 98/104\n",
      "Observation: 99/104\n",
      "Observation: 100/104\n",
      "Observation: 101/104\n",
      "Observation: 102/104\n",
      "Observation: 103/104\n",
      "/Users/robmarty/Google Drive/World Bank/IEs/Pakistan Poverty Estimation/Data/DHS/FinalData/Individual Datasets/cnn_landsat_viirs_underiaTrue/tfrecords/nocnn_CM_4_1_all.tfrecord\n",
      "Success \\o/\n"
     ]
    },
    {
     "name": "stderr",
     "output_type": "stream",
     "text": [
      "/var/folders/m1/8h14xfm56hd6qfgz6btm1rd80000gn/T/ipykernel_4019/3978684452.py:20: SettingWithCopyWarning: \n",
      "A value is trying to be set on a copy of a slice from a DataFrame.\n",
      "Try using .loc[row_indexer,col_indexer] = value instead\n",
      "\n",
      "See the caveats in the documentation: https://pandas.pydata.org/pandas-docs/stable/user_guide/indexing.html#returning-a-view-versus-a-copy\n",
      "  survey_df_yeari['chunk_id'] = utils.chunk_ids(survey_df_yeari.shape[0], CHUNK_SIZE)\n"
     ]
    },
    {
     "name": "stdout",
     "output_type": "stream",
     "text": [
      "Putting 179 observations into nocnn_CM_5_1_all.tfrecord\n",
      "Observation: 0/179\n",
      "Observation: 1/179\n",
      "Observation: 2/179\n",
      "Observation: 3/179\n",
      "Observation: 4/179\n",
      "Observation: 5/179\n",
      "Observation: 6/179\n",
      "Observation: 7/179\n",
      "Observation: 8/179\n",
      "Observation: 9/179\n",
      "Observation: 10/179\n",
      "Observation: 11/179\n",
      "Observation: 12/179\n",
      "Observation: 13/179\n",
      "Observation: 14/179\n",
      "Observation: 15/179\n",
      "Observation: 16/179\n",
      "Observation: 17/179\n",
      "Observation: 18/179\n",
      "Observation: 19/179\n",
      "Observation: 20/179\n",
      "Observation: 21/179\n",
      "Observation: 22/179\n",
      "Observation: 23/179\n",
      "Observation: 24/179\n",
      "Observation: 25/179\n",
      "Observation: 26/179\n",
      "Observation: 27/179\n",
      "Observation: 28/179\n",
      "Observation: 29/179\n",
      "Observation: 30/179\n",
      "Observation: 31/179\n",
      "Observation: 32/179\n",
      "Observation: 33/179\n",
      "Observation: 34/179\n",
      "Observation: 35/179\n",
      "Observation: 36/179\n",
      "Observation: 37/179\n",
      "Observation: 38/179\n",
      "Observation: 39/179\n",
      "Observation: 40/179\n",
      "Observation: 41/179\n",
      "Observation: 42/179\n",
      "Observation: 43/179\n",
      "Observation: 44/179\n",
      "Observation: 45/179\n",
      "Observation: 46/179\n",
      "Observation: 47/179\n",
      "Observation: 48/179\n",
      "Observation: 49/179\n",
      "Observation: 50/179\n",
      "Observation: 51/179\n",
      "Observation: 52/179\n",
      "Observation: 53/179\n",
      "Observation: 54/179\n",
      "Observation: 55/179\n",
      "Observation: 56/179\n",
      "Observation: 57/179\n",
      "Observation: 58/179\n",
      "Observation: 59/179\n",
      "Observation: 60/179\n",
      "Observation: 61/179\n",
      "Observation: 62/179\n",
      "Observation: 63/179\n",
      "Observation: 64/179\n",
      "Observation: 65/179\n",
      "Observation: 66/179\n",
      "Observation: 67/179\n",
      "Observation: 68/179\n",
      "Observation: 69/179\n",
      "Observation: 70/179\n",
      "Observation: 71/179\n",
      "Observation: 72/179\n",
      "Observation: 73/179\n",
      "Observation: 74/179\n",
      "Observation: 75/179\n",
      "Observation: 76/179\n",
      "Observation: 77/179\n",
      "Observation: 78/179\n",
      "Observation: 79/179\n",
      "Observation: 80/179\n",
      "Observation: 81/179\n",
      "Observation: 82/179\n",
      "Observation: 83/179\n",
      "Observation: 84/179\n",
      "Observation: 85/179\n",
      "Observation: 86/179\n",
      "Observation: 87/179\n",
      "Observation: 88/179\n",
      "Observation: 89/179\n",
      "Observation: 90/179\n",
      "Observation: 91/179\n",
      "Observation: 92/179\n",
      "Observation: 93/179\n",
      "Observation: 94/179\n",
      "Observation: 95/179\n",
      "Observation: 96/179\n",
      "Observation: 97/179\n",
      "Observation: 98/179\n",
      "Observation: 99/179\n",
      "Observation: 100/179\n",
      "Observation: 101/179\n",
      "Observation: 102/179\n",
      "Observation: 103/179\n",
      "Observation: 104/179\n",
      "Observation: 105/179\n",
      "Observation: 106/179\n",
      "Observation: 107/179\n",
      "Observation: 108/179\n",
      "Observation: 109/179\n",
      "Observation: 110/179\n",
      "Observation: 111/179\n",
      "Observation: 112/179\n",
      "Observation: 113/179\n",
      "Observation: 114/179\n",
      "Observation: 115/179\n",
      "Observation: 116/179\n",
      "Observation: 117/179\n",
      "Observation: 118/179\n",
      "Observation: 119/179\n",
      "Observation: 120/179\n",
      "Observation: 121/179\n",
      "Observation: 122/179\n",
      "Observation: 123/179\n",
      "Observation: 124/179\n",
      "Observation: 125/179\n",
      "Observation: 126/179\n",
      "Observation: 127/179\n",
      "Observation: 128/179\n",
      "Observation: 129/179\n",
      "Observation: 130/179\n",
      "Observation: 131/179\n",
      "Observation: 132/179\n",
      "Observation: 133/179\n",
      "Observation: 134/179\n",
      "Observation: 135/179\n",
      "Observation: 136/179\n",
      "Observation: 137/179\n",
      "Observation: 138/179\n",
      "Observation: 139/179\n",
      "Observation: 140/179\n",
      "Observation: 141/179\n",
      "Observation: 142/179\n",
      "Observation: 143/179\n",
      "Observation: 144/179\n",
      "Observation: 145/179\n",
      "Observation: 146/179\n",
      "Observation: 147/179\n",
      "Observation: 148/179\n",
      "Observation: 149/179\n",
      "Observation: 150/179\n",
      "Observation: 151/179\n",
      "Observation: 152/179\n",
      "Observation: 153/179\n",
      "Observation: 154/179\n",
      "Observation: 155/179\n",
      "Observation: 156/179\n",
      "Observation: 157/179\n",
      "Observation: 158/179\n",
      "Observation: 159/179\n",
      "Observation: 160/179\n",
      "Observation: 161/179\n",
      "Observation: 162/179\n",
      "Observation: 163/179\n",
      "Observation: 164/179\n",
      "Observation: 165/179\n",
      "Observation: 166/179\n",
      "Observation: 167/179\n",
      "Observation: 168/179\n",
      "Observation: 169/179\n",
      "Observation: 170/179\n",
      "Observation: 171/179\n",
      "Observation: 172/179\n",
      "Observation: 173/179\n",
      "Observation: 174/179\n",
      "Observation: 175/179\n",
      "Observation: 176/179\n",
      "Observation: 177/179\n",
      "Observation: 178/179\n",
      "/Users/robmarty/Google Drive/World Bank/IEs/Pakistan Poverty Estimation/Data/DHS/FinalData/Individual Datasets/cnn_landsat_viirs_underiaTrue/tfrecords/nocnn_CM_5_1_all.tfrecord\n",
      "Success \\o/\n",
      "Putting 250 observations into nocnn_CO_1_1_all.tfrecord\n"
     ]
    },
    {
     "name": "stderr",
     "output_type": "stream",
     "text": [
      "/var/folders/m1/8h14xfm56hd6qfgz6btm1rd80000gn/T/ipykernel_4019/3978684452.py:20: SettingWithCopyWarning: \n",
      "A value is trying to be set on a copy of a slice from a DataFrame.\n",
      "Try using .loc[row_indexer,col_indexer] = value instead\n",
      "\n",
      "See the caveats in the documentation: https://pandas.pydata.org/pandas-docs/stable/user_guide/indexing.html#returning-a-view-versus-a-copy\n",
      "  survey_df_yeari['chunk_id'] = utils.chunk_ids(survey_df_yeari.shape[0], CHUNK_SIZE)\n"
     ]
    },
    {
     "name": "stdout",
     "output_type": "stream",
     "text": [
      "Observation: 0/250\n",
      "Error ---\n",
      "13420    CO201000000562\n",
      "Name: uid, dtype: object\n"
     ]
    },
    {
     "name": "stderr",
     "output_type": "stream",
     "text": [
      "/var/folders/m1/8h14xfm56hd6qfgz6btm1rd80000gn/T/ipykernel_4019/3978684452.py:42: FutureWarning: The frame.append method is deprecated and will be removed from pandas in a future version. Use pandas.concat instead.\n",
      "  errors_df = errors_df.append(survey_df_yeari_chunki[['uid']], ignore_index = True)\n"
     ]
    },
    {
     "name": "stdout",
     "output_type": "stream",
     "text": [
      "Observation: 0/250\n",
      "Observation: 1/250\n",
      "Observation: 2/250\n",
      "Observation: 3/250\n",
      "Observation: 4/250\n",
      "Error ---\n",
      "14227    CO201000000545\n",
      "Name: uid, dtype: object\n"
     ]
    },
    {
     "name": "stderr",
     "output_type": "stream",
     "text": [
      "/var/folders/m1/8h14xfm56hd6qfgz6btm1rd80000gn/T/ipykernel_4019/3978684452.py:42: FutureWarning: The frame.append method is deprecated and will be removed from pandas in a future version. Use pandas.concat instead.\n",
      "  errors_df = errors_df.append(survey_df_yeari_chunki[['uid']], ignore_index = True)\n"
     ]
    },
    {
     "name": "stdout",
     "output_type": "stream",
     "text": [
      "Observation: 4/250\n",
      "Observation: 5/250\n",
      "Observation: 6/250\n",
      "Error ---\n",
      "14944    CO201000000579\n",
      "Name: uid, dtype: object\n"
     ]
    },
    {
     "name": "stderr",
     "output_type": "stream",
     "text": [
      "/var/folders/m1/8h14xfm56hd6qfgz6btm1rd80000gn/T/ipykernel_4019/3978684452.py:42: FutureWarning: The frame.append method is deprecated and will be removed from pandas in a future version. Use pandas.concat instead.\n",
      "  errors_df = errors_df.append(survey_df_yeari_chunki[['uid']], ignore_index = True)\n"
     ]
    },
    {
     "name": "stdout",
     "output_type": "stream",
     "text": [
      "Observation: 6/250\n",
      "Observation: 7/250\n",
      "Observation: 8/250\n",
      "Observation: 9/250\n",
      "Observation: 10/250\n",
      "Observation: 11/250\n",
      "Observation: 12/250\n",
      "Observation: 13/250\n",
      "Error ---\n",
      "16030    CO201000000606\n",
      "Name: uid, dtype: object\n"
     ]
    },
    {
     "name": "stderr",
     "output_type": "stream",
     "text": [
      "/var/folders/m1/8h14xfm56hd6qfgz6btm1rd80000gn/T/ipykernel_4019/3978684452.py:42: FutureWarning: The frame.append method is deprecated and will be removed from pandas in a future version. Use pandas.concat instead.\n",
      "  errors_df = errors_df.append(survey_df_yeari_chunki[['uid']], ignore_index = True)\n"
     ]
    },
    {
     "name": "stdout",
     "output_type": "stream",
     "text": [
      "Observation: 13/250\n",
      "Observation: 14/250\n",
      "Observation: 15/250\n",
      "Observation: 16/250\n",
      "Observation: 17/250\n",
      "Observation: 18/250\n",
      "Observation: 19/250\n",
      "Observation: 20/250\n",
      "Observation: 21/250\n",
      "Observation: 22/250\n",
      "Observation: 23/250\n",
      "Observation: 24/250\n",
      "Observation: 25/250\n",
      "Observation: 26/250\n",
      "Error ---\n",
      "20785    CO201000000558\n",
      "Name: uid, dtype: object\n"
     ]
    },
    {
     "name": "stderr",
     "output_type": "stream",
     "text": [
      "/var/folders/m1/8h14xfm56hd6qfgz6btm1rd80000gn/T/ipykernel_4019/3978684452.py:42: FutureWarning: The frame.append method is deprecated and will be removed from pandas in a future version. Use pandas.concat instead.\n",
      "  errors_df = errors_df.append(survey_df_yeari_chunki[['uid']], ignore_index = True)\n"
     ]
    },
    {
     "name": "stdout",
     "output_type": "stream",
     "text": [
      "Observation: 26/250\n",
      "Observation: 27/250\n",
      "Error ---\n",
      "21271    CO201000000571\n",
      "Name: uid, dtype: object\n"
     ]
    },
    {
     "name": "stderr",
     "output_type": "stream",
     "text": [
      "/var/folders/m1/8h14xfm56hd6qfgz6btm1rd80000gn/T/ipykernel_4019/3978684452.py:42: FutureWarning: The frame.append method is deprecated and will be removed from pandas in a future version. Use pandas.concat instead.\n",
      "  errors_df = errors_df.append(survey_df_yeari_chunki[['uid']], ignore_index = True)\n"
     ]
    },
    {
     "name": "stdout",
     "output_type": "stream",
     "text": [
      "Observation: 27/250\n",
      "Observation: 28/250\n",
      "Observation: 29/250\n",
      "Error ---\n",
      "22139    CO201000001429\n",
      "Name: uid, dtype: object\n"
     ]
    },
    {
     "name": "stderr",
     "output_type": "stream",
     "text": [
      "/var/folders/m1/8h14xfm56hd6qfgz6btm1rd80000gn/T/ipykernel_4019/3978684452.py:42: FutureWarning: The frame.append method is deprecated and will be removed from pandas in a future version. Use pandas.concat instead.\n",
      "  errors_df = errors_df.append(survey_df_yeari_chunki[['uid']], ignore_index = True)\n"
     ]
    },
    {
     "name": "stdout",
     "output_type": "stream",
     "text": [
      "Observation: 29/250\n",
      "Observation: 30/250\n",
      "Observation: 31/250\n",
      "Observation: 32/250\n",
      "Observation: 33/250\n",
      "Observation: 34/250\n",
      "Observation: 35/250\n",
      "Observation: 36/250\n",
      "Observation: 37/250\n",
      "Observation: 38/250\n",
      "Error ---\n",
      "23643    CO201000000599\n",
      "Name: uid, dtype: object\n"
     ]
    },
    {
     "name": "stderr",
     "output_type": "stream",
     "text": [
      "/var/folders/m1/8h14xfm56hd6qfgz6btm1rd80000gn/T/ipykernel_4019/3978684452.py:42: FutureWarning: The frame.append method is deprecated and will be removed from pandas in a future version. Use pandas.concat instead.\n",
      "  errors_df = errors_df.append(survey_df_yeari_chunki[['uid']], ignore_index = True)\n"
     ]
    },
    {
     "name": "stdout",
     "output_type": "stream",
     "text": [
      "Observation: 38/250\n",
      "Error ---\n",
      "23791    CO201000000543\n",
      "Name: uid, dtype: object\n"
     ]
    },
    {
     "name": "stderr",
     "output_type": "stream",
     "text": [
      "/var/folders/m1/8h14xfm56hd6qfgz6btm1rd80000gn/T/ipykernel_4019/3978684452.py:42: FutureWarning: The frame.append method is deprecated and will be removed from pandas in a future version. Use pandas.concat instead.\n",
      "  errors_df = errors_df.append(survey_df_yeari_chunki[['uid']], ignore_index = True)\n"
     ]
    },
    {
     "name": "stdout",
     "output_type": "stream",
     "text": [
      "Observation: 38/250\n",
      "Observation: 39/250\n",
      "Error ---\n",
      "24268    CO201000000554\n",
      "Name: uid, dtype: object\n"
     ]
    },
    {
     "name": "stderr",
     "output_type": "stream",
     "text": [
      "/var/folders/m1/8h14xfm56hd6qfgz6btm1rd80000gn/T/ipykernel_4019/3978684452.py:42: FutureWarning: The frame.append method is deprecated and will be removed from pandas in a future version. Use pandas.concat instead.\n",
      "  errors_df = errors_df.append(survey_df_yeari_chunki[['uid']], ignore_index = True)\n"
     ]
    },
    {
     "name": "stdout",
     "output_type": "stream",
     "text": [
      "Observation: 39/250\n",
      "Observation: 40/250\n",
      "Observation: 41/250\n",
      "Observation: 42/250\n",
      "Observation: 43/250\n",
      "Observation: 44/250\n",
      "Observation: 45/250\n",
      "Observation: 46/250\n",
      "Error ---\n",
      "25179    CO201000000576\n",
      "Name: uid, dtype: object\n"
     ]
    },
    {
     "name": "stderr",
     "output_type": "stream",
     "text": [
      "/var/folders/m1/8h14xfm56hd6qfgz6btm1rd80000gn/T/ipykernel_4019/3978684452.py:42: FutureWarning: The frame.append method is deprecated and will be removed from pandas in a future version. Use pandas.concat instead.\n",
      "  errors_df = errors_df.append(survey_df_yeari_chunki[['uid']], ignore_index = True)\n"
     ]
    },
    {
     "name": "stdout",
     "output_type": "stream",
     "text": [
      "Observation: 46/250\n",
      "Observation: 47/250\n",
      "Observation: 48/250\n",
      "Observation: 49/250\n",
      "Observation: 50/250\n",
      "Observation: 51/250\n",
      "Error ---\n",
      "26519    CO201000000564\n",
      "Name: uid, dtype: object\n"
     ]
    },
    {
     "name": "stderr",
     "output_type": "stream",
     "text": [
      "/var/folders/m1/8h14xfm56hd6qfgz6btm1rd80000gn/T/ipykernel_4019/3978684452.py:42: FutureWarning: The frame.append method is deprecated and will be removed from pandas in a future version. Use pandas.concat instead.\n",
      "  errors_df = errors_df.append(survey_df_yeari_chunki[['uid']], ignore_index = True)\n"
     ]
    },
    {
     "name": "stdout",
     "output_type": "stream",
     "text": [
      "Observation: 51/250\n",
      "Observation: 52/250\n",
      "Observation: 53/250\n",
      "Observation: 54/250\n",
      "Observation: 55/250\n",
      "Error ---\n",
      "28275    CO201000000611\n",
      "Name: uid, dtype: object\n"
     ]
    },
    {
     "name": "stderr",
     "output_type": "stream",
     "text": [
      "/var/folders/m1/8h14xfm56hd6qfgz6btm1rd80000gn/T/ipykernel_4019/3978684452.py:42: FutureWarning: The frame.append method is deprecated and will be removed from pandas in a future version. Use pandas.concat instead.\n",
      "  errors_df = errors_df.append(survey_df_yeari_chunki[['uid']], ignore_index = True)\n"
     ]
    },
    {
     "name": "stdout",
     "output_type": "stream",
     "text": [
      "Observation: 55/250\n",
      "Observation: 56/250\n",
      "Observation: 57/250\n",
      "Observation: 58/250\n",
      "Observation: 59/250\n",
      "Observation: 60/250\n",
      "Observation: 61/250\n",
      "Observation: 62/250\n",
      "Observation: 63/250\n",
      "Observation: 64/250\n",
      "Observation: 65/250\n",
      "Observation: 66/250\n",
      "Observation: 67/250\n",
      "Observation: 68/250\n",
      "Observation: 69/250\n",
      "Error ---\n",
      "30931    CO201000000585\n",
      "Name: uid, dtype: object\n"
     ]
    },
    {
     "name": "stderr",
     "output_type": "stream",
     "text": [
      "/var/folders/m1/8h14xfm56hd6qfgz6btm1rd80000gn/T/ipykernel_4019/3978684452.py:42: FutureWarning: The frame.append method is deprecated and will be removed from pandas in a future version. Use pandas.concat instead.\n",
      "  errors_df = errors_df.append(survey_df_yeari_chunki[['uid']], ignore_index = True)\n"
     ]
    },
    {
     "name": "stdout",
     "output_type": "stream",
     "text": [
      "Observation: 69/250\n",
      "Observation: 70/250\n",
      "Observation: 71/250\n",
      "Observation: 72/250\n",
      "Observation: 73/250\n",
      "Error ---\n",
      "31961    CO201000000539\n",
      "Name: uid, dtype: object\n"
     ]
    },
    {
     "name": "stderr",
     "output_type": "stream",
     "text": [
      "/var/folders/m1/8h14xfm56hd6qfgz6btm1rd80000gn/T/ipykernel_4019/3978684452.py:42: FutureWarning: The frame.append method is deprecated and will be removed from pandas in a future version. Use pandas.concat instead.\n",
      "  errors_df = errors_df.append(survey_df_yeari_chunki[['uid']], ignore_index = True)\n"
     ]
    },
    {
     "name": "stdout",
     "output_type": "stream",
     "text": [
      "Observation: 73/250\n",
      "Observation: 74/250\n",
      "Observation: 75/250\n",
      "Error ---\n",
      "33044    CO201000000629\n",
      "Name: uid, dtype: object\n"
     ]
    },
    {
     "name": "stderr",
     "output_type": "stream",
     "text": [
      "/var/folders/m1/8h14xfm56hd6qfgz6btm1rd80000gn/T/ipykernel_4019/3978684452.py:42: FutureWarning: The frame.append method is deprecated and will be removed from pandas in a future version. Use pandas.concat instead.\n",
      "  errors_df = errors_df.append(survey_df_yeari_chunki[['uid']], ignore_index = True)\n"
     ]
    },
    {
     "name": "stdout",
     "output_type": "stream",
     "text": [
      "Observation: 75/250\n",
      "Observation: 76/250\n",
      "Observation: 77/250\n",
      "Observation: 78/250\n",
      "Observation: 79/250\n",
      "Observation: 80/250\n",
      "Observation: 81/250\n",
      "Observation: 82/250\n",
      "Observation: 83/250\n",
      "Observation: 84/250\n",
      "Observation: 85/250\n",
      "Observation: 86/250\n",
      "Observation: 87/250\n",
      "Observation: 88/250\n",
      "Observation: 89/250\n",
      "Observation: 90/250\n",
      "Observation: 91/250\n",
      "Error ---\n",
      "36568    CO201000000574\n",
      "Name: uid, dtype: object\n"
     ]
    },
    {
     "name": "stderr",
     "output_type": "stream",
     "text": [
      "/var/folders/m1/8h14xfm56hd6qfgz6btm1rd80000gn/T/ipykernel_4019/3978684452.py:42: FutureWarning: The frame.append method is deprecated and will be removed from pandas in a future version. Use pandas.concat instead.\n",
      "  errors_df = errors_df.append(survey_df_yeari_chunki[['uid']], ignore_index = True)\n"
     ]
    },
    {
     "name": "stdout",
     "output_type": "stream",
     "text": [
      "Observation: 91/250\n",
      "Observation: 92/250\n",
      "Error ---\n",
      "36684    CO201000000634\n",
      "Name: uid, dtype: object\n"
     ]
    },
    {
     "name": "stderr",
     "output_type": "stream",
     "text": [
      "/var/folders/m1/8h14xfm56hd6qfgz6btm1rd80000gn/T/ipykernel_4019/3978684452.py:42: FutureWarning: The frame.append method is deprecated and will be removed from pandas in a future version. Use pandas.concat instead.\n",
      "  errors_df = errors_df.append(survey_df_yeari_chunki[['uid']], ignore_index = True)\n"
     ]
    },
    {
     "name": "stdout",
     "output_type": "stream",
     "text": [
      "Observation: 92/250\n",
      "Observation: 93/250\n",
      "Observation: 94/250\n",
      "Observation: 95/250\n",
      "Observation: 96/250\n",
      "Observation: 97/250\n",
      "Observation: 98/250\n",
      "Observation: 99/250\n",
      "Error ---\n",
      "39289    CO201000000536\n",
      "Name: uid, dtype: object\n"
     ]
    },
    {
     "name": "stderr",
     "output_type": "stream",
     "text": [
      "/var/folders/m1/8h14xfm56hd6qfgz6btm1rd80000gn/T/ipykernel_4019/3978684452.py:42: FutureWarning: The frame.append method is deprecated and will be removed from pandas in a future version. Use pandas.concat instead.\n",
      "  errors_df = errors_df.append(survey_df_yeari_chunki[['uid']], ignore_index = True)\n"
     ]
    },
    {
     "name": "stdout",
     "output_type": "stream",
     "text": [
      "Observation: 99/250\n",
      "Error ---\n",
      "40304    CO201000000552\n",
      "Name: uid, dtype: object\n"
     ]
    },
    {
     "name": "stderr",
     "output_type": "stream",
     "text": [
      "/var/folders/m1/8h14xfm56hd6qfgz6btm1rd80000gn/T/ipykernel_4019/3978684452.py:42: FutureWarning: The frame.append method is deprecated and will be removed from pandas in a future version. Use pandas.concat instead.\n",
      "  errors_df = errors_df.append(survey_df_yeari_chunki[['uid']], ignore_index = True)\n"
     ]
    },
    {
     "name": "stdout",
     "output_type": "stream",
     "text": [
      "Observation: 99/250\n",
      "Observation: 100/250\n",
      "Observation: 101/250\n",
      "Observation: 102/250\n",
      "Error ---\n",
      "40654    CO201000000614\n",
      "Name: uid, dtype: object\n"
     ]
    },
    {
     "name": "stderr",
     "output_type": "stream",
     "text": [
      "/var/folders/m1/8h14xfm56hd6qfgz6btm1rd80000gn/T/ipykernel_4019/3978684452.py:42: FutureWarning: The frame.append method is deprecated and will be removed from pandas in a future version. Use pandas.concat instead.\n",
      "  errors_df = errors_df.append(survey_df_yeari_chunki[['uid']], ignore_index = True)\n"
     ]
    },
    {
     "name": "stdout",
     "output_type": "stream",
     "text": [
      "Observation: 102/250\n",
      "Observation: 103/250\n",
      "Observation: 104/250\n",
      "Observation: 105/250\n",
      "Error ---\n",
      "41576    CO201000000542\n",
      "Name: uid, dtype: object\n"
     ]
    },
    {
     "name": "stderr",
     "output_type": "stream",
     "text": [
      "/var/folders/m1/8h14xfm56hd6qfgz6btm1rd80000gn/T/ipykernel_4019/3978684452.py:42: FutureWarning: The frame.append method is deprecated and will be removed from pandas in a future version. Use pandas.concat instead.\n",
      "  errors_df = errors_df.append(survey_df_yeari_chunki[['uid']], ignore_index = True)\n"
     ]
    },
    {
     "name": "stdout",
     "output_type": "stream",
     "text": [
      "Observation: 105/250\n",
      "Error ---\n",
      "41712    CO201000000595\n",
      "Name: uid, dtype: object\n"
     ]
    },
    {
     "name": "stderr",
     "output_type": "stream",
     "text": [
      "/var/folders/m1/8h14xfm56hd6qfgz6btm1rd80000gn/T/ipykernel_4019/3978684452.py:42: FutureWarning: The frame.append method is deprecated and will be removed from pandas in a future version. Use pandas.concat instead.\n",
      "  errors_df = errors_df.append(survey_df_yeari_chunki[['uid']], ignore_index = True)\n"
     ]
    },
    {
     "name": "stdout",
     "output_type": "stream",
     "text": [
      "Observation: 105/250\n",
      "Observation: 106/250\n",
      "Observation: 107/250\n",
      "Observation: 108/250\n",
      "Observation: 109/250\n",
      "Observation: 110/250\n",
      "Observation: 111/250\n",
      "Observation: 112/250\n",
      "Observation: 113/250\n",
      "Observation: 114/250\n",
      "Observation: 115/250\n",
      "Observation: 116/250\n",
      "Error ---\n",
      "47344    CO201000000621\n",
      "Name: uid, dtype: object\n"
     ]
    },
    {
     "name": "stderr",
     "output_type": "stream",
     "text": [
      "/var/folders/m1/8h14xfm56hd6qfgz6btm1rd80000gn/T/ipykernel_4019/3978684452.py:42: FutureWarning: The frame.append method is deprecated and will be removed from pandas in a future version. Use pandas.concat instead.\n",
      "  errors_df = errors_df.append(survey_df_yeari_chunki[['uid']], ignore_index = True)\n"
     ]
    },
    {
     "name": "stdout",
     "output_type": "stream",
     "text": [
      "Observation: 116/250\n",
      "Observation: 117/250\n",
      "Observation: 118/250\n",
      "Observation: 119/250\n",
      "Observation: 120/250\n",
      "Observation: 121/250\n",
      "Observation: 122/250\n",
      "Observation: 123/250\n",
      "Observation: 124/250\n",
      "Observation: 125/250\n",
      "Observation: 126/250\n",
      "Observation: 127/250\n",
      "Error ---\n",
      "51025    CO201000000601\n",
      "Name: uid, dtype: object\n"
     ]
    },
    {
     "name": "stderr",
     "output_type": "stream",
     "text": [
      "/var/folders/m1/8h14xfm56hd6qfgz6btm1rd80000gn/T/ipykernel_4019/3978684452.py:42: FutureWarning: The frame.append method is deprecated and will be removed from pandas in a future version. Use pandas.concat instead.\n",
      "  errors_df = errors_df.append(survey_df_yeari_chunki[['uid']], ignore_index = True)\n"
     ]
    },
    {
     "name": "stdout",
     "output_type": "stream",
     "text": [
      "Observation: 127/250\n",
      "Observation: 128/250\n",
      "Error ---\n",
      "53165    CO201000000572\n",
      "Name: uid, dtype: object\n"
     ]
    },
    {
     "name": "stderr",
     "output_type": "stream",
     "text": [
      "/var/folders/m1/8h14xfm56hd6qfgz6btm1rd80000gn/T/ipykernel_4019/3978684452.py:42: FutureWarning: The frame.append method is deprecated and will be removed from pandas in a future version. Use pandas.concat instead.\n",
      "  errors_df = errors_df.append(survey_df_yeari_chunki[['uid']], ignore_index = True)\n"
     ]
    },
    {
     "name": "stdout",
     "output_type": "stream",
     "text": [
      "Observation: 128/250\n",
      "Observation: 129/250\n",
      "Observation: 130/250\n",
      "Observation: 131/250\n",
      "Observation: 132/250\n",
      "Observation: 133/250\n",
      "Observation: 134/250\n",
      "Observation: 135/250\n",
      "Observation: 136/250\n",
      "Observation: 137/250\n",
      "Observation: 138/250\n",
      "Observation: 139/250\n",
      "Observation: 140/250\n",
      "Observation: 141/250\n",
      "Observation: 142/250\n",
      "Error ---\n",
      "57064    CO201000000616\n",
      "Name: uid, dtype: object\n"
     ]
    },
    {
     "name": "stderr",
     "output_type": "stream",
     "text": [
      "/var/folders/m1/8h14xfm56hd6qfgz6btm1rd80000gn/T/ipykernel_4019/3978684452.py:42: FutureWarning: The frame.append method is deprecated and will be removed from pandas in a future version. Use pandas.concat instead.\n",
      "  errors_df = errors_df.append(survey_df_yeari_chunki[['uid']], ignore_index = True)\n"
     ]
    },
    {
     "name": "stdout",
     "output_type": "stream",
     "text": [
      "Observation: 142/250\n",
      "Observation: 143/250\n",
      "Observation: 144/250\n",
      "Observation: 145/250\n",
      "Observation: 146/250\n",
      "Observation: 147/250\n",
      "Observation: 148/250\n",
      "Error ---\n",
      "57942    CO201000000547\n",
      "Name: uid, dtype: object\n"
     ]
    },
    {
     "name": "stderr",
     "output_type": "stream",
     "text": [
      "/var/folders/m1/8h14xfm56hd6qfgz6btm1rd80000gn/T/ipykernel_4019/3978684452.py:42: FutureWarning: The frame.append method is deprecated and will be removed from pandas in a future version. Use pandas.concat instead.\n",
      "  errors_df = errors_df.append(survey_df_yeari_chunki[['uid']], ignore_index = True)\n"
     ]
    },
    {
     "name": "stdout",
     "output_type": "stream",
     "text": [
      "Observation: 148/250\n",
      "Observation: 149/250\n",
      "Observation: 150/250\n",
      "Observation: 151/250\n",
      "Observation: 152/250\n",
      "Observation: 153/250\n",
      "Error ---\n",
      "60006    CO201000000617\n",
      "Name: uid, dtype: object\n"
     ]
    },
    {
     "name": "stderr",
     "output_type": "stream",
     "text": [
      "/var/folders/m1/8h14xfm56hd6qfgz6btm1rd80000gn/T/ipykernel_4019/3978684452.py:42: FutureWarning: The frame.append method is deprecated and will be removed from pandas in a future version. Use pandas.concat instead.\n",
      "  errors_df = errors_df.append(survey_df_yeari_chunki[['uid']], ignore_index = True)\n"
     ]
    },
    {
     "name": "stdout",
     "output_type": "stream",
     "text": [
      "Observation: 153/250\n",
      "Observation: 154/250\n",
      "Error ---\n",
      "60839    CO201000000538\n",
      "Name: uid, dtype: object\n"
     ]
    },
    {
     "name": "stderr",
     "output_type": "stream",
     "text": [
      "/var/folders/m1/8h14xfm56hd6qfgz6btm1rd80000gn/T/ipykernel_4019/3978684452.py:42: FutureWarning: The frame.append method is deprecated and will be removed from pandas in a future version. Use pandas.concat instead.\n",
      "  errors_df = errors_df.append(survey_df_yeari_chunki[['uid']], ignore_index = True)\n"
     ]
    },
    {
     "name": "stdout",
     "output_type": "stream",
     "text": [
      "Observation: 154/250\n",
      "Observation: 155/250\n",
      "Error ---\n",
      "62944    CO201000000567\n",
      "Name: uid, dtype: object\n"
     ]
    },
    {
     "name": "stderr",
     "output_type": "stream",
     "text": [
      "/var/folders/m1/8h14xfm56hd6qfgz6btm1rd80000gn/T/ipykernel_4019/3978684452.py:42: FutureWarning: The frame.append method is deprecated and will be removed from pandas in a future version. Use pandas.concat instead.\n",
      "  errors_df = errors_df.append(survey_df_yeari_chunki[['uid']], ignore_index = True)\n"
     ]
    },
    {
     "name": "stdout",
     "output_type": "stream",
     "text": [
      "Observation: 155/250\n",
      "Error ---\n",
      "63157    CO201000000529\n",
      "Name: uid, dtype: object\n"
     ]
    },
    {
     "name": "stderr",
     "output_type": "stream",
     "text": [
      "/var/folders/m1/8h14xfm56hd6qfgz6btm1rd80000gn/T/ipykernel_4019/3978684452.py:42: FutureWarning: The frame.append method is deprecated and will be removed from pandas in a future version. Use pandas.concat instead.\n",
      "  errors_df = errors_df.append(survey_df_yeari_chunki[['uid']], ignore_index = True)\n"
     ]
    },
    {
     "name": "stdout",
     "output_type": "stream",
     "text": [
      "Observation: 155/250\n",
      "Observation: 156/250\n",
      "Error ---\n",
      "63923    CO201000000586\n",
      "Name: uid, dtype: object\n"
     ]
    },
    {
     "name": "stderr",
     "output_type": "stream",
     "text": [
      "/var/folders/m1/8h14xfm56hd6qfgz6btm1rd80000gn/T/ipykernel_4019/3978684452.py:42: FutureWarning: The frame.append method is deprecated and will be removed from pandas in a future version. Use pandas.concat instead.\n",
      "  errors_df = errors_df.append(survey_df_yeari_chunki[['uid']], ignore_index = True)\n"
     ]
    },
    {
     "name": "stdout",
     "output_type": "stream",
     "text": [
      "Observation: 156/250\n",
      "Observation: 157/250\n",
      "Observation: 158/250\n",
      "Observation: 159/250\n",
      "Error ---\n",
      "64585    CO201000000626\n",
      "Name: uid, dtype: object\n"
     ]
    },
    {
     "name": "stderr",
     "output_type": "stream",
     "text": [
      "/var/folders/m1/8h14xfm56hd6qfgz6btm1rd80000gn/T/ipykernel_4019/3978684452.py:42: FutureWarning: The frame.append method is deprecated and will be removed from pandas in a future version. Use pandas.concat instead.\n",
      "  errors_df = errors_df.append(survey_df_yeari_chunki[['uid']], ignore_index = True)\n"
     ]
    },
    {
     "name": "stdout",
     "output_type": "stream",
     "text": [
      "Observation: 159/250\n",
      "Observation: 160/250\n",
      "Observation: 161/250\n",
      "Observation: 162/250\n",
      "Observation: 163/250\n",
      "Observation: 164/250\n",
      "Error ---\n",
      "66577    CO201000000590\n",
      "Name: uid, dtype: object\n"
     ]
    },
    {
     "name": "stderr",
     "output_type": "stream",
     "text": [
      "/var/folders/m1/8h14xfm56hd6qfgz6btm1rd80000gn/T/ipykernel_4019/3978684452.py:42: FutureWarning: The frame.append method is deprecated and will be removed from pandas in a future version. Use pandas.concat instead.\n",
      "  errors_df = errors_df.append(survey_df_yeari_chunki[['uid']], ignore_index = True)\n"
     ]
    },
    {
     "name": "stdout",
     "output_type": "stream",
     "text": [
      "Observation: 164/250\n",
      "Error ---\n",
      "66578    CO201000000525\n",
      "Name: uid, dtype: object\n"
     ]
    },
    {
     "name": "stderr",
     "output_type": "stream",
     "text": [
      "/var/folders/m1/8h14xfm56hd6qfgz6btm1rd80000gn/T/ipykernel_4019/3978684452.py:42: FutureWarning: The frame.append method is deprecated and will be removed from pandas in a future version. Use pandas.concat instead.\n",
      "  errors_df = errors_df.append(survey_df_yeari_chunki[['uid']], ignore_index = True)\n"
     ]
    },
    {
     "name": "stdout",
     "output_type": "stream",
     "text": [
      "Observation: 164/250\n",
      "Observation: 165/250\n",
      "Observation: 166/250\n",
      "Observation: 167/250\n",
      "Observation: 168/250\n",
      "Observation: 169/250\n",
      "Error ---\n",
      "67899    CO201000000563\n",
      "Name: uid, dtype: object\n"
     ]
    },
    {
     "name": "stderr",
     "output_type": "stream",
     "text": [
      "/var/folders/m1/8h14xfm56hd6qfgz6btm1rd80000gn/T/ipykernel_4019/3978684452.py:42: FutureWarning: The frame.append method is deprecated and will be removed from pandas in a future version. Use pandas.concat instead.\n",
      "  errors_df = errors_df.append(survey_df_yeari_chunki[['uid']], ignore_index = True)\n"
     ]
    },
    {
     "name": "stdout",
     "output_type": "stream",
     "text": [
      "Observation: 169/250\n",
      "Observation: 170/250\n",
      "Observation: 171/250\n",
      "Observation: 172/250\n",
      "Error ---\n",
      "68456    CO201000000556\n",
      "Name: uid, dtype: object\n"
     ]
    },
    {
     "name": "stderr",
     "output_type": "stream",
     "text": [
      "/var/folders/m1/8h14xfm56hd6qfgz6btm1rd80000gn/T/ipykernel_4019/3978684452.py:42: FutureWarning: The frame.append method is deprecated and will be removed from pandas in a future version. Use pandas.concat instead.\n",
      "  errors_df = errors_df.append(survey_df_yeari_chunki[['uid']], ignore_index = True)\n"
     ]
    },
    {
     "name": "stdout",
     "output_type": "stream",
     "text": [
      "Observation: 172/250\n",
      "Observation: 173/250\n",
      "Observation: 174/250\n",
      "Observation: 175/250\n",
      "Error ---\n",
      "70408    CO201000000597\n",
      "Name: uid, dtype: object\n"
     ]
    },
    {
     "name": "stderr",
     "output_type": "stream",
     "text": [
      "/var/folders/m1/8h14xfm56hd6qfgz6btm1rd80000gn/T/ipykernel_4019/3978684452.py:42: FutureWarning: The frame.append method is deprecated and will be removed from pandas in a future version. Use pandas.concat instead.\n",
      "  errors_df = errors_df.append(survey_df_yeari_chunki[['uid']], ignore_index = True)\n"
     ]
    },
    {
     "name": "stdout",
     "output_type": "stream",
     "text": [
      "Observation: 175/250\n",
      "Error ---\n",
      "70840    CO201000000569\n",
      "Name: uid, dtype: object\n"
     ]
    },
    {
     "name": "stderr",
     "output_type": "stream",
     "text": [
      "/var/folders/m1/8h14xfm56hd6qfgz6btm1rd80000gn/T/ipykernel_4019/3978684452.py:42: FutureWarning: The frame.append method is deprecated and will be removed from pandas in a future version. Use pandas.concat instead.\n",
      "  errors_df = errors_df.append(survey_df_yeari_chunki[['uid']], ignore_index = True)\n"
     ]
    },
    {
     "name": "stdout",
     "output_type": "stream",
     "text": [
      "Observation: 175/250\n",
      "Observation: 176/250\n",
      "Observation: 177/250\n",
      "Observation: 178/250\n",
      "Observation: 179/250\n",
      "Observation: 180/250\n",
      "Observation: 181/250\n",
      "Observation: 182/250\n",
      "Observation: 183/250\n",
      "Error ---\n",
      "74207    CO201000000535\n",
      "Name: uid, dtype: object\n"
     ]
    },
    {
     "name": "stderr",
     "output_type": "stream",
     "text": [
      "/var/folders/m1/8h14xfm56hd6qfgz6btm1rd80000gn/T/ipykernel_4019/3978684452.py:42: FutureWarning: The frame.append method is deprecated and will be removed from pandas in a future version. Use pandas.concat instead.\n",
      "  errors_df = errors_df.append(survey_df_yeari_chunki[['uid']], ignore_index = True)\n"
     ]
    },
    {
     "name": "stdout",
     "output_type": "stream",
     "text": [
      "Observation: 183/250\n",
      "Observation: 184/250\n",
      "Observation: 185/250\n",
      "Observation: 186/250\n",
      "Observation: 187/250\n",
      "Error ---\n",
      "75587    CO201000000589\n",
      "Name: uid, dtype: object\n"
     ]
    },
    {
     "name": "stderr",
     "output_type": "stream",
     "text": [
      "/var/folders/m1/8h14xfm56hd6qfgz6btm1rd80000gn/T/ipykernel_4019/3978684452.py:42: FutureWarning: The frame.append method is deprecated and will be removed from pandas in a future version. Use pandas.concat instead.\n",
      "  errors_df = errors_df.append(survey_df_yeari_chunki[['uid']], ignore_index = True)\n"
     ]
    },
    {
     "name": "stdout",
     "output_type": "stream",
     "text": [
      "Observation: 187/250\n",
      "Observation: 188/250\n",
      "Observation: 189/250\n",
      "Observation: 190/250\n",
      "Error ---\n",
      "77366    CO201000000632\n",
      "Name: uid, dtype: object\n"
     ]
    },
    {
     "name": "stderr",
     "output_type": "stream",
     "text": [
      "/var/folders/m1/8h14xfm56hd6qfgz6btm1rd80000gn/T/ipykernel_4019/3978684452.py:42: FutureWarning: The frame.append method is deprecated and will be removed from pandas in a future version. Use pandas.concat instead.\n",
      "  errors_df = errors_df.append(survey_df_yeari_chunki[['uid']], ignore_index = True)\n"
     ]
    },
    {
     "name": "stdout",
     "output_type": "stream",
     "text": [
      "Observation: 190/250\n",
      "Observation: 191/250\n",
      "Observation: 192/250\n",
      "Observation: 193/250\n",
      "Observation: 194/250\n",
      "Error ---\n",
      "78483    CO201000000612\n",
      "Name: uid, dtype: object\n"
     ]
    },
    {
     "name": "stderr",
     "output_type": "stream",
     "text": [
      "/var/folders/m1/8h14xfm56hd6qfgz6btm1rd80000gn/T/ipykernel_4019/3978684452.py:42: FutureWarning: The frame.append method is deprecated and will be removed from pandas in a future version. Use pandas.concat instead.\n",
      "  errors_df = errors_df.append(survey_df_yeari_chunki[['uid']], ignore_index = True)\n"
     ]
    },
    {
     "name": "stdout",
     "output_type": "stream",
     "text": [
      "Observation: 194/250\n",
      "Observation: 195/250\n",
      "Observation: 196/250\n",
      "Observation: 197/250\n",
      "Observation: 198/250\n",
      "Observation: 199/250\n",
      "Observation: 200/250\n",
      "Error ---\n",
      "81266    CO201000000625\n",
      "Name: uid, dtype: object\n"
     ]
    },
    {
     "name": "stderr",
     "output_type": "stream",
     "text": [
      "/var/folders/m1/8h14xfm56hd6qfgz6btm1rd80000gn/T/ipykernel_4019/3978684452.py:42: FutureWarning: The frame.append method is deprecated and will be removed from pandas in a future version. Use pandas.concat instead.\n",
      "  errors_df = errors_df.append(survey_df_yeari_chunki[['uid']], ignore_index = True)\n"
     ]
    },
    {
     "name": "stdout",
     "output_type": "stream",
     "text": [
      "Observation: 200/250\n",
      "Error ---\n",
      "81362    CO201000000565\n",
      "Name: uid, dtype: object\n"
     ]
    },
    {
     "name": "stderr",
     "output_type": "stream",
     "text": [
      "/var/folders/m1/8h14xfm56hd6qfgz6btm1rd80000gn/T/ipykernel_4019/3978684452.py:42: FutureWarning: The frame.append method is deprecated and will be removed from pandas in a future version. Use pandas.concat instead.\n",
      "  errors_df = errors_df.append(survey_df_yeari_chunki[['uid']], ignore_index = True)\n"
     ]
    },
    {
     "name": "stdout",
     "output_type": "stream",
     "text": [
      "Observation: 200/250\n",
      "Observation: 201/250\n",
      "Observation: 202/250\n",
      "Observation: 203/250\n",
      "/Users/robmarty/Google Drive/World Bank/IEs/Pakistan Poverty Estimation/Data/DHS/FinalData/Individual Datasets/cnn_landsat_viirs_underiaTrue/tfrecords/nocnn_CO_1_1_all.tfrecord\n",
      "Success \\o/\n",
      "Putting 250 observations into nocnn_CO_1_2_all.tfrecord\n"
     ]
    },
    {
     "name": "stderr",
     "output_type": "stream",
     "text": [
      "/var/folders/m1/8h14xfm56hd6qfgz6btm1rd80000gn/T/ipykernel_4019/3978684452.py:20: SettingWithCopyWarning: \n",
      "A value is trying to be set on a copy of a slice from a DataFrame.\n",
      "Try using .loc[row_indexer,col_indexer] = value instead\n",
      "\n",
      "See the caveats in the documentation: https://pandas.pydata.org/pandas-docs/stable/user_guide/indexing.html#returning-a-view-versus-a-copy\n",
      "  survey_df_yeari['chunk_id'] = utils.chunk_ids(survey_df_yeari.shape[0], CHUNK_SIZE)\n"
     ]
    },
    {
     "name": "stdout",
     "output_type": "stream",
     "text": [
      "Observation: 0/250\n",
      "Observation: 1/250\n",
      "Observation: 2/250\n",
      "Observation: 3/250\n",
      "Observation: 4/250\n",
      "Observation: 5/250\n",
      "Observation: 6/250\n",
      "Observation: 7/250\n",
      "Error ---\n",
      "14602    CO201000000575\n",
      "Name: uid, dtype: object\n"
     ]
    },
    {
     "name": "stderr",
     "output_type": "stream",
     "text": [
      "/var/folders/m1/8h14xfm56hd6qfgz6btm1rd80000gn/T/ipykernel_4019/3978684452.py:42: FutureWarning: The frame.append method is deprecated and will be removed from pandas in a future version. Use pandas.concat instead.\n",
      "  errors_df = errors_df.append(survey_df_yeari_chunki[['uid']], ignore_index = True)\n"
     ]
    },
    {
     "name": "stdout",
     "output_type": "stream",
     "text": [
      "Observation: 7/250\n",
      "Observation: 8/250\n",
      "Error ---\n",
      "15008    CO201000000528\n",
      "Name: uid, dtype: object\n"
     ]
    },
    {
     "name": "stderr",
     "output_type": "stream",
     "text": [
      "/var/folders/m1/8h14xfm56hd6qfgz6btm1rd80000gn/T/ipykernel_4019/3978684452.py:42: FutureWarning: The frame.append method is deprecated and will be removed from pandas in a future version. Use pandas.concat instead.\n",
      "  errors_df = errors_df.append(survey_df_yeari_chunki[['uid']], ignore_index = True)\n"
     ]
    },
    {
     "name": "stdout",
     "output_type": "stream",
     "text": [
      "Observation: 8/250\n",
      "Error ---\n",
      "15021    CO201000000618\n",
      "Name: uid, dtype: object\n"
     ]
    },
    {
     "name": "stderr",
     "output_type": "stream",
     "text": [
      "/var/folders/m1/8h14xfm56hd6qfgz6btm1rd80000gn/T/ipykernel_4019/3978684452.py:42: FutureWarning: The frame.append method is deprecated and will be removed from pandas in a future version. Use pandas.concat instead.\n",
      "  errors_df = errors_df.append(survey_df_yeari_chunki[['uid']], ignore_index = True)\n"
     ]
    },
    {
     "name": "stdout",
     "output_type": "stream",
     "text": [
      "Observation: 8/250\n",
      "Observation: 9/250\n",
      "Error ---\n",
      "15662    CO201000000619\n",
      "Name: uid, dtype: object\n"
     ]
    },
    {
     "name": "stderr",
     "output_type": "stream",
     "text": [
      "/var/folders/m1/8h14xfm56hd6qfgz6btm1rd80000gn/T/ipykernel_4019/3978684452.py:42: FutureWarning: The frame.append method is deprecated and will be removed from pandas in a future version. Use pandas.concat instead.\n",
      "  errors_df = errors_df.append(survey_df_yeari_chunki[['uid']], ignore_index = True)\n"
     ]
    },
    {
     "name": "stdout",
     "output_type": "stream",
     "text": [
      "Observation: 9/250\n",
      "Error ---\n",
      "15839    CO201000000534\n",
      "Name: uid, dtype: object\n"
     ]
    },
    {
     "name": "stderr",
     "output_type": "stream",
     "text": [
      "/var/folders/m1/8h14xfm56hd6qfgz6btm1rd80000gn/T/ipykernel_4019/3978684452.py:42: FutureWarning: The frame.append method is deprecated and will be removed from pandas in a future version. Use pandas.concat instead.\n",
      "  errors_df = errors_df.append(survey_df_yeari_chunki[['uid']], ignore_index = True)\n"
     ]
    },
    {
     "name": "stdout",
     "output_type": "stream",
     "text": [
      "Observation: 9/250\n",
      "Observation: 10/250\n",
      "Observation: 11/250\n",
      "Error ---\n",
      "16342    CO201000000546\n",
      "Name: uid, dtype: object\n"
     ]
    },
    {
     "name": "stderr",
     "output_type": "stream",
     "text": [
      "/var/folders/m1/8h14xfm56hd6qfgz6btm1rd80000gn/T/ipykernel_4019/3978684452.py:42: FutureWarning: The frame.append method is deprecated and will be removed from pandas in a future version. Use pandas.concat instead.\n",
      "  errors_df = errors_df.append(survey_df_yeari_chunki[['uid']], ignore_index = True)\n"
     ]
    },
    {
     "name": "stdout",
     "output_type": "stream",
     "text": [
      "Observation: 11/250\n",
      "Observation: 12/250\n",
      "Observation: 13/250\n",
      "Observation: 14/250\n",
      "Observation: 15/250\n",
      "Observation: 16/250\n",
      "Observation: 17/250\n",
      "Observation: 18/250\n",
      "Error ---\n",
      "18894    CO201000000530\n",
      "Name: uid, dtype: object\n"
     ]
    },
    {
     "name": "stderr",
     "output_type": "stream",
     "text": [
      "/var/folders/m1/8h14xfm56hd6qfgz6btm1rd80000gn/T/ipykernel_4019/3978684452.py:42: FutureWarning: The frame.append method is deprecated and will be removed from pandas in a future version. Use pandas.concat instead.\n",
      "  errors_df = errors_df.append(survey_df_yeari_chunki[['uid']], ignore_index = True)\n"
     ]
    },
    {
     "name": "stdout",
     "output_type": "stream",
     "text": [
      "Observation: 18/250\n",
      "Observation: 19/250\n",
      "Observation: 20/250\n",
      "Observation: 21/250\n",
      "Observation: 22/250\n",
      "Observation: 23/250\n",
      "Observation: 24/250\n",
      "Observation: 25/250\n",
      "Observation: 26/250\n",
      "Observation: 27/250\n",
      "Observation: 28/250\n",
      "Observation: 29/250\n",
      "Observation: 30/250\n",
      "Observation: 31/250\n",
      "Observation: 32/250\n",
      "Observation: 33/250\n",
      "Error ---\n",
      "23867    CO201000000588\n",
      "Name: uid, dtype: object\n"
     ]
    },
    {
     "name": "stderr",
     "output_type": "stream",
     "text": [
      "/var/folders/m1/8h14xfm56hd6qfgz6btm1rd80000gn/T/ipykernel_4019/3978684452.py:42: FutureWarning: The frame.append method is deprecated and will be removed from pandas in a future version. Use pandas.concat instead.\n",
      "  errors_df = errors_df.append(survey_df_yeari_chunki[['uid']], ignore_index = True)\n"
     ]
    },
    {
     "name": "stdout",
     "output_type": "stream",
     "text": [
      "Observation: 33/250\n",
      "Observation: 34/250\n",
      "Observation: 35/250\n",
      "Observation: 36/250\n",
      "Observation: 37/250\n",
      "Observation: 38/250\n",
      "Observation: 39/250\n",
      "Observation: 40/250\n",
      "Observation: 41/250\n",
      "Observation: 42/250\n",
      "Observation: 43/250\n",
      "Observation: 44/250\n",
      "Error ---\n",
      "25899    CO201000000592\n",
      "Name: uid, dtype: object\n"
     ]
    },
    {
     "name": "stderr",
     "output_type": "stream",
     "text": [
      "/var/folders/m1/8h14xfm56hd6qfgz6btm1rd80000gn/T/ipykernel_4019/3978684452.py:42: FutureWarning: The frame.append method is deprecated and will be removed from pandas in a future version. Use pandas.concat instead.\n",
      "  errors_df = errors_df.append(survey_df_yeari_chunki[['uid']], ignore_index = True)\n"
     ]
    },
    {
     "name": "stdout",
     "output_type": "stream",
     "text": [
      "Observation: 44/250\n",
      "Observation: 45/250\n",
      "Observation: 46/250\n",
      "Error ---\n",
      "26258    CO201000000624\n",
      "Name: uid, dtype: object\n"
     ]
    },
    {
     "name": "stderr",
     "output_type": "stream",
     "text": [
      "/var/folders/m1/8h14xfm56hd6qfgz6btm1rd80000gn/T/ipykernel_4019/3978684452.py:42: FutureWarning: The frame.append method is deprecated and will be removed from pandas in a future version. Use pandas.concat instead.\n",
      "  errors_df = errors_df.append(survey_df_yeari_chunki[['uid']], ignore_index = True)\n"
     ]
    },
    {
     "name": "stdout",
     "output_type": "stream",
     "text": [
      "Observation: 46/250\n",
      "Error ---\n",
      "26533    CO201000000555\n",
      "Name: uid, dtype: object\n"
     ]
    },
    {
     "name": "stderr",
     "output_type": "stream",
     "text": [
      "/var/folders/m1/8h14xfm56hd6qfgz6btm1rd80000gn/T/ipykernel_4019/3978684452.py:42: FutureWarning: The frame.append method is deprecated and will be removed from pandas in a future version. Use pandas.concat instead.\n",
      "  errors_df = errors_df.append(survey_df_yeari_chunki[['uid']], ignore_index = True)\n"
     ]
    },
    {
     "name": "stdout",
     "output_type": "stream",
     "text": [
      "Observation: 46/250\n",
      "Observation: 47/250\n",
      "Error ---\n",
      "26991    CO201000000557\n",
      "Name: uid, dtype: object\n"
     ]
    },
    {
     "name": "stderr",
     "output_type": "stream",
     "text": [
      "/var/folders/m1/8h14xfm56hd6qfgz6btm1rd80000gn/T/ipykernel_4019/3978684452.py:42: FutureWarning: The frame.append method is deprecated and will be removed from pandas in a future version. Use pandas.concat instead.\n",
      "  errors_df = errors_df.append(survey_df_yeari_chunki[['uid']], ignore_index = True)\n"
     ]
    },
    {
     "name": "stdout",
     "output_type": "stream",
     "text": [
      "Observation: 47/250\n",
      "Observation: 48/250\n",
      "Observation: 49/250\n",
      "Observation: 50/250\n",
      "Observation: 51/250\n",
      "Observation: 52/250\n",
      "Observation: 53/250\n",
      "Observation: 54/250\n",
      "Observation: 55/250\n",
      "Observation: 56/250\n",
      "Observation: 57/250\n",
      "Observation: 58/250\n",
      "Observation: 59/250\n",
      "Observation: 60/250\n",
      "Observation: 61/250\n",
      "Observation: 62/250\n",
      "Observation: 63/250\n",
      "Observation: 64/250\n",
      "Observation: 65/250\n",
      "Observation: 66/250\n",
      "Observation: 67/250\n",
      "Observation: 68/250\n",
      "Observation: 69/250\n",
      "Observation: 70/250\n",
      "Observation: 71/250\n",
      "Observation: 72/250\n",
      "Observation: 73/250\n",
      "Error ---\n",
      "31071    CO201000000631\n",
      "Name: uid, dtype: object\n"
     ]
    },
    {
     "name": "stderr",
     "output_type": "stream",
     "text": [
      "/var/folders/m1/8h14xfm56hd6qfgz6btm1rd80000gn/T/ipykernel_4019/3978684452.py:42: FutureWarning: The frame.append method is deprecated and will be removed from pandas in a future version. Use pandas.concat instead.\n",
      "  errors_df = errors_df.append(survey_df_yeari_chunki[['uid']], ignore_index = True)\n"
     ]
    },
    {
     "name": "stdout",
     "output_type": "stream",
     "text": [
      "Observation: 73/250\n",
      "Observation: 74/250\n",
      "Observation: 75/250\n",
      "Observation: 76/250\n",
      "Observation: 77/250\n",
      "Observation: 78/250\n",
      "Observation: 79/250\n",
      "Observation: 80/250\n",
      "Observation: 81/250\n",
      "Observation: 82/250\n",
      "Observation: 83/250\n",
      "Observation: 84/250\n",
      "Observation: 85/250\n",
      "Observation: 86/250\n",
      "Observation: 87/250\n",
      "Observation: 88/250\n",
      "Observation: 89/250\n",
      "Observation: 90/250\n",
      "Observation: 91/250\n",
      "Observation: 92/250\n",
      "Observation: 93/250\n",
      "Observation: 94/250\n",
      "Observation: 95/250\n",
      "Error ---\n",
      "35416    CO201000000541\n",
      "Name: uid, dtype: object\n"
     ]
    },
    {
     "name": "stderr",
     "output_type": "stream",
     "text": [
      "/var/folders/m1/8h14xfm56hd6qfgz6btm1rd80000gn/T/ipykernel_4019/3978684452.py:42: FutureWarning: The frame.append method is deprecated and will be removed from pandas in a future version. Use pandas.concat instead.\n",
      "  errors_df = errors_df.append(survey_df_yeari_chunki[['uid']], ignore_index = True)\n"
     ]
    },
    {
     "name": "stdout",
     "output_type": "stream",
     "text": [
      "Observation: 95/250\n",
      "Observation: 96/250\n",
      "Observation: 97/250\n",
      "Observation: 98/250\n",
      "Observation: 99/250\n",
      "Observation: 100/250\n",
      "Observation: 101/250\n",
      "Observation: 102/250\n",
      "Observation: 103/250\n",
      "Observation: 104/250\n",
      "Observation: 105/250\n",
      "Error ---\n",
      "39657    CO201000000526\n",
      "Name: uid, dtype: object\n"
     ]
    },
    {
     "name": "stderr",
     "output_type": "stream",
     "text": [
      "/var/folders/m1/8h14xfm56hd6qfgz6btm1rd80000gn/T/ipykernel_4019/3978684452.py:42: FutureWarning: The frame.append method is deprecated and will be removed from pandas in a future version. Use pandas.concat instead.\n",
      "  errors_df = errors_df.append(survey_df_yeari_chunki[['uid']], ignore_index = True)\n"
     ]
    },
    {
     "name": "stdout",
     "output_type": "stream",
     "text": [
      "Observation: 105/250\n",
      "Observation: 106/250\n",
      "Observation: 107/250\n",
      "Observation: 108/250\n",
      "Observation: 109/250\n",
      "Observation: 110/250\n",
      "Error ---\n",
      "40826    CO201000000523\n",
      "Name: uid, dtype: object\n"
     ]
    },
    {
     "name": "stderr",
     "output_type": "stream",
     "text": [
      "/var/folders/m1/8h14xfm56hd6qfgz6btm1rd80000gn/T/ipykernel_4019/3978684452.py:42: FutureWarning: The frame.append method is deprecated and will be removed from pandas in a future version. Use pandas.concat instead.\n",
      "  errors_df = errors_df.append(survey_df_yeari_chunki[['uid']], ignore_index = True)\n"
     ]
    },
    {
     "name": "stdout",
     "output_type": "stream",
     "text": [
      "Observation: 110/250\n",
      "Observation: 111/250\n",
      "Observation: 112/250\n",
      "Error ---\n",
      "42438    CO201000000582\n",
      "Name: uid, dtype: object\n"
     ]
    },
    {
     "name": "stderr",
     "output_type": "stream",
     "text": [
      "/var/folders/m1/8h14xfm56hd6qfgz6btm1rd80000gn/T/ipykernel_4019/3978684452.py:42: FutureWarning: The frame.append method is deprecated and will be removed from pandas in a future version. Use pandas.concat instead.\n",
      "  errors_df = errors_df.append(survey_df_yeari_chunki[['uid']], ignore_index = True)\n"
     ]
    },
    {
     "name": "stdout",
     "output_type": "stream",
     "text": [
      "Observation: 112/250\n",
      "Observation: 113/250\n",
      "Observation: 114/250\n",
      "Error ---\n",
      "42942    CO201000000549\n",
      "Name: uid, dtype: object\n"
     ]
    },
    {
     "name": "stderr",
     "output_type": "stream",
     "text": [
      "/var/folders/m1/8h14xfm56hd6qfgz6btm1rd80000gn/T/ipykernel_4019/3978684452.py:42: FutureWarning: The frame.append method is deprecated and will be removed from pandas in a future version. Use pandas.concat instead.\n",
      "  errors_df = errors_df.append(survey_df_yeari_chunki[['uid']], ignore_index = True)\n"
     ]
    },
    {
     "name": "stdout",
     "output_type": "stream",
     "text": [
      "Observation: 114/250\n",
      "Observation: 115/250\n",
      "Observation: 116/250\n",
      "Observation: 117/250\n",
      "Observation: 118/250\n",
      "Observation: 119/250\n",
      "Observation: 120/250\n",
      "Observation: 121/250\n",
      "Error ---\n",
      "45609    CO201000000591\n",
      "Name: uid, dtype: object\n"
     ]
    },
    {
     "name": "stderr",
     "output_type": "stream",
     "text": [
      "/var/folders/m1/8h14xfm56hd6qfgz6btm1rd80000gn/T/ipykernel_4019/3978684452.py:42: FutureWarning: The frame.append method is deprecated and will be removed from pandas in a future version. Use pandas.concat instead.\n",
      "  errors_df = errors_df.append(survey_df_yeari_chunki[['uid']], ignore_index = True)\n"
     ]
    },
    {
     "name": "stdout",
     "output_type": "stream",
     "text": [
      "Observation: 121/250\n",
      "Observation: 122/250\n",
      "Observation: 123/250\n",
      "Error ---\n",
      "46408    CO201000000521\n",
      "Name: uid, dtype: object\n"
     ]
    },
    {
     "name": "stderr",
     "output_type": "stream",
     "text": [
      "/var/folders/m1/8h14xfm56hd6qfgz6btm1rd80000gn/T/ipykernel_4019/3978684452.py:42: FutureWarning: The frame.append method is deprecated and will be removed from pandas in a future version. Use pandas.concat instead.\n",
      "  errors_df = errors_df.append(survey_df_yeari_chunki[['uid']], ignore_index = True)\n"
     ]
    },
    {
     "name": "stdout",
     "output_type": "stream",
     "text": [
      "Observation: 123/250\n",
      "Observation: 124/250\n",
      "Observation: 125/250\n",
      "Observation: 126/250\n",
      "Observation: 127/250\n",
      "Observation: 128/250\n",
      "Observation: 129/250\n",
      "Observation: 130/250\n",
      "Observation: 131/250\n",
      "Error ---\n",
      "49243    CO201000000568\n",
      "Name: uid, dtype: object\n"
     ]
    },
    {
     "name": "stderr",
     "output_type": "stream",
     "text": [
      "/var/folders/m1/8h14xfm56hd6qfgz6btm1rd80000gn/T/ipykernel_4019/3978684452.py:42: FutureWarning: The frame.append method is deprecated and will be removed from pandas in a future version. Use pandas.concat instead.\n",
      "  errors_df = errors_df.append(survey_df_yeari_chunki[['uid']], ignore_index = True)\n"
     ]
    },
    {
     "name": "stdout",
     "output_type": "stream",
     "text": [
      "Observation: 131/250\n",
      "Observation: 132/250\n",
      "Observation: 133/250\n",
      "Observation: 134/250\n",
      "Observation: 135/250\n",
      "Observation: 136/250\n",
      "Observation: 137/250\n",
      "Observation: 138/250\n",
      "Observation: 139/250\n",
      "Observation: 140/250\n",
      "Observation: 141/250\n",
      "Error ---\n",
      "51395    CO201000000524\n",
      "Name: uid, dtype: object\n"
     ]
    },
    {
     "name": "stderr",
     "output_type": "stream",
     "text": [
      "/var/folders/m1/8h14xfm56hd6qfgz6btm1rd80000gn/T/ipykernel_4019/3978684452.py:42: FutureWarning: The frame.append method is deprecated and will be removed from pandas in a future version. Use pandas.concat instead.\n",
      "  errors_df = errors_df.append(survey_df_yeari_chunki[['uid']], ignore_index = True)\n"
     ]
    },
    {
     "name": "stdout",
     "output_type": "stream",
     "text": [
      "Observation: 141/250\n",
      "Observation: 142/250\n",
      "Observation: 143/250\n",
      "Observation: 144/250\n",
      "Observation: 145/250\n",
      "Observation: 146/250\n",
      "Observation: 147/250\n",
      "Observation: 148/250\n",
      "Error ---\n",
      "53422    CO201000000548\n",
      "Name: uid, dtype: object\n"
     ]
    },
    {
     "name": "stderr",
     "output_type": "stream",
     "text": [
      "/var/folders/m1/8h14xfm56hd6qfgz6btm1rd80000gn/T/ipykernel_4019/3978684452.py:42: FutureWarning: The frame.append method is deprecated and will be removed from pandas in a future version. Use pandas.concat instead.\n",
      "  errors_df = errors_df.append(survey_df_yeari_chunki[['uid']], ignore_index = True)\n"
     ]
    },
    {
     "name": "stdout",
     "output_type": "stream",
     "text": [
      "Observation: 148/250\n",
      "Observation: 149/250\n",
      "Observation: 150/250\n",
      "Observation: 151/250\n",
      "Observation: 152/250\n",
      "Error ---\n",
      "54624    CO201000000537\n",
      "Name: uid, dtype: object\n"
     ]
    },
    {
     "name": "stderr",
     "output_type": "stream",
     "text": [
      "/var/folders/m1/8h14xfm56hd6qfgz6btm1rd80000gn/T/ipykernel_4019/3978684452.py:42: FutureWarning: The frame.append method is deprecated and will be removed from pandas in a future version. Use pandas.concat instead.\n",
      "  errors_df = errors_df.append(survey_df_yeari_chunki[['uid']], ignore_index = True)\n"
     ]
    },
    {
     "name": "stdout",
     "output_type": "stream",
     "text": [
      "Observation: 152/250\n",
      "Observation: 153/250\n",
      "Observation: 154/250\n",
      "Observation: 155/250\n",
      "Observation: 156/250\n",
      "Observation: 157/250\n",
      "Observation: 158/250\n",
      "Observation: 159/250\n",
      "Error ---\n",
      "57734    CO201000000630\n",
      "Name: uid, dtype: object\n"
     ]
    },
    {
     "name": "stderr",
     "output_type": "stream",
     "text": [
      "/var/folders/m1/8h14xfm56hd6qfgz6btm1rd80000gn/T/ipykernel_4019/3978684452.py:42: FutureWarning: The frame.append method is deprecated and will be removed from pandas in a future version. Use pandas.concat instead.\n",
      "  errors_df = errors_df.append(survey_df_yeari_chunki[['uid']], ignore_index = True)\n"
     ]
    },
    {
     "name": "stdout",
     "output_type": "stream",
     "text": [
      "Observation: 159/250\n",
      "Observation: 160/250\n",
      "Observation: 161/250\n",
      "Observation: 162/250\n",
      "Observation: 163/250\n",
      "Observation: 164/250\n",
      "Observation: 165/250\n",
      "Observation: 166/250\n",
      "Observation: 167/250\n",
      "Observation: 168/250\n",
      "Observation: 169/250\n",
      "Observation: 170/250\n",
      "Error ---\n",
      "62514    CO201000000580\n",
      "Name: uid, dtype: object\n"
     ]
    },
    {
     "name": "stderr",
     "output_type": "stream",
     "text": [
      "/var/folders/m1/8h14xfm56hd6qfgz6btm1rd80000gn/T/ipykernel_4019/3978684452.py:42: FutureWarning: The frame.append method is deprecated and will be removed from pandas in a future version. Use pandas.concat instead.\n",
      "  errors_df = errors_df.append(survey_df_yeari_chunki[['uid']], ignore_index = True)\n"
     ]
    },
    {
     "name": "stdout",
     "output_type": "stream",
     "text": [
      "Observation: 170/250\n",
      "Observation: 171/250\n",
      "Observation: 172/250\n",
      "Observation: 173/250\n",
      "Observation: 174/250\n",
      "Observation: 175/250\n",
      "Observation: 176/250\n",
      "Observation: 177/250\n",
      "Observation: 178/250\n",
      "Observation: 179/250\n",
      "Observation: 180/250\n",
      "Error ---\n",
      "66479    CO201000000593\n",
      "Name: uid, dtype: object\n"
     ]
    },
    {
     "name": "stderr",
     "output_type": "stream",
     "text": [
      "/var/folders/m1/8h14xfm56hd6qfgz6btm1rd80000gn/T/ipykernel_4019/3978684452.py:42: FutureWarning: The frame.append method is deprecated and will be removed from pandas in a future version. Use pandas.concat instead.\n",
      "  errors_df = errors_df.append(survey_df_yeari_chunki[['uid']], ignore_index = True)\n"
     ]
    },
    {
     "name": "stdout",
     "output_type": "stream",
     "text": [
      "Observation: 180/250\n",
      "Observation: 181/250\n",
      "Observation: 182/250\n",
      "Error ---\n",
      "66918    CO201000000584\n",
      "Name: uid, dtype: object\n"
     ]
    },
    {
     "name": "stderr",
     "output_type": "stream",
     "text": [
      "/var/folders/m1/8h14xfm56hd6qfgz6btm1rd80000gn/T/ipykernel_4019/3978684452.py:42: FutureWarning: The frame.append method is deprecated and will be removed from pandas in a future version. Use pandas.concat instead.\n",
      "  errors_df = errors_df.append(survey_df_yeari_chunki[['uid']], ignore_index = True)\n"
     ]
    },
    {
     "name": "stdout",
     "output_type": "stream",
     "text": [
      "Observation: 182/250\n",
      "Observation: 183/250\n",
      "Observation: 184/250\n",
      "Observation: 185/250\n",
      "Observation: 186/250\n",
      "Observation: 187/250\n",
      "Observation: 188/250\n",
      "Observation: 189/250\n",
      "Observation: 190/250\n",
      "Observation: 191/250\n",
      "Error ---\n",
      "70203    CO201000000560\n",
      "Name: uid, dtype: object\n"
     ]
    },
    {
     "name": "stderr",
     "output_type": "stream",
     "text": [
      "/var/folders/m1/8h14xfm56hd6qfgz6btm1rd80000gn/T/ipykernel_4019/3978684452.py:42: FutureWarning: The frame.append method is deprecated and will be removed from pandas in a future version. Use pandas.concat instead.\n",
      "  errors_df = errors_df.append(survey_df_yeari_chunki[['uid']], ignore_index = True)\n"
     ]
    },
    {
     "name": "stdout",
     "output_type": "stream",
     "text": [
      "Observation: 191/250\n",
      "Observation: 192/250\n",
      "Observation: 193/250\n",
      "Observation: 194/250\n",
      "Observation: 195/250\n",
      "Observation: 196/250\n",
      "Observation: 197/250\n",
      "Observation: 198/250\n",
      "Observation: 199/250\n",
      "Observation: 200/250\n",
      "Observation: 201/250\n",
      "Observation: 202/250\n",
      "Error ---\n",
      "75049    CO201000000603\n",
      "Name: uid, dtype: object\n"
     ]
    },
    {
     "name": "stderr",
     "output_type": "stream",
     "text": [
      "/var/folders/m1/8h14xfm56hd6qfgz6btm1rd80000gn/T/ipykernel_4019/3978684452.py:42: FutureWarning: The frame.append method is deprecated and will be removed from pandas in a future version. Use pandas.concat instead.\n",
      "  errors_df = errors_df.append(survey_df_yeari_chunki[['uid']], ignore_index = True)\n"
     ]
    },
    {
     "name": "stdout",
     "output_type": "stream",
     "text": [
      "Observation: 202/250\n",
      "Observation: 203/250\n",
      "Error ---\n",
      "76428    CO201000000633\n",
      "Name: uid, dtype: object\n"
     ]
    },
    {
     "name": "stderr",
     "output_type": "stream",
     "text": [
      "/var/folders/m1/8h14xfm56hd6qfgz6btm1rd80000gn/T/ipykernel_4019/3978684452.py:42: FutureWarning: The frame.append method is deprecated and will be removed from pandas in a future version. Use pandas.concat instead.\n",
      "  errors_df = errors_df.append(survey_df_yeari_chunki[['uid']], ignore_index = True)\n"
     ]
    },
    {
     "name": "stdout",
     "output_type": "stream",
     "text": [
      "Observation: 203/250\n",
      "Observation: 204/250\n",
      "Observation: 205/250\n",
      "Error ---\n",
      "77115    CO201000000551\n",
      "Name: uid, dtype: object\n"
     ]
    },
    {
     "name": "stderr",
     "output_type": "stream",
     "text": [
      "/var/folders/m1/8h14xfm56hd6qfgz6btm1rd80000gn/T/ipykernel_4019/3978684452.py:42: FutureWarning: The frame.append method is deprecated and will be removed from pandas in a future version. Use pandas.concat instead.\n",
      "  errors_df = errors_df.append(survey_df_yeari_chunki[['uid']], ignore_index = True)\n"
     ]
    },
    {
     "name": "stdout",
     "output_type": "stream",
     "text": [
      "Observation: 205/250\n",
      "Observation: 206/250\n",
      "Observation: 207/250\n",
      "Observation: 208/250\n",
      "Observation: 209/250\n",
      "Observation: 210/250\n",
      "Observation: 211/250\n",
      "Observation: 212/250\n",
      "Observation: 213/250\n",
      "Observation: 214/250\n",
      "Observation: 215/250\n",
      "Observation: 216/250\n",
      "Observation: 217/250\n",
      "/Users/robmarty/Google Drive/World Bank/IEs/Pakistan Poverty Estimation/Data/DHS/FinalData/Individual Datasets/cnn_landsat_viirs_underiaTrue/tfrecords/nocnn_CO_1_2_all.tfrecord\n",
      "Success \\o/\n",
      "Putting 180 observations into nocnn_CO_1_3_all.tfrecord\n"
     ]
    },
    {
     "name": "stderr",
     "output_type": "stream",
     "text": [
      "/var/folders/m1/8h14xfm56hd6qfgz6btm1rd80000gn/T/ipykernel_4019/3978684452.py:20: SettingWithCopyWarning: \n",
      "A value is trying to be set on a copy of a slice from a DataFrame.\n",
      "Try using .loc[row_indexer,col_indexer] = value instead\n",
      "\n",
      "See the caveats in the documentation: https://pandas.pydata.org/pandas-docs/stable/user_guide/indexing.html#returning-a-view-versus-a-copy\n",
      "  survey_df_yeari['chunk_id'] = utils.chunk_ids(survey_df_yeari.shape[0], CHUNK_SIZE)\n"
     ]
    },
    {
     "name": "stdout",
     "output_type": "stream",
     "text": [
      "Observation: 0/180\n",
      "Observation: 1/180\n",
      "Observation: 2/180\n",
      "Observation: 3/180\n",
      "Observation: 4/180\n",
      "Observation: 5/180\n",
      "Observation: 6/180\n",
      "Observation: 7/180\n",
      "Error ---\n",
      "15061    CO201000000623\n",
      "Name: uid, dtype: object\n"
     ]
    },
    {
     "name": "stderr",
     "output_type": "stream",
     "text": [
      "/var/folders/m1/8h14xfm56hd6qfgz6btm1rd80000gn/T/ipykernel_4019/3978684452.py:42: FutureWarning: The frame.append method is deprecated and will be removed from pandas in a future version. Use pandas.concat instead.\n",
      "  errors_df = errors_df.append(survey_df_yeari_chunki[['uid']], ignore_index = True)\n"
     ]
    },
    {
     "name": "stdout",
     "output_type": "stream",
     "text": [
      "Observation: 7/180\n",
      "Observation: 8/180\n",
      "Observation: 9/180\n",
      "Observation: 10/180\n",
      "Observation: 11/180\n",
      "Observation: 12/180\n",
      "Observation: 13/180\n",
      "Observation: 14/180\n",
      "Error ---\n",
      "17726    CO201000000577\n",
      "Name: uid, dtype: object\n"
     ]
    },
    {
     "name": "stderr",
     "output_type": "stream",
     "text": [
      "/var/folders/m1/8h14xfm56hd6qfgz6btm1rd80000gn/T/ipykernel_4019/3978684452.py:42: FutureWarning: The frame.append method is deprecated and will be removed from pandas in a future version. Use pandas.concat instead.\n",
      "  errors_df = errors_df.append(survey_df_yeari_chunki[['uid']], ignore_index = True)\n"
     ]
    },
    {
     "name": "stdout",
     "output_type": "stream",
     "text": [
      "Observation: 14/180\n",
      "Observation: 15/180\n",
      "Observation: 16/180\n",
      "Observation: 17/180\n",
      "Observation: 18/180\n",
      "Error ---\n",
      "19554    CO201000000553\n",
      "Name: uid, dtype: object\n"
     ]
    },
    {
     "name": "stderr",
     "output_type": "stream",
     "text": [
      "/var/folders/m1/8h14xfm56hd6qfgz6btm1rd80000gn/T/ipykernel_4019/3978684452.py:42: FutureWarning: The frame.append method is deprecated and will be removed from pandas in a future version. Use pandas.concat instead.\n",
      "  errors_df = errors_df.append(survey_df_yeari_chunki[['uid']], ignore_index = True)\n"
     ]
    },
    {
     "name": "stdout",
     "output_type": "stream",
     "text": [
      "Observation: 18/180\n",
      "Observation: 19/180\n",
      "Observation: 20/180\n",
      "Observation: 21/180\n",
      "Error ---\n",
      "20594    CO201000000561\n",
      "Name: uid, dtype: object\n"
     ]
    },
    {
     "name": "stderr",
     "output_type": "stream",
     "text": [
      "/var/folders/m1/8h14xfm56hd6qfgz6btm1rd80000gn/T/ipykernel_4019/3978684452.py:42: FutureWarning: The frame.append method is deprecated and will be removed from pandas in a future version. Use pandas.concat instead.\n",
      "  errors_df = errors_df.append(survey_df_yeari_chunki[['uid']], ignore_index = True)\n"
     ]
    },
    {
     "name": "stdout",
     "output_type": "stream",
     "text": [
      "Observation: 21/180\n",
      "Observation: 22/180\n",
      "Observation: 23/180\n",
      "Observation: 24/180\n",
      "Observation: 25/180\n",
      "Observation: 26/180\n",
      "Observation: 27/180\n",
      "Observation: 28/180\n",
      "Observation: 29/180\n",
      "Observation: 30/180\n",
      "Observation: 31/180\n",
      "Error ---\n",
      "25980    CO201000000578\n",
      "Name: uid, dtype: object\n"
     ]
    },
    {
     "name": "stderr",
     "output_type": "stream",
     "text": [
      "/var/folders/m1/8h14xfm56hd6qfgz6btm1rd80000gn/T/ipykernel_4019/3978684452.py:42: FutureWarning: The frame.append method is deprecated and will be removed from pandas in a future version. Use pandas.concat instead.\n",
      "  errors_df = errors_df.append(survey_df_yeari_chunki[['uid']], ignore_index = True)\n"
     ]
    },
    {
     "name": "stdout",
     "output_type": "stream",
     "text": [
      "Observation: 31/180\n",
      "Observation: 32/180\n",
      "Observation: 33/180\n",
      "Observation: 34/180\n",
      "Observation: 35/180\n",
      "Observation: 36/180\n",
      "Observation: 37/180\n",
      "Observation: 38/180\n",
      "Observation: 39/180\n",
      "Error ---\n",
      "28299    CO201000000600\n",
      "Name: uid, dtype: object\n"
     ]
    },
    {
     "name": "stderr",
     "output_type": "stream",
     "text": [
      "/var/folders/m1/8h14xfm56hd6qfgz6btm1rd80000gn/T/ipykernel_4019/3978684452.py:42: FutureWarning: The frame.append method is deprecated and will be removed from pandas in a future version. Use pandas.concat instead.\n",
      "  errors_df = errors_df.append(survey_df_yeari_chunki[['uid']], ignore_index = True)\n"
     ]
    },
    {
     "name": "stdout",
     "output_type": "stream",
     "text": [
      "Observation: 39/180\n",
      "Observation: 40/180\n",
      "Observation: 41/180\n",
      "Observation: 42/180\n",
      "Error ---\n",
      "29501    CO201000000596\n",
      "Name: uid, dtype: object\n"
     ]
    },
    {
     "name": "stderr",
     "output_type": "stream",
     "text": [
      "/var/folders/m1/8h14xfm56hd6qfgz6btm1rd80000gn/T/ipykernel_4019/3978684452.py:42: FutureWarning: The frame.append method is deprecated and will be removed from pandas in a future version. Use pandas.concat instead.\n",
      "  errors_df = errors_df.append(survey_df_yeari_chunki[['uid']], ignore_index = True)\n"
     ]
    },
    {
     "name": "stdout",
     "output_type": "stream",
     "text": [
      "Observation: 42/180\n",
      "Observation: 43/180\n",
      "Observation: 44/180\n",
      "Observation: 45/180\n",
      "Observation: 46/180\n",
      "Observation: 47/180\n",
      "Observation: 48/180\n",
      "Observation: 49/180\n",
      "Error ---\n",
      "32517    CO201000000533\n",
      "Name: uid, dtype: object\n"
     ]
    },
    {
     "name": "stderr",
     "output_type": "stream",
     "text": [
      "/var/folders/m1/8h14xfm56hd6qfgz6btm1rd80000gn/T/ipykernel_4019/3978684452.py:42: FutureWarning: The frame.append method is deprecated and will be removed from pandas in a future version. Use pandas.concat instead.\n",
      "  errors_df = errors_df.append(survey_df_yeari_chunki[['uid']], ignore_index = True)\n"
     ]
    },
    {
     "name": "stdout",
     "output_type": "stream",
     "text": [
      "Observation: 49/180\n",
      "Observation: 50/180\n",
      "Observation: 51/180\n",
      "Observation: 52/180\n",
      "Observation: 53/180\n",
      "Observation: 54/180\n",
      "Observation: 55/180\n",
      "Error ---\n",
      "34515    CO201000000581\n",
      "Name: uid, dtype: object\n"
     ]
    },
    {
     "name": "stderr",
     "output_type": "stream",
     "text": [
      "/var/folders/m1/8h14xfm56hd6qfgz6btm1rd80000gn/T/ipykernel_4019/3978684452.py:42: FutureWarning: The frame.append method is deprecated and will be removed from pandas in a future version. Use pandas.concat instead.\n",
      "  errors_df = errors_df.append(survey_df_yeari_chunki[['uid']], ignore_index = True)\n"
     ]
    },
    {
     "name": "stdout",
     "output_type": "stream",
     "text": [
      "Observation: 55/180\n",
      "Observation: 56/180\n",
      "Observation: 57/180\n",
      "Error ---\n",
      "35311    CO201000000573\n",
      "Name: uid, dtype: object\n"
     ]
    },
    {
     "name": "stderr",
     "output_type": "stream",
     "text": [
      "/var/folders/m1/8h14xfm56hd6qfgz6btm1rd80000gn/T/ipykernel_4019/3978684452.py:42: FutureWarning: The frame.append method is deprecated and will be removed from pandas in a future version. Use pandas.concat instead.\n",
      "  errors_df = errors_df.append(survey_df_yeari_chunki[['uid']], ignore_index = True)\n"
     ]
    },
    {
     "name": "stdout",
     "output_type": "stream",
     "text": [
      "Observation: 57/180\n",
      "Observation: 58/180\n",
      "Observation: 59/180\n",
      "Observation: 60/180\n",
      "Observation: 61/180\n",
      "Error ---\n",
      "36883    CO201000000540\n",
      "Name: uid, dtype: object\n"
     ]
    },
    {
     "name": "stderr",
     "output_type": "stream",
     "text": [
      "/var/folders/m1/8h14xfm56hd6qfgz6btm1rd80000gn/T/ipykernel_4019/3978684452.py:42: FutureWarning: The frame.append method is deprecated and will be removed from pandas in a future version. Use pandas.concat instead.\n",
      "  errors_df = errors_df.append(survey_df_yeari_chunki[['uid']], ignore_index = True)\n"
     ]
    },
    {
     "name": "stdout",
     "output_type": "stream",
     "text": [
      "Observation: 61/180\n",
      "Observation: 62/180\n",
      "Observation: 63/180\n",
      "Observation: 64/180\n",
      "Observation: 65/180\n",
      "Observation: 66/180\n",
      "Error ---\n",
      "39496    CO201000000532\n",
      "Name: uid, dtype: object\n"
     ]
    },
    {
     "name": "stderr",
     "output_type": "stream",
     "text": [
      "/var/folders/m1/8h14xfm56hd6qfgz6btm1rd80000gn/T/ipykernel_4019/3978684452.py:42: FutureWarning: The frame.append method is deprecated and will be removed from pandas in a future version. Use pandas.concat instead.\n",
      "  errors_df = errors_df.append(survey_df_yeari_chunki[['uid']], ignore_index = True)\n"
     ]
    },
    {
     "name": "stdout",
     "output_type": "stream",
     "text": [
      "Observation: 66/180\n",
      "Observation: 67/180\n",
      "Observation: 68/180\n",
      "Observation: 69/180\n",
      "Observation: 70/180\n",
      "Error ---\n",
      "40435    CO201000000598\n",
      "Name: uid, dtype: object\n"
     ]
    },
    {
     "name": "stderr",
     "output_type": "stream",
     "text": [
      "/var/folders/m1/8h14xfm56hd6qfgz6btm1rd80000gn/T/ipykernel_4019/3978684452.py:42: FutureWarning: The frame.append method is deprecated and will be removed from pandas in a future version. Use pandas.concat instead.\n",
      "  errors_df = errors_df.append(survey_df_yeari_chunki[['uid']], ignore_index = True)\n"
     ]
    },
    {
     "name": "stdout",
     "output_type": "stream",
     "text": [
      "Observation: 70/180\n",
      "Observation: 71/180\n",
      "Observation: 72/180\n",
      "Error ---\n",
      "40981    CO201000000583\n",
      "Name: uid, dtype: object\n"
     ]
    },
    {
     "name": "stderr",
     "output_type": "stream",
     "text": [
      "/var/folders/m1/8h14xfm56hd6qfgz6btm1rd80000gn/T/ipykernel_4019/3978684452.py:42: FutureWarning: The frame.append method is deprecated and will be removed from pandas in a future version. Use pandas.concat instead.\n",
      "  errors_df = errors_df.append(survey_df_yeari_chunki[['uid']], ignore_index = True)\n"
     ]
    },
    {
     "name": "stdout",
     "output_type": "stream",
     "text": [
      "Observation: 72/180\n",
      "Observation: 73/180\n",
      "Observation: 74/180\n",
      "Observation: 75/180\n",
      "Observation: 76/180\n",
      "Error ---\n",
      "43755    CO201000000605\n",
      "Name: uid, dtype: object\n"
     ]
    },
    {
     "name": "stderr",
     "output_type": "stream",
     "text": [
      "/var/folders/m1/8h14xfm56hd6qfgz6btm1rd80000gn/T/ipykernel_4019/3978684452.py:42: FutureWarning: The frame.append method is deprecated and will be removed from pandas in a future version. Use pandas.concat instead.\n",
      "  errors_df = errors_df.append(survey_df_yeari_chunki[['uid']], ignore_index = True)\n"
     ]
    },
    {
     "name": "stdout",
     "output_type": "stream",
     "text": [
      "Observation: 76/180\n",
      "Observation: 77/180\n",
      "Error ---\n",
      "44284    CO201000000544\n",
      "Name: uid, dtype: object\n"
     ]
    },
    {
     "name": "stderr",
     "output_type": "stream",
     "text": [
      "/var/folders/m1/8h14xfm56hd6qfgz6btm1rd80000gn/T/ipykernel_4019/3978684452.py:42: FutureWarning: The frame.append method is deprecated and will be removed from pandas in a future version. Use pandas.concat instead.\n",
      "  errors_df = errors_df.append(survey_df_yeari_chunki[['uid']], ignore_index = True)\n"
     ]
    },
    {
     "name": "stdout",
     "output_type": "stream",
     "text": [
      "Observation: 77/180\n",
      "Observation: 78/180\n",
      "Observation: 79/180\n",
      "Observation: 80/180\n",
      "Observation: 81/180\n",
      "Observation: 82/180\n",
      "Observation: 83/180\n",
      "Observation: 84/180\n",
      "Observation: 85/180\n",
      "Observation: 86/180\n",
      "Observation: 87/180\n",
      "Observation: 88/180\n",
      "Error ---\n",
      "47938    CO201000000570\n",
      "Name: uid, dtype: object\n"
     ]
    },
    {
     "name": "stderr",
     "output_type": "stream",
     "text": [
      "/var/folders/m1/8h14xfm56hd6qfgz6btm1rd80000gn/T/ipykernel_4019/3978684452.py:42: FutureWarning: The frame.append method is deprecated and will be removed from pandas in a future version. Use pandas.concat instead.\n",
      "  errors_df = errors_df.append(survey_df_yeari_chunki[['uid']], ignore_index = True)\n"
     ]
    },
    {
     "name": "stdout",
     "output_type": "stream",
     "text": [
      "Observation: 88/180\n",
      "Error ---\n",
      "47994    CO201000000620\n",
      "Name: uid, dtype: object\n"
     ]
    },
    {
     "name": "stderr",
     "output_type": "stream",
     "text": [
      "/var/folders/m1/8h14xfm56hd6qfgz6btm1rd80000gn/T/ipykernel_4019/3978684452.py:42: FutureWarning: The frame.append method is deprecated and will be removed from pandas in a future version. Use pandas.concat instead.\n",
      "  errors_df = errors_df.append(survey_df_yeari_chunki[['uid']], ignore_index = True)\n"
     ]
    },
    {
     "name": "stdout",
     "output_type": "stream",
     "text": [
      "Observation: 88/180\n",
      "Observation: 89/180\n",
      "Observation: 90/180\n",
      "Observation: 91/180\n",
      "Error ---\n",
      "49669    CO201000000602\n",
      "Name: uid, dtype: object\n"
     ]
    },
    {
     "name": "stderr",
     "output_type": "stream",
     "text": [
      "/var/folders/m1/8h14xfm56hd6qfgz6btm1rd80000gn/T/ipykernel_4019/3978684452.py:42: FutureWarning: The frame.append method is deprecated and will be removed from pandas in a future version. Use pandas.concat instead.\n",
      "  errors_df = errors_df.append(survey_df_yeari_chunki[['uid']], ignore_index = True)\n"
     ]
    },
    {
     "name": "stdout",
     "output_type": "stream",
     "text": [
      "Observation: 91/180\n",
      "Observation: 92/180\n",
      "Observation: 93/180\n",
      "Observation: 94/180\n",
      "Observation: 95/180\n",
      "Error ---\n",
      "51419    CO201000000531\n",
      "Name: uid, dtype: object\n"
     ]
    },
    {
     "name": "stderr",
     "output_type": "stream",
     "text": [
      "/var/folders/m1/8h14xfm56hd6qfgz6btm1rd80000gn/T/ipykernel_4019/3978684452.py:42: FutureWarning: The frame.append method is deprecated and will be removed from pandas in a future version. Use pandas.concat instead.\n",
      "  errors_df = errors_df.append(survey_df_yeari_chunki[['uid']], ignore_index = True)\n"
     ]
    },
    {
     "name": "stdout",
     "output_type": "stream",
     "text": [
      "Observation: 95/180\n",
      "Observation: 96/180\n",
      "Observation: 97/180\n",
      "Error ---\n",
      "53209    CO201000000615\n",
      "Name: uid, dtype: object\n"
     ]
    },
    {
     "name": "stderr",
     "output_type": "stream",
     "text": [
      "/var/folders/m1/8h14xfm56hd6qfgz6btm1rd80000gn/T/ipykernel_4019/3978684452.py:42: FutureWarning: The frame.append method is deprecated and will be removed from pandas in a future version. Use pandas.concat instead.\n",
      "  errors_df = errors_df.append(survey_df_yeari_chunki[['uid']], ignore_index = True)\n"
     ]
    },
    {
     "name": "stdout",
     "output_type": "stream",
     "text": [
      "Observation: 97/180\n",
      "Observation: 98/180\n",
      "Observation: 99/180\n",
      "Observation: 100/180\n",
      "Observation: 101/180\n",
      "Observation: 102/180\n",
      "Observation: 103/180\n",
      "Observation: 104/180\n",
      "Observation: 105/180\n",
      "Observation: 106/180\n",
      "Observation: 107/180\n",
      "Observation: 108/180\n",
      "Observation: 109/180\n",
      "Error ---\n",
      "56743    CO201000000527\n",
      "Name: uid, dtype: object\n"
     ]
    },
    {
     "name": "stderr",
     "output_type": "stream",
     "text": [
      "/var/folders/m1/8h14xfm56hd6qfgz6btm1rd80000gn/T/ipykernel_4019/3978684452.py:42: FutureWarning: The frame.append method is deprecated and will be removed from pandas in a future version. Use pandas.concat instead.\n",
      "  errors_df = errors_df.append(survey_df_yeari_chunki[['uid']], ignore_index = True)\n"
     ]
    },
    {
     "name": "stdout",
     "output_type": "stream",
     "text": [
      "Observation: 109/180\n",
      "Error ---\n",
      "57749    CO201000000566\n",
      "Name: uid, dtype: object\n"
     ]
    },
    {
     "name": "stderr",
     "output_type": "stream",
     "text": [
      "/var/folders/m1/8h14xfm56hd6qfgz6btm1rd80000gn/T/ipykernel_4019/3978684452.py:42: FutureWarning: The frame.append method is deprecated and will be removed from pandas in a future version. Use pandas.concat instead.\n",
      "  errors_df = errors_df.append(survey_df_yeari_chunki[['uid']], ignore_index = True)\n"
     ]
    },
    {
     "name": "stdout",
     "output_type": "stream",
     "text": [
      "Observation: 109/180\n",
      "Observation: 110/180\n",
      "Observation: 111/180\n",
      "Error ---\n",
      "61064    CO201000000550\n",
      "Name: uid, dtype: object\n"
     ]
    },
    {
     "name": "stderr",
     "output_type": "stream",
     "text": [
      "/var/folders/m1/8h14xfm56hd6qfgz6btm1rd80000gn/T/ipykernel_4019/3978684452.py:42: FutureWarning: The frame.append method is deprecated and will be removed from pandas in a future version. Use pandas.concat instead.\n",
      "  errors_df = errors_df.append(survey_df_yeari_chunki[['uid']], ignore_index = True)\n"
     ]
    },
    {
     "name": "stdout",
     "output_type": "stream",
     "text": [
      "Observation: 111/180\n",
      "Error ---\n",
      "61303    CO201000000635\n",
      "Name: uid, dtype: object\n"
     ]
    },
    {
     "name": "stderr",
     "output_type": "stream",
     "text": [
      "/var/folders/m1/8h14xfm56hd6qfgz6btm1rd80000gn/T/ipykernel_4019/3978684452.py:42: FutureWarning: The frame.append method is deprecated and will be removed from pandas in a future version. Use pandas.concat instead.\n",
      "  errors_df = errors_df.append(survey_df_yeari_chunki[['uid']], ignore_index = True)\n"
     ]
    },
    {
     "name": "stdout",
     "output_type": "stream",
     "text": [
      "Observation: 111/180\n",
      "Observation: 112/180\n",
      "Error ---\n",
      "61842    CO201000000559\n",
      "Name: uid, dtype: object\n"
     ]
    },
    {
     "name": "stderr",
     "output_type": "stream",
     "text": [
      "/var/folders/m1/8h14xfm56hd6qfgz6btm1rd80000gn/T/ipykernel_4019/3978684452.py:42: FutureWarning: The frame.append method is deprecated and will be removed from pandas in a future version. Use pandas.concat instead.\n",
      "  errors_df = errors_df.append(survey_df_yeari_chunki[['uid']], ignore_index = True)\n"
     ]
    },
    {
     "name": "stdout",
     "output_type": "stream",
     "text": [
      "Observation: 112/180\n",
      "Observation: 113/180\n",
      "Observation: 114/180\n",
      "Observation: 115/180\n",
      "Error ---\n",
      "65851    CO201000000604\n",
      "Name: uid, dtype: object\n"
     ]
    },
    {
     "name": "stderr",
     "output_type": "stream",
     "text": [
      "/var/folders/m1/8h14xfm56hd6qfgz6btm1rd80000gn/T/ipykernel_4019/3978684452.py:42: FutureWarning: The frame.append method is deprecated and will be removed from pandas in a future version. Use pandas.concat instead.\n",
      "  errors_df = errors_df.append(survey_df_yeari_chunki[['uid']], ignore_index = True)\n"
     ]
    },
    {
     "name": "stdout",
     "output_type": "stream",
     "text": [
      "Observation: 115/180\n",
      "Observation: 116/180\n",
      "Observation: 117/180\n",
      "Observation: 118/180\n",
      "Observation: 119/180\n",
      "Error ---\n",
      "67270    CO201000000594\n",
      "Name: uid, dtype: object\n"
     ]
    },
    {
     "name": "stderr",
     "output_type": "stream",
     "text": [
      "/var/folders/m1/8h14xfm56hd6qfgz6btm1rd80000gn/T/ipykernel_4019/3978684452.py:42: FutureWarning: The frame.append method is deprecated and will be removed from pandas in a future version. Use pandas.concat instead.\n",
      "  errors_df = errors_df.append(survey_df_yeari_chunki[['uid']], ignore_index = True)\n"
     ]
    },
    {
     "name": "stdout",
     "output_type": "stream",
     "text": [
      "Observation: 119/180\n",
      "Error ---\n",
      "67535    CO201000000522\n",
      "Name: uid, dtype: object\n"
     ]
    },
    {
     "name": "stderr",
     "output_type": "stream",
     "text": [
      "/var/folders/m1/8h14xfm56hd6qfgz6btm1rd80000gn/T/ipykernel_4019/3978684452.py:42: FutureWarning: The frame.append method is deprecated and will be removed from pandas in a future version. Use pandas.concat instead.\n",
      "  errors_df = errors_df.append(survey_df_yeari_chunki[['uid']], ignore_index = True)\n"
     ]
    },
    {
     "name": "stdout",
     "output_type": "stream",
     "text": [
      "Observation: 119/180\n",
      "Observation: 120/180\n",
      "Observation: 121/180\n",
      "Error ---\n",
      "68791    CO201000000622\n",
      "Name: uid, dtype: object\n"
     ]
    },
    {
     "name": "stderr",
     "output_type": "stream",
     "text": [
      "/var/folders/m1/8h14xfm56hd6qfgz6btm1rd80000gn/T/ipykernel_4019/3978684452.py:42: FutureWarning: The frame.append method is deprecated and will be removed from pandas in a future version. Use pandas.concat instead.\n",
      "  errors_df = errors_df.append(survey_df_yeari_chunki[['uid']], ignore_index = True)\n"
     ]
    },
    {
     "name": "stdout",
     "output_type": "stream",
     "text": [
      "Observation: 121/180\n",
      "Observation: 122/180\n",
      "Observation: 123/180\n",
      "Observation: 124/180\n",
      "Observation: 125/180\n",
      "Observation: 126/180\n",
      "Observation: 127/180\n",
      "Observation: 128/180\n",
      "Observation: 129/180\n",
      "Observation: 130/180\n",
      "Observation: 131/180\n",
      "Observation: 132/180\n",
      "Observation: 133/180\n",
      "Observation: 134/180\n",
      "Observation: 135/180\n",
      "Error ---\n",
      "76944    CO201000000627\n",
      "Name: uid, dtype: object\n"
     ]
    },
    {
     "name": "stderr",
     "output_type": "stream",
     "text": [
      "/var/folders/m1/8h14xfm56hd6qfgz6btm1rd80000gn/T/ipykernel_4019/3978684452.py:42: FutureWarning: The frame.append method is deprecated and will be removed from pandas in a future version. Use pandas.concat instead.\n",
      "  errors_df = errors_df.append(survey_df_yeari_chunki[['uid']], ignore_index = True)\n"
     ]
    },
    {
     "name": "stdout",
     "output_type": "stream",
     "text": [
      "Observation: 135/180\n",
      "Observation: 136/180\n",
      "Observation: 137/180\n",
      "Observation: 138/180\n",
      "Observation: 139/180\n",
      "Error ---\n",
      "77623    CO201000000613\n",
      "Name: uid, dtype: object\n"
     ]
    },
    {
     "name": "stderr",
     "output_type": "stream",
     "text": [
      "/var/folders/m1/8h14xfm56hd6qfgz6btm1rd80000gn/T/ipykernel_4019/3978684452.py:42: FutureWarning: The frame.append method is deprecated and will be removed from pandas in a future version. Use pandas.concat instead.\n",
      "  errors_df = errors_df.append(survey_df_yeari_chunki[['uid']], ignore_index = True)\n"
     ]
    },
    {
     "name": "stdout",
     "output_type": "stream",
     "text": [
      "Observation: 139/180\n",
      "Observation: 140/180\n",
      "Observation: 141/180\n",
      "Observation: 142/180\n",
      "Error ---\n",
      "79613    CO201000000628\n",
      "Name: uid, dtype: object\n"
     ]
    },
    {
     "name": "stderr",
     "output_type": "stream",
     "text": [
      "/var/folders/m1/8h14xfm56hd6qfgz6btm1rd80000gn/T/ipykernel_4019/3978684452.py:42: FutureWarning: The frame.append method is deprecated and will be removed from pandas in a future version. Use pandas.concat instead.\n",
      "  errors_df = errors_df.append(survey_df_yeari_chunki[['uid']], ignore_index = True)\n"
     ]
    },
    {
     "name": "stdout",
     "output_type": "stream",
     "text": [
      "Observation: 142/180\n",
      "Observation: 143/180\n",
      "Observation: 144/180\n",
      "Error ---\n",
      "80435    CO201000000587\n",
      "Name: uid, dtype: object\n"
     ]
    },
    {
     "name": "stderr",
     "output_type": "stream",
     "text": [
      "/var/folders/m1/8h14xfm56hd6qfgz6btm1rd80000gn/T/ipykernel_4019/3978684452.py:42: FutureWarning: The frame.append method is deprecated and will be removed from pandas in a future version. Use pandas.concat instead.\n",
      "  errors_df = errors_df.append(survey_df_yeari_chunki[['uid']], ignore_index = True)\n"
     ]
    },
    {
     "name": "stdout",
     "output_type": "stream",
     "text": [
      "Observation: 144/180\n",
      "Observation: 145/180\n",
      "/Users/robmarty/Google Drive/World Bank/IEs/Pakistan Poverty Estimation/Data/DHS/FinalData/Individual Datasets/cnn_landsat_viirs_underiaTrue/tfrecords/nocnn_CO_1_3_all.tfrecord\n",
      "Success \\o/\n",
      "Putting 250 observations into nocnn_CO_2_1_all.tfrecord\n"
     ]
    },
    {
     "name": "stderr",
     "output_type": "stream",
     "text": [
      "/var/folders/m1/8h14xfm56hd6qfgz6btm1rd80000gn/T/ipykernel_4019/3978684452.py:20: SettingWithCopyWarning: \n",
      "A value is trying to be set on a copy of a slice from a DataFrame.\n",
      "Try using .loc[row_indexer,col_indexer] = value instead\n",
      "\n",
      "See the caveats in the documentation: https://pandas.pydata.org/pandas-docs/stable/user_guide/indexing.html#returning-a-view-versus-a-copy\n",
      "  survey_df_yeari['chunk_id'] = utils.chunk_ids(survey_df_yeari.shape[0], CHUNK_SIZE)\n"
     ]
    },
    {
     "name": "stdout",
     "output_type": "stream",
     "text": [
      "Observation: 0/250\n",
      "Observation: 1/250\n",
      "Observation: 2/250\n",
      "Observation: 3/250\n",
      "Observation: 4/250\n",
      "Observation: 5/250\n",
      "Observation: 6/250\n",
      "Observation: 7/250\n",
      "Observation: 8/250\n",
      "Observation: 9/250\n",
      "Observation: 10/250\n"
     ]
    }
   ],
   "source": [
    "## Blank error dataframe\n",
    "errors_df = pd.DataFrame()\n",
    "\n",
    "## Error file name\n",
    "now = datetime.now()\n",
    "current_time = now.strftime(\"%d_%m_%y_%H_%M_%S\")\n",
    "error_file_name = 'errors_' + current_time + '.csv'\n",
    "\n",
    "if True:\n",
    "    ### Loop through all tfrecords\n",
    "    for tfr_i in tf_record_list:\n",
    "\n",
    "        # Sometimes we get computational time out errors. If occurs, just skip and go to next.\n",
    "        # We can then go back and rescrape missed ones.\n",
    "\n",
    "        survey_df_yeari = survey_df[survey_df['tfrecord_name'] == tfr_i]\n",
    "        year_i = survey_df_yeari['year'].iloc[0]\n",
    "\n",
    "        ### Loop through chunks within tfrecord (can only pull so much data from GEE at a time)\n",
    "        survey_df_yeari['chunk_id'] = utils.chunk_ids(survey_df_yeari.shape[0], CHUNK_SIZE)\n",
    "\n",
    "        print(\"Putting \" + str(survey_df_yeari.shape[0]) + \" observations into \" + tfr_i)\n",
    "\n",
    "        proto_examples_all = []\n",
    "        for chunk_i in list(np.unique(survey_df_yeari.chunk_id)):\n",
    "            \n",
    "            try:\n",
    "            \n",
    "                time.sleep(3)\n",
    "                print(\"Observation: \" + str(len(proto_examples_all)) + \"/\" + str(survey_df_yeari.shape[0]))\n",
    "\n",
    "                survey_df_yeari_chunki = survey_df_yeari[survey_df_yeari['chunk_id'] == chunk_i]\n",
    "\n",
    "                proto_examples_i = utils.prep_cnn_np(survey_df_yeari_chunki, SATELLITE, KERNEL_SIZE, year_i)\n",
    "                proto_examples_all.extend(proto_examples_i)\n",
    "                \n",
    "            except:\n",
    "                \n",
    "                print(\"Error ---\")\n",
    "                print(survey_df_yeari_chunki['uid'])\n",
    "                \n",
    "                errors_df = errors_df.append(survey_df_yeari_chunki[['uid']], ignore_index = True)\n",
    "                errors_df.to_csv(os.path.join(out_path_errors, error_file_name))\n",
    "                                 \n",
    "                time.sleep(15)\n",
    "                pass\n",
    "\n",
    "        ### Save data as tf record\n",
    "        out_path_i = os.path.join(out_path, tfr_i)\n",
    "        print(out_path_i)\n",
    "        with tf.io.TFRecordWriter(out_path_i) as writer:\n",
    "            for tf_example in proto_examples_all:\n",
    "                writer.write(tf_example.SerializeToString())\n",
    "\n",
    "        print(\"Success \\o/\")"
   ]
  },
  {
   "cell_type": "code",
   "execution_count": null,
   "metadata": {},
   "outputs": [],
   "source": []
  },
  {
   "cell_type": "code",
   "execution_count": null,
   "metadata": {},
   "outputs": [],
   "source": []
  },
  {
   "cell_type": "code",
   "execution_count": null,
   "metadata": {},
   "outputs": [],
   "source": []
  },
  {
   "cell_type": "code",
   "execution_count": null,
   "metadata": {},
   "outputs": [],
   "source": []
  },
  {
   "cell_type": "code",
   "execution_count": null,
   "metadata": {},
   "outputs": [],
   "source": []
  },
  {
   "cell_type": "code",
   "execution_count": null,
   "metadata": {},
   "outputs": [],
   "source": []
  },
  {
   "cell_type": "code",
   "execution_count": null,
   "metadata": {},
   "outputs": [],
   "source": []
  },
  {
   "cell_type": "code",
   "execution_count": null,
   "metadata": {},
   "outputs": [],
   "source": []
  },
  {
   "cell_type": "code",
   "execution_count": null,
   "metadata": {},
   "outputs": [],
   "source": []
  },
  {
   "cell_type": "code",
   "execution_count": null,
   "metadata": {},
   "outputs": [],
   "source": []
  },
  {
   "cell_type": "code",
   "execution_count": null,
   "metadata": {},
   "outputs": [],
   "source": []
  },
  {
   "cell_type": "code",
   "execution_count": null,
   "metadata": {},
   "outputs": [],
   "source": []
  },
  {
   "cell_type": "code",
   "execution_count": 7,
   "metadata": {},
   "outputs": [],
   "source": [
    "if False:\n",
    "    ### Loop through all tfrecords\n",
    "    for tfr_i in tf_record_list:\n",
    "\n",
    "        # Sometimes we get computational time out errors. If occurs, just skip and go to next.\n",
    "        # We can then go back and rescrape missed ones.\n",
    "        try:\n",
    "\n",
    "            survey_df_yeari = survey_df[survey_df['tfrecord_name'] == tfr_i]\n",
    "            year_i = survey_df_yeari['year'].iloc[0]\n",
    "\n",
    "            ### Loop through chunks within tfrecord (can only pull so much data from GEE at a time)\n",
    "            survey_df_yeari['chunk_id'] = utils.chunk_ids(survey_df_yeari.shape[0], CHUNK_SIZE)\n",
    "\n",
    "            print(\"Putting \" + str(survey_df_yeari.shape[0]) + \" observations into \" + tfr_i)\n",
    "\n",
    "            proto_examples_all = []\n",
    "            for chunk_i in list(np.unique(survey_df_yeari.chunk_id)):\n",
    "                time.sleep(3)\n",
    "                print(\"Observation: \" + str(len(proto_examples_all)) + \"/\" + str(survey_df_yeari.shape[0]))\n",
    "\n",
    "                survey_df_yeari_chunki = survey_df_yeari[survey_df_yeari['chunk_id'] == chunk_i]\n",
    "\n",
    "                proto_examples_i = utils.prep_cnn_np(survey_df_yeari_chunki, SATELLITE, KERNEL_SIZE, year_i)\n",
    "                proto_examples_all.extend(proto_examples_i)\n",
    "\n",
    "            ### Save data as tf record\n",
    "            out_path_i = os.path.join(out_path, tfr_i)\n",
    "            print(out_path_i)\n",
    "            with tf.io.TFRecordWriter(out_path_i) as writer:\n",
    "                for tf_example in proto_examples_all:\n",
    "                    writer.write(tf_example.SerializeToString())\n",
    "\n",
    "            print(\"Success \\o/\")\n",
    "\n",
    "        except:\n",
    "            print(\"Error ---\")\n",
    "            print(survey_df_yeari_chunki['uid'])\n",
    "            time.sleep(15)\n",
    "            pass"
   ]
  },
  {
   "cell_type": "code",
   "execution_count": null,
   "metadata": {},
   "outputs": [],
   "source": []
  },
  {
   "cell_type": "code",
   "execution_count": null,
   "metadata": {},
   "outputs": [],
   "source": []
  },
  {
   "cell_type": "code",
   "execution_count": null,
   "metadata": {},
   "outputs": [],
   "source": []
  },
  {
   "cell_type": "code",
   "execution_count": null,
   "metadata": {},
   "outputs": [],
   "source": []
  },
  {
   "cell_type": "code",
   "execution_count": null,
   "metadata": {},
   "outputs": [],
   "source": []
  },
  {
   "cell_type": "code",
   "execution_count": null,
   "metadata": {},
   "outputs": [],
   "source": []
  },
  {
   "cell_type": "code",
   "execution_count": null,
   "metadata": {},
   "outputs": [],
   "source": []
  },
  {
   "cell_type": "markdown",
   "metadata": {},
   "source": [
    "## Troubleshooting"
   ]
  },
  {
   "cell_type": "code",
   "execution_count": null,
   "metadata": {},
   "outputs": [],
   "source": [
    "survey_df = survey_df_yeari_chunki\n",
    "satellite_name = SATELLITE\n",
    "kernel_size = KERNEL_SIZE\n",
    "year = year_i"
   ]
  },
  {
   "cell_type": "code",
   "execution_count": 11,
   "metadata": {},
   "outputs": [],
   "source": [
    "import ee\n",
    "import numpy as np\n",
    "import geetools\n",
    "from geetools import ui, cloud_mask\n",
    "import os, datetime\n",
    "import pandas as pd\n",
    "import itertools\n",
    "import tensorflow as tf\n",
    "\n",
    "cloud_mask_landsatSR = cloud_mask.landsatSR()\n",
    "cloud_mask_sentinel2 = cloud_mask.sentinel2()\n",
    "\n",
    "# tfrecord helper functions ----------------------------------------------------\n",
    "# https://stackoverflow.com/questions/52324515/passing-multiple-inputs-to-keras-model-from-tf-dataset-api\n",
    "# https://www.tensorflow.org/tutorials/load_data/tfrecord\n",
    "\n",
    "def _bytes_feature(value):\n",
    "    \"\"\"Returns a bytes_list from a string / byte.\"\"\"\n",
    "    # If the value is an eager tensor BytesList won't unpack a string from an EagerTensor.\n",
    "    if isinstance(value, type(tf.constant(0))):\n",
    "        value = value.numpy() \n",
    "    return tf.train.Feature(bytes_list=tf.train.BytesList(value=[value]))\n",
    "\n",
    "def _float_feature(value):\n",
    "    \"\"\"Returns a float_list from a float / double.\"\"\"\n",
    "    return tf.train.Feature(float_list=tf.train.FloatList(value=[value]))\n",
    "\n",
    "def _int64_feature(value):\n",
    "    \"\"\"Returns an int64_list from a bool / enum / int / uint.\"\"\"\n",
    "    return tf.train.Feature(int64_list=tf.train.Int64List(value=[value]))\n",
    "\n",
    "def chunk_ids(total_length, chunk_size):\n",
    "    n_numbers = np.ceil(total_length / chunk_size)\n",
    "    n_numbers = int(n_numbers)\n",
    "    \n",
    "    chunk_ids = list(range(0,n_numbers)) * chunk_size\n",
    "    chunk_ids.sort()\n",
    "    chunk_ids = chunk_ids[:total_length]\n",
    "    \n",
    "    return chunk_ids\n",
    "\n",
    "# Main Functions -----------------------------------------------------------------\n",
    "def survey_to_fc(survey_df):\n",
    "    '''\n",
    "    Convert pandas dataframe of survey locations to a feature collection. \n",
    "    \n",
    "    Inputs:\n",
    "        survey_df: pandas dataframe of survey locations. Function assumes \n",
    "                   the dataframe contains (1) latitude, (2) longitude and\n",
    "                   (3) uid variables. Assumes coordinates in WGS84.\n",
    "    Returns:\n",
    "        (feature collection)\n",
    "    '''\n",
    "    \n",
    "    survey_fc_list = []\n",
    "    \n",
    "    n_rows = survey_df.shape[0]\n",
    "    for i in range(0, n_rows):\n",
    "        survey_df_i = survey_df.iloc[[i]]\n",
    "\n",
    "        f_i = ee.Feature(ee.Geometry.Point([survey_df_i['longitude'].iloc[0], \n",
    "                                            survey_df_i['latitude'].iloc[0]]), \n",
    "                         {'uid': survey_df_i['uid'].iloc[0]})\n",
    "\n",
    "        survey_fc_list.append(f_i)\n",
    "        \n",
    "    survey_fc = ee.FeatureCollection(survey_fc_list)\n",
    "    \n",
    "    return survey_fc\n",
    "\n",
    "def normalized_diff(values1, values2):\n",
    "    '''\n",
    "    Normalized Difference Value\n",
    "\n",
    "    Input:  values1, values2 (must be same dimensions)\n",
    "\n",
    "    Output: np array\n",
    "    '''\n",
    "\n",
    "    return (values2 - values1)/(values2 + values1)\n",
    "\n",
    "def ee_to_np_daytime(daytime_f, survey_df, n_rows, b_b, g_b, r_b): # nir_b, swir_b\n",
    "    '''\n",
    "    Transforms feature collection from neighborhood array to np array. Stacks bands\n",
    "    so that they are: NTL, blue, green, red, NDVI, other single daytime bands\n",
    "\n",
    "    Input:  \n",
    "      f (features)\n",
    "      n_rows (number of features)\n",
    "\n",
    "    Output: np array\n",
    "    '''\n",
    "    \n",
    "    example_proto_list = []\n",
    "\n",
    "    for i in range(0, n_rows):\n",
    "        survey_uid = survey_df['uid'].iloc[i]\n",
    "        #folder_name = survey_df['tf_folder_name'].iloc[i]\n",
    "        viirs_ntl_group = int(survey_df['ntl_group'].iloc[i])\n",
    "        survey_year_i = int(survey_df['year'].iloc[i])\n",
    "        uid_i = survey_df['uid'].iloc[i].encode()\n",
    "        \n",
    "        d_f_i = daytime_f[i]['properties']\n",
    "        #n_f_i = ntl_f[i]['properties']\n",
    "\n",
    "        # SAVE AS TFRECORD\n",
    "\n",
    "        # Prep Files\n",
    "        ### RGB\n",
    "        brgb_l = [np.array(d_f_i[r_b]), np.array(d_f_i[g_b]), np.array(d_f_i[b_b])]\n",
    "        brgb_np = np.stack(brgb_l, axis=-1)\n",
    "        brgb_np = brgb_np.astype(np.uint16)\n",
    "        brgb_np_tf = tf.io.encode_png(brgb_np, compression = 9)\n",
    "        #brgb_np_tf = tf.io.serialize_tensor(brgb_np)\n",
    "        \n",
    "        ### NIR\n",
    "        if False:\n",
    "            bnir_np = d_f_i[nir_b]      \n",
    "            bnir_np = np.expand_dims(bnir_np, axis=2) # original (224, 224), change to (224,224,1) -> so can stack\n",
    "            bnir_np = bnir_np.astype(np.uint16)\n",
    "            bnir_np_tf = tf.io.encode_png(bnir_np, compression = 9)\n",
    "            #bndvi_np_tf = tf.io.serialize_tensor(bndvi_np)\n",
    "\n",
    "        if True:\n",
    "            # https://www.tensorflow.org/api_docs/python/tf/io/encode_png\n",
    "            ### NDVI \n",
    "            bndvi_np = d_f_i['NDVI']      \n",
    "            bndvi_np = np.expand_dims(bndvi_np, axis=2) # original (224, 224), change to (224,224,1) -> so can stack\n",
    "            # Convert from -1 to 1 to 0 to 20000\n",
    "            bndvi_np = bndvi_np + 1\n",
    "            bndvi_np = bndvi_np * 10000\n",
    "            bndvi_np = bndvi_np.astype(np.uint16)\n",
    "            bndvi_np_tf = tf.io.encode_png(bndvi_np, compression = 9)\n",
    "            #bndvi_np_tf = tf.io.serialize_tensor(bndvi_np)\n",
    "\n",
    "            ### BU \n",
    "            bbu_np = d_f_i['BU']      \n",
    "            bbu_np = np.expand_dims(bbu_np, axis=2) # original (224, 224), change to (224,224,1) -> so can stack\n",
    "            # Convert from -1 to 1 to 0 to 20000\n",
    "            bbu_np = bbu_np + 1\n",
    "            bbu_np = bbu_np * 10000\n",
    "            bbu_np = bbu_np.astype(np.uint16)\n",
    "            bbu_np_tf = tf.io.encode_png(bbu_np, compression = 9)\n",
    "            #bndvi_np_tf = tf.io.serialize_tensor(bndvi_np)\n",
    "\n",
    "        ### NTL\n",
    "        # Not uint16, so so serialize\n",
    "        #bntl_np = np.array(n_f_i['avg_rad'])\n",
    "        #bntl_np = np.expand_dims(bntl_np, axis=2)\n",
    "        # Values to uint16\n",
    "        #bntl_np = bntl_np + 2 # Can be negative\n",
    "        #bntl_np = bntl_np * 100 # consider two decimal places before uint16 // could also to * 10 (second decimal may not matter)\n",
    "        #bntl_np[bntl_np >= 65535] = 65535 # within range of uint16\n",
    "        #bntl_np = bntl_np.astype(np.uint16)\n",
    "        #bntl_np_tf = tf.io.encode_png(bntl_np, compression = 9)\n",
    "        #bntl_np_tf = tf.io.serialize_tensor(bntl_np)\n",
    "\n",
    "        ## Create dictionary\n",
    "        feature = {\n",
    "            'uid' : _bytes_feature(uid_i),\n",
    "            'viirs_ntl_group' : _int64_feature(viirs_ntl_group),\n",
    "            'year' : _int64_feature(survey_year_i),\n",
    "            'b_rgb': _bytes_feature(brgb_np_tf),\n",
    "            #'b_nir': _bytes_feature(bnir_np_tf)\n",
    "            'b_ndvi': _bytes_feature(bndvi_np_tf),\n",
    "            'b_bu': _bytes_feature(bbu_np_tf)\n",
    "            }\n",
    "\n",
    "        # Other MS Bands\n",
    "        #b_other_list = []\n",
    "        #for b_other_i in other_bs:\n",
    "        #    bi_np = np.array(d_f_i[b_other_i])\n",
    "        #    bi_np = np.expand_dims(bi_np, axis=2)\n",
    "        #    #bi_np_tf = tf.io.serialize_tensor(bi_np)\n",
    "        #    bi_np = bi_np.astype(np.uint16)\n",
    "        #    bi_np_tf = tf.io.encode_png(bi_np, compression = 9)\n",
    "        #    feature['b_' + b_other_i] = _bytes_feature(bi_np_tf)\n",
    "  \n",
    "        example_proto = tf.train.Example(features=tf.train.Features(feature=feature))\n",
    "\n",
    "        example_proto_list.append(example_proto)\n",
    "\n",
    "        #out_file_name = os.path.join(out_path, folder_name, survey_uid + '.tfrecord')\n",
    "        #with tf.io.TFRecordWriter(out_file_name) as writer:\n",
    "        #  writer.write(example_proto.SerializeToString())\n",
    "        \n",
    "    return example_proto_list\n",
    "\n",
    "        #bndvi_np = np.expand_dims(bndvi_l, axis=2)\n",
    "        #b_np = np.expand_dims(b_l, axis=2)\n",
    "        #b_np = np.repeat(b_np, 3, -1)\n",
    "        #np.save(os.path.join(out_path, band_i + \"_\" + survey_uid + '.npy'), b_np)\n",
    "        #np.save(os.path.join(out_path, 'BRGB' + \"_\" + survey_uid + '.npy'), brgb_np)\n",
    "        #bndvi_np = np.repeat(bndvi_np, 3, -1)\n",
    "        #np.save(os.path.join(out_path, 'BNDVI' + \"_\" + survey_uid + '.npy'), bndvi_np)\n",
    "\n",
    "        #for band_i in SINGLE_BANDS_ALL:\n",
    "        #    \n",
    "        #    b_l = np.array(f_i[band_i])\n",
    "        #    b_np = np.expand_dims(b_l, axis=2)\n",
    "        #    #b_np = np.repeat(b_np, 3, -1)\n",
    "        #    np.save(os.path.join(out_path, band_i + \"_\" + survey_uid + '.npy'), b_np)\n",
    "\n",
    "    \n",
    "    #return \"Done\"\n",
    "\n",
    "def prep_cnn_np(survey_df,\n",
    "                satellite_name,\n",
    "                kernel_size,\n",
    "                year):\n",
    "    '''\n",
    "    Creates numpy arrays for CNN\n",
    "\n",
    "    Input:  df - pandas dataframe\n",
    "            lat_name - name of latitude variable in df\n",
    "            lon_name - name of longitude variable in df\n",
    "    Output: geopandas dataframe\n",
    "    '''\n",
    "\n",
    "    # Setup --------------------------------------------------------------------\n",
    "    # Survey to FeatureCollection  \n",
    "    survey_fc = survey_to_fc(survey_df)\n",
    "\n",
    "    # Define kernel for neighborhood array\n",
    "    list = ee.List.repeat(1, kernel_size)\n",
    "    lists = ee.List.repeat(list, kernel_size)\n",
    "    kernel = ee.Kernel.fixed(kernel_size, kernel_size, lists)\n",
    "    \n",
    "    # Define satellite\n",
    "    if satellite_name == 's2':\n",
    "        satellite = 's2'\n",
    "    elif satellite_name == 'landsat':\n",
    "        if year >= 2014:\n",
    "            satellite = 'l8'\n",
    "        else:\n",
    "            satellite = 'l7'\n",
    "            \n",
    "    # Define scale\n",
    "    if satellite in ['l7', 'l8']:\n",
    "        SCALE = 30\n",
    "    elif satellite in ['s2']: \n",
    "        SCALE = 10\n",
    "\n",
    "    # Prep NTL -----------------------------------------------------------------\n",
    "    \n",
    "    # Year\n",
    "    # VIIRS starts in 2012. At minimum, use 2013 to have year before and after\n",
    "    #if False:\n",
    "    #    if year <= 2013:\n",
    "    #        year_use = 2013\n",
    "    #    else:\n",
    "    #        year_use = year\n",
    "\n",
    "    #    year_plus = year_use + 1\n",
    "    #    year_minus = year_use - 1\n",
    "\n",
    "    #    year_minus_str = str(year_minus) + '-01-01'\n",
    "    #    year_plus_str = str(year_plus) + '-12-31'\n",
    "\n",
    "        # Reduce image collection\n",
    "    #    ntl_image = ee.ImageCollection('NOAA/VIIRS/DNB/MONTHLY_V1/VCMCFG')\\\n",
    "    #        .filterDate(year_minus_str, year_plus_str)\\\n",
    "    #        .median()\n",
    "\n",
    "        # Select Bands  \n",
    "    #    ntl_image = ntl_image.select(['avg_rad'])\n",
    "\n",
    "        # Image to neighborhood array\n",
    "    #    ntl_arrays = ntl_image.neighborhoodToArray(kernel)\n",
    "\n",
    "        # Extract values from GEE    \n",
    "    #    ntl_values_ee = ntl_arrays.sample(\n",
    "    #      region = survey_fc, \n",
    "    #      scale = SCALE,\n",
    "    #      tileScale = 10 #8\n",
    "    #    )\n",
    "\n",
    "    #    ntl_dict_ee = ntl_values_ee.getInfo()\n",
    "\n",
    "        # Convert values to numpy array\n",
    "        #n_rows = survey_df.shape[0]\n",
    "    #    ntl_f = ntl_dict_ee['features']    \n",
    "        \n",
    "    # l7 ----------------------------------------------------------------\n",
    "    if satellite == \"l7\":\n",
    "        \n",
    "        # Bands\n",
    "        b_b = 'B1'\n",
    "        g_b = 'B2' \n",
    "        r_b = 'B3' \n",
    "        nir_b = 'B4'\n",
    "        swir_b = 'B5'\n",
    "        #other_bs = ['B5', 'B6', 'B7']\n",
    "        \n",
    "        #BANDS = single_bs.copy()\n",
    "        BANDS = [b_b].copy()\n",
    "        BANDS.append(g_b)\n",
    "        BANDS.append(r_b)\n",
    "        BANDS.append(nir_b)\n",
    "        BANDS.append(swir_b)\n",
    "        \n",
    "        # Year\n",
    "        # landsat 8 starts in May 1999; if year is less than\n",
    "        # 2000, use 2000 as year (to ensure have year before and after)\n",
    "        if year < 2000:\n",
    "            year_use = 2000\n",
    "        else:\n",
    "            year_use = year\n",
    "\n",
    "        # Year\n",
    "        year_use = year\n",
    "        \n",
    "        year_plus = year_use + 1\n",
    "        year_minus = year_use - 1\n",
    "        \n",
    "        year_minus_str = str(year_minus) + '-01-01'\n",
    "        year_plus_str = str(year_plus) + '-12-31'\n",
    "        \n",
    "        image = ee.ImageCollection('LANDSAT/LE07/C01/T1_SR')\\\n",
    "            .filterDate(year_minus_str, year_plus_str)\\\n",
    "            .map(cloud_mask_landsatSR)\\\n",
    "            .median() #\\\n",
    "            #.multiply(0.0001)\n",
    "    \n",
    "    # l8 ----------------------------------------------------------------\n",
    "    if satellite == \"l8\":\n",
    "                \n",
    "        # Bands\n",
    "        # FOR COLLECTION 2\n",
    "        #b_b = 'SR_B2'\n",
    "        #g_b = 'SR_B3' \n",
    "        #r_b = 'SR_B4' \n",
    "        #nir_b = 'SR_B5'\n",
    "        #other_bs = ['SR_B6', 'SR_B7', 'ST_B10']\n",
    "        \n",
    "        # FOR COLLECTION 1\n",
    "        b_b = 'B2'\n",
    "        g_b = 'B3' \n",
    "        r_b = 'B4' \n",
    "        nir_b = 'B5'\n",
    "        swir_b = 'B6'\n",
    "        #other_bs = ['B6', 'B7', 'B10']\n",
    "        \n",
    "        #BANDS = single_bs.copy()\n",
    "        BANDS = [b_b].copy()\n",
    "        BANDS.append(g_b)\n",
    "        BANDS.append(r_b)\n",
    "        BANDS.append(nir_b)\n",
    "        BANDS.append(swir_b)\n",
    "\n",
    "        # Year\n",
    "        # landsat 8 starts in April 2013; if year is less than\n",
    "        # 2014, use 2014 as year (to ensure have year before and after)\n",
    "        if year < 2014:\n",
    "            year_use = 2014\n",
    "        else:\n",
    "            year_use = year\n",
    "                    \n",
    "        year_plus = year_use + 1\n",
    "        year_minus = year_use - 1\n",
    "        \n",
    "        year_minus_str = str(year_minus) + '-01-01'\n",
    "        year_plus_str = str(year_plus) + '-12-31'\n",
    "        \n",
    "        #image = ee.ImageCollection('LANDSAT/LC08/C02/T1_L2')\\\n",
    "        #    .filterDate(year_minus_str, year_plus_str)\\\n",
    "        #    #.map(cloud_mask_landsatSR)\\ #TODO cloud_mask_landsatSR doesn't work with landsat collection 2\n",
    "        #    .median() #\\\n",
    "        #    #.multiply(0.0001)\n",
    "        \n",
    "        image = ee.ImageCollection('LANDSAT/LC08/C01/T1_SR')\\\n",
    "            .filterDate(year_minus_str, year_plus_str)\\\n",
    "            .map(cloud_mask_landsatSR)\\\n",
    "            .median()\n",
    "        \n",
    "        #image = ee.ImageCollection('LANDSAT/LC08/C02/T1_L2')\\\n",
    "        #    .filterDate(year_minus_str, year_plus_str)\\\n",
    "        #    .median()\n",
    "            \n",
    "    # s2 ----------------------------------------------------------------\n",
    "    if satellite == \"s2\":\n",
    "        \n",
    "        # Bands\n",
    "        b_b = 'B2'\n",
    "        g_b = 'B3' \n",
    "        r_b = 'B4' \n",
    "        nir_b = 'B8'\n",
    "        swir_b = 'B11'\n",
    "        #other_bs = ['B5', 'B6', 'B7', 'B8A', 'B11', 'B12', 'AOT']\n",
    "     \n",
    "        #BANDS = single_bs.copy()\n",
    "        BANDS = [b_b].copy()\n",
    "        BANDS.append(g_b)\n",
    "        BANDS.append(r_b)\n",
    "        BANDS.append(nir_b)\n",
    "        BANDS.append(swir_b)\n",
    "        \n",
    "        # Year\n",
    "        # sentinel starts in March 2017; juse use 2018\n",
    "        year_use = 2019\n",
    "                    \n",
    "        year_plus = year_use + 1\n",
    "        year_minus = year_use - 1\n",
    "        \n",
    "        year_minus_str = str(year_minus) + '-01-01'\n",
    "        year_plus_str = str(year_plus) + '-12-31'\n",
    "\n",
    "        # Number of bands changes in sentinel, so need to select here before aggregate\n",
    "        # https://gis.stackexchange.com/questions/374010/gee-tile-error-expected-a-homogeneous-image-collection-but-an-image-with-incom\n",
    "        image = ee.ImageCollection('COPERNICUS/S2_SR')\\\n",
    "            .filterDate(year_minus_str, year_plus_str)\\\n",
    "            .map(cloud_mask_sentinel2)\\\n",
    "            .select(BANDS)\\\n",
    "            .median() # \\\n",
    "            #.multiply(0.0001)\n",
    "\n",
    "    # Select Bands\n",
    "    image = image.select(BANDS)\n",
    "    \n",
    "    # Create Indices\n",
    "    # https://www.linkedin.com/pulse/ndvi-ndbi-ndwi-calculation-using-landsat-7-8-tek-bahadur-kshetri\n",
    "    ndvi = image.normalizedDifference([nir_b, r_b]).rename('NDVI');\n",
    "    ndbi = image.normalizedDifference([swir_b, nir_b]).rename('NDBI');\n",
    "    image = image.addBands(ndvi)\n",
    "    image = image.addBands(ndbi)\n",
    "        \n",
    "    bu = image.select('NDBI').subtract(image.select('NDVI')).rename('BU')\n",
    "    image = image.addBands(bu)\n",
    "        \n",
    "    # Subset bands; don't need those used to create NDVI and NDBI\n",
    "    image = image.select([b_b, g_b, r_b, 'NDVI', 'BU'])\n",
    "        \n",
    "    # Image to neighborhood array\n",
    "    arrays = image.neighborhoodToArray(kernel)\n",
    "    \n",
    "    # New ---------\n",
    "    #neighborhoodImage = myImageToBeSampled.neighborhoodToArray(kernel)\n",
    "    #samples = arrays.sampleRegions(collection=survey_fc)\n",
    "    \n",
    "    # ee.batch.Export.table.toCloudStorage\n",
    "    # ee.batch.Export.table.toDrive\n",
    "    # Export.table.toDrive\n",
    "    #mytask = ee.batch.Export.table.toDrive(\n",
    "    # collection = samples,\n",
    "    # fileFormat = 'TFRecord',\n",
    "    # description = 'test123',\n",
    "    # folder = 'gee_extracts',\n",
    "    # selectors = [b_b, g_b, r_b, 'NDVI', 'BU'] + ['uid', 'ntl_group'])\n",
    "    \n",
    "    #return mytask\n",
    "\n",
    "    # OLD ---------\n",
    "    # Extract values from GEE   \n",
    "    values_ee = arrays.sample(\n",
    "      region = survey_fc, \n",
    "      scale = SCALE,\n",
    "      tileScale = 12 # 8\n",
    "    )\n",
    "    \n",
    "    dict_ee = values_ee.getInfo()\n",
    "     \n",
    "    # Convert values to numpy array\n",
    "    n_rows = survey_df.shape[0]\n",
    "    daytime_f = dict_ee['features']\n",
    "    \n",
    "    # Extract data\n",
    "    out_ex_proto_list = ee_to_np_daytime(daytime_f, survey_df, n_rows, b_b, g_b, r_b)\n",
    "    \n",
    "    return out_ex_proto_list\n",
    "\n",
    "# https://csaybar.github.io/blog/2019/05/30/eetf/\n",
    "# https://stackoverflow.com/questions/63000565/extract-10000-images-from-google-earth-engine\n",
    "# https://colab.research.google.com/github/google/earthengine-api/blob/master/python/examples/ipynb/UNET_regression_demo.ipynb#scrollTo=-IlgXu-vcUEY"
   ]
  },
  {
   "cell_type": "code",
   "execution_count": 12,
   "metadata": {},
   "outputs": [
    {
     "ename": "AttributeError",
     "evalue": "module 'tensorflow_core._api.v2.io' has no attribute 'encode_png'",
     "output_type": "error",
     "traceback": [
      "\u001b[0;31m---------------------------------------------------------------------------\u001b[0m",
      "\u001b[0;31mAttributeError\u001b[0m                            Traceback (most recent call last)",
      "\u001b[0;32m/var/folders/m1/8h14xfm56hd6qfgz6btm1rd80000gn/T/ipykernel_56214/2007812258.py\u001b[0m in \u001b[0;36m<module>\u001b[0;34m\u001b[0m\n\u001b[1;32m    206\u001b[0m \u001b[0;34m\u001b[0m\u001b[0m\n\u001b[1;32m    207\u001b[0m \u001b[0;31m# Extract data\u001b[0m\u001b[0;34m\u001b[0m\u001b[0;34m\u001b[0m\u001b[0;34m\u001b[0m\u001b[0m\n\u001b[0;32m--> 208\u001b[0;31m \u001b[0mout_ex_proto_list\u001b[0m \u001b[0;34m=\u001b[0m \u001b[0mee_to_np_daytime\u001b[0m\u001b[0;34m(\u001b[0m\u001b[0mdaytime_f\u001b[0m\u001b[0;34m,\u001b[0m \u001b[0msurvey_df\u001b[0m\u001b[0;34m,\u001b[0m \u001b[0mn_rows\u001b[0m\u001b[0;34m,\u001b[0m \u001b[0mb_b\u001b[0m\u001b[0;34m,\u001b[0m \u001b[0mg_b\u001b[0m\u001b[0;34m,\u001b[0m \u001b[0mr_b\u001b[0m\u001b[0;34m)\u001b[0m\u001b[0;34m\u001b[0m\u001b[0;34m\u001b[0m\u001b[0m\n\u001b[0m",
      "\u001b[0;32m/var/folders/m1/8h14xfm56hd6qfgz6btm1rd80000gn/T/ipykernel_56214/1365876260.py\u001b[0m in \u001b[0;36mee_to_np_daytime\u001b[0;34m(daytime_f, survey_df, n_rows, b_b, g_b, r_b)\u001b[0m\n\u001b[1;32m    111\u001b[0m         \u001b[0mbrgb_np\u001b[0m \u001b[0;34m=\u001b[0m \u001b[0mnp\u001b[0m\u001b[0;34m.\u001b[0m\u001b[0mstack\u001b[0m\u001b[0;34m(\u001b[0m\u001b[0mbrgb_l\u001b[0m\u001b[0;34m,\u001b[0m \u001b[0maxis\u001b[0m\u001b[0;34m=\u001b[0m\u001b[0;34m-\u001b[0m\u001b[0;36m1\u001b[0m\u001b[0;34m)\u001b[0m\u001b[0;34m\u001b[0m\u001b[0;34m\u001b[0m\u001b[0m\n\u001b[1;32m    112\u001b[0m         \u001b[0mbrgb_np\u001b[0m \u001b[0;34m=\u001b[0m \u001b[0mbrgb_np\u001b[0m\u001b[0;34m.\u001b[0m\u001b[0mastype\u001b[0m\u001b[0;34m(\u001b[0m\u001b[0mnp\u001b[0m\u001b[0;34m.\u001b[0m\u001b[0muint16\u001b[0m\u001b[0;34m)\u001b[0m\u001b[0;34m\u001b[0m\u001b[0;34m\u001b[0m\u001b[0m\n\u001b[0;32m--> 113\u001b[0;31m         \u001b[0mbrgb_np_tf\u001b[0m \u001b[0;34m=\u001b[0m \u001b[0mtf\u001b[0m\u001b[0;34m.\u001b[0m\u001b[0mio\u001b[0m\u001b[0;34m.\u001b[0m\u001b[0mencode_png\u001b[0m\u001b[0;34m(\u001b[0m\u001b[0mbrgb_np\u001b[0m\u001b[0;34m,\u001b[0m \u001b[0mcompression\u001b[0m \u001b[0;34m=\u001b[0m \u001b[0;36m9\u001b[0m\u001b[0;34m)\u001b[0m\u001b[0;34m\u001b[0m\u001b[0;34m\u001b[0m\u001b[0m\n\u001b[0m\u001b[1;32m    114\u001b[0m         \u001b[0;31m#brgb_np_tf = tf.io.serialize_tensor(brgb_np)\u001b[0m\u001b[0;34m\u001b[0m\u001b[0;34m\u001b[0m\u001b[0;34m\u001b[0m\u001b[0m\n\u001b[1;32m    115\u001b[0m \u001b[0;34m\u001b[0m\u001b[0m\n",
      "\u001b[0;31mAttributeError\u001b[0m: module 'tensorflow_core._api.v2.io' has no attribute 'encode_png'"
     ]
    }
   ],
   "source": [
    "# Setup --------------------------------------------------------------------\n",
    "# Survey to FeatureCollection  \n",
    "survey_fc = survey_to_fc(survey_df)\n",
    "\n",
    "# Define kernel for neighborhood array\n",
    "list = ee.List.repeat(1, kernel_size)\n",
    "lists = ee.List.repeat(list, kernel_size)\n",
    "kernel = ee.Kernel.fixed(kernel_size, kernel_size, lists)\n",
    "\n",
    "# Define satellite\n",
    "if satellite_name == 's2':\n",
    "    satellite = 's2'\n",
    "elif satellite_name == 'landsat':\n",
    "    if year >= 2014:\n",
    "        satellite = 'l8'\n",
    "    else:\n",
    "        satellite = 'l7'\n",
    "\n",
    "# Define scale\n",
    "if satellite in ['l7', 'l8']:\n",
    "    SCALE = 30\n",
    "elif satellite in ['s2']: \n",
    "    SCALE = 10\n",
    "    \n",
    "# l7 ----------------------------------------------------------------\n",
    "if satellite == \"l7\":\n",
    "\n",
    "    # Bands\n",
    "    b_b = 'B1'\n",
    "    g_b = 'B2' \n",
    "    r_b = 'B3' \n",
    "    nir_b = 'B4'\n",
    "    swir_b = 'B5'\n",
    "    #other_bs = ['B5', 'B6', 'B7']\n",
    "\n",
    "    #BANDS = single_bs.copy()\n",
    "    BANDS = [b_b].copy()\n",
    "    BANDS.append(g_b)\n",
    "    BANDS.append(r_b)\n",
    "    BANDS.append(nir_b)\n",
    "    BANDS.append(swir_b)\n",
    "\n",
    "    # Year\n",
    "    # landsat 8 starts in May 1999; if year is less than\n",
    "    # 2000, use 2000 as year (to ensure have year before and after)\n",
    "    if year < 2000:\n",
    "        year_use = 2000\n",
    "    else:\n",
    "        year_use = year\n",
    "\n",
    "    # Year\n",
    "    year_use = year\n",
    "\n",
    "    year_plus = year_use + 1\n",
    "    year_minus = year_use - 1\n",
    "\n",
    "    year_minus_str = str(year_minus) + '-01-01'\n",
    "    year_plus_str = str(year_plus) + '-12-31'\n",
    "\n",
    "    image = ee.ImageCollection('LANDSAT/LE07/C01/T1_SR')\\\n",
    "        .filterDate(year_minus_str, year_plus_str)\\\n",
    "        .map(cloud_mask_landsatSR)\\\n",
    "        .median() #\\\n",
    "        #.multiply(0.0001)\n",
    "\n",
    "# l8 ----------------------------------------------------------------\n",
    "if satellite == \"l8\":\n",
    "\n",
    "    # Bands\n",
    "    # FOR COLLECTION 2\n",
    "    #b_b = 'SR_B2'\n",
    "    #g_b = 'SR_B3' \n",
    "    #r_b = 'SR_B4' \n",
    "    #nir_b = 'SR_B5'\n",
    "    #other_bs = ['SR_B6', 'SR_B7', 'ST_B10']\n",
    "\n",
    "    # FOR COLLECTION 1\n",
    "    b_b = 'B2'\n",
    "    g_b = 'B3' \n",
    "    r_b = 'B4' \n",
    "    nir_b = 'B5'\n",
    "    swir_b = 'B6'\n",
    "    #other_bs = ['B6', 'B7', 'B10']\n",
    "\n",
    "    #BANDS = single_bs.copy()\n",
    "    BANDS = [b_b].copy()\n",
    "    BANDS.append(g_b)\n",
    "    BANDS.append(r_b)\n",
    "    BANDS.append(nir_b)\n",
    "    BANDS.append(swir_b)\n",
    "\n",
    "    # Year\n",
    "    # landsat 8 starts in April 2013; if year is less than\n",
    "    # 2014, use 2014 as year (to ensure have year before and after)\n",
    "    if year < 2014:\n",
    "        year_use = 2014\n",
    "    else:\n",
    "        year_use = year\n",
    "\n",
    "    year_plus = year_use + 1\n",
    "    year_minus = year_use - 1\n",
    "\n",
    "    year_minus_str = str(year_minus) + '-01-01'\n",
    "    year_plus_str = str(year_plus) + '-12-31'\n",
    "\n",
    "    #image = ee.ImageCollection('LANDSAT/LC08/C02/T1_L2')\\\n",
    "    #    .filterDate(year_minus_str, year_plus_str)\\\n",
    "    #    #.map(cloud_mask_landsatSR)\\ #TODO cloud_mask_landsatSR doesn't work with landsat collection 2\n",
    "    #    .median() #\\\n",
    "    #    #.multiply(0.0001)\n",
    "\n",
    "    image = ee.ImageCollection('LANDSAT/LC08/C01/T1_SR')\\\n",
    "        .filterDate(year_minus_str, year_plus_str)\\\n",
    "        .map(cloud_mask_landsatSR)\\\n",
    "        .median()\n",
    "\n",
    "    #image = ee.ImageCollection('LANDSAT/LC08/C02/T1_L2')\\\n",
    "    #    .filterDate(year_minus_str, year_plus_str)\\\n",
    "    #    .median()\n",
    "\n",
    "# s2 ----------------------------------------------------------------\n",
    "if satellite == \"s2\":\n",
    "\n",
    "    # Bands\n",
    "    b_b = 'B2'\n",
    "    g_b = 'B3' \n",
    "    r_b = 'B4' \n",
    "    nir_b = 'B8'\n",
    "    swir_b = 'B11'\n",
    "    #other_bs = ['B5', 'B6', 'B7', 'B8A', 'B11', 'B12', 'AOT']\n",
    "\n",
    "    #BANDS = single_bs.copy()\n",
    "    BANDS = [b_b].copy()\n",
    "    BANDS.append(g_b)\n",
    "    BANDS.append(r_b)\n",
    "    BANDS.append(nir_b)\n",
    "    BANDS.append(swir_b)\n",
    "\n",
    "    # Year\n",
    "    # sentinel starts in March 2017; juse use 2018\n",
    "    year_use = 2019\n",
    "\n",
    "    year_plus = year_use + 1\n",
    "    year_minus = year_use - 1\n",
    "\n",
    "    year_minus_str = str(year_minus) + '-01-01'\n",
    "    year_plus_str = str(year_plus) + '-12-31'\n",
    "\n",
    "    # Number of bands changes in sentinel, so need to select here before aggregate\n",
    "    # https://gis.stackexchange.com/questions/374010/gee-tile-error-expected-a-homogeneous-image-collection-but-an-image-with-incom\n",
    "    image = ee.ImageCollection('COPERNICUS/S2_SR')\\\n",
    "        .filterDate(year_minus_str, year_plus_str)\\\n",
    "        .map(cloud_mask_sentinel2)\\\n",
    "        .select(BANDS)\\\n",
    "        .median() # \\\n",
    "        #.multiply(0.0001)\n",
    "\n",
    "# Select Bands\n",
    "image = image.select(BANDS)\n",
    "\n",
    "# Create Indices\n",
    "# https://www.linkedin.com/pulse/ndvi-ndbi-ndwi-calculation-using-landsat-7-8-tek-bahadur-kshetri\n",
    "ndvi = image.normalizedDifference([nir_b, r_b]).rename('NDVI');\n",
    "ndbi = image.normalizedDifference([swir_b, nir_b]).rename('NDBI');\n",
    "image = image.addBands(ndvi)\n",
    "image = image.addBands(ndbi)\n",
    "\n",
    "bu = image.select('NDBI').subtract(image.select('NDVI')).rename('BU')\n",
    "image = image.addBands(bu)\n",
    "\n",
    "# Subset bands; don't need those used to create NDVI and NDBI\n",
    "image = image.select([b_b, g_b, r_b, 'NDVI', 'BU'])\n",
    "\n",
    "# Image to neighborhood array\n",
    "arrays = image.neighborhoodToArray(kernel)\n",
    "\n",
    "# New ---------\n",
    "#neighborhoodImage = myImageToBeSampled.neighborhoodToArray(kernel)\n",
    "#samples = arrays.sampleRegions(collection=survey_fc)\n",
    "\n",
    "# ee.batch.Export.table.toCloudStorage\n",
    "# ee.batch.Export.table.toDrive\n",
    "# Export.table.toDrive\n",
    "#mytask = ee.batch.Export.table.toDrive(\n",
    "# collection = samples,\n",
    "# fileFormat = 'TFRecord',\n",
    "# description = 'test123',\n",
    "# folder = 'gee_extracts',\n",
    "# selectors = [b_b, g_b, r_b, 'NDVI', 'BU'] + ['uid', 'ntl_group'])\n",
    "\n",
    "#return mytask\n",
    "\n",
    "# OLD ---------\n",
    "# Extract values from GEE   \n",
    "values_ee = arrays.sample(\n",
    "  region = survey_fc, \n",
    "  scale = SCALE,\n",
    "  tileScale = 12 # 8\n",
    ")\n",
    "\n",
    "dict_ee = values_ee.getInfo()\n",
    "\n",
    "# Convert values to numpy array\n",
    "n_rows = survey_df.shape[0]\n",
    "daytime_f = dict_ee['features']\n",
    "\n",
    "# Extract data\n",
    "out_ex_proto_list = ee_to_np_daytime(daytime_f, survey_df, n_rows, b_b, g_b, r_b)\n"
   ]
  },
  {
   "cell_type": "code",
   "execution_count": null,
   "metadata": {},
   "outputs": [],
   "source": []
  },
  {
   "cell_type": "code",
   "execution_count": null,
   "metadata": {},
   "outputs": [],
   "source": [
    "def prep_cnn_np(survey_df,\n",
    "                satellite_name,\n",
    "                kernel_size,\n",
    "                year):\n",
    "    '''\n",
    "    Creates numpy arrays for CNN\n",
    "\n",
    "    Input:  df - pandas dataframe\n",
    "            lat_name - name of latitude variable in df\n",
    "            lon_name - name of longitude variable in df\n",
    "    Output: geopandas dataframe\n",
    "    '''\n",
    "\n",
    "    # Setup --------------------------------------------------------------------\n",
    "    # Survey to FeatureCollection  \n",
    "    survey_fc = survey_to_fc(survey_df)\n",
    "\n",
    "    # Define kernel for neighborhood array\n",
    "    list = ee.List.repeat(1, kernel_size)\n",
    "    lists = ee.List.repeat(list, kernel_size)\n",
    "    kernel = ee.Kernel.fixed(kernel_size, kernel_size, lists)\n",
    "    \n",
    "    # Define satellite\n",
    "    if satellite_name == 's2':\n",
    "        satellite = 's2'\n",
    "    elif satellite_name == 'landsat':\n",
    "        if year >= 2014:\n",
    "            satellite = 'l8'\n",
    "        else:\n",
    "            satellite = 'l7'\n",
    "            \n",
    "    # Define scale\n",
    "    if satellite in ['l7', 'l8']:\n",
    "        SCALE = 30\n",
    "    elif satellite in ['s2']: \n",
    "        SCALE = 10\n",
    "\n",
    "    # Prep NTL -----------------------------------------------------------------\n",
    "    \n",
    "    # Year\n",
    "    # VIIRS starts in 2012. At minimum, use 2013 to have year before and after\n",
    "    #if False:\n",
    "    #    if year <= 2013:\n",
    "    #        year_use = 2013\n",
    "    #    else:\n",
    "    #        year_use = year\n",
    "\n",
    "    #    year_plus = year_use + 1\n",
    "    #    year_minus = year_use - 1\n",
    "\n",
    "    #    year_minus_str = str(year_minus) + '-01-01'\n",
    "    #    year_plus_str = str(year_plus) + '-12-31'\n",
    "\n",
    "        # Reduce image collection\n",
    "    #    ntl_image = ee.ImageCollection('NOAA/VIIRS/DNB/MONTHLY_V1/VCMCFG')\\\n",
    "    #        .filterDate(year_minus_str, year_plus_str)\\\n",
    "    #        .median()\n",
    "\n",
    "        # Select Bands  \n",
    "    #    ntl_image = ntl_image.select(['avg_rad'])\n",
    "\n",
    "        # Image to neighborhood array\n",
    "    #    ntl_arrays = ntl_image.neighborhoodToArray(kernel)\n",
    "\n",
    "        # Extract values from GEE    \n",
    "    #    ntl_values_ee = ntl_arrays.sample(\n",
    "    #      region = survey_fc, \n",
    "    #      scale = SCALE,\n",
    "    #      tileScale = 10 #8\n",
    "    #    )\n",
    "\n",
    "    #    ntl_dict_ee = ntl_values_ee.getInfo()\n",
    "\n",
    "        # Convert values to numpy array\n",
    "        #n_rows = survey_df.shape[0]\n",
    "    #    ntl_f = ntl_dict_ee['features']    \n",
    "        \n",
    "    # l7 ----------------------------------------------------------------\n",
    "    if satellite == \"l7\":\n",
    "        \n",
    "        # Bands\n",
    "        b_b = 'B1'\n",
    "        g_b = 'B2' \n",
    "        r_b = 'B3' \n",
    "        nir_b = 'B4'\n",
    "        swir_b = 'B5'\n",
    "        #other_bs = ['B5', 'B6', 'B7']\n",
    "        \n",
    "        #BANDS = single_bs.copy()\n",
    "        BANDS = [b_b].copy()\n",
    "        BANDS.append(g_b)\n",
    "        BANDS.append(r_b)\n",
    "        BANDS.append(nir_b)\n",
    "        BANDS.append(swir_b)\n",
    "        \n",
    "        # Year\n",
    "        # landsat 8 starts in May 1999; if year is less than\n",
    "        # 2000, use 2000 as year (to ensure have year before and after)\n",
    "        if year < 2000:\n",
    "            year_use = 2000\n",
    "        else:\n",
    "            year_use = year\n",
    "\n",
    "        # Year\n",
    "        year_use = year\n",
    "        \n",
    "        year_plus = year_use + 1\n",
    "        year_minus = year_use - 1\n",
    "        \n",
    "        year_minus_str = str(year_minus) + '-01-01'\n",
    "        year_plus_str = str(year_plus) + '-12-31'\n",
    "        \n",
    "        image = ee.ImageCollection('LANDSAT/LC07/C01/T1_SR')\\\n",
    "            .filterDate(year_minus_str, year_plus_str)\\\n",
    "            .map(cloud_mask_landsatSR)\\\n",
    "            .median() #\\\n",
    "            #.multiply(0.0001)\n",
    "    \n",
    "    # l8 ----------------------------------------------------------------\n",
    "    if satellite == \"l8\":\n",
    "                \n",
    "        # Bands\n",
    "        # FOR COLLECTION 2\n",
    "        #b_b = 'SR_B2'\n",
    "        #g_b = 'SR_B3' \n",
    "        #r_b = 'SR_B4' \n",
    "        #nir_b = 'SR_B5'\n",
    "        #other_bs = ['SR_B6', 'SR_B7', 'ST_B10']\n",
    "        \n",
    "        # FOR COLLECTION 1\n",
    "        b_b = 'B2'\n",
    "        g_b = 'B3' \n",
    "        r_b = 'B4' \n",
    "        nir_b = 'B5'\n",
    "        swir_b = 'B6'\n",
    "        #other_bs = ['B6', 'B7', 'B10']\n",
    "        \n",
    "        #BANDS = single_bs.copy()\n",
    "        BANDS = [b_b].copy()\n",
    "        BANDS.append(g_b)\n",
    "        BANDS.append(r_b)\n",
    "        BANDS.append(nir_b)\n",
    "        BANDS.append(swir_b)\n",
    "\n",
    "        # Year\n",
    "        # landsat 8 starts in April 2013; if year is less than\n",
    "        # 2014, use 2014 as year (to ensure have year before and after)\n",
    "        if year < 2014:\n",
    "            year_use = 2014\n",
    "        else:\n",
    "            year_use = year\n",
    "                    \n",
    "        year_plus = year_use + 1\n",
    "        year_minus = year_use - 1\n",
    "        \n",
    "        year_minus_str = str(year_minus) + '-01-01'\n",
    "        year_plus_str = str(year_plus) + '-12-31'\n",
    "        \n",
    "        #image = ee.ImageCollection('LANDSAT/LC08/C02/T1_L2')\\\n",
    "        #    .filterDate(year_minus_str, year_plus_str)\\\n",
    "        #    #.map(cloud_mask_landsatSR)\\ #TODO cloud_mask_landsatSR doesn't work with landsat collection 2\n",
    "        #    .median() #\\\n",
    "        #    #.multiply(0.0001)\n",
    "        \n",
    "        image = ee.ImageCollection('LANDSAT/LC08/C01/T1_SR')\\\n",
    "            .filterDate(year_minus_str, year_plus_str)\\\n",
    "            .map(cloud_mask_landsatSR)\\\n",
    "            .median()\n",
    "        \n",
    "        #image = ee.ImageCollection('LANDSAT/LC08/C02/T1_L2')\\\n",
    "        #    .filterDate(year_minus_str, year_plus_str)\\\n",
    "        #    .median()\n",
    "            \n",
    "    # s2 ----------------------------------------------------------------\n",
    "    if satellite == \"s2\":\n",
    "        \n",
    "        # Bands\n",
    "        b_b = 'B2'\n",
    "        g_b = 'B3' \n",
    "        r_b = 'B4' \n",
    "        nir_b = 'B8'\n",
    "        swir_b = 'B11'\n",
    "        #other_bs = ['B5', 'B6', 'B7', 'B8A', 'B11', 'B12', 'AOT']\n",
    "     \n",
    "        #BANDS = single_bs.copy()\n",
    "        BANDS = [b_b].copy()\n",
    "        BANDS.append(g_b)\n",
    "        BANDS.append(r_b)\n",
    "        BANDS.append(nir_b)\n",
    "        BANDS.append(swir_b)\n",
    "        \n",
    "        # Year\n",
    "        # sentinel starts in March 2017; juse use 2018\n",
    "        year_use = 2019\n",
    "                    \n",
    "        year_plus = year_use + 1\n",
    "        year_minus = year_use - 1\n",
    "        \n",
    "        year_minus_str = str(year_minus) + '-01-01'\n",
    "        year_plus_str = str(year_plus) + '-12-31'\n",
    "\n",
    "        # Number of bands changes in sentinel, so need to select here before aggregate\n",
    "        # https://gis.stackexchange.com/questions/374010/gee-tile-error-expected-a-homogeneous-image-collection-but-an-image-with-incom\n",
    "        image = ee.ImageCollection('COPERNICUS/S2_SR')\\\n",
    "            .filterDate(year_minus_str, year_plus_str)\\\n",
    "            .map(cloud_mask_sentinel2)\\\n",
    "            .select(BANDS)\\\n",
    "            .median() # \\\n",
    "            #.multiply(0.0001)\n",
    "\n",
    "    # Select Bands\n",
    "    image = image.select(BANDS)\n",
    "    \n",
    "    # Create Indices\n",
    "    # https://www.linkedin.com/pulse/ndvi-ndbi-ndwi-calculation-using-landsat-7-8-tek-bahadur-kshetri\n",
    "    ndvi = image.normalizedDifference([nir_b, r_b]).rename('NDVI');\n",
    "    ndbi = image.normalizedDifference([swir_b, nir_b]).rename('NDBI');\n",
    "    image = image.addBands(ndvi)\n",
    "    image = image.addBands(ndbi)\n",
    "        \n",
    "    bu = image.select('NDBI').subtract(image.select('NDVI')).rename('BU')\n",
    "    image = image.addBands(bu)\n",
    "        \n",
    "    # Subset bands; don't need those used to create NDVI and NDBI\n",
    "    image = image.select([b_b, g_b, r_b, 'NDVI', 'BU'])\n",
    "        \n",
    "    # Image to neighborhood array\n",
    "    arrays = image.neighborhoodToArray(kernel)\n",
    "    \n",
    "    # New ---------\n",
    "    #neighborhoodImage = myImageToBeSampled.neighborhoodToArray(kernel)\n",
    "    #samples = arrays.sampleRegions(collection=survey_fc)\n",
    "    \n",
    "    # ee.batch.Export.table.toCloudStorage\n",
    "    # ee.batch.Export.table.toDrive\n",
    "    # Export.table.toDrive\n",
    "    #mytask = ee.batch.Export.table.toDrive(\n",
    "    # collection = samples,\n",
    "    # fileFormat = 'TFRecord',\n",
    "    # description = 'test123',\n",
    "    # folder = 'gee_extracts',\n",
    "    # selectors = [b_b, g_b, r_b, 'NDVI', 'BU'] + ['uid', 'ntl_group'])\n",
    "    \n",
    "    #return mytask\n",
    "\n",
    "    # OLD ---------\n",
    "    # Extract values from GEE   \n",
    "    values_ee = arrays.sample(\n",
    "      region = survey_fc, \n",
    "      scale = SCALE,\n",
    "      tileScale = 12 # 8\n",
    "    )\n",
    "    \n",
    "    dict_ee = values_ee.getInfo()\n",
    "     \n",
    "    # Convert values to numpy array\n",
    "    n_rows = survey_df.shape[0]\n",
    "    daytime_f = dict_ee['features']\n",
    "    \n",
    "    # Extract data\n",
    "    out_ex_proto_list = ee_to_np_daytime(daytime_f, survey_df, n_rows, b_b, g_b, r_b)\n",
    "    \n",
    "    return out_ex_proto_list\n"
   ]
  },
  {
   "cell_type": "code",
   "execution_count": 13,
   "metadata": {},
   "outputs": [
    {
     "ename": "AttributeError",
     "evalue": "module 'tensorflow' has no attribute 'encode_png'",
     "output_type": "error",
     "traceback": [
      "\u001b[0;31m---------------------------------------------------------------------------\u001b[0m",
      "\u001b[0;31mAttributeError\u001b[0m                            Traceback (most recent call last)",
      "\u001b[0;32m/var/folders/m1/8h14xfm56hd6qfgz6btm1rd80000gn/T/ipykernel_56214/3462283977.py\u001b[0m in \u001b[0;36m<module>\u001b[0;34m\u001b[0m\n\u001b[0;32m----> 1\u001b[0;31m \u001b[0mbndvi_np_tf\u001b[0m \u001b[0;34m=\u001b[0m \u001b[0mtf\u001b[0m\u001b[0;34m.\u001b[0m\u001b[0mencode_png\u001b[0m\u001b[0;34m(\u001b[0m\u001b[0mbndvi_np\u001b[0m\u001b[0;34m,\u001b[0m \u001b[0mcompression\u001b[0m \u001b[0;34m=\u001b[0m \u001b[0;36m9\u001b[0m\u001b[0;34m)\u001b[0m\u001b[0;34m\u001b[0m\u001b[0;34m\u001b[0m\u001b[0m\n\u001b[0m",
      "\u001b[0;31mAttributeError\u001b[0m: module 'tensorflow' has no attribute 'encode_png'"
     ]
    }
   ],
   "source": [
    "bndvi_np_tf = tf.io.encode_png(bndvi_np, compression = 9)"
   ]
  },
  {
   "cell_type": "code",
   "execution_count": 14,
   "metadata": {},
   "outputs": [
    {
     "ename": "NameError",
     "evalue": "name 'bndvi_np' is not defined",
     "output_type": "error",
     "traceback": [
      "\u001b[0;31m---------------------------------------------------------------------------\u001b[0m",
      "\u001b[0;31mNameError\u001b[0m                                 Traceback (most recent call last)",
      "\u001b[0;32m/var/folders/m1/8h14xfm56hd6qfgz6btm1rd80000gn/T/ipykernel_56214/333035388.py\u001b[0m in \u001b[0;36m<module>\u001b[0;34m\u001b[0m\n\u001b[0;32m----> 1\u001b[0;31m \u001b[0mbndvi_np\u001b[0m\u001b[0;34m\u001b[0m\u001b[0;34m\u001b[0m\u001b[0m\n\u001b[0m",
      "\u001b[0;31mNameError\u001b[0m: name 'bndvi_np' is not defined"
     ]
    }
   ],
   "source": [
    "tf.io."
   ]
  },
  {
   "cell_type": "code",
   "execution_count": null,
   "metadata": {},
   "outputs": [],
   "source": []
  },
  {
   "cell_type": "code",
   "execution_count": null,
   "metadata": {},
   "outputs": [],
   "source": []
  },
  {
   "cell_type": "code",
   "execution_count": null,
   "metadata": {},
   "outputs": [],
   "source": []
  },
  {
   "cell_type": "code",
   "execution_count": null,
   "metadata": {},
   "outputs": [],
   "source": []
  },
  {
   "cell_type": "code",
   "execution_count": null,
   "metadata": {},
   "outputs": [],
   "source": []
  },
  {
   "cell_type": "code",
   "execution_count": null,
   "metadata": {},
   "outputs": [],
   "source": []
  },
  {
   "cell_type": "code",
   "execution_count": null,
   "metadata": {},
   "outputs": [],
   "source": []
  },
  {
   "cell_type": "code",
   "execution_count": null,
   "metadata": {},
   "outputs": [],
   "source": []
  },
  {
   "cell_type": "code",
   "execution_count": 9,
   "metadata": {},
   "outputs": [
    {
     "name": "stderr",
     "output_type": "stream",
     "text": [
      "/Users/robmarty/anaconda3/lib/python3.7/site-packages/ipykernel_launcher.py:13: SettingWithCopyWarning: \n",
      "A value is trying to be set on a copy of a slice from a DataFrame.\n",
      "Try using .loc[row_indexer,col_indexer] = value instead\n",
      "\n",
      "See the caveats in the documentation: https://pandas.pydata.org/pandas-docs/stable/user_guide/indexing.html#returning-a-view-versus-a-copy\n",
      "  del sys.path[0]\n"
     ]
    },
    {
     "name": "stdout",
     "output_type": "stream",
     "text": [
      "Putting 66 observations into forcnn_AL_1_1_all.tfrecord\n",
      "Observation: 0/66\n",
      "Observation: 1/66\n",
      "Observation: 2/66\n",
      "Observation: 3/66\n",
      "Error!\n"
     ]
    },
    {
     "name": "stderr",
     "output_type": "stream",
     "text": [
      "ERROR:root:Internal Python error in the inspect module.\n",
      "Below is the traceback from this internal error.\n",
      "\n",
      "ERROR:root:Internal Python error in the inspect module.\n",
      "Below is the traceback from this internal error.\n",
      "\n"
     ]
    },
    {
     "name": "stdout",
     "output_type": "stream",
     "text": [
      "Traceback (most recent call last):\n",
      "  File \"/Users/robmarty/anaconda3/lib/python3.7/site-packages/urllib3/connectionpool.py\", line 377, in _make_request\n",
      "    httplib_response = conn.getresponse(buffering=True)\n",
      "TypeError: getresponse() got an unexpected keyword argument 'buffering'\n",
      "\n",
      "During handling of the above exception, another exception occurred:\n",
      "\n",
      "Traceback (most recent call last):\n",
      "  File \"<ipython-input-9-35e4ef9beeda>\", line 32, in <module>\n",
      "    proto_examples_i = utils.prep_cnn_np(survey_df_yeari_chunki, SATELLITE, KERNEL_SIZE, year_i)\n",
      "  File \"/Users/robmarty/Documents/Github/Pakistan-Poverty-from-Sky/DataWork/02_get_process_ancillary_data/CNN Features Predict NTL/ee_utils.py\", line 443, in prep_cnn_np\n",
      "    dict_ee = values_ee.getInfo()\n",
      "  File \"/Users/robmarty/anaconda3/lib/python3.7/site-packages/ee/collection.py\", line 127, in getInfo\n",
      "    return super(Collection, self).getInfo()\n",
      "  File \"/Users/robmarty/anaconda3/lib/python3.7/site-packages/ee/computedobject.py\", line 98, in getInfo\n",
      "    return data.computeValue(self)\n",
      "  File \"/Users/robmarty/anaconda3/lib/python3.7/site-packages/ee/data.py\", line 678, in computeValue\n",
      "    prettyPrint=False))['result']\n",
      "  File \"/Users/robmarty/anaconda3/lib/python3.7/site-packages/ee/data.py\", line 334, in _execute_cloud_call\n",
      "    return call.execute(num_retries=num_retries)\n",
      "  File \"/Users/robmarty/anaconda3/lib/python3.7/site-packages/googleapiclient/_helpers.py\", line 134, in positional_wrapper\n",
      "    return wrapped(*args, **kwargs)\n",
      "  File \"/Users/robmarty/anaconda3/lib/python3.7/site-packages/googleapiclient/http.py\", line 909, in execute\n",
      "    headers=self.headers,\n",
      "  File \"/Users/robmarty/anaconda3/lib/python3.7/site-packages/googleapiclient/http.py\", line 177, in _retry_request\n",
      "    resp, content = http.request(uri, method, *args, **kwargs)\n",
      "  File \"/Users/robmarty/anaconda3/lib/python3.7/site-packages/google_auth_httplib2.py\", line 198, in request\n",
      "    uri, method, body=body, headers=request_headers, **kwargs)\n",
      "  File \"/Users/robmarty/anaconda3/lib/python3.7/site-packages/httplib2/__init__.py\", line 1726, in request\n",
      "    conn, authority, uri, request_uri, method, body, headers, redirections, cachekey,\n",
      "  File \"/Users/robmarty/anaconda3/lib/python3.7/site-packages/httplib2/__init__.py\", line 1441, in _request\n",
      "    (response, content) = self._conn_request(conn, request_uri, method, body, headers)\n",
      "  File \"/Users/robmarty/anaconda3/lib/python3.7/site-packages/httplib2shim/__init__.py\", line 148, in _conn_request\n",
      "    decode_content=decode)\n",
      "  File \"/Users/robmarty/anaconda3/lib/python3.7/site-packages/urllib3/request.py\", line 72, in request\n",
      "    **urlopen_kw)\n",
      "  File \"/Users/robmarty/anaconda3/lib/python3.7/site-packages/urllib3/request.py\", line 150, in request_encode_body\n",
      "    return self.urlopen(method, url, **extra_kw)\n",
      "  File \"/Users/robmarty/anaconda3/lib/python3.7/site-packages/urllib3/poolmanager.py\", line 324, in urlopen\n",
      "    response = conn.urlopen(method, u.request_uri, **kw)\n",
      "  File \"/Users/robmarty/anaconda3/lib/python3.7/site-packages/urllib3/connectionpool.py\", line 600, in urlopen\n",
      "    chunked=chunked)\n",
      "  File \"/Users/robmarty/anaconda3/lib/python3.7/site-packages/urllib3/connectionpool.py\", line 380, in _make_request\n",
      "    httplib_response = conn.getresponse()\n",
      "  File \"/Users/robmarty/anaconda3/lib/python3.7/http/client.py\", line 1321, in getresponse\n",
      "    response.begin()\n",
      "  File \"/Users/robmarty/anaconda3/lib/python3.7/http/client.py\", line 296, in begin\n",
      "    version, status, reason = self._read_status()\n",
      "  File \"/Users/robmarty/anaconda3/lib/python3.7/http/client.py\", line 257, in _read_status\n",
      "    line = str(self.fp.readline(_MAXLINE + 1), \"iso-8859-1\")\n",
      "  File \"/Users/robmarty/anaconda3/lib/python3.7/socket.py\", line 589, in readinto\n",
      "    return self._sock.recv_into(b)\n",
      "  File \"/Users/robmarty/anaconda3/lib/python3.7/ssl.py\", line 1052, in recv_into\n",
      "    return self.read(nbytes, buffer)\n",
      "  File \"/Users/robmarty/anaconda3/lib/python3.7/ssl.py\", line 911, in read\n",
      "    return self._sslobj.read(len, buffer)\n",
      "KeyboardInterrupt\n",
      "\n",
      "During handling of the above exception, another exception occurred:\n",
      "\n",
      "Traceback (most recent call last):\n",
      "  File \"/Users/robmarty/anaconda3/lib/python3.7/site-packages/IPython/core/interactiveshell.py\", line 3291, in run_code\n",
      "    exec(code_obj, self.user_global_ns, self.user_ns)\n",
      "  File \"<ipython-input-9-35e4ef9beeda>\", line 39, in <module>\n",
      "    time.sleep(10)\n",
      "KeyboardInterrupt\n",
      "\n",
      "During handling of the above exception, another exception occurred:\n",
      "\n",
      "Traceback (most recent call last):\n",
      "  File \"/Users/robmarty/anaconda3/lib/python3.7/site-packages/IPython/core/interactiveshell.py\", line 2033, in showtraceback\n",
      "    stb = value._render_traceback_()\n",
      "AttributeError: 'KeyboardInterrupt' object has no attribute '_render_traceback_'\n",
      "\n",
      "During handling of the above exception, another exception occurred:\n",
      "\n",
      "Traceback (most recent call last):\n",
      "  File \"/Users/robmarty/anaconda3/lib/python3.7/site-packages/IPython/core/ultratb.py\", line 1095, in get_records\n",
      "    return _fixed_getinnerframes(etb, number_of_lines_of_context, tb_offset)\n",
      "  File \"/Users/robmarty/anaconda3/lib/python3.7/site-packages/IPython/core/ultratb.py\", line 313, in wrapped\n",
      "    return f(*args, **kwargs)\n",
      "  File \"/Users/robmarty/anaconda3/lib/python3.7/site-packages/IPython/core/ultratb.py\", line 347, in _fixed_getinnerframes\n",
      "    records = fix_frame_records_filenames(inspect.getinnerframes(etb, context))\n",
      "  File \"/Users/robmarty/anaconda3/lib/python3.7/inspect.py\", line 1502, in getinnerframes\n",
      "    frameinfo = (tb.tb_frame,) + getframeinfo(tb, context)\n",
      "  File \"/Users/robmarty/anaconda3/lib/python3.7/inspect.py\", line 1460, in getframeinfo\n",
      "    filename = getsourcefile(frame) or getfile(frame)\n",
      "  File \"/Users/robmarty/anaconda3/lib/python3.7/inspect.py\", line 696, in getsourcefile\n",
      "    if getattr(getmodule(object, filename), '__loader__', None) is not None:\n",
      "  File \"/Users/robmarty/anaconda3/lib/python3.7/inspect.py\", line 739, in getmodule\n",
      "    f = getabsfile(module)\n",
      "  File \"/Users/robmarty/anaconda3/lib/python3.7/inspect.py\", line 708, in getabsfile\n",
      "    _filename = getsourcefile(object) or getfile(object)\n",
      "  File \"/Users/robmarty/anaconda3/lib/python3.7/inspect.py\", line 684, in getsourcefile\n",
      "    filename = getfile(object)\n",
      "KeyboardInterrupt\n",
      "Traceback (most recent call last):\n",
      "  File \"/Users/robmarty/anaconda3/lib/python3.7/site-packages/urllib3/connectionpool.py\", line 377, in _make_request\n",
      "    httplib_response = conn.getresponse(buffering=True)\n",
      "TypeError: getresponse() got an unexpected keyword argument 'buffering'\n",
      "\n",
      "During handling of the above exception, another exception occurred:\n",
      "\n",
      "Traceback (most recent call last):\n",
      "  File \"<ipython-input-9-35e4ef9beeda>\", line 32, in <module>\n",
      "    proto_examples_i = utils.prep_cnn_np(survey_df_yeari_chunki, SATELLITE, KERNEL_SIZE, year_i)\n",
      "  File \"/Users/robmarty/Documents/Github/Pakistan-Poverty-from-Sky/DataWork/02_get_process_ancillary_data/CNN Features Predict NTL/ee_utils.py\", line 443, in prep_cnn_np\n",
      "    dict_ee = values_ee.getInfo()\n",
      "  File \"/Users/robmarty/anaconda3/lib/python3.7/site-packages/ee/collection.py\", line 127, in getInfo\n",
      "    return super(Collection, self).getInfo()\n",
      "  File \"/Users/robmarty/anaconda3/lib/python3.7/site-packages/ee/computedobject.py\", line 98, in getInfo\n",
      "    return data.computeValue(self)\n",
      "  File \"/Users/robmarty/anaconda3/lib/python3.7/site-packages/ee/data.py\", line 678, in computeValue\n",
      "    prettyPrint=False))['result']\n",
      "  File \"/Users/robmarty/anaconda3/lib/python3.7/site-packages/ee/data.py\", line 334, in _execute_cloud_call\n",
      "    return call.execute(num_retries=num_retries)\n",
      "  File \"/Users/robmarty/anaconda3/lib/python3.7/site-packages/googleapiclient/_helpers.py\", line 134, in positional_wrapper\n",
      "    return wrapped(*args, **kwargs)\n",
      "  File \"/Users/robmarty/anaconda3/lib/python3.7/site-packages/googleapiclient/http.py\", line 909, in execute\n",
      "    headers=self.headers,\n",
      "  File \"/Users/robmarty/anaconda3/lib/python3.7/site-packages/googleapiclient/http.py\", line 177, in _retry_request\n",
      "    resp, content = http.request(uri, method, *args, **kwargs)\n",
      "  File \"/Users/robmarty/anaconda3/lib/python3.7/site-packages/google_auth_httplib2.py\", line 198, in request\n",
      "    uri, method, body=body, headers=request_headers, **kwargs)\n",
      "  File \"/Users/robmarty/anaconda3/lib/python3.7/site-packages/httplib2/__init__.py\", line 1726, in request\n",
      "    conn, authority, uri, request_uri, method, body, headers, redirections, cachekey,\n",
      "  File \"/Users/robmarty/anaconda3/lib/python3.7/site-packages/httplib2/__init__.py\", line 1441, in _request\n",
      "    (response, content) = self._conn_request(conn, request_uri, method, body, headers)\n",
      "  File \"/Users/robmarty/anaconda3/lib/python3.7/site-packages/httplib2shim/__init__.py\", line 148, in _conn_request\n",
      "    decode_content=decode)\n",
      "  File \"/Users/robmarty/anaconda3/lib/python3.7/site-packages/urllib3/request.py\", line 72, in request\n",
      "    **urlopen_kw)\n",
      "  File \"/Users/robmarty/anaconda3/lib/python3.7/site-packages/urllib3/request.py\", line 150, in request_encode_body\n",
      "    return self.urlopen(method, url, **extra_kw)\n",
      "  File \"/Users/robmarty/anaconda3/lib/python3.7/site-packages/urllib3/poolmanager.py\", line 324, in urlopen\n",
      "    response = conn.urlopen(method, u.request_uri, **kw)\n",
      "  File \"/Users/robmarty/anaconda3/lib/python3.7/site-packages/urllib3/connectionpool.py\", line 600, in urlopen\n",
      "    chunked=chunked)\n",
      "  File \"/Users/robmarty/anaconda3/lib/python3.7/site-packages/urllib3/connectionpool.py\", line 380, in _make_request\n",
      "    httplib_response = conn.getresponse()\n",
      "  File \"/Users/robmarty/anaconda3/lib/python3.7/http/client.py\", line 1321, in getresponse\n",
      "    response.begin()\n",
      "  File \"/Users/robmarty/anaconda3/lib/python3.7/http/client.py\", line 296, in begin\n",
      "    version, status, reason = self._read_status()\n",
      "  File \"/Users/robmarty/anaconda3/lib/python3.7/http/client.py\", line 257, in _read_status\n",
      "    line = str(self.fp.readline(_MAXLINE + 1), \"iso-8859-1\")\n",
      "  File \"/Users/robmarty/anaconda3/lib/python3.7/socket.py\", line 589, in readinto\n",
      "    return self._sock.recv_into(b)\n",
      "  File \"/Users/robmarty/anaconda3/lib/python3.7/ssl.py\", line 1052, in recv_into\n",
      "    return self.read(nbytes, buffer)\n",
      "  File \"/Users/robmarty/anaconda3/lib/python3.7/ssl.py\", line 911, in read\n",
      "    return self._sslobj.read(len, buffer)\n",
      "KeyboardInterrupt\n",
      "\n",
      "During handling of the above exception, another exception occurred:\n",
      "\n",
      "Traceback (most recent call last):\n",
      "  File \"/Users/robmarty/anaconda3/lib/python3.7/site-packages/IPython/core/interactiveshell.py\", line 3291, in run_code\n",
      "    exec(code_obj, self.user_global_ns, self.user_ns)\n",
      "  File \"<ipython-input-9-35e4ef9beeda>\", line 39, in <module>\n",
      "    time.sleep(10)\n",
      "KeyboardInterrupt\n",
      "\n",
      "During handling of the above exception, another exception occurred:\n",
      "\n",
      "Traceback (most recent call last):\n",
      "  File \"/Users/robmarty/anaconda3/lib/python3.7/site-packages/IPython/core/interactiveshell.py\", line 2033, in showtraceback\n",
      "    stb = value._render_traceback_()\n",
      "AttributeError: 'KeyboardInterrupt' object has no attribute '_render_traceback_'\n",
      "\n",
      "During handling of the above exception, another exception occurred:\n",
      "\n",
      "Traceback (most recent call last):\n",
      "  File \"/Users/robmarty/anaconda3/lib/python3.7/site-packages/IPython/core/interactiveshell.py\", line 3209, in run_ast_nodes\n",
      "    if (yield from self.run_code(code, result)):\n",
      "  File \"/Users/robmarty/anaconda3/lib/python3.7/site-packages/IPython/core/interactiveshell.py\", line 3308, in run_code\n",
      "    self.showtraceback(running_compiled_code=True)\n",
      "  File \"/Users/robmarty/anaconda3/lib/python3.7/site-packages/IPython/core/interactiveshell.py\", line 2036, in showtraceback\n",
      "    value, tb, tb_offset=tb_offset)\n",
      "  File \"/Users/robmarty/anaconda3/lib/python3.7/site-packages/IPython/core/ultratb.py\", line 1379, in structured_traceback\n",
      "    self, etype, value, tb, tb_offset, number_of_lines_of_context)\n",
      "  File \"/Users/robmarty/anaconda3/lib/python3.7/site-packages/IPython/core/ultratb.py\", line 1282, in structured_traceback\n",
      "    self, etype, value, tb, tb_offset, number_of_lines_of_context\n",
      "  File \"/Users/robmarty/anaconda3/lib/python3.7/site-packages/IPython/core/ultratb.py\", line 1144, in structured_traceback\n",
      "    formatted_exceptions += self.prepare_chained_exception_message(evalue.__cause__)\n",
      "TypeError: can only concatenate str (not \"list\") to str\n",
      "\n",
      "During handling of the above exception, another exception occurred:\n",
      "\n",
      "Traceback (most recent call last):\n",
      "  File \"/Users/robmarty/anaconda3/lib/python3.7/site-packages/IPython/core/interactiveshell.py\", line 2033, in showtraceback\n",
      "    stb = value._render_traceback_()\n",
      "AttributeError: 'TypeError' object has no attribute '_render_traceback_'\n",
      "\n",
      "During handling of the above exception, another exception occurred:\n",
      "\n",
      "Traceback (most recent call last):\n",
      "  File \"/Users/robmarty/anaconda3/lib/python3.7/site-packages/IPython/core/ultratb.py\", line 1095, in get_records\n",
      "    return _fixed_getinnerframes(etb, number_of_lines_of_context, tb_offset)\n",
      "  File \"/Users/robmarty/anaconda3/lib/python3.7/site-packages/IPython/core/ultratb.py\", line 313, in wrapped\n",
      "    return f(*args, **kwargs)\n",
      "  File \"/Users/robmarty/anaconda3/lib/python3.7/site-packages/IPython/core/ultratb.py\", line 347, in _fixed_getinnerframes\n",
      "    records = fix_frame_records_filenames(inspect.getinnerframes(etb, context))\n",
      "  File \"/Users/robmarty/anaconda3/lib/python3.7/inspect.py\", line 1502, in getinnerframes\n",
      "    frameinfo = (tb.tb_frame,) + getframeinfo(tb, context)\n",
      "  File \"/Users/robmarty/anaconda3/lib/python3.7/inspect.py\", line 1460, in getframeinfo\n",
      "    filename = getsourcefile(frame) or getfile(frame)\n",
      "  File \"/Users/robmarty/anaconda3/lib/python3.7/inspect.py\", line 696, in getsourcefile\n",
      "    if getattr(getmodule(object, filename), '__loader__', None) is not None:\n",
      "  File \"/Users/robmarty/anaconda3/lib/python3.7/inspect.py\", line 742, in getmodule\n",
      "    os.path.realpath(f)] = module.__name__\n",
      "  File \"/Users/robmarty/anaconda3/lib/python3.7/posixpath.py\", line 395, in realpath\n",
      "    path, ok = _joinrealpath(filename[:0], filename, {})\n",
      "  File \"/Users/robmarty/anaconda3/lib/python3.7/posixpath.py\", line 428, in _joinrealpath\n",
      "    newpath = join(path, name)\n",
      "  File \"/Users/robmarty/anaconda3/lib/python3.7/posixpath.py\", line 75, in join\n",
      "    def join(a, *p):\n",
      "KeyboardInterrupt\n"
     ]
    },
    {
     "name": "stderr",
     "output_type": "stream",
     "text": [
      "ERROR:root:Internal Python error in the inspect module.\n",
      "Below is the traceback from this internal error.\n",
      "\n"
     ]
    },
    {
     "name": "stdout",
     "output_type": "stream",
     "text": [
      "Traceback (most recent call last):\n",
      "  File \"/Users/robmarty/anaconda3/lib/python3.7/site-packages/urllib3/connectionpool.py\", line 377, in _make_request\n",
      "    httplib_response = conn.getresponse(buffering=True)\n",
      "TypeError: getresponse() got an unexpected keyword argument 'buffering'\n",
      "\n",
      "During handling of the above exception, another exception occurred:\n",
      "\n",
      "Traceback (most recent call last):\n",
      "  File \"<ipython-input-9-35e4ef9beeda>\", line 32, in <module>\n",
      "    proto_examples_i = utils.prep_cnn_np(survey_df_yeari_chunki, SATELLITE, KERNEL_SIZE, year_i)\n",
      "  File \"/Users/robmarty/Documents/Github/Pakistan-Poverty-from-Sky/DataWork/02_get_process_ancillary_data/CNN Features Predict NTL/ee_utils.py\", line 443, in prep_cnn_np\n",
      "    dict_ee = values_ee.getInfo()\n",
      "  File \"/Users/robmarty/anaconda3/lib/python3.7/site-packages/ee/collection.py\", line 127, in getInfo\n",
      "    return super(Collection, self).getInfo()\n",
      "  File \"/Users/robmarty/anaconda3/lib/python3.7/site-packages/ee/computedobject.py\", line 98, in getInfo\n",
      "    return data.computeValue(self)\n",
      "  File \"/Users/robmarty/anaconda3/lib/python3.7/site-packages/ee/data.py\", line 678, in computeValue\n",
      "    prettyPrint=False))['result']\n",
      "  File \"/Users/robmarty/anaconda3/lib/python3.7/site-packages/ee/data.py\", line 334, in _execute_cloud_call\n",
      "    return call.execute(num_retries=num_retries)\n",
      "  File \"/Users/robmarty/anaconda3/lib/python3.7/site-packages/googleapiclient/_helpers.py\", line 134, in positional_wrapper\n",
      "    return wrapped(*args, **kwargs)\n",
      "  File \"/Users/robmarty/anaconda3/lib/python3.7/site-packages/googleapiclient/http.py\", line 909, in execute\n",
      "    headers=self.headers,\n",
      "  File \"/Users/robmarty/anaconda3/lib/python3.7/site-packages/googleapiclient/http.py\", line 177, in _retry_request\n",
      "    resp, content = http.request(uri, method, *args, **kwargs)\n",
      "  File \"/Users/robmarty/anaconda3/lib/python3.7/site-packages/google_auth_httplib2.py\", line 198, in request\n",
      "    uri, method, body=body, headers=request_headers, **kwargs)\n",
      "  File \"/Users/robmarty/anaconda3/lib/python3.7/site-packages/httplib2/__init__.py\", line 1726, in request\n",
      "    conn, authority, uri, request_uri, method, body, headers, redirections, cachekey,\n",
      "  File \"/Users/robmarty/anaconda3/lib/python3.7/site-packages/httplib2/__init__.py\", line 1441, in _request\n",
      "    (response, content) = self._conn_request(conn, request_uri, method, body, headers)\n",
      "  File \"/Users/robmarty/anaconda3/lib/python3.7/site-packages/httplib2shim/__init__.py\", line 148, in _conn_request\n",
      "    decode_content=decode)\n",
      "  File \"/Users/robmarty/anaconda3/lib/python3.7/site-packages/urllib3/request.py\", line 72, in request\n",
      "    **urlopen_kw)\n",
      "  File \"/Users/robmarty/anaconda3/lib/python3.7/site-packages/urllib3/request.py\", line 150, in request_encode_body\n",
      "    return self.urlopen(method, url, **extra_kw)\n",
      "  File \"/Users/robmarty/anaconda3/lib/python3.7/site-packages/urllib3/poolmanager.py\", line 324, in urlopen\n",
      "    response = conn.urlopen(method, u.request_uri, **kw)\n",
      "  File \"/Users/robmarty/anaconda3/lib/python3.7/site-packages/urllib3/connectionpool.py\", line 600, in urlopen\n",
      "    chunked=chunked)\n",
      "  File \"/Users/robmarty/anaconda3/lib/python3.7/site-packages/urllib3/connectionpool.py\", line 380, in _make_request\n",
      "    httplib_response = conn.getresponse()\n",
      "  File \"/Users/robmarty/anaconda3/lib/python3.7/http/client.py\", line 1321, in getresponse\n",
      "    response.begin()\n",
      "  File \"/Users/robmarty/anaconda3/lib/python3.7/http/client.py\", line 296, in begin\n",
      "    version, status, reason = self._read_status()\n",
      "  File \"/Users/robmarty/anaconda3/lib/python3.7/http/client.py\", line 257, in _read_status\n",
      "    line = str(self.fp.readline(_MAXLINE + 1), \"iso-8859-1\")\n",
      "  File \"/Users/robmarty/anaconda3/lib/python3.7/socket.py\", line 589, in readinto\n",
      "    return self._sock.recv_into(b)\n",
      "  File \"/Users/robmarty/anaconda3/lib/python3.7/ssl.py\", line 1052, in recv_into\n",
      "    return self.read(nbytes, buffer)\n",
      "  File \"/Users/robmarty/anaconda3/lib/python3.7/ssl.py\", line 911, in read\n",
      "    return self._sslobj.read(len, buffer)\n",
      "KeyboardInterrupt\n",
      "\n",
      "During handling of the above exception, another exception occurred:\n",
      "\n",
      "Traceback (most recent call last):\n",
      "  File \"/Users/robmarty/anaconda3/lib/python3.7/site-packages/IPython/core/interactiveshell.py\", line 3291, in run_code\n",
      "    exec(code_obj, self.user_global_ns, self.user_ns)\n",
      "  File \"<ipython-input-9-35e4ef9beeda>\", line 39, in <module>\n",
      "    time.sleep(10)\n",
      "KeyboardInterrupt\n",
      "\n",
      "During handling of the above exception, another exception occurred:\n",
      "\n",
      "Traceback (most recent call last):\n",
      "  File \"/Users/robmarty/anaconda3/lib/python3.7/site-packages/IPython/core/interactiveshell.py\", line 2033, in showtraceback\n",
      "    stb = value._render_traceback_()\n",
      "AttributeError: 'KeyboardInterrupt' object has no attribute '_render_traceback_'\n",
      "\n",
      "During handling of the above exception, another exception occurred:\n",
      "\n",
      "Traceback (most recent call last):\n",
      "  File \"/Users/robmarty/anaconda3/lib/python3.7/site-packages/IPython/core/interactiveshell.py\", line 3209, in run_ast_nodes\n",
      "    if (yield from self.run_code(code, result)):\n",
      "  File \"/Users/robmarty/anaconda3/lib/python3.7/site-packages/IPython/core/interactiveshell.py\", line 3308, in run_code\n",
      "    self.showtraceback(running_compiled_code=True)\n",
      "  File \"/Users/robmarty/anaconda3/lib/python3.7/site-packages/IPython/core/interactiveshell.py\", line 2036, in showtraceback\n",
      "    value, tb, tb_offset=tb_offset)\n",
      "  File \"/Users/robmarty/anaconda3/lib/python3.7/site-packages/IPython/core/ultratb.py\", line 1379, in structured_traceback\n",
      "    self, etype, value, tb, tb_offset, number_of_lines_of_context)\n",
      "  File \"/Users/robmarty/anaconda3/lib/python3.7/site-packages/IPython/core/ultratb.py\", line 1282, in structured_traceback\n",
      "    self, etype, value, tb, tb_offset, number_of_lines_of_context\n",
      "  File \"/Users/robmarty/anaconda3/lib/python3.7/site-packages/IPython/core/ultratb.py\", line 1144, in structured_traceback\n",
      "    formatted_exceptions += self.prepare_chained_exception_message(evalue.__cause__)\n",
      "TypeError: can only concatenate str (not \"list\") to str\n",
      "\n",
      "During handling of the above exception, another exception occurred:\n",
      "\n",
      "Traceback (most recent call last):\n",
      "  File \"/Users/robmarty/anaconda3/lib/python3.7/site-packages/IPython/core/interactiveshell.py\", line 2033, in showtraceback\n",
      "    stb = value._render_traceback_()\n",
      "AttributeError: 'TypeError' object has no attribute '_render_traceback_'\n",
      "\n",
      "During handling of the above exception, another exception occurred:\n",
      "\n",
      "Traceback (most recent call last):\n",
      "  File \"/Users/robmarty/anaconda3/lib/python3.7/site-packages/IPython/core/ultratb.py\", line 1095, in get_records\n",
      "    return _fixed_getinnerframes(etb, number_of_lines_of_context, tb_offset)\n",
      "  File \"/Users/robmarty/anaconda3/lib/python3.7/site-packages/IPython/core/ultratb.py\", line 313, in wrapped\n",
      "    return f(*args, **kwargs)\n",
      "  File \"/Users/robmarty/anaconda3/lib/python3.7/site-packages/IPython/core/ultratb.py\", line 347, in _fixed_getinnerframes\n",
      "    records = fix_frame_records_filenames(inspect.getinnerframes(etb, context))\n",
      "  File \"/Users/robmarty/anaconda3/lib/python3.7/inspect.py\", line 1502, in getinnerframes\n",
      "    frameinfo = (tb.tb_frame,) + getframeinfo(tb, context)\n",
      "  File \"/Users/robmarty/anaconda3/lib/python3.7/inspect.py\", line 1460, in getframeinfo\n",
      "    filename = getsourcefile(frame) or getfile(frame)\n",
      "  File \"/Users/robmarty/anaconda3/lib/python3.7/inspect.py\", line 696, in getsourcefile\n",
      "    if getattr(getmodule(object, filename), '__loader__', None) is not None:\n",
      "  File \"/Users/robmarty/anaconda3/lib/python3.7/inspect.py\", line 742, in getmodule\n",
      "    os.path.realpath(f)] = module.__name__\n",
      "  File \"/Users/robmarty/anaconda3/lib/python3.7/posixpath.py\", line 395, in realpath\n",
      "    path, ok = _joinrealpath(filename[:0], filename, {})\n",
      "  File \"/Users/robmarty/anaconda3/lib/python3.7/posixpath.py\", line 429, in _joinrealpath\n",
      "    if not islink(newpath):\n",
      "  File \"/Users/robmarty/anaconda3/lib/python3.7/posixpath.py\", line 171, in islink\n",
      "    st = os.lstat(path)\n",
      "KeyboardInterrupt\n"
     ]
    },
    {
     "ename": "TypeError",
     "evalue": "can only concatenate str (not \"list\") to str",
     "output_type": "error",
     "traceback": [
      "\u001b[0;31m---------------------------------------------------------------------------\u001b[0m",
      "\u001b[0;31mTypeError\u001b[0m                                 Traceback (most recent call last)",
      "\u001b[0;32m~/anaconda3/lib/python3.7/site-packages/urllib3/connectionpool.py\u001b[0m in \u001b[0;36m_make_request\u001b[0;34m(self, conn, method, url, timeout, chunked, **httplib_request_kw)\u001b[0m\n\u001b[1;32m    376\u001b[0m             \u001b[0;32mtry\u001b[0m\u001b[0;34m:\u001b[0m  \u001b[0;31m# Python 2.7, use buffering of HTTP responses\u001b[0m\u001b[0;34m\u001b[0m\u001b[0;34m\u001b[0m\u001b[0m\n\u001b[0;32m--> 377\u001b[0;31m                 \u001b[0mhttplib_response\u001b[0m \u001b[0;34m=\u001b[0m \u001b[0mconn\u001b[0m\u001b[0;34m.\u001b[0m\u001b[0mgetresponse\u001b[0m\u001b[0;34m(\u001b[0m\u001b[0mbuffering\u001b[0m\u001b[0;34m=\u001b[0m\u001b[0;32mTrue\u001b[0m\u001b[0;34m)\u001b[0m\u001b[0;34m\u001b[0m\u001b[0;34m\u001b[0m\u001b[0m\n\u001b[0m\u001b[1;32m    378\u001b[0m             \u001b[0;32mexcept\u001b[0m \u001b[0mTypeError\u001b[0m\u001b[0;34m:\u001b[0m  \u001b[0;31m# Python 3\u001b[0m\u001b[0;34m\u001b[0m\u001b[0;34m\u001b[0m\u001b[0m\n",
      "\u001b[0;31mTypeError\u001b[0m: getresponse() got an unexpected keyword argument 'buffering'",
      "\nDuring handling of the above exception, another exception occurred:\n",
      "\nDuring handling of the above exception, another exception occurred:\n",
      "\nDuring handling of the above exception, another exception occurred:\n",
      "\u001b[0;31mAttributeError\u001b[0m                            Traceback (most recent call last)",
      "\u001b[0;32m~/anaconda3/lib/python3.7/site-packages/IPython/core/interactiveshell.py\u001b[0m in \u001b[0;36mshowtraceback\u001b[0;34m(self, exc_tuple, filename, tb_offset, exception_only, running_compiled_code)\u001b[0m\n\u001b[1;32m   2032\u001b[0m                         \u001b[0;31m# in the engines. This should return a list of strings.\u001b[0m\u001b[0;34m\u001b[0m\u001b[0;34m\u001b[0m\u001b[0;34m\u001b[0m\u001b[0m\n\u001b[0;32m-> 2033\u001b[0;31m                         \u001b[0mstb\u001b[0m \u001b[0;34m=\u001b[0m \u001b[0mvalue\u001b[0m\u001b[0;34m.\u001b[0m\u001b[0m_render_traceback_\u001b[0m\u001b[0;34m(\u001b[0m\u001b[0;34m)\u001b[0m\u001b[0;34m\u001b[0m\u001b[0;34m\u001b[0m\u001b[0m\n\u001b[0m\u001b[1;32m   2034\u001b[0m                     \u001b[0;32mexcept\u001b[0m \u001b[0mException\u001b[0m\u001b[0;34m:\u001b[0m\u001b[0;34m\u001b[0m\u001b[0;34m\u001b[0m\u001b[0m\n",
      "\u001b[0;31mAttributeError\u001b[0m: 'KeyboardInterrupt' object has no attribute '_render_traceback_'",
      "\nDuring handling of the above exception, another exception occurred:\n",
      "\u001b[0;31mTypeError\u001b[0m                                 Traceback (most recent call last)",
      "\u001b[0;32m~/anaconda3/lib/python3.7/site-packages/IPython/core/interactiveshell.py\u001b[0m in \u001b[0;36mrun_code\u001b[0;34m(self, code_obj, result, async_)\u001b[0m\n\u001b[1;32m   3306\u001b[0m             \u001b[0;32mif\u001b[0m \u001b[0mresult\u001b[0m \u001b[0;32mis\u001b[0m \u001b[0;32mnot\u001b[0m \u001b[0;32mNone\u001b[0m\u001b[0;34m:\u001b[0m\u001b[0;34m\u001b[0m\u001b[0;34m\u001b[0m\u001b[0m\n\u001b[1;32m   3307\u001b[0m                 \u001b[0mresult\u001b[0m\u001b[0;34m.\u001b[0m\u001b[0merror_in_exec\u001b[0m \u001b[0;34m=\u001b[0m \u001b[0msys\u001b[0m\u001b[0;34m.\u001b[0m\u001b[0mexc_info\u001b[0m\u001b[0;34m(\u001b[0m\u001b[0;34m)\u001b[0m\u001b[0;34m[\u001b[0m\u001b[0;36m1\u001b[0m\u001b[0;34m]\u001b[0m\u001b[0;34m\u001b[0m\u001b[0;34m\u001b[0m\u001b[0m\n\u001b[0;32m-> 3308\u001b[0;31m             \u001b[0mself\u001b[0m\u001b[0;34m.\u001b[0m\u001b[0mshowtraceback\u001b[0m\u001b[0;34m(\u001b[0m\u001b[0mrunning_compiled_code\u001b[0m\u001b[0;34m=\u001b[0m\u001b[0;32mTrue\u001b[0m\u001b[0;34m)\u001b[0m\u001b[0;34m\u001b[0m\u001b[0;34m\u001b[0m\u001b[0m\n\u001b[0m\u001b[1;32m   3309\u001b[0m         \u001b[0;32melse\u001b[0m\u001b[0;34m:\u001b[0m\u001b[0;34m\u001b[0m\u001b[0;34m\u001b[0m\u001b[0m\n\u001b[1;32m   3310\u001b[0m             \u001b[0moutflag\u001b[0m \u001b[0;34m=\u001b[0m \u001b[0;32mFalse\u001b[0m\u001b[0;34m\u001b[0m\u001b[0;34m\u001b[0m\u001b[0m\n",
      "\u001b[0;32m~/anaconda3/lib/python3.7/site-packages/IPython/core/interactiveshell.py\u001b[0m in \u001b[0;36mshowtraceback\u001b[0;34m(self, exc_tuple, filename, tb_offset, exception_only, running_compiled_code)\u001b[0m\n\u001b[1;32m   2034\u001b[0m                     \u001b[0;32mexcept\u001b[0m \u001b[0mException\u001b[0m\u001b[0;34m:\u001b[0m\u001b[0;34m\u001b[0m\u001b[0;34m\u001b[0m\u001b[0m\n\u001b[1;32m   2035\u001b[0m                         stb = self.InteractiveTB.structured_traceback(etype,\n\u001b[0;32m-> 2036\u001b[0;31m                                             value, tb, tb_offset=tb_offset)\n\u001b[0m\u001b[1;32m   2037\u001b[0m \u001b[0;34m\u001b[0m\u001b[0m\n\u001b[1;32m   2038\u001b[0m                     \u001b[0mself\u001b[0m\u001b[0;34m.\u001b[0m\u001b[0m_showtraceback\u001b[0m\u001b[0;34m(\u001b[0m\u001b[0metype\u001b[0m\u001b[0;34m,\u001b[0m \u001b[0mvalue\u001b[0m\u001b[0;34m,\u001b[0m \u001b[0mstb\u001b[0m\u001b[0;34m)\u001b[0m\u001b[0;34m\u001b[0m\u001b[0;34m\u001b[0m\u001b[0m\n",
      "\u001b[0;32m~/anaconda3/lib/python3.7/site-packages/IPython/core/ultratb.py\u001b[0m in \u001b[0;36mstructured_traceback\u001b[0;34m(self, etype, value, tb, tb_offset, number_of_lines_of_context)\u001b[0m\n\u001b[1;32m   1377\u001b[0m         \u001b[0mself\u001b[0m\u001b[0;34m.\u001b[0m\u001b[0mtb\u001b[0m \u001b[0;34m=\u001b[0m \u001b[0mtb\u001b[0m\u001b[0;34m\u001b[0m\u001b[0;34m\u001b[0m\u001b[0m\n\u001b[1;32m   1378\u001b[0m         return FormattedTB.structured_traceback(\n\u001b[0;32m-> 1379\u001b[0;31m             self, etype, value, tb, tb_offset, number_of_lines_of_context)\n\u001b[0m\u001b[1;32m   1380\u001b[0m \u001b[0;34m\u001b[0m\u001b[0m\n\u001b[1;32m   1381\u001b[0m \u001b[0;34m\u001b[0m\u001b[0m\n",
      "\u001b[0;32m~/anaconda3/lib/python3.7/site-packages/IPython/core/ultratb.py\u001b[0m in \u001b[0;36mstructured_traceback\u001b[0;34m(self, etype, value, tb, tb_offset, number_of_lines_of_context)\u001b[0m\n\u001b[1;32m   1280\u001b[0m             \u001b[0;31m# Verbose modes need a full traceback\u001b[0m\u001b[0;34m\u001b[0m\u001b[0;34m\u001b[0m\u001b[0;34m\u001b[0m\u001b[0m\n\u001b[1;32m   1281\u001b[0m             return VerboseTB.structured_traceback(\n\u001b[0;32m-> 1282\u001b[0;31m                 \u001b[0mself\u001b[0m\u001b[0;34m,\u001b[0m \u001b[0metype\u001b[0m\u001b[0;34m,\u001b[0m \u001b[0mvalue\u001b[0m\u001b[0;34m,\u001b[0m \u001b[0mtb\u001b[0m\u001b[0;34m,\u001b[0m \u001b[0mtb_offset\u001b[0m\u001b[0;34m,\u001b[0m \u001b[0mnumber_of_lines_of_context\u001b[0m\u001b[0;34m\u001b[0m\u001b[0;34m\u001b[0m\u001b[0m\n\u001b[0m\u001b[1;32m   1283\u001b[0m             )\n\u001b[1;32m   1284\u001b[0m         \u001b[0;32melif\u001b[0m \u001b[0mmode\u001b[0m \u001b[0;34m==\u001b[0m \u001b[0;34m'Minimal'\u001b[0m\u001b[0;34m:\u001b[0m\u001b[0;34m\u001b[0m\u001b[0;34m\u001b[0m\u001b[0m\n",
      "\u001b[0;32m~/anaconda3/lib/python3.7/site-packages/IPython/core/ultratb.py\u001b[0m in \u001b[0;36mstructured_traceback\u001b[0;34m(self, etype, evalue, etb, tb_offset, number_of_lines_of_context)\u001b[0m\n\u001b[1;32m   1142\u001b[0m         \u001b[0mexception\u001b[0m \u001b[0;34m=\u001b[0m \u001b[0mself\u001b[0m\u001b[0;34m.\u001b[0m\u001b[0mget_parts_of_chained_exception\u001b[0m\u001b[0;34m(\u001b[0m\u001b[0mevalue\u001b[0m\u001b[0;34m)\u001b[0m\u001b[0;34m\u001b[0m\u001b[0;34m\u001b[0m\u001b[0m\n\u001b[1;32m   1143\u001b[0m         \u001b[0;32mif\u001b[0m \u001b[0mexception\u001b[0m\u001b[0;34m:\u001b[0m\u001b[0;34m\u001b[0m\u001b[0;34m\u001b[0m\u001b[0m\n\u001b[0;32m-> 1144\u001b[0;31m             \u001b[0mformatted_exceptions\u001b[0m \u001b[0;34m+=\u001b[0m \u001b[0mself\u001b[0m\u001b[0;34m.\u001b[0m\u001b[0mprepare_chained_exception_message\u001b[0m\u001b[0;34m(\u001b[0m\u001b[0mevalue\u001b[0m\u001b[0;34m.\u001b[0m\u001b[0m__cause__\u001b[0m\u001b[0;34m)\u001b[0m\u001b[0;34m\u001b[0m\u001b[0;34m\u001b[0m\u001b[0m\n\u001b[0m\u001b[1;32m   1145\u001b[0m             \u001b[0metype\u001b[0m\u001b[0;34m,\u001b[0m \u001b[0mevalue\u001b[0m\u001b[0;34m,\u001b[0m \u001b[0metb\u001b[0m \u001b[0;34m=\u001b[0m \u001b[0mexception\u001b[0m\u001b[0;34m\u001b[0m\u001b[0;34m\u001b[0m\u001b[0m\n\u001b[1;32m   1146\u001b[0m         \u001b[0;32melse\u001b[0m\u001b[0;34m:\u001b[0m\u001b[0;34m\u001b[0m\u001b[0;34m\u001b[0m\u001b[0m\n",
      "\u001b[0;31mTypeError\u001b[0m: can only concatenate str (not \"list\") to str"
     ]
    }
   ],
   "source": [
    "# DONT SKIP ERRORS\n",
    "if True:\n",
    "    ### Loop through all tfrecords\n",
    "    for tfr_i in tf_record_list:\n",
    "\n",
    "        # Sometimes we get computational time out errors. If occurs, just skip and go to next.\n",
    "        # We can then go back and rescrape missed ones.\n",
    "\n",
    "        survey_df_yeari = survey_df[survey_df['tfrecord_name'] == tfr_i]\n",
    "        year_i = survey_df_yeari['year'].iloc[0]\n",
    "\n",
    "        ### Loop through chunks within tfrecord (can only pull so much data from GEE at a time)\n",
    "        survey_df_yeari['chunk_id'] = utils.chunk_ids(survey_df_yeari.shape[0], CHUNK_SIZE)\n",
    "\n",
    "        print(\"Putting \" + str(survey_df_yeari.shape[0]) + \" observations into \" + tfr_i)\n",
    "\n",
    "        proto_examples_all = []\n",
    "        for chunk_i in list(np.unique(survey_df_yeari.chunk_id)):\n",
    "            #time.sleep(6)\n",
    "            \n",
    "            ## Sometimes we hit a memory error; try until we don't hit that\n",
    "            \n",
    "            # TODO: could say: try 3 times?\n",
    "            try_extract_data = True\n",
    "            while try_extract_data:\n",
    "                try:\n",
    "\n",
    "                    print(\"Observation: \" + str(len(proto_examples_all)) + \"/\" + str(survey_df_yeari.shape[0]))\n",
    "\n",
    "                    survey_df_yeari_chunki = survey_df_yeari[survey_df_yeari['chunk_id'] == chunk_i]\n",
    "\n",
    "                    proto_examples_i = utils.prep_cnn_np(survey_df_yeari_chunki, SATELLITE, KERNEL_SIZE, year_i)\n",
    "                    proto_examples_all.extend(proto_examples_i)\n",
    "                    \n",
    "                    try_extract_data = False\n",
    "                    \n",
    "                except:\n",
    "                    print(\"Error!\")\n",
    "                    time.sleep(10)\n",
    "                    pass\n",
    "            \n",
    "        ### Save data as tf record\n",
    "        out_path_i = os.path.join(out_path, tfr_i)\n",
    "        print(out_path_i)\n",
    "        with tf.io.TFRecordWriter(out_path_i) as writer:\n",
    "            for tf_example in proto_examples_all:\n",
    "                writer.write(tf_example.SerializeToString())\n",
    "\n",
    "        print(\"Success \\o/\")"
   ]
  },
  {
   "cell_type": "code",
   "execution_count": null,
   "metadata": {},
   "outputs": [],
   "source": [
    "# SKIP ERRORS\n",
    "\n",
    "### Loop through all tfrecords\n",
    "for tfr_i in tf_record_list:\n",
    "\n",
    "    # Sometimes we get computational time out errors. If occurs, just skip and go to next.\n",
    "    # We can then go back and rescrape missed ones.\n",
    "\n",
    "    survey_df_yeari = survey_df[survey_df['tfrecord_name'] == tfr_i]\n",
    "    year_i = survey_df_yeari['year'].iloc[0]\n",
    "\n",
    "    ### Loop through chunks within tfrecord (can only pull so much data from GEE at a time)\n",
    "    survey_df_yeari['chunk_id'] = utils.chunk_ids(survey_df_yeari.shape[0], CHUNK_SIZE)\n",
    "\n",
    "    print(\"Putting \" + str(survey_df_yeari.shape[0]) + \" observations into \" + tfr_i)\n",
    "\n",
    "    proto_examples_all = []\n",
    "    for chunk_i in list(np.unique(survey_df_yeari.chunk_id)):\n",
    "        ## Sometimes we hit a memory error; try until we don't hit that\n",
    "\n",
    "        # TODO: could say: try 3 times?\n",
    "        try_extract_data = 1\n",
    "        while try_extract_data < 4:\n",
    "            try:\n",
    "\n",
    "                print(\"Observation: \" + str(len(proto_examples_all)) + \"/\" + str(survey_df_yeari.shape[0]))\n",
    "\n",
    "                survey_df_yeari_chunki = survey_df_yeari[survey_df_yeari['chunk_id'] == chunk_i]\n",
    "\n",
    "                proto_examples_i = utils.prep_cnn_np(survey_df_yeari_chunki, SATELLITE, KERNEL_SIZE, year_i)\n",
    "                proto_examples_all.extend(proto_examples_i)\n",
    "                \n",
    "                try_extract_data = 10\n",
    "\n",
    "            except:\n",
    "                try_extract_data = try_extract_data + 1\n",
    "                print(\"Error!\")\n",
    "                print(try_extract_data)\n",
    "                print(survey_df_yeari_chunki['uid'])\n",
    "                time.sleep(5)\n",
    "                pass\n",
    "\n",
    "    ### Save data as tf record\n",
    "    out_path_i = os.path.join(out_path, tfr_i)\n",
    "    print(out_path_i)\n",
    "    with tf.io.TFRecordWriter(out_path_i) as writer:\n",
    "        for tf_example in proto_examples_all:\n",
    "            writer.write(tf_example.SerializeToString())\n",
    "\n",
    "    print(\"Success \\o/\")"
   ]
  },
  {
   "cell_type": "code",
   "execution_count": 15,
   "metadata": {
    "id": "c89pBOUXZT_V"
   },
   "outputs": [
    {
     "name": "stderr",
     "output_type": "stream",
     "text": [
      "/Users/robmarty/anaconda3/lib/python3.7/site-packages/ipykernel_launcher.py:13: SettingWithCopyWarning: \n",
      "A value is trying to be set on a copy of a slice from a DataFrame.\n",
      "Try using .loc[row_indexer,col_indexer] = value instead\n",
      "\n",
      "See the caveats in the documentation: https://pandas.pydata.org/pandas-docs/stable/user_guide/indexing.html#returning-a-view-versus-a-copy\n",
      "  del sys.path[0]\n"
     ]
    },
    {
     "name": "stdout",
     "output_type": "stream",
     "text": [
      "Putting 36 observations into forcnn_UG_4_1_all.tfrecord\n",
      "Observation: 0/36\n",
      "Observation: 1/36\n",
      "Observation: 2/36\n",
      "Observation: 3/36\n",
      "Observation: 4/36\n",
      "Observation: 5/36\n",
      "Error ---\n",
      "2161    UG201800000328\n",
      "Name: uid, dtype: object\n",
      "Putting 246 observations into nocnn_IA_4_10_all.tfrecord\n",
      "Observation: 0/246\n",
      "Observation: 1/246\n",
      "Observation: 2/246\n",
      "Observation: 3/246\n",
      "Observation: 4/246\n",
      "Observation: 5/246\n",
      "Observation: 6/246\n",
      "Observation: 7/246\n",
      "Observation: 8/246\n",
      "Observation: 9/246\n",
      "Observation: 10/246\n",
      "Observation: 11/246\n",
      "Observation: 12/246\n",
      "Observation: 13/246\n",
      "Observation: 14/246\n",
      "Observation: 15/246\n",
      "Observation: 16/246\n",
      "Observation: 17/246\n",
      "Observation: 18/246\n",
      "Observation: 19/246\n",
      "Observation: 20/246\n",
      "Observation: 21/246\n",
      "Observation: 22/246\n",
      "Observation: 23/246\n",
      "Observation: 24/246\n",
      "Observation: 25/246\n",
      "Observation: 26/246\n",
      "Observation: 27/246\n",
      "Observation: 28/246\n",
      "Observation: 29/246\n",
      "Observation: 30/246\n",
      "Observation: 31/246\n",
      "Observation: 32/246\n",
      "Observation: 33/246\n",
      "Observation: 34/246\n",
      "Observation: 35/246\n",
      "Observation: 36/246\n",
      "Observation: 37/246\n",
      "Observation: 38/246\n",
      "Observation: 39/246\n",
      "Observation: 40/246\n",
      "Observation: 41/246\n",
      "Observation: 42/246\n",
      "Observation: 43/246\n",
      "Observation: 44/246\n",
      "Observation: 45/246\n",
      "Observation: 46/246\n",
      "Observation: 47/246\n",
      "Observation: 48/246\n",
      "Observation: 49/246\n",
      "Observation: 50/246\n",
      "Observation: 51/246\n",
      "Observation: 52/246\n",
      "Observation: 53/246\n",
      "Observation: 54/246\n",
      "Observation: 55/246\n",
      "Observation: 56/246\n",
      "Observation: 57/246\n",
      "Observation: 58/246\n",
      "Observation: 59/246\n",
      "Observation: 60/246\n",
      "Observation: 61/246\n",
      "Observation: 62/246\n",
      "Observation: 63/246\n",
      "Observation: 64/246\n",
      "Observation: 65/246\n",
      "Observation: 66/246\n",
      "Observation: 67/246\n",
      "Observation: 68/246\n",
      "Observation: 69/246\n",
      "Observation: 70/246\n",
      "Observation: 71/246\n",
      "Observation: 72/246\n",
      "Observation: 73/246\n",
      "Observation: 74/246\n",
      "Observation: 75/246\n",
      "Observation: 76/246\n",
      "Observation: 77/246\n",
      "Observation: 78/246\n",
      "Observation: 79/246\n",
      "Observation: 80/246\n",
      "Observation: 81/246\n",
      "Observation: 82/246\n",
      "Observation: 83/246\n",
      "Observation: 84/246\n",
      "Observation: 85/246\n",
      "Observation: 86/246\n",
      "Observation: 87/246\n",
      "Observation: 88/246\n",
      "Observation: 89/246\n",
      "Observation: 90/246\n",
      "Observation: 91/246\n",
      "Observation: 92/246\n",
      "Observation: 93/246\n",
      "Observation: 94/246\n",
      "Observation: 95/246\n",
      "Observation: 96/246\n",
      "Observation: 97/246\n",
      "Observation: 98/246\n",
      "Observation: 99/246\n",
      "Observation: 100/246\n",
      "Observation: 101/246\n",
      "Observation: 102/246\n",
      "Observation: 103/246\n",
      "Observation: 104/246\n",
      "Observation: 105/246\n",
      "Observation: 106/246\n",
      "Observation: 107/246\n",
      "Observation: 108/246\n",
      "Observation: 109/246\n",
      "Observation: 110/246\n",
      "Observation: 111/246\n",
      "Observation: 112/246\n",
      "Observation: 113/246\n",
      "Observation: 114/246\n",
      "Observation: 115/246\n",
      "Observation: 116/246\n",
      "Observation: 117/246\n",
      "Observation: 118/246\n",
      "Observation: 119/246\n",
      "Observation: 120/246\n",
      "Observation: 121/246\n",
      "Observation: 122/246\n",
      "Observation: 123/246\n",
      "Observation: 124/246\n",
      "Observation: 125/246\n",
      "Observation: 126/246\n",
      "Observation: 127/246\n",
      "Observation: 128/246\n",
      "Observation: 129/246\n",
      "Observation: 130/246\n",
      "Observation: 131/246\n",
      "Observation: 132/246\n",
      "Observation: 133/246\n",
      "Observation: 134/246\n",
      "Observation: 135/246\n",
      "Observation: 136/246\n",
      "Observation: 137/246\n",
      "Observation: 138/246\n",
      "Observation: 139/246\n",
      "Observation: 140/246\n",
      "Observation: 141/246\n",
      "Observation: 142/246\n",
      "Observation: 143/246\n",
      "Observation: 144/246\n",
      "Observation: 145/246\n",
      "Observation: 146/246\n",
      "Observation: 147/246\n",
      "Observation: 148/246\n",
      "Observation: 149/246\n",
      "Observation: 150/246\n",
      "Observation: 151/246\n",
      "Observation: 152/246\n",
      "Observation: 153/246\n",
      "Observation: 154/246\n",
      "Observation: 155/246\n",
      "Observation: 156/246\n",
      "Observation: 157/246\n",
      "Observation: 158/246\n",
      "Observation: 159/246\n",
      "Observation: 160/246\n",
      "Observation: 161/246\n",
      "Observation: 162/246\n",
      "Observation: 163/246\n",
      "Observation: 164/246\n",
      "Observation: 165/246\n",
      "Observation: 166/246\n",
      "Observation: 167/246\n",
      "Observation: 168/246\n",
      "Observation: 169/246\n",
      "Observation: 170/246\n",
      "Observation: 171/246\n",
      "Observation: 172/246\n",
      "Observation: 173/246\n",
      "Observation: 174/246\n",
      "Observation: 175/246\n",
      "Observation: 176/246\n",
      "Observation: 177/246\n",
      "Observation: 178/246\n",
      "Observation: 179/246\n",
      "Observation: 180/246\n",
      "Observation: 181/246\n",
      "Observation: 182/246\n",
      "Observation: 183/246\n",
      "Observation: 184/246\n",
      "Observation: 185/246\n",
      "Observation: 186/246\n",
      "Observation: 187/246\n",
      "Observation: 188/246\n",
      "Observation: 189/246\n",
      "Observation: 190/246\n",
      "Observation: 191/246\n",
      "Observation: 192/246\n",
      "Observation: 193/246\n",
      "Observation: 194/246\n",
      "Observation: 195/246\n",
      "Observation: 196/246\n",
      "Observation: 197/246\n",
      "Observation: 198/246\n",
      "Observation: 199/246\n",
      "Observation: 200/246\n",
      "Observation: 201/246\n",
      "Observation: 202/246\n",
      "Observation: 203/246\n",
      "Observation: 204/246\n",
      "Observation: 205/246\n",
      "Observation: 206/246\n",
      "Observation: 207/246\n",
      "Observation: 208/246\n",
      "Observation: 209/246\n",
      "Observation: 210/246\n",
      "Observation: 211/246\n",
      "Observation: 212/246\n",
      "Observation: 213/246\n",
      "Observation: 214/246\n",
      "Observation: 215/246\n",
      "Observation: 216/246\n",
      "Observation: 217/246\n",
      "Observation: 218/246\n",
      "Observation: 219/246\n",
      "Observation: 220/246\n",
      "Observation: 221/246\n",
      "Observation: 222/246\n",
      "Observation: 223/246\n",
      "Observation: 224/246\n",
      "Observation: 225/246\n",
      "Observation: 226/246\n",
      "Observation: 227/246\n",
      "Observation: 228/246\n",
      "Observation: 229/246\n",
      "Observation: 230/246\n",
      "Observation: 231/246\n",
      "Observation: 232/246\n",
      "Observation: 233/246\n",
      "Observation: 234/246\n",
      "Observation: 235/246\n",
      "Observation: 236/246\n",
      "Observation: 237/246\n",
      "Observation: 238/246\n",
      "Observation: 239/246\n",
      "Observation: 240/246\n",
      "Observation: 241/246\n",
      "Observation: 242/246\n",
      "Observation: 243/246\n",
      "Observation: 244/246\n",
      "Observation: 245/246\n",
      "/Users/robmarty/Google Drive/World Bank/IEs/Pakistan Poverty Estimation/Data/DHS/FinalData/Individual Datasets/cnn_s2/tfrecords/nocnn_IA_4_10_all.tfrecord\n",
      "Success \\o/\n",
      "Putting 56 observations into nocnn_UG_4_1_all.tfrecord\n",
      "Observation: 0/56\n",
      "Observation: 1/56\n",
      "Observation: 2/56\n",
      "Observation: 3/56\n",
      "Observation: 4/56\n",
      "Observation: 5/56\n",
      "Observation: 6/56\n",
      "Observation: 7/56\n",
      "Observation: 8/56\n",
      "Observation: 9/56\n",
      "Observation: 10/56\n",
      "Observation: 11/56\n",
      "Observation: 12/56\n",
      "Observation: 13/56\n",
      "Observation: 14/56\n",
      "Error ---\n",
      "43304    UG201800000332\n",
      "Name: uid, dtype: object\n"
     ]
    }
   ],
   "source": []
  },
  {
   "cell_type": "code",
   "execution_count": null,
   "metadata": {
    "colab": {
     "base_uri": "https://localhost:8080/"
    },
    "id": "gfMKJ0ILXVZC",
    "outputId": "4c960a89-0028-4fdd-be62-5e7d0e073240"
   },
   "outputs": [],
   "source": []
  },
  {
   "cell_type": "code",
   "execution_count": 10,
   "metadata": {
    "colab": {
     "base_uri": "https://localhost:8080/",
     "height": 224
    },
    "id": "I6NhXtwo73AK",
    "outputId": "988398b3-4e62-4be2-8817-532af8d6f58e"
   },
   "outputs": [
    {
     "name": "stdout",
     "output_type": "stream",
     "text": [
      "0\n",
      "1\n",
      "2\n",
      "3\n",
      "4\n"
     ]
    },
    {
     "ename": "IndexError",
     "evalue": "positional indexers are out-of-bounds",
     "output_type": "error",
     "traceback": [
      "\u001b[0;31m---------------------------------------------------------------------------\u001b[0m",
      "\u001b[0;31mIndexError\u001b[0m                                Traceback (most recent call last)",
      "\u001b[0;32m~/anaconda3/lib/python3.7/site-packages/pandas/core/indexing.py\u001b[0m in \u001b[0;36m_get_list_axis\u001b[0;34m(self, key, axis)\u001b[0m\n\u001b[1;32m   2110\u001b[0m         \u001b[0;32mtry\u001b[0m\u001b[0;34m:\u001b[0m\u001b[0;34m\u001b[0m\u001b[0;34m\u001b[0m\u001b[0m\n\u001b[0;32m-> 2111\u001b[0;31m             \u001b[0;32mreturn\u001b[0m \u001b[0mself\u001b[0m\u001b[0;34m.\u001b[0m\u001b[0mobj\u001b[0m\u001b[0;34m.\u001b[0m\u001b[0m_take_with_is_copy\u001b[0m\u001b[0;34m(\u001b[0m\u001b[0mkey\u001b[0m\u001b[0;34m,\u001b[0m \u001b[0maxis\u001b[0m\u001b[0;34m=\u001b[0m\u001b[0maxis\u001b[0m\u001b[0;34m)\u001b[0m\u001b[0;34m\u001b[0m\u001b[0;34m\u001b[0m\u001b[0m\n\u001b[0m\u001b[1;32m   2112\u001b[0m         \u001b[0;32mexcept\u001b[0m \u001b[0mIndexError\u001b[0m\u001b[0;34m:\u001b[0m\u001b[0;34m\u001b[0m\u001b[0;34m\u001b[0m\u001b[0m\n",
      "\u001b[0;32m~/anaconda3/lib/python3.7/site-packages/pandas/core/generic.py\u001b[0m in \u001b[0;36m_take_with_is_copy\u001b[0;34m(self, indices, axis, **kwargs)\u001b[0m\n\u001b[1;32m   3408\u001b[0m         \"\"\"\n\u001b[0;32m-> 3409\u001b[0;31m         \u001b[0mresult\u001b[0m \u001b[0;34m=\u001b[0m \u001b[0mself\u001b[0m\u001b[0;34m.\u001b[0m\u001b[0mtake\u001b[0m\u001b[0;34m(\u001b[0m\u001b[0mindices\u001b[0m\u001b[0;34m=\u001b[0m\u001b[0mindices\u001b[0m\u001b[0;34m,\u001b[0m \u001b[0maxis\u001b[0m\u001b[0;34m=\u001b[0m\u001b[0maxis\u001b[0m\u001b[0;34m,\u001b[0m \u001b[0;34m**\u001b[0m\u001b[0mkwargs\u001b[0m\u001b[0;34m)\u001b[0m\u001b[0;34m\u001b[0m\u001b[0;34m\u001b[0m\u001b[0m\n\u001b[0m\u001b[1;32m   3410\u001b[0m         \u001b[0;31m# Maybe set copy if we didn't actually change the index.\u001b[0m\u001b[0;34m\u001b[0m\u001b[0;34m\u001b[0m\u001b[0;34m\u001b[0m\u001b[0m\n",
      "\u001b[0;32m~/anaconda3/lib/python3.7/site-packages/pandas/core/generic.py\u001b[0m in \u001b[0;36mtake\u001b[0;34m(self, indices, axis, is_copy, **kwargs)\u001b[0m\n\u001b[1;32m   3394\u001b[0m         new_data = self._data.take(\n\u001b[0;32m-> 3395\u001b[0;31m             \u001b[0mindices\u001b[0m\u001b[0;34m,\u001b[0m \u001b[0maxis\u001b[0m\u001b[0;34m=\u001b[0m\u001b[0mself\u001b[0m\u001b[0;34m.\u001b[0m\u001b[0m_get_block_manager_axis\u001b[0m\u001b[0;34m(\u001b[0m\u001b[0maxis\u001b[0m\u001b[0;34m)\u001b[0m\u001b[0;34m,\u001b[0m \u001b[0mverify\u001b[0m\u001b[0;34m=\u001b[0m\u001b[0;32mTrue\u001b[0m\u001b[0;34m\u001b[0m\u001b[0;34m\u001b[0m\u001b[0m\n\u001b[0m\u001b[1;32m   3396\u001b[0m         )\n",
      "\u001b[0;32m~/anaconda3/lib/python3.7/site-packages/pandas/core/internals/managers.py\u001b[0m in \u001b[0;36mtake\u001b[0;34m(self, indexer, axis, verify, convert)\u001b[0m\n\u001b[1;32m   1385\u001b[0m         \u001b[0;32mif\u001b[0m \u001b[0mconvert\u001b[0m\u001b[0;34m:\u001b[0m\u001b[0;34m\u001b[0m\u001b[0;34m\u001b[0m\u001b[0m\n\u001b[0;32m-> 1386\u001b[0;31m             \u001b[0mindexer\u001b[0m \u001b[0;34m=\u001b[0m \u001b[0mmaybe_convert_indices\u001b[0m\u001b[0;34m(\u001b[0m\u001b[0mindexer\u001b[0m\u001b[0;34m,\u001b[0m \u001b[0mn\u001b[0m\u001b[0;34m)\u001b[0m\u001b[0;34m\u001b[0m\u001b[0;34m\u001b[0m\u001b[0m\n\u001b[0m\u001b[1;32m   1387\u001b[0m \u001b[0;34m\u001b[0m\u001b[0m\n",
      "\u001b[0;32m~/anaconda3/lib/python3.7/site-packages/pandas/core/indexers.py\u001b[0m in \u001b[0;36mmaybe_convert_indices\u001b[0;34m(indices, n)\u001b[0m\n\u001b[1;32m    212\u001b[0m     \u001b[0;32mif\u001b[0m \u001b[0mmask\u001b[0m\u001b[0;34m.\u001b[0m\u001b[0many\u001b[0m\u001b[0;34m(\u001b[0m\u001b[0;34m)\u001b[0m\u001b[0;34m:\u001b[0m\u001b[0;34m\u001b[0m\u001b[0;34m\u001b[0m\u001b[0m\n\u001b[0;32m--> 213\u001b[0;31m         \u001b[0;32mraise\u001b[0m \u001b[0mIndexError\u001b[0m\u001b[0;34m(\u001b[0m\u001b[0;34m\"indices are out-of-bounds\"\u001b[0m\u001b[0;34m)\u001b[0m\u001b[0;34m\u001b[0m\u001b[0;34m\u001b[0m\u001b[0m\n\u001b[0m\u001b[1;32m    214\u001b[0m     \u001b[0;32mreturn\u001b[0m \u001b[0mindices\u001b[0m\u001b[0;34m\u001b[0m\u001b[0;34m\u001b[0m\u001b[0m\n",
      "\u001b[0;31mIndexError\u001b[0m: indices are out-of-bounds",
      "\nDuring handling of the above exception, another exception occurred:\n",
      "\u001b[0;31mIndexError\u001b[0m                                Traceback (most recent call last)",
      "\u001b[0;32m<ipython-input-10-0725ac8cfe30>\u001b[0m in \u001b[0;36m<module>\u001b[0;34m\u001b[0m\n\u001b[1;32m      1\u001b[0m \u001b[0;32mfor\u001b[0m \u001b[0mrow_i\u001b[0m \u001b[0;32min\u001b[0m \u001b[0mrange\u001b[0m\u001b[0;34m(\u001b[0m\u001b[0;36m0\u001b[0m\u001b[0;34m,\u001b[0m\u001b[0;36m10\u001b[0m\u001b[0;34m)\u001b[0m\u001b[0;34m:\u001b[0m\u001b[0;34m\u001b[0m\u001b[0;34m\u001b[0m\u001b[0m\n\u001b[1;32m      2\u001b[0m     \u001b[0mprint\u001b[0m\u001b[0;34m(\u001b[0m\u001b[0mrow_i\u001b[0m\u001b[0;34m)\u001b[0m\u001b[0;34m\u001b[0m\u001b[0;34m\u001b[0m\u001b[0m\n\u001b[0;32m----> 3\u001b[0;31m     \u001b[0mproto_examples_i\u001b[0m \u001b[0;34m=\u001b[0m \u001b[0mutils\u001b[0m\u001b[0;34m.\u001b[0m\u001b[0mprep_cnn_np\u001b[0m\u001b[0;34m(\u001b[0m\u001b[0msurvey_df_yeari_chunki\u001b[0m\u001b[0;34m.\u001b[0m\u001b[0miloc\u001b[0m\u001b[0;34m[\u001b[0m\u001b[0;34m[\u001b[0m\u001b[0mrow_i\u001b[0m\u001b[0;34m]\u001b[0m\u001b[0;34m]\u001b[0m\u001b[0;34m,\u001b[0m \u001b[0mSATELLITE\u001b[0m\u001b[0;34m,\u001b[0m \u001b[0mKERNEL_SIZE\u001b[0m\u001b[0;34m,\u001b[0m \u001b[0myear_i\u001b[0m\u001b[0;34m)\u001b[0m\u001b[0;34m\u001b[0m\u001b[0;34m\u001b[0m\u001b[0m\n\u001b[0m",
      "\u001b[0;32m~/anaconda3/lib/python3.7/site-packages/pandas/core/indexing.py\u001b[0m in \u001b[0;36m__getitem__\u001b[0;34m(self, key)\u001b[0m\n\u001b[1;32m   1766\u001b[0m \u001b[0;34m\u001b[0m\u001b[0m\n\u001b[1;32m   1767\u001b[0m             \u001b[0mmaybe_callable\u001b[0m \u001b[0;34m=\u001b[0m \u001b[0mcom\u001b[0m\u001b[0;34m.\u001b[0m\u001b[0mapply_if_callable\u001b[0m\u001b[0;34m(\u001b[0m\u001b[0mkey\u001b[0m\u001b[0;34m,\u001b[0m \u001b[0mself\u001b[0m\u001b[0;34m.\u001b[0m\u001b[0mobj\u001b[0m\u001b[0;34m)\u001b[0m\u001b[0;34m\u001b[0m\u001b[0;34m\u001b[0m\u001b[0m\n\u001b[0;32m-> 1768\u001b[0;31m             \u001b[0;32mreturn\u001b[0m \u001b[0mself\u001b[0m\u001b[0;34m.\u001b[0m\u001b[0m_getitem_axis\u001b[0m\u001b[0;34m(\u001b[0m\u001b[0mmaybe_callable\u001b[0m\u001b[0;34m,\u001b[0m \u001b[0maxis\u001b[0m\u001b[0;34m=\u001b[0m\u001b[0maxis\u001b[0m\u001b[0;34m)\u001b[0m\u001b[0;34m\u001b[0m\u001b[0;34m\u001b[0m\u001b[0m\n\u001b[0m\u001b[1;32m   1769\u001b[0m \u001b[0;34m\u001b[0m\u001b[0m\n\u001b[1;32m   1770\u001b[0m     \u001b[0;32mdef\u001b[0m \u001b[0m_is_scalar_access\u001b[0m\u001b[0;34m(\u001b[0m\u001b[0mself\u001b[0m\u001b[0;34m,\u001b[0m \u001b[0mkey\u001b[0m\u001b[0;34m:\u001b[0m \u001b[0mTuple\u001b[0m\u001b[0;34m)\u001b[0m\u001b[0;34m:\u001b[0m\u001b[0;34m\u001b[0m\u001b[0;34m\u001b[0m\u001b[0m\n",
      "\u001b[0;32m~/anaconda3/lib/python3.7/site-packages/pandas/core/indexing.py\u001b[0m in \u001b[0;36m_getitem_axis\u001b[0;34m(self, key, axis)\u001b[0m\n\u001b[1;32m   2127\u001b[0m         \u001b[0;31m# a list of integers\u001b[0m\u001b[0;34m\u001b[0m\u001b[0;34m\u001b[0m\u001b[0;34m\u001b[0m\u001b[0m\n\u001b[1;32m   2128\u001b[0m         \u001b[0;32melif\u001b[0m \u001b[0mis_list_like_indexer\u001b[0m\u001b[0;34m(\u001b[0m\u001b[0mkey\u001b[0m\u001b[0;34m)\u001b[0m\u001b[0;34m:\u001b[0m\u001b[0;34m\u001b[0m\u001b[0;34m\u001b[0m\u001b[0m\n\u001b[0;32m-> 2129\u001b[0;31m             \u001b[0;32mreturn\u001b[0m \u001b[0mself\u001b[0m\u001b[0;34m.\u001b[0m\u001b[0m_get_list_axis\u001b[0m\u001b[0;34m(\u001b[0m\u001b[0mkey\u001b[0m\u001b[0;34m,\u001b[0m \u001b[0maxis\u001b[0m\u001b[0;34m=\u001b[0m\u001b[0maxis\u001b[0m\u001b[0;34m)\u001b[0m\u001b[0;34m\u001b[0m\u001b[0;34m\u001b[0m\u001b[0m\n\u001b[0m\u001b[1;32m   2130\u001b[0m \u001b[0;34m\u001b[0m\u001b[0m\n\u001b[1;32m   2131\u001b[0m         \u001b[0;31m# a single integer\u001b[0m\u001b[0;34m\u001b[0m\u001b[0;34m\u001b[0m\u001b[0;34m\u001b[0m\u001b[0m\n",
      "\u001b[0;32m~/anaconda3/lib/python3.7/site-packages/pandas/core/indexing.py\u001b[0m in \u001b[0;36m_get_list_axis\u001b[0;34m(self, key, axis)\u001b[0m\n\u001b[1;32m   2112\u001b[0m         \u001b[0;32mexcept\u001b[0m \u001b[0mIndexError\u001b[0m\u001b[0;34m:\u001b[0m\u001b[0;34m\u001b[0m\u001b[0;34m\u001b[0m\u001b[0m\n\u001b[1;32m   2113\u001b[0m             \u001b[0;31m# re-raise with different error message\u001b[0m\u001b[0;34m\u001b[0m\u001b[0;34m\u001b[0m\u001b[0;34m\u001b[0m\u001b[0m\n\u001b[0;32m-> 2114\u001b[0;31m             \u001b[0;32mraise\u001b[0m \u001b[0mIndexError\u001b[0m\u001b[0;34m(\u001b[0m\u001b[0;34m\"positional indexers are out-of-bounds\"\u001b[0m\u001b[0;34m)\u001b[0m\u001b[0;34m\u001b[0m\u001b[0;34m\u001b[0m\u001b[0m\n\u001b[0m\u001b[1;32m   2115\u001b[0m \u001b[0;34m\u001b[0m\u001b[0m\n\u001b[1;32m   2116\u001b[0m     \u001b[0;32mdef\u001b[0m \u001b[0m_getitem_axis\u001b[0m\u001b[0;34m(\u001b[0m\u001b[0mself\u001b[0m\u001b[0;34m,\u001b[0m \u001b[0mkey\u001b[0m\u001b[0;34m,\u001b[0m \u001b[0maxis\u001b[0m\u001b[0;34m:\u001b[0m \u001b[0mint\u001b[0m\u001b[0;34m)\u001b[0m\u001b[0;34m:\u001b[0m\u001b[0;34m\u001b[0m\u001b[0;34m\u001b[0m\u001b[0m\n",
      "\u001b[0;31mIndexError\u001b[0m: positional indexers are out-of-bounds"
     ]
    }
   ],
   "source": [
    "for row_i in range(0,10):\n",
    "    print(row_i)\n",
    "    proto_examples_i = utils.prep_cnn_np(survey_df_yeari_chunki.iloc[[row_i]], SATELLITE, KERNEL_SIZE, year_i)"
   ]
  },
  {
   "cell_type": "code",
   "execution_count": null,
   "metadata": {
    "id": "3l_U7gwb_vDC"
   },
   "outputs": [],
   "source": [
    "survey_df_yeari_chunki.iloc[[4]]"
   ]
  },
  {
   "cell_type": "code",
   "execution_count": null,
   "metadata": {
    "colab": {
     "base_uri": "https://localhost:8080/",
     "height": 224
    },
    "id": "YuhpLiDq_zLm",
    "outputId": "f5dc6270-4493-4cbf-b2b0-18ec047077fa"
   },
   "outputs": [],
   "source": []
  },
  {
   "cell_type": "code",
   "execution_count": null,
   "metadata": {
    "colab": {
     "base_uri": "https://localhost:8080/"
    },
    "id": "zU05sc-s29jA",
    "outputId": "f9f946fc-d6a6-44e8-c2c2-539ec29937b9"
   },
   "outputs": [],
   "source": []
  },
  {
   "cell_type": "code",
   "execution_count": null,
   "metadata": {
    "id": "fVeX2_WIkGiV"
   },
   "outputs": [],
   "source": []
  },
  {
   "cell_type": "code",
   "execution_count": 72,
   "metadata": {
    "id": "4RhcmrWylK6k"
   },
   "outputs": [],
   "source": []
  },
  {
   "cell_type": "code",
   "execution_count": null,
   "metadata": {
    "colab": {
     "base_uri": "https://localhost:8080/",
     "height": 80
    },
    "id": "pFHX00Y4ld81",
    "outputId": "4c9c913a-dce5-47b7-e28e-b9c6f14b7fed"
   },
   "outputs": [],
   "source": []
  },
  {
   "cell_type": "code",
   "execution_count": null,
   "metadata": {
    "colab": {
     "base_uri": "https://localhost:8080/"
    },
    "id": "9tk6RNyHXVZC",
    "outputId": "8806e5aa-370a-4a24-c6ba-062cf52f5ffb"
   },
   "outputs": [],
   "source": []
  },
  {
   "cell_type": "code",
   "execution_count": null,
   "metadata": {
    "id": "WAVqwXz7_lDL"
   },
   "outputs": [],
   "source": []
  },
  {
   "cell_type": "code",
   "execution_count": null,
   "metadata": {
    "colab": {
     "base_uri": "https://localhost:8080/"
    },
    "id": "I9atvzCW65oh",
    "outputId": "515a1320-e759-4e12-a053-362d7562c52f"
   },
   "outputs": [],
   "source": []
  },
  {
   "cell_type": "code",
   "execution_count": null,
   "metadata": {
    "colab": {
     "base_uri": "https://localhost:8080/"
    },
    "id": "5UrbRLqLKAtA",
    "outputId": "936ca132-44fc-45cb-d754-ad9dcfb8901e"
   },
   "outputs": [],
   "source": []
  },
  {
   "cell_type": "code",
   "execution_count": null,
   "metadata": {
    "id": "gaBcOr2w77ZL"
   },
   "outputs": [],
   "source": []
  },
  {
   "cell_type": "code",
   "execution_count": null,
   "metadata": {
    "colab": {
     "base_uri": "https://localhost:8080/"
    },
    "id": "l69Wpxz5XVZC",
    "outputId": "5d4d531b-61ef-45c7-b5b5-f25cb875c6b6"
   },
   "outputs": [],
   "source": []
  },
  {
   "cell_type": "code",
   "execution_count": null,
   "metadata": {
    "colab": {
     "base_uri": "https://localhost:8080/"
    },
    "id": "Q9MXwUdTXVZD",
    "outputId": "0bc2748f-ebe3-466d-a859-924eaa1b9081"
   },
   "outputs": [],
   "source": []
  },
  {
   "cell_type": "code",
   "execution_count": null,
   "metadata": {
    "colab": {
     "base_uri": "https://localhost:8080/",
     "height": 181
    },
    "id": "iLbrGQTRojcS",
    "outputId": "43aabd48-e175-4d1c-f5f1-48be198520b0"
   },
   "outputs": [],
   "source": []
  },
  {
   "cell_type": "code",
   "execution_count": null,
   "metadata": {
    "colab": {
     "base_uri": "https://localhost:8080/",
     "height": 198
    },
    "id": "VHZAJ22anj6b",
    "outputId": "bebf3669-139a-423a-a967-78109a8c80a2"
   },
   "outputs": [],
   "source": []
  },
  {
   "cell_type": "code",
   "execution_count": null,
   "metadata": {
    "id": "y1MXAhkbpRkI"
   },
   "outputs": [],
   "source": []
  },
  {
   "cell_type": "code",
   "execution_count": null,
   "metadata": {
    "colab": {
     "base_uri": "https://localhost:8080/",
     "height": 198
    },
    "id": "93PWEi6jm-3K",
    "outputId": "67dcc0a7-1516-4ee8-bfd9-694fd0f347de"
   },
   "outputs": [],
   "source": []
  },
  {
   "cell_type": "code",
   "execution_count": null,
   "metadata": {
    "id": "5Rm6K6D-XVZD"
   },
   "outputs": [],
   "source": []
  },
  {
   "cell_type": "code",
   "execution_count": null,
   "metadata": {
    "colab": {
     "base_uri": "https://localhost:8080/"
    },
    "id": "fod-VYxLXVZE",
    "outputId": "3dd1f56a-476b-4aad-8279-86840b0bc026"
   },
   "outputs": [],
   "source": []
  },
  {
   "cell_type": "code",
   "execution_count": null,
   "metadata": {
    "colab": {
     "base_uri": "https://localhost:8080/"
    },
    "id": "t0iUwZmAXVZE",
    "outputId": "a33e2442-ae0c-4f62-ce6b-eddb002c165d"
   },
   "outputs": [],
   "source": []
  },
  {
   "cell_type": "code",
   "execution_count": null,
   "metadata": {
    "colab": {
     "base_uri": "https://localhost:8080/"
    },
    "id": "62ReOurYXVZE",
    "outputId": "92795c41-e2b9-4971-f512-9d56b18cf5d8"
   },
   "outputs": [],
   "source": []
  },
  {
   "cell_type": "code",
   "execution_count": null,
   "metadata": {
    "id": "-SajCSlNXVZE"
   },
   "outputs": [],
   "source": []
  },
  {
   "cell_type": "code",
   "execution_count": null,
   "metadata": {
    "id": "LJAM4iswXVZE"
   },
   "outputs": [],
   "source": []
  },
  {
   "cell_type": "code",
   "execution_count": null,
   "metadata": {
    "id": "9wYDJxfpXVZF"
   },
   "outputs": [],
   "source": []
  },
  {
   "cell_type": "code",
   "execution_count": null,
   "metadata": {
    "id": "Zb0U780PXVZF"
   },
   "outputs": [],
   "source": []
  },
  {
   "cell_type": "code",
   "execution_count": null,
   "metadata": {
    "id": "pBuKts4wXVZF"
   },
   "outputs": [],
   "source": []
  },
  {
   "cell_type": "code",
   "execution_count": null,
   "metadata": {
    "id": "IS7Bb2f0XVZF"
   },
   "outputs": [],
   "source": []
  },
  {
   "cell_type": "code",
   "execution_count": null,
   "metadata": {
    "id": "ju-_zuLnXVZF"
   },
   "outputs": [],
   "source": []
  },
  {
   "cell_type": "code",
   "execution_count": null,
   "metadata": {
    "id": "fD0SacCEXVZF"
   },
   "outputs": [],
   "source": []
  },
  {
   "cell_type": "code",
   "execution_count": null,
   "metadata": {
    "id": "0xqAkzCqXVZG"
   },
   "outputs": [],
   "source": []
  },
  {
   "cell_type": "code",
   "execution_count": null,
   "metadata": {
    "id": "JDskpn-iXVZG"
   },
   "outputs": [],
   "source": []
  },
  {
   "cell_type": "code",
   "execution_count": null,
   "metadata": {
    "id": "0Iep8MNNXVZG"
   },
   "outputs": [],
   "source": []
  },
  {
   "cell_type": "code",
   "execution_count": null,
   "metadata": {
    "id": "TNjhMUDHXVZH"
   },
   "outputs": [],
   "source": []
  },
  {
   "cell_type": "code",
   "execution_count": null,
   "metadata": {
    "id": "mPzEHDBcXVZH"
   },
   "outputs": [],
   "source": []
  },
  {
   "cell_type": "code",
   "execution_count": null,
   "metadata": {
    "id": "jVI8BPYMXVZH"
   },
   "outputs": [],
   "source": []
  },
  {
   "cell_type": "code",
   "execution_count": null,
   "metadata": {
    "id": "eQR8aHw2XVZH"
   },
   "outputs": [],
   "source": []
  },
  {
   "cell_type": "code",
   "execution_count": null,
   "metadata": {
    "id": "H5pJ0FIOXVZI"
   },
   "outputs": [],
   "source": []
  },
  {
   "cell_type": "code",
   "execution_count": null,
   "metadata": {
    "id": "H9GuSI50opSX"
   },
   "outputs": [],
   "source": []
  }
 ],
 "metadata": {
  "colab": {
   "collapsed_sections": [],
   "name": "01_extract_data_gee_for_cnn.ipynb",
   "provenance": []
  },
  "kernelspec": {
   "display_name": "Python 3 (ipykernel)",
   "language": "python",
   "name": "python3"
  },
  "language_info": {
   "codemirror_mode": {
    "name": "ipython",
    "version": 3
   },
   "file_extension": ".py",
   "mimetype": "text/x-python",
   "name": "python",
   "nbconvert_exporter": "python",
   "pygments_lexer": "ipython3",
   "version": "3.8.13"
  }
 },
 "nbformat": 4,
 "nbformat_minor": 4
}
