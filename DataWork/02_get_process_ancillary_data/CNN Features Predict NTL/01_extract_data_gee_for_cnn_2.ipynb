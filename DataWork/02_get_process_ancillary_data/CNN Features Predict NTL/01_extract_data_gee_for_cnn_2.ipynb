{
 "cells": [
  {
   "cell_type": "markdown",
   "metadata": {
    "id": "X0MV-G1dXVY2"
   },
   "source": [
    "# Prepare CNN Data"
   ]
  },
  {
   "cell_type": "markdown",
   "metadata": {
    "id": "iuOZpPbiXVY5"
   },
   "source": [
    "## Setup"
   ]
  },
  {
   "cell_type": "code",
   "execution_count": null,
   "metadata": {},
   "outputs": [],
   "source": [
    "# USE ACCOUNT: ramarty@email.wm.edu\n",
    "import ee\n",
    "ee.Authenticate()\n",
    "ee.Initialize()"
   ]
  },
  {
   "cell_type": "code",
   "execution_count": 26,
   "metadata": {},
   "outputs": [],
   "source": [
    "import numpy as np\n",
    "#import geetools\n",
    "#from geetools import ui, cloud_mask\n",
    "import os, datetime\n",
    "import pandas as pd\n",
    "import itertools\n",
    "import tensorflow as tf\n",
    "import config as cf\n",
    "import ee_utils as utils\n",
    "import eeconvert\n",
    "\n",
    "#cloud_mask_landsatSR = cloud_mask.landsatSR()\n",
    "#cloud_mask_sentinel2 = cloud_mask.sentinel2()"
   ]
  },
  {
   "cell_type": "markdown",
   "metadata": {},
   "source": [
    "## Parameters"
   ]
  },
  {
   "cell_type": "code",
   "execution_count": 27,
   "metadata": {
    "id": "TqWX3QM4mVPW"
   },
   "outputs": [],
   "source": [
    "KERNEL_SIZE = 500 #224\n",
    "SURVEY_NAME = 'DHS'\n",
    "SATELLITE = 's2'\n",
    "SKIP_IF_SCRAPED = True\n",
    "CHUNK_SIZE = 2 # Number of observtaions to scrape in GEE at any given time\n",
    "DROPBOX_DIR = cf.DROPBOX_DIRECTORY\n",
    "GOOGLEDRIVE_DIR = cf.GOOGLEDRIVE_DIRECTORY"
   ]
  },
  {
   "cell_type": "code",
   "execution_count": 28,
   "metadata": {
    "colab": {
     "base_uri": "https://localhost:8080/"
    },
    "id": "MwPA7XTCYmjh",
    "outputId": "74e611ba-5c81-44ca-e2ce-c595399753a0"
   },
   "outputs": [],
   "source": [
    "# Directory to store tfrecords\n",
    "out_path = os.path.join(GOOGLEDRIVE_DIR, \n",
    "            'Data', \n",
    "            SURVEY_NAME, \n",
    "            'FinalData',\n",
    "            'Individual Datasets',\n",
    "            'cnn_' + SATELLITE,\n",
    "            'tfrecords')"
   ]
  },
  {
   "cell_type": "markdown",
   "metadata": {
    "colab": {
     "base_uri": "https://localhost:8080/"
    },
    "id": "phzXq49zXVY5",
    "outputId": "0b60e419-0e3f-44e2-e927-0895afb316cc"
   },
   "source": [
    "## Load Data"
   ]
  },
  {
   "cell_type": "code",
   "execution_count": 29,
   "metadata": {},
   "outputs": [],
   "source": [
    "# Relies on VIIRs Values\n",
    "survey_df = pd.read_csv(os.path.join(DROPBOX_DIR, 'Data', SURVEY_NAME, 'FinalData', 'Individual Datasets', 'survey_socioeconomic.csv'))\n",
    "\n",
    "viirs_df = pd.read_csv(os.path.join(DROPBOX_DIR, 'Data', SURVEY_NAME, 'FinalData', 'Individual Datasets', 'survey_viirs_5km.csv'))\n",
    "viirs_df.viirs_avg_rad = np.log(viirs_df.viirs_avg_rad + 1)\n",
    "\n",
    "survey_df = survey_df.merge(viirs_df, on = 'uid')"
   ]
  },
  {
   "cell_type": "code",
   "execution_count": 30,
   "metadata": {
    "colab": {
     "base_uri": "https://localhost:8080/"
    },
    "id": "hpXnbunXYZdP",
    "outputId": "9cf085c9-5a7c-4298-9600-36158f5d7f7c"
   },
   "outputs": [],
   "source": [
    "# Sentinel doesn't capture Lakshadweep (island off coast of mainland India)\n",
    "survey_df = survey_df[survey_df['GID_2'] != \"IND.18.1_1\"]\n",
    "\n",
    "# List of TF Records\n",
    "tf_record_list = list(np.unique(survey_df.tfrecord_name))"
   ]
  },
  {
   "cell_type": "code",
   "execution_count": 31,
   "metadata": {},
   "outputs": [],
   "source": [
    "# Remove if issues extracting\n",
    "#survey_df = survey_df[survey_df['uid'] != \"IA201400180079\"]\n",
    "#survey_df = survey_df[survey_df['uid'] != \"IA201400180052\"]\n",
    "#survey_df = survey_df[survey_df['uid'] != \"IA201400180112\"]\n",
    "#survey_df = survey_df[survey_df['uid'] != \"IA201400180081\"]\n",
    "#survey_df = survey_df[survey_df['uid'] != \"IA201400180011\"]\n",
    "#survey_df = survey_df[survey_df['uid'] != \"IA201400180048\"]\n",
    "#survey_df = survey_df[survey_df['uid'] != \"IA201400180058\"]\n",
    "#survey_df = survey_df[survey_df['uid'] != \"IA201400180028\"]\n",
    "#survey_df = survey_df[survey_df['uid'] != \"IA201400180072\"]\n",
    "#survey_df = survey_df[survey_df['uid'] != \"IA201400180047\"]\n",
    "#survey_df = survey_df[survey_df['uid'] != \"IA201400180012\"]\n",
    "#survey_df = survey_df[survey_df['uid'] != \"IA201400180040\"]\n",
    "#survey_df = survey_df[survey_df['uid'] != \"IA201400180055\"]\n",
    "#survey_df = survey_df[survey_df['uid'] != \"IA201400180140\"]\n",
    "#survey_df = survey_df[survey_df['uid'] != \"IA201400180030\"]\n",
    "#survey_df = survey_df[survey_df['uid'] != \"IA201400180104\"]\n",
    "#survey_df = survey_df[survey_df['uid'] != \"IA201400180123\"]\n",
    "#survey_df = survey_df[survey_df['uid'] != \"IA201400180062\"]\n",
    "#survey_df = survey_df[survey_df['uid'] != \"IA201400180080\"]\n",
    "#survey_df = survey_df[survey_df['uid'] != \"IA201400180050\"]\n",
    "#survey_df = survey_df[survey_df['uid'] != \"IA201400180116\"]"
   ]
  },
  {
   "cell_type": "code",
   "execution_count": 32,
   "metadata": {
    "id": "PTEEJI89XVY6"
   },
   "outputs": [],
   "source": [
    "# If skip already scraped, remove existing tfrecords from tf_record_list\n",
    "if SKIP_IF_SCRAPED:\n",
    "    tf_records_exist = os.listdir(out_path)\n",
    "    tf_record_list = [x for x in tf_record_list if x not in tf_records_exist]"
   ]
  },
  {
   "cell_type": "code",
   "execution_count": 33,
   "metadata": {},
   "outputs": [],
   "source": [
    "tf_record_list.reverse()"
   ]
  },
  {
   "cell_type": "code",
   "execution_count": null,
   "metadata": {
    "id": "c89pBOUXZT_V"
   },
   "outputs": [
    {
     "name": "stderr",
     "output_type": "stream",
     "text": [
      "/Users/robmarty/anaconda3/lib/python3.7/site-packages/ipykernel_launcher.py:8: SettingWithCopyWarning: \n",
      "A value is trying to be set on a copy of a slice from a DataFrame.\n",
      "Try using .loc[row_indexer,col_indexer] = value instead\n",
      "\n",
      "See the caveats in the documentation: https://pandas.pydata.org/pandas-docs/stable/user_guide/indexing.html#returning-a-view-versus-a-copy\n",
      "  \n"
     ]
    },
    {
     "name": "stdout",
     "output_type": "stream",
     "text": [
      "Putting 125 observations into TL_5_1.tfrecord\n",
      "Observation: 0/125\n",
      "Observation: 2/125\n",
      "Observation: 4/125\n",
      "Observation: 6/125\n",
      "Observation: 8/125\n",
      "Observation: 10/125\n",
      "Observation: 12/125\n",
      "Observation: 14/125\n",
      "Observation: 16/125\n",
      "Observation: 18/125\n",
      "Observation: 20/125\n",
      "Observation: 22/125\n",
      "Observation: 24/125\n",
      "Observation: 26/125\n",
      "Observation: 28/125\n",
      "Observation: 30/125\n",
      "Observation: 32/125\n",
      "Observation: 34/125\n",
      "Observation: 36/125\n",
      "Observation: 38/125\n",
      "Observation: 40/125\n",
      "Observation: 42/125\n",
      "Observation: 44/125\n",
      "Observation: 46/125\n",
      "Observation: 48/125\n",
      "Observation: 50/125\n",
      "Observation: 52/125\n",
      "Observation: 54/125\n",
      "Observation: 56/125\n",
      "Observation: 58/125\n",
      "Observation: 60/125\n",
      "Observation: 62/125\n",
      "Observation: 64/125\n",
      "Observation: 66/125\n",
      "Observation: 68/125\n",
      "Observation: 70/125\n",
      "Observation: 72/125\n",
      "Observation: 74/125\n",
      "Observation: 76/125\n",
      "Observation: 78/125\n",
      "Observation: 80/125\n",
      "Observation: 82/125\n",
      "Observation: 84/125\n",
      "Observation: 86/125\n",
      "Observation: 88/125\n",
      "Observation: 90/125\n",
      "Observation: 92/125\n",
      "Observation: 94/125\n",
      "Observation: 96/125\n",
      "Observation: 98/125\n",
      "Observation: 100/125\n",
      "Observation: 102/125\n",
      "Observation: 104/125\n",
      "Observation: 106/125\n",
      "Observation: 108/125\n",
      "Observation: 110/125\n",
      "Observation: 112/125\n",
      "Observation: 114/125\n",
      "Observation: 116/125\n",
      "Observation: 118/125\n",
      "Observation: 120/125\n",
      "Observation: 122/125\n",
      "Observation: 124/125\n",
      "/Users/robmarty/Google Drive/World Bank/IEs/Pakistan Poverty Estimation/Data/DHS/FinalData/Individual Datasets/cnn_s2/tfrecords/TL_5_1.tfrecord\n",
      "Putting 65 observations into TL_4_1.tfrecord\n",
      "Observation: 0/65\n",
      "Observation: 2/65\n",
      "Observation: 4/65\n",
      "Observation: 6/65\n",
      "Observation: 8/65\n",
      "Observation: 10/65\n",
      "Observation: 12/65\n",
      "Observation: 14/65\n",
      "Observation: 16/65\n",
      "Observation: 18/65\n",
      "Observation: 20/65\n",
      "Observation: 22/65\n",
      "Observation: 24/65\n",
      "Observation: 26/65\n",
      "Observation: 28/65\n",
      "Observation: 30/65\n",
      "Observation: 32/65\n",
      "Observation: 34/65\n",
      "Observation: 36/65\n",
      "Observation: 38/65\n",
      "Observation: 40/65\n",
      "Observation: 42/65\n",
      "Observation: 44/65\n",
      "Observation: 46/65\n",
      "Observation: 48/65\n",
      "Observation: 50/65\n",
      "Observation: 52/65\n",
      "Observation: 54/65\n",
      "Observation: 56/65\n",
      "Observation: 58/65\n",
      "Observation: 60/65\n",
      "Observation: 62/65\n",
      "Observation: 64/65\n",
      "/Users/robmarty/Google Drive/World Bank/IEs/Pakistan Poverty Estimation/Data/DHS/FinalData/Individual Datasets/cnn_s2/tfrecords/TL_4_1.tfrecord\n",
      "Putting 80 observations into TL_3_1.tfrecord\n",
      "Observation: 0/80\n",
      "Observation: 2/80\n",
      "Observation: 4/80\n",
      "Observation: 6/80\n",
      "Observation: 8/80\n",
      "Observation: 10/80\n",
      "Observation: 12/80\n",
      "Observation: 14/80\n",
      "Observation: 16/80\n",
      "Observation: 18/80\n",
      "Observation: 20/80\n",
      "Observation: 22/80\n",
      "Observation: 24/80\n",
      "Observation: 26/80\n",
      "Observation: 28/80\n",
      "Observation: 30/80\n",
      "Observation: 32/80\n",
      "Observation: 34/80\n",
      "Observation: 36/80\n",
      "Observation: 38/80\n",
      "Observation: 40/80\n",
      "Observation: 42/80\n",
      "Observation: 44/80\n",
      "Observation: 46/80\n",
      "Observation: 48/80\n",
      "Observation: 50/80\n",
      "Observation: 52/80\n",
      "Observation: 54/80\n",
      "Observation: 56/80\n",
      "Observation: 58/80\n",
      "Observation: 60/80\n",
      "Observation: 62/80\n",
      "Observation: 64/80\n",
      "Observation: 66/80\n",
      "Observation: 68/80\n",
      "Observation: 70/80\n",
      "Observation: 72/80\n",
      "Observation: 74/80\n",
      "Observation: 76/80\n",
      "Observation: 78/80\n",
      "/Users/robmarty/Google Drive/World Bank/IEs/Pakistan Poverty Estimation/Data/DHS/FinalData/Individual Datasets/cnn_s2/tfrecords/TL_3_1.tfrecord\n",
      "Putting 95 observations into TL_2_1.tfrecord\n",
      "Observation: 0/95\n",
      "Observation: 2/95\n",
      "Observation: 4/95\n",
      "Observation: 6/95\n",
      "Observation: 8/95\n",
      "Observation: 10/95\n",
      "Observation: 12/95\n",
      "Observation: 14/95\n",
      "Observation: 16/95\n",
      "Observation: 18/95\n",
      "Observation: 20/95\n",
      "Observation: 22/95\n",
      "Observation: 24/95\n",
      "Observation: 26/95\n",
      "Observation: 28/95\n",
      "Observation: 30/95\n",
      "Observation: 32/95\n",
      "Observation: 34/95\n",
      "Observation: 36/95\n",
      "Observation: 38/95\n",
      "Observation: 40/95\n",
      "Observation: 42/95\n",
      "Observation: 44/95\n",
      "Observation: 46/95\n",
      "Observation: 48/95\n",
      "Observation: 50/95\n",
      "Observation: 52/95\n",
      "Observation: 54/95\n",
      "Observation: 56/95\n",
      "Observation: 58/95\n",
      "Observation: 60/95\n",
      "Observation: 62/95\n",
      "Observation: 64/95\n",
      "Observation: 66/95\n",
      "Observation: 68/95\n",
      "Observation: 70/95\n",
      "Observation: 72/95\n",
      "Observation: 74/95\n",
      "Observation: 76/95\n",
      "Observation: 78/95\n",
      "Observation: 80/95\n",
      "Observation: 82/95\n",
      "Observation: 84/95\n",
      "Observation: 86/95\n",
      "Observation: 88/95\n",
      "Observation: 90/95\n",
      "Observation: 92/95\n",
      "Observation: 94/95\n",
      "/Users/robmarty/Google Drive/World Bank/IEs/Pakistan Poverty Estimation/Data/DHS/FinalData/Individual Datasets/cnn_s2/tfrecords/TL_2_1.tfrecord\n",
      "Putting 90 observations into TL_1_1.tfrecord\n",
      "Observation: 0/90\n",
      "Observation: 2/90\n",
      "Observation: 4/90\n",
      "Observation: 6/90\n",
      "Observation: 8/90\n",
      "Observation: 10/90\n",
      "Observation: 12/90\n",
      "Observation: 14/90\n",
      "Observation: 16/90\n",
      "Observation: 18/90\n",
      "Observation: 20/90\n",
      "Observation: 22/90\n",
      "Observation: 24/90\n",
      "Observation: 26/90\n",
      "Observation: 28/90\n",
      "Observation: 30/90\n",
      "Observation: 32/90\n",
      "Observation: 34/90\n",
      "Observation: 36/90\n",
      "Observation: 38/90\n",
      "Observation: 40/90\n",
      "Observation: 42/90\n",
      "Observation: 44/90\n",
      "Observation: 46/90\n",
      "Observation: 48/90\n",
      "Observation: 50/90\n",
      "Observation: 52/90\n",
      "Observation: 54/90\n",
      "Observation: 56/90\n",
      "Observation: 58/90\n",
      "Observation: 60/90\n",
      "Observation: 62/90\n",
      "Observation: 64/90\n",
      "Observation: 66/90\n",
      "Observation: 68/90\n",
      "Observation: 70/90\n",
      "Observation: 72/90\n",
      "Observation: 74/90\n",
      "Observation: 76/90\n",
      "Observation: 78/90\n",
      "Observation: 80/90\n",
      "Observation: 82/90\n",
      "Observation: 84/90\n",
      "Observation: 86/90\n",
      "Observation: 88/90\n",
      "/Users/robmarty/Google Drive/World Bank/IEs/Pakistan Poverty Estimation/Data/DHS/FinalData/Individual Datasets/cnn_s2/tfrecords/TL_1_1.tfrecord\n",
      "Putting 45 observations into TJ_5_1.tfrecord\n",
      "Observation: 0/45\n",
      "Observation: 2/45\n",
      "Observation: 4/45\n",
      "Observation: 6/45\n",
      "Observation: 8/45\n",
      "Observation: 10/45\n",
      "Observation: 12/45\n",
      "Observation: 14/45\n",
      "Observation: 16/45\n",
      "Observation: 18/45\n",
      "Observation: 20/45\n",
      "Observation: 22/45\n",
      "Observation: 24/45\n",
      "Observation: 26/45\n",
      "Observation: 28/45\n",
      "Observation: 30/45\n",
      "Observation: 32/45\n",
      "Observation: 34/45\n",
      "Observation: 36/45\n",
      "Observation: 38/45\n",
      "Observation: 40/45\n",
      "Observation: 42/45\n",
      "Observation: 44/45\n",
      "/Users/robmarty/Google Drive/World Bank/IEs/Pakistan Poverty Estimation/Data/DHS/FinalData/Individual Datasets/cnn_s2/tfrecords/TJ_5_1.tfrecord\n",
      "Putting 62 observations into TJ_4_1.tfrecord\n",
      "Observation: 0/62\n",
      "Observation: 2/62\n",
      "Observation: 4/62\n",
      "Observation: 6/62\n",
      "Observation: 8/62\n",
      "Observation: 10/62\n",
      "Observation: 12/62\n",
      "Observation: 14/62\n",
      "Observation: 16/62\n",
      "Observation: 18/62\n",
      "Observation: 20/62\n",
      "Observation: 22/62\n",
      "Observation: 24/62\n",
      "Observation: 26/62\n",
      "Observation: 28/62\n",
      "Observation: 30/62\n",
      "Observation: 32/62\n",
      "Observation: 34/62\n",
      "Observation: 36/62\n",
      "Observation: 38/62\n",
      "Observation: 40/62\n",
      "Observation: 42/62\n",
      "Observation: 44/62\n",
      "Observation: 46/62\n",
      "Observation: 48/62\n",
      "Observation: 50/62\n",
      "Observation: 52/62\n",
      "Observation: 54/62\n",
      "Observation: 56/62\n",
      "Observation: 58/62\n",
      "Observation: 60/62\n",
      "/Users/robmarty/Google Drive/World Bank/IEs/Pakistan Poverty Estimation/Data/DHS/FinalData/Individual Datasets/cnn_s2/tfrecords/TJ_4_1.tfrecord\n",
      "Putting 44 observations into TJ_3_1.tfrecord\n",
      "Observation: 0/44\n",
      "Observation: 2/44\n",
      "Observation: 4/44\n",
      "Observation: 6/44\n",
      "Observation: 8/44\n",
      "Observation: 10/44\n",
      "Observation: 12/44\n",
      "Observation: 14/44\n",
      "Observation: 16/44\n",
      "Observation: 18/44\n",
      "Observation: 20/44\n",
      "Observation: 22/44\n",
      "Observation: 24/44\n",
      "Observation: 26/44\n",
      "Observation: 28/44\n",
      "Observation: 30/44\n",
      "Observation: 32/44\n",
      "Observation: 34/44\n",
      "Observation: 36/44\n",
      "Observation: 38/44\n",
      "Observation: 40/44\n",
      "Observation: 42/44\n",
      "/Users/robmarty/Google Drive/World Bank/IEs/Pakistan Poverty Estimation/Data/DHS/FinalData/Individual Datasets/cnn_s2/tfrecords/TJ_3_1.tfrecord\n",
      "Putting 68 observations into TJ_2_1.tfrecord\n",
      "Observation: 0/68\n",
      "Observation: 2/68\n",
      "Observation: 4/68\n",
      "Observation: 6/68\n",
      "Observation: 8/68\n",
      "Observation: 10/68\n",
      "Observation: 12/68\n",
      "Observation: 14/68\n",
      "Observation: 16/68\n",
      "Observation: 18/68\n",
      "Observation: 20/68\n",
      "Observation: 22/68\n",
      "Observation: 24/68\n",
      "Observation: 26/68\n",
      "Observation: 28/68\n",
      "Observation: 30/68\n",
      "Observation: 32/68\n",
      "Observation: 34/68\n",
      "Observation: 36/68\n",
      "Observation: 38/68\n",
      "Observation: 40/68\n",
      "Observation: 42/68\n",
      "Observation: 44/68\n",
      "Observation: 46/68\n",
      "Observation: 48/68\n",
      "Observation: 50/68\n",
      "Observation: 52/68\n",
      "Observation: 54/68\n",
      "Observation: 56/68\n",
      "Observation: 58/68\n",
      "Observation: 60/68\n",
      "Observation: 62/68\n",
      "Observation: 64/68\n",
      "Observation: 66/68\n",
      "/Users/robmarty/Google Drive/World Bank/IEs/Pakistan Poverty Estimation/Data/DHS/FinalData/Individual Datasets/cnn_s2/tfrecords/TJ_2_1.tfrecord\n",
      "Putting 146 observations into TJ_1_1.tfrecord\n",
      "Observation: 0/146\n",
      "Observation: 2/146\n",
      "Observation: 4/146\n",
      "Observation: 6/146\n",
      "Observation: 8/146\n",
      "Observation: 10/146\n",
      "Observation: 12/146\n",
      "Observation: 14/146\n",
      "Observation: 16/146\n",
      "Observation: 18/146\n",
      "Observation: 20/146\n",
      "Observation: 22/146\n",
      "Observation: 24/146\n",
      "Observation: 26/146\n",
      "Observation: 28/146\n",
      "Observation: 30/146\n",
      "Observation: 32/146\n",
      "Observation: 34/146\n",
      "Observation: 36/146\n",
      "Observation: 38/146\n",
      "Observation: 40/146\n",
      "Observation: 42/146\n",
      "Observation: 44/146\n",
      "Observation: 46/146\n",
      "Observation: 48/146\n",
      "Observation: 50/146\n",
      "Observation: 52/146\n",
      "Observation: 54/146\n",
      "Observation: 56/146\n",
      "Observation: 58/146\n",
      "Observation: 60/146\n",
      "Observation: 62/146\n",
      "Observation: 64/146\n",
      "Observation: 66/146\n",
      "Observation: 68/146\n",
      "Observation: 70/146\n"
     ]
    }
   ],
   "source": [
    "### Loop through all tfrecords\n",
    "for tfr_i in tf_record_list:\n",
    "    \n",
    "    survey_df_yeari = survey_df[survey_df['tfrecord_name'] == tfr_i]\n",
    "    year_i = survey_df_yeari['year'].iloc[0]\n",
    "\n",
    "    ### Loop through chunks within tfrecord (can only pull so much data from GEE at a time)\n",
    "    survey_df_yeari['chunk_id'] = utils.chunk_ids(survey_df_yeari.shape[0], CHUNK_SIZE)\n",
    "\n",
    "    print(\"Putting \" + str(survey_df_yeari.shape[0]) + \" observations into \" + tfr_i)\n",
    "    \n",
    "    proto_examples_all = []\n",
    "    for chunk_i in list(np.unique(survey_df_yeari.chunk_id)):\n",
    "        \n",
    "        print(\"Observation: \" + str(len(proto_examples_all)) + \"/\" + str(survey_df_yeari.shape[0]))\n",
    "        \n",
    "        survey_df_yeari_chunki = survey_df_yeari[survey_df_yeari['chunk_id'] == chunk_i]\n",
    "      \n",
    "        proto_examples_i = utils.prep_cnn_np(survey_df_yeari_chunki, SATELLITE, KERNEL_SIZE, year_i)\n",
    "        proto_examples_all.extend(proto_examples_i)\n",
    "\n",
    "    ### Save data as tf record\n",
    "    out_path_i = os.path.join(out_path, tfr_i)\n",
    "    print(out_path_i)\n",
    "    with tf.io.TFRecordWriter(out_path_i) as writer:\n",
    "        for tf_example in proto_examples_all:\n",
    "            writer.write(tf_example.SerializeToString())"
   ]
  },
  {
   "cell_type": "code",
   "execution_count": null,
   "metadata": {
    "colab": {
     "base_uri": "https://localhost:8080/"
    },
    "id": "gfMKJ0ILXVZC",
    "outputId": "4c960a89-0028-4fdd-be62-5e7d0e073240"
   },
   "outputs": [],
   "source": []
  },
  {
   "cell_type": "code",
   "execution_count": null,
   "metadata": {
    "colab": {
     "base_uri": "https://localhost:8080/",
     "height": 224
    },
    "id": "I6NhXtwo73AK",
    "outputId": "988398b3-4e62-4be2-8817-532af8d6f58e"
   },
   "outputs": [],
   "source": [
    "for row_i in range(0,10):\n",
    "    print(row_i)\n",
    "    proto_examples_i = utils.prep_cnn_np(survey_df_yeari_chunki.iloc[[row_i]], SATELLITE, KERNEL_SIZE, year_i)"
   ]
  },
  {
   "cell_type": "code",
   "execution_count": null,
   "metadata": {
    "id": "3l_U7gwb_vDC"
   },
   "outputs": [],
   "source": [
    "survey_df_yeari_chunki.iloc[[1]]"
   ]
  },
  {
   "cell_type": "code",
   "execution_count": null,
   "metadata": {
    "colab": {
     "base_uri": "https://localhost:8080/",
     "height": 224
    },
    "id": "YuhpLiDq_zLm",
    "outputId": "f5dc6270-4493-4cbf-b2b0-18ec047077fa"
   },
   "outputs": [],
   "source": []
  },
  {
   "cell_type": "code",
   "execution_count": null,
   "metadata": {
    "colab": {
     "base_uri": "https://localhost:8080/"
    },
    "id": "zU05sc-s29jA",
    "outputId": "f9f946fc-d6a6-44e8-c2c2-539ec29937b9"
   },
   "outputs": [],
   "source": []
  },
  {
   "cell_type": "code",
   "execution_count": 71,
   "metadata": {
    "id": "fVeX2_WIkGiV"
   },
   "outputs": [],
   "source": []
  },
  {
   "cell_type": "code",
   "execution_count": 72,
   "metadata": {
    "id": "4RhcmrWylK6k"
   },
   "outputs": [],
   "source": []
  },
  {
   "cell_type": "code",
   "execution_count": null,
   "metadata": {
    "colab": {
     "base_uri": "https://localhost:8080/",
     "height": 80
    },
    "id": "pFHX00Y4ld81",
    "outputId": "4c9c913a-dce5-47b7-e28e-b9c6f14b7fed"
   },
   "outputs": [],
   "source": []
  },
  {
   "cell_type": "code",
   "execution_count": null,
   "metadata": {
    "colab": {
     "base_uri": "https://localhost:8080/"
    },
    "id": "9tk6RNyHXVZC",
    "outputId": "8806e5aa-370a-4a24-c6ba-062cf52f5ffb"
   },
   "outputs": [],
   "source": []
  },
  {
   "cell_type": "code",
   "execution_count": null,
   "metadata": {
    "id": "WAVqwXz7_lDL"
   },
   "outputs": [],
   "source": []
  },
  {
   "cell_type": "code",
   "execution_count": null,
   "metadata": {
    "colab": {
     "base_uri": "https://localhost:8080/"
    },
    "id": "I9atvzCW65oh",
    "outputId": "515a1320-e759-4e12-a053-362d7562c52f"
   },
   "outputs": [],
   "source": []
  },
  {
   "cell_type": "code",
   "execution_count": null,
   "metadata": {
    "colab": {
     "base_uri": "https://localhost:8080/"
    },
    "id": "5UrbRLqLKAtA",
    "outputId": "936ca132-44fc-45cb-d754-ad9dcfb8901e"
   },
   "outputs": [],
   "source": []
  },
  {
   "cell_type": "code",
   "execution_count": null,
   "metadata": {
    "id": "gaBcOr2w77ZL"
   },
   "outputs": [],
   "source": []
  },
  {
   "cell_type": "code",
   "execution_count": null,
   "metadata": {
    "colab": {
     "base_uri": "https://localhost:8080/"
    },
    "id": "l69Wpxz5XVZC",
    "outputId": "5d4d531b-61ef-45c7-b5b5-f25cb875c6b6"
   },
   "outputs": [],
   "source": []
  },
  {
   "cell_type": "code",
   "execution_count": null,
   "metadata": {
    "colab": {
     "base_uri": "https://localhost:8080/"
    },
    "id": "Q9MXwUdTXVZD",
    "outputId": "0bc2748f-ebe3-466d-a859-924eaa1b9081"
   },
   "outputs": [],
   "source": []
  },
  {
   "cell_type": "code",
   "execution_count": null,
   "metadata": {
    "colab": {
     "base_uri": "https://localhost:8080/",
     "height": 181
    },
    "id": "iLbrGQTRojcS",
    "outputId": "43aabd48-e175-4d1c-f5f1-48be198520b0"
   },
   "outputs": [],
   "source": []
  },
  {
   "cell_type": "code",
   "execution_count": null,
   "metadata": {
    "colab": {
     "base_uri": "https://localhost:8080/",
     "height": 198
    },
    "id": "VHZAJ22anj6b",
    "outputId": "bebf3669-139a-423a-a967-78109a8c80a2"
   },
   "outputs": [],
   "source": []
  },
  {
   "cell_type": "code",
   "execution_count": null,
   "metadata": {
    "id": "y1MXAhkbpRkI"
   },
   "outputs": [],
   "source": []
  },
  {
   "cell_type": "code",
   "execution_count": null,
   "metadata": {
    "colab": {
     "base_uri": "https://localhost:8080/",
     "height": 198
    },
    "id": "93PWEi6jm-3K",
    "outputId": "67dcc0a7-1516-4ee8-bfd9-694fd0f347de"
   },
   "outputs": [],
   "source": []
  },
  {
   "cell_type": "code",
   "execution_count": null,
   "metadata": {
    "id": "5Rm6K6D-XVZD"
   },
   "outputs": [],
   "source": []
  },
  {
   "cell_type": "code",
   "execution_count": null,
   "metadata": {
    "colab": {
     "base_uri": "https://localhost:8080/"
    },
    "id": "fod-VYxLXVZE",
    "outputId": "3dd1f56a-476b-4aad-8279-86840b0bc026"
   },
   "outputs": [],
   "source": []
  },
  {
   "cell_type": "code",
   "execution_count": null,
   "metadata": {
    "colab": {
     "base_uri": "https://localhost:8080/"
    },
    "id": "t0iUwZmAXVZE",
    "outputId": "a33e2442-ae0c-4f62-ce6b-eddb002c165d"
   },
   "outputs": [],
   "source": []
  },
  {
   "cell_type": "code",
   "execution_count": null,
   "metadata": {
    "colab": {
     "base_uri": "https://localhost:8080/"
    },
    "id": "62ReOurYXVZE",
    "outputId": "92795c41-e2b9-4971-f512-9d56b18cf5d8"
   },
   "outputs": [],
   "source": []
  },
  {
   "cell_type": "code",
   "execution_count": null,
   "metadata": {
    "id": "-SajCSlNXVZE"
   },
   "outputs": [],
   "source": []
  },
  {
   "cell_type": "code",
   "execution_count": null,
   "metadata": {
    "id": "LJAM4iswXVZE"
   },
   "outputs": [],
   "source": []
  },
  {
   "cell_type": "code",
   "execution_count": null,
   "metadata": {
    "id": "9wYDJxfpXVZF"
   },
   "outputs": [],
   "source": []
  },
  {
   "cell_type": "code",
   "execution_count": null,
   "metadata": {
    "id": "Zb0U780PXVZF"
   },
   "outputs": [],
   "source": []
  },
  {
   "cell_type": "code",
   "execution_count": null,
   "metadata": {
    "id": "pBuKts4wXVZF"
   },
   "outputs": [],
   "source": []
  },
  {
   "cell_type": "code",
   "execution_count": null,
   "metadata": {
    "id": "IS7Bb2f0XVZF"
   },
   "outputs": [],
   "source": []
  },
  {
   "cell_type": "code",
   "execution_count": null,
   "metadata": {
    "id": "ju-_zuLnXVZF"
   },
   "outputs": [],
   "source": []
  },
  {
   "cell_type": "code",
   "execution_count": null,
   "metadata": {
    "id": "fD0SacCEXVZF"
   },
   "outputs": [],
   "source": []
  },
  {
   "cell_type": "code",
   "execution_count": null,
   "metadata": {
    "id": "0xqAkzCqXVZG"
   },
   "outputs": [],
   "source": []
  },
  {
   "cell_type": "code",
   "execution_count": null,
   "metadata": {
    "id": "JDskpn-iXVZG"
   },
   "outputs": [],
   "source": []
  },
  {
   "cell_type": "code",
   "execution_count": null,
   "metadata": {
    "id": "0Iep8MNNXVZG"
   },
   "outputs": [],
   "source": []
  },
  {
   "cell_type": "code",
   "execution_count": null,
   "metadata": {
    "id": "TNjhMUDHXVZH"
   },
   "outputs": [],
   "source": []
  },
  {
   "cell_type": "code",
   "execution_count": null,
   "metadata": {
    "id": "mPzEHDBcXVZH"
   },
   "outputs": [],
   "source": []
  },
  {
   "cell_type": "code",
   "execution_count": null,
   "metadata": {
    "id": "jVI8BPYMXVZH"
   },
   "outputs": [],
   "source": []
  },
  {
   "cell_type": "code",
   "execution_count": null,
   "metadata": {
    "id": "eQR8aHw2XVZH"
   },
   "outputs": [],
   "source": []
  },
  {
   "cell_type": "code",
   "execution_count": null,
   "metadata": {
    "id": "H5pJ0FIOXVZI"
   },
   "outputs": [],
   "source": []
  },
  {
   "cell_type": "code",
   "execution_count": null,
   "metadata": {
    "id": "H9GuSI50opSX"
   },
   "outputs": [],
   "source": []
  }
 ],
 "metadata": {
  "colab": {
   "collapsed_sections": [],
   "name": "01_extract_data_gee_for_cnn.ipynb",
   "provenance": []
  },
  "kernelspec": {
   "display_name": "Python 3",
   "language": "python",
   "name": "python3"
  },
  "language_info": {
   "codemirror_mode": {
    "name": "ipython",
    "version": 3
   },
   "file_extension": ".py",
   "mimetype": "text/x-python",
   "name": "python",
   "nbconvert_exporter": "python",
   "pygments_lexer": "ipython3",
   "version": "3.7.2"
  }
 },
 "nbformat": 4,
 "nbformat_minor": 2
}
