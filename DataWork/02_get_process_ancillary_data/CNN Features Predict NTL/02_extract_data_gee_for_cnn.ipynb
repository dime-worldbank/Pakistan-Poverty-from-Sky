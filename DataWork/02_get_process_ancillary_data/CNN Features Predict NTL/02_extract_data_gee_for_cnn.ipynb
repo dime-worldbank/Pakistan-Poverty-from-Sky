{
 "cells": [
  {
   "cell_type": "markdown",
   "metadata": {
    "id": "X0MV-G1dXVY2"
   },
   "source": [
    "# Prepare CNN Data"
   ]
  },
  {
   "cell_type": "markdown",
   "metadata": {
    "id": "iuOZpPbiXVY5"
   },
   "source": [
    "## Setup"
   ]
  },
  {
   "cell_type": "code",
   "execution_count": 1,
   "metadata": {},
   "outputs": [
    {
     "data": {
      "text/html": [
       "<p>To authorize access needed by Earth Engine, open the following\n",
       "        URL in a web browser and follow the instructions:</p>\n",
       "        <p><a href=https://accounts.google.com/o/oauth2/auth?client_id=517222506229-vsmmajv00ul0bs7p89v5m89qs8eb9359.apps.googleusercontent.com&scope=https%3A%2F%2Fwww.googleapis.com%2Fauth%2Fearthengine+https%3A%2F%2Fwww.googleapis.com%2Fauth%2Fdevstorage.full_control&redirect_uri=urn%3Aietf%3Awg%3Aoauth%3A2.0%3Aoob&response_type=code&code_challenge=EpHc_t2ae1AQpQD8W14pAMSfvAaLqIH9c7IseVkOmTk&code_challenge_method=S256>https://accounts.google.com/o/oauth2/auth?client_id=517222506229-vsmmajv00ul0bs7p89v5m89qs8eb9359.apps.googleusercontent.com&scope=https%3A%2F%2Fwww.googleapis.com%2Fauth%2Fearthengine+https%3A%2F%2Fwww.googleapis.com%2Fauth%2Fdevstorage.full_control&redirect_uri=urn%3Aietf%3Awg%3Aoauth%3A2.0%3Aoob&response_type=code&code_challenge=EpHc_t2ae1AQpQD8W14pAMSfvAaLqIH9c7IseVkOmTk&code_challenge_method=S256</a></p>\n",
       "        <p>The authorization workflow will generate a code, which you\n",
       "        should paste in the box below</p>\n",
       "        "
      ],
      "text/plain": [
       "<IPython.core.display.HTML object>"
      ]
     },
     "metadata": {},
     "output_type": "display_data"
    },
    {
     "name": "stdin",
     "output_type": "stream",
     "text": [
      "Enter verification code:  4/1AX4XfWizE6gWsU5s4wzYwTA9RbTMNc9OcHvT3tBP-SwHRQV6OlVBKrdJhk4\n"
     ]
    },
    {
     "name": "stdout",
     "output_type": "stream",
     "text": [
      "\n",
      "Successfully saved authorization token.\n"
     ]
    }
   ],
   "source": [
    "# USE ACCOUNT: robmarty3@gmail.com\n",
    "import ee\n",
    "ee.Authenticate()\n",
    "ee.Initialize()"
   ]
  },
  {
   "cell_type": "code",
   "execution_count": 2,
   "metadata": {},
   "outputs": [
    {
     "name": "stderr",
     "output_type": "stream",
     "text": [
      "/Users/robmarty/anaconda3/lib/python3.7/site-packages/dask/config.py:168: YAMLLoadWarning: calling yaml.load() without Loader=... is deprecated, as the default Loader is unsafe. Please read https://msg.pyyaml.org/load for full details.\n",
      "  data = yaml.load(f.read()) or {}\n",
      "/Users/robmarty/anaconda3/lib/python3.7/site-packages/xarray/core/merge.py:17: FutureWarning: The Panel class is removed from pandas. Accessing it from the top-level namespace will also be removed in the next version\n",
      "  PANDAS_TYPES = (pd.Series, pd.DataFrame, pd.Panel)\n",
      "/Users/robmarty/anaconda3/lib/python3.7/site-packages/distributed/config.py:20: YAMLLoadWarning: calling yaml.load() without Loader=... is deprecated, as the default Loader is unsafe. Please read https://msg.pyyaml.org/load for full details.\n",
      "  defaults = yaml.load(f)\n"
     ]
    }
   ],
   "source": [
    "import numpy as np\n",
    "import os, datetime\n",
    "import pandas as pd\n",
    "import itertools\n",
    "import tensorflow as tf\n",
    "import config as cf\n",
    "import ee_utils as utils\n",
    "import eeconvert\n",
    "import time\n",
    "\n",
    "#import geetools\n",
    "#from geetools import ui, cloud_mask\n",
    "#cloud_mask_landsatSR = cloud_mask.landsatSR()\n",
    "#cloud_mask_sentinel2 = cloud_mask.sentinel2()"
   ]
  },
  {
   "cell_type": "markdown",
   "metadata": {},
   "source": [
    "## Parameters"
   ]
  },
  {
   "cell_type": "code",
   "execution_count": 3,
   "metadata": {
    "id": "TqWX3QM4mVPW"
   },
   "outputs": [
    {
     "name": "stdout",
     "output_type": "stream",
     "text": [
      "250\n"
     ]
    }
   ],
   "source": [
    "#224\n",
    "SURVEY_NAME = 'DHS'\n",
    "SATELLITE = 's2'\n",
    "SKIP_IF_SCRAPED = True\n",
    "CHUNK_SIZE = 5 # Number of observtaions to scrape in GEE at any given time\n",
    "DROPBOX_DIR = cf.DROPBOX_DIRECTORY\n",
    "GOOGLEDRIVE_DIR = cf.GOOGLEDRIVE_DIRECTORY\n",
    "\n",
    "if SATELLITE == 's2':\n",
    "    KERNEL_SIZE = 250\n",
    "elif SATELLITE == 'l8':\n",
    "    KERNEL_SIZE = 167\n",
    "\n",
    "print(KERNEL_SIZE)"
   ]
  },
  {
   "cell_type": "code",
   "execution_count": 4,
   "metadata": {
    "colab": {
     "base_uri": "https://localhost:8080/"
    },
    "id": "MwPA7XTCYmjh",
    "outputId": "74e611ba-5c81-44ca-e2ce-c595399753a0"
   },
   "outputs": [],
   "source": [
    "# Directory to store tfrecords\n",
    "out_path = os.path.join(GOOGLEDRIVE_DIR, \n",
    "            'Data', \n",
    "            SURVEY_NAME, \n",
    "            'FinalData',\n",
    "            'Individual Datasets',\n",
    "            'cnn_' + SATELLITE,\n",
    "            'tfrecords')"
   ]
  },
  {
   "cell_type": "markdown",
   "metadata": {
    "colab": {
     "base_uri": "https://localhost:8080/"
    },
    "id": "phzXq49zXVY5",
    "outputId": "0b60e419-0e3f-44e2-e927-0895afb316cc"
   },
   "source": [
    "## Load Data"
   ]
  },
  {
   "cell_type": "code",
   "execution_count": 5,
   "metadata": {},
   "outputs": [],
   "source": [
    "# Relies on VIIRs Values\n",
    "survey_df = pd.read_csv(os.path.join(DROPBOX_DIR, 'Data', SURVEY_NAME, 'FinalData', 'Individual Datasets', 'data_for_cnn.csv'))"
   ]
  },
  {
   "cell_type": "code",
   "execution_count": 6,
   "metadata": {
    "colab": {
     "base_uri": "https://localhost:8080/"
    },
    "id": "hpXnbunXYZdP",
    "outputId": "9cf085c9-5a7c-4298-9600-36158f5d7f7c"
   },
   "outputs": [],
   "source": [
    "# Remove observations that had issues\n",
    "#survey_df = survey_df[survey_df['GID_2'] != \"IND.18.1_1\"]\n",
    "survey_df = survey_df[survey_df['uid'] != 'CO201000003682']\n",
    "survey_df = survey_df[survey_df['uid'] != 'CO201000003683']\n",
    "survey_df = survey_df[survey_df['uid'] != 'CO201000004885']\n",
    "survey_df = survey_df[survey_df['uid'] != 'IA201400180058']\n",
    "survey_df = survey_df[survey_df['uid'] != 'IA201400180040']\n",
    "survey_df = survey_df[survey_df['uid'] != 'IA201400300032']\n",
    "survey_df = survey_df[survey_df['uid'] != 'IA201400010147']\n",
    "survey_df = survey_df[survey_df['uid'] != 'NM201300000001']\n",
    "survey_df = survey_df[survey_df['uid'] != 'CO201000002924']\n",
    "survey_df = survey_df[survey_df['uid'] != 'CO201000002524']\n",
    "survey_df = survey_df[survey_df['uid'] != 'CO201000001170']\n",
    "survey_df = survey_df[survey_df['uid'] != 'CO201000003554']\n",
    "survey_df = survey_df[survey_df['uid'] != 'GA201200000310']\n",
    "survey_df = survey_df[survey_df['uid'] != 'IA201400180104'] # maybe OK?\n",
    "survey_df = survey_df[survey_df['uid'] != 'IA201400180012']\n",
    "survey_df = survey_df[survey_df['uid'] != 'IA201400180011']\n",
    "survey_df = survey_df[survey_df['uid'] != 'IA201400180048']\n",
    "survey_df = survey_df[survey_df['uid'] != 'IA201400300002']\n",
    "survey_df = survey_df[survey_df['uid'] != 'IA201400130192']\n",
    "survey_df = survey_df[survey_df['uid'] != 'IA201400140845']\n",
    "survey_df = survey_df[survey_df['uid'] != 'IA201400010076']\n",
    "\n",
    "# List of TF Records\n",
    "tf_record_list = list(np.unique(survey_df.tfrecord_name))"
   ]
  },
  {
   "cell_type": "code",
   "execution_count": null,
   "metadata": {
    "id": "PTEEJI89XVY6"
   },
   "outputs": [
    {
     "name": "stdout",
     "output_type": "stream",
     "text": [
      "838\n"
     ]
    }
   ],
   "source": [
    "# If skip already scraped, remove existing tfrecords from tf_record_list\n",
    "if SKIP_IF_SCRAPED:\n",
    "    tf_records_exist = os.listdir(out_path)\n",
    "    tf_record_list = [x for x in tf_record_list if x not in tf_records_exist]\n",
    "    \n",
    "print(len(tf_record_list))"
   ]
  },
  {
   "cell_type": "code",
   "execution_count": null,
   "metadata": {
    "id": "c89pBOUXZT_V"
   },
   "outputs": [
    {
     "name": "stdout",
     "output_type": "stream",
     "text": [
      "Putting 100 observations into forcnn_AL_5_1_all.tfrecord\n"
     ]
    },
    {
     "name": "stderr",
     "output_type": "stream",
     "text": [
      "/Users/robmarty/anaconda3/lib/python3.7/site-packages/ipykernel_launcher.py:12: SettingWithCopyWarning: \n",
      "A value is trying to be set on a copy of a slice from a DataFrame.\n",
      "Try using .loc[row_indexer,col_indexer] = value instead\n",
      "\n",
      "See the caveats in the documentation: https://pandas.pydata.org/pandas-docs/stable/user_guide/indexing.html#returning-a-view-versus-a-copy\n",
      "  if sys.path[0] == '':\n"
     ]
    },
    {
     "name": "stdout",
     "output_type": "stream",
     "text": [
      "Observation: 0/100\n",
      "Observation: 5/100\n",
      "Observation: 10/100\n",
      "Observation: 15/100\n",
      "Observation: 20/100\n",
      "Observation: 25/100\n",
      "Observation: 30/100\n",
      "Observation: 35/100\n",
      "Observation: 40/100\n",
      "Observation: 45/100\n",
      "Observation: 50/100\n",
      "Observation: 55/100\n",
      "Observation: 60/100\n",
      "Observation: 65/100\n",
      "Observation: 70/100\n",
      "Observation: 75/100\n",
      "Observation: 80/100\n",
      "Putting 100 observations into forcnn_CO_4_2_all.tfrecord\n",
      "Observation: 0/100\n",
      "Observation: 5/100\n",
      "Observation: 10/100\n",
      "Observation: 15/100\n",
      "Observation: 20/100\n",
      "Observation: 25/100\n",
      "Observation: 30/100\n",
      "Observation: 35/100\n",
      "Observation: 40/100\n",
      "Observation: 45/100\n",
      "Observation: 50/100\n",
      "Observation: 55/100\n",
      "Observation: 60/100\n",
      "Observation: 65/100\n",
      "Observation: 70/100\n",
      "Observation: 75/100\n",
      "Observation: 80/100\n",
      "Observation: 85/100\n",
      "Observation: 90/100\n",
      "Observation: 95/100\n",
      "/Users/robmarty/Google Drive/World Bank/IEs/Pakistan Poverty Estimation/Data/DHS/FinalData/Individual Datasets/cnn_s2/tfrecords/forcnn_CO_4_2_all.tfrecord\n",
      "Success \\o/\n",
      "Putting 100 observations into forcnn_CO_4_3_all.tfrecord\n",
      "Observation: 0/100\n",
      "Observation: 5/100\n",
      "Observation: 10/100\n",
      "Observation: 15/100\n",
      "Observation: 20/100\n",
      "Observation: 25/100\n",
      "Observation: 30/100\n",
      "Observation: 35/100\n",
      "Observation: 40/100\n",
      "Observation: 45/100\n",
      "Observation: 50/100\n",
      "Observation: 55/100\n",
      "Observation: 60/100\n",
      "Observation: 65/100\n",
      "Observation: 70/100\n",
      "Observation: 75/100\n",
      "Observation: 80/100\n",
      "Observation: 85/100\n",
      "Observation: 90/100\n",
      "Observation: 95/100\n",
      "/Users/robmarty/Google Drive/World Bank/IEs/Pakistan Poverty Estimation/Data/DHS/FinalData/Individual Datasets/cnn_s2/tfrecords/forcnn_CO_4_3_all.tfrecord\n",
      "Success \\o/\n",
      "Putting 100 observations into forcnn_CO_4_4_all.tfrecord\n",
      "Observation: 0/100\n",
      "Observation: 5/100\n",
      "Observation: 10/100\n",
      "Observation: 15/100\n",
      "Observation: 20/100\n",
      "Observation: 25/100\n"
     ]
    }
   ],
   "source": [
    "### Loop through all tfrecords\n",
    "for tfr_i in tf_record_list:\n",
    "    \n",
    "    # Sometimes we get computational time out errors. If occurs, just skip and go to next.\n",
    "    # We can then go back and rescrape missed ones.\n",
    "    try:\n",
    "    \n",
    "        survey_df_yeari = survey_df[survey_df['tfrecord_name'] == tfr_i]\n",
    "        year_i = survey_df_yeari['year'].iloc[0]\n",
    "\n",
    "        ### Loop through chunks within tfrecord (can only pull so much data from GEE at a time)\n",
    "        survey_df_yeari['chunk_id'] = utils.chunk_ids(survey_df_yeari.shape[0], CHUNK_SIZE)\n",
    "\n",
    "        print(\"Putting \" + str(survey_df_yeari.shape[0]) + \" observations into \" + tfr_i)\n",
    "\n",
    "        proto_examples_all = []\n",
    "        for chunk_i in list(np.unique(survey_df_yeari.chunk_id)):\n",
    "            time.sleep(6)\n",
    "            print(\"Observation: \" + str(len(proto_examples_all)) + \"/\" + str(survey_df_yeari.shape[0]))\n",
    "\n",
    "            survey_df_yeari_chunki = survey_df_yeari[survey_df_yeari['chunk_id'] == chunk_i]\n",
    "\n",
    "            proto_examples_i = utils.prep_cnn_np(survey_df_yeari_chunki, SATELLITE, KERNEL_SIZE, year_i)\n",
    "            proto_examples_all.extend(proto_examples_i)\n",
    "\n",
    "        ### Save data as tf record\n",
    "        out_path_i = os.path.join(out_path, tfr_i)\n",
    "        print(out_path_i)\n",
    "        with tf.io.TFRecordWriter(out_path_i) as writer:\n",
    "            for tf_example in proto_examples_all:\n",
    "                writer.write(tf_example.SerializeToString())\n",
    "\n",
    "        print(\"Success \\o/\")\n",
    "                \n",
    "    except:\n",
    "        pass"
   ]
  },
  {
   "cell_type": "code",
   "execution_count": null,
   "metadata": {
    "colab": {
     "base_uri": "https://localhost:8080/"
    },
    "id": "gfMKJ0ILXVZC",
    "outputId": "4c960a89-0028-4fdd-be62-5e7d0e073240"
   },
   "outputs": [],
   "source": []
  },
  {
   "cell_type": "code",
   "execution_count": null,
   "metadata": {
    "colab": {
     "base_uri": "https://localhost:8080/",
     "height": 224
    },
    "id": "I6NhXtwo73AK",
    "outputId": "988398b3-4e62-4be2-8817-532af8d6f58e"
   },
   "outputs": [],
   "source": [
    "for row_i in range(0,10):\n",
    "    print(row_i)\n",
    "    proto_examples_i = utils.prep_cnn_np(survey_df_yeari_chunki.iloc[[row_i]], SATELLITE, KERNEL_SIZE, year_i)"
   ]
  },
  {
   "cell_type": "code",
   "execution_count": null,
   "metadata": {
    "id": "3l_U7gwb_vDC"
   },
   "outputs": [],
   "source": [
    "survey_df_yeari_chunki.iloc[[4]]"
   ]
  },
  {
   "cell_type": "code",
   "execution_count": null,
   "metadata": {
    "colab": {
     "base_uri": "https://localhost:8080/",
     "height": 224
    },
    "id": "YuhpLiDq_zLm",
    "outputId": "f5dc6270-4493-4cbf-b2b0-18ec047077fa"
   },
   "outputs": [],
   "source": []
  },
  {
   "cell_type": "code",
   "execution_count": null,
   "metadata": {
    "colab": {
     "base_uri": "https://localhost:8080/"
    },
    "id": "zU05sc-s29jA",
    "outputId": "f9f946fc-d6a6-44e8-c2c2-539ec29937b9"
   },
   "outputs": [],
   "source": []
  },
  {
   "cell_type": "code",
   "execution_count": null,
   "metadata": {
    "id": "fVeX2_WIkGiV"
   },
   "outputs": [],
   "source": []
  },
  {
   "cell_type": "code",
   "execution_count": 72,
   "metadata": {
    "id": "4RhcmrWylK6k"
   },
   "outputs": [],
   "source": []
  },
  {
   "cell_type": "code",
   "execution_count": null,
   "metadata": {
    "colab": {
     "base_uri": "https://localhost:8080/",
     "height": 80
    },
    "id": "pFHX00Y4ld81",
    "outputId": "4c9c913a-dce5-47b7-e28e-b9c6f14b7fed"
   },
   "outputs": [],
   "source": []
  },
  {
   "cell_type": "code",
   "execution_count": null,
   "metadata": {
    "colab": {
     "base_uri": "https://localhost:8080/"
    },
    "id": "9tk6RNyHXVZC",
    "outputId": "8806e5aa-370a-4a24-c6ba-062cf52f5ffb"
   },
   "outputs": [],
   "source": []
  },
  {
   "cell_type": "code",
   "execution_count": null,
   "metadata": {
    "id": "WAVqwXz7_lDL"
   },
   "outputs": [],
   "source": []
  },
  {
   "cell_type": "code",
   "execution_count": null,
   "metadata": {
    "colab": {
     "base_uri": "https://localhost:8080/"
    },
    "id": "I9atvzCW65oh",
    "outputId": "515a1320-e759-4e12-a053-362d7562c52f"
   },
   "outputs": [],
   "source": []
  },
  {
   "cell_type": "code",
   "execution_count": null,
   "metadata": {
    "colab": {
     "base_uri": "https://localhost:8080/"
    },
    "id": "5UrbRLqLKAtA",
    "outputId": "936ca132-44fc-45cb-d754-ad9dcfb8901e"
   },
   "outputs": [],
   "source": []
  },
  {
   "cell_type": "code",
   "execution_count": null,
   "metadata": {
    "id": "gaBcOr2w77ZL"
   },
   "outputs": [],
   "source": []
  },
  {
   "cell_type": "code",
   "execution_count": null,
   "metadata": {
    "colab": {
     "base_uri": "https://localhost:8080/"
    },
    "id": "l69Wpxz5XVZC",
    "outputId": "5d4d531b-61ef-45c7-b5b5-f25cb875c6b6"
   },
   "outputs": [],
   "source": []
  },
  {
   "cell_type": "code",
   "execution_count": null,
   "metadata": {
    "colab": {
     "base_uri": "https://localhost:8080/"
    },
    "id": "Q9MXwUdTXVZD",
    "outputId": "0bc2748f-ebe3-466d-a859-924eaa1b9081"
   },
   "outputs": [],
   "source": []
  },
  {
   "cell_type": "code",
   "execution_count": null,
   "metadata": {
    "colab": {
     "base_uri": "https://localhost:8080/",
     "height": 181
    },
    "id": "iLbrGQTRojcS",
    "outputId": "43aabd48-e175-4d1c-f5f1-48be198520b0"
   },
   "outputs": [],
   "source": []
  },
  {
   "cell_type": "code",
   "execution_count": null,
   "metadata": {
    "colab": {
     "base_uri": "https://localhost:8080/",
     "height": 198
    },
    "id": "VHZAJ22anj6b",
    "outputId": "bebf3669-139a-423a-a967-78109a8c80a2"
   },
   "outputs": [],
   "source": []
  },
  {
   "cell_type": "code",
   "execution_count": null,
   "metadata": {
    "id": "y1MXAhkbpRkI"
   },
   "outputs": [],
   "source": []
  },
  {
   "cell_type": "code",
   "execution_count": null,
   "metadata": {
    "colab": {
     "base_uri": "https://localhost:8080/",
     "height": 198
    },
    "id": "93PWEi6jm-3K",
    "outputId": "67dcc0a7-1516-4ee8-bfd9-694fd0f347de"
   },
   "outputs": [],
   "source": []
  },
  {
   "cell_type": "code",
   "execution_count": null,
   "metadata": {
    "id": "5Rm6K6D-XVZD"
   },
   "outputs": [],
   "source": []
  },
  {
   "cell_type": "code",
   "execution_count": null,
   "metadata": {
    "colab": {
     "base_uri": "https://localhost:8080/"
    },
    "id": "fod-VYxLXVZE",
    "outputId": "3dd1f56a-476b-4aad-8279-86840b0bc026"
   },
   "outputs": [],
   "source": []
  },
  {
   "cell_type": "code",
   "execution_count": null,
   "metadata": {
    "colab": {
     "base_uri": "https://localhost:8080/"
    },
    "id": "t0iUwZmAXVZE",
    "outputId": "a33e2442-ae0c-4f62-ce6b-eddb002c165d"
   },
   "outputs": [],
   "source": []
  },
  {
   "cell_type": "code",
   "execution_count": null,
   "metadata": {
    "colab": {
     "base_uri": "https://localhost:8080/"
    },
    "id": "62ReOurYXVZE",
    "outputId": "92795c41-e2b9-4971-f512-9d56b18cf5d8"
   },
   "outputs": [],
   "source": []
  },
  {
   "cell_type": "code",
   "execution_count": null,
   "metadata": {
    "id": "-SajCSlNXVZE"
   },
   "outputs": [],
   "source": []
  },
  {
   "cell_type": "code",
   "execution_count": null,
   "metadata": {
    "id": "LJAM4iswXVZE"
   },
   "outputs": [],
   "source": []
  },
  {
   "cell_type": "code",
   "execution_count": null,
   "metadata": {
    "id": "9wYDJxfpXVZF"
   },
   "outputs": [],
   "source": []
  },
  {
   "cell_type": "code",
   "execution_count": null,
   "metadata": {
    "id": "Zb0U780PXVZF"
   },
   "outputs": [],
   "source": []
  },
  {
   "cell_type": "code",
   "execution_count": null,
   "metadata": {
    "id": "pBuKts4wXVZF"
   },
   "outputs": [],
   "source": []
  },
  {
   "cell_type": "code",
   "execution_count": null,
   "metadata": {
    "id": "IS7Bb2f0XVZF"
   },
   "outputs": [],
   "source": []
  },
  {
   "cell_type": "code",
   "execution_count": null,
   "metadata": {
    "id": "ju-_zuLnXVZF"
   },
   "outputs": [],
   "source": []
  },
  {
   "cell_type": "code",
   "execution_count": null,
   "metadata": {
    "id": "fD0SacCEXVZF"
   },
   "outputs": [],
   "source": []
  },
  {
   "cell_type": "code",
   "execution_count": null,
   "metadata": {
    "id": "0xqAkzCqXVZG"
   },
   "outputs": [],
   "source": []
  },
  {
   "cell_type": "code",
   "execution_count": null,
   "metadata": {
    "id": "JDskpn-iXVZG"
   },
   "outputs": [],
   "source": []
  },
  {
   "cell_type": "code",
   "execution_count": null,
   "metadata": {
    "id": "0Iep8MNNXVZG"
   },
   "outputs": [],
   "source": []
  },
  {
   "cell_type": "code",
   "execution_count": null,
   "metadata": {
    "id": "TNjhMUDHXVZH"
   },
   "outputs": [],
   "source": []
  },
  {
   "cell_type": "code",
   "execution_count": null,
   "metadata": {
    "id": "mPzEHDBcXVZH"
   },
   "outputs": [],
   "source": []
  },
  {
   "cell_type": "code",
   "execution_count": null,
   "metadata": {
    "id": "jVI8BPYMXVZH"
   },
   "outputs": [],
   "source": []
  },
  {
   "cell_type": "code",
   "execution_count": null,
   "metadata": {
    "id": "eQR8aHw2XVZH"
   },
   "outputs": [],
   "source": []
  },
  {
   "cell_type": "code",
   "execution_count": null,
   "metadata": {
    "id": "H5pJ0FIOXVZI"
   },
   "outputs": [],
   "source": []
  },
  {
   "cell_type": "code",
   "execution_count": null,
   "metadata": {
    "id": "H9GuSI50opSX"
   },
   "outputs": [],
   "source": []
  }
 ],
 "metadata": {
  "colab": {
   "collapsed_sections": [],
   "name": "01_extract_data_gee_for_cnn.ipynb",
   "provenance": []
  },
  "kernelspec": {
   "display_name": "Python 3",
   "language": "python",
   "name": "python3"
  },
  "language_info": {
   "codemirror_mode": {
    "name": "ipython",
    "version": 3
   },
   "file_extension": ".py",
   "mimetype": "text/x-python",
   "name": "python",
   "nbconvert_exporter": "python",
   "pygments_lexer": "ipython3",
   "version": "3.7.2"
  }
 },
 "nbformat": 4,
 "nbformat_minor": 2
}
