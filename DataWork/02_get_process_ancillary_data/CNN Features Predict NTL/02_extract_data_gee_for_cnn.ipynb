{
 "cells": [
  {
   "cell_type": "markdown",
   "metadata": {
    "id": "X0MV-G1dXVY2"
   },
   "source": [
    "# Prepare CNN Data"
   ]
  },
  {
   "cell_type": "markdown",
   "metadata": {
    "id": "iuOZpPbiXVY5"
   },
   "source": [
    "## Setup"
   ]
  },
  {
   "cell_type": "code",
   "execution_count": 1,
   "metadata": {},
   "outputs": [
    {
     "data": {
      "text/html": [
       "<p>To authorize access needed by Earth Engine, open the following\n",
       "        URL in a web browser and follow the instructions:</p>\n",
       "        <p><a href=https://accounts.google.com/o/oauth2/auth?client_id=517222506229-vsmmajv00ul0bs7p89v5m89qs8eb9359.apps.googleusercontent.com&scope=https%3A%2F%2Fwww.googleapis.com%2Fauth%2Fearthengine+https%3A%2F%2Fwww.googleapis.com%2Fauth%2Fdevstorage.full_control&redirect_uri=urn%3Aietf%3Awg%3Aoauth%3A2.0%3Aoob&response_type=code&code_challenge=JOkVWTfBNNy6AINarZe5pIgDULoO5FZ9bfFl_KVZvRQ&code_challenge_method=S256>https://accounts.google.com/o/oauth2/auth?client_id=517222506229-vsmmajv00ul0bs7p89v5m89qs8eb9359.apps.googleusercontent.com&scope=https%3A%2F%2Fwww.googleapis.com%2Fauth%2Fearthengine+https%3A%2F%2Fwww.googleapis.com%2Fauth%2Fdevstorage.full_control&redirect_uri=urn%3Aietf%3Awg%3Aoauth%3A2.0%3Aoob&response_type=code&code_challenge=JOkVWTfBNNy6AINarZe5pIgDULoO5FZ9bfFl_KVZvRQ&code_challenge_method=S256</a></p>\n",
       "        <p>The authorization workflow will generate a code, which you\n",
       "        should paste in the box below</p>\n",
       "        "
      ],
      "text/plain": [
       "<IPython.core.display.HTML object>"
      ]
     },
     "metadata": {},
     "output_type": "display_data"
    },
    {
     "name": "stdin",
     "output_type": "stream",
     "text": [
      "Enter verification code:  4/1AX4XfWj2wVHouQ8Ui8BE7S6-ObpkBBwkUgyaofx29WmJd4vmrIbmcDgrnkU\n"
     ]
    },
    {
     "name": "stdout",
     "output_type": "stream",
     "text": [
      "\n",
      "Successfully saved authorization token.\n"
     ]
    }
   ],
   "source": [
    "# USE ACCOUNT: robmarty3@gmail.com\n",
    "import ee\n",
    "ee.Authenticate()\n",
    "ee.Initialize()"
   ]
  },
  {
   "cell_type": "code",
   "execution_count": 1,
   "metadata": {},
   "outputs": [
    {
     "name": "stderr",
     "output_type": "stream",
     "text": [
      "/Users/robmarty/anaconda3/lib/python3.7/site-packages/dask/config.py:168: YAMLLoadWarning: calling yaml.load() without Loader=... is deprecated, as the default Loader is unsafe. Please read https://msg.pyyaml.org/load for full details.\n",
      "  data = yaml.load(f.read()) or {}\n",
      "/Users/robmarty/anaconda3/lib/python3.7/site-packages/xarray/core/merge.py:17: FutureWarning: The Panel class is removed from pandas. Accessing it from the top-level namespace will also be removed in the next version\n",
      "  PANDAS_TYPES = (pd.Series, pd.DataFrame, pd.Panel)\n",
      "/Users/robmarty/anaconda3/lib/python3.7/site-packages/distributed/config.py:20: YAMLLoadWarning: calling yaml.load() without Loader=... is deprecated, as the default Loader is unsafe. Please read https://msg.pyyaml.org/load for full details.\n",
      "  defaults = yaml.load(f)\n"
     ]
    }
   ],
   "source": [
    "import numpy as np\n",
    "import os, datetime\n",
    "import pandas as pd\n",
    "import itertools\n",
    "import tensorflow as tf\n",
    "import config as cf\n",
    "import ee_utils as utils\n",
    "import eeconvert\n",
    "import time\n",
    "\n",
    "#import geetools\n",
    "#from geetools import ui, cloud_mask\n",
    "#cloud_mask_landsatSR = cloud_mask.landsatSR()\n",
    "#cloud_mask_sentinel2 = cloud_mask.sentinel2()"
   ]
  },
  {
   "cell_type": "markdown",
   "metadata": {},
   "source": [
    "## Parameters"
   ]
  },
  {
   "cell_type": "code",
   "execution_count": 2,
   "metadata": {
    "id": "TqWX3QM4mVPW"
   },
   "outputs": [
    {
     "name": "stdout",
     "output_type": "stream",
     "text": [
      "224\n"
     ]
    }
   ],
   "source": [
    "#224\n",
    "SURVEY_NAME = 'DHS'\n",
    "SATELLITE = 's2'\n",
    "SKIP_IF_SCRAPED = True\n",
    "CHUNK_SIZE = 5 # Number of observtaions to scrape in GEE at any given time\n",
    "DROPBOX_DIR = cf.DROPBOX_DIRECTORY\n",
    "GOOGLEDRIVE_DIR = cf.GOOGLEDRIVE_DIRECTORY\n",
    "\n",
    "if SATELLITE == 's2':\n",
    "    KERNEL_SIZE = 224\n",
    "elif SATELLITE == 'l8':\n",
    "    KERNEL_SIZE = 167\n",
    "\n",
    "print(KERNEL_SIZE)"
   ]
  },
  {
   "cell_type": "code",
   "execution_count": 3,
   "metadata": {
    "colab": {
     "base_uri": "https://localhost:8080/"
    },
    "id": "MwPA7XTCYmjh",
    "outputId": "74e611ba-5c81-44ca-e2ce-c595399753a0"
   },
   "outputs": [],
   "source": [
    "# Directory to store tfrecords\n",
    "out_path = os.path.join(GOOGLEDRIVE_DIR, \n",
    "            'Data', \n",
    "            SURVEY_NAME, \n",
    "            'FinalData',\n",
    "            'Individual Datasets',\n",
    "            'cnn_' + SATELLITE,\n",
    "            'tfrecords')"
   ]
  },
  {
   "cell_type": "markdown",
   "metadata": {
    "colab": {
     "base_uri": "https://localhost:8080/"
    },
    "id": "phzXq49zXVY5",
    "outputId": "0b60e419-0e3f-44e2-e927-0895afb316cc"
   },
   "source": [
    "## Load Data"
   ]
  },
  {
   "cell_type": "code",
   "execution_count": null,
   "metadata": {},
   "outputs": [
    {
     "name": "stdout",
     "output_type": "stream",
     "text": [
      "(63374, 8)\n",
      "1    21907\n",
      "2    13247\n",
      "3    12022\n",
      "4     9063\n",
      "0     7135\n",
      "Name: ntl_group, dtype: int64\n"
     ]
    }
   ],
   "source": [
    "# Relies on VIIRs Values\n",
    "survey_df = pd.read_csv(os.path.join(DROPBOX_DIR, 'Data', SURVEY_NAME, 'FinalData', 'Individual Datasets', 'data_for_cnn.csv'))\n",
    "print(survey_df.shape)\n",
    "print(survey_df.ntl_group.value_counts())"
   ]
  },
  {
   "cell_type": "code",
   "execution_count": null,
   "metadata": {
    "colab": {
     "base_uri": "https://localhost:8080/"
    },
    "id": "hpXnbunXYZdP",
    "outputId": "9cf085c9-5a7c-4298-9600-36158f5d7f7c"
   },
   "outputs": [],
   "source": [
    "# Remove observations that had issues\n",
    "#survey_df = survey_df[survey_df['GID_2'] != \"IND.18.1_1\"]\n",
    "survey_df = survey_df[survey_df['uid'] != 'CO201000003682']\n",
    "survey_df = survey_df[survey_df['uid'] != 'CO201000003683']\n",
    "survey_df = survey_df[survey_df['uid'] != 'CO201000004885']\n",
    "survey_df = survey_df[survey_df['uid'] != 'IA201400180058']\n",
    "survey_df = survey_df[survey_df['uid'] != 'IA201400180040']\n",
    "survey_df = survey_df[survey_df['uid'] != 'IA201400300032']\n",
    "survey_df = survey_df[survey_df['uid'] != 'IA201400010147']\n",
    "survey_df = survey_df[survey_df['uid'] != 'NM201300000001']\n",
    "survey_df = survey_df[survey_df['uid'] != 'CO201000002924']\n",
    "survey_df = survey_df[survey_df['uid'] != 'CO201000002524']\n",
    "survey_df = survey_df[survey_df['uid'] != 'CO201000001170']\n",
    "survey_df = survey_df[survey_df['uid'] != 'CO201000003554']\n",
    "survey_df = survey_df[survey_df['uid'] != 'GA201200000310']\n",
    "survey_df = survey_df[survey_df['uid'] != 'IA201400180104'] # maybe OK?\n",
    "survey_df = survey_df[survey_df['uid'] != 'IA201400180012']\n",
    "survey_df = survey_df[survey_df['uid'] != 'IA201400180011']\n",
    "survey_df = survey_df[survey_df['uid'] != 'IA201400180048']\n",
    "survey_df = survey_df[survey_df['uid'] != 'IA201400300002']\n",
    "survey_df = survey_df[survey_df['uid'] != 'IA201400130192']\n",
    "survey_df = survey_df[survey_df['uid'] != 'IA201400140845']\n",
    "survey_df = survey_df[survey_df['uid'] != 'IA201400010076']\n",
    "\n",
    "# List of TF Records\n",
    "tf_record_list = list(np.unique(survey_df.tfrecord_name))"
   ]
  },
  {
   "cell_type": "code",
   "execution_count": null,
   "metadata": {
    "id": "PTEEJI89XVY6"
   },
   "outputs": [
    {
     "name": "stdout",
     "output_type": "stream",
     "text": [
      "975\n"
     ]
    }
   ],
   "source": [
    "# If skip already scraped, remove existing tfrecords from tf_record_list\n",
    "if SKIP_IF_SCRAPED:\n",
    "    tf_records_exist = os.listdir(out_path)\n",
    "    tf_record_list = [x for x in tf_record_list if x not in tf_records_exist]\n",
    "    \n",
    "print(len(tf_record_list))"
   ]
  },
  {
   "cell_type": "code",
   "execution_count": null,
   "metadata": {
    "id": "c89pBOUXZT_V"
   },
   "outputs": [
    {
     "name": "stdout",
     "output_type": "stream",
     "text": [
      "Putting 65 observations into forcnn_AL_1_1_all.tfrecord\n"
     ]
    },
    {
     "name": "stderr",
     "output_type": "stream",
     "text": [
      "/Users/robmarty/anaconda3/lib/python3.7/site-packages/ipykernel_launcher.py:12: SettingWithCopyWarning: \n",
      "A value is trying to be set on a copy of a slice from a DataFrame.\n",
      "Try using .loc[row_indexer,col_indexer] = value instead\n",
      "\n",
      "See the caveats in the documentation: https://pandas.pydata.org/pandas-docs/stable/user_guide/indexing.html#returning-a-view-versus-a-copy\n",
      "  if sys.path[0] == '':\n"
     ]
    },
    {
     "name": "stdout",
     "output_type": "stream",
     "text": [
      "Observation: 0/65\n",
      "Observation: 5/65\n",
      "Observation: 10/65\n",
      "Observation: 15/65\n",
      "Observation: 20/65\n",
      "Observation: 25/65\n",
      "Observation: 30/65\n",
      "Observation: 35/65\n",
      "Observation: 40/65\n",
      "Observation: 45/65\n",
      "Observation: 50/65\n",
      "Observation: 55/65\n",
      "Observation: 60/65\n",
      "/Users/robmarty/Google Drive/World Bank/IEs/Pakistan Poverty Estimation/Data/DHS/FinalData/Individual Datasets/cnn_s2/tfrecords/forcnn_AL_1_1_all.tfrecord\n",
      "Success \\o/\n",
      "Putting 100 observations into forcnn_AL_2_1_all.tfrecord\n",
      "Observation: 0/100\n",
      "Observation: 5/100\n",
      "Observation: 10/100\n",
      "Observation: 15/100\n",
      "Observation: 20/100\n",
      "Observation: 25/100\n",
      "Observation: 30/100\n",
      "Observation: 35/100\n",
      "Observation: 40/100\n",
      "Observation: 45/100\n",
      "Observation: 50/100\n",
      "Observation: 55/100\n",
      "Observation: 60/100\n",
      "Observation: 65/100\n",
      "Observation: 70/100\n",
      "Observation: 75/100\n",
      "Observation: 80/100\n",
      "Observation: 85/100\n",
      "Observation: 90/100\n",
      "Observation: 95/100\n",
      "/Users/robmarty/Google Drive/World Bank/IEs/Pakistan Poverty Estimation/Data/DHS/FinalData/Individual Datasets/cnn_s2/tfrecords/forcnn_AL_2_1_all.tfrecord\n",
      "Success \\o/\n",
      "Putting 26 observations into forcnn_AL_2_2_all.tfrecord\n",
      "Observation: 0/26\n",
      "Observation: 5/26\n",
      "Observation: 10/26\n",
      "Observation: 15/26\n",
      "Observation: 20/26\n",
      "Observation: 25/26\n",
      "/Users/robmarty/Google Drive/World Bank/IEs/Pakistan Poverty Estimation/Data/DHS/FinalData/Individual Datasets/cnn_s2/tfrecords/forcnn_AL_2_2_all.tfrecord\n",
      "Success \\o/\n",
      "Putting 57 observations into forcnn_AL_3_1_all.tfrecord\n",
      "Observation: 0/57\n",
      "Observation: 5/57\n",
      "Observation: 10/57\n",
      "Observation: 15/57\n",
      "Observation: 20/57\n",
      "Observation: 25/57\n",
      "Observation: 30/57\n",
      "Observation: 35/57\n",
      "Observation: 40/57\n",
      "Observation: 45/57\n",
      "Putting 81 observations into forcnn_AL_4_1_all.tfrecord\n",
      "Observation: 0/81\n",
      "Observation: 5/81\n",
      "Observation: 10/81\n",
      "Observation: 15/81\n",
      "Observation: 20/81\n",
      "Observation: 25/81\n",
      "Observation: 30/81\n",
      "Observation: 35/81\n",
      "Observation: 40/81\n",
      "Observation: 45/81\n",
      "Observation: 50/81\n",
      "Observation: 55/81\n",
      "Observation: 60/81\n",
      "Observation: 65/81\n",
      "Observation: 70/81\n",
      "Observation: 75/81\n",
      "Observation: 80/81\n",
      "/Users/robmarty/Google Drive/World Bank/IEs/Pakistan Poverty Estimation/Data/DHS/FinalData/Individual Datasets/cnn_s2/tfrecords/forcnn_AL_4_1_all.tfrecord\n",
      "Success \\o/\n",
      "Putting 60 observations into forcnn_AL_5_1_all.tfrecord\n",
      "Observation: 0/60\n",
      "Observation: 5/60\n",
      "Observation: 10/60\n",
      "Observation: 15/60\n",
      "Observation: 20/60\n",
      "Observation: 25/60\n",
      "Observation: 30/60\n",
      "Observation: 35/60\n",
      "Observation: 40/60\n",
      "Observation: 45/60\n",
      "Observation: 50/60\n",
      "Observation: 55/60\n",
      "/Users/robmarty/Google Drive/World Bank/IEs/Pakistan Poverty Estimation/Data/DHS/FinalData/Individual Datasets/cnn_s2/tfrecords/forcnn_AL_5_1_all.tfrecord\n",
      "Success \\o/\n",
      "Putting 34 observations into forcnn_AM_1_1_all.tfrecord\n",
      "Observation: 0/34\n",
      "Observation: 5/34\n",
      "Observation: 10/34\n",
      "Observation: 15/34\n",
      "Observation: 20/34\n",
      "Observation: 25/34\n",
      "Observation: 30/34\n",
      "/Users/robmarty/Google Drive/World Bank/IEs/Pakistan Poverty Estimation/Data/DHS/FinalData/Individual Datasets/cnn_s2/tfrecords/forcnn_AM_1_1_all.tfrecord\n",
      "Success \\o/\n",
      "Putting 22 observations into forcnn_AM_2_1_all.tfrecord\n",
      "Observation: 0/22\n",
      "Observation: 5/22\n",
      "Observation: 10/22\n",
      "Observation: 15/22\n",
      "Observation: 20/22\n",
      "/Users/robmarty/Google Drive/World Bank/IEs/Pakistan Poverty Estimation/Data/DHS/FinalData/Individual Datasets/cnn_s2/tfrecords/forcnn_AM_2_1_all.tfrecord\n",
      "Success \\o/\n",
      "Putting 33 observations into forcnn_AM_3_1_all.tfrecord\n",
      "Observation: 0/33\n",
      "Observation: 5/33\n",
      "Observation: 10/33\n",
      "Observation: 15/33\n",
      "Observation: 20/33\n",
      "Observation: 25/33\n",
      "Observation: 30/33\n",
      "/Users/robmarty/Google Drive/World Bank/IEs/Pakistan Poverty Estimation/Data/DHS/FinalData/Individual Datasets/cnn_s2/tfrecords/forcnn_AM_3_1_all.tfrecord\n",
      "Success \\o/\n",
      "Putting 50 observations into forcnn_AM_4_1_all.tfrecord\n",
      "Observation: 0/50\n",
      "Observation: 5/50\n",
      "Observation: 10/50\n",
      "Observation: 15/50\n",
      "Observation: 20/50\n",
      "Observation: 25/50\n",
      "Observation: 30/50\n",
      "Observation: 35/50\n",
      "Observation: 40/50\n",
      "Observation: 45/50\n",
      "/Users/robmarty/Google Drive/World Bank/IEs/Pakistan Poverty Estimation/Data/DHS/FinalData/Individual Datasets/cnn_s2/tfrecords/forcnn_AM_4_1_all.tfrecord\n",
      "Success \\o/\n",
      "Putting 25 observations into forcnn_AM_5_1_all.tfrecord\n",
      "Observation: 0/25\n",
      "Observation: 5/25\n",
      "Observation: 10/25\n",
      "Observation: 15/25\n",
      "Observation: 20/25\n",
      "/Users/robmarty/Google Drive/World Bank/IEs/Pakistan Poverty Estimation/Data/DHS/FinalData/Individual Datasets/cnn_s2/tfrecords/forcnn_AM_5_1_all.tfrecord\n",
      "Success \\o/\n",
      "Putting 92 observations into forcnn_AO_1_1_all.tfrecord\n",
      "Observation: 0/92\n",
      "Observation: 5/92\n",
      "Observation: 10/92\n",
      "Observation: 15/92\n",
      "Observation: 20/92\n",
      "Observation: 25/92\n",
      "Observation: 30/92\n",
      "Observation: 35/92\n",
      "Observation: 40/92\n",
      "Observation: 45/92\n",
      "Observation: 50/92\n",
      "Observation: 55/92\n",
      "Observation: 60/92\n",
      "Observation: 65/92\n",
      "Observation: 70/92\n",
      "Observation: 75/92\n",
      "Observation: 80/92\n",
      "Observation: 85/92\n",
      "Observation: 90/92\n",
      "/Users/robmarty/Google Drive/World Bank/IEs/Pakistan Poverty Estimation/Data/DHS/FinalData/Individual Datasets/cnn_s2/tfrecords/forcnn_AO_1_1_all.tfrecord\n",
      "Success \\o/\n",
      "Putting 98 observations into forcnn_AO_2_1_all.tfrecord\n",
      "Observation: 0/98\n",
      "Observation: 5/98\n",
      "Observation: 10/98\n",
      "Observation: 15/98\n",
      "Observation: 20/98\n",
      "Observation: 25/98\n",
      "Observation: 30/98\n",
      "Observation: 35/98\n",
      "Observation: 40/98\n",
      "Observation: 45/98\n",
      "Observation: 50/98\n",
      "Observation: 55/98\n",
      "Observation: 60/98\n",
      "Observation: 65/98\n",
      "Observation: 70/98\n",
      "Observation: 75/98\n",
      "Observation: 80/98\n",
      "Observation: 85/98\n",
      "Observation: 90/98\n",
      "Observation: 95/98\n",
      "/Users/robmarty/Google Drive/World Bank/IEs/Pakistan Poverty Estimation/Data/DHS/FinalData/Individual Datasets/cnn_s2/tfrecords/forcnn_AO_2_1_all.tfrecord\n",
      "Success \\o/\n",
      "Putting 93 observations into forcnn_AO_3_1_all.tfrecord\n",
      "Observation: 0/93\n",
      "Observation: 5/93\n",
      "Observation: 10/93\n",
      "Observation: 15/93\n",
      "Observation: 20/93\n",
      "Observation: 25/93\n",
      "Observation: 30/93\n",
      "Observation: 35/93\n",
      "Observation: 40/93\n",
      "Observation: 45/93\n",
      "Putting 100 observations into forcnn_AO_4_1_all.tfrecord\n",
      "Observation: 0/100\n",
      "Observation: 5/100\n",
      "Observation: 10/100\n",
      "Observation: 15/100\n",
      "Observation: 20/100\n",
      "Observation: 25/100\n",
      "Observation: 30/100\n",
      "Observation: 35/100\n",
      "Observation: 40/100\n",
      "Observation: 45/100\n",
      "Observation: 50/100\n",
      "Observation: 55/100\n",
      "Observation: 60/100\n",
      "Observation: 65/100\n",
      "Putting 18 observations into forcnn_AO_4_2_all.tfrecord\n",
      "Observation: 0/18\n",
      "Observation: 5/18\n",
      "Observation: 10/18\n",
      "Observation: 15/18\n",
      "/Users/robmarty/Google Drive/World Bank/IEs/Pakistan Poverty Estimation/Data/DHS/FinalData/Individual Datasets/cnn_s2/tfrecords/forcnn_AO_4_2_all.tfrecord\n",
      "Success \\o/\n",
      "Putting 90 observations into forcnn_AO_5_1_all.tfrecord\n",
      "Observation: 0/90\n",
      "Observation: 5/90\n",
      "Observation: 10/90\n",
      "Observation: 15/90\n",
      "Observation: 20/90\n",
      "Observation: 25/90\n",
      "Observation: 30/90\n",
      "Observation: 35/90\n",
      "Observation: 40/90\n",
      "Observation: 45/90\n",
      "Observation: 50/90\n",
      "Observation: 55/90\n",
      "Observation: 60/90\n",
      "Observation: 65/90\n",
      "Observation: 70/90\n",
      "Observation: 75/90\n",
      "Observation: 80/90\n",
      "Observation: 85/90\n",
      "/Users/robmarty/Google Drive/World Bank/IEs/Pakistan Poverty Estimation/Data/DHS/FinalData/Individual Datasets/cnn_s2/tfrecords/forcnn_AO_5_1_all.tfrecord\n",
      "Success \\o/\n",
      "Putting 41 observations into forcnn_BD_1_1_all.tfrecord\n",
      "Observation: 0/41\n",
      "Observation: 5/41\n",
      "Observation: 10/41\n",
      "Observation: 15/41\n",
      "Observation: 20/41\n",
      "Observation: 25/41\n",
      "Observation: 30/41\n",
      "Observation: 35/41\n",
      "Observation: 40/41\n",
      "/Users/robmarty/Google Drive/World Bank/IEs/Pakistan Poverty Estimation/Data/DHS/FinalData/Individual Datasets/cnn_s2/tfrecords/forcnn_BD_1_1_all.tfrecord\n",
      "Success \\o/\n",
      "Putting 59 observations into forcnn_BD_2_1_all.tfrecord\n",
      "Observation: 0/59\n",
      "Observation: 5/59\n",
      "Observation: 10/59\n",
      "Observation: 15/59\n",
      "Observation: 20/59\n",
      "Observation: 25/59\n",
      "Observation: 30/59\n",
      "Observation: 35/59\n",
      "Observation: 40/59\n",
      "Observation: 45/59\n",
      "Observation: 50/59\n",
      "Observation: 55/59\n",
      "/Users/robmarty/Google Drive/World Bank/IEs/Pakistan Poverty Estimation/Data/DHS/FinalData/Individual Datasets/cnn_s2/tfrecords/forcnn_BD_2_1_all.tfrecord\n",
      "Success \\o/\n",
      "Putting 63 observations into forcnn_BD_3_1_all.tfrecord\n",
      "Observation: 0/63\n",
      "Observation: 5/63\n",
      "Observation: 10/63\n",
      "Observation: 15/63\n",
      "Observation: 20/63\n",
      "Observation: 25/63\n",
      "Observation: 30/63\n",
      "Observation: 35/63\n",
      "Observation: 40/63\n",
      "Observation: 45/63\n",
      "Observation: 50/63\n",
      "Observation: 55/63\n",
      "Observation: 60/63\n",
      "/Users/robmarty/Google Drive/World Bank/IEs/Pakistan Poverty Estimation/Data/DHS/FinalData/Individual Datasets/cnn_s2/tfrecords/forcnn_BD_3_1_all.tfrecord\n",
      "Success \\o/\n",
      "Putting 45 observations into forcnn_BD_4_1_all.tfrecord\n",
      "Observation: 0/45\n",
      "Observation: 5/45\n",
      "Observation: 10/45\n",
      "Observation: 15/45\n",
      "Observation: 20/45\n",
      "Observation: 25/45\n",
      "Observation: 30/45\n",
      "Observation: 35/45\n",
      "Observation: 40/45\n",
      "/Users/robmarty/Google Drive/World Bank/IEs/Pakistan Poverty Estimation/Data/DHS/FinalData/Individual Datasets/cnn_s2/tfrecords/forcnn_BD_4_1_all.tfrecord\n",
      "Success \\o/\n",
      "Putting 82 observations into forcnn_BD_5_1_all.tfrecord\n",
      "Observation: 0/82\n",
      "Observation: 5/82\n",
      "Observation: 10/82\n",
      "Observation: 15/82\n",
      "Observation: 20/82\n",
      "Observation: 25/82\n",
      "Observation: 30/82\n",
      "Observation: 35/82\n",
      "Observation: 40/82\n",
      "Observation: 45/82\n",
      "Observation: 50/82\n",
      "Observation: 55/82\n",
      "Observation: 60/82\n",
      "Observation: 65/82\n",
      "Observation: 70/82\n",
      "Observation: 75/82\n",
      "Observation: 80/82\n",
      "/Users/robmarty/Google Drive/World Bank/IEs/Pakistan Poverty Estimation/Data/DHS/FinalData/Individual Datasets/cnn_s2/tfrecords/forcnn_BD_5_1_all.tfrecord\n",
      "Success \\o/\n",
      "Putting 23 observations into forcnn_BF_1_1_all.tfrecord\n",
      "Observation: 0/23\n",
      "Observation: 5/23\n",
      "Observation: 10/23\n",
      "Observation: 15/23\n",
      "Observation: 20/23\n",
      "/Users/robmarty/Google Drive/World Bank/IEs/Pakistan Poverty Estimation/Data/DHS/FinalData/Individual Datasets/cnn_s2/tfrecords/forcnn_BF_1_1_all.tfrecord\n",
      "Success \\o/\n",
      "Putting 10 observations into forcnn_BF_2_1_all.tfrecord\n",
      "Observation: 0/10\n",
      "Observation: 5/10\n",
      "/Users/robmarty/Google Drive/World Bank/IEs/Pakistan Poverty Estimation/Data/DHS/FinalData/Individual Datasets/cnn_s2/tfrecords/forcnn_BF_2_1_all.tfrecord\n",
      "Success \\o/\n",
      "Putting 15 observations into forcnn_BF_3_1_all.tfrecord\n",
      "Observation: 0/15\n",
      "Observation: 5/15\n",
      "Observation: 10/15\n",
      "/Users/robmarty/Google Drive/World Bank/IEs/Pakistan Poverty Estimation/Data/DHS/FinalData/Individual Datasets/cnn_s2/tfrecords/forcnn_BF_3_1_all.tfrecord\n",
      "Success \\o/\n",
      "Putting 25 observations into forcnn_BF_4_1_all.tfrecord\n",
      "Observation: 0/25\n",
      "Observation: 5/25\n",
      "Observation: 10/25\n",
      "Observation: 15/25\n",
      "Observation: 20/25\n",
      "/Users/robmarty/Google Drive/World Bank/IEs/Pakistan Poverty Estimation/Data/DHS/FinalData/Individual Datasets/cnn_s2/tfrecords/forcnn_BF_4_1_all.tfrecord\n",
      "Success \\o/\n",
      "Putting 11 observations into forcnn_BF_5_1_all.tfrecord\n",
      "Observation: 0/11\n",
      "Observation: 5/11\n",
      "Observation: 10/11\n",
      "/Users/robmarty/Google Drive/World Bank/IEs/Pakistan Poverty Estimation/Data/DHS/FinalData/Individual Datasets/cnn_s2/tfrecords/forcnn_BF_5_1_all.tfrecord\n",
      "Success \\o/\n",
      "Putting 49 observations into forcnn_BJ_1_1_all.tfrecord\n",
      "Observation: 0/49\n",
      "Observation: 5/49\n",
      "Observation: 10/49\n",
      "Observation: 15/49\n",
      "Observation: 20/49\n",
      "Observation: 25/49\n",
      "Observation: 30/49\n",
      "Observation: 35/49\n",
      "Observation: 40/49\n",
      "Observation: 45/49\n",
      "/Users/robmarty/Google Drive/World Bank/IEs/Pakistan Poverty Estimation/Data/DHS/FinalData/Individual Datasets/cnn_s2/tfrecords/forcnn_BJ_1_1_all.tfrecord\n",
      "Success \\o/\n",
      "Putting 38 observations into forcnn_BJ_2_1_all.tfrecord\n",
      "Observation: 0/38\n",
      "Observation: 5/38\n",
      "Observation: 10/38\n",
      "Observation: 15/38\n",
      "Observation: 20/38\n",
      "Observation: 25/38\n",
      "Observation: 30/38\n",
      "Observation: 35/38\n",
      "/Users/robmarty/Google Drive/World Bank/IEs/Pakistan Poverty Estimation/Data/DHS/FinalData/Individual Datasets/cnn_s2/tfrecords/forcnn_BJ_2_1_all.tfrecord\n",
      "Success \\o/\n",
      "Putting 30 observations into forcnn_BJ_3_1_all.tfrecord\n",
      "Observation: 0/30\n",
      "Observation: 5/30\n",
      "Observation: 10/30\n",
      "Observation: 15/30\n",
      "Observation: 20/30\n",
      "Observation: 25/30\n",
      "/Users/robmarty/Google Drive/World Bank/IEs/Pakistan Poverty Estimation/Data/DHS/FinalData/Individual Datasets/cnn_s2/tfrecords/forcnn_BJ_3_1_all.tfrecord\n",
      "Success \\o/\n",
      "Putting 48 observations into forcnn_BJ_4_1_all.tfrecord\n",
      "Observation: 0/48\n",
      "Observation: 5/48\n",
      "Observation: 10/48\n",
      "Observation: 15/48\n",
      "Observation: 20/48\n",
      "Observation: 25/48\n",
      "Observation: 30/48\n",
      "Observation: 35/48\n",
      "Observation: 40/48\n",
      "Observation: 45/48\n",
      "/Users/robmarty/Google Drive/World Bank/IEs/Pakistan Poverty Estimation/Data/DHS/FinalData/Individual Datasets/cnn_s2/tfrecords/forcnn_BJ_4_1_all.tfrecord\n",
      "Success \\o/\n",
      "Putting 38 observations into forcnn_BJ_5_1_all.tfrecord\n",
      "Observation: 0/38\n",
      "Observation: 5/38\n",
      "Observation: 10/38\n",
      "Observation: 15/38\n",
      "Observation: 20/38\n",
      "Observation: 25/38\n",
      "Observation: 30/38\n",
      "Observation: 35/38\n",
      "/Users/robmarty/Google Drive/World Bank/IEs/Pakistan Poverty Estimation/Data/DHS/FinalData/Individual Datasets/cnn_s2/tfrecords/forcnn_BJ_5_1_all.tfrecord\n",
      "Success \\o/\n",
      "Putting 100 observations into forcnn_BO_1_1_all.tfrecord\n",
      "Observation: 0/100\n",
      "Observation: 5/100\n",
      "Observation: 10/100\n",
      "Observation: 15/100\n",
      "Observation: 20/100\n",
      "Observation: 25/100\n",
      "Observation: 30/100\n",
      "Observation: 35/100\n",
      "Observation: 40/100\n",
      "Observation: 45/100\n",
      "Observation: 50/100\n",
      "Observation: 55/100\n",
      "Observation: 60/100\n",
      "Observation: 65/100\n",
      "Observation: 70/100\n",
      "Observation: 75/100\n",
      "Observation: 80/100\n",
      "Observation: 85/100\n",
      "Observation: 90/100\n",
      "Observation: 95/100\n",
      "/Users/robmarty/Google Drive/World Bank/IEs/Pakistan Poverty Estimation/Data/DHS/FinalData/Individual Datasets/cnn_s2/tfrecords/forcnn_BO_1_1_all.tfrecord\n",
      "Success \\o/\n",
      "Putting 62 observations into forcnn_BO_1_2_all.tfrecord\n",
      "Observation: 0/62\n",
      "Observation: 5/62\n",
      "Observation: 10/62\n",
      "Observation: 15/62\n",
      "Observation: 20/62\n",
      "Observation: 25/62\n",
      "Observation: 30/62\n",
      "Observation: 35/62\n",
      "Observation: 40/62\n",
      "Observation: 45/62\n",
      "Observation: 50/62\n",
      "Observation: 55/62\n",
      "Observation: 60/62\n",
      "/Users/robmarty/Google Drive/World Bank/IEs/Pakistan Poverty Estimation/Data/DHS/FinalData/Individual Datasets/cnn_s2/tfrecords/forcnn_BO_1_2_all.tfrecord\n",
      "Success \\o/\n",
      "Putting 100 observations into forcnn_BO_2_1_all.tfrecord\n",
      "Observation: 0/100\n",
      "Observation: 5/100\n",
      "Observation: 10/100\n",
      "Observation: 15/100\n",
      "Observation: 20/100\n",
      "Observation: 25/100\n",
      "Observation: 30/100\n",
      "Observation: 35/100\n",
      "Observation: 40/100\n",
      "Observation: 45/100\n",
      "Observation: 50/100\n",
      "Observation: 55/100\n",
      "Observation: 60/100\n",
      "Observation: 65/100\n",
      "Observation: 70/100\n",
      "Observation: 75/100\n",
      "Observation: 80/100\n",
      "Observation: 85/100\n",
      "Observation: 90/100\n",
      "Observation: 95/100\n",
      "/Users/robmarty/Google Drive/World Bank/IEs/Pakistan Poverty Estimation/Data/DHS/FinalData/Individual Datasets/cnn_s2/tfrecords/forcnn_BO_2_1_all.tfrecord\n",
      "Success \\o/\n",
      "Putting 100 observations into forcnn_BO_2_2_all.tfrecord\n",
      "Observation: 0/100\n",
      "Observation: 5/100\n",
      "Observation: 10/100\n",
      "Observation: 15/100\n",
      "Observation: 20/100\n",
      "Observation: 25/100\n",
      "Observation: 30/100\n",
      "Observation: 35/100\n",
      "Observation: 40/100\n",
      "Observation: 45/100\n",
      "Observation: 50/100\n",
      "Observation: 55/100\n",
      "Observation: 60/100\n",
      "Observation: 65/100\n",
      "Observation: 70/100\n",
      "Observation: 75/100\n",
      "Observation: 80/100\n",
      "Observation: 85/100\n",
      "Observation: 90/100\n",
      "Observation: 95/100\n",
      "/Users/robmarty/Google Drive/World Bank/IEs/Pakistan Poverty Estimation/Data/DHS/FinalData/Individual Datasets/cnn_s2/tfrecords/forcnn_BO_2_2_all.tfrecord\n",
      "Success \\o/\n",
      "Putting 34 observations into forcnn_BO_2_3_all.tfrecord\n",
      "Observation: 0/34\n",
      "Observation: 5/34\n",
      "Observation: 10/34\n",
      "Observation: 15/34\n",
      "Observation: 20/34\n",
      "Observation: 25/34\n",
      "Observation: 30/34\n",
      "/Users/robmarty/Google Drive/World Bank/IEs/Pakistan Poverty Estimation/Data/DHS/FinalData/Individual Datasets/cnn_s2/tfrecords/forcnn_BO_2_3_all.tfrecord\n",
      "Success \\o/\n",
      "Putting 80 observations into forcnn_BO_3_1_all.tfrecord\n",
      "Observation: 0/80\n",
      "Observation: 5/80\n",
      "Observation: 10/80\n",
      "Observation: 15/80\n",
      "Observation: 20/80\n",
      "Observation: 25/80\n",
      "Observation: 30/80\n",
      "Observation: 35/80\n",
      "Observation: 40/80\n",
      "Observation: 45/80\n",
      "Observation: 50/80\n",
      "Observation: 55/80\n",
      "Observation: 60/80\n",
      "Observation: 65/80\n",
      "Observation: 70/80\n",
      "Observation: 75/80\n",
      "/Users/robmarty/Google Drive/World Bank/IEs/Pakistan Poverty Estimation/Data/DHS/FinalData/Individual Datasets/cnn_s2/tfrecords/forcnn_BO_3_1_all.tfrecord\n",
      "Success \\o/\n",
      "Putting 100 observations into forcnn_BO_4_1_all.tfrecord\n",
      "Observation: 0/100\n",
      "Observation: 5/100\n",
      "Observation: 10/100\n",
      "Observation: 15/100\n",
      "Observation: 20/100\n",
      "Observation: 25/100\n",
      "Observation: 30/100\n",
      "Observation: 35/100\n",
      "Observation: 40/100\n",
      "Observation: 45/100\n",
      "Observation: 50/100\n",
      "Observation: 55/100\n",
      "Observation: 60/100\n",
      "Observation: 65/100\n",
      "Observation: 70/100\n",
      "Observation: 75/100\n",
      "Observation: 80/100\n",
      "Observation: 85/100\n",
      "Observation: 90/100\n",
      "Observation: 95/100\n",
      "/Users/robmarty/Google Drive/World Bank/IEs/Pakistan Poverty Estimation/Data/DHS/FinalData/Individual Datasets/cnn_s2/tfrecords/forcnn_BO_4_1_all.tfrecord\n",
      "Success \\o/\n",
      "Putting 23 observations into forcnn_BO_4_2_all.tfrecord\n",
      "Observation: 0/23\n",
      "Observation: 5/23\n",
      "Observation: 10/23\n",
      "Observation: 15/23\n",
      "Observation: 20/23\n",
      "/Users/robmarty/Google Drive/World Bank/IEs/Pakistan Poverty Estimation/Data/DHS/FinalData/Individual Datasets/cnn_s2/tfrecords/forcnn_BO_4_2_all.tfrecord\n",
      "Success \\o/\n",
      "Putting 100 observations into forcnn_BO_5_1_all.tfrecord\n",
      "Observation: 0/100\n",
      "Observation: 5/100\n",
      "Observation: 10/100\n",
      "Observation: 15/100\n",
      "Observation: 20/100\n",
      "Observation: 25/100\n",
      "Observation: 30/100\n",
      "Observation: 35/100\n",
      "Observation: 40/100\n",
      "Observation: 45/100\n",
      "Observation: 50/100\n",
      "Observation: 55/100\n",
      "Observation: 60/100\n",
      "Observation: 65/100\n",
      "Observation: 70/100\n",
      "Putting 81 observations into forcnn_BO_5_2_all.tfrecord\n",
      "Observation: 0/81\n",
      "Observation: 5/81\n",
      "Observation: 10/81\n",
      "Observation: 15/81\n",
      "Observation: 20/81\n",
      "Observation: 25/81\n",
      "Observation: 30/81\n",
      "Observation: 35/81\n",
      "Observation: 40/81\n",
      "Observation: 45/81\n",
      "Observation: 50/81\n",
      "Observation: 55/81\n",
      "Observation: 60/81\n",
      "Observation: 65/81\n",
      "Observation: 70/81\n",
      "Observation: 75/81\n",
      "Observation: 80/81\n",
      "/Users/robmarty/Google Drive/World Bank/IEs/Pakistan Poverty Estimation/Data/DHS/FinalData/Individual Datasets/cnn_s2/tfrecords/forcnn_BO_5_2_all.tfrecord\n",
      "Success \\o/\n",
      "Putting 89 observations into forcnn_BU_1_1_all.tfrecord\n",
      "Observation: 0/89\n",
      "Observation: 5/89\n",
      "Observation: 10/89\n",
      "Observation: 15/89\n",
      "Observation: 20/89\n",
      "Observation: 25/89\n",
      "Observation: 30/89\n",
      "Observation: 35/89\n",
      "Observation: 40/89\n",
      "Observation: 45/89\n",
      "Observation: 50/89\n",
      "Observation: 55/89\n",
      "Observation: 60/89\n",
      "Observation: 65/89\n",
      "Observation: 70/89\n",
      "Observation: 75/89\n",
      "Observation: 80/89\n",
      "Observation: 85/89\n",
      "/Users/robmarty/Google Drive/World Bank/IEs/Pakistan Poverty Estimation/Data/DHS/FinalData/Individual Datasets/cnn_s2/tfrecords/forcnn_BU_1_1_all.tfrecord\n",
      "Success \\o/\n",
      "Putting 62 observations into forcnn_BU_2_1_all.tfrecord\n",
      "Observation: 0/62\n",
      "Observation: 5/62\n",
      "Observation: 10/62\n",
      "Observation: 15/62\n",
      "Observation: 20/62\n",
      "Observation: 25/62\n",
      "Observation: 30/62\n",
      "Observation: 35/62\n",
      "Observation: 40/62\n",
      "Observation: 45/62\n",
      "Observation: 50/62\n",
      "Observation: 55/62\n",
      "Observation: 60/62\n",
      "/Users/robmarty/Google Drive/World Bank/IEs/Pakistan Poverty Estimation/Data/DHS/FinalData/Individual Datasets/cnn_s2/tfrecords/forcnn_BU_2_1_all.tfrecord\n",
      "Success \\o/\n",
      "Putting 95 observations into forcnn_BU_3_1_all.tfrecord\n",
      "Observation: 0/95\n",
      "Observation: 5/95\n",
      "Observation: 10/95\n",
      "Observation: 15/95\n",
      "Observation: 20/95\n",
      "Observation: 25/95\n",
      "Observation: 30/95\n",
      "Observation: 35/95\n",
      "Observation: 40/95\n",
      "Observation: 45/95\n",
      "Observation: 50/95\n",
      "Observation: 55/95\n",
      "Observation: 60/95\n",
      "Observation: 65/95\n",
      "Observation: 70/95\n",
      "Observation: 75/95\n",
      "Observation: 80/95\n",
      "Observation: 85/95\n",
      "Observation: 90/95\n",
      "/Users/robmarty/Google Drive/World Bank/IEs/Pakistan Poverty Estimation/Data/DHS/FinalData/Individual Datasets/cnn_s2/tfrecords/forcnn_BU_3_1_all.tfrecord\n",
      "Success \\o/\n",
      "Putting 66 observations into forcnn_BU_4_1_all.tfrecord\n",
      "Observation: 0/66\n",
      "Observation: 5/66\n",
      "Observation: 10/66\n",
      "Observation: 15/66\n",
      "Observation: 20/66\n",
      "Observation: 25/66\n",
      "Observation: 30/66\n",
      "Putting 92 observations into forcnn_BU_5_1_all.tfrecord\n",
      "Observation: 0/92\n",
      "Observation: 5/92\n",
      "Observation: 10/92\n",
      "Observation: 15/92\n",
      "Observation: 20/92\n",
      "Observation: 25/92\n",
      "Observation: 30/92\n",
      "Observation: 35/92\n",
      "Observation: 40/92\n",
      "Observation: 45/92\n",
      "Observation: 50/92\n",
      "Observation: 55/92\n",
      "Observation: 60/92\n",
      "Observation: 65/92\n",
      "Observation: 70/92\n",
      "Observation: 75/92\n",
      "Observation: 80/92\n",
      "Observation: 85/92\n",
      "Observation: 90/92\n",
      "/Users/robmarty/Google Drive/World Bank/IEs/Pakistan Poverty Estimation/Data/DHS/FinalData/Individual Datasets/cnn_s2/tfrecords/forcnn_BU_5_1_all.tfrecord\n",
      "Success \\o/\n",
      "Putting 69 observations into forcnn_CD_1_1_all.tfrecord\n",
      "Observation: 0/69\n",
      "Observation: 5/69\n",
      "Observation: 10/69\n",
      "Observation: 15/69\n",
      "Observation: 20/69\n",
      "Observation: 25/69\n",
      "Observation: 30/69\n",
      "Observation: 35/69\n",
      "Observation: 40/69\n",
      "Observation: 45/69\n",
      "Observation: 50/69\n",
      "Observation: 55/69\n",
      "Observation: 60/69\n",
      "Observation: 65/69\n",
      "/Users/robmarty/Google Drive/World Bank/IEs/Pakistan Poverty Estimation/Data/DHS/FinalData/Individual Datasets/cnn_s2/tfrecords/forcnn_CD_1_1_all.tfrecord\n",
      "Success \\o/\n",
      "Putting 91 observations into forcnn_CD_2_1_all.tfrecord\n",
      "Observation: 0/91\n",
      "Observation: 5/91\n",
      "Observation: 10/91\n",
      "Observation: 15/91\n",
      "Observation: 20/91\n",
      "Observation: 25/91\n",
      "Putting 100 observations into forcnn_CD_3_1_all.tfrecord\n",
      "Observation: 0/100\n",
      "Observation: 5/100\n",
      "Observation: 10/100\n",
      "Observation: 15/100\n",
      "Observation: 20/100\n",
      "Observation: 25/100\n",
      "Observation: 30/100\n",
      "Observation: 35/100\n",
      "Observation: 40/100\n",
      "Observation: 45/100\n",
      "Observation: 50/100\n",
      "Observation: 55/100\n",
      "Observation: 60/100\n",
      "Observation: 65/100\n",
      "Observation: 70/100\n",
      "Observation: 75/100\n",
      "Putting 21 observations into forcnn_CD_3_2_all.tfrecord\n",
      "Observation: 0/21\n",
      "Observation: 5/21\n",
      "Observation: 10/21\n",
      "Observation: 15/21\n",
      "Putting 93 observations into forcnn_CD_4_1_all.tfrecord\n",
      "Observation: 0/93\n",
      "Observation: 5/93\n",
      "Observation: 10/93\n",
      "Observation: 15/93\n",
      "Observation: 20/93\n",
      "Observation: 25/93\n",
      "Observation: 30/93\n",
      "Observation: 35/93\n",
      "Observation: 40/93\n",
      "Observation: 45/93\n",
      "Observation: 50/93\n",
      "Observation: 55/93\n",
      "Observation: 60/93\n",
      "Observation: 65/93\n",
      "Observation: 70/93\n",
      "Observation: 75/93\n",
      "Observation: 80/93\n",
      "Observation: 85/93\n",
      "Observation: 90/93\n",
      "/Users/robmarty/Google Drive/World Bank/IEs/Pakistan Poverty Estimation/Data/DHS/FinalData/Individual Datasets/cnn_s2/tfrecords/forcnn_CD_4_1_all.tfrecord\n",
      "Success \\o/\n",
      "Putting 85 observations into forcnn_CD_5_1_all.tfrecord\n",
      "Observation: 0/85\n",
      "Observation: 5/85\n",
      "Observation: 10/85\n",
      "Observation: 15/85\n",
      "Observation: 20/85\n",
      "Observation: 25/85\n",
      "Observation: 30/85\n",
      "Observation: 35/85\n",
      "Observation: 40/85\n",
      "Observation: 45/85\n",
      "Observation: 50/85\n",
      "Observation: 55/85\n",
      "Observation: 60/85\n",
      "Observation: 65/85\n",
      "Observation: 70/85\n",
      "Observation: 75/85\n",
      "Observation: 80/85\n",
      "/Users/robmarty/Google Drive/World Bank/IEs/Pakistan Poverty Estimation/Data/DHS/FinalData/Individual Datasets/cnn_s2/tfrecords/forcnn_CD_5_1_all.tfrecord\n",
      "Success \\o/\n",
      "Putting 44 observations into forcnn_CI_1_1_all.tfrecord\n",
      "Observation: 0/44\n",
      "Observation: 5/44\n"
     ]
    }
   ],
   "source": [
    "### Loop through all tfrecords\n",
    "for tfr_i in tf_record_list:\n",
    "    \n",
    "    # Sometimes we get computational time out errors. If occurs, just skip and go to next.\n",
    "    # We can then go back and rescrape missed ones.\n",
    "    try:\n",
    "    \n",
    "        survey_df_yeari = survey_df[survey_df['tfrecord_name'] == tfr_i]\n",
    "        year_i = survey_df_yeari['year'].iloc[0]\n",
    "\n",
    "        ### Loop through chunks within tfrecord (can only pull so much data from GEE at a time)\n",
    "        survey_df_yeari['chunk_id'] = utils.chunk_ids(survey_df_yeari.shape[0], CHUNK_SIZE)\n",
    "\n",
    "        print(\"Putting \" + str(survey_df_yeari.shape[0]) + \" observations into \" + tfr_i)\n",
    "\n",
    "        proto_examples_all = []\n",
    "        for chunk_i in list(np.unique(survey_df_yeari.chunk_id)):\n",
    "            time.sleep(6)\n",
    "            print(\"Observation: \" + str(len(proto_examples_all)) + \"/\" + str(survey_df_yeari.shape[0]))\n",
    "\n",
    "            survey_df_yeari_chunki = survey_df_yeari[survey_df_yeari['chunk_id'] == chunk_i]\n",
    "\n",
    "            proto_examples_i = utils.prep_cnn_np(survey_df_yeari_chunki, SATELLITE, KERNEL_SIZE, year_i)\n",
    "            proto_examples_all.extend(proto_examples_i)\n",
    "\n",
    "        ### Save data as tf record\n",
    "        out_path_i = os.path.join(out_path, tfr_i)\n",
    "        print(out_path_i)\n",
    "        with tf.io.TFRecordWriter(out_path_i) as writer:\n",
    "            for tf_example in proto_examples_all:\n",
    "                writer.write(tf_example.SerializeToString())\n",
    "\n",
    "        print(\"Success \\o/\")\n",
    "                \n",
    "    except:\n",
    "        pass"
   ]
  },
  {
   "cell_type": "code",
   "execution_count": null,
   "metadata": {
    "colab": {
     "base_uri": "https://localhost:8080/"
    },
    "id": "gfMKJ0ILXVZC",
    "outputId": "4c960a89-0028-4fdd-be62-5e7d0e073240"
   },
   "outputs": [],
   "source": []
  },
  {
   "cell_type": "code",
   "execution_count": null,
   "metadata": {
    "colab": {
     "base_uri": "https://localhost:8080/",
     "height": 224
    },
    "id": "I6NhXtwo73AK",
    "outputId": "988398b3-4e62-4be2-8817-532af8d6f58e"
   },
   "outputs": [],
   "source": [
    "for row_i in range(0,10):\n",
    "    print(row_i)\n",
    "    proto_examples_i = utils.prep_cnn_np(survey_df_yeari_chunki.iloc[[row_i]], SATELLITE, KERNEL_SIZE, year_i)"
   ]
  },
  {
   "cell_type": "code",
   "execution_count": null,
   "metadata": {
    "id": "3l_U7gwb_vDC"
   },
   "outputs": [],
   "source": [
    "survey_df_yeari_chunki.iloc[[4]]"
   ]
  },
  {
   "cell_type": "code",
   "execution_count": null,
   "metadata": {
    "colab": {
     "base_uri": "https://localhost:8080/",
     "height": 224
    },
    "id": "YuhpLiDq_zLm",
    "outputId": "f5dc6270-4493-4cbf-b2b0-18ec047077fa"
   },
   "outputs": [],
   "source": []
  },
  {
   "cell_type": "code",
   "execution_count": null,
   "metadata": {
    "colab": {
     "base_uri": "https://localhost:8080/"
    },
    "id": "zU05sc-s29jA",
    "outputId": "f9f946fc-d6a6-44e8-c2c2-539ec29937b9"
   },
   "outputs": [],
   "source": []
  },
  {
   "cell_type": "code",
   "execution_count": null,
   "metadata": {
    "id": "fVeX2_WIkGiV"
   },
   "outputs": [],
   "source": []
  },
  {
   "cell_type": "code",
   "execution_count": 72,
   "metadata": {
    "id": "4RhcmrWylK6k"
   },
   "outputs": [],
   "source": []
  },
  {
   "cell_type": "code",
   "execution_count": null,
   "metadata": {
    "colab": {
     "base_uri": "https://localhost:8080/",
     "height": 80
    },
    "id": "pFHX00Y4ld81",
    "outputId": "4c9c913a-dce5-47b7-e28e-b9c6f14b7fed"
   },
   "outputs": [],
   "source": []
  },
  {
   "cell_type": "code",
   "execution_count": null,
   "metadata": {
    "colab": {
     "base_uri": "https://localhost:8080/"
    },
    "id": "9tk6RNyHXVZC",
    "outputId": "8806e5aa-370a-4a24-c6ba-062cf52f5ffb"
   },
   "outputs": [],
   "source": []
  },
  {
   "cell_type": "code",
   "execution_count": null,
   "metadata": {
    "id": "WAVqwXz7_lDL"
   },
   "outputs": [],
   "source": []
  },
  {
   "cell_type": "code",
   "execution_count": null,
   "metadata": {
    "colab": {
     "base_uri": "https://localhost:8080/"
    },
    "id": "I9atvzCW65oh",
    "outputId": "515a1320-e759-4e12-a053-362d7562c52f"
   },
   "outputs": [],
   "source": []
  },
  {
   "cell_type": "code",
   "execution_count": null,
   "metadata": {
    "colab": {
     "base_uri": "https://localhost:8080/"
    },
    "id": "5UrbRLqLKAtA",
    "outputId": "936ca132-44fc-45cb-d754-ad9dcfb8901e"
   },
   "outputs": [],
   "source": []
  },
  {
   "cell_type": "code",
   "execution_count": null,
   "metadata": {
    "id": "gaBcOr2w77ZL"
   },
   "outputs": [],
   "source": []
  },
  {
   "cell_type": "code",
   "execution_count": null,
   "metadata": {
    "colab": {
     "base_uri": "https://localhost:8080/"
    },
    "id": "l69Wpxz5XVZC",
    "outputId": "5d4d531b-61ef-45c7-b5b5-f25cb875c6b6"
   },
   "outputs": [],
   "source": []
  },
  {
   "cell_type": "code",
   "execution_count": null,
   "metadata": {
    "colab": {
     "base_uri": "https://localhost:8080/"
    },
    "id": "Q9MXwUdTXVZD",
    "outputId": "0bc2748f-ebe3-466d-a859-924eaa1b9081"
   },
   "outputs": [],
   "source": []
  },
  {
   "cell_type": "code",
   "execution_count": null,
   "metadata": {
    "colab": {
     "base_uri": "https://localhost:8080/",
     "height": 181
    },
    "id": "iLbrGQTRojcS",
    "outputId": "43aabd48-e175-4d1c-f5f1-48be198520b0"
   },
   "outputs": [],
   "source": []
  },
  {
   "cell_type": "code",
   "execution_count": null,
   "metadata": {
    "colab": {
     "base_uri": "https://localhost:8080/",
     "height": 198
    },
    "id": "VHZAJ22anj6b",
    "outputId": "bebf3669-139a-423a-a967-78109a8c80a2"
   },
   "outputs": [],
   "source": []
  },
  {
   "cell_type": "code",
   "execution_count": null,
   "metadata": {
    "id": "y1MXAhkbpRkI"
   },
   "outputs": [],
   "source": []
  },
  {
   "cell_type": "code",
   "execution_count": null,
   "metadata": {
    "colab": {
     "base_uri": "https://localhost:8080/",
     "height": 198
    },
    "id": "93PWEi6jm-3K",
    "outputId": "67dcc0a7-1516-4ee8-bfd9-694fd0f347de"
   },
   "outputs": [],
   "source": []
  },
  {
   "cell_type": "code",
   "execution_count": null,
   "metadata": {
    "id": "5Rm6K6D-XVZD"
   },
   "outputs": [],
   "source": []
  },
  {
   "cell_type": "code",
   "execution_count": null,
   "metadata": {
    "colab": {
     "base_uri": "https://localhost:8080/"
    },
    "id": "fod-VYxLXVZE",
    "outputId": "3dd1f56a-476b-4aad-8279-86840b0bc026"
   },
   "outputs": [],
   "source": []
  },
  {
   "cell_type": "code",
   "execution_count": null,
   "metadata": {
    "colab": {
     "base_uri": "https://localhost:8080/"
    },
    "id": "t0iUwZmAXVZE",
    "outputId": "a33e2442-ae0c-4f62-ce6b-eddb002c165d"
   },
   "outputs": [],
   "source": []
  },
  {
   "cell_type": "code",
   "execution_count": null,
   "metadata": {
    "colab": {
     "base_uri": "https://localhost:8080/"
    },
    "id": "62ReOurYXVZE",
    "outputId": "92795c41-e2b9-4971-f512-9d56b18cf5d8"
   },
   "outputs": [],
   "source": []
  },
  {
   "cell_type": "code",
   "execution_count": null,
   "metadata": {
    "id": "-SajCSlNXVZE"
   },
   "outputs": [],
   "source": []
  },
  {
   "cell_type": "code",
   "execution_count": null,
   "metadata": {
    "id": "LJAM4iswXVZE"
   },
   "outputs": [],
   "source": []
  },
  {
   "cell_type": "code",
   "execution_count": null,
   "metadata": {
    "id": "9wYDJxfpXVZF"
   },
   "outputs": [],
   "source": []
  },
  {
   "cell_type": "code",
   "execution_count": null,
   "metadata": {
    "id": "Zb0U780PXVZF"
   },
   "outputs": [],
   "source": []
  },
  {
   "cell_type": "code",
   "execution_count": null,
   "metadata": {
    "id": "pBuKts4wXVZF"
   },
   "outputs": [],
   "source": []
  },
  {
   "cell_type": "code",
   "execution_count": null,
   "metadata": {
    "id": "IS7Bb2f0XVZF"
   },
   "outputs": [],
   "source": []
  },
  {
   "cell_type": "code",
   "execution_count": null,
   "metadata": {
    "id": "ju-_zuLnXVZF"
   },
   "outputs": [],
   "source": []
  },
  {
   "cell_type": "code",
   "execution_count": null,
   "metadata": {
    "id": "fD0SacCEXVZF"
   },
   "outputs": [],
   "source": []
  },
  {
   "cell_type": "code",
   "execution_count": null,
   "metadata": {
    "id": "0xqAkzCqXVZG"
   },
   "outputs": [],
   "source": []
  },
  {
   "cell_type": "code",
   "execution_count": null,
   "metadata": {
    "id": "JDskpn-iXVZG"
   },
   "outputs": [],
   "source": []
  },
  {
   "cell_type": "code",
   "execution_count": null,
   "metadata": {
    "id": "0Iep8MNNXVZG"
   },
   "outputs": [],
   "source": []
  },
  {
   "cell_type": "code",
   "execution_count": null,
   "metadata": {
    "id": "TNjhMUDHXVZH"
   },
   "outputs": [],
   "source": []
  },
  {
   "cell_type": "code",
   "execution_count": null,
   "metadata": {
    "id": "mPzEHDBcXVZH"
   },
   "outputs": [],
   "source": []
  },
  {
   "cell_type": "code",
   "execution_count": null,
   "metadata": {
    "id": "jVI8BPYMXVZH"
   },
   "outputs": [],
   "source": []
  },
  {
   "cell_type": "code",
   "execution_count": null,
   "metadata": {
    "id": "eQR8aHw2XVZH"
   },
   "outputs": [],
   "source": []
  },
  {
   "cell_type": "code",
   "execution_count": null,
   "metadata": {
    "id": "H5pJ0FIOXVZI"
   },
   "outputs": [],
   "source": []
  },
  {
   "cell_type": "code",
   "execution_count": null,
   "metadata": {
    "id": "H9GuSI50opSX"
   },
   "outputs": [],
   "source": []
  }
 ],
 "metadata": {
  "colab": {
   "collapsed_sections": [],
   "name": "01_extract_data_gee_for_cnn.ipynb",
   "provenance": []
  },
  "kernelspec": {
   "display_name": "Python 3",
   "language": "python",
   "name": "python3"
  },
  "language_info": {
   "codemirror_mode": {
    "name": "ipython",
    "version": 3
   },
   "file_extension": ".py",
   "mimetype": "text/x-python",
   "name": "python",
   "nbconvert_exporter": "python",
   "pygments_lexer": "ipython3",
   "version": "3.7.2"
  }
 },
 "nbformat": 4,
 "nbformat_minor": 2
}
