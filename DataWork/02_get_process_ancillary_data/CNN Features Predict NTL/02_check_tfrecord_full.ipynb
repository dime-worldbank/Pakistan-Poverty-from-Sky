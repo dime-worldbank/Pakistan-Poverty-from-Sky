{
 "cells": [
  {
   "cell_type": "markdown",
   "metadata": {},
   "source": [
    "## Check TF Record Full\n",
    "\n",
    "Check that the TF records are full. Check how many observations are in them versus how many should be in them. If too few, delete so can be re-extracted."
   ]
  },
  {
   "cell_type": "markdown",
   "metadata": {},
   "source": [
    "### Setup"
   ]
  },
  {
   "cell_type": "code",
   "execution_count": 1,
   "metadata": {},
   "outputs": [
    {
     "name": "stderr",
     "output_type": "stream",
     "text": [
      "/Users/robmarty/anaconda3/lib/python3.7/site-packages/dask/config.py:168: YAMLLoadWarning: calling yaml.load() without Loader=... is deprecated, as the default Loader is unsafe. Please read https://msg.pyyaml.org/load for full details.\n",
      "  data = yaml.load(f.read()) or {}\n",
      "/Users/robmarty/anaconda3/lib/python3.7/site-packages/xarray/core/merge.py:17: FutureWarning: The Panel class is removed from pandas. Accessing it from the top-level namespace will also be removed in the next version\n",
      "  PANDAS_TYPES = (pd.Series, pd.DataFrame, pd.Panel)\n",
      "/Users/robmarty/anaconda3/lib/python3.7/site-packages/distributed/config.py:20: YAMLLoadWarning: calling yaml.load() without Loader=... is deprecated, as the default Loader is unsafe. Please read https://msg.pyyaml.org/load for full details.\n",
      "  defaults = yaml.load(f)\n"
     ]
    }
   ],
   "source": [
    "import numpy as np\n",
    "import os, datetime\n",
    "import pandas as pd\n",
    "import itertools\n",
    "import tensorflow as tf\n",
    "import config as cf\n",
    "import ee_utils as utils\n",
    "import eeconvert\n",
    "import time\n",
    "import glob\n",
    "\n",
    "SURVEY_NAME = 'DHS'\n",
    "DROPBOX_DIR = cf.DROPBOX_DIRECTORY\n",
    "GOOGLEDRIVE_DIR = cf.GOOGLEDRIVE_DIRECTORY"
   ]
  },
  {
   "cell_type": "code",
   "execution_count": 2,
   "metadata": {},
   "outputs": [],
   "source": [
    "# Relies on VIIRs Values\n",
    "survey_df = pd.read_csv(os.path.join(DROPBOX_DIR, 'Data', SURVEY_NAME, 'FinalData', 'Individual Datasets', 'data_for_cnn.csv'))"
   ]
  },
  {
   "cell_type": "code",
   "execution_count": 3,
   "metadata": {},
   "outputs": [],
   "source": [
    "tf_path = os.path.join(GOOGLEDRIVE_DIR, 'Data', SURVEY_NAME, 'FinalData', 'Individual Datasets', 'cnn_s2', 'tfrecords')"
   ]
  },
  {
   "cell_type": "code",
   "execution_count": 4,
   "metadata": {},
   "outputs": [],
   "source": [
    "# Remove observations that had issues\n",
    "#survey_df = survey_df[survey_df['GID_2'] != \"IND.18.1_1\"]\n",
    "survey_df = survey_df[survey_df['uid'] != 'CO201000003682']\n",
    "survey_df = survey_df[survey_df['uid'] != 'CO201000003683']\n",
    "survey_df = survey_df[survey_df['uid'] != 'CO201000004885']\n",
    "survey_df = survey_df[survey_df['uid'] != 'IA201400180058']\n",
    "survey_df = survey_df[survey_df['uid'] != 'IA201400180040']\n",
    "survey_df = survey_df[survey_df['uid'] != 'IA201400300032']\n",
    "survey_df = survey_df[survey_df['uid'] != 'IA201400010147']\n",
    "survey_df = survey_df[survey_df['uid'] != 'NM201300000001']\n",
    "survey_df = survey_df[survey_df['uid'] != 'CO201000002924']\n",
    "survey_df = survey_df[survey_df['uid'] != 'CO201000002524']\n",
    "survey_df = survey_df[survey_df['uid'] != 'CO201000001170']\n",
    "survey_df = survey_df[survey_df['uid'] != 'CO201000003554']\n",
    "survey_df = survey_df[survey_df['uid'] != 'GA201200000310']\n",
    "survey_df = survey_df[survey_df['uid'] != 'IA201400180104'] \n",
    "survey_df = survey_df[survey_df['uid'] != 'IA201400180012']\n",
    "survey_df = survey_df[survey_df['uid'] != 'IA201400180011']\n",
    "survey_df = survey_df[survey_df['uid'] != 'IA201400180048']\n",
    "survey_df = survey_df[survey_df['uid'] != 'IA201400300002']\n",
    "survey_df = survey_df[survey_df['uid'] != 'IA201400130192']\n",
    "survey_df = survey_df[survey_df['uid'] != 'IA201400140845']\n",
    "survey_df = survey_df[survey_df['uid'] != 'IA201400010076']\n",
    "survey_df = survey_df[survey_df['uid'] != 'IA201400180133']\n",
    "survey_df = survey_df[survey_df['uid'] != 'IA201400180123']\n",
    "survey_df = survey_df[survey_df['uid'] != 'IA201400180047']\n",
    "survey_df = survey_df[survey_df['uid'] != 'IA201400180138']\n",
    "survey_df = survey_df[survey_df['uid'] != 'IA201400180052']\n",
    "survey_df = survey_df[survey_df['uid'] != 'IA201400180055']\n",
    "survey_df = survey_df[survey_df['uid'] != 'IA201400180116']\n",
    "survey_df = survey_df[survey_df['uid'] != 'IA201400180030']\n",
    "survey_df = survey_df[survey_df['uid'] != 'IA201400180086']\n",
    "survey_df = survey_df[survey_df['uid'] != 'IA201400180050']\n",
    "survey_df = survey_df[survey_df['uid'] != 'IA201400180027']\n",
    "survey_df = survey_df[survey_df['uid'] != 'IA201400180072']\n",
    "survey_df = survey_df[survey_df['uid'] != 'IA201400180080']\n",
    "survey_df = survey_df[survey_df['uid'] != 'IA201400180079']\n",
    "survey_df = survey_df[survey_df['uid'] != 'IA201400180064']\n",
    "survey_df = survey_df[survey_df['uid'] != 'IA201400180081']\n",
    "survey_df = survey_df[survey_df['uid'] != 'IA201400180062']\n",
    "survey_df = survey_df[survey_df['uid'] != 'UG201800000335']\n",
    "survey_df = survey_df[survey_df['uid'] != 'UG201800000330']\n",
    "survey_df = survey_df[survey_df['uid'] != 'UG201800000322']\n",
    "survey_df = survey_df[survey_df['uid'] != 'IA201400180062']\n",
    "survey_df = survey_df[survey_df['uid'] != 'IA201400180140']\n",
    "survey_df = survey_df[survey_df['uid'] != 'IA201400180100']\n",
    "survey_df = survey_df[survey_df['uid'] != 'UG201800000342']\n",
    "survey_df = survey_df[survey_df['uid'] != 'IA201400180081']\n",
    "survey_df = survey_df[survey_df['uid'] != 'IA201400180028']\n",
    "survey_df = survey_df[survey_df['uid'] != 'UG201800000340']\n",
    "survey_df = survey_df[survey_df['uid'] != 'IA201400180091']\n",
    "survey_df = survey_df[survey_df['uid'] != 'IA201400180112']\n",
    "survey_df = survey_df[survey_df['uid'] != 'UG201800000331']\n",
    "survey_df = survey_df[survey_df['uid'] != 'UG201800000336']\n",
    "survey_df = survey_df[survey_df['uid'] != 'UG201800000334']\n",
    "survey_df = survey_df[survey_df['uid'] != 'IA201400180083']\n",
    "survey_df = survey_df[survey_df['uid'] != 'GY200900000293']\n",
    "survey_df = survey_df[survey_df['uid'] != 'UG201800000328']\n",
    "survey_df = survey_df[survey_df['uid'] != 'UG201800000327']\n",
    "survey_df = survey_df[survey_df['uid'] != 'UG201800000333']\n",
    "survey_df = survey_df[survey_df['uid'] != 'UG201800000332']\n",
    "survey_df = survey_df[survey_df['uid'] != 'UG201800000329']\n",
    "survey_df = survey_df[survey_df['uid'] != 'UG201800000339']\n",
    "survey_df = survey_df[survey_df['uid'] != 'UG201800000326']\n",
    "survey_df = survey_df[survey_df['uid'] != 'UG201800000323']\n",
    "survey_df = survey_df[survey_df['uid'] != 'UG201800000321']\n",
    "survey_df = survey_df[survey_df['uid'] != 'UG201800000338']\n",
    "survey_df = survey_df[survey_df['uid'] != 'UG201800000324']\n",
    "survey_df = survey_df[survey_df['uid'] != 'UG201800000325']\n",
    "survey_df = survey_df[survey_df['uid'] != 'UG201800000337']\n",
    "survey_df = survey_df[survey_df['uid'] != 'UG201800000341']\n"
   ]
  },
  {
   "cell_type": "code",
   "execution_count": 5,
   "metadata": {},
   "outputs": [],
   "source": [
    "def decode_fn_uid(record_bytes):\n",
    "    return tf.io.parse_single_example(\n",
    "        # Data\n",
    "        record_bytes,\n",
    "\n",
    "        # Schema\n",
    "        {\"uid\": tf.io.FixedLenFeature([], dtype=tf.string)}\n",
    "    )\n",
    "\n",
    "def extract_uid(TF_FILES):\n",
    "    actual_values = []\n",
    "    for batch in tf.data.TFRecordDataset([TF_FILES]).map(decode_fn_uid):\n",
    "        value = batch['uid'].numpy()\n",
    "        actual_values.append(value)\n",
    "\n",
    "    return actual_values\n"
   ]
  },
  {
   "cell_type": "code",
   "execution_count": 6,
   "metadata": {},
   "outputs": [],
   "source": [
    "df_all = pd.DataFrame()\n",
    "\n",
    "for record_i in survey_df.tfrecord_name.unique():\n",
    "    \n",
    "    if os.path.isfile(tf_path + '/' + record_i):\n",
    "    \n",
    "        survey_df_i = survey_df[survey_df.tfrecord_name == record_i]\n",
    "\n",
    "        # Create the pandas DataFrame\n",
    "        data = [[record_i, \n",
    "                 survey_df_i.shape[0], \n",
    "                 len(extract_uid(tf_path + '/' + record_i))]]\n",
    "\n",
    "        df_i = pd.DataFrame(data, columns = ['tfrecord', 'n_survey', 'n_record'])\n",
    "\n",
    "        # Append dataframe\n",
    "        df_all = df_all.append(df_i, ignore_index = True)"
   ]
  },
  {
   "cell_type": "code",
   "execution_count": 7,
   "metadata": {},
   "outputs": [],
   "source": [
    "df_all_delete = df_all[df_all.n_survey != df_all.n_record]"
   ]
  },
  {
   "cell_type": "code",
   "execution_count": 8,
   "metadata": {},
   "outputs": [
    {
     "data": {
      "text/html": [
       "<div>\n",
       "<style scoped>\n",
       "    .dataframe tbody tr th:only-of-type {\n",
       "        vertical-align: middle;\n",
       "    }\n",
       "\n",
       "    .dataframe tbody tr th {\n",
       "        vertical-align: top;\n",
       "    }\n",
       "\n",
       "    .dataframe thead th {\n",
       "        text-align: right;\n",
       "    }\n",
       "</style>\n",
       "<table border=\"1\" class=\"dataframe\">\n",
       "  <thead>\n",
       "    <tr style=\"text-align: right;\">\n",
       "      <th></th>\n",
       "      <th>tfrecord</th>\n",
       "      <th>n_survey</th>\n",
       "      <th>n_record</th>\n",
       "    </tr>\n",
       "  </thead>\n",
       "  <tbody>\n",
       "  </tbody>\n",
       "</table>\n",
       "</div>"
      ],
      "text/plain": [
       "Empty DataFrame\n",
       "Columns: [tfrecord, n_survey, n_record]\n",
       "Index: []"
      ]
     },
     "execution_count": 8,
     "metadata": {},
     "output_type": "execute_result"
    }
   ],
   "source": [
    "df_all_delete"
   ]
  },
  {
   "cell_type": "markdown",
   "metadata": {},
   "source": [
    "### Delete Files"
   ]
  },
  {
   "cell_type": "code",
   "execution_count": 79,
   "metadata": {},
   "outputs": [],
   "source": [
    "for file_to_delete in df_all_delete.tfrecord:\n",
    "    os.remove(os.path.join(tf_path, file_to_delete))"
   ]
  },
  {
   "cell_type": "code",
   "execution_count": 78,
   "metadata": {},
   "outputs": [
    {
     "data": {
      "text/plain": [
       "'/Users/robmarty/Google Drive/World Bank/IEs/Pakistan Poverty Estimation/Data/DHS/FinalData/Individual Datasets/cnn_s2/tfrecords/nocnn_KM_1_1_all.tfrecord'"
      ]
     },
     "execution_count": 78,
     "metadata": {},
     "output_type": "execute_result"
    }
   ],
   "source": []
  },
  {
   "cell_type": "code",
   "execution_count": null,
   "metadata": {},
   "outputs": [],
   "source": []
  },
  {
   "cell_type": "code",
   "execution_count": null,
   "metadata": {},
   "outputs": [],
   "source": []
  },
  {
   "cell_type": "code",
   "execution_count": null,
   "metadata": {},
   "outputs": [],
   "source": []
  }
 ],
 "metadata": {
  "kernelspec": {
   "display_name": "Python 3",
   "language": "python",
   "name": "python3"
  },
  "language_info": {
   "codemirror_mode": {
    "name": "ipython",
    "version": 3
   },
   "file_extension": ".py",
   "mimetype": "text/x-python",
   "name": "python",
   "nbconvert_exporter": "python",
   "pygments_lexer": "ipython3",
   "version": "3.7.2"
  }
 },
 "nbformat": 4,
 "nbformat_minor": 2
}
