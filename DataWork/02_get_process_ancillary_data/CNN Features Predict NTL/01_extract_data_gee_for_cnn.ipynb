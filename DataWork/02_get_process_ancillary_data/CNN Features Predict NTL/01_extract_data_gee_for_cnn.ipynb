{
 "cells": [
  {
   "cell_type": "markdown",
   "metadata": {
    "id": "X0MV-G1dXVY2"
   },
   "source": [
    "# Prepare CNN Data"
   ]
  },
  {
   "cell_type": "markdown",
   "metadata": {
    "id": "iuOZpPbiXVY5"
   },
   "source": [
    "## Setup"
   ]
  },
  {
   "cell_type": "code",
   "execution_count": 1,
   "metadata": {},
   "outputs": [
    {
     "data": {
      "text/html": [
       "<p>To authorize access needed by Earth Engine, open the following\n",
       "        URL in a web browser and follow the instructions:</p>\n",
       "        <p><a href=https://accounts.google.com/o/oauth2/auth?client_id=517222506229-vsmmajv00ul0bs7p89v5m89qs8eb9359.apps.googleusercontent.com&scope=https%3A%2F%2Fwww.googleapis.com%2Fauth%2Fearthengine+https%3A%2F%2Fwww.googleapis.com%2Fauth%2Fdevstorage.full_control&redirect_uri=urn%3Aietf%3Awg%3Aoauth%3A2.0%3Aoob&response_type=code&code_challenge=3l4grmRSn2weg2yrv9c-INj_iQvGeOw4AzdzcxWQrj8&code_challenge_method=S256>https://accounts.google.com/o/oauth2/auth?client_id=517222506229-vsmmajv00ul0bs7p89v5m89qs8eb9359.apps.googleusercontent.com&scope=https%3A%2F%2Fwww.googleapis.com%2Fauth%2Fearthengine+https%3A%2F%2Fwww.googleapis.com%2Fauth%2Fdevstorage.full_control&redirect_uri=urn%3Aietf%3Awg%3Aoauth%3A2.0%3Aoob&response_type=code&code_challenge=3l4grmRSn2weg2yrv9c-INj_iQvGeOw4AzdzcxWQrj8&code_challenge_method=S256</a></p>\n",
       "        <p>The authorization workflow will generate a code, which you\n",
       "        should paste in the box below</p>\n",
       "        "
      ],
      "text/plain": [
       "<IPython.core.display.HTML object>"
      ]
     },
     "metadata": {},
     "output_type": "display_data"
    },
    {
     "name": "stdin",
     "output_type": "stream",
     "text": [
      "Enter verification code:  4/1AX4XfWhegSh7VhFE-GsccZelG3HH7EnmbE5i8wfhiXVRZshWfT96P8vWY-s\n"
     ]
    },
    {
     "name": "stdout",
     "output_type": "stream",
     "text": [
      "\n",
      "Successfully saved authorization token.\n"
     ]
    }
   ],
   "source": [
    "# USE ACCOUNT: robmarty3@gmail.com\n",
    "import ee\n",
    "ee.Authenticate()\n",
    "ee.Initialize()"
   ]
  },
  {
   "cell_type": "code",
   "execution_count": 2,
   "metadata": {},
   "outputs": [],
   "source": [
    "#image = ee.ImageCollection('LANDSAT/LC08/C02/T1_L2')\\\n",
    "#    .filterDate(\"2019-01-01\", \"2019-02-01\")\\\n",
    "#    .map(cloud_mask_landsatSR)\\\n",
    "#    .median()\n",
    "#\n",
    "#print(image.getInfo())"
   ]
  },
  {
   "cell_type": "code",
   "execution_count": 3,
   "metadata": {},
   "outputs": [
    {
     "name": "stderr",
     "output_type": "stream",
     "text": [
      "/Users/robmarty/anaconda3/lib/python3.7/site-packages/dask/config.py:168: YAMLLoadWarning: calling yaml.load() without Loader=... is deprecated, as the default Loader is unsafe. Please read https://msg.pyyaml.org/load for full details.\n",
      "  data = yaml.load(f.read()) or {}\n",
      "/Users/robmarty/anaconda3/lib/python3.7/site-packages/xarray/core/merge.py:17: FutureWarning: The Panel class is removed from pandas. Accessing it from the top-level namespace will also be removed in the next version\n",
      "  PANDAS_TYPES = (pd.Series, pd.DataFrame, pd.Panel)\n",
      "/Users/robmarty/anaconda3/lib/python3.7/site-packages/distributed/config.py:20: YAMLLoadWarning: calling yaml.load() without Loader=... is deprecated, as the default Loader is unsafe. Please read https://msg.pyyaml.org/load for full details.\n",
      "  defaults = yaml.load(f)\n"
     ]
    }
   ],
   "source": [
    "import numpy as np\n",
    "import os, datetime\n",
    "import pandas as pd\n",
    "import itertools\n",
    "import tensorflow as tf\n",
    "import config as cf\n",
    "import ee_utils as utils\n",
    "import eeconvert\n",
    "import time\n",
    "\n",
    "#import geetools\n",
    "#from geetools import ui, cloud_mask\n",
    "#cloud_mask_landsatSR = cloud_mask.landsatSR()\n",
    "#cloud_mask_sentinel2 = cloud_mask.sentinel2()"
   ]
  },
  {
   "cell_type": "markdown",
   "metadata": {},
   "source": [
    "## Parameters"
   ]
  },
  {
   "cell_type": "code",
   "execution_count": 4,
   "metadata": {
    "id": "TqWX3QM4mVPW"
   },
   "outputs": [
    {
     "name": "stdout",
     "output_type": "stream",
     "text": [
      "167\n"
     ]
    }
   ],
   "source": [
    "#224\n",
    "SURVEY_NAME = 'DHS'\n",
    "SATELLITE = 'l8'\n",
    "SKIP_IF_SCRAPED = True\n",
    "CHUNK_SIZE = 10 # Number of observtaions to scrape in GEE at any given time\n",
    "DROPBOX_DIR = cf.DROPBOX_DIRECTORY\n",
    "GOOGLEDRIVE_DIR = cf.GOOGLEDRIVE_DIRECTORY\n",
    "\n",
    "if SATELLITE == 's2':\n",
    "    KERNEL_SIZE = 500\n",
    "elif SATELLITE == 'l8':\n",
    "    KERNEL_SIZE = 167\n",
    "\n",
    "print(KERNEL_SIZE)"
   ]
  },
  {
   "cell_type": "code",
   "execution_count": 5,
   "metadata": {
    "colab": {
     "base_uri": "https://localhost:8080/"
    },
    "id": "MwPA7XTCYmjh",
    "outputId": "74e611ba-5c81-44ca-e2ce-c595399753a0"
   },
   "outputs": [],
   "source": [
    "# Directory to store tfrecords\n",
    "out_path = os.path.join(GOOGLEDRIVE_DIR, \n",
    "            'Data', \n",
    "            SURVEY_NAME, \n",
    "            'FinalData',\n",
    "            'Individual Datasets',\n",
    "            'cnn_' + SATELLITE,\n",
    "            'tfrecords')"
   ]
  },
  {
   "cell_type": "markdown",
   "metadata": {
    "colab": {
     "base_uri": "https://localhost:8080/"
    },
    "id": "phzXq49zXVY5",
    "outputId": "0b60e419-0e3f-44e2-e927-0895afb316cc"
   },
   "source": [
    "## Load Data"
   ]
  },
  {
   "cell_type": "code",
   "execution_count": 6,
   "metadata": {},
   "outputs": [
    {
     "name": "stderr",
     "output_type": "stream",
     "text": [
      "/Users/robmarty/anaconda3/lib/python3.7/site-packages/IPython/core/interactiveshell.py:3044: DtypeWarning: Columns (26,30,33,36,37,38,40) have mixed types.Specify dtype option on import or set low_memory=False.\n",
      "  interactivity=interactivity, compiler=compiler, result=result)\n"
     ]
    },
    {
     "data": {
      "text/plain": [
       "(64249, 44)"
      ]
     },
     "execution_count": 6,
     "metadata": {},
     "output_type": "execute_result"
    }
   ],
   "source": [
    "# Relies on VIIRs Values\n",
    "survey_df = pd.read_csv(os.path.join(DROPBOX_DIR, 'Data', SURVEY_NAME, 'FinalData', 'Individual Datasets', 'survey_socioeconomic.csv'))\n",
    "\n",
    "viirs_2_5km_df = pd.read_csv(os.path.join(DROPBOX_DIR, 'Data', SURVEY_NAME, 'FinalData', 'Individual Datasets', 'survey_viirs_2_5km.csv'))\n",
    "viirs_5km_df = pd.read_csv(os.path.join(DROPBOX_DIR, 'Data', SURVEY_NAME, 'FinalData', 'Individual Datasets', 'survey_viirs_5km.csv'))\n",
    "\n",
    "viirs_2_5km_df.viirs_avg_rad = np.log(viirs_2_5km_df.viirs_avg_rad + 1)\n",
    "viirs_5km_df.viirs_avg_rad = np.log(viirs_5km_df.viirs_avg_rad + 1)\n",
    "\n",
    "viirs_2_5km_df = viirs_2_5km_df.rename(columns={\"viirs_avg_rad\": \"viirs_avg_rad_2_5km\"})\n",
    "viirs_5km_df = viirs_5km_df.rename(columns={\"viirs_avg_rad\": \"viirs_avg_rad_5km\"})\n",
    "\n",
    "survey_df = survey_df.merge(viirs_2_5km_df, on = 'uid')\n",
    "survey_df = survey_df.merge(viirs_5km_df, on = 'uid')\n",
    "\n",
    "survey_df.shape"
   ]
  },
  {
   "cell_type": "code",
   "execution_count": 7,
   "metadata": {
    "colab": {
     "base_uri": "https://localhost:8080/"
    },
    "id": "hpXnbunXYZdP",
    "outputId": "9cf085c9-5a7c-4298-9600-36158f5d7f7c"
   },
   "outputs": [],
   "source": [
    "# Sentinel doesn't capture Lakshadweep (island off coast of mainland India)\n",
    "#survey_df = survey_df[survey_df['GID_2'] != \"IND.18.1_1\"]\n",
    "\n",
    "# List of TF Records\n",
    "tf_record_list = list(np.unique(survey_df.tfrecord_name))"
   ]
  },
  {
   "cell_type": "code",
   "execution_count": 8,
   "metadata": {},
   "outputs": [],
   "source": [
    "# Remove if issues extracting\n",
    "#survey_df = survey_df[survey_df['uid'] != \"IA201400180079\"]\n",
    "#survey_df = survey_df[survey_df['uid'] != \"IA201400180052\"]\n",
    "#survey_df = survey_df[survey_df['uid'] != \"IA201400180112\"]\n",
    "#survey_df = survey_df[survey_df['uid'] != \"IA201400180081\"]\n",
    "#survey_df = survey_df[survey_df['uid'] != \"IA201400180011\"]\n",
    "#survey_df = survey_df[survey_df['uid'] != \"IA201400180048\"]\n",
    "#survey_df = survey_df[survey_df['uid'] != \"IA201400180058\"]\n",
    "#survey_df = survey_df[survey_df['uid'] != \"IA201400180028\"]\n",
    "#survey_df = survey_df[survey_df['uid'] != \"IA201400180072\"]\n",
    "#survey_df = survey_df[survey_df['uid'] != \"IA201400180047\"]\n",
    "#survey_df = survey_df[survey_df['uid'] != \"IA201400180012\"]\n",
    "#survey_df = survey_df[survey_df['uid'] != \"IA201400180040\"]\n",
    "#survey_df = survey_df[survey_df['uid'] != \"IA201400180055\"]\n",
    "#survey_df = survey_df[survey_df['uid'] != \"IA201400180140\"]\n",
    "#survey_df = survey_df[survey_df['uid'] != \"IA201400180030\"]\n",
    "#survey_df = survey_df[survey_df['uid'] != \"IA201400180104\"]\n",
    "#survey_df = survey_df[survey_df['uid'] != \"IA201400180123\"]\n",
    "#survey_df = survey_df[survey_df['uid'] != \"IA201400180062\"]\n",
    "#survey_df = survey_df[survey_df['uid'] != \"IA201400180080\"]\n",
    "#survey_df = survey_df[survey_df['uid'] != \"IA201400180050\"]\n",
    "#survey_df = survey_df[survey_df['uid'] != \"IA201400180116\"]"
   ]
  },
  {
   "cell_type": "code",
   "execution_count": 9,
   "metadata": {
    "id": "PTEEJI89XVY6"
   },
   "outputs": [],
   "source": [
    "# If skip already scraped, remove existing tfrecords from tf_record_list\n",
    "if SKIP_IF_SCRAPED:\n",
    "    tf_records_exist = os.listdir(out_path)\n",
    "    tf_record_list = [x for x in tf_record_list if x not in tf_records_exist]"
   ]
  },
  {
   "cell_type": "code",
   "execution_count": null,
   "metadata": {
    "id": "c89pBOUXZT_V"
   },
   "outputs": [
    {
     "name": "stderr",
     "output_type": "stream",
     "text": [
      "/Users/robmarty/anaconda3/lib/python3.7/site-packages/ipykernel_launcher.py:12: SettingWithCopyWarning: \n",
      "A value is trying to be set on a copy of a slice from a DataFrame.\n",
      "Try using .loc[row_indexer,col_indexer] = value instead\n",
      "\n",
      "See the caveats in the documentation: https://pandas.pydata.org/pandas-docs/stable/user_guide/indexing.html#returning-a-view-versus-a-copy\n",
      "  if sys.path[0] == '':\n"
     ]
    },
    {
     "name": "stdout",
     "output_type": "stream",
     "text": [
      "Putting 203 observations into BO_5_1.tfrecord\n",
      "Observation: 0/203\n",
      "Observation: 10/203\n",
      "Observation: 20/203\n",
      "Observation: 30/203\n"
     ]
    },
    {
     "name": "stderr",
     "output_type": "stream",
     "text": [
      "/Users/robmarty/Documents/Github/Pakistan-Poverty-from-Sky/DataWork/02_get_process_ancillary_data/CNN Features Predict NTL/ee_utils.py:80: RuntimeWarning: divide by zero encountered in true_divide\n",
      "  return (values2 - values1)/(values2 + values1)\n"
     ]
    },
    {
     "name": "stdout",
     "output_type": "stream",
     "text": [
      "Observation: 40/203\n",
      "Observation: 50/203\n",
      "Putting 63 observations into BO_5_2.tfrecord\n",
      "Observation: 0/63\n",
      "Observation: 10/63\n",
      "Putting 200 observations into CO_1_1.tfrecord\n",
      "Observation: 0/200\n",
      "Observation: 10/200\n",
      "Observation: 20/200\n",
      "Observation: 30/200\n",
      "Observation: 40/200\n",
      "Observation: 50/200\n",
      "Observation: 60/200\n",
      "Observation: 70/200\n"
     ]
    },
    {
     "name": "stderr",
     "output_type": "stream",
     "text": [
      "/Users/robmarty/Documents/Github/Pakistan-Poverty-from-Sky/DataWork/02_get_process_ancillary_data/CNN Features Predict NTL/ee_utils.py:80: RuntimeWarning: invalid value encountered in true_divide\n",
      "  return (values2 - values1)/(values2 + values1)\n"
     ]
    },
    {
     "name": "stdout",
     "output_type": "stream",
     "text": [
      "Putting 200 observations into CO_1_3.tfrecord\n",
      "Observation: 0/200\n",
      "Observation: 10/200\n",
      "Observation: 20/200\n",
      "Observation: 30/200\n",
      "Observation: 40/200\n",
      "Observation: 50/200\n",
      "Observation: 60/200\n",
      "Observation: 70/200\n",
      "Observation: 80/200\n",
      "Putting 200 observations into CO_2_3.tfrecord\n",
      "Observation: 0/200\n",
      "Observation: 10/200\n",
      "Observation: 20/200\n",
      "Observation: 30/200\n",
      "Observation: 40/200\n",
      "Observation: 50/200\n",
      "Observation: 60/200\n",
      "Observation: 70/200\n",
      "Observation: 80/200\n",
      "Observation: 90/200\n",
      "Observation: 100/200\n",
      "Observation: 110/200\n",
      "Observation: 120/200\n",
      "Putting 200 observations into CO_3_1.tfrecord\n",
      "Observation: 0/200\n",
      "Observation: 10/200\n",
      "Observation: 20/200\n",
      "Observation: 30/200\n",
      "Observation: 40/200\n",
      "Observation: 50/200\n",
      "Observation: 60/200\n",
      "Observation: 70/200\n",
      "Observation: 80/200\n",
      "Observation: 90/200\n",
      "Observation: 100/200\n",
      "Observation: 110/200\n",
      "Observation: 120/200\n",
      "Putting 200 observations into CO_3_3.tfrecord\n",
      "Observation: 0/200\n",
      "Observation: 10/200\n",
      "Observation: 20/200\n",
      "Observation: 30/200\n",
      "Observation: 40/200\n",
      "Observation: 50/200\n",
      "Observation: 60/200\n",
      "Putting 200 observations into CO_4_2.tfrecord\n",
      "Observation: 0/200\n",
      "Observation: 10/200\n",
      "Observation: 20/200\n",
      "Observation: 30/200\n",
      "Observation: 40/200\n",
      "Observation: 50/200\n",
      "Observation: 60/200\n",
      "Observation: 70/200\n",
      "Observation: 80/200\n",
      "Observation: 90/200\n",
      "Observation: 100/200\n",
      "Observation: 110/200\n",
      "Observation: 120/200\n",
      "Observation: 130/200\n",
      "Observation: 140/200\n",
      "Observation: 150/200\n",
      "Observation: 160/200\n",
      "Observation: 170/200\n",
      "Observation: 180/200\n",
      "Observation: 190/200\n",
      "/Users/robmarty/Google Drive/World Bank/IEs/Pakistan Poverty Estimation/Data/DHS/FinalData/Individual Datasets/cnn_l8/tfrecords/CO_4_2.tfrecord\n",
      "Putting 200 observations into CO_4_5.tfrecord\n",
      "Observation: 0/200\n",
      "Observation: 10/200\n",
      "Observation: 20/200\n",
      "Observation: 30/200\n",
      "Observation: 40/200\n",
      "Observation: 50/200\n",
      "Observation: 60/200\n",
      "Observation: 70/200\n",
      "Observation: 80/200\n",
      "Observation: 90/200\n",
      "Observation: 100/200\n",
      "Observation: 110/200\n",
      "Observation: 120/200\n",
      "Observation: 130/200\n",
      "Observation: 140/200\n",
      "Observation: 150/200\n",
      "Observation: 160/200\n",
      "Observation: 170/200\n",
      "Observation: 180/200\n"
     ]
    },
    {
     "name": "stderr",
     "output_type": "stream",
     "text": [
      "WARNING: Logging before flag parsing goes to stderr.\n",
      "W0911 11:37:54.480997 4616400320 http.py:171] Sleeping 1.65 seconds before retry 1 of 5 for request: POST https://earthengine.googleapis.com/v1alpha/projects/earthengine-legacy/value:compute?prettyPrint=false&alt=json, after 502\n"
     ]
    },
    {
     "name": "stdout",
     "output_type": "stream",
     "text": [
      "Observation: 190/200\n",
      "/Users/robmarty/Google Drive/World Bank/IEs/Pakistan Poverty Estimation/Data/DHS/FinalData/Individual Datasets/cnn_l8/tfrecords/CO_4_5.tfrecord\n",
      "Putting 200 observations into EG_2_2.tfrecord\n",
      "Observation: 0/200\n",
      "Observation: 10/200\n"
     ]
    },
    {
     "name": "stderr",
     "output_type": "stream",
     "text": [
      "W0911 11:38:58.203181 4616400320 http.py:171] Sleeping 0.05 seconds before retry 1 of 5 for request: POST https://earthengine.googleapis.com/v1alpha/projects/earthengine-legacy/value:compute?prettyPrint=false&alt=json, after 502\n"
     ]
    },
    {
     "name": "stdout",
     "output_type": "stream",
     "text": [
      "Observation: 20/200\n",
      "Observation: 30/200\n",
      "Observation: 40/200\n",
      "Observation: 50/200\n",
      "Observation: 60/200\n",
      "Observation: 70/200\n",
      "Observation: 80/200\n",
      "Observation: 90/200\n",
      "Observation: 100/200\n",
      "Observation: 110/200\n",
      "Observation: 120/200\n",
      "Observation: 130/200\n",
      "Observation: 140/200\n",
      "Observation: 150/200\n",
      "Observation: 160/200\n",
      "Observation: 170/200\n",
      "Observation: 180/200\n",
      "Observation: 190/200\n",
      "/Users/robmarty/Google Drive/World Bank/IEs/Pakistan Poverty Estimation/Data/DHS/FinalData/Individual Datasets/cnn_l8/tfrecords/EG_2_2.tfrecord\n",
      "Putting 27 observations into EG_2_3.tfrecord\n",
      "Observation: 0/27\n",
      "Observation: 10/27\n",
      "Observation: 20/27\n",
      "/Users/robmarty/Google Drive/World Bank/IEs/Pakistan Poverty Estimation/Data/DHS/FinalData/Individual Datasets/cnn_l8/tfrecords/EG_2_3.tfrecord\n",
      "Putting 200 observations into EG_3_1.tfrecord\n",
      "Observation: 0/200\n",
      "Observation: 10/200\n",
      "Observation: 20/200\n",
      "Observation: 30/200\n",
      "Observation: 40/200\n",
      "Observation: 50/200\n",
      "Observation: 60/200\n",
      "Observation: 70/200\n",
      "Observation: 80/200\n",
      "Observation: 90/200\n",
      "Observation: 100/200\n",
      "Observation: 110/200\n",
      "Observation: 120/200\n",
      "Observation: 130/200\n",
      "Observation: 140/200\n",
      "Observation: 150/200\n",
      "Observation: 160/200\n",
      "Observation: 170/200\n",
      "Observation: 180/200\n",
      "Observation: 190/200\n",
      "/Users/robmarty/Google Drive/World Bank/IEs/Pakistan Poverty Estimation/Data/DHS/FinalData/Individual Datasets/cnn_l8/tfrecords/EG_3_1.tfrecord\n",
      "Putting 200 observations into EG_3_2.tfrecord\n",
      "Observation: 0/200\n",
      "Observation: 10/200\n",
      "Observation: 20/200\n",
      "Observation: 30/200\n",
      "Observation: 40/200\n",
      "Observation: 50/200\n",
      "Observation: 60/200\n",
      "Observation: 70/200\n",
      "Observation: 80/200\n",
      "Observation: 90/200\n",
      "Observation: 100/200\n",
      "Observation: 110/200\n",
      "Observation: 120/200\n",
      "Observation: 130/200\n",
      "Observation: 140/200\n",
      "Observation: 150/200\n",
      "Observation: 160/200\n",
      "Observation: 170/200\n",
      "Observation: 180/200\n",
      "Observation: 190/200\n",
      "/Users/robmarty/Google Drive/World Bank/IEs/Pakistan Poverty Estimation/Data/DHS/FinalData/Individual Datasets/cnn_l8/tfrecords/EG_3_2.tfrecord\n",
      "Putting 3 observations into EG_3_3.tfrecord\n",
      "Observation: 0/3\n",
      "/Users/robmarty/Google Drive/World Bank/IEs/Pakistan Poverty Estimation/Data/DHS/FinalData/Individual Datasets/cnn_l8/tfrecords/EG_3_3.tfrecord\n",
      "Putting 200 observations into EG_4_1.tfrecord\n",
      "Observation: 0/200\n",
      "Observation: 10/200\n",
      "Observation: 20/200\n",
      "Observation: 30/200\n",
      "Observation: 40/200\n",
      "Observation: 50/200\n",
      "Observation: 60/200\n",
      "Observation: 70/200\n",
      "Observation: 80/200\n",
      "Observation: 90/200\n",
      "Observation: 100/200\n",
      "Observation: 110/200\n",
      "Observation: 120/200\n",
      "Observation: 130/200\n",
      "Observation: 140/200\n",
      "Observation: 150/200\n",
      "Observation: 160/200\n",
      "Observation: 170/200\n",
      "Observation: 180/200\n",
      "Observation: 190/200\n",
      "/Users/robmarty/Google Drive/World Bank/IEs/Pakistan Poverty Estimation/Data/DHS/FinalData/Individual Datasets/cnn_l8/tfrecords/EG_4_1.tfrecord\n",
      "Putting 143 observations into EG_4_2.tfrecord\n",
      "Observation: 0/143\n",
      "Observation: 10/143\n",
      "Observation: 20/143\n",
      "Observation: 30/143\n",
      "Observation: 40/143\n",
      "Observation: 50/143\n",
      "Observation: 60/143\n",
      "Observation: 70/143\n",
      "Observation: 80/143\n",
      "Observation: 90/143\n",
      "Observation: 100/143\n",
      "Observation: 110/143\n",
      "Observation: 120/143\n",
      "Observation: 130/143\n",
      "Observation: 140/143\n",
      "/Users/robmarty/Google Drive/World Bank/IEs/Pakistan Poverty Estimation/Data/DHS/FinalData/Individual Datasets/cnn_l8/tfrecords/EG_4_2.tfrecord\n",
      "Putting 200 observations into EG_5_1.tfrecord\n",
      "Observation: 0/200\n",
      "Observation: 10/200\n",
      "Observation: 20/200\n",
      "Observation: 30/200\n",
      "Observation: 40/200\n",
      "Observation: 50/200\n",
      "Observation: 60/200\n",
      "Observation: 70/200\n",
      "Observation: 80/200\n",
      "Observation: 90/200\n",
      "Observation: 100/200\n",
      "Observation: 110/200\n",
      "Observation: 120/200\n",
      "Observation: 130/200\n",
      "Observation: 140/200\n",
      "Observation: 150/200\n",
      "Observation: 160/200\n",
      "Observation: 170/200\n",
      "Observation: 180/200\n",
      "Observation: 190/200\n",
      "/Users/robmarty/Google Drive/World Bank/IEs/Pakistan Poverty Estimation/Data/DHS/FinalData/Individual Datasets/cnn_l8/tfrecords/EG_5_1.tfrecord\n",
      "Putting 115 observations into EG_5_2.tfrecord\n",
      "Observation: 0/115\n",
      "Observation: 10/115\n",
      "Observation: 20/115\n",
      "Observation: 30/115\n",
      "Observation: 40/115\n",
      "Observation: 50/115\n",
      "Observation: 60/115\n",
      "Observation: 70/115\n",
      "Observation: 80/115\n",
      "Observation: 90/115\n",
      "Observation: 100/115\n",
      "Observation: 110/115\n",
      "/Users/robmarty/Google Drive/World Bank/IEs/Pakistan Poverty Estimation/Data/DHS/FinalData/Individual Datasets/cnn_l8/tfrecords/EG_5_2.tfrecord\n",
      "Putting 97 observations into ET_1_1.tfrecord\n",
      "Observation: 0/97\n",
      "Observation: 10/97\n",
      "Observation: 20/97\n",
      "Observation: 30/97\n",
      "Observation: 40/97\n",
      "Observation: 50/97\n",
      "Observation: 60/97\n",
      "Observation: 70/97\n",
      "Observation: 80/97\n",
      "Observation: 90/97\n",
      "/Users/robmarty/Google Drive/World Bank/IEs/Pakistan Poverty Estimation/Data/DHS/FinalData/Individual Datasets/cnn_l8/tfrecords/ET_1_1.tfrecord\n",
      "Putting 75 observations into ET_2_1.tfrecord\n",
      "Observation: 0/75\n",
      "Observation: 10/75\n",
      "Observation: 20/75\n",
      "Observation: 30/75\n",
      "Observation: 40/75\n",
      "Observation: 50/75\n",
      "Observation: 60/75\n",
      "Observation: 70/75\n",
      "/Users/robmarty/Google Drive/World Bank/IEs/Pakistan Poverty Estimation/Data/DHS/FinalData/Individual Datasets/cnn_l8/tfrecords/ET_2_1.tfrecord\n",
      "Putting 146 observations into ET_3_1.tfrecord\n",
      "Observation: 0/146\n",
      "Observation: 10/146\n",
      "Observation: 20/146\n",
      "Observation: 30/146\n",
      "Observation: 40/146\n",
      "Observation: 50/146\n",
      "Observation: 60/146\n",
      "Observation: 70/146\n",
      "Observation: 80/146\n",
      "Observation: 90/146\n",
      "Observation: 100/146\n",
      "Observation: 110/146\n",
      "Observation: 120/146\n",
      "Observation: 130/146\n",
      "Observation: 140/146\n",
      "/Users/robmarty/Google Drive/World Bank/IEs/Pakistan Poverty Estimation/Data/DHS/FinalData/Individual Datasets/cnn_l8/tfrecords/ET_3_1.tfrecord\n",
      "Putting 187 observations into ET_4_1.tfrecord\n",
      "Observation: 0/187\n",
      "Observation: 10/187\n",
      "Observation: 20/187\n",
      "Observation: 30/187\n",
      "Observation: 40/187\n",
      "Observation: 50/187\n",
      "Observation: 60/187\n",
      "Observation: 70/187\n",
      "Observation: 80/187\n",
      "Observation: 90/187\n",
      "Observation: 100/187\n",
      "Observation: 110/187\n",
      "Observation: 120/187\n",
      "Observation: 130/187\n",
      "Observation: 140/187\n",
      "Observation: 150/187\n",
      "Observation: 160/187\n",
      "Observation: 170/187\n",
      "Observation: 180/187\n",
      "/Users/robmarty/Google Drive/World Bank/IEs/Pakistan Poverty Estimation/Data/DHS/FinalData/Individual Datasets/cnn_l8/tfrecords/ET_4_1.tfrecord\n",
      "Putting 117 observations into ET_5_1.tfrecord\n",
      "Observation: 0/117\n",
      "Observation: 10/117\n",
      "Observation: 20/117\n",
      "Observation: 30/117\n",
      "Observation: 40/117\n",
      "Observation: 50/117\n",
      "Observation: 60/117\n",
      "Observation: 70/117\n",
      "Observation: 80/117\n",
      "Observation: 90/117\n",
      "Observation: 100/117\n",
      "Observation: 110/117\n",
      "Putting 75 observations into GA_1_1.tfrecord\n",
      "Observation: 0/75\n",
      "Observation: 10/75\n",
      "Observation: 20/75\n",
      "Observation: 30/75\n",
      "Observation: 40/75\n"
     ]
    },
    {
     "name": "stderr",
     "output_type": "stream",
     "text": [
      "W0911 13:13:01.682785 4616400320 http.py:171] Sleeping 1.17 seconds before retry 1 of 5 for request: POST https://earthengine.googleapis.com/v1alpha/projects/earthengine-legacy/value:compute?prettyPrint=false&alt=json, after 502\n",
      "W0911 13:13:02.974633 4616400320 http.py:171] Sleeping 0.14 seconds before retry 2 of 5 for request: POST https://earthengine.googleapis.com/v1alpha/projects/earthengine-legacy/value:compute?prettyPrint=false&alt=json, after 502\n"
     ]
    },
    {
     "name": "stdout",
     "output_type": "stream",
     "text": [
      "Observation: 50/75\n"
     ]
    },
    {
     "name": "stderr",
     "output_type": "stream",
     "text": [
      "W0911 13:15:58.794273 4616400320 http.py:171] Sleeping 1.68 seconds before retry 1 of 5 for request: POST https://earthengine.googleapis.com/v1alpha/projects/earthengine-legacy/value:compute?prettyPrint=false&alt=json, after 502\n"
     ]
    },
    {
     "name": "stdout",
     "output_type": "stream",
     "text": [
      "Observation: 60/75\n",
      "Observation: 70/75\n",
      "/Users/robmarty/Google Drive/World Bank/IEs/Pakistan Poverty Estimation/Data/DHS/FinalData/Individual Datasets/cnn_l8/tfrecords/GA_1_1.tfrecord\n",
      "Putting 91 observations into GA_2_1.tfrecord\n",
      "Observation: 0/91\n",
      "Observation: 10/91\n",
      "Observation: 20/91\n",
      "Observation: 30/91\n",
      "Observation: 40/91\n",
      "Observation: 50/91\n",
      "Observation: 60/91\n",
      "Observation: 70/91\n",
      "Observation: 80/91\n",
      "Observation: 90/91\n",
      "/Users/robmarty/Google Drive/World Bank/IEs/Pakistan Poverty Estimation/Data/DHS/FinalData/Individual Datasets/cnn_l8/tfrecords/GA_2_1.tfrecord\n",
      "Putting 60 observations into GA_3_1.tfrecord\n",
      "Observation: 0/60\n",
      "Observation: 10/60\n",
      "Observation: 20/60\n",
      "Observation: 30/60\n",
      "Observation: 40/60\n",
      "Putting 43 observations into GA_4_1.tfrecord\n",
      "Observation: 0/43\n",
      "Observation: 10/43\n",
      "Observation: 20/43\n",
      "Observation: 30/43\n",
      "Observation: 40/43\n",
      "/Users/robmarty/Google Drive/World Bank/IEs/Pakistan Poverty Estimation/Data/DHS/FinalData/Individual Datasets/cnn_l8/tfrecords/GA_4_1.tfrecord\n",
      "Putting 63 observations into GA_5_1.tfrecord\n",
      "Observation: 0/63\n",
      "Observation: 10/63\n",
      "Observation: 20/63\n",
      "Observation: 30/63\n",
      "Observation: 40/63\n"
     ]
    },
    {
     "name": "stderr",
     "output_type": "stream",
     "text": [
      "W0911 13:24:09.316186 4616400320 http.py:171] Sleeping 1.33 seconds before retry 1 of 5 for request: POST https://earthengine.googleapis.com/v1alpha/projects/earthengine-legacy/value:compute?prettyPrint=false&alt=json, after 502\n"
     ]
    },
    {
     "name": "stdout",
     "output_type": "stream",
     "text": [
      "Observation: 50/63\n",
      "Observation: 60/63\n",
      "/Users/robmarty/Google Drive/World Bank/IEs/Pakistan Poverty Estimation/Data/DHS/FinalData/Individual Datasets/cnn_l8/tfrecords/GA_5_1.tfrecord\n",
      "Putting 99 observations into GH_1_1.tfrecord\n",
      "Observation: 0/99\n",
      "Observation: 10/99\n",
      "Observation: 20/99\n",
      "Observation: 30/99\n",
      "Observation: 40/99\n",
      "Observation: 50/99\n",
      "Observation: 60/99\n",
      "Observation: 70/99\n",
      "Observation: 80/99\n",
      "Observation: 90/99\n",
      "/Users/robmarty/Google Drive/World Bank/IEs/Pakistan Poverty Estimation/Data/DHS/FinalData/Individual Datasets/cnn_l8/tfrecords/GH_1_1.tfrecord\n",
      "Putting 66 observations into GH_2_1.tfrecord\n",
      "Observation: 0/66\n",
      "Observation: 10/66\n",
      "Observation: 20/66\n",
      "Observation: 30/66\n",
      "Observation: 40/66\n",
      "Observation: 50/66\n",
      "Observation: 60/66\n",
      "/Users/robmarty/Google Drive/World Bank/IEs/Pakistan Poverty Estimation/Data/DHS/FinalData/Individual Datasets/cnn_l8/tfrecords/GH_2_1.tfrecord\n",
      "Putting 75 observations into GH_3_1.tfrecord\n",
      "Observation: 0/75\n",
      "Observation: 10/75\n",
      "Observation: 20/75\n",
      "Observation: 30/75\n",
      "Observation: 40/75\n",
      "Observation: 50/75\n",
      "Observation: 60/75\n",
      "Observation: 70/75\n"
     ]
    },
    {
     "name": "stderr",
     "output_type": "stream",
     "text": [
      "W0911 13:33:09.074955 4616400320 http.py:171] Sleeping 0.18 seconds before retry 1 of 5 for request: POST https://earthengine.googleapis.com/v1alpha/projects/earthengine-legacy/value:compute?prettyPrint=false&alt=json, after 502\n"
     ]
    },
    {
     "name": "stdout",
     "output_type": "stream",
     "text": [
      "/Users/robmarty/Google Drive/World Bank/IEs/Pakistan Poverty Estimation/Data/DHS/FinalData/Individual Datasets/cnn_l8/tfrecords/GH_3_1.tfrecord\n",
      "Putting 105 observations into GH_4_1.tfrecord\n",
      "Observation: 0/105\n",
      "Observation: 10/105\n",
      "Observation: 20/105\n",
      "Observation: 30/105\n",
      "Observation: 40/105\n",
      "Observation: 50/105\n",
      "Observation: 60/105\n",
      "Observation: 70/105\n",
      "Observation: 80/105\n",
      "Observation: 90/105\n",
      "Observation: 100/105\n",
      "/Users/robmarty/Google Drive/World Bank/IEs/Pakistan Poverty Estimation/Data/DHS/FinalData/Individual Datasets/cnn_l8/tfrecords/GH_4_1.tfrecord\n",
      "Putting 78 observations into GH_5_1.tfrecord\n",
      "Observation: 0/78\n",
      "Observation: 10/78\n",
      "Observation: 20/78\n",
      "Observation: 30/78\n",
      "Observation: 40/78\n",
      "Observation: 50/78\n",
      "Observation: 60/78\n",
      "Observation: 70/78\n",
      "/Users/robmarty/Google Drive/World Bank/IEs/Pakistan Poverty Estimation/Data/DHS/FinalData/Individual Datasets/cnn_l8/tfrecords/GH_5_1.tfrecord\n",
      "Putting 52 observations into GM_1_1.tfrecord\n",
      "Observation: 0/52\n",
      "Observation: 10/52\n",
      "Observation: 20/52\n",
      "Observation: 30/52\n"
     ]
    },
    {
     "name": "stderr",
     "output_type": "stream",
     "text": [
      "W0911 13:40:54.294146 4616400320 http.py:171] Sleeping 0.00 seconds before retry 1 of 5 for request: POST https://earthengine.googleapis.com/v1alpha/projects/earthengine-legacy/value:compute?prettyPrint=false&alt=json, after 502\n"
     ]
    },
    {
     "name": "stdout",
     "output_type": "stream",
     "text": [
      "Observation: 40/52\n",
      "Observation: 50/52\n",
      "/Users/robmarty/Google Drive/World Bank/IEs/Pakistan Poverty Estimation/Data/DHS/FinalData/Individual Datasets/cnn_l8/tfrecords/GM_1_1.tfrecord\n",
      "Putting 45 observations into GM_2_1.tfrecord\n",
      "Observation: 0/45\n",
      "Observation: 10/45\n",
      "Observation: 20/45\n",
      "Observation: 30/45\n",
      "Observation: 40/45\n",
      "/Users/robmarty/Google Drive/World Bank/IEs/Pakistan Poverty Estimation/Data/DHS/FinalData/Individual Datasets/cnn_l8/tfrecords/GM_2_1.tfrecord\n",
      "Putting 86 observations into GM_3_1.tfrecord\n",
      "Observation: 0/86\n",
      "Observation: 10/86\n"
     ]
    },
    {
     "name": "stderr",
     "output_type": "stream",
     "text": [
      "W0911 13:44:05.814131 4616400320 http.py:171] Sleeping 1.10 seconds before retry 1 of 5 for request: POST https://earthengine.googleapis.com/v1alpha/projects/earthengine-legacy/value:compute?prettyPrint=false&alt=json, after 502\n"
     ]
    },
    {
     "name": "stdout",
     "output_type": "stream",
     "text": [
      "Observation: 20/86\n",
      "Observation: 30/86\n",
      "Observation: 40/86\n",
      "Observation: 50/86\n",
      "Observation: 60/86\n",
      "Observation: 70/86\n",
      "Observation: 80/86\n",
      "/Users/robmarty/Google Drive/World Bank/IEs/Pakistan Poverty Estimation/Data/DHS/FinalData/Individual Datasets/cnn_l8/tfrecords/GM_3_1.tfrecord\n",
      "Putting 72 observations into GM_4_1.tfrecord\n",
      "Observation: 0/72\n",
      "Observation: 10/72\n",
      "Observation: 20/72\n",
      "Observation: 30/72\n"
     ]
    }
   ],
   "source": [
    "### Loop through all tfrecords\n",
    "for tfr_i in tf_record_list:\n",
    "    \n",
    "    # Sometimes we get computational time out errors. If occurs, just skip and go to next.\n",
    "    # We can then go back and rescrape missed ones.\n",
    "    try:\n",
    "    \n",
    "        survey_df_yeari = survey_df[survey_df['tfrecord_name'] == tfr_i]\n",
    "        year_i = survey_df_yeari['year'].iloc[0]\n",
    "\n",
    "        ### Loop through chunks within tfrecord (can only pull so much data from GEE at a time)\n",
    "        survey_df_yeari['chunk_id'] = utils.chunk_ids(survey_df_yeari.shape[0], CHUNK_SIZE)\n",
    "\n",
    "        print(\"Putting \" + str(survey_df_yeari.shape[0]) + \" observations into \" + tfr_i)\n",
    "\n",
    "        proto_examples_all = []\n",
    "        for chunk_i in list(np.unique(survey_df_yeari.chunk_id)):\n",
    "            time.sleep(6)\n",
    "            print(\"Observation: \" + str(len(proto_examples_all)) + \"/\" + str(survey_df_yeari.shape[0]))\n",
    "\n",
    "            survey_df_yeari_chunki = survey_df_yeari[survey_df_yeari['chunk_id'] == chunk_i]\n",
    "\n",
    "            proto_examples_i = utils.prep_cnn_np(survey_df_yeari_chunki, SATELLITE, KERNEL_SIZE, year_i)\n",
    "            proto_examples_all.extend(proto_examples_i)\n",
    "\n",
    "        ### Save data as tf record\n",
    "        out_path_i = os.path.join(out_path, tfr_i)\n",
    "        print(out_path_i)\n",
    "        with tf.io.TFRecordWriter(out_path_i) as writer:\n",
    "            for tf_example in proto_examples_all:\n",
    "                writer.write(tf_example.SerializeToString())\n",
    "                \n",
    "    except:\n",
    "        pass"
   ]
  },
  {
   "cell_type": "code",
   "execution_count": null,
   "metadata": {
    "colab": {
     "base_uri": "https://localhost:8080/"
    },
    "id": "gfMKJ0ILXVZC",
    "outputId": "4c960a89-0028-4fdd-be62-5e7d0e073240"
   },
   "outputs": [],
   "source": []
  },
  {
   "cell_type": "code",
   "execution_count": null,
   "metadata": {
    "colab": {
     "base_uri": "https://localhost:8080/",
     "height": 224
    },
    "id": "I6NhXtwo73AK",
    "outputId": "988398b3-4e62-4be2-8817-532af8d6f58e"
   },
   "outputs": [],
   "source": [
    "for row_i in range(0,10):\n",
    "    print(row_i)\n",
    "    proto_examples_i = utils.prep_cnn_np(survey_df_yeari_chunki.iloc[[row_i]], SATELLITE, KERNEL_SIZE, year_i)"
   ]
  },
  {
   "cell_type": "code",
   "execution_count": null,
   "metadata": {
    "id": "3l_U7gwb_vDC"
   },
   "outputs": [],
   "source": [
    "survey_df_yeari_chunki.iloc[[1]]"
   ]
  },
  {
   "cell_type": "code",
   "execution_count": null,
   "metadata": {
    "colab": {
     "base_uri": "https://localhost:8080/",
     "height": 224
    },
    "id": "YuhpLiDq_zLm",
    "outputId": "f5dc6270-4493-4cbf-b2b0-18ec047077fa"
   },
   "outputs": [],
   "source": []
  },
  {
   "cell_type": "code",
   "execution_count": null,
   "metadata": {
    "colab": {
     "base_uri": "https://localhost:8080/"
    },
    "id": "zU05sc-s29jA",
    "outputId": "f9f946fc-d6a6-44e8-c2c2-539ec29937b9"
   },
   "outputs": [],
   "source": []
  },
  {
   "cell_type": "code",
   "execution_count": 71,
   "metadata": {
    "id": "fVeX2_WIkGiV"
   },
   "outputs": [],
   "source": []
  },
  {
   "cell_type": "code",
   "execution_count": 72,
   "metadata": {
    "id": "4RhcmrWylK6k"
   },
   "outputs": [],
   "source": []
  },
  {
   "cell_type": "code",
   "execution_count": null,
   "metadata": {
    "colab": {
     "base_uri": "https://localhost:8080/",
     "height": 80
    },
    "id": "pFHX00Y4ld81",
    "outputId": "4c9c913a-dce5-47b7-e28e-b9c6f14b7fed"
   },
   "outputs": [],
   "source": []
  },
  {
   "cell_type": "code",
   "execution_count": null,
   "metadata": {
    "colab": {
     "base_uri": "https://localhost:8080/"
    },
    "id": "9tk6RNyHXVZC",
    "outputId": "8806e5aa-370a-4a24-c6ba-062cf52f5ffb"
   },
   "outputs": [],
   "source": []
  },
  {
   "cell_type": "code",
   "execution_count": null,
   "metadata": {
    "id": "WAVqwXz7_lDL"
   },
   "outputs": [],
   "source": []
  },
  {
   "cell_type": "code",
   "execution_count": null,
   "metadata": {
    "colab": {
     "base_uri": "https://localhost:8080/"
    },
    "id": "I9atvzCW65oh",
    "outputId": "515a1320-e759-4e12-a053-362d7562c52f"
   },
   "outputs": [],
   "source": []
  },
  {
   "cell_type": "code",
   "execution_count": null,
   "metadata": {
    "colab": {
     "base_uri": "https://localhost:8080/"
    },
    "id": "5UrbRLqLKAtA",
    "outputId": "936ca132-44fc-45cb-d754-ad9dcfb8901e"
   },
   "outputs": [],
   "source": []
  },
  {
   "cell_type": "code",
   "execution_count": null,
   "metadata": {
    "id": "gaBcOr2w77ZL"
   },
   "outputs": [],
   "source": []
  },
  {
   "cell_type": "code",
   "execution_count": null,
   "metadata": {
    "colab": {
     "base_uri": "https://localhost:8080/"
    },
    "id": "l69Wpxz5XVZC",
    "outputId": "5d4d531b-61ef-45c7-b5b5-f25cb875c6b6"
   },
   "outputs": [],
   "source": []
  },
  {
   "cell_type": "code",
   "execution_count": null,
   "metadata": {
    "colab": {
     "base_uri": "https://localhost:8080/"
    },
    "id": "Q9MXwUdTXVZD",
    "outputId": "0bc2748f-ebe3-466d-a859-924eaa1b9081"
   },
   "outputs": [],
   "source": []
  },
  {
   "cell_type": "code",
   "execution_count": null,
   "metadata": {
    "colab": {
     "base_uri": "https://localhost:8080/",
     "height": 181
    },
    "id": "iLbrGQTRojcS",
    "outputId": "43aabd48-e175-4d1c-f5f1-48be198520b0"
   },
   "outputs": [],
   "source": []
  },
  {
   "cell_type": "code",
   "execution_count": null,
   "metadata": {
    "colab": {
     "base_uri": "https://localhost:8080/",
     "height": 198
    },
    "id": "VHZAJ22anj6b",
    "outputId": "bebf3669-139a-423a-a967-78109a8c80a2"
   },
   "outputs": [],
   "source": []
  },
  {
   "cell_type": "code",
   "execution_count": null,
   "metadata": {
    "id": "y1MXAhkbpRkI"
   },
   "outputs": [],
   "source": []
  },
  {
   "cell_type": "code",
   "execution_count": null,
   "metadata": {
    "colab": {
     "base_uri": "https://localhost:8080/",
     "height": 198
    },
    "id": "93PWEi6jm-3K",
    "outputId": "67dcc0a7-1516-4ee8-bfd9-694fd0f347de"
   },
   "outputs": [],
   "source": []
  },
  {
   "cell_type": "code",
   "execution_count": null,
   "metadata": {
    "id": "5Rm6K6D-XVZD"
   },
   "outputs": [],
   "source": []
  },
  {
   "cell_type": "code",
   "execution_count": null,
   "metadata": {
    "colab": {
     "base_uri": "https://localhost:8080/"
    },
    "id": "fod-VYxLXVZE",
    "outputId": "3dd1f56a-476b-4aad-8279-86840b0bc026"
   },
   "outputs": [],
   "source": []
  },
  {
   "cell_type": "code",
   "execution_count": null,
   "metadata": {
    "colab": {
     "base_uri": "https://localhost:8080/"
    },
    "id": "t0iUwZmAXVZE",
    "outputId": "a33e2442-ae0c-4f62-ce6b-eddb002c165d"
   },
   "outputs": [],
   "source": []
  },
  {
   "cell_type": "code",
   "execution_count": null,
   "metadata": {
    "colab": {
     "base_uri": "https://localhost:8080/"
    },
    "id": "62ReOurYXVZE",
    "outputId": "92795c41-e2b9-4971-f512-9d56b18cf5d8"
   },
   "outputs": [],
   "source": []
  },
  {
   "cell_type": "code",
   "execution_count": null,
   "metadata": {
    "id": "-SajCSlNXVZE"
   },
   "outputs": [],
   "source": []
  },
  {
   "cell_type": "code",
   "execution_count": null,
   "metadata": {
    "id": "LJAM4iswXVZE"
   },
   "outputs": [],
   "source": []
  },
  {
   "cell_type": "code",
   "execution_count": null,
   "metadata": {
    "id": "9wYDJxfpXVZF"
   },
   "outputs": [],
   "source": []
  },
  {
   "cell_type": "code",
   "execution_count": null,
   "metadata": {
    "id": "Zb0U780PXVZF"
   },
   "outputs": [],
   "source": []
  },
  {
   "cell_type": "code",
   "execution_count": null,
   "metadata": {
    "id": "pBuKts4wXVZF"
   },
   "outputs": [],
   "source": []
  },
  {
   "cell_type": "code",
   "execution_count": null,
   "metadata": {
    "id": "IS7Bb2f0XVZF"
   },
   "outputs": [],
   "source": []
  },
  {
   "cell_type": "code",
   "execution_count": null,
   "metadata": {
    "id": "ju-_zuLnXVZF"
   },
   "outputs": [],
   "source": []
  },
  {
   "cell_type": "code",
   "execution_count": null,
   "metadata": {
    "id": "fD0SacCEXVZF"
   },
   "outputs": [],
   "source": []
  },
  {
   "cell_type": "code",
   "execution_count": null,
   "metadata": {
    "id": "0xqAkzCqXVZG"
   },
   "outputs": [],
   "source": []
  },
  {
   "cell_type": "code",
   "execution_count": null,
   "metadata": {
    "id": "JDskpn-iXVZG"
   },
   "outputs": [],
   "source": []
  },
  {
   "cell_type": "code",
   "execution_count": null,
   "metadata": {
    "id": "0Iep8MNNXVZG"
   },
   "outputs": [],
   "source": []
  },
  {
   "cell_type": "code",
   "execution_count": null,
   "metadata": {
    "id": "TNjhMUDHXVZH"
   },
   "outputs": [],
   "source": []
  },
  {
   "cell_type": "code",
   "execution_count": null,
   "metadata": {
    "id": "mPzEHDBcXVZH"
   },
   "outputs": [],
   "source": []
  },
  {
   "cell_type": "code",
   "execution_count": null,
   "metadata": {
    "id": "jVI8BPYMXVZH"
   },
   "outputs": [],
   "source": []
  },
  {
   "cell_type": "code",
   "execution_count": null,
   "metadata": {
    "id": "eQR8aHw2XVZH"
   },
   "outputs": [],
   "source": []
  },
  {
   "cell_type": "code",
   "execution_count": null,
   "metadata": {
    "id": "H5pJ0FIOXVZI"
   },
   "outputs": [],
   "source": []
  },
  {
   "cell_type": "code",
   "execution_count": null,
   "metadata": {
    "id": "H9GuSI50opSX"
   },
   "outputs": [],
   "source": []
  }
 ],
 "metadata": {
  "colab": {
   "collapsed_sections": [],
   "name": "01_extract_data_gee_for_cnn.ipynb",
   "provenance": []
  },
  "kernelspec": {
   "display_name": "Python 3",
   "language": "python",
   "name": "python3"
  },
  "language_info": {
   "codemirror_mode": {
    "name": "ipython",
    "version": 3
   },
   "file_extension": ".py",
   "mimetype": "text/x-python",
   "name": "python",
   "nbconvert_exporter": "python",
   "pygments_lexer": "ipython3",
   "version": "3.7.2"
  }
 },
 "nbformat": 4,
 "nbformat_minor": 2
}
