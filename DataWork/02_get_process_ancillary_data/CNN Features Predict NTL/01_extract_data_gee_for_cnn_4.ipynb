{
 "cells": [
  {
   "cell_type": "markdown",
   "metadata": {
    "id": "X0MV-G1dXVY2"
   },
   "source": [
    "# Prepare CNN Data"
   ]
  },
  {
   "cell_type": "markdown",
   "metadata": {
    "id": "iuOZpPbiXVY5"
   },
   "source": [
    "## Setup"
   ]
  },
  {
   "cell_type": "code",
   "execution_count": 1,
   "metadata": {},
   "outputs": [
    {
     "data": {
      "text/html": [
       "<p>To authorize access needed by Earth Engine, open the following\n",
       "        URL in a web browser and follow the instructions:</p>\n",
       "        <p><a href=https://accounts.google.com/o/oauth2/auth?client_id=517222506229-vsmmajv00ul0bs7p89v5m89qs8eb9359.apps.googleusercontent.com&scope=https%3A%2F%2Fwww.googleapis.com%2Fauth%2Fearthengine+https%3A%2F%2Fwww.googleapis.com%2Fauth%2Fdevstorage.full_control&redirect_uri=urn%3Aietf%3Awg%3Aoauth%3A2.0%3Aoob&response_type=code&code_challenge=EKcYH2YYPuwp9vlOpCxwDIU9DoxmhfGo8Q3yvq8BX6w&code_challenge_method=S256>https://accounts.google.com/o/oauth2/auth?client_id=517222506229-vsmmajv00ul0bs7p89v5m89qs8eb9359.apps.googleusercontent.com&scope=https%3A%2F%2Fwww.googleapis.com%2Fauth%2Fearthengine+https%3A%2F%2Fwww.googleapis.com%2Fauth%2Fdevstorage.full_control&redirect_uri=urn%3Aietf%3Awg%3Aoauth%3A2.0%3Aoob&response_type=code&code_challenge=EKcYH2YYPuwp9vlOpCxwDIU9DoxmhfGo8Q3yvq8BX6w&code_challenge_method=S256</a></p>\n",
       "        <p>The authorization workflow will generate a code, which you\n",
       "        should paste in the box below</p>\n",
       "        "
      ],
      "text/plain": [
       "<IPython.core.display.HTML object>"
      ]
     },
     "metadata": {},
     "output_type": "display_data"
    },
    {
     "name": "stdin",
     "output_type": "stream",
     "text": [
      "Enter verification code:  4/1AX4XfWjJXmW2a6REl1B7sXgRiq4-WQ_jHf2mOlw_nMz3zqDbhaxnZdrU53I\n"
     ]
    },
    {
     "name": "stdout",
     "output_type": "stream",
     "text": [
      "\n",
      "Successfully saved authorization token.\n"
     ]
    }
   ],
   "source": [
    "# USE ACCOUNT: ieconnectlagosproject10@gmail.com\n",
    "import ee\n",
    "ee.Authenticate()\n",
    "ee.Initialize()"
   ]
  },
  {
   "cell_type": "code",
   "execution_count": 2,
   "metadata": {},
   "outputs": [
    {
     "name": "stderr",
     "output_type": "stream",
     "text": [
      "/Users/robmarty/anaconda3/lib/python3.7/site-packages/dask/config.py:168: YAMLLoadWarning: calling yaml.load() without Loader=... is deprecated, as the default Loader is unsafe. Please read https://msg.pyyaml.org/load for full details.\n",
      "  data = yaml.load(f.read()) or {}\n",
      "/Users/robmarty/anaconda3/lib/python3.7/site-packages/xarray/core/merge.py:17: FutureWarning: The Panel class is removed from pandas. Accessing it from the top-level namespace will also be removed in the next version\n",
      "  PANDAS_TYPES = (pd.Series, pd.DataFrame, pd.Panel)\n",
      "/Users/robmarty/anaconda3/lib/python3.7/site-packages/distributed/config.py:20: YAMLLoadWarning: calling yaml.load() without Loader=... is deprecated, as the default Loader is unsafe. Please read https://msg.pyyaml.org/load for full details.\n",
      "  defaults = yaml.load(f)\n"
     ]
    }
   ],
   "source": [
    "import numpy as np\n",
    "#import geetools\n",
    "#from geetools import ui, cloud_mask\n",
    "import os, datetime\n",
    "import pandas as pd\n",
    "import itertools\n",
    "import tensorflow as tf\n",
    "import config as cf\n",
    "import ee_utils as utils\n",
    "import eeconvert\n",
    "\n",
    "#cloud_mask_landsatSR = cloud_mask.landsatSR()\n",
    "#cloud_mask_sentinel2 = cloud_mask.sentinel2()"
   ]
  },
  {
   "cell_type": "markdown",
   "metadata": {},
   "source": [
    "## Parameters"
   ]
  },
  {
   "cell_type": "code",
   "execution_count": 3,
   "metadata": {
    "id": "TqWX3QM4mVPW"
   },
   "outputs": [
    {
     "name": "stdout",
     "output_type": "stream",
     "text": [
      "167\n"
     ]
    }
   ],
   "source": [
    "#224\n",
    "SURVEY_NAME = 'DHS'\n",
    "SATELLITE = 'l8'\n",
    "SKIP_IF_SCRAPED = True\n",
    "CHUNK_SIZE = 10 # Number of observtaions to scrape in GEE at any given time\n",
    "DROPBOX_DIR = cf.DROPBOX_DIRECTORY\n",
    "GOOGLEDRIVE_DIR = cf.GOOGLEDRIVE_DIRECTORY\n",
    "\n",
    "if SATELLITE == 's2':\n",
    "    KERNEL_SIZE = 500\n",
    "elif SATELLITE == 'l8':\n",
    "    KERNEL_SIZE = 167\n",
    "\n",
    "print(KERNEL_SIZE)"
   ]
  },
  {
   "cell_type": "code",
   "execution_count": 4,
   "metadata": {
    "colab": {
     "base_uri": "https://localhost:8080/"
    },
    "id": "MwPA7XTCYmjh",
    "outputId": "74e611ba-5c81-44ca-e2ce-c595399753a0"
   },
   "outputs": [],
   "source": [
    "# Directory to store tfrecords\n",
    "out_path = os.path.join(GOOGLEDRIVE_DIR, \n",
    "            'Data', \n",
    "            SURVEY_NAME, \n",
    "            'FinalData',\n",
    "            'Individual Datasets',\n",
    "            'cnn_' + SATELLITE,\n",
    "            'tfrecords')"
   ]
  },
  {
   "cell_type": "markdown",
   "metadata": {
    "colab": {
     "base_uri": "https://localhost:8080/"
    },
    "id": "phzXq49zXVY5",
    "outputId": "0b60e419-0e3f-44e2-e927-0895afb316cc"
   },
   "source": [
    "## Load Data"
   ]
  },
  {
   "cell_type": "code",
   "execution_count": 5,
   "metadata": {},
   "outputs": [
    {
     "name": "stderr",
     "output_type": "stream",
     "text": [
      "/Users/robmarty/anaconda3/lib/python3.7/site-packages/IPython/core/interactiveshell.py:3044: DtypeWarning: Columns (26,30,33,36,37,38,40) have mixed types.Specify dtype option on import or set low_memory=False.\n",
      "  interactivity=interactivity, compiler=compiler, result=result)\n"
     ]
    }
   ],
   "source": [
    "# Relies on VIIRs Values\n",
    "survey_df = pd.read_csv(os.path.join(DROPBOX_DIR, 'Data', SURVEY_NAME, 'FinalData', 'Individual Datasets', 'survey_socioeconomic.csv'))\n",
    "\n",
    "viirs_2_5km_df = pd.read_csv(os.path.join(DROPBOX_DIR, 'Data', SURVEY_NAME, 'FinalData', 'Individual Datasets', 'survey_viirs_2_5km.csv'))\n",
    "viirs_5km_df = pd.read_csv(os.path.join(DROPBOX_DIR, 'Data', SURVEY_NAME, 'FinalData', 'Individual Datasets', 'survey_viirs_5km.csv'))\n",
    "\n",
    "viirs_2_5km_df.viirs_avg_rad = np.log(viirs_2_5km_df.viirs_avg_rad + 1)\n",
    "viirs_5km_df.viirs_avg_rad = np.log(viirs_5km_df.viirs_avg_rad + 1)\n",
    "\n",
    "viirs_2_5km_df = viirs_2_5km_df.rename(columns={\"viirs_avg_rad\": \"viirs_avg_rad_2_5km\"})\n",
    "viirs_5km_df = viirs_5km_df.rename(columns={\"viirs_avg_rad\": \"viirs_avg_rad_5km\"})\n",
    "\n",
    "survey_df = survey_df.merge(viirs_2_5km_df, on = 'uid')\n",
    "survey_df = survey_df.merge(viirs_5km_df, on = 'uid')"
   ]
  },
  {
   "cell_type": "code",
   "execution_count": 6,
   "metadata": {
    "colab": {
     "base_uri": "https://localhost:8080/"
    },
    "id": "hpXnbunXYZdP",
    "outputId": "9cf085c9-5a7c-4298-9600-36158f5d7f7c"
   },
   "outputs": [],
   "source": [
    "# Sentinel doesn't capture Lakshadweep (island off coast of mainland India)\n",
    "#survey_df = survey_df[survey_df['GID_2'] != \"IND.18.1_1\"]\n",
    "\n",
    "# List of TF Records\n",
    "tf_record_list = list(np.unique(survey_df.tfrecord_name))"
   ]
  },
  {
   "cell_type": "code",
   "execution_count": 7,
   "metadata": {},
   "outputs": [],
   "source": [
    "# Remove if issues extracting\n",
    "#survey_df = survey_df[survey_df['uid'] != \"IA201400180079\"]\n",
    "#survey_df = survey_df[survey_df['uid'] != \"IA201400180052\"]\n",
    "#survey_df = survey_df[survey_df['uid'] != \"IA201400180112\"]\n",
    "#survey_df = survey_df[survey_df['uid'] != \"IA201400180081\"]\n",
    "#survey_df = survey_df[survey_df['uid'] != \"IA201400180011\"]\n",
    "#survey_df = survey_df[survey_df['uid'] != \"IA201400180048\"]\n",
    "#survey_df = survey_df[survey_df['uid'] != \"IA201400180058\"]\n",
    "#survey_df = survey_df[survey_df['uid'] != \"IA201400180028\"]\n",
    "#survey_df = survey_df[survey_df['uid'] != \"IA201400180072\"]\n",
    "#survey_df = survey_df[survey_df['uid'] != \"IA201400180047\"]\n",
    "#survey_df = survey_df[survey_df['uid'] != \"IA201400180012\"]\n",
    "#survey_df = survey_df[survey_df['uid'] != \"IA201400180040\"]\n",
    "#survey_df = survey_df[survey_df['uid'] != \"IA201400180055\"]\n",
    "#survey_df = survey_df[survey_df['uid'] != \"IA201400180140\"]\n",
    "#survey_df = survey_df[survey_df['uid'] != \"IA201400180030\"]\n",
    "#survey_df = survey_df[survey_df['uid'] != \"IA201400180104\"]\n",
    "#survey_df = survey_df[survey_df['uid'] != \"IA201400180123\"]\n",
    "#survey_df = survey_df[survey_df['uid'] != \"IA201400180062\"]\n",
    "#survey_df = survey_df[survey_df['uid'] != \"IA201400180080\"]\n",
    "#survey_df = survey_df[survey_df['uid'] != \"IA201400180050\"]\n",
    "#survey_df = survey_df[survey_df['uid'] != \"IA201400180116\"]"
   ]
  },
  {
   "cell_type": "code",
   "execution_count": 8,
   "metadata": {
    "id": "PTEEJI89XVY6"
   },
   "outputs": [],
   "source": [
    "# If skip already scraped, remove existing tfrecords from tf_record_list\n",
    "if SKIP_IF_SCRAPED:\n",
    "    tf_records_exist = os.listdir(out_path)\n",
    "    tf_record_list = [x for x in tf_record_list if x not in tf_records_exist]"
   ]
  },
  {
   "cell_type": "code",
   "execution_count": 9,
   "metadata": {},
   "outputs": [],
   "source": [
    "index = np.int(np.floor(len(tf_record_list)/2))\n",
    "tf_record_list = tf_record_list[1:index]\n",
    "tf_record_list.reverse()"
   ]
  },
  {
   "cell_type": "code",
   "execution_count": null,
   "metadata": {
    "id": "c89pBOUXZT_V"
   },
   "outputs": [
    {
     "name": "stderr",
     "output_type": "stream",
     "text": [
      "/Users/robmarty/anaconda3/lib/python3.7/site-packages/ipykernel_launcher.py:8: SettingWithCopyWarning: \n",
      "A value is trying to be set on a copy of a slice from a DataFrame.\n",
      "Try using .loc[row_indexer,col_indexer] = value instead\n",
      "\n",
      "See the caveats in the documentation: https://pandas.pydata.org/pandas-docs/stable/user_guide/indexing.html#returning-a-view-versus-a-copy\n",
      "  \n"
     ]
    },
    {
     "name": "stdout",
     "output_type": "stream",
     "text": [
      "Putting 174 observations into IA_3_27.tfrecord\n",
      "Observation: 0/174\n",
      "Observation: 10/174\n",
      "Observation: 20/174\n",
      "Observation: 30/174\n",
      "Observation: 40/174\n",
      "Observation: 50/174\n",
      "Observation: 60/174\n",
      "Observation: 70/174\n",
      "Observation: 80/174\n",
      "Observation: 90/174\n",
      "Observation: 100/174\n",
      "Observation: 110/174\n",
      "Observation: 120/174\n",
      "Observation: 130/174\n",
      "Observation: 140/174\n"
     ]
    }
   ],
   "source": [
    "### Loop through all tfrecords\n",
    "for tfr_i in tf_record_list:\n",
    "    \n",
    "    survey_df_yeari = survey_df[survey_df['tfrecord_name'] == tfr_i]\n",
    "    year_i = survey_df_yeari['year'].iloc[0]\n",
    "\n",
    "    ### Loop through chunks within tfrecord (can only pull so much data from GEE at a time)\n",
    "    survey_df_yeari['chunk_id'] = utils.chunk_ids(survey_df_yeari.shape[0], CHUNK_SIZE)\n",
    "\n",
    "    print(\"Putting \" + str(survey_df_yeari.shape[0]) + \" observations into \" + tfr_i)\n",
    "    \n",
    "    proto_examples_all = []\n",
    "    for chunk_i in list(np.unique(survey_df_yeari.chunk_id)):\n",
    "        \n",
    "        print(\"Observation: \" + str(len(proto_examples_all)) + \"/\" + str(survey_df_yeari.shape[0]))\n",
    "        \n",
    "        survey_df_yeari_chunki = survey_df_yeari[survey_df_yeari['chunk_id'] == chunk_i]\n",
    "      \n",
    "        proto_examples_i = utils.prep_cnn_np(survey_df_yeari_chunki, SATELLITE, KERNEL_SIZE, year_i)\n",
    "        proto_examples_all.extend(proto_examples_i)\n",
    "\n",
    "    ### Save data as tf record\n",
    "    out_path_i = os.path.join(out_path, tfr_i)\n",
    "    print(out_path_i)\n",
    "    with tf.io.TFRecordWriter(out_path_i) as writer:\n",
    "        for tf_example in proto_examples_all:\n",
    "            writer.write(tf_example.SerializeToString())"
   ]
  },
  {
   "cell_type": "code",
   "execution_count": null,
   "metadata": {
    "colab": {
     "base_uri": "https://localhost:8080/"
    },
    "id": "gfMKJ0ILXVZC",
    "outputId": "4c960a89-0028-4fdd-be62-5e7d0e073240"
   },
   "outputs": [],
   "source": []
  },
  {
   "cell_type": "code",
   "execution_count": null,
   "metadata": {
    "colab": {
     "base_uri": "https://localhost:8080/",
     "height": 224
    },
    "id": "I6NhXtwo73AK",
    "outputId": "988398b3-4e62-4be2-8817-532af8d6f58e"
   },
   "outputs": [],
   "source": [
    "for row_i in range(0,10):\n",
    "    print(row_i)\n",
    "    proto_examples_i = utils.prep_cnn_np(survey_df_yeari_chunki.iloc[[row_i]], SATELLITE, KERNEL_SIZE, year_i)"
   ]
  },
  {
   "cell_type": "code",
   "execution_count": null,
   "metadata": {
    "id": "3l_U7gwb_vDC"
   },
   "outputs": [],
   "source": [
    "survey_df_yeari_chunki.iloc[[1]]"
   ]
  },
  {
   "cell_type": "code",
   "execution_count": null,
   "metadata": {
    "colab": {
     "base_uri": "https://localhost:8080/",
     "height": 224
    },
    "id": "YuhpLiDq_zLm",
    "outputId": "f5dc6270-4493-4cbf-b2b0-18ec047077fa"
   },
   "outputs": [],
   "source": []
  },
  {
   "cell_type": "code",
   "execution_count": null,
   "metadata": {
    "colab": {
     "base_uri": "https://localhost:8080/"
    },
    "id": "zU05sc-s29jA",
    "outputId": "f9f946fc-d6a6-44e8-c2c2-539ec29937b9"
   },
   "outputs": [],
   "source": []
  },
  {
   "cell_type": "code",
   "execution_count": 71,
   "metadata": {
    "id": "fVeX2_WIkGiV"
   },
   "outputs": [],
   "source": []
  },
  {
   "cell_type": "code",
   "execution_count": 72,
   "metadata": {
    "id": "4RhcmrWylK6k"
   },
   "outputs": [],
   "source": []
  },
  {
   "cell_type": "code",
   "execution_count": null,
   "metadata": {
    "colab": {
     "base_uri": "https://localhost:8080/",
     "height": 80
    },
    "id": "pFHX00Y4ld81",
    "outputId": "4c9c913a-dce5-47b7-e28e-b9c6f14b7fed"
   },
   "outputs": [],
   "source": []
  },
  {
   "cell_type": "code",
   "execution_count": null,
   "metadata": {
    "colab": {
     "base_uri": "https://localhost:8080/"
    },
    "id": "9tk6RNyHXVZC",
    "outputId": "8806e5aa-370a-4a24-c6ba-062cf52f5ffb"
   },
   "outputs": [],
   "source": []
  },
  {
   "cell_type": "code",
   "execution_count": null,
   "metadata": {
    "id": "WAVqwXz7_lDL"
   },
   "outputs": [],
   "source": []
  },
  {
   "cell_type": "code",
   "execution_count": null,
   "metadata": {
    "colab": {
     "base_uri": "https://localhost:8080/"
    },
    "id": "I9atvzCW65oh",
    "outputId": "515a1320-e759-4e12-a053-362d7562c52f"
   },
   "outputs": [],
   "source": []
  },
  {
   "cell_type": "code",
   "execution_count": null,
   "metadata": {
    "colab": {
     "base_uri": "https://localhost:8080/"
    },
    "id": "5UrbRLqLKAtA",
    "outputId": "936ca132-44fc-45cb-d754-ad9dcfb8901e"
   },
   "outputs": [],
   "source": []
  },
  {
   "cell_type": "code",
   "execution_count": null,
   "metadata": {
    "id": "gaBcOr2w77ZL"
   },
   "outputs": [],
   "source": []
  },
  {
   "cell_type": "code",
   "execution_count": null,
   "metadata": {
    "colab": {
     "base_uri": "https://localhost:8080/"
    },
    "id": "l69Wpxz5XVZC",
    "outputId": "5d4d531b-61ef-45c7-b5b5-f25cb875c6b6"
   },
   "outputs": [],
   "source": []
  },
  {
   "cell_type": "code",
   "execution_count": null,
   "metadata": {
    "colab": {
     "base_uri": "https://localhost:8080/"
    },
    "id": "Q9MXwUdTXVZD",
    "outputId": "0bc2748f-ebe3-466d-a859-924eaa1b9081"
   },
   "outputs": [],
   "source": []
  },
  {
   "cell_type": "code",
   "execution_count": null,
   "metadata": {
    "colab": {
     "base_uri": "https://localhost:8080/",
     "height": 181
    },
    "id": "iLbrGQTRojcS",
    "outputId": "43aabd48-e175-4d1c-f5f1-48be198520b0"
   },
   "outputs": [],
   "source": []
  },
  {
   "cell_type": "code",
   "execution_count": null,
   "metadata": {
    "colab": {
     "base_uri": "https://localhost:8080/",
     "height": 198
    },
    "id": "VHZAJ22anj6b",
    "outputId": "bebf3669-139a-423a-a967-78109a8c80a2"
   },
   "outputs": [],
   "source": []
  },
  {
   "cell_type": "code",
   "execution_count": null,
   "metadata": {
    "id": "y1MXAhkbpRkI"
   },
   "outputs": [],
   "source": []
  },
  {
   "cell_type": "code",
   "execution_count": null,
   "metadata": {
    "colab": {
     "base_uri": "https://localhost:8080/",
     "height": 198
    },
    "id": "93PWEi6jm-3K",
    "outputId": "67dcc0a7-1516-4ee8-bfd9-694fd0f347de"
   },
   "outputs": [],
   "source": []
  },
  {
   "cell_type": "code",
   "execution_count": null,
   "metadata": {
    "id": "5Rm6K6D-XVZD"
   },
   "outputs": [],
   "source": []
  },
  {
   "cell_type": "code",
   "execution_count": null,
   "metadata": {
    "colab": {
     "base_uri": "https://localhost:8080/"
    },
    "id": "fod-VYxLXVZE",
    "outputId": "3dd1f56a-476b-4aad-8279-86840b0bc026"
   },
   "outputs": [],
   "source": []
  },
  {
   "cell_type": "code",
   "execution_count": null,
   "metadata": {
    "colab": {
     "base_uri": "https://localhost:8080/"
    },
    "id": "t0iUwZmAXVZE",
    "outputId": "a33e2442-ae0c-4f62-ce6b-eddb002c165d"
   },
   "outputs": [],
   "source": []
  },
  {
   "cell_type": "code",
   "execution_count": null,
   "metadata": {
    "colab": {
     "base_uri": "https://localhost:8080/"
    },
    "id": "62ReOurYXVZE",
    "outputId": "92795c41-e2b9-4971-f512-9d56b18cf5d8"
   },
   "outputs": [],
   "source": []
  },
  {
   "cell_type": "code",
   "execution_count": null,
   "metadata": {
    "id": "-SajCSlNXVZE"
   },
   "outputs": [],
   "source": []
  },
  {
   "cell_type": "code",
   "execution_count": null,
   "metadata": {
    "id": "LJAM4iswXVZE"
   },
   "outputs": [],
   "source": []
  },
  {
   "cell_type": "code",
   "execution_count": null,
   "metadata": {
    "id": "9wYDJxfpXVZF"
   },
   "outputs": [],
   "source": []
  },
  {
   "cell_type": "code",
   "execution_count": null,
   "metadata": {
    "id": "Zb0U780PXVZF"
   },
   "outputs": [],
   "source": []
  },
  {
   "cell_type": "code",
   "execution_count": null,
   "metadata": {
    "id": "pBuKts4wXVZF"
   },
   "outputs": [],
   "source": []
  },
  {
   "cell_type": "code",
   "execution_count": null,
   "metadata": {
    "id": "IS7Bb2f0XVZF"
   },
   "outputs": [],
   "source": []
  },
  {
   "cell_type": "code",
   "execution_count": null,
   "metadata": {
    "id": "ju-_zuLnXVZF"
   },
   "outputs": [],
   "source": []
  },
  {
   "cell_type": "code",
   "execution_count": null,
   "metadata": {
    "id": "fD0SacCEXVZF"
   },
   "outputs": [],
   "source": []
  },
  {
   "cell_type": "code",
   "execution_count": null,
   "metadata": {
    "id": "0xqAkzCqXVZG"
   },
   "outputs": [],
   "source": []
  },
  {
   "cell_type": "code",
   "execution_count": null,
   "metadata": {
    "id": "JDskpn-iXVZG"
   },
   "outputs": [],
   "source": []
  },
  {
   "cell_type": "code",
   "execution_count": null,
   "metadata": {
    "id": "0Iep8MNNXVZG"
   },
   "outputs": [],
   "source": []
  },
  {
   "cell_type": "code",
   "execution_count": null,
   "metadata": {
    "id": "TNjhMUDHXVZH"
   },
   "outputs": [],
   "source": []
  },
  {
   "cell_type": "code",
   "execution_count": null,
   "metadata": {
    "id": "mPzEHDBcXVZH"
   },
   "outputs": [],
   "source": []
  },
  {
   "cell_type": "code",
   "execution_count": null,
   "metadata": {
    "id": "jVI8BPYMXVZH"
   },
   "outputs": [],
   "source": []
  },
  {
   "cell_type": "code",
   "execution_count": null,
   "metadata": {
    "id": "eQR8aHw2XVZH"
   },
   "outputs": [],
   "source": []
  },
  {
   "cell_type": "code",
   "execution_count": null,
   "metadata": {
    "id": "H5pJ0FIOXVZI"
   },
   "outputs": [],
   "source": []
  },
  {
   "cell_type": "code",
   "execution_count": null,
   "metadata": {
    "id": "H9GuSI50opSX"
   },
   "outputs": [],
   "source": []
  }
 ],
 "metadata": {
  "colab": {
   "collapsed_sections": [],
   "name": "01_extract_data_gee_for_cnn.ipynb",
   "provenance": []
  },
  "kernelspec": {
   "display_name": "Python 3",
   "language": "python",
   "name": "python3"
  },
  "language_info": {
   "codemirror_mode": {
    "name": "ipython",
    "version": 3
   },
   "file_extension": ".py",
   "mimetype": "text/x-python",
   "name": "python",
   "nbconvert_exporter": "python",
   "pygments_lexer": "ipython3",
   "version": "3.7.2"
  }
 },
 "nbformat": 4,
 "nbformat_minor": 2
}
