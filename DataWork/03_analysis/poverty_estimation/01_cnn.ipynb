{
  "nbformat": 4,
  "nbformat_minor": 0,
  "metadata": {
    "kernelspec": {
      "display_name": "Python 3",
      "language": "python",
      "name": "python3"
    },
    "language_info": {
      "codemirror_mode": {
        "name": "ipython",
        "version": 3
      },
      "file_extension": ".py",
      "mimetype": "text/x-python",
      "name": "python",
      "nbconvert_exporter": "python",
      "pygments_lexer": "ipython3",
      "version": "3.7.2"
    },
    "colab": {
      "name": "01_cnn.ipynb",
      "provenance": [],
      "include_colab_link": true
    }
  },
  "cells": [
    {
      "cell_type": "markdown",
      "metadata": {
        "id": "view-in-github",
        "colab_type": "text"
      },
      "source": [
        "<a href=\"https://colab.research.google.com/github/worldbank/Pakistan-Poverty-from-Sky/blob/master/DataWork/03_analysis/poverty_estimation/01_cnn.ipynb\" target=\"_parent\"><img src=\"https://colab.research.google.com/assets/colab-badge.svg\" alt=\"Open In Colab\"/></a>"
      ]
    },
    {
      "cell_type": "markdown",
      "metadata": {
        "id": "z34KtcX5Pp7o",
        "colab_type": "text"
      },
      "source": [
        "# __Predicting NTL using DTL__\n",
        "\n",
        "__Code in Github:__ _/DataWork/03_analysis/poverty_estimation/01_cnn.ipynb_"
      ]
    },
    {
      "cell_type": "markdown",
      "metadata": {
        "id": "Vds1yHMwLJp2",
        "colab_type": "text"
      },
      "source": [
        "## **Filepaths and Libraries**"
      ]
    },
    {
      "cell_type": "code",
      "metadata": {
        "id": "UOdgNXFG8EmH",
        "colab_type": "code",
        "colab": {}
      },
      "source": [
        "# Path in github\n",
        "# DataWork/03_analysis/poverty_estimation/01_cnn.ipynb"
      ],
      "execution_count": 90,
      "outputs": []
    },
    {
      "cell_type": "code",
      "metadata": {
        "id": "206o8Vv6OjtI",
        "colab_type": "code",
        "colab": {}
      },
      "source": [
        "# Set seeds. Note that using a GPU can still introduce randomness.\n",
        "# (also not taking into account tensorflow randomness)\n",
        "from numpy.random import seed\n",
        "seed(42)"
      ],
      "execution_count": 91,
      "outputs": []
    },
    {
      "cell_type": "code",
      "metadata": {
        "id": "urMUqpA_1_fM",
        "colab_type": "code",
        "colab": {
          "base_uri": "https://localhost:8080/",
          "height": 34
        },
        "outputId": "6f81524c-feb3-48cd-8945-be7daaeff435"
      },
      "source": [
        "# Mount Drive\n",
        "from google.colab import drive\n",
        "drive.mount('/content/drive')"
      ],
      "execution_count": 92,
      "outputs": [
        {
          "output_type": "stream",
          "text": [
            "Drive already mounted at /content/drive; to attempt to forcibly remount, call drive.mount(\"/content/drive\", force_remount=True).\n"
          ],
          "name": "stdout"
        }
      ]
    },
    {
      "cell_type": "code",
      "metadata": {
        "id": "KjmhWLqU95-J",
        "colab_type": "code",
        "colab": {}
      },
      "source": [
        "#drive.flush_and_unmount()"
      ],
      "execution_count": null,
      "outputs": []
    },
    {
      "cell_type": "code",
      "metadata": {
        "id": "hbrNDZWq2UdD",
        "colab_type": "code",
        "colab": {}
      },
      "source": [
        "# Filepaths\n",
        "import os, datetime\n",
        "\n",
        "PROJECT_DIRECTORY = os.path.join('/content/drive', 'My Drive', 'World Bank', 'Pakistan Poverty Estimation')\n",
        "\n",
        "CNN_FILENAME = os.path.join(PROJECT_DIRECTORY, 'Models', 'CNN', 'script_CNN.h5')\n",
        "CNN_PARAMS_FILENAME = os.path.join(PROJECT_DIRECTORY, 'Models', 'CNN', 'CNN_parameters.json')\n",
        "NTL_FILENAME = os.path.join(PROJECT_DIRECTORY, 'Data', 'CNN - Processed Inputs', 'ntl.npy')\n",
        "DTL_FILENAME = os.path.join(PROJECT_DIRECTORY, 'Data', 'CNN - Processed Inputs', 'dtl.npy')"
      ],
      "execution_count": null,
      "outputs": []
    },
    {
      "cell_type": "code",
      "metadata": {
        "id": "tWeveSe00gul",
        "colab_type": "code",
        "colab": {}
      },
      "source": [
        "import os, datetime\n",
        "import numpy as np\n",
        "import pandas as pd\n",
        "import json\n",
        "\n",
        "from sklearn.preprocessing import KBinsDiscretizer\n",
        "from sklearn.model_selection import train_test_split, KFold\n",
        "from sklearn.metrics import classification_report, confusion_matrix\n",
        "\n",
        "from keras.utils import to_categorical\n",
        "from keras.models import Sequential, Model\n",
        "from keras.layers import Conv2D, MaxPooling2D, Flatten, Dense, GlobalAveragePooling2D, Dropout\n",
        "from keras.callbacks import EarlyStopping, ModelCheckpoint\n",
        "from keras.models import load_model\n",
        "from keras.applications.vgg16 import VGG16\n",
        "from keras.applications.inception_v3 import preprocess_input\n",
        "\n",
        "import logging, os \n",
        "import random\n",
        "import tensorflow as tf"
      ],
      "execution_count": null,
      "outputs": []
    },
    {
      "cell_type": "markdown",
      "metadata": {
        "id": "I5k-bEJvLVvj",
        "colab_type": "text"
      },
      "source": [
        "## **Functions**"
      ]
    },
    {
      "cell_type": "code",
      "metadata": {
        "id": "fkAYWJCg0gut",
        "colab_type": "code",
        "colab": {}
      },
      "source": [
        "def transform_target(gdf, orig_target_name, n_bins):\n",
        "    '''\n",
        "    Creates log NTL variable and bins into 5 classes using k-means clutering.\n",
        "    '''\n",
        "    # Perform log(x+1) for defined domain\n",
        "    transformed_target_name = f'log_{orig_target_name}'\n",
        "    gdf[transformed_target_name] = np.log(gdf[orig_target_name] + 1)\n",
        "    # Bin target\n",
        "    target = gdf[transformed_target_name].to_numpy().reshape(-1,1)\n",
        "    discretizer = KBinsDiscretizer(n_bins=n_bins, encode='ordinal', strategy='kmeans')\n",
        "    gdf[FINAL_TARGET_NAME] = discretizer.fit_transform(target)\n",
        "\n",
        "def normalize(X):\n",
        "    '''\n",
        "    Normalizes features.\n",
        "    '''\n",
        "    return X.astype('float32') / 255.0\n",
        "\n",
        "def define_model_imagenet(height, width, channels, num_classes):\n",
        "    '''\n",
        "    Defines and compiles CNN model.\n",
        "    \n",
        "    Inputs:\n",
        "        height, width, channels, num_classes (int)\n",
        "    Returns:\n",
        "        model (keras.Model object)\n",
        "    '''\n",
        "\n",
        "    # https://medium.com/abraia/first-steps-with-transfer-learning-for-custom-image-classification-with-keras-b941601fcad5\n",
        "    # https://towardsdatascience.com/cnn-transfer-learning-fine-tuning-9f3e7c5806b2\n",
        "\n",
        "    #### Base model\n",
        "    input_shape = (height, width, channels)\n",
        "    base_model = VGG16(weights='imagenet', include_top=False, input_shape=input_shape)\n",
        "\n",
        "    for layer in base_model.layers:\n",
        "        layer.trainable = False\n",
        "\n",
        "    #### Model Customization\n",
        "    # We take the last layer of our the model and add it to our classifier\n",
        "    last = base_model.layers[-1].output\n",
        "    x = Flatten()(last)\n",
        "    x = Dense(100, activation='relu', name='fc1')(x)\n",
        "    x = Dropout(0.3)(x)\n",
        "    x = Dense(num_classes, activation='softmax', name='predictions')(x)\n",
        "    model = Model(base_model.input, x)\n",
        "    # We compile the model\n",
        "    model.compile(optimizer='rmsprop',\n",
        "              loss='categorical_crossentropy',\n",
        "              metrics=['accuracy'])\n",
        "\n",
        "    #model.compile(optimizer=Adam(lr=0.001), loss='categorical_crossentropy', metrics=['accuracy'])\n",
        "\n",
        "    #x = base_model.output\n",
        "    #x = GlobalAveragePooling2D(name='avg_pool')(x)\n",
        "    #x = Dropout(0.4)(x)\n",
        "    #x = Dense(100, activation='relu', name='dense1')(x)\n",
        "    #predictions = Dense(num_classes, activation='softmax')(x)\n",
        "    #model = Model(inputs=base_model.input, outputs=predictions)\n",
        "\n",
        "    #model.compile(optimizer='rmsprop',\n",
        "    #          loss='categorical_crossentropy',\n",
        "    #          metrics=['accuracy'])\n",
        "\n",
        "    return model\n",
        "\n",
        "\n",
        "def evaluate_model(model, trainX, trainY, testX, testY):\n",
        "    '''\n",
        "    Fits model, evaluates model, saves best model over epochs and cross-validations.\n",
        "    \n",
        "    Inputs:\n",
        "        model (CNN model) keras.Model object\n",
        "        trainX, trainY (numpy.ndarray) 4D array of DTL features and 2D array of targets for training\n",
        "        testX, testY (numpy.ndarray) 4D array of DTL features and 2D array of targets for testing\n",
        "        current_kfold (int) iteration in kfold cross-val, default=None for no cross-val\n",
        "        display_metrics (bool) Default=False\n",
        "    Returns:\n",
        "        None\n",
        "    # https://towardsdatascience.com/step-by-step-guide-to-using-pretrained-models-in-keras-c9097b647b29\n",
        "    '''\n",
        "\n",
        "    # Use early stopping to help with overfitting\n",
        "    es = EarlyStopping(monitor='val_loss', mode='min', patience=5, verbose=False)\n",
        "\n",
        "    # Save best model based on accuracy\n",
        "    mc = ModelCheckpoint(CNN_FILENAME, monitor='val_loss', mode='min', \n",
        "                         verbose=True, save_best_only=True)\n",
        "\n",
        "    # Fit model\n",
        "    model.fit(trainX, trainY, \n",
        "            epochs=10, \n",
        "            batch_size=500, \n",
        "            validation_data=(testX, testY), \n",
        "            callbacks=[es, mc], \n",
        "            verbose=False)\n",
        "\n",
        "    # Show accuracy\n",
        "    loss, accuracy = model.evaluate(testX, testY, verbose=False)\n",
        "    print(f'                              Accuracy: {accuracy}')\n",
        "\n",
        "    #return model\n",
        "        \n",
        "\n",
        "def evaluate_with_crossval(model, dataX, dataY, k=2):\n",
        "    '''\n",
        "    Performs evaulation with K-fold cross validation.\n",
        "    \n",
        "    Inputs:\n",
        "        model (keras.Model object)\n",
        "        dataX, dataY (numpy.ndarray) 4D array of DTL features and 2D array of targets \n",
        "                                     for training\n",
        "        k (int)\n",
        "    Returns:\n",
        "        None\n",
        "    '''\n",
        "    # Define k-fold cross-val\n",
        "    kfold = KFold(k, shuffle=True, random_state=1)\n",
        "    # Loop through folds\n",
        "    count = 1\n",
        "    for train_idx, test_idx in kfold.split(dataX):\n",
        "        print(f'{datetime.datetime.now()}    --- Current K-fold: {count} ---')\n",
        "        # Select subsets for training and testing\n",
        "        trainX, trainY, testX, testY = dataX[train_idx], dataY[train_idx], \\\n",
        "                                       dataX[test_idx], dataY[test_idx]\n",
        "        # Pass to evaluate_model function\n",
        "        evaluate_model(model, trainX, trainY, testX, testY)\n",
        "        count += 1\n",
        "\n",
        "def display_eval_metrics(model, testX, testY, n_ntl_bins):\n",
        "    '''\n",
        "    Displays evaluation metrics for a given trained model.\n",
        "    '''\n",
        "    # Get predictions\n",
        "    predY = model.predict(testX)\n",
        "    predY = np.argmax(predY, axis = 1)\n",
        "    testY_bins = np.argmax(testY, axis = 1)\n",
        "    # Generate classification report\n",
        "    classes = ['Radiance Level %01d' %i for i in range(1,n_ntl_bins+1)]\n",
        "    print(classification_report(testY_bins, predY, target_names=classes))"
      ],
      "execution_count": null,
      "outputs": []
    },
    {
      "cell_type": "markdown",
      "metadata": {
        "id": "C4lWj5moLdQW",
        "colab_type": "text"
      },
      "source": [
        "## **Load Parameters**"
      ]
    },
    {
      "cell_type": "code",
      "metadata": {
        "id": "S7mQb5uJ6BEq",
        "colab_type": "code",
        "colab": {}
      },
      "source": [
        "with open(CNN_PARAMS_FILENAME, 'r') as fp:\n",
        "    cnn_param_dict = json.load(fp)\n",
        "\n",
        "N_bands = cnn_param_dict['N_bands']\n",
        "n_ntl_bins = cnn_param_dict['n_ntl_bins']\n",
        "image_height = cnn_param_dict['image_height']\n",
        "image_width = cnn_param_dict['image_width']\n",
        "bands = cnn_param_dict['bands']\n",
        "min_ntl_bin_count = cnn_param_dict['bands']"
      ],
      "execution_count": null,
      "outputs": []
    },
    {
      "cell_type": "markdown",
      "metadata": {
        "id": "LZ0rFqCiLhM0",
        "colab_type": "text"
      },
      "source": [
        "## **Load and Prep Data**"
      ]
    },
    {
      "cell_type": "code",
      "metadata": {
        "id": "vuCKwuARKt_E",
        "colab_type": "code",
        "colab": {
          "base_uri": "https://localhost:8080/",
          "height": 102
        },
        "outputId": "c0b12a2c-c6ed-4c77-ee17-28bdebb2e9a0"
      },
      "source": [
        "# Load Data\n",
        "NTL = np.load(NTL_FILENAME)\n",
        "DTL = np.load(DTL_FILENAME)\n",
        "\n",
        "# SPLIT DATA INTO TRAINING AND TESTING\n",
        "trainX, testX, raw_trainY, raw_testY = train_test_split(DTL, NTL, \n",
        "                                                        test_size=0.2)\n",
        "\n",
        "\n",
        "# PREP TRAINING AND TESTING DATA\n",
        "trainY = to_categorical(raw_trainY)\n",
        "testY = to_categorical(raw_testY)\n",
        "\n",
        "\n",
        "print(np.unique(NTL, return_counts=True))\n",
        "\n",
        "print(np.unique(raw_trainY, return_counts=True))\n",
        "print(np.unique(raw_testY, return_counts=True))\n",
        "\n",
        "print(np.unique(trainY, return_counts=True))\n",
        "print(np.unique(testY, return_counts=True))\n",
        "\n",
        "# PREP PIXELS IN FEATURES\n",
        "trainX, testX = normalize(trainX), normalize(testX)"
      ],
      "execution_count": null,
      "outputs": [
        {
          "output_type": "stream",
          "text": [
            "(array([0., 1., 2.]), array([30, 30, 30]))\n",
            "(array([0., 1., 2.]), array([25, 26, 21]))\n",
            "(array([0., 1., 2.]), array([5, 4, 9]))\n",
            "(array([0., 1.], dtype=float32), array([144,  72]))\n",
            "(array([0., 1.], dtype=float32), array([36, 18]))\n"
          ],
          "name": "stdout"
        }
      ]
    },
    {
      "cell_type": "markdown",
      "metadata": {
        "id": "bKlWDX3gLkde",
        "colab_type": "text"
      },
      "source": [
        "## **Run Model**"
      ]
    },
    {
      "cell_type": "code",
      "metadata": {
        "id": "icaSC1870guy",
        "colab_type": "code",
        "colab": {}
      },
      "source": [
        "model = define_model_imagenet(image_height, image_width, N_bands, n_ntl_bins)"
      ],
      "execution_count": null,
      "outputs": []
    },
    {
      "cell_type": "code",
      "metadata": {
        "id": "DTt_30BEMrss",
        "colab_type": "code",
        "colab": {
          "base_uri": "https://localhost:8080/",
          "height": 394
        },
        "outputId": "23a2c754-7ec8-4545-9762-41ff44be0699"
      },
      "source": [
        "evaluate_model(model, trainX, trainY, testX, testY)"
      ],
      "execution_count": 85,
      "outputs": [
        {
          "output_type": "stream",
          "text": [
            "\n",
            "Epoch 00001: val_loss improved from inf to 14.20488, saving model to /content/drive/My Drive/World Bank/Pakistan Poverty Estimation/Models/CNN/script_CNN.h5\n",
            "\n",
            "Epoch 00002: val_loss improved from 14.20488 to 11.34183, saving model to /content/drive/My Drive/World Bank/Pakistan Poverty Estimation/Models/CNN/script_CNN.h5\n",
            "\n",
            "Epoch 00003: val_loss improved from 11.34183 to 1.56646, saving model to /content/drive/My Drive/World Bank/Pakistan Poverty Estimation/Models/CNN/script_CNN.h5\n",
            "\n",
            "Epoch 00004: val_loss did not improve from 1.56646\n",
            "\n",
            "Epoch 00005: val_loss did not improve from 1.56646\n",
            "\n",
            "Epoch 00006: val_loss did not improve from 1.56646\n",
            "\n",
            "Epoch 00007: val_loss improved from 1.56646 to 1.33762, saving model to /content/drive/My Drive/World Bank/Pakistan Poverty Estimation/Models/CNN/script_CNN.h5\n",
            "\n",
            "Epoch 00008: val_loss improved from 1.33762 to 1.05374, saving model to /content/drive/My Drive/World Bank/Pakistan Poverty Estimation/Models/CNN/script_CNN.h5\n",
            "\n",
            "Epoch 00009: val_loss improved from 1.05374 to 1.04755, saving model to /content/drive/My Drive/World Bank/Pakistan Poverty Estimation/Models/CNN/script_CNN.h5\n",
            "\n",
            "Epoch 00010: val_loss did not improve from 1.04755\n",
            "                              Accuracy: 0.3333333432674408\n"
          ],
          "name": "stdout"
        }
      ]
    },
    {
      "cell_type": "code",
      "metadata": {
        "id": "0akMTs7NK4iJ",
        "colab_type": "code",
        "colab": {
          "base_uri": "https://localhost:8080/",
          "height": 241
        },
        "outputId": "badeb9e2-eea9-4cc0-d7e2-1ba617b276f0"
      },
      "source": [
        "# DISPLAY IN-DEPTH EVALUTAION METRICS\n",
        "best_model = load_model(CNN_FILENAME)\n",
        "display_eval_metrics(model, testX, testY, n_ntl_bins)"
      ],
      "execution_count": 86,
      "outputs": [
        {
          "output_type": "stream",
          "text": [
            "                  precision    recall  f1-score   support\n",
            "\n",
            "Radiance Level 1       1.00      0.40      0.57         5\n",
            "Radiance Level 2       0.25      1.00      0.40         4\n",
            "Radiance Level 3       0.00      0.00      0.00         9\n",
            "\n",
            "        accuracy                           0.33        18\n",
            "       macro avg       0.42      0.47      0.32        18\n",
            "    weighted avg       0.33      0.33      0.25        18\n",
            "\n"
          ],
          "name": "stdout"
        },
        {
          "output_type": "stream",
          "text": [
            "/usr/local/lib/python3.6/dist-packages/sklearn/metrics/_classification.py:1272: UndefinedMetricWarning: Precision and F-score are ill-defined and being set to 0.0 in labels with no predicted samples. Use `zero_division` parameter to control this behavior.\n",
            "  _warn_prf(average, modifier, msg_start, len(result))\n"
          ],
          "name": "stderr"
        }
      ]
    },
    {
      "cell_type": "code",
      "metadata": {
        "id": "7VYvJlW58z-M",
        "colab_type": "code",
        "colab": {}
      },
      "source": [
        ""
      ],
      "execution_count": null,
      "outputs": []
    }
  ]
}