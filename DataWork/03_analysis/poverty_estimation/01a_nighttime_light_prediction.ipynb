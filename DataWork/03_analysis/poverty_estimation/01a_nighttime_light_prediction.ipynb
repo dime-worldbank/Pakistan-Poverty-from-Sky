{
 "cells": [
  {
   "cell_type": "markdown",
   "metadata": {},
   "source": [
    "# Predict Nighttime Light Intensities from Daytime Light \n",
    "\n",
    "First pass.  \n",
    "Current Goal: Use CNN to extract features from daytime lights (Landsat) data and predict levels of nighhtime light intensities (VIIRS).\n",
    "***\n",
    "General Steps:\n",
    "1. Import the data\n",
    "2. Feature creation\n",
    "3. Build the Neural Net\n",
    "4. Evaluate the Neural Net"
   ]
  },
  {
   "cell_type": "code",
   "execution_count": 3,
   "metadata": {},
   "outputs": [],
   "source": [
    "import os\n",
    "import pandas as pd\n",
    "import geopandas as gpd\n",
    "import rasterio\n",
    "\n",
    "import getpass\n",
    "\n",
    "import matplotlib.pyplot as plt\n",
    "%matplotlib inline\n",
    "import seaborn as sns\n",
    "\n",
    "import numpy as np\n",
    "from numpy import mean\n",
    "from numpy import std\n",
    "from sklearn.model_selection import KFold\n",
    "from keras.utils import to_categorical\n",
    "from keras.models import Sequential\n",
    "from keras.layers import Conv2D\n",
    "from keras.layers import MaxPooling2D\n",
    "from keras.layers import Dense\n",
    "from keras.layers import Flatten\n",
    "\n",
    "# Set directory\n",
    "os.chdir(\"/Users/nguyenluong/wb_internship/Data/satellite_raw\")"
   ]
  },
  {
   "cell_type": "code",
   "execution_count": 4,
   "metadata": {},
   "outputs": [],
   "source": [
    "# Rob's code\n",
    "if getpass.getuser() == 'robmarty':\n",
    "    project_file_path = '/Users/robmarty/Dropbox/World Bank/IEs/Pakistan Poverty Estimation from Satellites'\n",
    "    \n",
    "filepath_night = project_file_path + \"/Data/VIIRS/RawData/VIIRS Annual/pak_viirs_median_2012.tif\"\n",
    "data_night = rasterio.open(filepath_night)\n",
    "array_night = data_night.read()\n",
    "np.nanmean(array_night)\n",
    "\n",
    "array_night_flat = array_night.flatten()\n",
    "array_night_flat_nona = array_night_flat[ ~np.isnan(array_night_flat) ]\n",
    "plt.hist(array_night_flat_nona)"
   ]
  },
  {
   "cell_type": "markdown",
   "metadata": {},
   "source": [
    "# 1. Import and Prep Data"
   ]
  },
  {
   "cell_type": "markdown",
   "metadata": {},
   "source": [
    "## 1a. Load and Prep Nighttime Lights Data "
   ]
  },
  {
   "cell_type": "code",
   "execution_count": 4,
   "metadata": {},
   "outputs": [
    {
     "data": {
      "text/html": [
       "<div>\n",
       "<style scoped>\n",
       "    .dataframe tbody tr th:only-of-type {\n",
       "        vertical-align: middle;\n",
       "    }\n",
       "\n",
       "    .dataframe tbody tr th {\n",
       "        vertical-align: top;\n",
       "    }\n",
       "\n",
       "    .dataframe thead th {\n",
       "        text-align: right;\n",
       "    }\n",
       "</style>\n",
       "<table border=\"1\" class=\"dataframe\">\n",
       "  <thead>\n",
       "    <tr style=\"text-align: right;\">\n",
       "      <th></th>\n",
       "      <th>median_rad_2012</th>\n",
       "      <th>median_rad_2013</th>\n",
       "      <th>median_rad_2014</th>\n",
       "      <th>median_rad_2015</th>\n",
       "      <th>median_rad_2016</th>\n",
       "      <th>median_rad_2017</th>\n",
       "      <th>median_rad_2018</th>\n",
       "      <th>id</th>\n",
       "      <th>tile_id</th>\n",
       "      <th>geometry</th>\n",
       "    </tr>\n",
       "  </thead>\n",
       "  <tbody>\n",
       "    <tr>\n",
       "      <th>0</th>\n",
       "      <td>0.121902</td>\n",
       "      <td>0.217595</td>\n",
       "      <td>0.179258</td>\n",
       "      <td>0.213304</td>\n",
       "      <td>0.148595</td>\n",
       "      <td>0.352908</td>\n",
       "      <td>0.34</td>\n",
       "      <td>1</td>\n",
       "      <td>42.0</td>\n",
       "      <td>POLYGON ((74.66347 37.06224, 74.67021 37.06224...</td>\n",
       "    </tr>\n",
       "    <tr>\n",
       "      <th>1</th>\n",
       "      <td>0.204110</td>\n",
       "      <td>0.223363</td>\n",
       "      <td>0.207353</td>\n",
       "      <td>0.283295</td>\n",
       "      <td>0.156230</td>\n",
       "      <td>0.375000</td>\n",
       "      <td>0.36</td>\n",
       "      <td>2</td>\n",
       "      <td>42.0</td>\n",
       "      <td>POLYGON ((74.67021 37.06224, 74.67695 37.06224...</td>\n",
       "    </tr>\n",
       "  </tbody>\n",
       "</table>\n",
       "</div>"
      ],
      "text/plain": [
       "   median_rad_2012  median_rad_2013  median_rad_2014  median_rad_2015  \\\n",
       "0         0.121902         0.217595         0.179258         0.213304   \n",
       "1         0.204110         0.223363         0.207353         0.283295   \n",
       "\n",
       "   median_rad_2016  median_rad_2017  median_rad_2018  id  tile_id  \\\n",
       "0         0.148595         0.352908             0.34   1     42.0   \n",
       "1         0.156230         0.375000             0.36   2     42.0   \n",
       "\n",
       "                                            geometry  \n",
       "0  POLYGON ((74.66347 37.06224, 74.67021 37.06224...  \n",
       "1  POLYGON ((74.67021 37.06224, 74.67695 37.06224...  "
      ]
     },
     "execution_count": 4,
     "metadata": {},
     "output_type": "execute_result"
    }
   ],
   "source": [
    "# Load nighttime VIIRS data (geojson)\n",
    "viirs_gdf = gpd.read_file('VIIRS/VIIRS Annual/viirs_annual_polygon.geojson')\n",
    "viirs_gdf.head(2)"
   ]
  },
  {
   "cell_type": "markdown",
   "metadata": {},
   "source": [
    "Transform nighttime lights to lessen heavily skewed distribution. For now, **limit to only 2014 data**.   \n",
    "***\n",
    "Options tried here:\n",
    "- natural log\n",
    "- square root\n",
    "- box-cox\n",
    "- yeo-johnson\n",
    "\n",
    "doc: https://scikit-learn.org/stable/modules/generated/sklearn.preprocessing.power_transform.html#r742a88cfa144-1"
   ]
  },
  {
   "cell_type": "code",
   "execution_count": 5,
   "metadata": {},
   "outputs": [],
   "source": [
    "from sklearn.preprocessing import power_transform\n",
    "\n",
    "# Do log(x + 1) to have fully defined domain since data has x = 0\n",
    "viirs_gdf['log_median_rad_2014'] = np.log(viirs_gdf['median_rad_2014'] + 1)\n",
    "log_rad = np.log(viirs_gdf['median_rad_2014'] + 1).to_numpy()\n",
    "\n",
    "sqrt_rad = np.sqrt(viirs_gdf['median_rad_2014']).to_numpy()\n",
    "\n",
    "# do box-cox with (x + 1) because needs strictly positive values \n",
    "bc_rad = power_transform((viirs_gdf['median_rad_2014'] + 1).to_numpy().reshape(-1, 1), method='box-cox')\n",
    "\n",
    "yj_rad = power_transform((viirs_gdf['median_rad_2014']).to_numpy().reshape(-1, 1), method='yeo-johnson')"
   ]
  },
  {
   "cell_type": "markdown",
   "metadata": {},
   "source": [
    "Explore the distributions of variable transformations to decide which to go forward with."
   ]
  },
  {
   "cell_type": "code",
   "execution_count": 6,
   "metadata": {},
   "outputs": [
    {
     "name": "stdout",
     "output_type": "stream",
     "text": [
      "Summary of log\n",
      "DescribeResult(nobs=1814237, minmax=(0.0, 7.003241113635235), mean=0.20576721970884848, variance=0.062333206493509284, skewness=6.602233458742071, kurtosis=63.58599491384153)\n",
      "\n",
      "Summary of square-root\n",
      "DescribeResult(nobs=1814237, minmax=(0.0, 33.154083267445166), mean=0.45985096480354326, variance=0.10546258282824325, skewness=10.262868875497135, kurtosis=252.55956265564947)\n",
      "\n",
      "Summary of box-cox\n",
      "DescribeResult(nobs=1814237, minmax=(-3.0815043715438386, 2.3062005044008833), mean=8.316728796961411e-16, variance=1.0000005511962058, skewness=0.5906939197104081, kurtosis=-0.34560818439899155)\n",
      "\n",
      "Summary of yeo-johnson\n",
      "DescribeResult(nobs=1814237, minmax=(-3.0815044025438088, 2.3062004841188073), mean=4.371421043369711e-16, variance=1.0000005511962067, skewness=0.5906939018912442, kurtosis=-0.34560820768947886)\n",
      "\n"
     ]
    },
    {
     "data": {
      "image/png": "[encoded data removed]",
      "text/plain": [
       "<Figure size 1440x360 with 4 Axes>"
      ]
     },
     "metadata": {
      "needs_background": "light"
     },
     "output_type": "display_data"
    }
   ],
   "source": [
    "from scipy import stats\n",
    "\n",
    "def explore_distrib(vars_dict):\n",
    "    fig, ax = plt.subplots(figsize=(20,5), ncols=len(vars_dict.values()))\n",
    "    i = 0\n",
    "    for var_name, array in vars_dict.items():\n",
    "        if len(array.shape) > 1:\n",
    "            array = array.flatten()\n",
    "        print('Summary of ' + var_name)\n",
    "        print(stats.describe(array))\n",
    "        print()\n",
    "        ax[i].hist(array);\n",
    "        ax[i].set_title('Distribution of ' + var_name);\n",
    "        i += 1\n",
    "    plt.tight_layout()\n",
    "    plt.show()\n",
    "\n",
    "vars_dict = {'log': log_rad, 'square-root': sqrt_rad, \n",
    "             'box-cox': bc_rad, 'yeo-johnson': yj_rad}\n",
    "explore_distrib(vars_dict)"
   ]
  },
  {
   "cell_type": "markdown",
   "metadata": {},
   "source": [
    "I feel like it makes sense to feel values positive for interpretation of radiance. Log has lowered skewness and smaller range of values. So, I will discretize log median radiance for 2014 with k-means clustering."
   ]
  },
  {
   "cell_type": "code",
   "execution_count": 8,
   "metadata": {},
   "outputs": [
    {
     "data": {
      "image/png": "[encoded data removed]",
      "text/plain": [
       "<Figure size 432x288 with 1 Axes>"
      ]
     },
     "metadata": {
      "needs_background": "light"
     },
     "output_type": "display_data"
    }
   ],
   "source": [
    "from sklearn.preprocessing import KBinsDiscretizer\n",
    "# Reshape array to be a column rather than a row\n",
    "log_rad = viirs_gdf['log_median_rad_2014'].to_numpy().reshape(-1,1)\n",
    "discretizer = KBinsDiscretizer(n_bins=5, encode='ordinal', strategy='kmeans')\n",
    "viirs_gdf['log_binned'] = discretizer.fit_transform(log_rad)\n",
    "plt.hist(viirs_gdf['log_binned']);"
   ]
  },
  {
   "cell_type": "code",
   "execution_count": 12,
   "metadata": {},
   "outputs": [
    {
     "name": "stdout",
     "output_type": "stream",
     "text": [
      "Bins\n",
      "0.0    1422278\n",
      "1.0     294299\n",
      "2.0      72758\n",
      "3.0      18364\n",
      "4.0       6538\n",
      "Name: log_binned, dtype: int64\n",
      "Bin edges: [0.         0.2270032  0.51066626 1.08064124 2.13831268 7.00324111]\n"
     ]
    }
   ],
   "source": [
    "# Now nighttime lights is bucketed into 5 categories\n",
    "print('Bins')\n",
    "print(viirs_gdf['log_binned'].value_counts())\n",
    "print('Bin edges: {}'.format(discretizer.bin_edges_[0]))"
   ]
  },
  {
   "cell_type": "markdown",
   "metadata": {},
   "source": [
    "## 1b. Create Random Sample and Map NTL to DTL \n",
    "***\n",
    "For now, sample for 1000 observations for each NTL bin."
   ]
  },
  {
   "cell_type": "code",
   "execution_count": 107,
   "metadata": {},
   "outputs": [
    {
     "name": "stdout",
     "output_type": "stream",
     "text": [
      "4.0    1000\n",
      "3.0    1000\n",
      "2.0    1000\n",
      "1.0    1000\n",
      "0.0    1000\n",
      "Name: log_binned, dtype: int64\n"
     ]
    },
    {
     "data": {
      "text/html": [
       "<div>\n",
       "<style scoped>\n",
       "    .dataframe tbody tr th:only-of-type {\n",
       "        vertical-align: middle;\n",
       "    }\n",
       "\n",
       "    .dataframe tbody tr th {\n",
       "        vertical-align: top;\n",
       "    }\n",
       "\n",
       "    .dataframe thead th {\n",
       "        text-align: right;\n",
       "    }\n",
       "</style>\n",
       "<table border=\"1\" class=\"dataframe\">\n",
       "  <thead>\n",
       "    <tr style=\"text-align: right;\">\n",
       "      <th></th>\n",
       "      <th>tile_id</th>\n",
       "      <th>median_rad_2014</th>\n",
       "      <th>log_median_rad_2014</th>\n",
       "      <th>log_binned</th>\n",
       "      <th>geometry</th>\n",
       "    </tr>\n",
       "  </thead>\n",
       "  <tbody>\n",
       "    <tr>\n",
       "      <th>1750703</th>\n",
       "      <td>2.0</td>\n",
       "      <td>0.132470</td>\n",
       "      <td>0.124401</td>\n",
       "      <td>0.0</td>\n",
       "      <td>POLYGON ((67.83179 24.88109, 67.83852 24.88109...</td>\n",
       "    </tr>\n",
       "    <tr>\n",
       "      <th>882104</th>\n",
       "      <td>21.0</td>\n",
       "      <td>0.123471</td>\n",
       "      <td>0.116423</td>\n",
       "      <td>0.0</td>\n",
       "      <td>POLYGON ((67.33322 29.61072, 67.33996 29.61072...</td>\n",
       "    </tr>\n",
       "    <tr>\n",
       "      <th>1066753</th>\n",
       "      <td>18.0</td>\n",
       "      <td>0.102568</td>\n",
       "      <td>0.097642</td>\n",
       "      <td>0.0</td>\n",
       "      <td>POLYGON ((62.46211 28.85613, 62.46884 28.85613...</td>\n",
       "    </tr>\n",
       "    <tr>\n",
       "      <th>1061808</th>\n",
       "      <td>18.0</td>\n",
       "      <td>0.108502</td>\n",
       "      <td>0.103010</td>\n",
       "      <td>0.0</td>\n",
       "      <td>POLYGON ((62.06460 28.87634, 62.07134 28.87634...</td>\n",
       "    </tr>\n",
       "    <tr>\n",
       "      <th>1330579</th>\n",
       "      <td>12.0</td>\n",
       "      <td>0.083352</td>\n",
       "      <td>0.080060</td>\n",
       "      <td>0.0</td>\n",
       "      <td>POLYGON ((64.98188 27.55582, 64.98862 27.55582...</td>\n",
       "    </tr>\n",
       "    <tr>\n",
       "      <th>754976</th>\n",
       "      <td>28.0</td>\n",
       "      <td>0.227023</td>\n",
       "      <td>0.204591</td>\n",
       "      <td>0.0</td>\n",
       "      <td>POLYGON ((71.42280 30.37204, 71.42954 30.37204...</td>\n",
       "    </tr>\n",
       "    <tr>\n",
       "      <th>1040558</th>\n",
       "      <td>18.0</td>\n",
       "      <td>0.097452</td>\n",
       "      <td>0.092991</td>\n",
       "      <td>0.0</td>\n",
       "      <td>POLYGON ((63.45250 28.96393, 63.45924 28.96393...</td>\n",
       "    </tr>\n",
       "    <tr>\n",
       "      <th>1580469</th>\n",
       "      <td>9.0</td>\n",
       "      <td>0.129366</td>\n",
       "      <td>0.121656</td>\n",
       "      <td>0.0</td>\n",
       "      <td>POLYGON ((68.04065 25.97928, 68.04738 25.97928...</td>\n",
       "    </tr>\n",
       "    <tr>\n",
       "      <th>52003</th>\n",
       "      <td>40.0</td>\n",
       "      <td>0.203007</td>\n",
       "      <td>0.184824</td>\n",
       "      <td>0.0</td>\n",
       "      <td>POLYGON ((72.18412 36.28745, 72.19086 36.28745...</td>\n",
       "    </tr>\n",
       "    <tr>\n",
       "      <th>884722</th>\n",
       "      <td>21.0</td>\n",
       "      <td>0.166855</td>\n",
       "      <td>0.154312</td>\n",
       "      <td>0.0</td>\n",
       "      <td>POLYGON ((67.48818 29.59724, 67.49492 29.59724...</td>\n",
       "    </tr>\n",
       "  </tbody>\n",
       "</table>\n",
       "</div>"
      ],
      "text/plain": [
       "         tile_id  median_rad_2014  log_median_rad_2014  log_binned  \\\n",
       "1750703      2.0         0.132470             0.124401         0.0   \n",
       "882104      21.0         0.123471             0.116423         0.0   \n",
       "1066753     18.0         0.102568             0.097642         0.0   \n",
       "1061808     18.0         0.108502             0.103010         0.0   \n",
       "1330579     12.0         0.083352             0.080060         0.0   \n",
       "754976      28.0         0.227023             0.204591         0.0   \n",
       "1040558     18.0         0.097452             0.092991         0.0   \n",
       "1580469      9.0         0.129366             0.121656         0.0   \n",
       "52003       40.0         0.203007             0.184824         0.0   \n",
       "884722      21.0         0.166855             0.154312         0.0   \n",
       "\n",
       "                                                  geometry  \n",
       "1750703  POLYGON ((67.83179 24.88109, 67.83852 24.88109...  \n",
       "882104   POLYGON ((67.33322 29.61072, 67.33996 29.61072...  \n",
       "1066753  POLYGON ((62.46211 28.85613, 62.46884 28.85613...  \n",
       "1061808  POLYGON ((62.06460 28.87634, 62.07134 28.87634...  \n",
       "1330579  POLYGON ((64.98188 27.55582, 64.98862 27.55582...  \n",
       "754976   POLYGON ((71.42280 30.37204, 71.42954 30.37204...  \n",
       "1040558  POLYGON ((63.45250 28.96393, 63.45924 28.96393...  \n",
       "1580469  POLYGON ((68.04065 25.97928, 68.04738 25.97928...  \n",
       "52003    POLYGON ((72.18412 36.28745, 72.19086 36.28745...  \n",
       "884722   POLYGON ((67.48818 29.59724, 67.49492 29.59724...  "
      ]
     },
     "execution_count": 107,
     "metadata": {},
     "output_type": "execute_result"
    }
   ],
   "source": [
    "def sample_by_NTL(df, NTL_col, n):\n",
    "    '''\n",
    "    Create a dataframe that contains n samples from each NTL bin.\n",
    "    '''\n",
    "    rv = pd.DataFrame()\n",
    "    for x in df[NTL_col].unique():\n",
    "        bin_df = df[df[NTL_col] == x]\n",
    "        sample_df = bin_df.sample(n=n)\n",
    "        rv = rv.append(sample_df)\n",
    "    return rv\n",
    "        \n",
    "df_2014 = viirs_gdf[['tile_id', 'median_rad_2014', 'log_median_rad_2014', 'log_binned', 'geometry']]\n",
    "NTL_df = sample_by_NTL(df_2014, 'log_binned', 1000)\n",
    "print(df['log_binned'].value_counts())\n",
    "NTL_df.head(10)"
   ]
  },
  {
   "cell_type": "markdown",
   "metadata": {},
   "source": [
    "## 1c. Get DLT corresponding sampled NTL - incomplete"
   ]
  },
  {
   "cell_type": "code",
   "execution_count": 202,
   "metadata": {},
   "outputs": [
    {
     "data": {
      "text/plain": [
       "[(67.83178710425328, 24.881087582336185),\n",
       " (67.83852446888409, 24.881087582336185),\n",
       " (67.83852446888409, 24.874350217705082),\n",
       " (67.83178710425328, 24.874350217705082),\n",
       " (67.83178710425328, 24.881087582336185)]"
      ]
     },
     "execution_count": 202,
     "metadata": {},
     "output_type": "execute_result"
    }
   ],
   "source": [
    "#Scratchwork\n",
    "sample_poly = None\n",
    "for row in NTL_df[0:1].iterrows():\n",
    "    sample_poly = row[1]['geometry']\n",
    "coords = list(sample_poly.exterior.coords)\n",
    "coords"
   ]
  },
  {
   "cell_type": "code",
   "execution_count": 203,
   "metadata": {},
   "outputs": [
    {
     "name": "stderr",
     "output_type": "stream",
     "text": [
      "/Users/nguyenluong/opt/anaconda3/envs/geo/lib/python3.8/site-packages/pyproj/crs/crs.py:53: FutureWarning: '+init=<authority>:<code>' syntax is deprecated. '<authority>:<code>' is the preferred initialization method. When making the change, be mindful of axis order changes: https://pyproj4.github.io/pyproj/stable/gotchas.html#axis-order-changes-in-proj-6\n",
      "  return _prepare_from_string(\" \".join(pjargs))\n"
     ]
    }
   ],
   "source": [
    "gdf = NLT_df.copy()\n",
    "gdf = gdf.to_crs(crs=sample_DLT.crs.data)"
   ]
  },
  {
   "cell_type": "code",
   "execution_count": 204,
   "metadata": {},
   "outputs": [],
   "source": [
    "import json\n",
    "\n",
    "def get_features(gdf):\n",
    "    '''\n",
    "    Function to parse features from GeoDataFrame in such a manner that rasterio wants them\n",
    "    '''\n",
    "    import json\n",
    "    return [json.loads(gdf.to_json())['features'][0]['geometry']]\n",
    "\n",
    "coords2 = getFeatures(gdf)"
   ]
  },
  {
   "cell_type": "code",
   "execution_count": 190,
   "metadata": {},
   "outputs": [
    {
     "data": {
      "text/plain": [
       "<matplotlib.image.AxesImage at 0x7fced92d07c0>"
      ]
     },
     "execution_count": 190,
     "metadata": {},
     "output_type": "execute_result"
    },
    {
     "data": {
      "image/png": "[encoded data removed]",
      "text/plain": [
       "<Figure size 432x288 with 1 Axes>"
      ]
     },
     "metadata": {
      "needs_background": "light"
     },
     "output_type": "display_data"
    }
   ],
   "source": [
    "sample_DLT = rasterio.open('Landsat/New_2014/l8_2014_tile2_b1.tif')\n",
    "band = data.read(1)\n",
    "plt.imshow(band)"
   ]
  },
  {
   "cell_type": "code",
   "execution_count": 201,
   "metadata": {},
   "outputs": [
    {
     "ename": "ValueError",
     "evalue": "Input shapes do not overlap raster.",
     "output_type": "error",
     "traceback": [
      "\u001b[0;31m---------------------------------------------------------------------------\u001b[0m",
      "\u001b[0;31mWindowError\u001b[0m                               Traceback (most recent call last)",
      "\u001b[0;32m~/opt/anaconda3/envs/geo/lib/python3.8/site-packages/rasterio/mask.py\u001b[0m in \u001b[0;36mraster_geometry_mask\u001b[0;34m(dataset, shapes, all_touched, invert, crop, pad, pad_width)\u001b[0m\n\u001b[1;32m     82\u001b[0m     \u001b[0;32mtry\u001b[0m\u001b[0;34m:\u001b[0m\u001b[0;34m\u001b[0m\u001b[0;34m\u001b[0m\u001b[0m\n\u001b[0;32m---> 83\u001b[0;31m         window = geometry_window(dataset, shapes, north_up=north_up, rotated=rotated,\n\u001b[0m\u001b[1;32m     84\u001b[0m                                  pad_x=pad_x, pad_y=pad_y)\n",
      "\u001b[0;32m~/opt/anaconda3/envs/geo/lib/python3.8/site-packages/rasterio/features.py\u001b[0m in \u001b[0;36mgeometry_window\u001b[0;34m(dataset, shapes, pad_x, pad_y, north_up, rotated, pixel_precision)\u001b[0m\n\u001b[1;32m    468\u001b[0m     \u001b[0;31m# This will raise a WindowError if windows do not overlap\u001b[0m\u001b[0;34m\u001b[0m\u001b[0;34m\u001b[0m\u001b[0;34m\u001b[0m\u001b[0m\n\u001b[0;32m--> 469\u001b[0;31m     \u001b[0mwindow\u001b[0m \u001b[0;34m=\u001b[0m \u001b[0mwindow\u001b[0m\u001b[0;34m.\u001b[0m\u001b[0mintersection\u001b[0m\u001b[0;34m(\u001b[0m\u001b[0mraster_window\u001b[0m\u001b[0;34m)\u001b[0m\u001b[0;34m\u001b[0m\u001b[0;34m\u001b[0m\u001b[0m\n\u001b[0m\u001b[1;32m    470\u001b[0m \u001b[0;34m\u001b[0m\u001b[0m\n",
      "\u001b[0;32m~/opt/anaconda3/envs/geo/lib/python3.8/site-packages/rasterio/windows.py\u001b[0m in \u001b[0;36mintersection\u001b[0;34m(self, other)\u001b[0m\n\u001b[1;32m    723\u001b[0m         \"\"\"\n\u001b[0;32m--> 724\u001b[0;31m         \u001b[0;32mreturn\u001b[0m \u001b[0mintersection\u001b[0m\u001b[0;34m(\u001b[0m\u001b[0;34m[\u001b[0m\u001b[0mself\u001b[0m\u001b[0;34m,\u001b[0m \u001b[0mother\u001b[0m\u001b[0;34m]\u001b[0m\u001b[0;34m)\u001b[0m\u001b[0;34m\u001b[0m\u001b[0;34m\u001b[0m\u001b[0m\n\u001b[0m",
      "\u001b[0;32m~/opt/anaconda3/envs/geo/lib/python3.8/site-packages/rasterio/windows.py\u001b[0m in \u001b[0;36mwrapper\u001b[0;34m(*args, **kwargs)\u001b[0m\n\u001b[1;32m    118\u001b[0m         \u001b[0;32mif\u001b[0m \u001b[0mlen\u001b[0m\u001b[0;34m(\u001b[0m\u001b[0margs\u001b[0m\u001b[0;34m)\u001b[0m \u001b[0;34m==\u001b[0m \u001b[0;36m1\u001b[0m \u001b[0;32mand\u001b[0m \u001b[0misinstance\u001b[0m\u001b[0;34m(\u001b[0m\u001b[0margs\u001b[0m\u001b[0;34m[\u001b[0m\u001b[0;36m0\u001b[0m\u001b[0;34m]\u001b[0m\u001b[0;34m,\u001b[0m \u001b[0mIterable\u001b[0m\u001b[0;34m)\u001b[0m\u001b[0;34m:\u001b[0m\u001b[0;34m\u001b[0m\u001b[0;34m\u001b[0m\u001b[0m\n\u001b[0;32m--> 119\u001b[0;31m             \u001b[0;32mreturn\u001b[0m \u001b[0mfunction\u001b[0m\u001b[0;34m(\u001b[0m\u001b[0;34m*\u001b[0m\u001b[0margs\u001b[0m\u001b[0;34m[\u001b[0m\u001b[0;36m0\u001b[0m\u001b[0;34m]\u001b[0m\u001b[0;34m)\u001b[0m\u001b[0;34m\u001b[0m\u001b[0;34m\u001b[0m\u001b[0m\n\u001b[0m\u001b[1;32m    120\u001b[0m         \u001b[0;32melse\u001b[0m\u001b[0;34m:\u001b[0m\u001b[0;34m\u001b[0m\u001b[0;34m\u001b[0m\u001b[0m\n",
      "\u001b[0;32m~/opt/anaconda3/envs/geo/lib/python3.8/site-packages/rasterio/windows.py\u001b[0m in \u001b[0;36mintersection\u001b[0;34m(*windows)\u001b[0m\n\u001b[1;32m    216\u001b[0m     \u001b[0;32mif\u001b[0m \u001b[0;32mnot\u001b[0m \u001b[0mintersect\u001b[0m\u001b[0;34m(\u001b[0m\u001b[0mwindows\u001b[0m\u001b[0;34m)\u001b[0m\u001b[0;34m:\u001b[0m\u001b[0;34m\u001b[0m\u001b[0;34m\u001b[0m\u001b[0m\n\u001b[0;32m--> 217\u001b[0;31m         \u001b[0;32mraise\u001b[0m \u001b[0mWindowError\u001b[0m\u001b[0;34m(\u001b[0m\u001b[0;34m\"windows do not intersect\"\u001b[0m\u001b[0;34m)\u001b[0m\u001b[0;34m\u001b[0m\u001b[0;34m\u001b[0m\u001b[0m\n\u001b[0m\u001b[1;32m    218\u001b[0m \u001b[0;34m\u001b[0m\u001b[0m\n",
      "\u001b[0;31mWindowError\u001b[0m: windows do not intersect",
      "\nDuring handling of the above exception, another exception occurred:\n",
      "\u001b[0;31mValueError\u001b[0m                                Traceback (most recent call last)",
      "\u001b[0;32m<ipython-input-201-bcf33c84a54f>\u001b[0m in \u001b[0;36m<module>\u001b[0;34m\u001b[0m\n\u001b[1;32m      1\u001b[0m \u001b[0;32mfrom\u001b[0m \u001b[0mrasterio\u001b[0m\u001b[0;34m.\u001b[0m\u001b[0mmask\u001b[0m \u001b[0;32mimport\u001b[0m \u001b[0mmask\u001b[0m\u001b[0;34m\u001b[0m\u001b[0;34m\u001b[0m\u001b[0m\n\u001b[0;32m----> 2\u001b[0;31m \u001b[0mout_img\u001b[0m\u001b[0;34m,\u001b[0m \u001b[0mout_transform\u001b[0m \u001b[0;34m=\u001b[0m \u001b[0mmask\u001b[0m\u001b[0;34m(\u001b[0m\u001b[0msample_DLT\u001b[0m\u001b[0;34m,\u001b[0m \u001b[0mshapes\u001b[0m\u001b[0;34m=\u001b[0m\u001b[0mcopy_coords\u001b[0m\u001b[0;34m,\u001b[0m \u001b[0mcrop\u001b[0m\u001b[0;34m=\u001b[0m\u001b[0;32mTrue\u001b[0m\u001b[0;34m)\u001b[0m\u001b[0;34m\u001b[0m\u001b[0;34m\u001b[0m\u001b[0m\n\u001b[0m",
      "\u001b[0;32m~/opt/anaconda3/envs/geo/lib/python3.8/site-packages/rasterio/mask.py\u001b[0m in \u001b[0;36mmask\u001b[0;34m(dataset, shapes, all_touched, invert, nodata, filled, crop, pad, pad_width, indexes)\u001b[0m\n\u001b[1;32m    180\u001b[0m             \u001b[0mnodata\u001b[0m \u001b[0;34m=\u001b[0m \u001b[0;36m0\u001b[0m\u001b[0;34m\u001b[0m\u001b[0;34m\u001b[0m\u001b[0m\n\u001b[1;32m    181\u001b[0m \u001b[0;34m\u001b[0m\u001b[0m\n\u001b[0;32m--> 182\u001b[0;31m     shape_mask, transform, window = raster_geometry_mask(\n\u001b[0m\u001b[1;32m    183\u001b[0m         \u001b[0mdataset\u001b[0m\u001b[0;34m,\u001b[0m \u001b[0mshapes\u001b[0m\u001b[0;34m,\u001b[0m \u001b[0mall_touched\u001b[0m\u001b[0;34m=\u001b[0m\u001b[0mall_touched\u001b[0m\u001b[0;34m,\u001b[0m \u001b[0minvert\u001b[0m\u001b[0;34m=\u001b[0m\u001b[0minvert\u001b[0m\u001b[0;34m,\u001b[0m \u001b[0mcrop\u001b[0m\u001b[0;34m=\u001b[0m\u001b[0mcrop\u001b[0m\u001b[0;34m,\u001b[0m\u001b[0;34m\u001b[0m\u001b[0;34m\u001b[0m\u001b[0m\n\u001b[1;32m    184\u001b[0m         pad=pad, pad_width=pad_width)\n",
      "\u001b[0;32m~/opt/anaconda3/envs/geo/lib/python3.8/site-packages/rasterio/mask.py\u001b[0m in \u001b[0;36mraster_geometry_mask\u001b[0;34m(dataset, shapes, all_touched, invert, crop, pad, pad_width)\u001b[0m\n\u001b[1;32m     88\u001b[0m         \u001b[0;31m# depending on value of crop\u001b[0m\u001b[0;34m\u001b[0m\u001b[0;34m\u001b[0m\u001b[0;34m\u001b[0m\u001b[0m\n\u001b[1;32m     89\u001b[0m         \u001b[0;32mif\u001b[0m \u001b[0mcrop\u001b[0m\u001b[0;34m:\u001b[0m\u001b[0;34m\u001b[0m\u001b[0;34m\u001b[0m\u001b[0m\n\u001b[0;32m---> 90\u001b[0;31m             \u001b[0;32mraise\u001b[0m \u001b[0mValueError\u001b[0m\u001b[0;34m(\u001b[0m\u001b[0;34m'Input shapes do not overlap raster.'\u001b[0m\u001b[0;34m)\u001b[0m\u001b[0;34m\u001b[0m\u001b[0;34m\u001b[0m\u001b[0m\n\u001b[0m\u001b[1;32m     91\u001b[0m         \u001b[0;32melse\u001b[0m\u001b[0;34m:\u001b[0m\u001b[0;34m\u001b[0m\u001b[0;34m\u001b[0m\u001b[0m\n\u001b[1;32m     92\u001b[0m             warnings.warn('shapes are outside bounds of raster. '\n",
      "\u001b[0;31mValueError\u001b[0m: Input shapes do not overlap raster."
     ]
    }
   ],
   "source": [
    "from rasterio.mask import mask\n",
    "out_img, out_transform = mask(sample_DLT, shapes=copy_coords, crop=True)"
   ]
  },
  {
   "cell_type": "code",
   "execution_count": 155,
   "metadata": {},
   "outputs": [],
   "source": [
    "def read_geotiff(filepath):\n",
    "    data = rasterio.open(filepath)\n",
    "    return data.read(1)\n",
    "\n",
    "def crop_DTL(band):\n",
    "    return [json.loads(gdf.to_json())['features'][0]['geometry']]\n",
    "\n",
    "def get_DLT(row, directory):\n",
    "    all_bands = []\n",
    "    bands = [*range(1,8)]\n",
    "    for b in bands:\n",
    "        tile = row[1]['tile_id']\n",
    "        filename = ''.join(['l8_2014_tile', str(int(tile)), '_b', str(b), '.tif'])\n",
    "        filepath = os.path.join(directory, filename)\n",
    "        band = read_geotiff(filepath)\n",
    "        cropped_DTL = crop_DTL(band)\n",
    "        all_bands.append(cropped_DTL)\n",
    "    return all_bands\n",
    "    \n",
    "def get_DTL(NTL_df, source='Landsat', year='New_2014'):\n",
    "    '''\n",
    "    Gets DTL images, crops them according to correponding NLT polygon, maps them to NLT.\n",
    "    '''\n",
    "    directory = os.path.join(source, year)\n",
    "    for row in NTL_df.iterrows():\n",
    "        DLT = get_DLT(row, directory)"
   ]
  },
  {
   "cell_type": "code",
   "execution_count": 156,
   "metadata": {},
   "outputs": [
    {
     "name": "stdout",
     "output_type": "stream",
     "text": [
      "(2.0, 'l8_2014_tile2_b1.tif')\n",
      "(2.0, 'l8_2014_tile2_b2.tif')\n",
      "(2.0, 'l8_2014_tile2_b3.tif')\n",
      "(2.0, 'l8_2014_tile2_b4.tif')\n",
      "(2.0, 'l8_2014_tile2_b5.tif')\n",
      "(2.0, 'l8_2014_tile2_b6.tif')\n",
      "(2.0, 'l8_2014_tile2_b7.tif')\n",
      "7\n",
      "(21.0, 'l8_2014_tile21_b1.tif')\n",
      "(21.0, 'l8_2014_tile21_b2.tif')\n",
      "(21.0, 'l8_2014_tile21_b3.tif')\n",
      "(21.0, 'l8_2014_tile21_b4.tif')\n",
      "(21.0, 'l8_2014_tile21_b5.tif')\n",
      "(21.0, 'l8_2014_tile21_b6.tif')\n",
      "(21.0, 'l8_2014_tile21_b7.tif')\n",
      "7\n"
     ]
    }
   ],
   "source": [
    "get_DTL(NTL_df[0:2])"
   ]
  },
  {
   "cell_type": "markdown",
   "metadata": {},
   "source": [
    "# Feature Creation\n",
    "Reshape the data into an array of 3D tensors and normalize each element.\n",
    "***  \n",
    "*What satellite data ultimately needs to look like*\n",
    "- data_train, data_test: (np.array) array containing 3D arrays each representing one Landsat image\n",
    "- target_train, target_test: (np.array with elements in range(0,5)) 1D array of nighttime light intensities split into 5 buckets"
   ]
  },
  {
   "cell_type": "code",
   "execution_count": 68,
   "metadata": {},
   "outputs": [],
   "source": [
    "#Sample data\n",
    "from keras.datasets import mnist\n",
    "(trainX, trainY), (testX, testY) = mnist.load_data()"
   ]
  },
  {
   "cell_type": "code",
   "execution_count": 69,
   "metadata": {},
   "outputs": [
    {
     "name": "stdout",
     "output_type": "stream",
     "text": [
      "training data shape: (60000, 28, 28)\n",
      "training target shape: (60000,)\n",
      "testing data shape: (10000, 28, 28)\n",
      "testing target shape: (10000,)\n"
     ]
    }
   ],
   "source": [
    "#Look at array shapes\n",
    "print('training data shape: {}'.format(trainX.shape))\n",
    "print('training target shape: {}'.format(trainY.shape))\n",
    "print('testing data shape: {}'.format(testX.shape))\n",
    "print('testing target shape: {}'.format(testY.shape))"
   ]
  },
  {
   "cell_type": "code",
   "execution_count": 8,
   "metadata": {},
   "outputs": [
    {
     "name": "stdout",
     "output_type": "stream",
     "text": [
      "target value: 5\n"
     ]
    },
    {
     "data": {
      "image/png": "[encoded data removed]",
      "text/plain": [
       "<Figure size 432x288 with 1 Axes>"
      ]
     },
     "metadata": {
      "needs_background": "light"
     },
     "output_type": "display_data"
    }
   ],
   "source": [
    "#Sample image and target\n",
    "plt.imshow(trainX[0], origin='upper', interpolation='nearest');\n",
    "print('target value: {}'.format(trainY[0]))"
   ]
  },
  {
   "cell_type": "code",
   "execution_count": 9,
   "metadata": {},
   "outputs": [],
   "source": [
    "def prep_dataset(X, Y, height, width, channels):\n",
    "    # Reshape dataset to have include a single channel\n",
    "    X = X.reshape((X.shape[0], height, width, channels))\n",
    "    # One-hot encode targets\n",
    "    Y = to_categorical(Y)\n",
    "    return X, Y\n",
    "\n",
    "def normalize(X):\n",
    "    # Convert from ints to floats and normalize to 0-1\n",
    "    return X.astype('float32') / 255.0"
   ]
  },
  {
   "cell_type": "markdown",
   "metadata": {},
   "source": [
    "# Build the CNN"
   ]
  },
  {
   "cell_type": "code",
   "execution_count": 10,
   "metadata": {},
   "outputs": [],
   "source": [
    "def define_model(height, width, channels, num_classes):\n",
    "    # Define layers\n",
    "    model = Sequential()\n",
    "    model.add(Conv2D(filters=64, \n",
    "                     kernel_size=(5, 5), \n",
    "                     activation='relu', \n",
    "                     input_shape=(height, width, channels)))\n",
    "    model.add(MaxPooling2D(pool_size=(2, 2)))\n",
    "    model.add(Flatten())\n",
    "    model.add(Dense(100, activation='relu'))\n",
    "    model.add(Dense(num_classes, activation='softmax'))\n",
    "    \n",
    "    # Compile model\n",
    "    model.compile(optimizer='rmsprop', loss='categorical_crossentropy', metrics=['accuracy'])\n",
    "    print('Model has been defined. Model summary below.')\n",
    "    model.summary()\n",
    "    \n",
    "    return model"
   ]
  },
  {
   "cell_type": "markdown",
   "metadata": {},
   "source": [
    "# Evaluate the CNN"
   ]
  },
  {
   "cell_type": "code",
   "execution_count": 11,
   "metadata": {},
   "outputs": [],
   "source": [
    "def evaluate_model(model, trainX, trainY, testX, testY):\n",
    "    # Fit model\n",
    "    history = model.fit(trainX, trainY, \n",
    "                        epochs=2, batch_size=1000, \n",
    "                        validation_data=(testX, testY), verbose=0)\n",
    "    print('Model has been fit.')\n",
    "    \n",
    "    # Evaluate model\n",
    "    loss, accuracy = model.evaluate(testX, testY, verbose=0)\n",
    "    print('Model has been evaluted.')\n",
    "    print('Accuracy: {:.4f}'.format(accuracy))\n",
    "\n",
    "\n",
    "def evaluate_with_crossval(model, dataX, dataY, k=2):\n",
    "    # Define k-fold cross-val\n",
    "    kfold = KFold(k, shuffle=True, random_state=1)\n",
    "    print('Entering cross validation.')\n",
    "    \n",
    "    # Loop through folds\n",
    "    for train_idx, test_idx in kfold.split(dataX):\n",
    "        # Select subsets for training and testing\n",
    "        trainX, trainY, testX, testY = dataX[train_idx], dataY[train_idx], dataX[test_idx], dataY[test_idx]\n",
    "        print('Subsets have been selected.')\n",
    "        # Pass to evaluate_model\n",
    "        evaluate_model(model, trainX, trainY, testX, testY)"
   ]
  },
  {
   "cell_type": "code",
   "execution_count": 12,
   "metadata": {},
   "outputs": [],
   "source": [
    "def go():\n",
    "    # Load dataset\n",
    "    (raw_trainX, raw_trainY), (raw_testX, raw_testY) = mnist.load_data()\n",
    "    \n",
    "    # Define image characteristics\n",
    "    height = raw_trainX[0].shape[0]\n",
    "    width = raw_trainX[0].shape[1]\n",
    "    channels = 1\n",
    "    num_classes = 10 #digits 0-9\n",
    "    \n",
    "    # Prep both training and testing data\n",
    "    trainX, trainY = prep_dataset(raw_trainX, raw_trainY, height, width, channels)\n",
    "    testX, testY = prep_dataset(raw_testX, raw_testY, height, width, channels)\n",
    "    \n",
    "    # Prep pixel data\n",
    "    trainX, testX = normalize(trainX), normalize(testX)\n",
    "\n",
    "    # Define and evaluate model\n",
    "    model = define_model(height, width, channels, num_classes)\n",
    "    evaluate_model(model, trainX, trainY, testX, testY)\n",
    "    #evaluate_with_crossval(model, trainX, trainY)"
   ]
  },
  {
   "cell_type": "code",
   "execution_count": 13,
   "metadata": {},
   "outputs": [
    {
     "name": "stdout",
     "output_type": "stream",
     "text": [
      "Model has been defined. Model summary below.\n",
      "Model: \"sequential\"\n",
      "_________________________________________________________________\n",
      "Layer (type)                 Output Shape              Param #   \n",
      "=================================================================\n",
      "conv2d (Conv2D)              (None, 24, 24, 64)        1664      \n",
      "_________________________________________________________________\n",
      "max_pooling2d (MaxPooling2D) (None, 12, 12, 64)        0         \n",
      "_________________________________________________________________\n",
      "flatten (Flatten)            (None, 9216)              0         \n",
      "_________________________________________________________________\n",
      "dense (Dense)                (None, 100)               921700    \n",
      "_________________________________________________________________\n",
      "dense_1 (Dense)              (None, 10)                1010      \n",
      "=================================================================\n",
      "Total params: 924,374\n",
      "Trainable params: 924,374\n",
      "Non-trainable params: 0\n",
      "_________________________________________________________________\n",
      "Model has been fit.\n",
      "Model has been evaluted.\n",
      "Accuracy: 0.9714\n"
     ]
    }
   ],
   "source": [
    "go()"
   ]
  }
 ],
 "metadata": {
  "kernelspec": {
   "display_name": "Python 3",
   "language": "python",
   "name": "python3"
  },
  "language_info": {
   "codemirror_mode": {
    "name": "ipython",
    "version": 3
   },
   "file_extension": ".py",
   "mimetype": "text/x-python",
   "name": "python",
   "nbconvert_exporter": "python",
   "pygments_lexer": "ipython3",
   "version": "3.8.3"
  }
 },
 "nbformat": 4,
 "nbformat_minor": 4
}
