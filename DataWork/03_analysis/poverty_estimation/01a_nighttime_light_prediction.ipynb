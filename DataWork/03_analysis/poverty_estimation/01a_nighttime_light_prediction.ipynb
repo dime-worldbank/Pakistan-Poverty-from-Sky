{
 "cells": [
  {
   "cell_type": "markdown",
   "metadata": {},
   "source": [
    "# Predict Nighttime Light Intensities from Daytime Light \n",
    "\n",
    "First pass.  \n",
    "Current Goal: Use CNN to extract features from daytime lights (Landsat) data and predict levels of nighhtime light intensities (VIIRS).\n",
    "***\n",
    "General Steps:\n",
    "1. Import the data\n",
    "2. Feature creation\n",
    "3. Build the Neural Net\n",
    "4. Evaluate the Neural Net"
   ]
  },
  {
   "cell_type": "code",
   "execution_count": 1,
   "metadata": {},
   "outputs": [],
   "source": [
    "import os\n",
    "import pandas as pd\n",
    "import geopandas as gpd\n",
    "import rasterio\n",
    "\n",
    "import getpass\n",
    "\n",
    "import matplotlib.pyplot as plt\n",
    "%matplotlib inline\n",
    "import seaborn as sns\n",
    "\n",
    "import numpy as np\n",
    "from numpy import mean\n",
    "from numpy import std\n",
    "from sklearn.model_selection import KFold\n",
    "from keras.utils import to_categorical\n",
    "from keras.models import Sequential\n",
    "from keras.layers import Conv2D\n",
    "from keras.layers import MaxPooling2D\n",
    "from keras.layers import Dense\n",
    "from keras.layers import Flatten"
   ]
  },
  {
   "cell_type": "code",
   "execution_count": 4,
   "metadata": {},
   "outputs": [],
   "source": [
    "# Rob's code\n",
    "if getpass.getuser() == 'robmarty':\n",
    "    project_file_path = '/Users/robmarty/Dropbox/World Bank/IEs/Pakistan Poverty Estimation from Satellites'\n",
    "    \n",
    "filepath_night = project_file_path + \"/Data/VIIRS/RawData/VIIRS Annual/pak_viirs_median_2012.tif\"\n",
    "data_night = rasterio.open(filepath_night)\n",
    "array_night = data_night.read()\n",
    "np.nanmean(array_night)\n",
    "\n",
    "array_night_flat = array_night.flatten()\n",
    "array_night_flat_nona = array_night_flat[ ~np.isnan(array_night_flat) ]\n",
    "plt.hist(array_night_flat_nona)"
   ]
  },
  {
   "cell_type": "markdown",
   "metadata": {},
   "source": [
    "# 1. Import and Prep Data"
   ]
  },
  {
   "cell_type": "markdown",
   "metadata": {},
   "source": [
    "## 1a. Setup, Load, and Prep Daytime Lights Data"
   ]
  },
  {
   "cell_type": "code",
   "execution_count": 2,
   "metadata": {},
   "outputs": [],
   "source": [
    "# Set directory\n",
    "os.chdir(\"/Users/nguyenluong/wb_internship/Data/satellite_raw\")\n",
    "\n",
    "def read_geotiff(filepath):\n",
    "    data = rasterio.open(filepath)\n",
    "    return data.read()\n",
    "\n",
    "def get_daytime_data(geotiff_source, year, stacked_status):\n",
    "    all_data = []\n",
    "    directory = os.path.join(geotiff_source, year, stacked_status)\n",
    "    for filename in os.listdir(directory):\n",
    "        if filename.endswith(\".tif\"):\n",
    "            filepath = os.path.join(directory, filename)\n",
    "            geotiff_array = read_geotiff(filepath)\n",
    "            all_data.append(geotiff_array)\n",
    "    return all_data"
   ]
  },
  {
   "cell_type": "code",
   "execution_count": null,
   "metadata": {},
   "outputs": [],
   "source": [
    "# Define years for daytime data\n",
    "Landsat_years = ['2013']\n",
    "\n",
    "# Load in all daytime data\n",
    "all_daytime_data = []\n",
    "for year in Landsat_years:\n",
    "    all_daytime_data.append((year, get_daytime_data('Landsat', year, 'stacked')))"
   ]
  },
  {
   "cell_type": "markdown",
   "metadata": {},
   "source": [
    "## 1b. Load and Prep Nighttime Lights Data "
   ]
  },
  {
   "cell_type": "code",
   "execution_count": 3,
   "metadata": {},
   "outputs": [],
   "source": [
    "# Load nighttime VIIRS data (geojson)\n",
    "viirs_poly_gdf = gpd.read_file('VIIRS/VIIRS Annual/viirs_annual_polygon.geojson')"
   ]
  },
  {
   "cell_type": "markdown",
   "metadata": {},
   "source": [
    "Transform nighttime lights to lessen heavily skewed distribution. For now, **limit to only 2013 data**.   \n",
    "***\n",
    "Options tried here:\n",
    "- natural log\n",
    "- square root\n",
    "- box-cox\n",
    "- yeo-johnson\n",
    "\n",
    "doc: https://scikit-learn.org/stable/modules/generated/sklearn.preprocessing.power_transform.html#r742a88cfa144-1"
   ]
  },
  {
   "cell_type": "code",
   "execution_count": 4,
   "metadata": {},
   "outputs": [],
   "source": [
    "from sklearn.preprocessing import power_transform\n",
    "\n",
    "# Do log(x + 1) to have fully defined domain since data has x = 0\n",
    "log_rad = np.log(viirs_poly_gdf['median_rad_2013'] + 1).to_numpy()\n",
    "\n",
    "sqrt_rad = np.sqrt(viirs_poly_gdf['median_rad_2013']).to_numpy()\n",
    "\n",
    "# do box-cox with (x + 1) because needs strictly positive values \n",
    "bc_rad = power_transform((viirs_poly_gdf['median_rad_2013'] + 1)\\\n",
    "                             .to_numpy().reshape(-1, 1), method='box-cox')\n",
    "\n",
    "yj_rad = power_transform((viirs_poly_gdf['median_rad_2013'])\\\n",
    "                             .to_numpy().reshape(-1, 1), method='yeo-johnson')"
   ]
  },
  {
   "cell_type": "markdown",
   "metadata": {},
   "source": [
    "Explore the distributions of variable transformations to decide which to go forward with."
   ]
  },
  {
   "cell_type": "code",
   "execution_count": 6,
   "metadata": {},
   "outputs": [
    {
     "name": "stdout",
     "output_type": "stream",
     "text": [
      "Summary of log\n",
      "DescribeResult(nobs=1814237, minmax=(0.0, 7.483210362133503), mean=0.21201183626794542, variance=0.0631144546408545, skewness=6.5342432701103235, kurtosis=63.18404380925924)\n",
      "\n",
      "Summary of square-root\n",
      "DescribeResult(nobs=1814237, minmax=(0.0, 42.15375965587174), mean=0.4690969454140062, variance=0.10915777482006311, skewness=13.786617024046127, kurtosis=719.8342478686386)\n",
      "\n",
      "Summary of box-cox\n",
      "DescribeResult(nobs=1814237, minmax=(-3.486867345101547, 2.2625341729099766), mean=-2.325074632929899e-15, variance=1.0000005511962058, skewness=0.6840783490207888, kurtosis=-0.4117379445822089)\n",
      "\n",
      "Summary of yeo-johnson\n",
      "DescribeResult(nobs=1814237, minmax=(-3.486867345101547, 2.2625341729099766), mean=-2.325074632929899e-15, variance=1.0000005511962058, skewness=0.6840783490207888, kurtosis=-0.4117379445822089)\n",
      "\n"
     ]
    },
    {
     "data": {
      "image/png": "[encoded data removed]",
      "text/plain": [
       "<Figure size 1440x360 with 4 Axes>"
      ]
     },
     "metadata": {
      "needs_background": "light"
     },
     "output_type": "display_data"
    }
   ],
   "source": [
    "from scipy import stats\n",
    "\n",
    "def explore_distrib(vars_dict):\n",
    "    fig, ax = plt.subplots(figsize=(20,5), ncols=len(vars_dict.values()))\n",
    "    i = 0\n",
    "    for var_name, array in vars_dict.items():\n",
    "        if len(array.shape) > 1:\n",
    "            array = array.flatten()\n",
    "        print('Summary of ' + var_name)\n",
    "        print(stats.describe(array))\n",
    "        print()\n",
    "        ax[i].hist(array);\n",
    "        ax[i].set_title('Distribution of ' + var_name);\n",
    "        i += 1\n",
    "    plt.tight_layout()\n",
    "    plt.show()\n",
    "\n",
    "vars_dict = {'log': log_rad, 'square-root': sqrt_rad, \n",
    "             'box-cox': bc_rad, 'yeo-johnson': yj_rad}\n",
    "explore_distrib(vars_dict)"
   ]
  },
  {
   "cell_type": "markdown",
   "metadata": {},
   "source": [
    "I feel like it makes sense to feel values positive for interpretation of radiance. Log has lowered skewness and smaller range of values. So, I will discretize log median radiance for 2013 with k-means clustering."
   ]
  },
  {
   "cell_type": "code",
   "execution_count": 7,
   "metadata": {},
   "outputs": [
    {
     "data": {
      "image/png": "[encoded data removed]",
      "text/plain": [
       "<Figure size 432x288 with 1 Axes>"
      ]
     },
     "metadata": {
      "needs_background": "light"
     },
     "output_type": "display_data"
    }
   ],
   "source": [
    "from sklearn.preprocessing import KBinsDiscretizer\n",
    "# Reshape array to be a column rather than a row\n",
    "log_rad = log_rad.reshape(-1,1)\n",
    "discretizer = KBinsDiscretizer(n_bins=5, encode='ordinal', strategy='kmeans')\n",
    "log_binned = discretizer.fit_transform(log_rad)\n",
    "plt.hist(log_binned);"
   ]
  },
  {
   "cell_type": "code",
   "execution_count": 22,
   "metadata": {},
   "outputs": [
    {
     "name": "stdout",
     "output_type": "stream",
     "text": [
      "Bin: [0. 1. 2. 3. 4.]\n",
      "Bin edges: [0.         0.23858741 0.53132507 1.10071912 2.15036929 7.48321036]\n"
     ]
    }
   ],
   "source": [
    "# Now nighttime lights is bucketed into 5 categories\n",
    "print('Bin: {}'.format(np.unique(log_binned)))\n",
    "print('Bin edges: {}'.format(discretizer.bin_edges_[0]))"
   ]
  },
  {
   "cell_type": "markdown",
   "metadata": {},
   "source": [
    "# Feature Creation\n",
    "Reshape the data into an array of 3D tensors and normalize each element.\n",
    "***  \n",
    "*What satellite data ultimately needs to look like*\n",
    "- data_train, data_test: (np.array) array containing 3D arrays each representing one Landsat image\n",
    "- target_train, target_test: (np.array with elements in range(0,5)) 1D array of nighttime light intensities split into 5 buckets"
   ]
  },
  {
   "cell_type": "code",
   "execution_count": 6,
   "metadata": {},
   "outputs": [],
   "source": [
    "#Sample data\n",
    "from keras.datasets import mnist\n",
    "(trainX, trainY), (testX, testY) = mnist.load_data()"
   ]
  },
  {
   "cell_type": "code",
   "execution_count": 7,
   "metadata": {},
   "outputs": [
    {
     "name": "stdout",
     "output_type": "stream",
     "text": [
      "training data shape: (60000, 28, 28)\n",
      "training target shape: (60000,)\n",
      "testing data shape: (10000, 28, 28)\n",
      "testing target shape: (10000,)\n"
     ]
    }
   ],
   "source": [
    "#Look at array shapes\n",
    "print('training data shape: {}'.format(trainX.shape))\n",
    "print('training target shape: {}'.format(trainY.shape))\n",
    "print('testing data shape: {}'.format(testX.shape))\n",
    "print('testing target shape: {}'.format(testY.shape))"
   ]
  },
  {
   "cell_type": "code",
   "execution_count": 8,
   "metadata": {},
   "outputs": [
    {
     "name": "stdout",
     "output_type": "stream",
     "text": [
      "target value: 5\n"
     ]
    },
    {
     "data": {
      "image/png": "[encoded data removed]",
      "text/plain": [
       "<Figure size 432x288 with 1 Axes>"
      ]
     },
     "metadata": {
      "needs_background": "light"
     },
     "output_type": "display_data"
    }
   ],
   "source": [
    "#Sample image and target\n",
    "plt.imshow(trainX[0], origin='upper', interpolation='nearest');\n",
    "print('target value: {}'.format(trainY[0]))"
   ]
  },
  {
   "cell_type": "code",
   "execution_count": 9,
   "metadata": {},
   "outputs": [],
   "source": [
    "def prep_dataset(X, Y, height, width, channels):\n",
    "    # Reshape dataset to have include a single channel\n",
    "    X = X.reshape((X.shape[0], height, width, channels))\n",
    "    # One-hot encode targets\n",
    "    Y = to_categorical(Y)\n",
    "    return X, Y\n",
    "\n",
    "def normalize(X):\n",
    "    # Convert from ints to floats and normalize to 0-1\n",
    "    return X.astype('float32') / 255.0"
   ]
  },
  {
   "cell_type": "markdown",
   "metadata": {},
   "source": [
    "# Build the CNN"
   ]
  },
  {
   "cell_type": "code",
   "execution_count": 10,
   "metadata": {},
   "outputs": [],
   "source": [
    "def define_model(height, width, channels, num_classes):\n",
    "    # Define layers\n",
    "    model = Sequential()\n",
    "    model.add(Conv2D(filters=64, \n",
    "                     kernel_size=(5, 5), \n",
    "                     activation='relu', \n",
    "                     input_shape=(height, width, channels)))\n",
    "    model.add(MaxPooling2D(pool_size=(2, 2)))\n",
    "    model.add(Flatten())\n",
    "    model.add(Dense(100, activation='relu'))\n",
    "    model.add(Dense(num_classes, activation='softmax'))\n",
    "    \n",
    "    # Compile model\n",
    "    model.compile(optimizer='rmsprop', loss='categorical_crossentropy', metrics=['accuracy'])\n",
    "    print('Model has been defined. Model summary below.')\n",
    "    model.summary()\n",
    "    \n",
    "    return model"
   ]
  },
  {
   "cell_type": "markdown",
   "metadata": {},
   "source": [
    "# Evaluate the CNN"
   ]
  },
  {
   "cell_type": "code",
   "execution_count": 11,
   "metadata": {},
   "outputs": [],
   "source": [
    "def evaluate_model(model, trainX, trainY, testX, testY):\n",
    "    # Fit model\n",
    "    history = model.fit(trainX, trainY, \n",
    "                        epochs=2, batch_size=1000, \n",
    "                        validation_data=(testX, testY), verbose=0)\n",
    "    print('Model has been fit.')\n",
    "    \n",
    "    # Evaluate model\n",
    "    loss, accuracy = model.evaluate(testX, testY, verbose=0)\n",
    "    print('Model has been evaluted.')\n",
    "    print('Accuracy: {:.4f}'.format(accuracy))\n",
    "\n",
    "\n",
    "def evaluate_with_crossval(model, dataX, dataY, k=2):\n",
    "    # Define k-fold cross-val\n",
    "    kfold = KFold(k, shuffle=True, random_state=1)\n",
    "    print('Entering cross validation.')\n",
    "    \n",
    "    # Loop through folds\n",
    "    for train_idx, test_idx in kfold.split(dataX):\n",
    "        # Select subsets for training and testing\n",
    "        trainX, trainY, testX, testY = dataX[train_idx], dataY[train_idx], dataX[test_idx], dataY[test_idx]\n",
    "        print('Subsets have been selected.')\n",
    "        # Pass to evaluate_model\n",
    "        evaluate_model(model, trainX, trainY, testX, testY)"
   ]
  },
  {
   "cell_type": "code",
   "execution_count": 12,
   "metadata": {},
   "outputs": [],
   "source": [
    "def go():\n",
    "    # Load dataset\n",
    "    (raw_trainX, raw_trainY), (raw_testX, raw_testY) = mnist.load_data()\n",
    "    \n",
    "    # Define image characteristics\n",
    "    height = raw_trainX[0].shape[0]\n",
    "    width = raw_trainX[0].shape[1]\n",
    "    channels = 1\n",
    "    num_classes = 10 #digits 0-9\n",
    "    \n",
    "    # Prep both training and testing data\n",
    "    trainX, trainY = prep_dataset(raw_trainX, raw_trainY, height, width, channels)\n",
    "    testX, testY = prep_dataset(raw_testX, raw_testY, height, width, channels)\n",
    "    \n",
    "    # Prep pixel data\n",
    "    trainX, testX = normalize(trainX), normalize(testX)\n",
    "\n",
    "    # Define and evaluate model\n",
    "    model = define_model(height, width, channels, num_classes)\n",
    "    evaluate_model(model, trainX, trainY, testX, testY)\n",
    "    #evaluate_with_crossval(model, trainX, trainY)"
   ]
  },
  {
   "cell_type": "code",
   "execution_count": 13,
   "metadata": {},
   "outputs": [
    {
     "name": "stdout",
     "output_type": "stream",
     "text": [
      "Model has been defined. Model summary below.\n",
      "Model: \"sequential\"\n",
      "_________________________________________________________________\n",
      "Layer (type)                 Output Shape              Param #   \n",
      "=================================================================\n",
      "conv2d (Conv2D)              (None, 24, 24, 64)        1664      \n",
      "_________________________________________________________________\n",
      "max_pooling2d (MaxPooling2D) (None, 12, 12, 64)        0         \n",
      "_________________________________________________________________\n",
      "flatten (Flatten)            (None, 9216)              0         \n",
      "_________________________________________________________________\n",
      "dense (Dense)                (None, 100)               921700    \n",
      "_________________________________________________________________\n",
      "dense_1 (Dense)              (None, 10)                1010      \n",
      "=================================================================\n",
      "Total params: 924,374\n",
      "Trainable params: 924,374\n",
      "Non-trainable params: 0\n",
      "_________________________________________________________________\n",
      "Model has been fit.\n",
      "Model has been evaluted.\n",
      "Accuracy: 0.9714\n"
     ]
    }
   ],
   "source": [
    "go()"
   ]
  }
 ],
 "metadata": {
  "kernelspec": {
   "display_name": "Python 3",
   "language": "python",
   "name": "python3"
  },
  "language_info": {
   "codemirror_mode": {
    "name": "ipython",
    "version": 3
   },
   "file_extension": ".py",
   "mimetype": "text/x-python",
   "name": "python",
   "nbconvert_exporter": "python",
   "pygments_lexer": "ipython3",
   "version": "3.8.3"
  }
 },
 "nbformat": 4,
 "nbformat_minor": 4
}
