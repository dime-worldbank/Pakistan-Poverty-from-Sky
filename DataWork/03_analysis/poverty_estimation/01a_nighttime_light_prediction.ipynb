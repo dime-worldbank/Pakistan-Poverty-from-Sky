{
 "cells": [
  {
   "cell_type": "markdown",
   "metadata": {},
   "source": [
    "# Predict Nighttime Light Intensities from Daytime Light \n",
    "\n",
    "Current Goal: Use CNN to extract features from daytime lights (Landsat) data and predict levels of nighhtime light intensities (VIIRS).\n",
    "***\n",
    "General Steps:\n",
    "1. Import the data\n",
    "2. Feature Creation\n",
    "3. Build the Neural Net\n",
    "4. Fit and Evaluate the Neural Net\n",
    "5. Extract Features"
   ]
  },
  {
   "cell_type": "code",
   "execution_count": 203,
   "metadata": {},
   "outputs": [],
   "source": [
    "import os\n",
    "import pandas as pd\n",
    "import geopandas as gpd\n",
    "import rasterio\n",
    "\n",
    "import getpass\n",
    "\n",
    "import matplotlib.pyplot as plt\n",
    "%matplotlib inline\n",
    "import seaborn as sns\n",
    "\n",
    "import numpy as np\n",
    "from sklearn.model_selection import train_test_split\n",
    "from sklearn.model_selection import KFold\n",
    "from keras.utils import to_categorical\n",
    "from keras.models import Sequential, Model\n",
    "from keras.layers import Conv2D\n",
    "from keras.layers import MaxPooling2D\n",
    "from keras.layers import Dense\n",
    "from keras.layers import Flatten\n",
    "\n",
    "# Turn off big pink warnings\n",
    "import warnings\n",
    "warnings.filterwarnings('ignore')\n",
    "\n",
    "# Display options \n",
    "pd.options.display.max_columns = 8000\n",
    "pd.options.display.max_colwidth = -1\n",
    "\n",
    "# Set directory\n",
    "os.chdir(\"/Users/nguyenluong/wb_internship/Data/satellite_raw\")"
   ]
  },
  {
   "cell_type": "code",
   "execution_count": 4,
   "metadata": {},
   "outputs": [],
   "source": [
    "# Rob's code\n",
    "if getpass.getuser() == 'robmarty':\n",
    "    project_file_path = '/Users/robmarty/Dropbox/World Bank/IEs/Pakistan Poverty Estimation from Satellites'\n",
    "    \n",
    "filepath_night = project_file_path + \"/Data/VIIRS/RawData/VIIRS Annual/pak_viirs_median_2012.tif\"\n",
    "data_night = rasterio.open(filepath_night)\n",
    "array_night = data_night.read()\n",
    "np.nanmean(array_night)\n",
    "\n",
    "array_night_flat = array_night.flatten()\n",
    "array_night_flat_nona = array_night_flat[ ~np.isnan(array_night_flat) ]\n",
    "plt.hist(array_night_flat_nona)"
   ]
  },
  {
   "cell_type": "markdown",
   "metadata": {},
   "source": [
    "# 1. Import and Prep Data"
   ]
  },
  {
   "cell_type": "markdown",
   "metadata": {},
   "source": [
    "## 1a. Load and Prep Nighttime Lights Data "
   ]
  },
  {
   "cell_type": "markdown",
   "metadata": {},
   "source": [
    "### Load VIIRS Geojson"
   ]
  },
  {
   "cell_type": "code",
   "execution_count": 2,
   "metadata": {},
   "outputs": [
    {
     "data": {
      "text/html": [
       "<div>\n",
       "<style scoped>\n",
       "    .dataframe tbody tr th:only-of-type {\n",
       "        vertical-align: middle;\n",
       "    }\n",
       "\n",
       "    .dataframe tbody tr th {\n",
       "        vertical-align: top;\n",
       "    }\n",
       "\n",
       "    .dataframe thead th {\n",
       "        text-align: right;\n",
       "    }\n",
       "</style>\n",
       "<table border=\"1\" class=\"dataframe\">\n",
       "  <thead>\n",
       "    <tr style=\"text-align: right;\">\n",
       "      <th></th>\n",
       "      <th>median_rad_2012</th>\n",
       "      <th>median_rad_2013</th>\n",
       "      <th>median_rad_2014</th>\n",
       "      <th>median_rad_2015</th>\n",
       "      <th>median_rad_2016</th>\n",
       "      <th>median_rad_2017</th>\n",
       "      <th>median_rad_2018</th>\n",
       "      <th>id</th>\n",
       "      <th>tile_id</th>\n",
       "      <th>geometry</th>\n",
       "    </tr>\n",
       "  </thead>\n",
       "  <tbody>\n",
       "    <tr>\n",
       "      <th>0</th>\n",
       "      <td>0.121902</td>\n",
       "      <td>0.217595</td>\n",
       "      <td>0.179258</td>\n",
       "      <td>0.213304</td>\n",
       "      <td>0.148595</td>\n",
       "      <td>0.352908</td>\n",
       "      <td>0.34</td>\n",
       "      <td>1</td>\n",
       "      <td>42.0</td>\n",
       "      <td>POLYGON ((74.66347 37.06224, 74.67021 37.06224...</td>\n",
       "    </tr>\n",
       "    <tr>\n",
       "      <th>1</th>\n",
       "      <td>0.204110</td>\n",
       "      <td>0.223363</td>\n",
       "      <td>0.207353</td>\n",
       "      <td>0.283295</td>\n",
       "      <td>0.156230</td>\n",
       "      <td>0.375000</td>\n",
       "      <td>0.36</td>\n",
       "      <td>2</td>\n",
       "      <td>42.0</td>\n",
       "      <td>POLYGON ((74.67021 37.06224, 74.67695 37.06224...</td>\n",
       "    </tr>\n",
       "  </tbody>\n",
       "</table>\n",
       "</div>"
      ],
      "text/plain": [
       "   median_rad_2012  median_rad_2013  median_rad_2014  median_rad_2015  \\\n",
       "0         0.121902         0.217595         0.179258         0.213304   \n",
       "1         0.204110         0.223363         0.207353         0.283295   \n",
       "\n",
       "   median_rad_2016  median_rad_2017  median_rad_2018  id  tile_id  \\\n",
       "0         0.148595         0.352908             0.34   1     42.0   \n",
       "1         0.156230         0.375000             0.36   2     42.0   \n",
       "\n",
       "                                            geometry  \n",
       "0  POLYGON ((74.66347 37.06224, 74.67021 37.06224...  \n",
       "1  POLYGON ((74.67021 37.06224, 74.67695 37.06224...  "
      ]
     },
     "execution_count": 2,
     "metadata": {},
     "output_type": "execute_result"
    }
   ],
   "source": [
    "# Load nighttime VIIRS data (geojson)\n",
    "viirs_gdf = gpd.read_file('VIIRS/viirs_annual_polygon.geojson')\n",
    "viirs_gdf.head(2)"
   ]
  },
  {
   "cell_type": "code",
   "execution_count": 235,
   "metadata": {},
   "outputs": [
    {
     "data": {
      "image/png": "[encoded data removed]",
      "text/plain": [
       "<Figure size 432x288 with 1 Axes>"
      ]
     },
     "metadata": {
      "needs_background": "light"
     },
     "output_type": "display_data"
    }
   ],
   "source": [
    "# Distribution of observations by tile_id\n",
    "tile_counts = viirs_gdf.tile_id.value_counts(dropna=False)\n",
    "plt.bar(x=tile_counts.index, height=tile_counts);"
   ]
  },
  {
   "cell_type": "code",
   "execution_count": 3,
   "metadata": {},
   "outputs": [
    {
     "name": "stdout",
     "output_type": "stream",
     "text": [
      "Total number of obs: 1814237\n",
      "Number of obs with NaN for tile_id: 1350\n"
     ]
    }
   ],
   "source": [
    "# Inspecting VIIRS geojson\n",
    "print('Total number of obs: {}'.format(len(viirs_gdf)))\n",
    "\n",
    "nan_tile = viirs_gdf[np.isnan(viirs_gdf['tile_id'])]\n",
    "print('Number of obs with NaN for tile_id: {}'.format(len(nan_tile)))"
   ]
  },
  {
   "cell_type": "markdown",
   "metadata": {},
   "source": [
    "### Transform nighttime lights"
   ]
  },
  {
   "cell_type": "markdown",
   "metadata": {},
   "source": [
    "Transform to lessen heavily skewed distribution. For now, **limit to only 2014 data**.   \n",
    "***\n",
    "Options tried here:\n",
    "- natural log\n",
    "- square root\n",
    "- box-cox"
   ]
  },
  {
   "cell_type": "code",
   "execution_count": 4,
   "metadata": {},
   "outputs": [],
   "source": [
    "from sklearn.preprocessing import power_transform\n",
    "\n",
    "# Do log(x + 1) to have fully defined domain since data has x = 0\n",
    "viirs_gdf['log_median_rad_2014'] = np.log(viirs_gdf['median_rad_2014'] + 1)\n",
    "log_rad = np.log(viirs_gdf['median_rad_2014'] + 1).to_numpy()\n",
    "\n",
    "sqrt_rad = np.sqrt(viirs_gdf['median_rad_2014']).to_numpy()\n",
    "\n",
    "# Do box-cox with (x + 1) because needs strictly positive values \n",
    "bc_rad = power_transform((viirs_gdf['median_rad_2014'] + 1).to_numpy().reshape(-1, 1), method='box-cox')"
   ]
  },
  {
   "cell_type": "markdown",
   "metadata": {},
   "source": [
    "Explore the distributions of variable transformations to decide which to go forward with."
   ]
  },
  {
   "cell_type": "code",
   "execution_count": 5,
   "metadata": {},
   "outputs": [
    {
     "name": "stdout",
     "output_type": "stream",
     "text": [
      "Summary of log\n",
      "DescribeResult(nobs=1814237, minmax=(0.0, 7.003241113635235), mean=0.20576721970884848, variance=0.062333206493509284, skewness=6.602233458742071, kurtosis=63.58599491384153)\n",
      "\n",
      "Summary of square-root\n",
      "DescribeResult(nobs=1814237, minmax=(0.0, 33.154083267445166), mean=0.45985096480354326, variance=0.10546258282824325, skewness=10.262868875497135, kurtosis=252.55956265564947)\n",
      "\n",
      "Summary of box-cox\n",
      "DescribeResult(nobs=1814237, minmax=(-3.0815043715438386, 2.3062005044008833), mean=8.316728796961411e-16, variance=1.0000005511962058, skewness=0.5906939197104081, kurtosis=-0.34560818439899155)\n",
      "\n"
     ]
    },
    {
     "data": {
      "image/png": "[encoded data removed]",
      "text/plain": [
       "<Figure size 1440x360 with 3 Axes>"
      ]
     },
     "metadata": {
      "needs_background": "light"
     },
     "output_type": "display_data"
    }
   ],
   "source": [
    "from scipy import stats\n",
    "\n",
    "def explore_distrib(vars_dict):\n",
    "    '''\n",
    "    Generates descriptive statististics and plots distribution of variables.\n",
    "    \n",
    "    Inputs:\n",
    "        vars_dict (dict) keys are variable names, values are np.ndarrays representing variables\n",
    "    Returns:\n",
    "        None\n",
    "    '''\n",
    "    fig, ax = plt.subplots(figsize=(20,5), ncols=len(vars_dict.values()))\n",
    "    i = 0\n",
    "    for var_name, array in vars_dict.items():\n",
    "        if len(array.shape) > 1:\n",
    "            array = array.flatten()\n",
    "        print('Summary of ' + var_name)\n",
    "        print(stats.describe(array))\n",
    "        print()\n",
    "        ax[i].hist(array);\n",
    "        ax[i].set_title('Distribution of ' + var_name);\n",
    "        i += 1\n",
    "    plt.tight_layout()\n",
    "    plt.show()\n",
    "\n",
    "vars_dict = {'log': log_rad, 'square-root': sqrt_rad, 'box-cox': bc_rad}\n",
    "explore_distrib(vars_dict)"
   ]
  },
  {
   "cell_type": "markdown",
   "metadata": {},
   "source": [
    "### Choose Transformation and Bin NLT"
   ]
  },
  {
   "cell_type": "markdown",
   "metadata": {},
   "source": [
    "I feel like it makes sense to feel values positive for interpretation of radiance. Log has lowered skewness and smaller range of values. So, I will discretize log median radiance for 2014 with k-means clustering."
   ]
  },
  {
   "cell_type": "code",
   "execution_count": 6,
   "metadata": {},
   "outputs": [
    {
     "data": {
      "image/png": "[encoded data removed]",
      "text/plain": [
       "<Figure size 432x288 with 1 Axes>"
      ]
     },
     "metadata": {
      "needs_background": "light"
     },
     "output_type": "display_data"
    }
   ],
   "source": [
    "from sklearn.preprocessing import KBinsDiscretizer\n",
    "# Reshape array to be a column rather than a row\n",
    "log_rad = viirs_gdf['log_median_rad_2014'].to_numpy().reshape(-1,1)\n",
    "discretizer = KBinsDiscretizer(n_bins=5, encode='ordinal', strategy='kmeans')\n",
    "viirs_gdf['log_binned'] = discretizer.fit_transform(log_rad)\n",
    "plt.hist(viirs_gdf['log_binned']);"
   ]
  },
  {
   "cell_type": "code",
   "execution_count": 7,
   "metadata": {},
   "outputs": [
    {
     "name": "stdout",
     "output_type": "stream",
     "text": [
      "Bins\n",
      "0.0    1422278\n",
      "1.0     294299\n",
      "2.0      72758\n",
      "3.0      18364\n",
      "4.0       6538\n",
      "Name: log_binned, dtype: int64\n",
      "Bin edges: [0.         0.2270032  0.51066626 1.08064124 2.13831268 7.00324111]\n"
     ]
    }
   ],
   "source": [
    "# Nighttime lights is bucketed into 5 categories\n",
    "print('Bins')\n",
    "print(viirs_gdf['log_binned'].value_counts())\n",
    "print('Bin edges: {}'.format(discretizer.bin_edges_[0]))"
   ]
  },
  {
   "cell_type": "markdown",
   "metadata": {},
   "source": [
    "## 1b. Create Random Sample\n",
    "***\n",
    "For now, sample for 15 observations for each NTL bin."
   ]
  },
  {
   "cell_type": "code",
   "execution_count": 8,
   "metadata": {},
   "outputs": [
    {
     "name": "stdout",
     "output_type": "stream",
     "text": [
      "4.0    15\n",
      "3.0    15\n",
      "2.0    15\n",
      "1.0    15\n",
      "0.0    15\n",
      "Name: log_binned, dtype: int64\n"
     ]
    },
    {
     "data": {
      "text/html": [
       "<div>\n",
       "<style scoped>\n",
       "    .dataframe tbody tr th:only-of-type {\n",
       "        vertical-align: middle;\n",
       "    }\n",
       "\n",
       "    .dataframe tbody tr th {\n",
       "        vertical-align: top;\n",
       "    }\n",
       "\n",
       "    .dataframe thead th {\n",
       "        text-align: right;\n",
       "    }\n",
       "</style>\n",
       "<table border=\"1\" class=\"dataframe\">\n",
       "  <thead>\n",
       "    <tr style=\"text-align: right;\">\n",
       "      <th></th>\n",
       "      <th>tile_id</th>\n",
       "      <th>median_rad_2014</th>\n",
       "      <th>log_median_rad_2014</th>\n",
       "      <th>log_binned</th>\n",
       "      <th>geometry</th>\n",
       "    </tr>\n",
       "  </thead>\n",
       "  <tbody>\n",
       "    <tr>\n",
       "      <th>1673685</th>\n",
       "      <td>7.0</td>\n",
       "      <td>0.091575</td>\n",
       "      <td>0.087621</td>\n",
       "      <td>0.0</td>\n",
       "      <td>POLYGON ((64.69891 25.48745, 64.70565 25.48745...</td>\n",
       "    </tr>\n",
       "    <tr>\n",
       "      <th>859908</th>\n",
       "      <td>21.0</td>\n",
       "      <td>0.122107</td>\n",
       "      <td>0.115208</td>\n",
       "      <td>0.0</td>\n",
       "      <td>POLYGON ((67.71725 29.73199, 67.72399 29.73199...</td>\n",
       "    </tr>\n",
       "    <tr>\n",
       "      <th>618665</th>\n",
       "      <td>25.0</td>\n",
       "      <td>0.127695</td>\n",
       "      <td>0.120176</td>\n",
       "      <td>0.0</td>\n",
       "      <td>POLYGON ((66.80771 31.15357, 66.81445 31.15357...</td>\n",
       "    </tr>\n",
       "    <tr>\n",
       "      <th>1002658</th>\n",
       "      <td>22.0</td>\n",
       "      <td>0.196145</td>\n",
       "      <td>0.179104</td>\n",
       "      <td>0.0</td>\n",
       "      <td>POLYGON ((70.47957 29.11889, 70.48631 29.11889...</td>\n",
       "    </tr>\n",
       "    <tr>\n",
       "      <th>1467539</th>\n",
       "      <td>8.0</td>\n",
       "      <td>0.079857</td>\n",
       "      <td>0.076829</td>\n",
       "      <td>0.0</td>\n",
       "      <td>POLYGON ((66.90203 26.61259, 66.90877 26.61259...</td>\n",
       "    </tr>\n",
       "  </tbody>\n",
       "</table>\n",
       "</div>"
      ],
      "text/plain": [
       "         tile_id  median_rad_2014  log_median_rad_2014  log_binned  \\\n",
       "1673685      7.0         0.091575             0.087621         0.0   \n",
       "859908      21.0         0.122107             0.115208         0.0   \n",
       "618665      25.0         0.127695             0.120176         0.0   \n",
       "1002658     22.0         0.196145             0.179104         0.0   \n",
       "1467539      8.0         0.079857             0.076829         0.0   \n",
       "\n",
       "                                                  geometry  \n",
       "1673685  POLYGON ((64.69891 25.48745, 64.70565 25.48745...  \n",
       "859908   POLYGON ((67.71725 29.73199, 67.72399 29.73199...  \n",
       "618665   POLYGON ((66.80771 31.15357, 66.81445 31.15357...  \n",
       "1002658  POLYGON ((70.47957 29.11889, 70.48631 29.11889...  \n",
       "1467539  POLYGON ((66.90203 26.61259, 66.90877 26.61259...  "
      ]
     },
     "execution_count": 8,
     "metadata": {},
     "output_type": "execute_result"
    }
   ],
   "source": [
    "def sample_by_NTL(df, NTL_col, n):\n",
    "    '''\n",
    "    Create a sample dataframe that contains n observations from each NTL bin.\n",
    "    \n",
    "    Inputs:\n",
    "        df (pandas.DataFrame) NTL dataframe\n",
    "        NTL_col (str) column name for target variable\n",
    "        n (int) number of observations per target bin\n",
    "    Returns:\n",
    "        rv (pandas.DataFrame)\n",
    "    '''\n",
    "    rv = pd.DataFrame()\n",
    "    for x in df[NTL_col].unique():\n",
    "        bin_df = df[df[NTL_col] == x]\n",
    "        sample_df = bin_df.sample(n=n, random_state=1)\n",
    "        rv = rv.append(sample_df)\n",
    "    return rv\n",
    "        \n",
    "df_2014 = viirs_gdf[['tile_id', 'median_rad_2014', 'log_median_rad_2014', 'log_binned', 'geometry']]\n",
    "NTL_df = sample_by_NTL(df_2014, 'log_binned', 15)\n",
    "print(NTL_df['log_binned'].value_counts())\n",
    "NTL_df.head()"
   ]
  },
  {
   "cell_type": "code",
   "execution_count": 9,
   "metadata": {},
   "outputs": [
    {
     "data": {
      "text/plain": [
       "75"
      ]
     },
     "execution_count": 9,
     "metadata": {},
     "output_type": "execute_result"
    }
   ],
   "source": [
    "# Remove observations with NaN as tile_id\n",
    "NTL_df = NTL_df[ ~ np.isnan(NTL_df['tile_id'])]\n",
    "len(NTL_df)"
   ]
  },
  {
   "cell_type": "markdown",
   "metadata": {},
   "source": [
    "## 1c. Get DLT corresponding sampled NTL"
   ]
  },
  {
   "cell_type": "code",
   "execution_count": 10,
   "metadata": {},
   "outputs": [],
   "source": [
    "from rasterio.mask import mask\n",
    "\n",
    "def format_coords(Polygon):\n",
    "    '''\n",
    "    Format coordinates of a Polygon to what rasterio likes for masking/cropping.\n",
    "    \n",
    "    Inputs:\n",
    "        Polygon (shapely.Polygon object)\n",
    "    Returns:\n",
    "        (list of dictionary)\n",
    "    '''\n",
    "    coords = list(Polygon.exterior.coords)\n",
    "    dictionary = {'type': 'Polygon'}\n",
    "    dictionary['coordinates'] = [[list(tup) for tup in coords]]\n",
    "    return [dictionary]\n",
    "\n",
    "\n",
    "def crop(raw_DTL, polygon):\n",
    "    '''\n",
    "    Crops DLT according to VIIRS polygon.\n",
    "    \n",
    "    Inputs:\n",
    "        raw_DTL (numpy.ndarray)\n",
    "        polygon (shapely.Polygon object)\n",
    "    Returns:\n",
    "        out_img (numpy.ndarray) croppped DTL array\n",
    "    '''\n",
    "    shapes = format_coords(polygon)\n",
    "    out_img, out_transform = mask(raw_DTL, shapes=shapes, crop=True)\n",
    "    return out_img\n",
    "\n",
    "    \n",
    "def get_DTL(row, directory):\n",
    "    '''\n",
    "    For a given VIIRS observation, grab and crop corresponding DLT data.\n",
    "    \n",
    "    Inputs:\n",
    "        row (pandas.Series)\n",
    "        directory (str) \n",
    "    Returns: \n",
    "        all_bands: (list) list of 7 arrays, each array is 3D\n",
    "    '''\n",
    "    all_bands = []\n",
    "    bands = [*range(1,8)]\n",
    "    for b in bands:\n",
    "        tile = row['tile_id']\n",
    "        polygon = row['geometry']\n",
    "        filename = ''.join(['l8_2014_tile', str(int(tile)), '_b', str(b), '.tif'])\n",
    "        filepath = os.path.join(directory, filename)\n",
    "        raw_DTL = rasterio.open(filepath)\n",
    "        cropped_DTL = crop(raw_DTL, polygon)\n",
    "        all_bands.append(cropped_DTL)\n",
    "    return all_bands\n",
    "\n",
    "\n",
    "def create_DLT_array(NTL_df, source='Landsat', year='New_2014'):\n",
    "    '''\n",
    "    Gets DTL images, crops them, create arrays representing DLT and NLT to become features and targets respectively.\n",
    "    \n",
    "    Inputs:\n",
    "        NTL_df (pandas.DataFrame)\n",
    "        source, year (str)\n",
    "    Returns: \n",
    "        DLT: (5D numpy.ndarray)\n",
    "    '''\n",
    "    rv = []\n",
    "    df = NTL_df.copy()\n",
    "    directory = os.path.join(source, year)\n",
    "    for index, row in df.iterrows():\n",
    "        DTL = get_DTL(row, directory)\n",
    "        rv.append(DTL)\n",
    "    return np.stack(rv)"
   ]
  },
  {
   "cell_type": "code",
   "execution_count": 11,
   "metadata": {},
   "outputs": [
    {
     "name": "stdout",
     "output_type": "stream",
     "text": [
      "DLT shape: (75, 7, 1, 25, 26)\n",
      "NLT shape: (75,)\n"
     ]
    }
   ],
   "source": [
    "# Creating DTL array and defining NTL array\n",
    "DTL = create_DLT_array(NTL_df)\n",
    "NTL = NTL_df['log_binned'].to_numpy()\n",
    "\n",
    "print('DLT shape: {}'.format(DTL.shape))\n",
    "print('NLT shape: {}'.format(NTL.shape))"
   ]
  },
  {
   "cell_type": "code",
   "execution_count": 12,
   "metadata": {},
   "outputs": [
    {
     "data": {
      "image/png": "[encoded data removed]",
      "text/plain": [
       "<Figure size 504x216 with 21 Axes>"
      ]
     },
     "metadata": {
      "needs_background": "light"
     },
     "output_type": "display_data"
    }
   ],
   "source": [
    "# Plotting bands for a few DTL images as a visual check\n",
    "to_plot = DTL[0:3]\n",
    "num_images = to_plot.shape[0]\n",
    "num_bands = to_plot.shape[1]\n",
    "\n",
    "f, ax = plt.subplots(figsize=(num_bands, num_images), nrows=num_images, ncols=num_bands)\n",
    "for i in range(0, num_images):\n",
    "    for j in range(0, num_bands):\n",
    "        ax[i, j].imshow(to_plot[i][j][0], origin='upper', interpolation='nearest')"
   ]
  },
  {
   "cell_type": "markdown",
   "metadata": {},
   "source": [
    "# 2. Reshaping and Normalizing Features and Targets\n",
    "Reshape the data into an array of 3D tensors and normalize each element."
   ]
  },
  {
   "cell_type": "code",
   "execution_count": 183,
   "metadata": {},
   "outputs": [],
   "source": [
    "def prep_dataset(X, Y, height, width, channels):\n",
    "    '''\n",
    "    Preps a given dataset for CNN by reshaping features and one-hot encoding targets.\n",
    "    \n",
    "    Input:\n",
    "        X (numpy.ndarray) 5D array of DTL features\n",
    "        Y (numpy.ndarray) 1D array fo NTL targets\n",
    "        height, width, channels (int)\n",
    "    Returns:\n",
    "        X (numpy.ndarray) 4D array of DTL features\n",
    "        Y (numpy.ndarray) 2D array of NTL targets\n",
    "    '''\n",
    "    # Reshape data to be 4D rather than 5D\n",
    "    X = X.reshape((X.shape[0], height, width, channels))\n",
    "    # One-hot encode targets\n",
    "    Y = to_categorical(Y)\n",
    "    return X, Y\n",
    "\n",
    "def normalize(X):\n",
    "    '''\n",
    "    Normalizes features.\n",
    "    \n",
    "    Inputs:\n",
    "        X (numpy.ndarray) 4D array of DTL features\n",
    "    Returns:\n",
    "        X (numpy.ndarray) 4D array of DTL features\n",
    "    '''\n",
    "    # Convert from ints to floats and normalize to 0-1\n",
    "    return X.astype('float32') / 255.0"
   ]
  },
  {
   "cell_type": "markdown",
   "metadata": {},
   "source": [
    "# 3. Build the CNN"
   ]
  },
  {
   "cell_type": "code",
   "execution_count": 193,
   "metadata": {},
   "outputs": [],
   "source": [
    "def define_model(height, width, channels, num_classes):\n",
    "    '''\n",
    "    Defines and compiles CNN model.\n",
    "    \n",
    "    Inputs:\n",
    "        height, width, channels, num_classes (int)\n",
    "    Returns:\n",
    "        model (keras.Model object)\n",
    "    '''\n",
    "    # Define layers\n",
    "    model = Sequential()\n",
    "    model.add(Conv2D(filters=64, \n",
    "                     kernel_size=(5, 5), \n",
    "                     activation='relu', \n",
    "                     input_shape=(height, width, channels),\n",
    "                     name='conv1'))\n",
    "    model.add(MaxPooling2D(pool_size=(2, 2)), name='maxpool1')\n",
    "    model.add(Flatten(), name='flatten1')\n",
    "    model.add(Dense(100, activation='relu', name='dense1'))\n",
    "    model.add(Dense(num_classes, activation='softmax', name='dense2'))\n",
    "    \n",
    "    # Compile model\n",
    "    model.compile(optimizer='rmsprop', loss='categorical_crossentropy', metrics=['accuracy'])\n",
    "    print('Model has been defined. Model summary below.')\n",
    "    model.summary()\n",
    "    \n",
    "    return model"
   ]
  },
  {
   "cell_type": "markdown",
   "metadata": {},
   "source": [
    "# 4. Fit and Evaluate the CNN"
   ]
  },
  {
   "cell_type": "code",
   "execution_count": 194,
   "metadata": {},
   "outputs": [],
   "source": [
    "import itertools\n",
    "\n",
    "def plot_confusion_matrix(cm, classes, normalize=False):\n",
    "    '''\n",
    "    Plots the confusion matrix, with option to normalize.\n",
    "    \n",
    "    Inputs:\n",
    "        cm (numpy.ndarray) confusion matrix from sklearn\n",
    "        classes (list) classes/labels for target (NTL)\n",
    "    Returns:\n",
    "        None\n",
    "    '''\n",
    "    title = 'Confusion Matrix'\n",
    "    if normalize:\n",
    "        cm = cm.astype('float') / cm.sum(axis=1)[:, np.newaxis]\n",
    "        title = \"Normalized Confusion Matrix\"\n",
    "\n",
    "    # Generate plot\n",
    "    plt.imshow(cm, interpolation='nearest', cmap='Greens')\n",
    "    plt.title(title)\n",
    "    plt.colorbar()\n",
    "    tick_marks = np.arange(len(classes))\n",
    "    plt.xticks(tick_marks, classes, rotation=90)\n",
    "    plt.yticks(tick_marks, classes)\n",
    "\n",
    "    # Format text\n",
    "    fmt = '.2f'\n",
    "    thresh = cm.max() / 2.\n",
    "    for i, j in itertools.product(range(cm.shape[0]), range(cm.shape[1])):\n",
    "        plt.text(j, i, format(cm[i, j], fmt), horizontalalignment=\"center\",\n",
    "                 color=\"white\" if cm[i, j] > thresh else \"black\")\n",
    "\n",
    "    plt.tight_layout()\n",
    "    plt.ylabel('True label')\n",
    "    plt.xlabel('Predicted label')\n",
    "\n",
    "\n",
    "def evaluate_model(model, trainX, trainY, testX, testY):\n",
    "    '''\n",
    "    Fits and evaluates model.\n",
    "    \n",
    "    Inputs:\n",
    "        model (CNN model) keras.Model object\n",
    "        trainX, trainY (numpy.ndarray) 4D array of DTL features and 2D array of targets for training\n",
    "        testX, testY (numpy.ndarray) 4D array of DTL features and 2D array of targets for training\n",
    "    Returns:\n",
    "        None\n",
    "    '''\n",
    "    # Fit model\n",
    "    history = model.fit(trainX, trainY, \n",
    "                        epochs=10, batch_size=5, \n",
    "                        validation_data=(testX, testY), verbose=True)\n",
    "    \n",
    "    # Evaluate model\n",
    "    loss, accuracy = model.evaluate(testX, testY, verbose=False)\n",
    "    print('Accuracy: {:.4f}'.format(accuracy))\n",
    "    \n",
    "    # Get predictions\n",
    "    predY = model.predict(testX)\n",
    "    predY = np.argmax(predY, axis = 1)\n",
    "    testY_bins = np.argmax(testY, axis = 1)\n",
    "    print('Predictions: {}'.format(predY))\n",
    "    print('True Targets: {}'.format(testY_bins))\n",
    "    print()\n",
    "    \n",
    "    # Generate classification report\n",
    "    from sklearn.metrics import classification_report\n",
    "    classes = ['Class 0', 'Class 1', 'Class 2', 'Class 3', 'Class 4'] \n",
    "    print(classification_report(testY_bins, predY, target_names=classes))\n",
    "    print()\n",
    "    \n",
    "    # Plot confusion matrix\n",
    "    from sklearn.metrics import confusion_matrix\n",
    "    fig = plt.figure()\n",
    "    fig.set_size_inches(7, 6, forward=True)\n",
    "    cm = confusion_matrix(testY_bins, predY)\n",
    "    plot_confusion_matrix(cm, classes=classes, normalize=True)\n",
    "    \n",
    "\n",
    "def evaluate_with_crossval(model, dataX, dataY, k=2):\n",
    "    '''\n",
    "    Performs evaulation with K-fold cross validation.\n",
    "    \n",
    "    Inputs:\n",
    "        model (keras.Model object)\n",
    "        dataX, dataY (numpy.ndarray) 4D array of DTL features and 2D array of targets for training\n",
    "        k (int)\n",
    "    Returns:\n",
    "        None\n",
    "    '''\n",
    "    # Define k-fold cross-val\n",
    "    kfold = KFold(k, shuffle=True, random_state=1)\n",
    "    print('Entering cross validation.')\n",
    "    \n",
    "    # Loop through folds\n",
    "    for train_idx, test_idx in kfold.split(dataX):\n",
    "        # Select subsets for training and testing\n",
    "        trainX, trainY, testX, testY = dataX[train_idx], dataY[train_idx], dataX[test_idx], dataY[test_idx]\n",
    "        print('Subsets have been selected.')\n",
    "        # Pass to evaluate_model\n",
    "        evaluate_model(model, trainX, trainY, testX, testY)"
   ]
  },
  {
   "cell_type": "markdown",
   "metadata": {},
   "source": [
    "# Run the CNN"
   ]
  },
  {
   "cell_type": "code",
   "execution_count": 208,
   "metadata": {},
   "outputs": [],
   "source": [
    "def go(DLT, NTL): \n",
    "    '''\n",
    "    Runs CNN.\n",
    "    \n",
    "    Inputs:\n",
    "        DTL, NTL (numpy.ndarray) 5D array of DTL features and 1D array of NTL targets\n",
    "    Returns:\n",
    "        None\n",
    "    '''\n",
    "    # Split into training and testing data\n",
    "    raw_trainX, raw_testX, raw_trainY, raw_testY = train_test_split(DTL, NTL, test_size=0.2, random_state=1)\n",
    "    \n",
    "    # Define image characteristics\n",
    "    height, width, channels = 25, 26, 7\n",
    "    num_classes = 5\n",
    "    \n",
    "    # Prep both training and testing data\n",
    "    trainX, trainY = prep_dataset(raw_trainX, raw_trainY, height, width, channels)\n",
    "    testX, testY = prep_dataset(raw_testX, raw_testY, height, width, channels)\n",
    "    \n",
    "    # Prep pixel data\n",
    "    trainX, testX = normalize(trainX), normalize(testX)\n",
    "\n",
    "    # Define and evaluate model\n",
    "    model = define_model(height, width, channels, num_classes)\n",
    "    evaluate_model(model, trainX, trainY, testX, testY)\n",
    "    #evaluate_with_crossval(model, trainX, trainY)\n",
    "    \n",
    "    # Extract features\n",
    "    feature_extractor = Model(inputs=model.inputs,\n",
    "                              outputs=model.get_layer(name='dense1').output,)\n",
    "    #Call feature extractor on test input\n",
    "    import tensorflow as tf\n",
    "    new_data = tf.ones((1, 25, 26, 7))\n",
    "    features = feature_extractor(new_data)"
   ]
  },
  {
   "cell_type": "code",
   "execution_count": 209,
   "metadata": {},
   "outputs": [
    {
     "name": "stdout",
     "output_type": "stream",
     "text": [
      "Model has been defined. Model summary below.\n",
      "Model: \"sequential_47\"\n",
      "_________________________________________________________________\n",
      "Layer (type)                 Output Shape              Param #   \n",
      "=================================================================\n",
      "conv2d_47 (Conv2D)           (None, 21, 22, 64)        11264     \n",
      "_________________________________________________________________\n",
      "max_pooling2d_47 (MaxPooling (None, 10, 11, 64)        0         \n",
      "_________________________________________________________________\n",
      "flatten_47 (Flatten)         (None, 7040)              0         \n",
      "_________________________________________________________________\n",
      "last_feature_layer (Dense)   (None, 100)               704100    \n",
      "_________________________________________________________________\n",
      "dense_89 (Dense)             (None, 5)                 505       \n",
      "=================================================================\n",
      "Total params: 715,869\n",
      "Trainable params: 715,869\n",
      "Non-trainable params: 0\n",
      "_________________________________________________________________\n",
      "Epoch 1/10\n",
      "12/12 [==============================] - 1s 68ms/step - loss: 6.0122 - accuracy: 0.1833 - val_loss: 1.6082 - val_accuracy: 0.2667\n",
      "Epoch 2/10\n",
      "12/12 [==============================] - 1s 46ms/step - loss: 1.6853 - accuracy: 0.2500 - val_loss: 1.6414 - val_accuracy: 0.2667\n",
      "Epoch 3/10\n",
      "12/12 [==============================] - 1s 46ms/step - loss: 2.2045 - accuracy: 0.3667 - val_loss: 3.1954 - val_accuracy: 0.2667\n",
      "Epoch 4/10\n",
      "12/12 [==============================] - 1s 44ms/step - loss: 1.7221 - accuracy: 0.4000 - val_loss: 1.6010 - val_accuracy: 0.3333\n",
      "Epoch 5/10\n",
      "12/12 [==============================] - 1s 46ms/step - loss: 2.6044 - accuracy: 0.2500 - val_loss: 1.5190 - val_accuracy: 0.3333\n",
      "Epoch 6/10\n",
      "12/12 [==============================] - 1s 54ms/step - loss: 1.5662 - accuracy: 0.5000 - val_loss: 1.5508 - val_accuracy: 0.4000\n",
      "Epoch 7/10\n",
      "12/12 [==============================] - 1s 55ms/step - loss: 1.8599 - accuracy: 0.2833 - val_loss: 1.5129 - val_accuracy: 0.4000\n",
      "Epoch 8/10\n",
      "12/12 [==============================] - 1s 68ms/step - loss: 1.5769 - accuracy: 0.3667 - val_loss: 1.4564 - val_accuracy: 0.2667\n",
      "Epoch 9/10\n",
      "12/12 [==============================] - 1s 58ms/step - loss: 1.5755 - accuracy: 0.5000 - val_loss: 2.4749 - val_accuracy: 0.1333\n",
      "Epoch 10/10\n",
      "12/12 [==============================] - 1s 59ms/step - loss: 1.5685 - accuracy: 0.3333 - val_loss: 1.5820 - val_accuracy: 0.2000\n",
      "Accuracy: 0.2000\n",
      "Predictions: [4 3 4 4 4 4 4 3 4 4 3 4 4 4 3]\n",
      "True Targets: [1 3 0 4 3 1 2 2 2 4 2 3 0 3 1]\n",
      "\n",
      "              precision    recall  f1-score   support\n",
      "\n",
      "     Class 0       0.00      0.00      0.00         2\n",
      "     Class 1       0.00      0.00      0.00         3\n",
      "     Class 2       0.00      0.00      0.00         4\n",
      "     Class 3       0.25      0.25      0.25         4\n",
      "     Class 4       0.18      1.00      0.31         2\n",
      "\n",
      "    accuracy                           0.20        15\n",
      "   macro avg       0.09      0.25      0.11        15\n",
      "weighted avg       0.09      0.20      0.11        15\n",
      "\n",
      "\n"
     ]
    },
    {
     "data": {
      "image/png": "[encoded data removed]",
      "text/plain": [
       "<Figure size 504x432 with 2 Axes>"
      ]
     },
     "metadata": {
      "needs_background": "light"
     },
     "output_type": "display_data"
    }
   ],
   "source": [
    "go(DTL, NTL)"
   ]
  },
  {
   "cell_type": "code",
   "execution_count": null,
   "metadata": {},
   "outputs": [],
   "source": []
  }
 ],
 "metadata": {
  "kernelspec": {
   "display_name": "Python 3",
   "language": "python",
   "name": "python3"
  },
  "language_info": {
   "codemirror_mode": {
    "name": "ipython",
    "version": 3
   },
   "file_extension": ".py",
   "mimetype": "text/x-python",
   "name": "python",
   "nbconvert_exporter": "python",
   "pygments_lexer": "ipython3",
   "version": "3.8.3"
  }
 },
 "nbformat": 4,
 "nbformat_minor": 4
}
