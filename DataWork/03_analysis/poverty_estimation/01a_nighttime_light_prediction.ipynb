{
 "cells": [
  {
   "cell_type": "markdown",
   "metadata": {},
   "source": [
    "# Predict Nighttime Light Intensities from Daytime Light \n",
    "\n",
    "First pass.  \n",
    "Current Goal: Use CNN to extract features from daytime lights (Landsat) data and predict levels of nighhtime light intensities (VIIRS).\n",
    "***\n",
    "General Steps:\n",
    "1. Import the data\n",
    "2. Feature creation\n",
    "3. Build the Neural Net\n",
    "4. Evaluate the Neural Net"
   ]
  },
  {
   "cell_type": "code",
<<<<<<< HEAD
   "execution_count": 16,
=======
   "execution_count": 1,
>>>>>>> 1906c1f4b427b6f48155d8a172118f012ef4c845
   "metadata": {},
   "outputs": [],
   "source": [
    "import os\n",
    "import pandas as pd\n",
    "import geopandas as gpd\n",
    "import rasterio\n",
    "from rasterio import features\n",
    "\n",
    "import getpass\n",
    "\n",
    "import matplotlib.pyplot as plt\n",
    "%matplotlib inline\n",
    "import seaborn as sns\n",
    "\n",
    "import numpy as np\n",
    "from numpy import mean\n",
    "from numpy import std\n",
    "from sklearn.model_selection import KFold\n",
    "from keras.utils import to_categorical\n",
    "from keras.models import Sequential\n",
    "from keras.layers import Conv2D\n",
    "from keras.layers import MaxPooling2D\n",
    "from keras.layers import Dense\n",
    "from keras.layers import Flatten"
   ]
  },
  {
   "cell_type": "code",
<<<<<<< HEAD
   "execution_count": 2,
=======
   "execution_count": 4,
>>>>>>> 1906c1f4b427b6f48155d8a172118f012ef4c845
   "metadata": {},
   "outputs": [],
   "source": [
    "# Rob's code\n",
    "if getpass.getuser() == 'robmarty':\n",
    "    project_file_path = '/Users/robmarty/Dropbox/World Bank/IEs/Pakistan Poverty Estimation from Satellites'\n",
    "    \n",
    "filepath_night = project_file_path + \"/Data/VIIRS/RawData/VIIRS Annual/pak_viirs_median_2012.tif\"\n",
    "data_night = rasterio.open(filepath_night)\n",
    "array_night = data_night.read()\n",
    "np.nanmean(array_night)\n",
    "\n",
    "array_night_flat = array_night.flatten()\n",
    "array_night_flat_nona = array_night_flat[ ~np.isnan(array_night_flat) ]\n",
    "plt.hist(array_night_flat_nona)"
   ]
  },
  {
   "cell_type": "markdown",
   "metadata": {},
   "source": [
    "# 1. Import and Prep Data"
   ]
  },
  {
   "cell_type": "markdown",
   "metadata": {},
   "source": [
    "## 1a. Setup, Load, and Prep Daytime Lights Data"
   ]
  },
  {
   "cell_type": "code",
   "execution_count": 2,
   "metadata": {},
   "outputs": [],
   "source": [
    "# Set directory\n",
    "os.chdir(\"/Users/nguyenluong/wb_internship/Data/satellite_raw\")\n",
    "\n",
    "def read_geotiff(filepath):\n",
    "    data = rasterio.open(filepath)\n",
    "    return data.read()\n",
    "\n",
    "def get_daytime_data(geotiff_source, year, stacked_status):\n",
    "    all_data = []\n",
    "    directory = os.path.join(geotiff_source, year, stacked_status)\n",
    "    for filename in os.listdir(directory):\n",
    "        if filename.endswith(\".tif\"):\n",
    "            filepath = os.path.join(directory, filename)\n",
    "            geotiff_array = read_geotiff(filepath)\n",
    "            all_data.append(geotiff_array)\n",
    "    return all_data"
   ]
  },
  {
   "cell_type": "code",
   "execution_count": null,
   "metadata": {},
   "outputs": [],
   "source": [
    "# Define years for daytime data\n",
    "Landsat_years = ['2013']\n",
    "\n",
    "# Load in all daytime data\n",
    "all_daytime_data = []\n",
    "for year in Landsat_years:\n",
    "    all_daytime_data.append((year, get_daytime_data('Landsat', year, 'stacked')))"
   ]
  },
  {
   "cell_type": "markdown",
   "metadata": {},
   "source": [
    "## 1b. Load and Prep Nighttime Lights Data "
   ]
  },
  {
   "cell_type": "code",
   "execution_count": 3,
   "metadata": {},
   "outputs": [],
   "source": [
    "# Load nighttime VIIRS data (geojson)\n",
    "viirs_poly_gdf = gpd.read_file('VIIRS/VIIRS Annual/viirs_annual_polygon.geojson')"
   ]
  },
  {
   "cell_type": "markdown",
   "metadata": {},
   "source": [
    "Transform nighttime lights to lessen heavily skewed distribution. For now, **limit to only 2013 data**.   \n",
    "***\n",
    "Options tried here:\n",
    "- natural log\n",
    "- square root\n",
    "- box-cox\n",
    "- yeo-johnson\n",
    "\n",
    "doc: https://scikit-learn.org/stable/modules/generated/sklearn.preprocessing.power_transform.html#r742a88cfa144-1"
   ]
  },
  {
   "cell_type": "code",
   "execution_count": 4,
   "metadata": {},
   "outputs": [],
   "source": [
    "from sklearn.preprocessing import power_transform\n",
    "\n",
    "# Do log(x + 1) to have fully defined domain since data has x = 0\n",
    "log_rad = np.log(viirs_poly_gdf['median_rad_2013'] + 1).to_numpy()\n",
    "\n",
    "sqrt_rad = np.sqrt(viirs_poly_gdf['median_rad_2013']).to_numpy()\n",
    "\n",
    "# do box-cox with (x + 1) because needs strictly positive values \n",
    "bc_rad = power_transform((viirs_poly_gdf['median_rad_2013'] + 1)\\\n",
    "                             .to_numpy().reshape(-1, 1), method='box-cox')\n",
    "\n",
    "yj_rad = power_transform((viirs_poly_gdf['median_rad_2013'])\\\n",
    "                             .to_numpy().reshape(-1, 1), method='yeo-johnson')"
   ]
  },
  {
   "cell_type": "markdown",
   "metadata": {},
   "source": [
    "Explore the distributions of variable transformations to decide which to go forward with."
   ]
  },
  {
   "cell_type": "code",
   "execution_count": 6,
   "metadata": {},
   "outputs": [
    {
     "name": "stdout",
     "output_type": "stream",
     "text": [
      "Summary of log\n",
      "DescribeResult(nobs=1814237, minmax=(0.0, 7.483210362133503), mean=0.21201183626794542, variance=0.0631144546408545, skewness=6.5342432701103235, kurtosis=63.18404380925924)\n",
      "\n",
      "Summary of square-root\n",
      "DescribeResult(nobs=1814237, minmax=(0.0, 42.15375965587174), mean=0.4690969454140062, variance=0.10915777482006311, skewness=13.786617024046127, kurtosis=719.8342478686386)\n",
      "\n",
      "Summary of box-cox\n",
      "DescribeResult(nobs=1814237, minmax=(-3.486867345101547, 2.2625341729099766), mean=-2.325074632929899e-15, variance=1.0000005511962058, skewness=0.6840783490207888, kurtosis=-0.4117379445822089)\n",
      "\n",
      "Summary of yeo-johnson\n",
      "DescribeResult(nobs=1814237, minmax=(-3.486867345101547, 2.2625341729099766), mean=-2.325074632929899e-15, variance=1.0000005511962058, skewness=0.6840783490207888, kurtosis=-0.4117379445822089)\n",
      "\n"
     ]
    },
    {
     "data": {
      "image/png": "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\n",
      "text/plain": [
       "<Figure size 1440x360 with 4 Axes>"
      ]
     },
     "metadata": {
      "needs_background": "light"
     },
     "output_type": "display_data"
    }
   ],
   "source": [
    "from scipy import stats\n",
    "\n",
    "def explore_distrib(vars_dict):\n",
    "    fig, ax = plt.subplots(figsize=(20,5), ncols=len(vars_dict.values()))\n",
    "    i = 0\n",
    "    for var_name, array in vars_dict.items():\n",
    "        if len(array.shape) > 1:\n",
    "            array = array.flatten()\n",
    "        print('Summary of ' + var_name)\n",
    "        print(stats.describe(array))\n",
    "        print()\n",
    "        ax[i].hist(array);\n",
    "        ax[i].set_title('Distribution of ' + var_name);\n",
    "        i += 1\n",
    "    plt.tight_layout()\n",
    "    plt.show()\n",
    "\n",
    "vars_dict = {'log': log_rad, 'square-root': sqrt_rad, \n",
    "             'box-cox': bc_rad, 'yeo-johnson': yj_rad}\n",
    "explore_distrib(vars_dict)"
   ]
  },
  {
<<<<<<< HEAD
   "cell_type": "code",
   "execution_count": 3,
   "metadata": {},
   "outputs": [
    {
     "data": {
      "text/plain": [
       "0.2948197"
      ]
     },
     "execution_count": 3,
     "metadata": {},
     "output_type": "execute_result"
    }
   ],
=======
   "cell_type": "markdown",
   "metadata": {},
>>>>>>> 1906c1f4b427b6f48155d8a172118f012ef4c845
   "source": [
    "I feel like it makes sense to feel values positive for interpretation of radiance. Log has lowered skewness and smaller range of values. So, I will discretize log median radiance for 2013 with k-means clustering."
   ]
  },
  {
   "cell_type": "code",
<<<<<<< HEAD
   "execution_count": 7,
=======
<<<<<<< HEAD
   "execution_count": 4,
=======
   "execution_count": 210,
>>>>>>> 1906c1f4b427b6f48155d8a172118f012ef4c845
>>>>>>> 39abba7ad61533326bcd9f003fd74c5dcdce3cf2
   "metadata": {},
   "outputs": [
    {
     "data": {
<<<<<<< HEAD
      "text/plain": [
       "(array([1.814223e+06, 4.000000e+00, 5.000000e+00, 0.000000e+00,\n",
       "        2.000000e+00, 0.000000e+00, 0.000000e+00, 1.000000e+00,\n",
       "        0.000000e+00, 2.000000e+00]),\n",
       " array([-1.4850506e-02,  1.7908945e+02,  3.5819376e+02,  5.3729803e+02,\n",
       "         7.1640234e+02,  8.9550665e+02,  1.0746110e+03,  1.2537153e+03,\n",
       "         1.4328196e+03,  1.6119240e+03,  1.7910282e+03], dtype=float32),\n",
       " <a list of 10 Patch objects>)"
      ]
     },
     "execution_count": 4,
     "metadata": {},
     "output_type": "execute_result"
    },
    {
     "data": {
      "image/png": "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\n",
=======
      "image/png": "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\n",
>>>>>>> 1906c1f4b427b6f48155d8a172118f012ef4c845
      "text/plain": [
       "<Figure size 432x288 with 1 Axes>"
      ]
     },
     "metadata": {
      "needs_background": "light"
     },
     "output_type": "display_data"
    }
   ],
   "source": [
    "from sklearn.preprocessing import KBinsDiscretizer\n",
    "# Reshape array to be a column rather than a row\n",
    "log_rad = log_rad.reshape(-1,1)\n",
    "discretizer = KBinsDiscretizer(n_bins=5, encode='ordinal', strategy='kmeans')\n",
    "log_binned = discretizer.fit_transform(log_rad)\n",
    "plt.hist(log_binned);"
   ]
  },
  {
   "cell_type": "code",
   "execution_count": 22,
   "metadata": {},
   "outputs": [
    {
     "name": "stdout",
     "output_type": "stream",
     "text": [
      "Bin: [0. 1. 2. 3. 4.]\n",
      "Bin edges: [0.         0.23858741 0.53132507 1.10071912 2.15036929 7.48321036]\n"
     ]
    }
   ],
   "source": [
    "# Now nighttime lights is bucketed into 5 categories\n",
    "print('Bin: {}'.format(np.unique(log_binned)))\n",
    "print('Bin edges: {}'.format(discretizer.bin_edges_[0]))"
   ]
  },
  {
   "cell_type": "code",
   "execution_count": 5,
   "metadata": {},
   "outputs": [
    {
     "name": "stderr",
     "output_type": "stream",
     "text": [
      "/Users/robmarty/anaconda3/lib/python3.7/site-packages/ipykernel_launcher.py:1: RuntimeWarning: invalid value encountered in log\n",
      "  \"\"\"Entry point for launching an IPython kernel.\n",
      "/Users/robmarty/anaconda3/lib/python3.7/site-packages/ipykernel_launcher.py:2: RuntimeWarning: invalid value encountered in log\n",
      "  \n",
      "/Users/robmarty/anaconda3/lib/python3.7/site-packages/ipykernel_launcher.py:3: RuntimeWarning: invalid value encountered in log\n",
      "  This is separate from the ipykernel package so we can avoid doing imports until\n"
     ]
    },
    {
     "data": {
      "image/png": "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\n",
      "text/plain": [
       "<Figure size 432x288 with 1 Axes>"
      ]
     },
     "metadata": {
      "needs_background": "light"
     },
     "output_type": "display_data"
    }
   ],
   "source": [
    "night_log = np.log(data_night.read(1)+1)\n",
    "night_log = np.log(night_log+1)\n",
    "night_log = np.log(night_log+1)\n",
    "\n",
    "plt.imshow(night_log);"
   ]
  },
  {
   "cell_type": "code",
   "execution_count": 30,
   "metadata": {},
   "outputs": [
    {
     "data": {
      "text/plain": [
       "<generator object shapes at 0x7fafb2a60b10>"
      ]
     },
     "execution_count": 30,
     "metadata": {},
     "output_type": "execute_result"
    }
   ],
   "source": [
    "#data_night_plg = data_night.dataset_features()\n",
    "import pprint\n",
    "data_night_r = data_night.read(1)\n",
    "a = features.dataset_features(data_night, bidx=1)\n"
   ]
  },
  {
   "cell_type": "markdown",
   "metadata": {},
   "source": [
    "# Feature Creation\n",
    "Reshape the data into an array of 3D tensors and normalize each element.\n",
    "***  \n",
    "*What satellite data ultimately needs to look like*\n",
    "- data_train, data_test: (np.array) array containing 3D arrays each representing one Landsat image\n",
    "- target_train, target_test: (np.array with elements in range(0,5)) 1D array of nighttime light intensities split into 5 buckets"
   ]
  },
  {
   "cell_type": "code",
   "execution_count": 6,
   "metadata": {},
   "outputs": [],
   "source": [
    "#Sample data\n",
    "from keras.datasets import mnist\n",
    "(trainX, trainY), (testX, testY) = mnist.load_data()"
   ]
  },
  {
   "cell_type": "code",
   "execution_count": 7,
   "metadata": {},
   "outputs": [
    {
     "name": "stdout",
     "output_type": "stream",
     "text": [
      "training data shape: (60000, 28, 28)\n",
      "training target shape: (60000,)\n",
      "testing data shape: (10000, 28, 28)\n",
      "testing target shape: (10000,)\n"
     ]
    }
   ],
   "source": [
    "#Look at array shapes\n",
    "print('training data shape: {}'.format(trainX.shape))\n",
    "print('training target shape: {}'.format(trainY.shape))\n",
    "print('testing data shape: {}'.format(testX.shape))\n",
    "print('testing target shape: {}'.format(testY.shape))"
   ]
  },
  {
   "cell_type": "code",
   "execution_count": 8,
   "metadata": {},
   "outputs": [
    {
     "name": "stdout",
     "output_type": "stream",
     "text": [
      "target value: 5\n"
     ]
    },
    {
     "data": {
      "image/png": "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\n",
      "text/plain": [
       "<Figure size 432x288 with 1 Axes>"
      ]
     },
     "metadata": {
      "needs_background": "light"
     },
     "output_type": "display_data"
    }
   ],
   "source": [
    "#Sample image and target\n",
    "plt.imshow(trainX[0], origin='upper', interpolation='nearest');\n",
    "print('target value: {}'.format(trainY[0]))"
   ]
  },
  {
   "cell_type": "code",
   "execution_count": 9,
   "metadata": {},
   "outputs": [],
   "source": [
    "def prep_dataset(X, Y, height, width, channels):\n",
    "    # Reshape dataset to have include a single channel\n",
    "    X = X.reshape((X.shape[0], height, width, channels))\n",
    "    # One-hot encode targets\n",
    "    Y = to_categorical(Y)\n",
    "    return X, Y\n",
    "\n",
    "def normalize(X):\n",
    "    # Convert from ints to floats and normalize to 0-1\n",
    "    return X.astype('float32') / 255.0"
   ]
  },
  {
   "cell_type": "markdown",
   "metadata": {},
   "source": [
    "# Build the CNN"
   ]
  },
  {
   "cell_type": "code",
   "execution_count": 10,
   "metadata": {},
   "outputs": [],
   "source": [
    "def define_model(height, width, channels, num_classes):\n",
    "    # Define layers\n",
    "    model = Sequential()\n",
    "    model.add(Conv2D(filters=64, \n",
    "                     kernel_size=(5, 5), \n",
    "                     activation='relu', \n",
    "                     input_shape=(height, width, channels)))\n",
    "    model.add(MaxPooling2D(pool_size=(2, 2)))\n",
    "    model.add(Flatten())\n",
    "    model.add(Dense(100, activation='relu'))\n",
    "    model.add(Dense(num_classes, activation='softmax'))\n",
    "    \n",
    "    # Compile model\n",
    "    model.compile(optimizer='rmsprop', loss='categorical_crossentropy', metrics=['accuracy'])\n",
    "    print('Model has been defined. Model summary below.')\n",
    "    model.summary()\n",
    "    \n",
    "    return model"
   ]
  },
  {
   "cell_type": "markdown",
   "metadata": {},
   "source": [
    "# Evaluate the CNN"
   ]
  },
  {
   "cell_type": "code",
   "execution_count": 11,
   "metadata": {},
   "outputs": [],
   "source": [
    "def evaluate_model(model, trainX, trainY, testX, testY):\n",
    "    # Fit model\n",
    "    history = model.fit(trainX, trainY, \n",
    "                        epochs=2, batch_size=1000, \n",
    "                        validation_data=(testX, testY), verbose=0)\n",
    "    print('Model has been fit.')\n",
    "    \n",
    "    # Evaluate model\n",
    "    loss, accuracy = model.evaluate(testX, testY, verbose=0)\n",
    "    print('Model has been evaluted.')\n",
    "    print('Accuracy: {:.4f}'.format(accuracy))\n",
    "\n",
    "\n",
    "def evaluate_with_crossval(model, dataX, dataY, k=2):\n",
    "    # Define k-fold cross-val\n",
    "    kfold = KFold(k, shuffle=True, random_state=1)\n",
    "    print('Entering cross validation.')\n",
    "    \n",
    "    # Loop through folds\n",
    "    for train_idx, test_idx in kfold.split(dataX):\n",
    "        # Select subsets for training and testing\n",
    "        trainX, trainY, testX, testY = dataX[train_idx], dataY[train_idx], dataX[test_idx], dataY[test_idx]\n",
    "        print('Subsets have been selected.')\n",
    "        # Pass to evaluate_model\n",
    "        evaluate_model(model, trainX, trainY, testX, testY)"
   ]
  },
  {
   "cell_type": "code",
   "execution_count": 12,
   "metadata": {},
   "outputs": [],
   "source": [
    "def go():\n",
    "    # Load dataset\n",
    "    (raw_trainX, raw_trainY), (raw_testX, raw_testY) = mnist.load_data()\n",
    "    \n",
    "    # Define image characteristics\n",
    "    height = raw_trainX[0].shape[0]\n",
    "    width = raw_trainX[0].shape[1]\n",
    "    channels = 1\n",
    "    num_classes = 10 #digits 0-9\n",
    "    \n",
    "    # Prep both training and testing data\n",
    "    trainX, trainY = prep_dataset(raw_trainX, raw_trainY, height, width, channels)\n",
    "    testX, testY = prep_dataset(raw_testX, raw_testY, height, width, channels)\n",
    "    \n",
    "    # Prep pixel data\n",
    "    trainX, testX = normalize(trainX), normalize(testX)\n",
    "\n",
    "    # Define and evaluate model\n",
    "    model = define_model(height, width, channels, num_classes)\n",
    "    evaluate_model(model, trainX, trainY, testX, testY)\n",
    "    #evaluate_with_crossval(model, trainX, trainY)"
   ]
  },
  {
   "cell_type": "code",
   "execution_count": 13,
   "metadata": {},
   "outputs": [
    {
     "name": "stdout",
     "output_type": "stream",
     "text": [
      "Model has been defined. Model summary below.\n",
      "Model: \"sequential\"\n",
      "_________________________________________________________________\n",
      "Layer (type)                 Output Shape              Param #   \n",
      "=================================================================\n",
      "conv2d (Conv2D)              (None, 24, 24, 64)        1664      \n",
      "_________________________________________________________________\n",
      "max_pooling2d (MaxPooling2D) (None, 12, 12, 64)        0         \n",
      "_________________________________________________________________\n",
      "flatten (Flatten)            (None, 9216)              0         \n",
      "_________________________________________________________________\n",
      "dense (Dense)                (None, 100)               921700    \n",
      "_________________________________________________________________\n",
      "dense_1 (Dense)              (None, 10)                1010      \n",
      "=================================================================\n",
      "Total params: 924,374\n",
      "Trainable params: 924,374\n",
      "Non-trainable params: 0\n",
      "_________________________________________________________________\n",
      "Model has been fit.\n",
      "Model has been evaluted.\n",
      "Accuracy: 0.9714\n"
     ]
    }
   ],
   "source": [
    "go()"
   ]
  }
 ],
 "metadata": {
  "kernelspec": {
   "display_name": "Python 3",
   "language": "python",
   "name": "python3"
  },
  "language_info": {
   "codemirror_mode": {
    "name": "ipython",
    "version": 3
   },
   "file_extension": ".py",
   "mimetype": "text/x-python",
   "name": "python",
   "nbconvert_exporter": "python",
   "pygments_lexer": "ipython3",
   "version": "3.8.3"
  }
 },
 "nbformat": 4,
 "nbformat_minor": 4
}
