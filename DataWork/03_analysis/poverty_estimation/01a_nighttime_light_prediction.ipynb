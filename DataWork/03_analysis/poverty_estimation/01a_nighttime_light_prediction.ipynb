{
 "cells": [
  {
   "cell_type": "markdown",
   "metadata": {},
   "source": [
    "# Predict Nighttime Light Intensities from Daytime Light \n",
    "\n",
    "First pass.  \n",
    "Current Goal: Use CNN to extract features from daytime lights (Landsat) data and predict levels of nighhtime light intensities (VIIRS).\n",
    "***\n",
    "General Steps:\n",
    "- Import the data\n",
    "- Feature creation\n",
    "- Build the Neural Net\n",
    "- Evaluate the Neural Net"
   ]
  },
  {
   "cell_type": "code",
   "execution_count": 16,
   "metadata": {},
   "outputs": [],
   "source": [
    "import os\n",
    "import pandas as pd\n",
    "import rasterio\n",
    "from rasterio import features\n",
    "\n",
    "import getpass\n",
    "\n",
    "import matplotlib.pyplot as plt\n",
    "%matplotlib inline\n",
    "import seaborn as sns\n",
    "\n",
    "import numpy as np\n",
    "from numpy import mean\n",
    "from numpy import std\n",
    "from sklearn.model_selection import KFold\n",
    "from keras.utils import to_categorical\n",
    "from keras.models import Sequential\n",
    "from keras.layers import Conv2D\n",
    "from keras.layers import MaxPooling2D\n",
    "from keras.layers import Dense\n",
    "from keras.layers import Flatten\n",
    "from sklearn.metrics import confusion_matrix, accuracy_score, precision_score, recall_score"
   ]
  },
  {
   "cell_type": "code",
   "execution_count": 2,
   "metadata": {},
   "outputs": [],
   "source": [
    "if getpass.getuser() == 'robmarty':\n",
    "    project_file_path = '/Users/robmarty/Dropbox/World Bank/IEs/Pakistan Poverty Estimation from Satellites'"
   ]
  },
  {
   "cell_type": "markdown",
   "metadata": {},
   "source": [
    "# Import the data"
   ]
  },
  {
   "cell_type": "code",
   "execution_count": 6,
   "metadata": {},
   "outputs": [
    {
     "ename": "FileNotFoundError",
     "evalue": "[Errno 2] No such file or directory: '/Users/nguyenluong/wb_internship/Data/satellite_raw'",
     "output_type": "error",
     "traceback": [
      "\u001b[0;31m---------------------------------------------------------------------------\u001b[0m",
      "\u001b[0;31mFileNotFoundError\u001b[0m                         Traceback (most recent call last)",
      "\u001b[0;32m<ipython-input-6-5e47c51c2735>\u001b[0m in \u001b[0;36m<module>\u001b[0;34m\u001b[0m\n\u001b[1;32m      1\u001b[0m \u001b[0;31m#Load single daytime tif file (one observation)\u001b[0m\u001b[0;34m\u001b[0m\u001b[0;34m\u001b[0m\u001b[0;34m\u001b[0m\u001b[0m\n\u001b[0;32m----> 2\u001b[0;31m \u001b[0mos\u001b[0m\u001b[0;34m.\u001b[0m\u001b[0mchdir\u001b[0m\u001b[0;34m(\u001b[0m\u001b[0;34m\"/Users/nguyenluong/wb_internship/Data/satellite_raw\"\u001b[0m\u001b[0;34m)\u001b[0m\u001b[0;34m\u001b[0m\u001b[0;34m\u001b[0m\u001b[0m\n\u001b[0m\u001b[1;32m      3\u001b[0m \u001b[0mfilepath_day\u001b[0m \u001b[0;34m=\u001b[0m \u001b[0;34m'Landsat/2011/stacked/1.tif'\u001b[0m\u001b[0;34m\u001b[0m\u001b[0;34m\u001b[0m\u001b[0m\n\u001b[1;32m      4\u001b[0m \u001b[0mdata_day\u001b[0m \u001b[0;34m=\u001b[0m \u001b[0mrasterio\u001b[0m\u001b[0;34m.\u001b[0m\u001b[0mopen\u001b[0m\u001b[0;34m(\u001b[0m\u001b[0mfilepath_day\u001b[0m\u001b[0;34m)\u001b[0m\u001b[0;34m\u001b[0m\u001b[0;34m\u001b[0m\u001b[0m\n\u001b[1;32m      5\u001b[0m \u001b[0marray_day\u001b[0m \u001b[0;34m=\u001b[0m \u001b[0mdata_day\u001b[0m\u001b[0;34m.\u001b[0m\u001b[0mread\u001b[0m\u001b[0;34m(\u001b[0m\u001b[0;34m)\u001b[0m\u001b[0;34m\u001b[0m\u001b[0;34m\u001b[0m\u001b[0m\n",
      "\u001b[0;31mFileNotFoundError\u001b[0m: [Errno 2] No such file or directory: '/Users/nguyenluong/wb_internship/Data/satellite_raw'"
     ]
    }
   ],
   "source": [
    "#Load single daytime tif file (one observation)\n",
    "os.chdir(\"/Users/nguyenluong/wb_internship/Data/satellite_raw\")\n",
    "filepath_day = 'Landsat/2011/stacked/1.tif'\n",
    "data_day = rasterio.open(filepath_day)\n",
    "array_day = data_day.read()\n",
    "print('daytime image shape: {}'.format(array_day.shape))\n",
    "plt.imshow(data_day.read(1));"
   ]
  },
  {
   "cell_type": "code",
   "execution_count": 3,
   "metadata": {},
   "outputs": [],
   "source": [
    "def read_geotiff(filepath):\n",
    "    '''\n",
    "    Reads in geotiffs appropriately using rasterio and convert into an array.\n",
    "    \n",
    "    Inputs:\n",
    "        filepath (str)\n",
    "    Returns:\n",
    "        (numpy.ndarray) array of arrays where each array represents a band\n",
    "    '''\n",
    "    data = rasterio.open(filepath)\n",
    "    return data.read()\n",
    "\n",
    "\n",
    "def get_daytime_data(geotiff_source, year, stacked_status):\n",
    "    '''\n",
    "    Cycles through all geotiffs in a folder, reads them, adds them to a list.\n",
    "    \n",
    "    Inputs:\n",
    "        directory (str)\n",
    "    Returns:\n",
    "        (list) list of arrary where each array represents a geotiff\n",
    "    '''\n",
    "    all_data = []\n",
    "    directory = os.path.join(geotiff_source, year, stacked_status)\n",
    "    for filename in os.listdir(directory):\n",
    "        if filename.endswith(\".tif\"):\n",
    "            filepath = os.path.join(directory, filename)\n",
    "            geotiff_array = read_geotiff(filepath)\n",
    "            all_data.append(geotiff_array)\n",
    "    return all_data"
   ]
  },
  {
   "cell_type": "code",
   "execution_count": null,
   "metadata": {},
   "outputs": [],
   "source": [
    "#Define years for daytime data\n",
    "Landsat_years = ['2013']\n",
    "\n",
    "#Load in all daytime data\n",
    "all_daytime_data = []\n",
    "for year in Landsat_years:\n",
    "    all_daytime_data.append((year, get_daytime_data('Landsat', year, 'stacked')))"
   ]
  },
  {
   "cell_type": "code",
   "execution_count": 4,
   "metadata": {},
   "outputs": [
    {
     "name": "stdout",
     "output_type": "stream",
     "text": [
      "nighttime image shape: (1, 1987, 2519)\n"
     ]
    },
    {
     "data": {
      "image/png": "[encoded data removed]",
      "text/plain": [
       "<Figure size 432x288 with 1 Axes>"
      ]
     },
     "metadata": {
      "needs_background": "light"
     },
     "output_type": "display_data"
    }
   ],
   "source": [
    "#Load nighttime VIIRS data\n",
    "filepath_night = 'VIIRS/VIIRS Annual/pak_viirs_median_2018.tif'\n",
    "data_night = rasterio.open(filepath_night)\n",
    "array_night = data_night.read()\n",
    "print('nighttime image shape: {}'.format(array_night.shape))\n",
    "plt.imshow(data_night.read(1));"
   ]
  },
  {
   "cell_type": "code",
   "execution_count": 3,
   "metadata": {},
   "outputs": [
    {
     "data": {
      "text/plain": [
       "0.2948197"
      ]
     },
     "execution_count": 3,
     "metadata": {},
     "output_type": "execute_result"
    }
   ],
   "source": [
    "filepath_night = project_file_path + \"/Data/VIIRS/RawData/VIIRS Annual/pak_viirs_median_2012.tif\"\n",
    "\n",
    "data_night = rasterio.open(filepath_night)\n",
    "\n",
    "array_night = data_night.read()\n",
    "\n",
    "np.nanmean(array_night)"
   ]
  },
  {
   "cell_type": "code",
   "execution_count": 4,
   "metadata": {},
   "outputs": [
    {
     "data": {
      "text/plain": [
       "(array([1.814223e+06, 4.000000e+00, 5.000000e+00, 0.000000e+00,\n",
       "        2.000000e+00, 0.000000e+00, 0.000000e+00, 1.000000e+00,\n",
       "        0.000000e+00, 2.000000e+00]),\n",
       " array([-1.4850506e-02,  1.7908945e+02,  3.5819376e+02,  5.3729803e+02,\n",
       "         7.1640234e+02,  8.9550665e+02,  1.0746110e+03,  1.2537153e+03,\n",
       "         1.4328196e+03,  1.6119240e+03,  1.7910282e+03], dtype=float32),\n",
       " <a list of 10 Patch objects>)"
      ]
     },
     "execution_count": 4,
     "metadata": {},
     "output_type": "execute_result"
    },
    {
     "data": {
      "image/png": "[encoded data removed]",
      "text/plain": [
       "<Figure size 432x288 with 1 Axes>"
      ]
     },
     "metadata": {
      "needs_background": "light"
     },
     "output_type": "display_data"
    }
   ],
   "source": [
    "array_night_flat = array_night.flatten()\n",
    "\n",
    "array_night_flat_nona = array_night_flat[ ~np.isnan(array_night_flat) ]\n",
    "\n",
    "plt.hist(array_night_flat_nona)\n"
   ]
  },
  {
   "cell_type": "code",
   "execution_count": 5,
   "metadata": {},
   "outputs": [
    {
     "name": "stderr",
     "output_type": "stream",
     "text": [
      "/Users/robmarty/anaconda3/lib/python3.7/site-packages/ipykernel_launcher.py:1: RuntimeWarning: invalid value encountered in log\n",
      "  \"\"\"Entry point for launching an IPython kernel.\n",
      "/Users/robmarty/anaconda3/lib/python3.7/site-packages/ipykernel_launcher.py:2: RuntimeWarning: invalid value encountered in log\n",
      "  \n",
      "/Users/robmarty/anaconda3/lib/python3.7/site-packages/ipykernel_launcher.py:3: RuntimeWarning: invalid value encountered in log\n",
      "  This is separate from the ipykernel package so we can avoid doing imports until\n"
     ]
    },
    {
     "data": {
      "image/png": "[encoded data removed]",
      "text/plain": [
       "<Figure size 432x288 with 1 Axes>"
      ]
     },
     "metadata": {
      "needs_background": "light"
     },
     "output_type": "display_data"
    }
   ],
   "source": [
    "night_log = np.log(data_night.read(1)+1)\n",
    "night_log = np.log(night_log+1)\n",
    "night_log = np.log(night_log+1)\n",
    "\n",
    "plt.imshow(night_log);"
   ]
  },
  {
   "cell_type": "code",
   "execution_count": 30,
   "metadata": {},
   "outputs": [
    {
     "data": {
      "text/plain": [
       "<generator object shapes at 0x7fafb2a60b10>"
      ]
     },
     "execution_count": 30,
     "metadata": {},
     "output_type": "execute_result"
    }
   ],
   "source": [
    "#data_night_plg = data_night.dataset_features()\n",
    "import pprint\n",
    "data_night_r = data_night.read(1)\n",
    "a = features.dataset_features(data_night, bidx=1)\n"
   ]
  },
  {
   "cell_type": "markdown",
   "metadata": {},
   "source": [
    "# Feature Creation\n",
    "Reshape the data into an array of 3D tensors and normalize each element.\n",
    "***  \n",
    "*What satellite data ultimately needs to look like*\n",
    "- data_train, data_test: (np.array) array containing 3D arrays each representing one Landsat image\n",
    "- target_train, target_test: (np.array with elements in range(0,5)) 1D array of nighttime light intensities split into 5 buckets"
   ]
  },
  {
   "cell_type": "code",
   "execution_count": 6,
   "metadata": {},
   "outputs": [],
   "source": [
    "#Sample data\n",
    "from keras.datasets import mnist\n",
    "(trainX, trainY), (testX, testY) = mnist.load_data()"
   ]
  },
  {
   "cell_type": "code",
   "execution_count": 7,
   "metadata": {},
   "outputs": [
    {
     "name": "stdout",
     "output_type": "stream",
     "text": [
      "training data shape: (60000, 28, 28)\n",
      "training target shape: (60000,)\n",
      "testing data shape: (10000, 28, 28)\n",
      "testing target shape: (10000,)\n"
     ]
    }
   ],
   "source": [
    "#Look at array shapes\n",
    "print('training data shape: {}'.format(trainX.shape))\n",
    "print('training target shape: {}'.format(trainY.shape))\n",
    "print('testing data shape: {}'.format(testX.shape))\n",
    "print('testing target shape: {}'.format(testY.shape))"
   ]
  },
  {
   "cell_type": "code",
   "execution_count": 8,
   "metadata": {},
   "outputs": [
    {
     "name": "stdout",
     "output_type": "stream",
     "text": [
      "target value: 5\n"
     ]
    },
    {
     "data": {
      "image/png": "[encoded data removed]",
      "text/plain": [
       "<Figure size 432x288 with 1 Axes>"
      ]
     },
     "metadata": {
      "needs_background": "light"
     },
     "output_type": "display_data"
    }
   ],
   "source": [
    "#Sample image and target\n",
    "plt.imshow(trainX[0], origin='upper', interpolation='nearest');\n",
    "print('target value: {}'.format(trainY[0]))"
   ]
  },
  {
   "cell_type": "code",
   "execution_count": 9,
   "metadata": {},
   "outputs": [],
   "source": [
    "def prep_dataset(X, Y, height, width, channels):\n",
    "    # Reshape dataset to have include a single channel\n",
    "    X = X.reshape((X.shape[0], height, width, channels))\n",
    "    # One-hot encode targets\n",
    "    Y = to_categorical(Y)\n",
    "    return X, Y\n",
    "\n",
    "def normalize(X):\n",
    "    # Convert from ints to floats and normalize to 0-1\n",
    "    return X.astype('float32') / 255.0"
   ]
  },
  {
   "cell_type": "markdown",
   "metadata": {},
   "source": [
    "# Build the CNN"
   ]
  },
  {
   "cell_type": "code",
   "execution_count": 10,
   "metadata": {},
   "outputs": [],
   "source": [
    "def define_model(height, width, channels, num_classes):\n",
    "    # Define layers\n",
    "    model = Sequential()\n",
    "    model.add(Conv2D(filters=64, \n",
    "                     kernel_size=(5, 5), \n",
    "                     activation='relu', \n",
    "                     input_shape=(height, width, channels)))\n",
    "    model.add(MaxPooling2D(pool_size=(2, 2)))\n",
    "    model.add(Flatten())\n",
    "    model.add(Dense(100, activation='relu'))\n",
    "    model.add(Dense(num_classes, activation='softmax'))\n",
    "    \n",
    "    # Compile model\n",
    "    model.compile(optimizer='rmsprop', loss='categorical_crossentropy', metrics=['accuracy'])\n",
    "    print('Model has been defined. Model summary below.')\n",
    "    model.summary()\n",
    "    \n",
    "    return model"
   ]
  },
  {
   "cell_type": "markdown",
   "metadata": {},
   "source": [
    "# Evaluate the CNN"
   ]
  },
  {
   "cell_type": "code",
   "execution_count": 11,
   "metadata": {},
   "outputs": [],
   "source": [
    "def evaluate_model(model, trainX, trainY, testX, testY):\n",
    "    # Fit model\n",
    "    history = model.fit(trainX, trainY, \n",
    "                        epochs=2, batch_size=1000, \n",
    "                        validation_data=(testX, testY), verbose=0)\n",
    "    print('Model has been fit.')\n",
    "    \n",
    "    # Evaluate model\n",
    "    loss, accuracy = model.evaluate(testX, testY, verbose=0)\n",
    "    print('Model has been evaluted.')\n",
    "    print('Accuracy: {:.4f}'.format(accuracy))\n",
    "\n",
    "\n",
    "def evaluate_with_crossval(model, dataX, dataY, k=2):\n",
    "    # Define k-fold cross-val\n",
    "    kfold = KFold(k, shuffle=True, random_state=1)\n",
    "    print('Entering cross validation.')\n",
    "    \n",
    "    # Loop through folds\n",
    "    for train_idx, test_idx in kfold.split(dataX):\n",
    "        # Select subsets for training and testing\n",
    "        trainX, trainY, testX, testY = dataX[train_idx], dataY[train_idx], dataX[test_idx], dataY[test_idx]\n",
    "        print('Subsets have been selected.')\n",
    "        # Pass to evaluate_model\n",
    "        evaluate_model(model, trainX, trainY, testX, testY)"
   ]
  },
  {
   "cell_type": "code",
   "execution_count": 12,
   "metadata": {},
   "outputs": [],
   "source": [
    "def go():\n",
    "    # Load dataset\n",
    "    (raw_trainX, raw_trainY), (raw_testX, raw_testY) = mnist.load_data()\n",
    "    \n",
    "    # Define image characteristics\n",
    "    height = raw_trainX[0].shape[0]\n",
    "    width = raw_trainX[0].shape[1]\n",
    "    channels = 1\n",
    "    num_classes = 10 #digits 0-9\n",
    "    \n",
    "    # Prep both training and testing data\n",
    "    trainX, trainY = prep_dataset(raw_trainX, raw_trainY, height, width, channels)\n",
    "    testX, testY = prep_dataset(raw_testX, raw_testY, height, width, channels)\n",
    "    \n",
    "    # Prep pixel data\n",
    "    trainX, testX = normalize(trainX), normalize(testX)\n",
    "\n",
    "    # Define and evaluate model\n",
    "    model = define_model(height, width, channels, num_classes)\n",
    "    evaluate_model(model, trainX, trainY, testX, testY)\n",
    "    #evaluate_with_crossval(model, trainX, trainY)"
   ]
  },
  {
   "cell_type": "code",
   "execution_count": 13,
   "metadata": {},
   "outputs": [
    {
     "name": "stdout",
     "output_type": "stream",
     "text": [
      "Model has been defined. Model summary below.\n",
      "Model: \"sequential\"\n",
      "_________________________________________________________________\n",
      "Layer (type)                 Output Shape              Param #   \n",
      "=================================================================\n",
      "conv2d (Conv2D)              (None, 24, 24, 64)        1664      \n",
      "_________________________________________________________________\n",
      "max_pooling2d (MaxPooling2D) (None, 12, 12, 64)        0         \n",
      "_________________________________________________________________\n",
      "flatten (Flatten)            (None, 9216)              0         \n",
      "_________________________________________________________________\n",
      "dense (Dense)                (None, 100)               921700    \n",
      "_________________________________________________________________\n",
      "dense_1 (Dense)              (None, 10)                1010      \n",
      "=================================================================\n",
      "Total params: 924,374\n",
      "Trainable params: 924,374\n",
      "Non-trainable params: 0\n",
      "_________________________________________________________________\n",
      "Model has been fit.\n",
      "Model has been evaluted.\n",
      "Accuracy: 0.9714\n"
     ]
    }
   ],
   "source": [
    "go()"
   ]
  }
 ],
 "metadata": {
  "kernelspec": {
   "display_name": "Python 3",
   "language": "python",
   "name": "python3"
  },
  "language_info": {
   "codemirror_mode": {
    "name": "ipython",
    "version": 3
   },
   "file_extension": ".py",
   "mimetype": "text/x-python",
   "name": "python",
   "nbconvert_exporter": "python",
   "pygments_lexer": "ipython3",
   "version": "3.7.2"
  }
 },
 "nbformat": 4,
 "nbformat_minor": 4
}
