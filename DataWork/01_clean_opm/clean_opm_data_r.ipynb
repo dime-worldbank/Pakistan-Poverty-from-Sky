{
 "cells": [
  {
   "cell_type": "markdown",
   "id": "civilian-tender",
   "metadata": {},
   "source": [
    "## Clean OPM Data\n",
    "Clean Oxford Policy Management (OPM) survey data. Create Household Level dataframe with  relevant socioeconomic variables __This code is written in R__"
   ]
  },
  {
   "cell_type": "code",
   "execution_count": 1,
   "id": "worst-advancement",
   "metadata": {},
   "outputs": [
    {
     "name": "stderr",
     "output_type": "stream",
     "text": [
      "Warning message:\n",
      "“Your system is mis-configured: ‘/etc/localtime’ is not a symlink”\n",
      "Warning message:\n",
      "“It is strongly recommended to set envionment variable TZ to ‘Etc/UCT’ (or equivalent)”\n",
      "── \u001b[1mAttaching packages\u001b[22m ─────────────────────────────────────── tidyverse 1.3.0 ──\n",
      "\n",
      "\u001b[32m✔\u001b[39m \u001b[34mggplot2\u001b[39m 3.3.3     \u001b[32m✔\u001b[39m \u001b[34mpurrr  \u001b[39m 0.3.4\n",
      "\u001b[32m✔\u001b[39m \u001b[34mtibble \u001b[39m 3.1.0     \u001b[32m✔\u001b[39m \u001b[34mdplyr  \u001b[39m 1.0.5\n",
      "\u001b[32m✔\u001b[39m \u001b[34mtidyr  \u001b[39m 1.1.3     \u001b[32m✔\u001b[39m \u001b[34mstringr\u001b[39m 1.4.0\n",
      "\u001b[32m✔\u001b[39m \u001b[34mreadr  \u001b[39m 1.4.0     \u001b[32m✔\u001b[39m \u001b[34mforcats\u001b[39m 0.5.1\n",
      "\n",
      "── \u001b[1mConflicts\u001b[22m ────────────────────────────────────────── tidyverse_conflicts() ──\n",
      "\u001b[31m✖\u001b[39m \u001b[34mdplyr\u001b[39m::\u001b[32mfilter()\u001b[39m masks \u001b[34mstats\u001b[39m::filter()\n",
      "\u001b[31m✖\u001b[39m \u001b[34mdplyr\u001b[39m::\u001b[32mlag()\u001b[39m    masks \u001b[34mstats\u001b[39m::lag()\n",
      "\n"
     ]
    }
   ],
   "source": [
    "# Load packages\n",
    "library(tidyverse)\n",
    "library(haven)\n",
    "\n",
    "# Set up sagemaker\n",
    "library(reticulate)\n",
    "sagemaker <- import('sagemaker')\n",
    "session <- sagemaker$Session()\n",
    "\n",
    "# s3 bucket name\n",
    "s3_bucket = \"worldbank-pakistan-data\""
   ]
  },
  {
   "cell_type": "code",
   "execution_count": 2,
   "id": "empirical-degree",
   "metadata": {},
   "outputs": [
    {
     "ename": "ERROR",
     "evalue": "Error in py_call_impl(callable, dots$args, dots$keywords): UnicodeDecodeError: 'utf-8' codec can't decode byte 0xba in position 70: invalid start byte\n\nDetailed traceback: \n  File \"/home/ec2-user/anaconda3/envs/R/lib/python3.9/site-packages/sagemaker/session.py\", line 335, in read_s3_file\n    return s3_object[\"Body\"].read().decode(\"utf-8\")\n\n",
     "output_type": "error",
     "traceback": [
      "Error in py_call_impl(callable, dots$args, dots$keywords): UnicodeDecodeError: 'utf-8' codec can't decode byte 0xba in position 70: invalid start byte\n\nDetailed traceback: \n  File \"/home/ec2-user/anaconda3/envs/R/lib/python3.9/site-packages/sagemaker/session.py\", line 335, in read_s3_file\n    return s3_object[\"Body\"].read().decode(\"utf-8\")\n\nTraceback:\n",
      "1. read_dta(session$read_s3_file(s3_bucket, \"OPM/RawData - Deidentified/bisp_combined_plist.dta\"))",
      "2. readr::datasource(file)",
      "3. session$read_s3_file(s3_bucket, \"OPM/RawData - Deidentified/bisp_combined_plist.dta\")",
      "4. py_call_impl(callable, dots$args, dots$keywords)"
     ]
    }
   ],
   "source": [
    "opm <- read_dta(session$read_s3_file(s3_bucket, 'OPM/RawData - Deidentified/bisp_combined_plist.dta'))"
   ]
  },
  {
   "cell_type": "code",
   "execution_count": 3,
   "id": "opening-scanning",
   "metadata": {},
   "outputs": [
    {
     "ename": "ERROR",
     "evalue": "Error in head(opm): object 'opm' not found\n",
     "output_type": "error",
     "traceback": [
      "Error in head(opm): object 'opm' not found\nTraceback:\n",
      "1. head(opm)"
     ]
    }
   ],
   "source": [
    "head(opm)"
   ]
  },
  {
   "cell_type": "code",
   "execution_count": 34,
   "id": "greek-amino",
   "metadata": {},
   "outputs": [],
   "source": []
  },
  {
   "cell_type": "code",
   "execution_count": 4,
   "id": "essential-support",
   "metadata": {},
   "outputs": [
    {
     "ename": "ERROR",
     "evalue": "Error in py_call_impl(callable, dots$args, dots$keywords): UnicodeDecodeError: 'utf-8' codec can't decode byte 0xba in position 70: invalid start byte\n\nDetailed traceback: \n  File \"/home/ec2-user/anaconda3/envs/R/lib/python3.9/site-packages/sagemaker/session.py\", line 335, in read_s3_file\n    return s3_object[\"Body\"].read().decode(\"utf-8\")\n\n",
     "output_type": "error",
     "traceback": [
      "Error in py_call_impl(callable, dots$args, dots$keywords): UnicodeDecodeError: 'utf-8' codec can't decode byte 0xba in position 70: invalid start byte\n\nDetailed traceback: \n  File \"/home/ec2-user/anaconda3/envs/R/lib/python3.9/site-packages/sagemaker/session.py\", line 335, in read_s3_file\n    return s3_object[\"Body\"].read().decode(\"utf-8\")\n\nTraceback:\n",
      "1. session$read_s3_file(s3_bucket, \"OPM/RawData - Deidentified/bisp_combined_plist.dta\")",
      "2. py_call_impl(callable, dots$args, dots$keywords)"
     ]
    }
   ],
   "source": [
    "opm1 <- session$read_s3_file(s3_bucket, 'OPM/RawData - Deidentified/bisp_combined_plist.dta')"
   ]
  },
  {
   "cell_type": "code",
   "execution_count": 5,
   "id": "appointed-ghost",
   "metadata": {},
   "outputs": [
    {
     "ename": "ERROR",
     "evalue": "Error in eval(expr, envir, enclos): object 'opm1' not found\n",
     "output_type": "error",
     "traceback": [
      "Error in eval(expr, envir, enclos): object 'opm1' not found\nTraceback:\n"
     ]
    }
   ],
   "source": [
    "opm1"
   ]
  },
  {
   "cell_type": "code",
   "execution_count": null,
   "id": "brave-affairs",
   "metadata": {},
   "outputs": [],
   "source": []
  }
 ],
 "metadata": {
  "kernelspec": {
   "display_name": "R",
   "language": "R",
   "name": "ir"
  },
  "language_info": {
   "codemirror_mode": "r",
   "file_extension": ".r",
   "mimetype": "text/x-r-source",
   "name": "R",
   "pygments_lexer": "r",
   "version": "4.0.3"
  }
 },
 "nbformat": 4,
 "nbformat_minor": 5
}
