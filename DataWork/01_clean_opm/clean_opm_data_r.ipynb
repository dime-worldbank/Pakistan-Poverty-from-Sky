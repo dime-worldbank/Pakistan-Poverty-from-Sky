{
 "cells": [
  {
   "cell_type": "markdown",
   "id": "wicked-version",
   "metadata": {},
   "source": [
    "## Clean OPM Data\n",
    "Clean Oxford Policy Management (OPM) survey data. Create Household Level dataframe with  relevant socioeconomic variables __This code is written in R__"
   ]
  },
  {
   "cell_type": "markdown",
   "id": "numeric-inspiration",
   "metadata": {},
   "source": [
    "## Setup"
   ]
  },
  {
   "cell_type": "code",
   "execution_count": 24,
   "id": "colored-kelly",
   "metadata": {},
   "outputs": [],
   "source": [
    "# Load packages\n",
    "library(tidyverse)\n",
    "library(haven)\n",
    "\n",
    "# Set up sagemaker\n",
    "library(reticulate)\n",
    "sagemaker <- import('sagemaker')\n",
    "session <- sagemaker$Session()\n",
    "\n",
    "# s3 bucket name\n",
    "bucket = \"worldbank-pakistan-data\"\n",
    "local_dir = '/home/ec2-user/SageMaker/'"
   ]
  },
  {
   "cell_type": "markdown",
   "id": "solar-postage",
   "metadata": {},
   "source": [
    "## Load Data"
   ]
  },
  {
   "cell_type": "code",
   "execution_count": 22,
   "id": "south-airport",
   "metadata": {},
   "outputs": [],
   "source": [
    "# .dta files can't be loaded directly from s3 (or can they?), so first download locally\n",
    "session$download_data(path = local_dir,\n",
    "              bucket = bucket,\n",
    "              key_prefix = 'OPM/RawData - Deidentified/bisp_combined_plist.dta')\n",
    "\n",
    "session$download_data(path = local_dir,\n",
    "              bucket = bucket,\n",
    "              key_prefix = 'OPM/RawData - Deidentified/UID_pscores.dta')\n",
    "\n",
    "session$download_data(path = file.path(local_dir, 'male'),\n",
    "              bucket = bucket,\n",
    "              key_prefix = 'OPM/RawData - Deidentified/male/06_ModuleL.dta')\n",
    "\n",
    "session$download_data(path = file.path(local_dir, 'female'),\n",
    "              bucket = bucket,\n",
    "              key_prefix = 'OPM/RawData - Deidentified/female/ModuleGPartA.dta')\n",
    "\n",
    "session$download_data(path = file.path(local_dir, 'female'),\n",
    "              bucket = bucket,\n",
    "              key_prefix = 'OPM/RawData - Deidentified/female/ModuleGPartB.dta')\n",
    "\n",
    "session$download_data(path = file.path(local_dir, 'male'),\n",
    "              bucket = bucket,\n",
    "              key_prefix = 'OPM/RawData - Deidentified/male/ModuleGPartB.dta')\n",
    "\n",
    "session$download_data(path = file.path(local_dir, 'male'),\n",
    "              bucket = bucket,\n",
    "              key_prefix = 'OPM/RawData - Deidentified/male/ModuleGPartC.dta')\n",
    "\n",
    "session$download_data(path = file.path(local_dir, 'male'),\n",
    "              bucket = bucket,\n",
    "              key_prefix = 'OPM/RawData - Deidentified/male/ModuleGPartD.dta')"
   ]
  },
  {
   "cell_type": "code",
   "execution_count": 27,
   "id": "underlying-blend",
   "metadata": {},
   "outputs": [],
   "source": [
    "bisp_plist <- read_dta(file.path(local_dir, 'bisp_combined_plist.dta'))\n",
    "bisp_povscore <- read_dta(file.path(local_dir, 'UID_pscores.dta'))\n",
    "\n",
    "bisp_df <- merge(bisp_plist, bisp_povscore, by=c(\"period\", \"uid\"))"
   ]
  },
  {
   "cell_type": "markdown",
   "id": "convertible-substitute",
   "metadata": {},
   "source": [
    "## Clean Main Data"
   ]
  },
  {
   "cell_type": "code",
   "execution_count": 28,
   "id": "introductory-commander",
   "metadata": {},
   "outputs": [
    {
     "name": "stderr",
     "output_type": "stream",
     "text": [
      "`summarise()` has grouped output by 'uid', 'province', 'psu', 'locality', 'period', 'treatment', 'panel', 'present11', 'present13'. You can override using the `.groups` argument.\n",
      "\n"
     ]
    }
   ],
   "source": [
    "names(bisp_df) <- names(bisp_df) %>% tolower\n",
    "bisp_df <- bisp_df %>%\n",
    "  dplyr::rename(days_worked_last_month = cq09,\n",
    "                income_last_month = cq10,\n",
    "                months_worked_last_year = cq11,\n",
    "                income_last_year = cq12) %>%\n",
    "  mutate(adult = aq02 >= 18) %>%\n",
    "  dplyr::select(uid, province, psu, locality, period, treatment, panel, \n",
    "                present11, present13, present13, present16, bispln,\n",
    "                days_worked_last_month, income_last_month,\n",
    "                months_worked_last_year, income_last_year,\n",
    "                pscores, adult) %>%\n",
    "  group_by(uid, province, psu, locality, period, treatment, panel, \n",
    "           present11, present13, present16) %>%\n",
    "  dplyr::summarise(hh_size = n(),\n",
    "                   income_last_month_N_NAs = sum(is.na(income_last_month)), \n",
    "                   income_last_month = sum(income_last_month, na.rm=T),\n",
    "                   income_last_year_N_NAs = sum(is.na(income_last_year)), \n",
    "                   income_last_year = sum(income_last_year, na.rm=T),\n",
    "                   pscores = mean(pscores, na.rm=T),\n",
    "                   N_adults = sum(adult %in% 1),\n",
    "                   N_children = sum(adult %in% 0)) %>%\n",
    "  mutate(year = period %>% as_factor %>% as.character %>% as.numeric,\n",
    "         hh_size = N_adults + N_children) %>%\n",
    "  as.data.frame()"
   ]
  },
  {
   "cell_type": "markdown",
   "id": "outstanding-universe",
   "metadata": {},
   "source": [
    "## Clean and Add Asset Data"
   ]
  },
  {
   "cell_type": "code",
   "execution_count": 31,
   "id": "available-boards",
   "metadata": {},
   "outputs": [],
   "source": [
    "#### Load Data\n",
    "asset_df <- read_dta(file.path(local_dir, 'male', '06_ModuleL.dta'))"
   ]
  },
  {
   "cell_type": "code",
   "execution_count": 30,
   "id": "standard-bridal",
   "metadata": {},
   "outputs": [
    {
     "name": "stderr",
     "output_type": "stream",
     "text": [
      "Warning message:\n",
      "“Values are not uniquely identified; output will contain list-cols.\n",
      "* Use `values_fn = list` to suppress this warning.\n",
      "* Use `values_fn = length` to identify where the duplicates arise\n",
      "* Use `values_fn = {summary_fun}` to summarise duplicates”\n"
     ]
    },
    {
     "ename": "ERROR",
     "evalue": "Error: Can't convert <double> to <list>.\n",
     "output_type": "error",
     "traceback": [
      "Error: Can't convert <double> to <list>.\nTraceback:\n",
      "1. asset_df %>% pivot_wider(id_cols = c(uid, year), names_from = asset, \n .     values_from = own, values_fill = 0)",
      "2. pivot_wider(., id_cols = c(uid, year), names_from = asset, values_from = own, \n .     values_fill = 0)",
      "3. pivot_wider.data.frame(., id_cols = c(uid, year), names_from = asset, \n .     values_from = own, values_fill = 0)",
      "4. pivot_wider_spec(data, spec, !!id_cols, names_repair = names_repair, \n .     values_fill = values_fill, values_fn = values_fn)",
      "5. vec_cast(fill, val)",
      "6. (function () \n . vec_default_cast(x = x, to = to, x_arg = x_arg, to_arg = to_arg, \n .     `vctrs:::from_dispatch` = `vctrs:::from_dispatch`, `vctrs:::df_fallback` = `vctrs:::df_fallback`, \n .     `vctrs:::s3_fallback` = `vctrs:::s3_fallback`))()",
      "7. vec_default_cast(x = x, to = to, x_arg = x_arg, to_arg = to_arg, \n .     `vctrs:::from_dispatch` = `vctrs:::from_dispatch`, `vctrs:::df_fallback` = `vctrs:::df_fallback`, \n .     `vctrs:::s3_fallback` = `vctrs:::s3_fallback`)",
      "8. stop_incompatible_cast(x, to, x_arg = x_arg, to_arg = to_arg, \n .     `vctrs:::from_dispatch` = match_from_dispatch(...))",
      "9. stop_incompatible_type(x = x, y = to, ..., x_arg = x_arg, y_arg = to_arg, \n .     action = \"convert\", details = details, message = message, \n .     class = class)",
      "10. stop_incompatible(x, y, x_arg = x_arg, y_arg = y_arg, details = details, \n  .     ..., message = message, class = c(class, \"vctrs_error_incompatible_type\"))",
      "11. stop_vctrs(message, class = c(class, \"vctrs_error_incompatible\"), \n  .     x = x, y = y, details = details, ...)",
      "12. abort(message, class = c(class, \"vctrs_error\"), ...)",
      "13. signal_abort(cnd)"
     ]
    }
   ],
   "source": [
    "#### Prep Data\n",
    "asset_df <- asset_df %>%\n",
    "  dplyr::mutate(asset = LLN %>% \n",
    "                  as_factor() %>% \n",
    "                  as.character() %>%\n",
    "                  tolower() %>%\n",
    "                  str_replace_all(\"[[:punct:]]\", \"\") %>%\n",
    "                  str_replace_all(\" \", \"_\") %>%\n",
    "                  str_replace_all(\"__\", \"_\"),\n",
    "                own = LNONE %>% \n",
    "                  as_factor() %>% \n",
    "                  as.character(),\n",
    "                year = period %>% as_factor %>% as.character %>% as.numeric) %>%\n",
    "  dplyr::select(uid, year, asset, own)\n",
    "\n",
    "## If not Yes/No, replace with NA (some \"9\"s)\n",
    "asset_df$own[!(asset_df$own %in% c(\"Yes\", \"No\"))] <- NA\n",
    "\n",
    "## Convert to 0/1 [1 = Yes]\n",
    "asset_df$own <- ifelse(asset_df$own == \"Yes\", 1, 0)\n",
    "\n",
    "## Not distinct\n",
    "# For example, uid 22203737 in year 2016 had three rows for \"TV\", where only\n",
    "# in one of rows said \"own.\" Arrange by own, so in cases like this we use\n",
    "# \"1\" (own), not \"0\".\n",
    "asset_df <- asset_df %>%\n",
    "  arrange(desc(own)) %>%\n",
    "  distinct(uid, year, asset, .keep_all = T) \n",
    "\n",
    "## Reshape\n",
    "asset_df <- asset_df %>%\n",
    "  pivot_wider(id_cols = c(uid, year),\n",
    "              names_from = asset,\n",
    "              values_from = own,\n",
    "              values_fill = 0)\n",
    "\n",
    "## Replace NA with 0\n",
    "for(var in names(asset_df)[!names(asset_df) %in% c(\"uid\", \"year\")]){\n",
    "  asset_df[[var]][is.na(asset_df[[var]])] <- 0\n",
    "}\n",
    "\n",
    "#### Rename Asset Variables\n",
    "asset_df <- asset_df %>% rename_at(vars(-uid, -year), ~ paste0(\"asset_\", .))\n",
    "\n",
    "#### PCA Index\n",
    "pca <- asset_df %>%\n",
    "  dplyr::select(-c(uid, year)) %>%\n",
    "  prcomp()\n",
    "\n",
    "asset_df$asset_index_pca1 <- pca$x[,1]\n",
    "asset_df$asset_index_pca2 <- pca$x[,2]\n",
    "asset_df$asset_index_pca3 <- pca$x[,3]\n",
    "asset_df$asset_index_pca4 <- pca$x[,4]\n",
    "asset_df$asset_index_pca5 <- pca$x[,5]\n",
    "\n",
    "#### Addiditive Index\n",
    "asset_df$asset_index_additive <- asset_df %>%\n",
    "  dplyr::select(-c(uid, year, \n",
    "                   asset_index_pca1,\n",
    "                   asset_index_pca2,\n",
    "                   asset_index_pca3,\n",
    "                   asset_index_pca4,\n",
    "                   asset_index_pca5)) %>%\n",
    "  apply(1, sum)\n",
    "\n",
    "#### Subset and Merge Asset Variables\n",
    "## Commented out to keep all the asset variables\n",
    "# asset_df <- asset_df %>%\n",
    "#   dplyr::select(uid, year, \n",
    "#                 asset_index_pca1,\n",
    "#                 asset_index_pca2,\n",
    "#                 asset_index_pca3,\n",
    "#                 asset_index_pca4,\n",
    "#                 asset_index_pca5,\n",
    "#                 asset_index_additive)\n",
    "\n",
    "bisp_df <- merge(bisp_df, asset_df, by = c(\"uid\", \"year\"),\n",
    "                 all.x=T, all.y=T)\n"
   ]
  },
  {
   "cell_type": "markdown",
   "id": "mexican-simon",
   "metadata": {},
   "source": [
    "## Clean and Add Consumption Data"
   ]
  },
  {
   "cell_type": "code",
   "execution_count": null,
   "id": "tutorial-imaging",
   "metadata": {},
   "outputs": [],
   "source": [
    "consum_fm_a <- read_dta(file.path(local_dir, \"female\",  \"ModuleGPartA.dta\")) %>%\n",
    "  dplyr::select(uid, period, v11, v21, v31, v41) %>%\n",
    "  mutate(days = 14)\n",
    "\n",
    "consum_fm_b <- read_dta(file.path(local_dir, \"female\",  \"ModuleGPartB.dta\")) %>%\n",
    "  dplyr::select(uid, period, v11, v21, v31, v41) %>%\n",
    "  mutate(days = 30)\n",
    "\n",
    "consum_ma_b <- read_dta(file.path(local_dir, \"male\",  \"ModuleGPartB.dta\")) %>%\n",
    "  dplyr::select(uid, period, v11, v21, v31, v41) %>%\n",
    "  mutate(days = 30)\n",
    "\n",
    "consum_ma_c <- read_dta(file.path(local_dir, \"male\",  \"ModuleGPartC.dta\")) %>%\n",
    "  dplyr::select(uid, period, v11, v21, v31, v41) %>%\n",
    "  mutate(days = 365)\n",
    "\n",
    "consum_ma_d <- read_dta(file.path(local_dir, \"male\",  \"ModuleGPartD.dta\")) %>%\n",
    "  dplyr::select(uid, period, v11, v21, v31, v41) %>%\n",
    "  mutate(days = 365)"
   ]
  },
  {
   "cell_type": "code",
   "execution_count": null,
   "id": "essential-emphasis",
   "metadata": {},
   "outputs": [],
   "source": [
    "consum_all <- bind_rows(consum_fm_a,\n",
    "                        consum_fm_b,\n",
    "                        consum_ma_b,\n",
    "                        consum_ma_c,\n",
    "                        consum_ma_d)\n",
    "\n",
    "## Total Consumption\n",
    "consum_sum_all <- consum_all %>%\n",
    "  dplyr::select(uid, period, v11, v21, v31, v41, days) %>%\n",
    "  mutate_if(is.numeric, ~replace_na(., 0)) %>%\n",
    "  mutate(consumption_total = v11 + v21 + v31 + v41) %>%\n",
    "  \n",
    "  ## Adjust comsumption based on days reported\n",
    "  mutate(consumption_total = consumption_total*(30/days)) %>%\n",
    "  \n",
    "  ## Aggregate\n",
    "  group_by(uid, period) %>%\n",
    "  dplyr::summarise(consumption_total = sum(consumption_total)) \n",
    "\n",
    "bisp_df <- merge(bisp_df, consum_sum_all, by = c(\"uid\", \"period\"),\n",
    "                 all.x=T, all.y=T)"
   ]
  },
  {
   "cell_type": "markdown",
   "id": "published-moral",
   "metadata": {},
   "source": [
    "## Add Poverty Line"
   ]
  },
  {
   "cell_type": "code",
   "execution_count": null,
   "id": "inside-assignment",
   "metadata": {},
   "outputs": [],
   "source": [
    "# CPI Index\n",
    "# https://fred.stlouisfed.org/series/DDOE01PKA086NWDB\n",
    "# 2011-01-01\t116.18900000000000\n",
    "# 2013-01-01\t136.91300000000000 // 3030.32 Poverty Line\n",
    "# 2014-01-01\t142.79800000000000\n",
    "# 2016-01-01\t152.79700000000000\n",
    "\n",
    "## Poverty Line\n",
    "pov_line_2013 <- 3030.32 \n",
    "pov_line_2011 <- (116.189 / 136.913)*3030.32\n",
    "pov_line_2014 <- (142.798 / 136.913)*3030.32\n",
    "pov_line_2016 <- (152.797 / 136.913)*3030.32\n",
    "\n",
    "bisp_df$pov_line <- NA\n",
    "bisp_df$pov_line[bisp_df$year %in% 2011] <- pov_line_2011\n",
    "bisp_df$pov_line[bisp_df$year %in% 2013] <- pov_line_2013\n",
    "bisp_df$pov_line[bisp_df$year %in% 2014] <- pov_line_2014\n",
    "bisp_df$pov_line[bisp_df$year %in% 2016] <- pov_line_2016"
   ]
  },
  {
   "cell_type": "markdown",
   "id": "crude-rover",
   "metadata": {},
   "source": [
    "## Create Additional Variables"
   ]
  },
  {
   "cell_type": "code",
   "execution_count": 23,
   "id": "coral-singapore",
   "metadata": {},
   "outputs": [
    {
     "ename": "ERROR",
     "evalue": "Error in eval(expr, envir, enclos): object 'bisp_df' not found\n",
     "output_type": "error",
     "traceback": [
      "Error in eval(expr, envir, enclos): object 'bisp_df' not found\nTraceback:\n"
     ]
    }
   ],
   "source": [
    "# Number adult equivalent\n",
    "bisp_df$N_adult_equiv <- bisp_df$N_adults + bisp_df$N_children * 0.8\n",
    "\n",
    "# Consumption per adult equivalent\n",
    "bisp_df$consumption_adult_equiv <- (bisp_df$consumption_total / bisp_df$N_adult_equiv)\n",
    "\n",
    "# Create Survey Round Variables\n",
    "bisp_df$survey_round <- NA\n",
    "bisp_df$survey_round[bisp_df$year %in% 2011] <- 1\n",
    "bisp_df$survey_round[bisp_df$year %in% 2013] <- 2\n",
    "bisp_df$survey_round[bisp_df$year %in% 2014] <- 3\n",
    "bisp_df$survey_round[bisp_df$year %in% 2016] <- 4"
   ]
  },
  {
   "cell_type": "markdown",
   "id": "successful-alert",
   "metadata": {},
   "source": [
    "## Export"
   ]
  },
  {
   "cell_type": "code",
   "execution_count": null,
   "id": "confused-spyware",
   "metadata": {},
   "outputs": [],
   "source": [
    "saveRDS(bisp_df, file.path(project_file_path, \"Data\", \"BISP\", \n",
    "                           \"FinalData\", \"Individual Datasets\", \"bisp_socioeconomic.Rds\"))\n",
    "\n",
    "write.csv(bisp_df, file.path(project_file_path, \"Data\", \"BISP\", \n",
    "                             \"FinalData\", \"Individual Datasets\", \"bisp_socioeconomic.csv\"), \n",
    "          row.names = F)"
   ]
  }
 ],
 "metadata": {
  "kernelspec": {
   "display_name": "R",
   "language": "R",
   "name": "ir"
  },
  "language_info": {
   "codemirror_mode": "r",
   "file_extension": ".r",
   "mimetype": "text/x-r-source",
   "name": "R",
   "pygments_lexer": "r",
   "version": "4.0.3"
  }
 },
 "nbformat": 4,
 "nbformat_minor": 5
}
