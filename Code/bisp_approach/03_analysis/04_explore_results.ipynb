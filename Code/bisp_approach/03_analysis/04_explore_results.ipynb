{
 "cells": [
  {
   "cell_type": "markdown",
   "metadata": {},
   "source": [
    "# Evaluating initial machine learning performance\n",
    "\n",
    "I ran the combined Landsat7-and-household-income data through a large-grid ML pipeline, saving 30% of the original data as test data and recording the resulting $R^2$ values. The full grid parameters are kept in the `GRID_MAIN` variable in `config.py`.\n",
    "\n",
    "This notebook explores results from various models."
   ]
  },
  {
   "cell_type": "code",
   "execution_count": 26,
   "metadata": {},
   "outputs": [],
   "source": [
    "import os\n",
    "import pickle\n",
    "import numpy as np\n",
    "import pandas as pd\n",
    "import matplotlib.pyplot as plt\n",
    "from sklearn.model_selection import train_test_split\n",
    "from sklearn.tree import DecisionTreeRegressor, export_graphviz\n",
    "from sklearn.metrics import r2_score\n",
    "import graphviz\n",
    "\n",
    "import config as cf\n",
    "\n",
    "# Display settings\n",
    "pd.options.display.max_columns = 999\n",
    "pd.options.display.max_colwidth = -1"
   ]
  },
  {
   "cell_type": "markdown",
   "metadata": {},
   "source": [
    "### Load results file"
   ]
  },
  {
   "cell_type": "code",
   "execution_count": 2,
   "metadata": {},
   "outputs": [
    {
     "data": {
      "text/plain": [
       "(1092, 7)"
      ]
     },
     "execution_count": 2,
     "metadata": {},
     "output_type": "execute_result"
    }
   ],
   "source": [
    "RESULTS_PATH = os.path.join('output', 'results.csv')\n",
    "df = pd.read_csv(RESULTS_PATH)\n",
    "df.shape"
   ]
  },
  {
   "cell_type": "code",
   "execution_count": 3,
   "metadata": {},
   "outputs": [
    {
     "data": {
      "text/html": [
       "<div>\n",
       "<style scoped>\n",
       "    .dataframe tbody tr th:only-of-type {\n",
       "        vertical-align: middle;\n",
       "    }\n",
       "\n",
       "    .dataframe tbody tr th {\n",
       "        vertical-align: top;\n",
       "    }\n",
       "\n",
       "    .dataframe thead th {\n",
       "        text-align: right;\n",
       "    }\n",
       "</style>\n",
       "<table border=\"1\" class=\"dataframe\">\n",
       "  <thead>\n",
       "    <tr style=\"text-align: right;\">\n",
       "      <th></th>\n",
       "      <th>Unnamed: 0</th>\n",
       "      <th>regressor</th>\n",
       "      <th>params</th>\n",
       "      <th>features</th>\n",
       "      <th>r2</th>\n",
       "      <th>mse</th>\n",
       "      <th>max_err</th>\n",
       "    </tr>\n",
       "  </thead>\n",
       "  <tbody>\n",
       "    <tr>\n",
       "      <th>0</th>\n",
       "      <td>0</td>\n",
       "      <td>Lasso</td>\n",
       "      <td>{'alpha': 0.01, 'max_iter': 1000.0, 'selection...</td>\n",
       "      <td>DAY_FEATURES</td>\n",
       "      <td>0.002785</td>\n",
       "      <td>2.832462e+12</td>\n",
       "      <td>3.112745e+07</td>\n",
       "    </tr>\n",
       "    <tr>\n",
       "      <th>1</th>\n",
       "      <td>1</td>\n",
       "      <td>Lasso</td>\n",
       "      <td>{'alpha': 0.01, 'max_iter': 1000.0, 'selection...</td>\n",
       "      <td>NIGHT_FEATURES</td>\n",
       "      <td>0.000684</td>\n",
       "      <td>2.838430e+12</td>\n",
       "      <td>3.130330e+07</td>\n",
       "    </tr>\n",
       "    <tr>\n",
       "      <th>2</th>\n",
       "      <td>2</td>\n",
       "      <td>Lasso</td>\n",
       "      <td>{'alpha': 0.01, 'max_iter': 1000.0, 'selection...</td>\n",
       "      <td>ALL_FEATURES</td>\n",
       "      <td>0.002788</td>\n",
       "      <td>2.832455e+12</td>\n",
       "      <td>3.111432e+07</td>\n",
       "    </tr>\n",
       "    <tr>\n",
       "      <th>3</th>\n",
       "      <td>3</td>\n",
       "      <td>Lasso</td>\n",
       "      <td>{'alpha': 0.01, 'max_iter': 1000.0, 'selection...</td>\n",
       "      <td>DAY_FEATURES</td>\n",
       "      <td>0.002978</td>\n",
       "      <td>2.831916e+12</td>\n",
       "      <td>3.112967e+07</td>\n",
       "    </tr>\n",
       "    <tr>\n",
       "      <th>4</th>\n",
       "      <td>4</td>\n",
       "      <td>Lasso</td>\n",
       "      <td>{'alpha': 0.01, 'max_iter': 1000.0, 'selection...</td>\n",
       "      <td>NIGHT_FEATURES</td>\n",
       "      <td>0.000684</td>\n",
       "      <td>2.838430e+12</td>\n",
       "      <td>3.130330e+07</td>\n",
       "    </tr>\n",
       "  </tbody>\n",
       "</table>\n",
       "</div>"
      ],
      "text/plain": [
       "   Unnamed: 0 regressor                                             params  \\\n",
       "0           0     Lasso  {'alpha': 0.01, 'max_iter': 1000.0, 'selection...   \n",
       "1           1     Lasso  {'alpha': 0.01, 'max_iter': 1000.0, 'selection...   \n",
       "2           2     Lasso  {'alpha': 0.01, 'max_iter': 1000.0, 'selection...   \n",
       "3           3     Lasso  {'alpha': 0.01, 'max_iter': 1000.0, 'selection...   \n",
       "4           4     Lasso  {'alpha': 0.01, 'max_iter': 1000.0, 'selection...   \n",
       "\n",
       "         features        r2           mse       max_err  \n",
       "0    DAY_FEATURES  0.002785  2.832462e+12  3.112745e+07  \n",
       "1  NIGHT_FEATURES  0.000684  2.838430e+12  3.130330e+07  \n",
       "2    ALL_FEATURES  0.002788  2.832455e+12  3.111432e+07  \n",
       "3    DAY_FEATURES  0.002978  2.831916e+12  3.112967e+07  \n",
       "4  NIGHT_FEATURES  0.000684  2.838430e+12  3.130330e+07  "
      ]
     },
     "execution_count": 3,
     "metadata": {},
     "output_type": "execute_result"
    }
   ],
   "source": [
    "df.head()"
   ]
  },
  {
   "cell_type": "markdown",
   "metadata": {},
   "source": [
    "### Explore results"
   ]
  },
  {
   "cell_type": "code",
   "execution_count": 4,
   "metadata": {},
   "outputs": [
    {
     "data": {
      "text/html": [
       "<div>\n",
       "<style scoped>\n",
       "    .dataframe tbody tr th:only-of-type {\n",
       "        vertical-align: middle;\n",
       "    }\n",
       "\n",
       "    .dataframe tbody tr th {\n",
       "        vertical-align: top;\n",
       "    }\n",
       "\n",
       "    .dataframe thead th {\n",
       "        text-align: right;\n",
       "    }\n",
       "</style>\n",
       "<table border=\"1\" class=\"dataframe\">\n",
       "  <thead>\n",
       "    <tr style=\"text-align: right;\">\n",
       "      <th></th>\n",
       "      <th>Unnamed: 0</th>\n",
       "      <th>regressor</th>\n",
       "      <th>params</th>\n",
       "      <th>features</th>\n",
       "      <th>r2</th>\n",
       "      <th>mse</th>\n",
       "      <th>max_err</th>\n",
       "    </tr>\n",
       "  </thead>\n",
       "  <tbody>\n",
       "    <tr>\n",
       "      <th>190</th>\n",
       "      <td>190</td>\n",
       "      <td>DecisionTreeRegressor</td>\n",
       "      <td>{'criterion': 'friedman_mse', 'splitter': 'bes...</td>\n",
       "      <td>NIGHT_FEATURES</td>\n",
       "      <td>0.695971</td>\n",
       "      <td>8.635571e+11</td>\n",
       "      <td>20061798.0</td>\n",
       "    </tr>\n",
       "    <tr>\n",
       "      <th>118</th>\n",
       "      <td>118</td>\n",
       "      <td>DecisionTreeRegressor</td>\n",
       "      <td>{'criterion': 'mse', 'splitter': 'best', 'max_...</td>\n",
       "      <td>NIGHT_FEATURES</td>\n",
       "      <td>0.695971</td>\n",
       "      <td>8.635571e+11</td>\n",
       "      <td>20061798.0</td>\n",
       "    </tr>\n",
       "    <tr>\n",
       "      <th>121</th>\n",
       "      <td>121</td>\n",
       "      <td>DecisionTreeRegressor</td>\n",
       "      <td>{'criterion': 'mse', 'splitter': 'best', 'max_...</td>\n",
       "      <td>NIGHT_FEATURES</td>\n",
       "      <td>0.695971</td>\n",
       "      <td>8.635571e+11</td>\n",
       "      <td>20061798.0</td>\n",
       "    </tr>\n",
       "    <tr>\n",
       "      <th>193</th>\n",
       "      <td>193</td>\n",
       "      <td>DecisionTreeRegressor</td>\n",
       "      <td>{'criterion': 'friedman_mse', 'splitter': 'bes...</td>\n",
       "      <td>NIGHT_FEATURES</td>\n",
       "      <td>0.695971</td>\n",
       "      <td>8.635571e+11</td>\n",
       "      <td>20061798.0</td>\n",
       "    </tr>\n",
       "    <tr>\n",
       "      <th>225</th>\n",
       "      <td>225</td>\n",
       "      <td>DecisionTreeRegressor</td>\n",
       "      <td>{'criterion': 'friedman_mse', 'splitter': 'ran...</td>\n",
       "      <td>DAY_FEATURES</td>\n",
       "      <td>0.680805</td>\n",
       "      <td>9.066333e+11</td>\n",
       "      <td>20061798.0</td>\n",
       "    </tr>\n",
       "  </tbody>\n",
       "</table>\n",
       "</div>"
      ],
      "text/plain": [
       "     Unnamed: 0              regressor  \\\n",
       "190         190  DecisionTreeRegressor   \n",
       "118         118  DecisionTreeRegressor   \n",
       "121         121  DecisionTreeRegressor   \n",
       "193         193  DecisionTreeRegressor   \n",
       "225         225  DecisionTreeRegressor   \n",
       "\n",
       "                                                params        features  \\\n",
       "190  {'criterion': 'friedman_mse', 'splitter': 'bes...  NIGHT_FEATURES   \n",
       "118  {'criterion': 'mse', 'splitter': 'best', 'max_...  NIGHT_FEATURES   \n",
       "121  {'criterion': 'mse', 'splitter': 'best', 'max_...  NIGHT_FEATURES   \n",
       "193  {'criterion': 'friedman_mse', 'splitter': 'bes...  NIGHT_FEATURES   \n",
       "225  {'criterion': 'friedman_mse', 'splitter': 'ran...    DAY_FEATURES   \n",
       "\n",
       "           r2           mse     max_err  \n",
       "190  0.695971  8.635571e+11  20061798.0  \n",
       "118  0.695971  8.635571e+11  20061798.0  \n",
       "121  0.695971  8.635571e+11  20061798.0  \n",
       "193  0.695971  8.635571e+11  20061798.0  \n",
       "225  0.680805  9.066333e+11  20061798.0  "
      ]
     },
     "execution_count": 4,
     "metadata": {},
     "output_type": "execute_result"
    }
   ],
   "source": [
    "df.sort_values(by='r2', ascending=False).head()"
   ]
  },
  {
   "cell_type": "markdown",
   "metadata": {},
   "source": [
    "The best-performing models (by $R^2$) were decision tree regression models trained on night-time features.\n",
    "\n",
    "Hyperparameters for the best-performing models involved:\n",
    "- a maximum tree depth of 20 (`max_depth = 20`) \n",
    "- searching sqrt(n) or log2(n) features at each split (`max_features = {sqrt, log2}`)\n",
    "- using mean squared error to determine best non-random splits (`criterion = {mse, friedman_mse}`)"
   ]
  },
  {
   "cell_type": "code",
   "execution_count": 5,
   "metadata": {},
   "outputs": [
    {
     "data": {
      "text/plain": [
       "regressor\n",
       "DecisionTreeRegressor    0.695971\n",
       "BaggingRegressor         0.635201\n",
       "RandomForestRegressor    0.554162\n",
       "LinearRegression         0.003086\n",
       "Lasso                    0.003085\n",
       "Ridge                    0.002697\n",
       "LinearSVR                0.000802\n",
       "Name: r2, dtype: float64"
      ]
     },
     "execution_count": 5,
     "metadata": {},
     "output_type": "execute_result"
    }
   ],
   "source": [
    "# What was the best performance for each model type?\n",
    "df.groupby('regressor')['r2'].max().sort_values(ascending=False)"
   ]
  },
  {
   "cell_type": "markdown",
   "metadata": {},
   "source": [
    "Only bagging, decision tree, and random forest models achieved $R^2$ scores appreciably above 0. \n",
    "\n",
    "Surprisingly, decision trees seem to outperform random forests here. Given how random forests work, this suggests that the problem lies either with bootstrapping features (i.e. useful information is spread across all features such that that we lose info by using subsets) or bootstrapping observations (i.e. our initial dataset is too small for subsets to be useful). "
   ]
  },
  {
   "cell_type": "markdown",
   "metadata": {},
   "source": [
    "### Get feature importances\n",
    "\n",
    "To re-create feature importances, we'll have to re-train the best-performing model."
   ]
  },
  {
   "cell_type": "code",
   "execution_count": 6,
   "metadata": {},
   "outputs": [
    {
     "name": "stdout",
     "output_type": "stream",
     "text": [
      "(3412, 32)\n",
      "(1463, 32)\n",
      "(3412,)\n",
      "(1463,)\n"
     ]
    }
   ],
   "source": [
    "# Load final model data\n",
    "CLEAN_DATA_PATH = os.path.join('output', 'final_data.pkl')\n",
    "with open(CLEAN_DATA_PATH, 'rb') as f:\n",
    "    x_train, x_test, y_train, y_test = pickle.load(f)\n",
    "    \n",
    "# Verify\n",
    "for i in (x_train, x_test, y_train, y_test):\n",
    "    print(i.shape)"
   ]
  },
  {
   "cell_type": "code",
   "execution_count": 7,
   "metadata": {},
   "outputs": [
    {
     "data": {
      "text/plain": [
       "['dmspols_2011', 'viirs_2012', 'dmspols_2011_imputed', 'viirs_2012_imputed']"
      ]
     },
     "execution_count": 7,
     "metadata": {},
     "output_type": "execute_result"
    }
   ],
   "source": [
    "# Verify feature set\n",
    "features = cf.NIGHT_FEATURES\n",
    "features"
   ]
  },
  {
   "cell_type": "code",
   "execution_count": 8,
   "metadata": {},
   "outputs": [
    {
     "data": {
      "text/plain": [
       "{'criterion': 'friedman_mse',\n",
       " 'splitter': 'best',\n",
       " 'max_depth': 20,\n",
       " 'max_features': 'sqrt',\n",
       " 'random_state': 0}"
      ]
     },
     "execution_count": 8,
     "metadata": {},
     "output_type": "execute_result"
    }
   ],
   "source": [
    "# Get parameters \n",
    "params = eval(df.sort_values(by='r2', ascending=False).reset_index().iloc[0]['params'])\n",
    "params"
   ]
  },
  {
   "cell_type": "code",
   "execution_count": 9,
   "metadata": {},
   "outputs": [
    {
     "data": {
      "text/plain": [
       "DecisionTreeRegressor(criterion='friedman_mse', max_depth=20,\n",
       "                      max_features='sqrt', max_leaf_nodes=None,\n",
       "                      min_impurity_decrease=0.0, min_impurity_split=None,\n",
       "                      min_samples_leaf=1, min_samples_split=2,\n",
       "                      min_weight_fraction_leaf=0.0, presort=False,\n",
       "                      random_state=0, splitter='best')"
      ]
     },
     "execution_count": 9,
     "metadata": {},
     "output_type": "execute_result"
    }
   ],
   "source": [
    "# Retrain best tree\n",
    "dt = DecisionTreeRegressor(**params)\n",
    "dt.fit(x_train[features], y_train)"
   ]
  },
  {
   "cell_type": "code",
   "execution_count": 10,
   "metadata": {},
   "outputs": [
    {
     "data": {
      "text/plain": [
       "-0.4502273446300675"
      ]
     },
     "execution_count": 10,
     "metadata": {},
     "output_type": "execute_result"
    }
   ],
   "source": [
    "# Verify this is the model with the highest R2\n",
    "pred_labels = dt.predict(x_test[features])\n",
    "\n",
    "r2_score(y_true=y_test, y_pred=pred_labels)"
   ]
  },
  {
   "cell_type": "code",
   "execution_count": 11,
   "metadata": {},
   "outputs": [
    {
     "data": {
      "text/html": [
       "<div>\n",
       "<style scoped>\n",
       "    .dataframe tbody tr th:only-of-type {\n",
       "        vertical-align: middle;\n",
       "    }\n",
       "\n",
       "    .dataframe tbody tr th {\n",
       "        vertical-align: top;\n",
       "    }\n",
       "\n",
       "    .dataframe thead th {\n",
       "        text-align: right;\n",
       "    }\n",
       "</style>\n",
       "<table border=\"1\" class=\"dataframe\">\n",
       "  <thead>\n",
       "    <tr style=\"text-align: right;\">\n",
       "      <th></th>\n",
       "      <th>feature</th>\n",
       "      <th>importance</th>\n",
       "    </tr>\n",
       "  </thead>\n",
       "  <tbody>\n",
       "    <tr>\n",
       "      <th>0</th>\n",
       "      <td>dmspols_2011</td>\n",
       "      <td>0.104068</td>\n",
       "    </tr>\n",
       "    <tr>\n",
       "      <th>1</th>\n",
       "      <td>viirs_2012</td>\n",
       "      <td>0.895772</td>\n",
       "    </tr>\n",
       "    <tr>\n",
       "      <th>2</th>\n",
       "      <td>dmspols_2011_imputed</td>\n",
       "      <td>0.000160</td>\n",
       "    </tr>\n",
       "    <tr>\n",
       "      <th>3</th>\n",
       "      <td>viirs_2012_imputed</td>\n",
       "      <td>0.000000</td>\n",
       "    </tr>\n",
       "  </tbody>\n",
       "</table>\n",
       "</div>"
      ],
      "text/plain": [
       "                feature  importance\n",
       "0          dmspols_2011    0.104068\n",
       "1            viirs_2012    0.895772\n",
       "2  dmspols_2011_imputed    0.000160\n",
       "3    viirs_2012_imputed    0.000000"
      ]
     },
     "execution_count": 11,
     "metadata": {},
     "output_type": "execute_result"
    }
   ],
   "source": [
    "importance = pd.DataFrame({'feature': features, 'importance': dt.feature_importances_})\n",
    "importance"
   ]
  },
  {
   "cell_type": "markdown",
   "metadata": {},
   "source": [
    "Unsurprisingly, `viirs_2012` seems to be the most important feature in this model."
   ]
  },
  {
   "cell_type": "markdown",
   "metadata": {},
   "source": [
    "### Visualize tree\n",
    "\n",
    "Final decision tree (with max depth 20) is a little too large to display here."
   ]
  },
  {
   "cell_type": "code",
   "execution_count": 23,
   "metadata": {
    "scrolled": false
   },
   "outputs": [],
   "source": [
    "# export_graphviz(dt,\n",
    "#                 out_file=os.path.join('output', 'tree.dot'),\n",
    "#                 feature_names=cf.NIGHT_FEATURES,\n",
    "#                 filled=True)\n",
    "\n",
    "# graphviz.Source.from_file(os.path.join('output', 'tree.dot'))"
   ]
  },
  {
   "cell_type": "markdown",
   "metadata": {},
   "source": [
    "## Models with Daytime features\n",
    "\n",
    "What about models trained on daytime features? Which ones performed best? Which were the most important features?"
   ]
  },
  {
   "cell_type": "code",
   "execution_count": 27,
   "metadata": {},
   "outputs": [
    {
     "data": {
      "text/html": [
       "<div>\n",
       "<style scoped>\n",
       "    .dataframe tbody tr th:only-of-type {\n",
       "        vertical-align: middle;\n",
       "    }\n",
       "\n",
       "    .dataframe tbody tr th {\n",
       "        vertical-align: top;\n",
       "    }\n",
       "\n",
       "    .dataframe thead th {\n",
       "        text-align: right;\n",
       "    }\n",
       "</style>\n",
       "<table border=\"1\" class=\"dataframe\">\n",
       "  <thead>\n",
       "    <tr style=\"text-align: right;\">\n",
       "      <th></th>\n",
       "      <th>Unnamed: 0</th>\n",
       "      <th>regressor</th>\n",
       "      <th>params</th>\n",
       "      <th>features</th>\n",
       "      <th>r2</th>\n",
       "      <th>mse</th>\n",
       "      <th>max_err</th>\n",
       "    </tr>\n",
       "  </thead>\n",
       "  <tbody>\n",
       "    <tr>\n",
       "      <th>225</th>\n",
       "      <td>225</td>\n",
       "      <td>DecisionTreeRegressor</td>\n",
       "      <td>{'criterion': 'friedman_mse', 'splitter': 'random', 'max_depth': 20, 'max_features': 'sqrt', 'random_state': 0}</td>\n",
       "      <td>DAY_FEATURES</td>\n",
       "      <td>0.680805</td>\n",
       "      <td>9.066333e+11</td>\n",
       "      <td>2.006180e+07</td>\n",
       "    </tr>\n",
       "    <tr>\n",
       "      <th>153</th>\n",
       "      <td>153</td>\n",
       "      <td>DecisionTreeRegressor</td>\n",
       "      <td>{'criterion': 'mse', 'splitter': 'random', 'max_depth': 20, 'max_features': 'sqrt', 'random_state': 0}</td>\n",
       "      <td>DAY_FEATURES</td>\n",
       "      <td>0.680805</td>\n",
       "      <td>9.066333e+11</td>\n",
       "      <td>2.006180e+07</td>\n",
       "    </tr>\n",
       "    <tr>\n",
       "      <th>189</th>\n",
       "      <td>189</td>\n",
       "      <td>DecisionTreeRegressor</td>\n",
       "      <td>{'criterion': 'friedman_mse', 'splitter': 'best', 'max_depth': 20, 'max_features': 'sqrt', 'random_state': 0}</td>\n",
       "      <td>DAY_FEATURES</td>\n",
       "      <td>0.656971</td>\n",
       "      <td>9.743306e+11</td>\n",
       "      <td>2.003678e+07</td>\n",
       "    </tr>\n",
       "    <tr>\n",
       "      <th>117</th>\n",
       "      <td>117</td>\n",
       "      <td>DecisionTreeRegressor</td>\n",
       "      <td>{'criterion': 'mse', 'splitter': 'best', 'max_depth': 20, 'max_features': 'sqrt', 'random_state': 0}</td>\n",
       "      <td>DAY_FEATURES</td>\n",
       "      <td>0.656971</td>\n",
       "      <td>9.743306e+11</td>\n",
       "      <td>2.003678e+07</td>\n",
       "    </tr>\n",
       "    <tr>\n",
       "      <th>1083</th>\n",
       "      <td>1083</td>\n",
       "      <td>BaggingRegressor</td>\n",
       "      <td>{'n_estimators': 10000, 'max_features': 0.3, 'random_state': 0, 'n_jobs': -1}</td>\n",
       "      <td>DAY_FEATURES</td>\n",
       "      <td>0.635201</td>\n",
       "      <td>1.036166e+12</td>\n",
       "      <td>1.989730e+07</td>\n",
       "    </tr>\n",
       "  </tbody>\n",
       "</table>\n",
       "</div>"
      ],
      "text/plain": [
       "      Unnamed: 0              regressor  \\\n",
       "225   225         DecisionTreeRegressor   \n",
       "153   153         DecisionTreeRegressor   \n",
       "189   189         DecisionTreeRegressor   \n",
       "117   117         DecisionTreeRegressor   \n",
       "1083  1083        BaggingRegressor        \n",
       "\n",
       "                                                                                                               params  \\\n",
       "225   {'criterion': 'friedman_mse', 'splitter': 'random', 'max_depth': 20, 'max_features': 'sqrt', 'random_state': 0}   \n",
       "153   {'criterion': 'mse', 'splitter': 'random', 'max_depth': 20, 'max_features': 'sqrt', 'random_state': 0}            \n",
       "189   {'criterion': 'friedman_mse', 'splitter': 'best', 'max_depth': 20, 'max_features': 'sqrt', 'random_state': 0}     \n",
       "117   {'criterion': 'mse', 'splitter': 'best', 'max_depth': 20, 'max_features': 'sqrt', 'random_state': 0}              \n",
       "1083  {'n_estimators': 10000, 'max_features': 0.3, 'random_state': 0, 'n_jobs': -1}                                     \n",
       "\n",
       "          features        r2           mse       max_err  \n",
       "225   DAY_FEATURES  0.680805  9.066333e+11  2.006180e+07  \n",
       "153   DAY_FEATURES  0.680805  9.066333e+11  2.006180e+07  \n",
       "189   DAY_FEATURES  0.656971  9.743306e+11  2.003678e+07  \n",
       "117   DAY_FEATURES  0.656971  9.743306e+11  2.003678e+07  \n",
       "1083  DAY_FEATURES  0.635201  1.036166e+12  1.989730e+07  "
      ]
     },
     "execution_count": 27,
     "metadata": {},
     "output_type": "execute_result"
    }
   ],
   "source": [
    "df.loc[df['features'] == 'DAY_FEATURES'] \\\n",
    "    .sort_values(by='r2', ascending=False) \\\n",
    "    .head()"
   ]
  },
  {
   "cell_type": "markdown",
   "metadata": {},
   "source": [
    "The best-performing daytime models (by $R^2$) were also decision trees.\n",
    "\n",
    "Hyperparameters for the best-performing daytime models involved:\n",
    "- a maximum tree depth of 20 (`max_depth = 20`) \n",
    "- searching sqrt(n) features at each split (`max_features = sqrt`)\n",
    "- with random splits (`splitter = random`)"
   ]
  },
  {
   "cell_type": "code",
   "execution_count": 36,
   "metadata": {},
   "outputs": [
    {
     "data": {
      "text/plain": [
       "{'criterion': 'friedman_mse',\n",
       " 'splitter': 'random',\n",
       " 'max_depth': 20,\n",
       " 'max_features': 'sqrt',\n",
       " 'random_state': 0}"
      ]
     },
     "execution_count": 36,
     "metadata": {},
     "output_type": "execute_result"
    }
   ],
   "source": [
    "day_params = eval(df.loc[df['features'] == 'DAY_FEATURES'] \\\n",
    "    .sort_values(by='r2', ascending=False) \\\n",
    "    .reset_index() \\\n",
    "    .iloc[0]['params'])\n",
    "day_params"
   ]
  },
  {
   "cell_type": "code",
   "execution_count": 40,
   "metadata": {},
   "outputs": [
    {
     "data": {
      "text/plain": [
       "DecisionTreeRegressor(criterion='friedman_mse', max_depth=20,\n",
       "                      max_features='sqrt', max_leaf_nodes=None,\n",
       "                      min_impurity_decrease=0.0, min_impurity_split=None,\n",
       "                      min_samples_leaf=1, min_samples_split=2,\n",
       "                      min_weight_fraction_leaf=0.0, presort=False,\n",
       "                      random_state=0, splitter='random')"
      ]
     },
     "execution_count": 40,
     "metadata": {},
     "output_type": "execute_result"
    }
   ],
   "source": [
    "# Retrain best tree\n",
    "day_dt = DecisionTreeRegressor(**day_params)\n",
    "day_dt.fit(x_train[cf.DAY_FEATURES], y_train)"
   ]
  },
  {
   "cell_type": "code",
   "execution_count": 41,
   "metadata": {},
   "outputs": [
    {
     "data": {
      "text/plain": [
       "-1.000808666245904"
      ]
     },
     "execution_count": 41,
     "metadata": {},
     "output_type": "execute_result"
    }
   ],
   "source": [
    "# Verify this is the model with the highest R2\n",
    "day_pred_labels = day_dt.predict(x_test[cf.DAY_FEATURES])\n",
    "\n",
    "r2_score(y_true=y_test, y_pred=day_pred_labels)"
   ]
  },
  {
   "cell_type": "code",
   "execution_count": 44,
   "metadata": {},
   "outputs": [
    {
     "data": {
      "text/html": [
       "<div>\n",
       "<style scoped>\n",
       "    .dataframe tbody tr th:only-of-type {\n",
       "        vertical-align: middle;\n",
       "    }\n",
       "\n",
       "    .dataframe tbody tr th {\n",
       "        vertical-align: top;\n",
       "    }\n",
       "\n",
       "    .dataframe thead th {\n",
       "        text-align: right;\n",
       "    }\n",
       "</style>\n",
       "<table border=\"1\" class=\"dataframe\">\n",
       "  <thead>\n",
       "    <tr style=\"text-align: right;\">\n",
       "      <th></th>\n",
       "      <th>feature</th>\n",
       "      <th>importance</th>\n",
       "    </tr>\n",
       "  </thead>\n",
       "  <tbody>\n",
       "    <tr>\n",
       "      <th>1</th>\n",
       "      <td>l7_2011_2</td>\n",
       "      <td>0.253304</td>\n",
       "    </tr>\n",
       "    <tr>\n",
       "      <th>27</th>\n",
       "      <td>ratio_6_7</td>\n",
       "      <td>0.144409</td>\n",
       "    </tr>\n",
       "    <tr>\n",
       "      <th>23</th>\n",
       "      <td>ratio_4_6</td>\n",
       "      <td>0.114767</td>\n",
       "    </tr>\n",
       "    <tr>\n",
       "      <th>4</th>\n",
       "      <td>l7_2011_5</td>\n",
       "      <td>0.074585</td>\n",
       "    </tr>\n",
       "    <tr>\n",
       "      <th>16</th>\n",
       "      <td>ratio_2_6</td>\n",
       "      <td>0.052273</td>\n",
       "    </tr>\n",
       "  </tbody>\n",
       "</table>\n",
       "</div>"
      ],
      "text/plain": [
       "      feature  importance\n",
       "1   l7_2011_2  0.253304  \n",
       "27  ratio_6_7  0.144409  \n",
       "23  ratio_4_6  0.114767  \n",
       "4   l7_2011_5  0.074585  \n",
       "16  ratio_2_6  0.052273  "
      ]
     },
     "execution_count": 44,
     "metadata": {},
     "output_type": "execute_result"
    }
   ],
   "source": [
    "day_importance = pd.DataFrame({'feature': cf.DAY_FEATURES, 'importance': day_dt.feature_importances_})\n",
    "day_importance.sort_values(by='importance', ascending=False).head()"
   ]
  },
  {
   "cell_type": "markdown",
   "metadata": {},
   "source": [
    "In this model, the Landsat Band 2 (blue) seems to be most important, followed by:\n",
    "- the ratio of Band 6 to Band 7 (SWIR1 and SWIR2)\n",
    "- then the ratio of Band 4 to Band 6 (Red and SWIR1)\n",
    "- then Band 5 (NIR)"
   ]
  }
 ],
 "metadata": {
  "kernelspec": {
   "display_name": "Python 3",
   "language": "python",
   "name": "python3"
  },
  "language_info": {
   "codemirror_mode": {
    "name": "ipython",
    "version": 3
   },
   "file_extension": ".py",
   "mimetype": "text/x-python",
   "name": "python",
   "nbconvert_exporter": "python",
   "pygments_lexer": "ipython3",
   "version": "3.7.1"
  }
 },
 "nbformat": 4,
 "nbformat_minor": 2
}
